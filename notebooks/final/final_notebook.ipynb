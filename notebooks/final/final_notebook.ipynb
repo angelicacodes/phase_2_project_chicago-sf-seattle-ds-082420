{
 "cells": [
  {
   "cell_type": "markdown",
   "metadata": {},
   "source": [
    "# Inferential Insights into King County Housing Prices\n",
    "\n",
    "For this project, our goal is to build a model that provides inferential insights into real-world housing data."
   ]
  },
  {
   "cell_type": "markdown",
   "metadata": {},
   "source": [
    "## PROJECT GOAL\n",
    "\n",
    "Stakeholders in King County, WA have requested statistical analysis to validate several claims about housing prices in the most recent full calendar year, 2019.\n",
    "\n",
    "These claims can be addressed directly with the three datasets (from the King County Department of Assessments) described later in this document:\n",
    "\n",
    "1. Higher square footage increases home sale price?\n",
    "2. Having a porch increases home sale price?\n",
    "3. Having a beachfront or lakefront increases home sale price?\n",
    "4. The presence of a nuisance (power lines, traffic noise, airport noise) decreases home sale price?\n",
    "\n",
    "We will build a linear regression model to represent sales prices in King County, and use it to address these claims as well find other features that have a correlation with  home sale price.\n",
    "\n",
    "We will specifically be focusing on finding what features of a house can increase home sale price and suggest to a house flipper what they can do to add value to a house.\n"
   ]
  },
  {
   "cell_type": "markdown",
   "metadata": {},
   "source": [
    "# Import Libraries"
   ]
  },
  {
   "cell_type": "code",
   "execution_count": 64,
   "metadata": {},
   "outputs": [
    {
     "name": "stdout",
     "output_type": "stream",
     "text": [
      "The autoreload extension is already loaded. To reload it, use:\n",
      "  %reload_ext autoreload\n"
     ]
    }
   ],
   "source": [
    "%load_ext autoreload\n",
    "%autoreload 2\n",
    "\n",
    "import pandas as pd\n",
    "import numpy as np\n",
    "import zipfile\n",
    "import os\n",
    "import sys\n",
    "\n",
    "module_path = os.path.abspath(os.path.join(os.pardir, os.pardir))\n",
    "if module_path not in sys.path:\n",
    "    sys.path.append(module_path)\n",
    "\n",
    "from src import my_functions"
   ]
  },
  {
   "cell_type": "markdown",
   "metadata": {},
   "source": [
    "# Import Data"
   ]
  },
  {
   "cell_type": "code",
   "execution_count": 2,
   "metadata": {
    "scrolled": true
   },
   "outputs": [],
   "source": [
    "# ! wget -P ../../data/raw https://aqua.kingcounty.gov/extranet/assessor/Parcel.zip\n",
    "# ! wget -P ../../data/raw https://aqua.kingcounty.gov/extranet/assessor/Real%20Property%20Sales.zip\n",
    "# ! wget -P ../../data/raw https://aqua.kingcounty.gov/extranet/assessor/Residential%20Building.zip"
   ]
  },
  {
   "cell_type": "code",
   "execution_count": 3,
   "metadata": {},
   "outputs": [],
   "source": [
    "# with zipfile.ZipFile('../../data/raw/Parcel.zip', 'r') as zip_ref:\n",
    "#     zip_ref.extractall('../../data/raw')\n",
    "# with zipfile.ZipFile('../../data/raw/Real Property Sales.zip', 'r') as zip_ref:\n",
    "#     zip_ref.extractall('../../data/raw')\n",
    "# with zipfile.ZipFile('../../data/raw/Residential Building.zip', 'r') as zip_ref:\n",
    "#     zip_ref.extractall('../../data/raw')"
   ]
  },
  {
   "cell_type": "code",
   "execution_count": 4,
   "metadata": {},
   "outputs": [],
   "source": [
    "parcel = pd.read_csv(\"../../data/raw/EXTR_Parcel.csv\", encoding='latin-1')\n",
    "real_property_sales = pd.read_csv(\"../../data/raw/EXTR_RPSale.csv\", encoding='latin-1', low_memory=False)\n",
    "residential_building = pd.read_csv(\"../../data/raw/EXTR_ResBldg.csv\", encoding='latin-1', low_memory=False)"
   ]
  },
  {
   "cell_type": "markdown",
   "metadata": {},
   "source": [
    "# Clean Data and Filter For Needed Info"
   ]
  },
  {
   "cell_type": "markdown",
   "metadata": {},
   "source": [
    "### Property Sales"
   ]
  },
  {
   "cell_type": "code",
   "execution_count": 5,
   "metadata": {},
   "outputs": [],
   "source": [
    "# Real Property Sales\n",
    "# Identifyers are Major and Minor. Relevant data is SalePrice\n",
    "# Clean real_property_sales to have proper values in Minor and Major and change type to int to match other data sets\n",
    "real_property_sales = real_property_sales[['Major', 'Minor', 'SalePrice', 'DocumentDate']]\n",
    "real_property_sales = real_property_sales[(real_property_sales['Major'].str.isdecimal()==True) &\n",
    "                                          (real_property_sales['Minor'].str.isdecimal()==True)]\n",
    "real_property_sales['Major'] = real_property_sales['Major'].astype('int64')\n",
    "real_property_sales['Minor'] = real_property_sales['Minor'].astype('int64')\n",
    "real_property_sales = real_property_sales[real_property_sales['SalePrice']>0]"
   ]
  },
  {
   "cell_type": "markdown",
   "metadata": {},
   "source": [
    "### Parcel"
   ]
  },
  {
   "cell_type": "code",
   "execution_count": 6,
   "metadata": {},
   "outputs": [],
   "source": [
    "# parcel.info()"
   ]
  },
  {
   "cell_type": "code",
   "execution_count": 7,
   "metadata": {},
   "outputs": [],
   "source": [
    "# Parcel Filter for Necessary Columns\n",
    "parcel = parcel[['Major', 'Minor', 'PropType', 'SqFtLot', 'WfntLocation',\n",
    "                 'TrafficNoise', 'AirportNoise', 'PowerLines', 'OtherNuisances',\n",
    "                 'MtRainier', 'Olympics', 'Cascades', 'PugetSound', 'LakeWashington',\n",
    "                 'LakeSammamish', 'SmallLakeRiverCreek','SeattleSkyline']]"
   ]
  },
  {
   "cell_type": "code",
   "execution_count": 8,
   "metadata": {},
   "outputs": [],
   "source": [
    "#Filter for R - residential and K - Condos\n",
    "parcel = parcel[(parcel['PropType']=='R') | (parcel['PropType']=='K')]"
   ]
  },
  {
   "cell_type": "code",
   "execution_count": 9,
   "metadata": {},
   "outputs": [],
   "source": [
    "# Seattle Sky Line column has multiple values so changing to 1 and 0\n",
    "parcel['SeattleSkyline'] = [1 if i>0 else 0 for i in parcel.SeattleSkyline]"
   ]
  },
  {
   "cell_type": "code",
   "execution_count": 10,
   "metadata": {},
   "outputs": [],
   "source": [
    "#Create Nuisances Column combining all nuisances and map 1, 0 values to Y and N for PowerLines and Other Nuisances\n",
    "parcel['Nuisances'] = 'No Nuisances'\n",
    "parcel.loc[(parcel['TrafficNoise']>0), 'Nuisances'] = 'Traffic Noise'\n",
    "parcel.loc[(parcel['AirportNoise']>0), 'Nuisances'] = 'Airport Noise'\n",
    "parcel.loc[(parcel['PowerLines']=='Y'), 'Nuisances'] = 'Power Lines'\n",
    "parcel.loc[(parcel['OtherNuisances']=='Y'), 'Nuisances'] = 'Other Nuisances'\n",
    "parcel['PowerLines'] = parcel['PowerLines'].map({'Y' : 1, 'N' : 0})\n",
    "parcel['OtherNuisances'] = parcel['OtherNuisances'].map({'Y' : 1, 'N' : 0})\n",
    "parcel['Has_Nuisance'] = [0 if n == 'No Nuisances' else 1 for n in parcel['Nuisances']]\n",
    "\n",
    "# Drop Unecessary columns from parcel\n",
    "parcel = parcel.drop(['PropType', 'AirportNoise'], axis='columns')"
   ]
  },
  {
   "cell_type": "code",
   "execution_count": 11,
   "metadata": {},
   "outputs": [],
   "source": [
    "# WFNTLOCATION map to contain water names and create Is_Saterfront column\n",
    "# Waterfront location (Source: King County Assessments)\n",
    "# Value\tDefinition\n",
    "# 0\tUnknown\n",
    "# 1\tDuwamish\n",
    "# 2\tElliott Bay\n",
    "# 3\tPuget Sound\n",
    "# 4\tLake Union\n",
    "# 5\tShip Canal\n",
    "# 6\tLake Washington\n",
    "# 7\tLake Sammamish\n",
    "# 8\tOther lake\n",
    "# 9\tRiver or slough\n",
    "\n",
    "parcel['WaterFrontLocation'] = parcel.WfntLocation.map({0 : 'None', 1 : 'Duwamish', 2 : 'Elliott Bay', 3 : 'Puget Sound', 4 : 'Lake Union',\n",
    "                     5 : 'Ship Canal',  6 : 'Lake Washington', 7 : 'Lake Sammamish', 8 : 'Other lake', 9 : 'River or slough'})\n",
    "parcel['Is_WaterFrontLocation'] = [1 if i>0 else 0 for i in parcel.WfntLocation]\n",
    "parcel=parcel.drop('WfntLocation', axis='columns')"
   ]
  },
  {
   "cell_type": "markdown",
   "metadata": {},
   "source": [
    "### Residential Buiding"
   ]
  },
  {
   "cell_type": "code",
   "execution_count": 12,
   "metadata": {},
   "outputs": [],
   "source": [
    "# residential_building.info()"
   ]
  },
  {
   "cell_type": "code",
   "execution_count": 13,
   "metadata": {},
   "outputs": [],
   "source": [
    "# Residential Buiding Filter For Necessary Columns\n",
    "residential_building = residential_building[['Major', 'Minor', 'ZipCode', 'SqFtTotLiving', 'SqFtOpenPorch',\n",
    "                                             'SqFtEnclosedPorch', 'SqFtFinBasement', 'SqFtGarageAttached',\n",
    "                                             'BldgGrade', 'SqFtDeck']]"
   ]
  },
  {
   "cell_type": "code",
   "execution_count": 14,
   "metadata": {
    "scrolled": true
   },
   "outputs": [],
   "source": [
    "# Create column Has_Porch, Has_OpenPorch, Has_OpenPorch\n",
    "residential_building['Has_Porch']= residential_building['SqFtOpenPorch'] + residential_building['SqFtEnclosedPorch']\n",
    "residential_building['Has_Porch'] = [1  if p>0 else 0 for p in residential_building['Has_Porch']]\n",
    "residential_building['Has_OpenPorch'] = [1  if p>0 else 0 for p in residential_building['SqFtOpenPorch']]\n",
    "residential_building['Has_EnclosedPorch'] = [1  if p>0 else 0 for p in residential_building['SqFtEnclosedPorch']]\n",
    "\n",
    "# Drop Unecessary columns from residential_building\n",
    "residential_building = residential_building.drop(['SqFtOpenPorch', 'SqFtEnclosedPorch'], axis='columns')"
   ]
  },
  {
   "cell_type": "code",
   "execution_count": 15,
   "metadata": {},
   "outputs": [],
   "source": [
    "# Create a column Has_Deck\n",
    "residential_building['Has_Deck'] = [1  if d>0 else 0 for d in residential_building['SqFtDeck']]\n",
    "\n",
    "# Create a column Has_Finished_Basement\n",
    "residential_building['Has_Finished_Basement'] = [1  if b>0 else 0 for b in residential_building['SqFtFinBasement']]\n",
    "\n",
    "# Create a column Has_Attached_Garage\n",
    "residential_building['Has_Attached_Garage'] = [1  if g>0 else 0 for g in residential_building['SqFtGarageAttached']]\n",
    "\n",
    "# Drop Unecessary columns from residential_building\n",
    "residential_building = residential_building.drop(['SqFtDeck', 'SqFtFinBasement', 'SqFtGarageAttached'], axis='columns')"
   ]
  },
  {
   "cell_type": "code",
   "execution_count": 16,
   "metadata": {},
   "outputs": [],
   "source": [
    "# Builing Grade column - remap to make more sense according to description\n",
    "# 1 : 'Poor'\n",
    "# 2 : 'Low',\n",
    "# 3 : 'Fair'\n",
    "# 4 : 'Low-Average'\n",
    "# 5 : 'Average'\n",
    "# 6 : 'Good'\n",
    "# 7 : 'Better'\n",
    "# 8 : 'Very Good'\n",
    "# 9 : 'Cabin',\n",
    "# 10 : 'Excellent'\n",
    "# 11 : 'Luxury'\n",
    "# 12 : 'Mansion'\n",
    "\n",
    "residential_building['BldgGrade'] = residential_building.BldgGrade.map({3 : 1, 4 : 2, 5 : 3,  6 : 4, 7 : 5, 8 : 6, 9 : 7, 10 : 8,\n",
    "                                    1: 9, 11 : 10, 12 : 11, 13 : 12})"
   ]
  },
  {
   "cell_type": "markdown",
   "metadata": {},
   "source": [
    "### Merge Property Sales, parcel, and residential building data"
   ]
  },
  {
   "cell_type": "code",
   "execution_count": 17,
   "metadata": {},
   "outputs": [],
   "source": [
    "# Join all the tables on Major, Minor\n",
    "merged_tables = (parcel.merge(real_property_sales, on = ['Major', 'Minor'])).merge(residential_building, on = ['Major', 'Minor']).drop_duplicates()\n",
    "\n",
    "# Change dates to date time format\n",
    "merged_tables[['Major', 'SqFtLot']].head(20)\n",
    "merged_tables['DocumentDate'] = pd.to_datetime(merged_tables['DocumentDate'])"
   ]
  },
  {
   "cell_type": "code",
   "execution_count": 18,
   "metadata": {},
   "outputs": [
    {
     "data": {
      "text/plain": [
       "(991786, 29)"
      ]
     },
     "execution_count": 18,
     "metadata": {},
     "output_type": "execute_result"
    }
   ],
   "source": [
    "merged_tables.shape"
   ]
  },
  {
   "cell_type": "code",
   "execution_count": 19,
   "metadata": {
    "scrolled": true
   },
   "outputs": [
    {
     "data": {
      "text/plain": [
       "(447186, 29)"
      ]
     },
     "execution_count": 19,
     "metadata": {},
     "output_type": "execute_result"
    }
   ],
   "source": [
    "#Keeping only the most recent Sale_Price For each residence\n",
    "merged_tables = merged_tables.sort_values(by=['Major', 'DocumentDate'])\n",
    "merged_tables.drop_duplicates(subset=['Major', 'Minor'], keep='last', inplace=True)\n",
    "merged_tables.shape"
   ]
  },
  {
   "cell_type": "code",
   "execution_count": 20,
   "metadata": {},
   "outputs": [
    {
     "data": {
      "text/plain": [
       "(28009, 29)"
      ]
     },
     "execution_count": 20,
     "metadata": {},
     "output_type": "execute_result"
    }
   ],
   "source": [
    "# Filtering for only 2019 data\n",
    "start_date = \"2019-1-1\"\n",
    "end_date = \"2019-12-31\"\n",
    "merged_tables = merged_tables.loc[(merged_tables[\"DocumentDate\"] >= start_date) & (merged_tables[\"DocumentDate\"] <= end_date)]\n",
    "\n",
    "merged_tables.shape"
   ]
  },
  {
   "cell_type": "code",
   "execution_count": 21,
   "metadata": {
    "scrolled": true
   },
   "outputs": [],
   "source": [
    "# change dataframe name to df to make life easier\n",
    "df = merged_tables"
   ]
  },
  {
   "cell_type": "code",
   "execution_count": 22,
   "metadata": {
    "scrolled": true
   },
   "outputs": [],
   "source": [
    "# reorder Columns\n",
    "df = df[['Major', 'Minor', 'ZipCode', 'DocumentDate', 'SalePrice', 'SqFtLot', 'SqFtTotLiving',\n",
    "         'Nuisances', 'Has_Nuisance', 'TrafficNoise', 'PowerLines', 'OtherNuisances',\n",
    "         'Is_WaterFrontLocation', 'WaterFrontLocation', 'Has_Porch', 'Has_OpenPorch',\n",
    "         'Has_EnclosedPorch', 'MtRainier', 'Olympics', 'Cascades', 'SeattleSkyline',\n",
    "         'PugetSound', 'LakeWashington', 'LakeSammamish', 'SmallLakeRiverCreek', 'BldgGrade', 'Has_Deck',\n",
    "         'Has_Finished_Basement', 'Has_Attached_Garage']]"
   ]
  },
  {
   "cell_type": "code",
   "execution_count": 23,
   "metadata": {},
   "outputs": [],
   "source": [
    "# Rename Columns\n",
    "df.rename(columns={'MtRainier': 'View_MtRainier', 'Olympics': 'View_Olympics', 'Cascades': 'View_Cascades',\n",
    "                   'PugetSound': 'View_PugetSound', 'LakeWashington': 'View_LakeWashington',\n",
    "                   'LakeSammamish': 'View_LakeSammamish','SmallLakeRiverCreek': 'View_SmallLakeRiverCreek',}, inplace = True)"
   ]
  },
  {
   "cell_type": "code",
   "execution_count": 24,
   "metadata": {},
   "outputs": [],
   "source": [
    "# Clean zipcode column\n",
    "\n",
    "df['ZipCode'] = df['ZipCode'].astype('str')\n",
    "df['ZipCode'] = [None if len(code)<5 else code for code in df['ZipCode']]\n",
    "df = df.sort_values(by=['Major', 'ZipCode'])\n",
    "df['ZipCode'] = df['ZipCode'].fillna(method='ffill')\n",
    "df['ZipCode'] = [code[0:5] for code in df['ZipCode']]"
   ]
  },
  {
   "cell_type": "markdown",
   "metadata": {},
   "source": [
    "# Graphical EDA"
   ]
  },
  {
   "cell_type": "code",
   "execution_count": 25,
   "metadata": {},
   "outputs": [],
   "source": [
    "import matplotlib.pyplot as plt\n",
    "import seaborn as sns\n",
    "import matplotlib as mpl\n",
    "sns.set_style(\"whitegrid\")\n",
    "sns.set_context(\"paper\", font_scale=1.5)"
   ]
  },
  {
   "cell_type": "markdown",
   "metadata": {},
   "source": [
    "### Plot some distributions and box plots and Remove Outliers"
   ]
  },
  {
   "cell_type": "code",
   "execution_count": 26,
   "metadata": {
    "scrolled": true
   },
   "outputs": [
    {
     "data": {
      "image/png": "[encoded data removed]",
      "text/plain": [
       "<Figure size 432x288 with 1 Axes>"
      ]
     },
     "metadata": {},
     "output_type": "display_data"
    }
   ],
   "source": [
    "# Can see this is extremely scewed and data outliers need to be treated\n",
    "sns.distplot(df['SalePrice'], color = \"Pink\");"
   ]
  },
  {
   "cell_type": "code",
   "execution_count": 27,
   "metadata": {},
   "outputs": [
    {
     "data": {
      "image/png": "[encoded data removed]",
      "text/plain": [
       "<Figure size 432x288 with 1 Axes>"
      ]
     },
     "metadata": {},
     "output_type": "display_data"
    }
   ],
   "source": [
    "# Cant even see the pink of the box and we can clearly see one particularly large outlier\n",
    "sns.boxplot(df['SalePrice'], color = \"Pink\");"
   ]
  },
  {
   "cell_type": "code",
   "execution_count": 28,
   "metadata": {},
   "outputs": [],
   "source": [
    "# Treating the outliers to include price range of 10000 to 10050000\n",
    "df2 = df[df['SalePrice'].between(df['SalePrice'].quantile(.004), df['SalePrice'].quantile(.9961))]"
   ]
  },
  {
   "cell_type": "code",
   "execution_count": 29,
   "metadata": {
    "scrolled": true
   },
   "outputs": [
    {
     "name": "stdout",
     "output_type": "stream",
     "text": [
      "Sales Price min:  10000 \n",
      "Sales Price max:  10050000 \n",
      "Sales Price max:  810713.3477290722\n"
     ]
    }
   ],
   "source": [
    "print(\"Sales Price min: \", df2['SalePrice'].min(),\n",
    "      \"\\nSales Price max: \", df2['SalePrice'].max(),\n",
    "      \"\\nSales Price max: \", df2['SalePrice'].mean())"
   ]
  },
  {
   "cell_type": "code",
   "execution_count": 30,
   "metadata": {},
   "outputs": [
    {
     "data": {
      "image/png": "[encoded data removed]",
      "text/plain": [
       "<Figure size 432x288 with 1 Axes>"
      ]
     },
     "metadata": {},
     "output_type": "display_data"
    }
   ],
   "source": [
    "#Plot Sale Price to see if it looks better after treating the outliers\n",
    "chart = sns.distplot(df2['SalePrice']) #, color = \"Purple\")\n",
    "chart.set(xlabel='Sale Price in $ (M=Million)', title='Sale Price Distribuition')\n",
    "chart.set(yticks=[]) \n",
    "xlabels = ['{:,.0f}'.format(x) + 'M' for x in chart.get_xticks()/1000000]\n",
    "chart.set_xticklabels(xlabels)\n",
    "plt.savefig(\"../../reports/figures/Sales_Dist.png\", bbox_inches='tight', dpi=1000)"
   ]
  },
  {
   "cell_type": "markdown",
   "metadata": {},
   "source": [
    "As we can see above, most of the houses fall under $2 million. We chose to include a high range of Sales Prices even though it heavily right skewed the distribution because we wanted to know what features of a house were included in very expensive houses."
   ]
  },
  {
   "cell_type": "code",
   "execution_count": 31,
   "metadata": {},
   "outputs": [
    {
     "data": {
      "image/png": "[encoded data removed]",
      "text/plain": [
       "<Figure size 432x288 with 1 Axes>"
      ]
     },
     "metadata": {},
     "output_type": "display_data"
    }
   ],
   "source": [
    "sns.boxplot(df2['SalePrice'], color = \"Pink\");"
   ]
  },
  {
   "cell_type": "code",
   "execution_count": 32,
   "metadata": {},
   "outputs": [],
   "source": [
    "# Clean index\n",
    "df2=df2.reset_index(drop=True)"
   ]
  },
  {
   "cell_type": "code",
   "execution_count": 33,
   "metadata": {},
   "outputs": [
    {
     "name": "stdout",
     "output_type": "stream",
     "text": [
      "SalePrice                   1.000000\n",
      "BldgGrade                   0.581476\n",
      "SqFtTotLiving               0.571867\n",
      "View_LakeWashington         0.319140\n",
      "Is_WaterFrontLocation       0.216200\n",
      "Has_OpenPorch               0.181793\n",
      "Has_Porch                   0.176378\n",
      "SeattleSkyline              0.156437\n",
      "View_Olympics               0.150045\n",
      "View_LakeSammamish          0.148652\n",
      "Has_Finished_Basement       0.135054\n",
      "View_Cascades               0.109642\n",
      "View_PugetSound             0.098700\n",
      "Has_Deck                    0.091775\n",
      "View_MtRainier              0.064629\n",
      "Minor                       0.048387\n",
      "Has_Attached_Garage         0.042360\n",
      "View_SmallLakeRiverCreek    0.030134\n",
      "SqFtLot                     0.017231\n",
      "OtherNuisances              0.002900\n",
      "TrafficNoise                0.002326\n",
      "Has_Nuisance                0.001070\n",
      "Has_EnclosedPorch          -0.009422\n",
      "PowerLines                 -0.014049\n",
      "Major                      -0.027221\n",
      "Name: SalePrice, dtype: float64\n"
     ]
    }
   ],
   "source": [
    "# Find what Features correlate most with Sale Price and plot some initial EDA visuals\n",
    "corr_matrix = df2.corr()\n",
    "print(corr_matrix[\"SalePrice\"].sort_values(ascending=False))"
   ]
  },
  {
   "cell_type": "code",
   "execution_count": 45,
   "metadata": {
    "scrolled": true
   },
   "outputs": [
    {
     "data": {
      "image/png": "[encoded data removed]",
      "text/plain": [
       "<Figure size 432x288 with 1 Axes>"
      ]
     },
     "metadata": {},
     "output_type": "display_data"
    }
   ],
   "source": [
    "# Building Grade had the highest correlation with Sales Price so we'll start with that\n",
    "fig = sns.barplot('BldgGrade', 'SalePrice', data=df2, palette=\"cool\", alpha = .7)\n",
    "fig.set(xlabel='Building Grade', ylabel='Sale Price in $', title='Average Sale Price per Building Grade')\n",
    "fig.yaxis.set_major_formatter(mpl.ticker.StrMethodFormatter('{x:,.0f}'))\n",
    "fig.xaxis.set_major_formatter(mpl.ticker.StrMethodFormatter('{x:,.0f}'))\n",
    "plt.savefig(\"../../reports/figures/Building_Grade.png\", bbox_inches='tight', dpi=1000)"
   ]
  },
  {
   "cell_type": "markdown",
   "metadata": {},
   "source": [
    "The building grade (the quality of a house) has a high correlation with the sales price so this feature seems like it will be very statistically significant on our model."
   ]
  },
  {
   "cell_type": "code",
   "execution_count": 35,
   "metadata": {},
   "outputs": [
    {
     "data": {
      "image/png": "[encoded data removed]",
      "text/plain": [
       "<Figure size 432x288 with 1 Axes>"
      ]
     },
     "metadata": {},
     "output_type": "display_data"
    }
   ],
   "source": [
    "# Scatter plot of Sq Feet vs Sale Price\n",
    "chart = sns.regplot(x='SqFtTotLiving', y='SalePrice', data=df2,  color = \"Purple\", scatter_kws={'alpha':0.2, 's': 5})\n",
    "chart.set(xlabel='Sqft', ylabel='Sale Price in $', title='Sqft vs Price')\n",
    "chart.yaxis.set_major_formatter(mpl.ticker.StrMethodFormatter('{x:,.0f}'))\n",
    "chart.set(xlim=(0, 8000), ylim=(0, 4000000))\n",
    "plt.savefig(\"../../reports/figures/sqftvsPrice.png\", bbox_inches='tight', dpi=1000)"
   ]
  },
  {
   "cell_type": "markdown",
   "metadata": {},
   "source": [
    "Above we adress claim one: Does higher square footage increase sales price? We can see that it does through this scatter plot and a best fit line.\n",
    "\n",
    "While square feet had quite a high correlation with sale price, however, we cannot include it in our predictive model as it has too much correlation wtih another feature - building grade. The size of the house must be a factor in determining building quality."
   ]
  },
  {
   "cell_type": "code",
   "execution_count": 36,
   "metadata": {},
   "outputs": [
    {
     "data": {
      "image/png": "[encoded data removed]",
      "text/plain": [
       "<Figure size 432x288 with 1 Axes>"
      ]
     },
     "metadata": {},
     "output_type": "display_data"
    }
   ],
   "source": [
    "chart = sns.barplot(df2.Is_WaterFrontLocation, df2.SalePrice, palette=\"GnBu\", alpha = .7)\n",
    "chart.set(xlabel='Is Water Front Location', ylabel='Sale Price in $', title='Average Sale Price for Waterfront vs Not Waterfront')\n",
    "chart.set_xticklabels(['Not Water Front', 'Water Front'])\n",
    "chart.yaxis.set_major_formatter(mpl.ticker.StrMethodFormatter('{x:,.0f}'))\n",
    "plt.savefig(\"../../reports/figures/Is_WaterFront_Loc.png\", bbox_inches='tight', dpi=1000)"
   ]
  },
  {
   "cell_type": "markdown",
   "metadata": {},
   "source": [
    "Now we will adress claim three: Having a beachfront or lakefront increases home sale price? We can see that it clearly does. Waterfront properties are much more expensive on average.\n",
    "\n",
    "We decided to delve deeper into the features."
   ]
  },
  {
   "cell_type": "code",
   "execution_count": 37,
   "metadata": {},
   "outputs": [
    {
     "data": {
      "image/png": "[encoded data removed]",
      "text/plain": [
       "<Figure size 432x288 with 1 Axes>"
      ]
     },
     "metadata": {},
     "output_type": "display_data"
    }
   ],
   "source": [
    "chart = sns.barplot(df2.WaterFrontLocation, df2.SalePrice, palette=\"GnBu\", alpha = .7)\n",
    "chart.set_xticklabels(chart.get_xticklabels(), rotation=45, horizontalalignment='right')\n",
    "chart.set(xlabel='Water Front Location', ylabel='Sale Price in $', title='Average Sale Price for Waterfront Locations')\n",
    "chart.yaxis.set_major_formatter(mpl.ticker.StrMethodFormatter('{x:,.0f}'))\n",
    "plt.savefig(\"../../reports/figures/WaterFront_Loc.png\", bbox_inches='tight', dpi=800)"
   ]
  },
  {
   "cell_type": "markdown",
   "metadata": {},
   "source": [
    "We found that in particular Lake Sammamish and Lake Washington were correlated with high sales prices ."
   ]
  },
  {
   "cell_type": "code",
   "execution_count": 38,
   "metadata": {
    "scrolled": true
   },
   "outputs": [
    {
     "data": {
      "image/png": "[encoded data removed]",
      "text/plain": [
       "<Figure size 432x288 with 1 Axes>"
      ]
     },
     "metadata": {},
     "output_type": "display_data"
    }
   ],
   "source": [
    "fig = sns.barplot(df2['Has_OpenPorch'], df2['SalePrice'], palette=\"Reds\", alpha = .7);\n",
    "fig.set(xlabel='Has Open Porch', ylabel='Sale Price in $', title='Average Sale Price for Open Porch vs No Open Porch')\n",
    "fig.set_xticklabels(['No Open Porch', 'Open Porch'])\n",
    "fig.yaxis.set_major_formatter(mpl.ticker.StrMethodFormatter('{x:,.0f}'))\n",
    "plt.savefig(\"../../reports/figures/Has_Open_Porch.png\", bbox_inches='tight', dpi=1000);"
   ]
  },
  {
   "cell_type": "markdown",
   "metadata": {},
   "source": [
    "Now adressing claim two: Having a porch increases home sale price? It does indeed. The average price of a house with a porch is greater than the average price of a house without a porch.\n",
    "\n",
    "Some more visual explorations:"
   ]
  },
  {
   "cell_type": "code",
   "execution_count": 39,
   "metadata": {},
   "outputs": [
    {
     "data": {
      "image/png": "[encoded data removed]",
      "text/plain": [
       "<Figure size 432x288 with 1 Axes>"
      ]
     },
     "metadata": {},
     "output_type": "display_data"
    }
   ],
   "source": [
    "fig = sns.barplot(df2['Has_Finished_Basement'], df2['SalePrice'], palette=\"Purples\",  alpha = .7)\n",
    "fig.set(xlabel='Has Finished Basement', ylabel='Sale Price in $', title='Average Sale Price for Basement vs No Basement')\n",
    "fig.set_xticklabels(['No Basement', 'Basement'])\n",
    "fig.yaxis.set_major_formatter(mpl.ticker.StrMethodFormatter('{x:,.0f}'))\n",
    "plt.savefig(\"../../reports/figures/Has_Finished_Basement.png\", bbox_inches='tight', dpi=1000)"
   ]
  },
  {
   "cell_type": "code",
   "execution_count": 40,
   "metadata": {},
   "outputs": [
    {
     "data": {
      "image/png": "[encoded data removed]",
      "text/plain": [
       "<Figure size 432x288 with 1 Axes>"
      ]
     },
     "metadata": {},
     "output_type": "display_data"
    }
   ],
   "source": [
    "fig = sns.barplot(df2['Has_Deck'], df2['SalePrice'], palette=\"Blues\",  alpha = .7)\n",
    "fig.set(xlabel='Has Deck', ylabel='Sale Price in $', title='Average Sale Price for Deck vs No Deck')\n",
    "fig.set_xticklabels(['No Deck', 'Deck'])\n",
    "fig.yaxis.set_major_formatter(mpl.ticker.StrMethodFormatter('{x:,.0f}'))\n",
    "plt.savefig(\"../../reports/figures/Has_Deck.png\", bbox_inches='tight', dpi=1000)"
   ]
  },
  {
   "cell_type": "code",
   "execution_count": 41,
   "metadata": {},
   "outputs": [
    {
     "data": {
      "image/png": "[encoded data removed]",
      "text/plain": [
       "<Figure size 432x288 with 1 Axes>"
      ]
     },
     "metadata": {},
     "output_type": "display_data"
    }
   ],
   "source": [
    "fig = sns.barplot(df2['Has_Nuisance'], df2['SalePrice'], palette=\"Greens\",  alpha = .7)\n",
    "fig.set(xlabel='Has Nuisance', ylabel='Sale Price in $', title='Average Sale Price for Nuisance vs No Nuisance')\n",
    "fig.set_xticklabels(['No Nuisance', 'Nuisance'])\n",
    "fig.yaxis.set_major_formatter(mpl.ticker.StrMethodFormatter('{x:,.0f}'))\n",
    "plt.savefig(\"../../reports/figures/Nuisances.png\", bbox_inches='tight', dpi=1000)"
   ]
  },
  {
   "cell_type": "markdown",
   "metadata": {},
   "source": [
    "Lastly we adress claim four: The presence of a nuisance (power lines, traffic noise, airport noise) decreases home sale price?\n",
    "\n",
    "Nuisances don't seem to have much of an effect on Price of House, but we broke down nuisances to further inspect."
   ]
  },
  {
   "cell_type": "code",
   "execution_count": 42,
   "metadata": {},
   "outputs": [
    {
     "data": {
      "image/png": "[encoded data removed]",
      "text/plain": [
       "<Figure size 432x288 with 1 Axes>"
      ]
     },
     "metadata": {},
     "output_type": "display_data"
    }
   ],
   "source": [
    "fig = sns.barplot(df2['Nuisances'], df2['SalePrice'], palette=\"Greens\",  alpha = .7)\n",
    "fig.set(xlabel='Nuisances', ylabel='Sale Price in $', title='Average Sale Price for Nuisances')\n",
    "fig.set_xticklabels(fig.get_xticklabels(), rotation=45, horizontalalignment='right')\n",
    "fig.yaxis.set_major_formatter(mpl.ticker.StrMethodFormatter('{x:,.0f}'))\n",
    "plt.savefig(\"../../reports/figures/Power_Lines.png\", bbox_inches='tight', dpi=800)"
   ]
  },
  {
   "cell_type": "markdown",
   "metadata": {},
   "source": [
    "Aha! While noise and other nuisances dont really affect the sales prices, the presence of power lines do negatively affect the value.\n"
   ]
  },
  {
   "cell_type": "code",
   "execution_count": 65,
   "metadata": {},
   "outputs": [
    {
     "ename": "NameError",
     "evalue": "name 'df2' is not defined",
     "output_type": "error",
     "traceback": [
      "\u001b[0;31m---------------------------------------------------------------------------\u001b[0m",
      "\u001b[0;31mNameError\u001b[0m                                 Traceback (most recent call last)",
      "\u001b[0;32m<ipython-input-65-cdc13190dfe6>\u001b[0m in \u001b[0;36m<module>\u001b[0;34m\u001b[0m\n\u001b[0;32m----> 1\u001b[0;31m \u001b[0mdf2\u001b[0m\u001b[0;34m.\u001b[0m\u001b[0mto_csv\u001b[0m\u001b[0;34m(\u001b[0m\u001b[0;34m'../../data/clean/KingCountyHousingData.csv'\u001b[0m\u001b[0;34m)\u001b[0m\u001b[0;34m\u001b[0m\u001b[0;34m\u001b[0m\u001b[0m\n\u001b[0m",
      "\u001b[0;31mNameError\u001b[0m: name 'df2' is not defined"
     ]
    }
   ],
   "source": [
    "df2.to_csv('../../data/clean/KingCountyHousingData.csv')"
   ]
  },
  {
   "cell_type": "markdown",
   "metadata": {},
   "source": [
    "# Choropleth Map"
   ]
  },
  {
   "cell_type": "code",
   "execution_count": 68,
   "metadata": {},
   "outputs": [],
   "source": [
    "import geopandas as gpd\n",
    "import fiona\n",
    "import folium"
   ]
  },
  {
   "cell_type": "code",
   "execution_count": 70,
   "metadata": {},
   "outputs": [],
   "source": [
    "# !pip install geopandas"
   ]
  },
  {
   "cell_type": "code",
   "execution_count": 69,
   "metadata": {},
   "outputs": [],
   "source": [
    "# Read the data file provided by Clean Data section above\n",
    "\n",
    "data = pd.read_csv(\"../../data/clean/KingCountyHousingData.csv\", index_col = 0)"
   ]
  },
  {
   "cell_type": "code",
   "execution_count": 5,
   "metadata": {},
   "outputs": [
    {
     "data": {
      "text/html": [
       "<div>\n",
       "<style scoped>\n",
       "    .dataframe tbody tr th:only-of-type {\n",
       "        vertical-align: middle;\n",
       "    }\n",
       "\n",
       "    .dataframe tbody tr th {\n",
       "        vertical-align: top;\n",
       "    }\n",
       "\n",
       "    .dataframe thead th {\n",
       "        text-align: right;\n",
       "    }\n",
       "</style>\n",
       "<table border=\"1\" class=\"dataframe\">\n",
       "  <thead>\n",
       "    <tr style=\"text-align: right;\">\n",
       "      <th></th>\n",
       "      <th>Major</th>\n",
       "      <th>Minor</th>\n",
       "      <th>ZipCode</th>\n",
       "      <th>DocumentDate</th>\n",
       "      <th>SalePrice</th>\n",
       "      <th>SqFtLot</th>\n",
       "      <th>SqFtTotLiving</th>\n",
       "      <th>Nuisances</th>\n",
       "      <th>Has_Nuisance</th>\n",
       "      <th>TrafficNoise</th>\n",
       "      <th>...</th>\n",
       "      <th>View_Cascades</th>\n",
       "      <th>SeattleSkyline</th>\n",
       "      <th>View_PugetSound</th>\n",
       "      <th>View_LakeWashington</th>\n",
       "      <th>View_LakeSammamish</th>\n",
       "      <th>View_SmallLakeRiverCreek</th>\n",
       "      <th>BldgGrade</th>\n",
       "      <th>Has_Deck</th>\n",
       "      <th>Has_Finished_Basement</th>\n",
       "      <th>Has_Attached_Garage</th>\n",
       "    </tr>\n",
       "  </thead>\n",
       "  <tbody>\n",
       "    <tr>\n",
       "      <th>0</th>\n",
       "      <td>100</td>\n",
       "      <td>67</td>\n",
       "      <td>98002</td>\n",
       "      <td>2019-04-01</td>\n",
       "      <td>310800</td>\n",
       "      <td>17400</td>\n",
       "      <td>2240</td>\n",
       "      <td>No Nuisances</td>\n",
       "      <td>0</td>\n",
       "      <td>0</td>\n",
       "      <td>...</td>\n",
       "      <td>0</td>\n",
       "      <td>0</td>\n",
       "      <td>0</td>\n",
       "      <td>0</td>\n",
       "      <td>0</td>\n",
       "      <td>0</td>\n",
       "      <td>6.0</td>\n",
       "      <td>0</td>\n",
       "      <td>0</td>\n",
       "      <td>1</td>\n",
       "    </tr>\n",
       "    <tr>\n",
       "      <th>1</th>\n",
       "      <td>100</td>\n",
       "      <td>66</td>\n",
       "      <td>98002</td>\n",
       "      <td>2019-10-22</td>\n",
       "      <td>339000</td>\n",
       "      <td>14500</td>\n",
       "      <td>1200</td>\n",
       "      <td>No Nuisances</td>\n",
       "      <td>0</td>\n",
       "      <td>0</td>\n",
       "      <td>...</td>\n",
       "      <td>0</td>\n",
       "      <td>0</td>\n",
       "      <td>0</td>\n",
       "      <td>0</td>\n",
       "      <td>0</td>\n",
       "      <td>0</td>\n",
       "      <td>5.0</td>\n",
       "      <td>0</td>\n",
       "      <td>0</td>\n",
       "      <td>1</td>\n",
       "    </tr>\n",
       "    <tr>\n",
       "      <th>2</th>\n",
       "      <td>100</td>\n",
       "      <td>42</td>\n",
       "      <td>98002</td>\n",
       "      <td>2019-10-29</td>\n",
       "      <td>485500</td>\n",
       "      <td>6002</td>\n",
       "      <td>2134</td>\n",
       "      <td>No Nuisances</td>\n",
       "      <td>0</td>\n",
       "      <td>0</td>\n",
       "      <td>...</td>\n",
       "      <td>0</td>\n",
       "      <td>0</td>\n",
       "      <td>0</td>\n",
       "      <td>0</td>\n",
       "      <td>0</td>\n",
       "      <td>0</td>\n",
       "      <td>5.0</td>\n",
       "      <td>0</td>\n",
       "      <td>0</td>\n",
       "      <td>1</td>\n",
       "    </tr>\n",
       "    <tr>\n",
       "      <th>3</th>\n",
       "      <td>120</td>\n",
       "      <td>8</td>\n",
       "      <td>98166</td>\n",
       "      <td>2019-05-17</td>\n",
       "      <td>850000</td>\n",
       "      <td>24142</td>\n",
       "      <td>3500</td>\n",
       "      <td>No Nuisances</td>\n",
       "      <td>0</td>\n",
       "      <td>0</td>\n",
       "      <td>...</td>\n",
       "      <td>0</td>\n",
       "      <td>0</td>\n",
       "      <td>0</td>\n",
       "      <td>0</td>\n",
       "      <td>0</td>\n",
       "      <td>0</td>\n",
       "      <td>6.0</td>\n",
       "      <td>1</td>\n",
       "      <td>1</td>\n",
       "      <td>0</td>\n",
       "    </tr>\n",
       "    <tr>\n",
       "      <th>4</th>\n",
       "      <td>140</td>\n",
       "      <td>27</td>\n",
       "      <td>98178</td>\n",
       "      <td>2019-05-28</td>\n",
       "      <td>535000</td>\n",
       "      <td>14208</td>\n",
       "      <td>2170</td>\n",
       "      <td>Traffic Noise</td>\n",
       "      <td>1</td>\n",
       "      <td>1</td>\n",
       "      <td>...</td>\n",
       "      <td>0</td>\n",
       "      <td>0</td>\n",
       "      <td>0</td>\n",
       "      <td>0</td>\n",
       "      <td>0</td>\n",
       "      <td>0</td>\n",
       "      <td>5.0</td>\n",
       "      <td>1</td>\n",
       "      <td>1</td>\n",
       "      <td>0</td>\n",
       "    </tr>\n",
       "  </tbody>\n",
       "</table>\n",
       "<p>5 rows × 29 columns</p>\n",
       "</div>"
      ],
      "text/plain": [
       "   Major  Minor  ZipCode DocumentDate  SalePrice  SqFtLot  SqFtTotLiving  \\\n",
       "0    100     67    98002   2019-04-01     310800    17400           2240   \n",
       "1    100     66    98002   2019-10-22     339000    14500           1200   \n",
       "2    100     42    98002   2019-10-29     485500     6002           2134   \n",
       "3    120      8    98166   2019-05-17     850000    24142           3500   \n",
       "4    140     27    98178   2019-05-28     535000    14208           2170   \n",
       "\n",
       "       Nuisances  Has_Nuisance  TrafficNoise  ...  View_Cascades  \\\n",
       "0   No Nuisances             0             0  ...              0   \n",
       "1   No Nuisances             0             0  ...              0   \n",
       "2   No Nuisances             0             0  ...              0   \n",
       "3   No Nuisances             0             0  ...              0   \n",
       "4  Traffic Noise             1             1  ...              0   \n",
       "\n",
       "   SeattleSkyline  View_PugetSound View_LakeWashington  View_LakeSammamish  \\\n",
       "0               0                0                   0                   0   \n",
       "1               0                0                   0                   0   \n",
       "2               0                0                   0                   0   \n",
       "3               0                0                   0                   0   \n",
       "4               0                0                   0                   0   \n",
       "\n",
       "   View_SmallLakeRiverCreek  BldgGrade  Has_Deck  Has_Finished_Basement  \\\n",
       "0                         0        6.0         0                      0   \n",
       "1                         0        5.0         0                      0   \n",
       "2                         0        5.0         0                      0   \n",
       "3                         0        6.0         1                      1   \n",
       "4                         0        5.0         1                      1   \n",
       "\n",
       "   Has_Attached_Garage  \n",
       "0                    1  \n",
       "1                    1  \n",
       "2                    1  \n",
       "3                    0  \n",
       "4                    0  \n",
       "\n",
       "[5 rows x 29 columns]"
      ]
     },
     "execution_count": 5,
     "metadata": {},
     "output_type": "execute_result"
    }
   ],
   "source": [
    "data.head()"
   ]
  },
  {
   "cell_type": "code",
   "execution_count": 71,
   "metadata": {},
   "outputs": [
    {
     "data": {
      "text/html": [
       "<div>\n",
       "<style scoped>\n",
       "    .dataframe tbody tr th:only-of-type {\n",
       "        vertical-align: middle;\n",
       "    }\n",
       "\n",
       "    .dataframe tbody tr th {\n",
       "        vertical-align: top;\n",
       "    }\n",
       "\n",
       "    .dataframe thead th {\n",
       "        text-align: right;\n",
       "    }\n",
       "</style>\n",
       "<table border=\"1\" class=\"dataframe\">\n",
       "  <thead>\n",
       "    <tr style=\"text-align: right;\">\n",
       "      <th></th>\n",
       "      <th>ZipCode</th>\n",
       "      <th>SalePrice</th>\n",
       "    </tr>\n",
       "  </thead>\n",
       "  <tbody>\n",
       "    <tr>\n",
       "      <th>0</th>\n",
       "      <td>98002</td>\n",
       "      <td>310800</td>\n",
       "    </tr>\n",
       "    <tr>\n",
       "      <th>1</th>\n",
       "      <td>98002</td>\n",
       "      <td>339000</td>\n",
       "    </tr>\n",
       "    <tr>\n",
       "      <th>2</th>\n",
       "      <td>98002</td>\n",
       "      <td>485500</td>\n",
       "    </tr>\n",
       "    <tr>\n",
       "      <th>3</th>\n",
       "      <td>98166</td>\n",
       "      <td>850000</td>\n",
       "    </tr>\n",
       "    <tr>\n",
       "      <th>4</th>\n",
       "      <td>98178</td>\n",
       "      <td>535000</td>\n",
       "    </tr>\n",
       "    <tr>\n",
       "      <th>...</th>\n",
       "      <td>...</td>\n",
       "      <td>...</td>\n",
       "    </tr>\n",
       "    <tr>\n",
       "      <th>27781</th>\n",
       "      <td>98033</td>\n",
       "      <td>3125000</td>\n",
       "    </tr>\n",
       "    <tr>\n",
       "      <th>27782</th>\n",
       "      <td>98055</td>\n",
       "      <td>245000</td>\n",
       "    </tr>\n",
       "    <tr>\n",
       "      <th>27783</th>\n",
       "      <td>98166</td>\n",
       "      <td>1275000</td>\n",
       "    </tr>\n",
       "    <tr>\n",
       "      <th>27784</th>\n",
       "      <td>98166</td>\n",
       "      <td>435000</td>\n",
       "    </tr>\n",
       "    <tr>\n",
       "      <th>27785</th>\n",
       "      <td>98125</td>\n",
       "      <td>650000</td>\n",
       "    </tr>\n",
       "  </tbody>\n",
       "</table>\n",
       "<p>27786 rows × 2 columns</p>\n",
       "</div>"
      ],
      "text/plain": [
       "       ZipCode  SalePrice\n",
       "0        98002     310800\n",
       "1        98002     339000\n",
       "2        98002     485500\n",
       "3        98166     850000\n",
       "4        98178     535000\n",
       "...        ...        ...\n",
       "27781    98033    3125000\n",
       "27782    98055     245000\n",
       "27783    98166    1275000\n",
       "27784    98166     435000\n",
       "27785    98125     650000\n",
       "\n",
       "[27786 rows x 2 columns]"
      ]
     },
     "execution_count": 71,
     "metadata": {},
     "output_type": "execute_result"
    }
   ],
   "source": [
    "# Create data frame that include only data needed for map\n",
    "\n",
    "df_map = data[['ZipCode', 'SalePrice']]\n",
    "df_map"
   ]
  },
  {
   "cell_type": "code",
   "execution_count": 72,
   "metadata": {},
   "outputs": [
    {
     "data": {
      "text/plain": [
       "10050000"
      ]
     },
     "execution_count": 72,
     "metadata": {},
     "output_type": "execute_result"
    }
   ],
   "source": [
    "df_map['SalePrice'].max()"
   ]
  },
  {
   "cell_type": "code",
   "execution_count": 73,
   "metadata": {},
   "outputs": [],
   "source": [
    "# Sort by ZipCode\n",
    "\n",
    "df_map = df_map.sort_values('ZipCode')"
   ]
  },
  {
   "cell_type": "code",
   "execution_count": 74,
   "metadata": {},
   "outputs": [
    {
     "data": {
      "text/html": [
       "<div>\n",
       "<style scoped>\n",
       "    .dataframe tbody tr th:only-of-type {\n",
       "        vertical-align: middle;\n",
       "    }\n",
       "\n",
       "    .dataframe tbody tr th {\n",
       "        vertical-align: top;\n",
       "    }\n",
       "\n",
       "    .dataframe thead th {\n",
       "        text-align: right;\n",
       "    }\n",
       "</style>\n",
       "<table border=\"1\" class=\"dataframe\">\n",
       "  <thead>\n",
       "    <tr style=\"text-align: right;\">\n",
       "      <th></th>\n",
       "      <th>SalePrice</th>\n",
       "    </tr>\n",
       "    <tr>\n",
       "      <th>ZipCode</th>\n",
       "      <th></th>\n",
       "    </tr>\n",
       "  </thead>\n",
       "  <tbody>\n",
       "    <tr>\n",
       "      <th>89045</th>\n",
       "      <td>1.032976e+06</td>\n",
       "    </tr>\n",
       "    <tr>\n",
       "      <th>91844</th>\n",
       "      <td>8.200000e+05</td>\n",
       "    </tr>\n",
       "    <tr>\n",
       "      <th>95059</th>\n",
       "      <td>7.378429e+05</td>\n",
       "    </tr>\n",
       "    <tr>\n",
       "      <th>98001</th>\n",
       "      <td>4.406618e+05</td>\n",
       "    </tr>\n",
       "    <tr>\n",
       "      <th>98002</th>\n",
       "      <td>4.052143e+05</td>\n",
       "    </tr>\n",
       "    <tr>\n",
       "      <th>98003</th>\n",
       "      <td>4.621811e+05</td>\n",
       "    </tr>\n",
       "    <tr>\n",
       "      <th>98004</th>\n",
       "      <td>2.412158e+06</td>\n",
       "    </tr>\n",
       "    <tr>\n",
       "      <th>98005</th>\n",
       "      <td>1.279316e+06</td>\n",
       "    </tr>\n",
       "    <tr>\n",
       "      <th>98006</th>\n",
       "      <td>1.186221e+06</td>\n",
       "    </tr>\n",
       "    <tr>\n",
       "      <th>98007</th>\n",
       "      <td>8.811987e+05</td>\n",
       "    </tr>\n",
       "    <tr>\n",
       "      <th>98008</th>\n",
       "      <td>1.032914e+06</td>\n",
       "    </tr>\n",
       "    <tr>\n",
       "      <th>98010</th>\n",
       "      <td>7.317934e+05</td>\n",
       "    </tr>\n",
       "    <tr>\n",
       "      <th>98011</th>\n",
       "      <td>7.841755e+05</td>\n",
       "    </tr>\n",
       "    <tr>\n",
       "      <th>98012</th>\n",
       "      <td>5.149500e+05</td>\n",
       "    </tr>\n",
       "    <tr>\n",
       "      <th>98013</th>\n",
       "      <td>5.354500e+05</td>\n",
       "    </tr>\n",
       "    <tr>\n",
       "      <th>98014</th>\n",
       "      <td>7.512878e+05</td>\n",
       "    </tr>\n",
       "    <tr>\n",
       "      <th>98018</th>\n",
       "      <td>4.499500e+05</td>\n",
       "    </tr>\n",
       "    <tr>\n",
       "      <th>98019</th>\n",
       "      <td>6.685382e+05</td>\n",
       "    </tr>\n",
       "    <tr>\n",
       "      <th>98022</th>\n",
       "      <td>4.987765e+05</td>\n",
       "    </tr>\n",
       "    <tr>\n",
       "      <th>98023</th>\n",
       "      <td>4.366385e+05</td>\n",
       "    </tr>\n",
       "  </tbody>\n",
       "</table>\n",
       "</div>"
      ],
      "text/plain": [
       "            SalePrice\n",
       "ZipCode              \n",
       "89045    1.032976e+06\n",
       "91844    8.200000e+05\n",
       "95059    7.378429e+05\n",
       "98001    4.406618e+05\n",
       "98002    4.052143e+05\n",
       "98003    4.621811e+05\n",
       "98004    2.412158e+06\n",
       "98005    1.279316e+06\n",
       "98006    1.186221e+06\n",
       "98007    8.811987e+05\n",
       "98008    1.032914e+06\n",
       "98010    7.317934e+05\n",
       "98011    7.841755e+05\n",
       "98012    5.149500e+05\n",
       "98013    5.354500e+05\n",
       "98014    7.512878e+05\n",
       "98018    4.499500e+05\n",
       "98019    6.685382e+05\n",
       "98022    4.987765e+05\n",
       "98023    4.366385e+05"
      ]
     },
     "execution_count": 74,
     "metadata": {},
     "output_type": "execute_result"
    }
   ],
   "source": [
    "df_map_mean = df_map.groupby('ZipCode').mean()\n",
    "df_map_mean.head(20)"
   ]
  },
  {
   "cell_type": "code",
   "execution_count": 75,
   "metadata": {},
   "outputs": [
    {
     "data": {
      "text/plain": [
       "498776.5171717172"
      ]
     },
     "execution_count": 75,
     "metadata": {},
     "output_type": "execute_result"
    }
   ],
   "source": [
    "df_map_mean.at[98022, 'SalePrice']"
   ]
  },
  {
   "cell_type": "code",
   "execution_count": 76,
   "metadata": {},
   "outputs": [
    {
     "data": {
      "text/html": [
       "<div>\n",
       "<style scoped>\n",
       "    .dataframe tbody tr th:only-of-type {\n",
       "        vertical-align: middle;\n",
       "    }\n",
       "\n",
       "    .dataframe tbody tr th {\n",
       "        vertical-align: top;\n",
       "    }\n",
       "\n",
       "    .dataframe thead th {\n",
       "        text-align: right;\n",
       "    }\n",
       "</style>\n",
       "<table border=\"1\" class=\"dataframe\">\n",
       "  <thead>\n",
       "    <tr style=\"text-align: right;\">\n",
       "      <th></th>\n",
       "      <th>SalePrice</th>\n",
       "    </tr>\n",
       "    <tr>\n",
       "      <th>ZIPCODE</th>\n",
       "      <th></th>\n",
       "    </tr>\n",
       "  </thead>\n",
       "  <tbody>\n",
       "    <tr>\n",
       "      <th>89045</th>\n",
       "      <td>1.032976e+06</td>\n",
       "    </tr>\n",
       "    <tr>\n",
       "      <th>91844</th>\n",
       "      <td>8.200000e+05</td>\n",
       "    </tr>\n",
       "    <tr>\n",
       "      <th>95059</th>\n",
       "      <td>7.378429e+05</td>\n",
       "    </tr>\n",
       "    <tr>\n",
       "      <th>98001</th>\n",
       "      <td>4.406618e+05</td>\n",
       "    </tr>\n",
       "    <tr>\n",
       "      <th>98002</th>\n",
       "      <td>4.052143e+05</td>\n",
       "    </tr>\n",
       "    <tr>\n",
       "      <th>...</th>\n",
       "      <td>...</td>\n",
       "    </tr>\n",
       "    <tr>\n",
       "      <th>98288</th>\n",
       "      <td>2.564433e+05</td>\n",
       "    </tr>\n",
       "    <tr>\n",
       "      <th>98302</th>\n",
       "      <td>8.062417e+05</td>\n",
       "    </tr>\n",
       "    <tr>\n",
       "      <th>98354</th>\n",
       "      <td>3.860030e+05</td>\n",
       "    </tr>\n",
       "    <tr>\n",
       "      <th>98405</th>\n",
       "      <td>8.958280e+05</td>\n",
       "    </tr>\n",
       "    <tr>\n",
       "      <th>98812</th>\n",
       "      <td>7.275000e+05</td>\n",
       "    </tr>\n",
       "  </tbody>\n",
       "</table>\n",
       "<p>91 rows × 1 columns</p>\n",
       "</div>"
      ],
      "text/plain": [
       "            SalePrice\n",
       "ZIPCODE              \n",
       "89045    1.032976e+06\n",
       "91844    8.200000e+05\n",
       "95059    7.378429e+05\n",
       "98001    4.406618e+05\n",
       "98002    4.052143e+05\n",
       "...               ...\n",
       "98288    2.564433e+05\n",
       "98302    8.062417e+05\n",
       "98354    3.860030e+05\n",
       "98405    8.958280e+05\n",
       "98812    7.275000e+05\n",
       "\n",
       "[91 rows x 1 columns]"
      ]
     },
     "execution_count": 76,
     "metadata": {},
     "output_type": "execute_result"
    }
   ],
   "source": [
    "df_map_mean.index.name = 'ZIPCODE'\n",
    "df_map_mean"
   ]
  },
  {
   "cell_type": "code",
   "execution_count": 77,
   "metadata": {},
   "outputs": [
    {
     "data": {
      "text/html": [
       "<div>\n",
       "<style scoped>\n",
       "    .dataframe tbody tr th:only-of-type {\n",
       "        vertical-align: middle;\n",
       "    }\n",
       "\n",
       "    .dataframe tbody tr th {\n",
       "        vertical-align: top;\n",
       "    }\n",
       "\n",
       "    .dataframe thead th {\n",
       "        text-align: right;\n",
       "    }\n",
       "</style>\n",
       "<table border=\"1\" class=\"dataframe\">\n",
       "  <thead>\n",
       "    <tr style=\"text-align: right;\">\n",
       "      <th></th>\n",
       "      <th>ZIPCODE</th>\n",
       "      <th>SalePrice</th>\n",
       "    </tr>\n",
       "  </thead>\n",
       "  <tbody>\n",
       "    <tr>\n",
       "      <th>0</th>\n",
       "      <td>89045</td>\n",
       "      <td>1.032976e+06</td>\n",
       "    </tr>\n",
       "    <tr>\n",
       "      <th>1</th>\n",
       "      <td>91844</td>\n",
       "      <td>8.200000e+05</td>\n",
       "    </tr>\n",
       "    <tr>\n",
       "      <th>2</th>\n",
       "      <td>95059</td>\n",
       "      <td>7.378429e+05</td>\n",
       "    </tr>\n",
       "    <tr>\n",
       "      <th>3</th>\n",
       "      <td>98001</td>\n",
       "      <td>4.406618e+05</td>\n",
       "    </tr>\n",
       "    <tr>\n",
       "      <th>4</th>\n",
       "      <td>98002</td>\n",
       "      <td>4.052143e+05</td>\n",
       "    </tr>\n",
       "    <tr>\n",
       "      <th>...</th>\n",
       "      <td>...</td>\n",
       "      <td>...</td>\n",
       "    </tr>\n",
       "    <tr>\n",
       "      <th>86</th>\n",
       "      <td>98288</td>\n",
       "      <td>2.564433e+05</td>\n",
       "    </tr>\n",
       "    <tr>\n",
       "      <th>87</th>\n",
       "      <td>98302</td>\n",
       "      <td>8.062417e+05</td>\n",
       "    </tr>\n",
       "    <tr>\n",
       "      <th>88</th>\n",
       "      <td>98354</td>\n",
       "      <td>3.860030e+05</td>\n",
       "    </tr>\n",
       "    <tr>\n",
       "      <th>89</th>\n",
       "      <td>98405</td>\n",
       "      <td>8.958280e+05</td>\n",
       "    </tr>\n",
       "    <tr>\n",
       "      <th>90</th>\n",
       "      <td>98812</td>\n",
       "      <td>7.275000e+05</td>\n",
       "    </tr>\n",
       "  </tbody>\n",
       "</table>\n",
       "<p>91 rows × 2 columns</p>\n",
       "</div>"
      ],
      "text/plain": [
       "    ZIPCODE     SalePrice\n",
       "0     89045  1.032976e+06\n",
       "1     91844  8.200000e+05\n",
       "2     95059  7.378429e+05\n",
       "3     98001  4.406618e+05\n",
       "4     98002  4.052143e+05\n",
       "..      ...           ...\n",
       "86    98288  2.564433e+05\n",
       "87    98302  8.062417e+05\n",
       "88    98354  3.860030e+05\n",
       "89    98405  8.958280e+05\n",
       "90    98812  7.275000e+05\n",
       "\n",
       "[91 rows x 2 columns]"
      ]
     },
     "execution_count": 77,
     "metadata": {},
     "output_type": "execute_result"
    }
   ],
   "source": [
    "df_map_mean = df_map_mean.reset_index()\n",
    "df_map_mean"
   ]
  },
  {
   "cell_type": "code",
   "execution_count": 78,
   "metadata": {},
   "outputs": [],
   "source": [
    "exclude_zipcode = [89045, 91844, 95059, 98012, 98321, 98354, 98405]"
   ]
  },
  {
   "cell_type": "code",
   "execution_count": 79,
   "metadata": {},
   "outputs": [],
   "source": [
    "df_map_mean1 = df_map_mean[~df_map_mean.isin(exclude_zipcode)]\n",
    "df_map_mean = df_map_mean1.dropna()"
   ]
  },
  {
   "cell_type": "code",
   "execution_count": 80,
   "metadata": {},
   "outputs": [
    {
     "data": {
      "text/html": [
       "<div>\n",
       "<style scoped>\n",
       "    .dataframe tbody tr th:only-of-type {\n",
       "        vertical-align: middle;\n",
       "    }\n",
       "\n",
       "    .dataframe tbody tr th {\n",
       "        vertical-align: top;\n",
       "    }\n",
       "\n",
       "    .dataframe thead th {\n",
       "        text-align: right;\n",
       "    }\n",
       "</style>\n",
       "<table border=\"1\" class=\"dataframe\">\n",
       "  <thead>\n",
       "    <tr style=\"text-align: right;\">\n",
       "      <th></th>\n",
       "      <th>ZIPCODE</th>\n",
       "      <th>SalePrice</th>\n",
       "    </tr>\n",
       "  </thead>\n",
       "  <tbody>\n",
       "    <tr>\n",
       "      <th>3</th>\n",
       "      <td>98001.0</td>\n",
       "      <td>4.406618e+05</td>\n",
       "    </tr>\n",
       "    <tr>\n",
       "      <th>4</th>\n",
       "      <td>98002.0</td>\n",
       "      <td>4.052143e+05</td>\n",
       "    </tr>\n",
       "    <tr>\n",
       "      <th>5</th>\n",
       "      <td>98003.0</td>\n",
       "      <td>4.621811e+05</td>\n",
       "    </tr>\n",
       "    <tr>\n",
       "      <th>6</th>\n",
       "      <td>98004.0</td>\n",
       "      <td>2.412158e+06</td>\n",
       "    </tr>\n",
       "    <tr>\n",
       "      <th>7</th>\n",
       "      <td>98005.0</td>\n",
       "      <td>1.279316e+06</td>\n",
       "    </tr>\n",
       "    <tr>\n",
       "      <th>...</th>\n",
       "      <td>...</td>\n",
       "      <td>...</td>\n",
       "    </tr>\n",
       "    <tr>\n",
       "      <th>84</th>\n",
       "      <td>98199.0</td>\n",
       "      <td>1.129775e+06</td>\n",
       "    </tr>\n",
       "    <tr>\n",
       "      <th>85</th>\n",
       "      <td>98224.0</td>\n",
       "      <td>3.204833e+05</td>\n",
       "    </tr>\n",
       "    <tr>\n",
       "      <th>86</th>\n",
       "      <td>98288.0</td>\n",
       "      <td>2.564433e+05</td>\n",
       "    </tr>\n",
       "    <tr>\n",
       "      <th>87</th>\n",
       "      <td>98302.0</td>\n",
       "      <td>8.062417e+05</td>\n",
       "    </tr>\n",
       "    <tr>\n",
       "      <th>90</th>\n",
       "      <td>98812.0</td>\n",
       "      <td>7.275000e+05</td>\n",
       "    </tr>\n",
       "  </tbody>\n",
       "</table>\n",
       "<p>85 rows × 2 columns</p>\n",
       "</div>"
      ],
      "text/plain": [
       "    ZIPCODE     SalePrice\n",
       "3   98001.0  4.406618e+05\n",
       "4   98002.0  4.052143e+05\n",
       "5   98003.0  4.621811e+05\n",
       "6   98004.0  2.412158e+06\n",
       "7   98005.0  1.279316e+06\n",
       "..      ...           ...\n",
       "84  98199.0  1.129775e+06\n",
       "85  98224.0  3.204833e+05\n",
       "86  98288.0  2.564433e+05\n",
       "87  98302.0  8.062417e+05\n",
       "90  98812.0  7.275000e+05\n",
       "\n",
       "[85 rows x 2 columns]"
      ]
     },
     "execution_count": 80,
     "metadata": {},
     "output_type": "execute_result"
    }
   ],
   "source": [
    "df_map_mean"
   ]
  },
  {
   "cell_type": "code",
   "execution_count": 81,
   "metadata": {},
   "outputs": [
    {
     "data": {
      "text/plain": [
       "85"
      ]
     },
     "execution_count": 81,
     "metadata": {},
     "output_type": "execute_result"
    }
   ],
   "source": [
    "len(df_map_mean)"
   ]
  },
  {
   "cell_type": "code",
   "execution_count": 82,
   "metadata": {},
   "outputs": [],
   "source": [
    "zipfile = \"zip:///Users/romanokonesnikov/Downloads/Zip_Codes-shp.zip/Zip_Codes.shp\""
   ]
  },
  {
   "cell_type": "code",
   "execution_count": 83,
   "metadata": {},
   "outputs": [
    {
     "ename": "DriverError",
     "evalue": "'/vsizip//Users/romanokonesnikov/Downloads/Zip_Codes-shp.zip/Zip_Codes.shp' does not exist in the file system, and is not recognized as a supported dataset name.",
     "output_type": "error",
     "traceback": [
      "\u001b[0;31m---------------------------------------------------------------------------\u001b[0m",
      "\u001b[0;31mCPLE_OpenFailedError\u001b[0m                      Traceback (most recent call last)",
      "\u001b[0;32mfiona/_shim.pyx\u001b[0m in \u001b[0;36mfiona._shim.gdal_open_vector\u001b[0;34m()\u001b[0m\n",
      "\u001b[0;32mfiona/_err.pyx\u001b[0m in \u001b[0;36mfiona._err.exc_wrap_pointer\u001b[0;34m()\u001b[0m\n",
      "\u001b[0;31mCPLE_OpenFailedError\u001b[0m: '/vsizip//Users/romanokonesnikov/Downloads/Zip_Codes-shp.zip/Zip_Codes.shp' does not exist in the file system, and is not recognized as a supported dataset name.",
      "\nDuring handling of the above exception, another exception occurred:\n",
      "\u001b[0;31mDriverError\u001b[0m                               Traceback (most recent call last)",
      "\u001b[0;32m<ipython-input-83-fe88900bdd0b>\u001b[0m in \u001b[0;36m<module>\u001b[0;34m\u001b[0m\n\u001b[0;32m----> 1\u001b[0;31m \u001b[0mdf_zipcode\u001b[0m \u001b[0;34m=\u001b[0m \u001b[0mgpd\u001b[0m\u001b[0;34m.\u001b[0m\u001b[0mread_file\u001b[0m\u001b[0;34m(\u001b[0m\u001b[0mzipfile\u001b[0m\u001b[0;34m)\u001b[0m\u001b[0;34m\u001b[0m\u001b[0;34m\u001b[0m\u001b[0m\n\u001b[0m",
      "\u001b[0;32m/opt/anaconda3/lib/python3.8/site-packages/geopandas/io/file.py\u001b[0m in \u001b[0;36m_read_file\u001b[0;34m(filename, bbox, mask, rows, **kwargs)\u001b[0m\n\u001b[1;32m     94\u001b[0m \u001b[0;34m\u001b[0m\u001b[0m\n\u001b[1;32m     95\u001b[0m     \u001b[0;32mwith\u001b[0m \u001b[0mfiona_env\u001b[0m\u001b[0;34m(\u001b[0m\u001b[0;34m)\u001b[0m\u001b[0;34m:\u001b[0m\u001b[0;34m\u001b[0m\u001b[0;34m\u001b[0m\u001b[0m\n\u001b[0;32m---> 96\u001b[0;31m         \u001b[0;32mwith\u001b[0m \u001b[0mreader\u001b[0m\u001b[0;34m(\u001b[0m\u001b[0mpath_or_bytes\u001b[0m\u001b[0;34m,\u001b[0m \u001b[0;34m**\u001b[0m\u001b[0mkwargs\u001b[0m\u001b[0;34m)\u001b[0m \u001b[0;32mas\u001b[0m \u001b[0mfeatures\u001b[0m\u001b[0;34m:\u001b[0m\u001b[0;34m\u001b[0m\u001b[0;34m\u001b[0m\u001b[0m\n\u001b[0m\u001b[1;32m     97\u001b[0m \u001b[0;34m\u001b[0m\u001b[0m\n\u001b[1;32m     98\u001b[0m             \u001b[0;31m# In a future Fiona release the crs attribute of features will\u001b[0m\u001b[0;34m\u001b[0m\u001b[0;34m\u001b[0m\u001b[0;34m\u001b[0m\u001b[0m\n",
      "\u001b[0;32m/opt/anaconda3/lib/python3.8/site-packages/fiona/env.py\u001b[0m in \u001b[0;36mwrapper\u001b[0;34m(*args, **kwargs)\u001b[0m\n\u001b[1;32m    398\u001b[0m     \u001b[0;32mdef\u001b[0m \u001b[0mwrapper\u001b[0m\u001b[0;34m(\u001b[0m\u001b[0;34m*\u001b[0m\u001b[0margs\u001b[0m\u001b[0;34m,\u001b[0m \u001b[0;34m**\u001b[0m\u001b[0mkwargs\u001b[0m\u001b[0;34m)\u001b[0m\u001b[0;34m:\u001b[0m\u001b[0;34m\u001b[0m\u001b[0;34m\u001b[0m\u001b[0m\n\u001b[1;32m    399\u001b[0m         \u001b[0;32mif\u001b[0m \u001b[0mlocal\u001b[0m\u001b[0;34m.\u001b[0m\u001b[0m_env\u001b[0m\u001b[0;34m:\u001b[0m\u001b[0;34m\u001b[0m\u001b[0;34m\u001b[0m\u001b[0m\n\u001b[0;32m--> 400\u001b[0;31m             \u001b[0;32mreturn\u001b[0m \u001b[0mf\u001b[0m\u001b[0;34m(\u001b[0m\u001b[0;34m*\u001b[0m\u001b[0margs\u001b[0m\u001b[0;34m,\u001b[0m \u001b[0;34m**\u001b[0m\u001b[0mkwargs\u001b[0m\u001b[0;34m)\u001b[0m\u001b[0;34m\u001b[0m\u001b[0;34m\u001b[0m\u001b[0m\n\u001b[0m\u001b[1;32m    401\u001b[0m         \u001b[0;32melse\u001b[0m\u001b[0;34m:\u001b[0m\u001b[0;34m\u001b[0m\u001b[0;34m\u001b[0m\u001b[0m\n\u001b[1;32m    402\u001b[0m             \u001b[0;32mif\u001b[0m \u001b[0misinstance\u001b[0m\u001b[0;34m(\u001b[0m\u001b[0margs\u001b[0m\u001b[0;34m[\u001b[0m\u001b[0;36m0\u001b[0m\u001b[0;34m]\u001b[0m\u001b[0;34m,\u001b[0m \u001b[0mstr\u001b[0m\u001b[0;34m)\u001b[0m\u001b[0;34m:\u001b[0m\u001b[0;34m\u001b[0m\u001b[0;34m\u001b[0m\u001b[0m\n",
      "\u001b[0;32m/opt/anaconda3/lib/python3.8/site-packages/fiona/__init__.py\u001b[0m in \u001b[0;36mopen\u001b[0;34m(fp, mode, driver, schema, crs, encoding, layer, vfs, enabled_drivers, crs_wkt, **kwargs)\u001b[0m\n\u001b[1;32m    254\u001b[0m \u001b[0;34m\u001b[0m\u001b[0m\n\u001b[1;32m    255\u001b[0m         \u001b[0;32mif\u001b[0m \u001b[0mmode\u001b[0m \u001b[0;32min\u001b[0m \u001b[0;34m(\u001b[0m\u001b[0;34m'a'\u001b[0m\u001b[0;34m,\u001b[0m \u001b[0;34m'r'\u001b[0m\u001b[0;34m)\u001b[0m\u001b[0;34m:\u001b[0m\u001b[0;34m\u001b[0m\u001b[0;34m\u001b[0m\u001b[0m\n\u001b[0;32m--> 256\u001b[0;31m             c = Collection(path, mode, driver=driver, encoding=encoding,\n\u001b[0m\u001b[1;32m    257\u001b[0m                            layer=layer, enabled_drivers=enabled_drivers, **kwargs)\n\u001b[1;32m    258\u001b[0m         \u001b[0;32melif\u001b[0m \u001b[0mmode\u001b[0m \u001b[0;34m==\u001b[0m \u001b[0;34m'w'\u001b[0m\u001b[0;34m:\u001b[0m\u001b[0;34m\u001b[0m\u001b[0;34m\u001b[0m\u001b[0m\n",
      "\u001b[0;32m/opt/anaconda3/lib/python3.8/site-packages/fiona/collection.py\u001b[0m in \u001b[0;36m__init__\u001b[0;34m(self, path, mode, driver, schema, crs, encoding, layer, vsi, archive, enabled_drivers, crs_wkt, ignore_fields, ignore_geometry, **kwargs)\u001b[0m\n\u001b[1;32m    162\u001b[0m             \u001b[0;32mif\u001b[0m \u001b[0mself\u001b[0m\u001b[0;34m.\u001b[0m\u001b[0mmode\u001b[0m \u001b[0;34m==\u001b[0m \u001b[0;34m'r'\u001b[0m\u001b[0;34m:\u001b[0m\u001b[0;34m\u001b[0m\u001b[0;34m\u001b[0m\u001b[0m\n\u001b[1;32m    163\u001b[0m                 \u001b[0mself\u001b[0m\u001b[0;34m.\u001b[0m\u001b[0msession\u001b[0m \u001b[0;34m=\u001b[0m \u001b[0mSession\u001b[0m\u001b[0;34m(\u001b[0m\u001b[0;34m)\u001b[0m\u001b[0;34m\u001b[0m\u001b[0;34m\u001b[0m\u001b[0m\n\u001b[0;32m--> 164\u001b[0;31m                 \u001b[0mself\u001b[0m\u001b[0;34m.\u001b[0m\u001b[0msession\u001b[0m\u001b[0;34m.\u001b[0m\u001b[0mstart\u001b[0m\u001b[0;34m(\u001b[0m\u001b[0mself\u001b[0m\u001b[0;34m,\u001b[0m \u001b[0;34m**\u001b[0m\u001b[0mkwargs\u001b[0m\u001b[0;34m)\u001b[0m\u001b[0;34m\u001b[0m\u001b[0;34m\u001b[0m\u001b[0m\n\u001b[0m\u001b[1;32m    165\u001b[0m             \u001b[0;32melif\u001b[0m \u001b[0mself\u001b[0m\u001b[0;34m.\u001b[0m\u001b[0mmode\u001b[0m \u001b[0;32min\u001b[0m \u001b[0;34m(\u001b[0m\u001b[0;34m'a'\u001b[0m\u001b[0;34m,\u001b[0m \u001b[0;34m'w'\u001b[0m\u001b[0;34m)\u001b[0m\u001b[0;34m:\u001b[0m\u001b[0;34m\u001b[0m\u001b[0;34m\u001b[0m\u001b[0m\n\u001b[1;32m    166\u001b[0m                 \u001b[0mself\u001b[0m\u001b[0;34m.\u001b[0m\u001b[0msession\u001b[0m \u001b[0;34m=\u001b[0m \u001b[0mWritingSession\u001b[0m\u001b[0;34m(\u001b[0m\u001b[0;34m)\u001b[0m\u001b[0;34m\u001b[0m\u001b[0;34m\u001b[0m\u001b[0m\n",
      "\u001b[0;32mfiona/ogrext.pyx\u001b[0m in \u001b[0;36mfiona.ogrext.Session.start\u001b[0;34m()\u001b[0m\n",
      "\u001b[0;32mfiona/_shim.pyx\u001b[0m in \u001b[0;36mfiona._shim.gdal_open_vector\u001b[0;34m()\u001b[0m\n",
      "\u001b[0;31mDriverError\u001b[0m: '/vsizip//Users/romanokonesnikov/Downloads/Zip_Codes-shp.zip/Zip_Codes.shp' does not exist in the file system, and is not recognized as a supported dataset name."
     ]
    }
   ],
   "source": [
    "df_zipcode = gpd.read_file(zipfile)"
   ]
  },
  {
   "cell_type": "code",
   "execution_count": 84,
   "metadata": {},
   "outputs": [
    {
     "ename": "NameError",
     "evalue": "name 'df_zipcode' is not defined",
     "output_type": "error",
     "traceback": [
      "\u001b[0;31m---------------------------------------------------------------------------\u001b[0m",
      "\u001b[0;31mNameError\u001b[0m                                 Traceback (most recent call last)",
      "\u001b[0;32m<ipython-input-84-4010530d0213>\u001b[0m in \u001b[0;36m<module>\u001b[0;34m\u001b[0m\n\u001b[0;32m----> 1\u001b[0;31m \u001b[0mdf_zipcode\u001b[0m \u001b[0;34m=\u001b[0m \u001b[0mdf_zipcode\u001b[0m\u001b[0;34m.\u001b[0m\u001b[0msort_values\u001b[0m\u001b[0;34m(\u001b[0m\u001b[0;34m'ZIPCODE'\u001b[0m\u001b[0;34m)\u001b[0m\u001b[0;34m\u001b[0m\u001b[0;34m\u001b[0m\u001b[0m\n\u001b[0m\u001b[1;32m      2\u001b[0m \u001b[0mdf_zipcode\u001b[0m\u001b[0;34m\u001b[0m\u001b[0;34m\u001b[0m\u001b[0m\n",
      "\u001b[0;31mNameError\u001b[0m: name 'df_zipcode' is not defined"
     ]
    }
   ],
   "source": [
    "df_zipcode = df_zipcode.sort_values('ZIPCODE')\n",
    "df_zipcode"
   ]
  },
  {
   "cell_type": "code",
   "execution_count": 85,
   "metadata": {},
   "outputs": [
    {
     "ename": "NameError",
     "evalue": "name 'df_zipcode' is not defined",
     "output_type": "error",
     "traceback": [
      "\u001b[0;31m---------------------------------------------------------------------------\u001b[0m",
      "\u001b[0;31mNameError\u001b[0m                                 Traceback (most recent call last)",
      "\u001b[0;32m<ipython-input-85-66c959cbea32>\u001b[0m in \u001b[0;36m<module>\u001b[0;34m\u001b[0m\n\u001b[0;32m----> 1\u001b[0;31m \u001b[0mdf_zipcode\u001b[0m\u001b[0;34m[\u001b[0m\u001b[0;34m'ZIPCODE'\u001b[0m\u001b[0;34m]\u001b[0m \u001b[0;34m=\u001b[0m \u001b[0mdf_zipcode\u001b[0m\u001b[0;34m[\u001b[0m\u001b[0;34m'ZIPCODE'\u001b[0m\u001b[0;34m]\u001b[0m\u001b[0;34m.\u001b[0m\u001b[0mastype\u001b[0m\u001b[0;34m(\u001b[0m\u001b[0mint\u001b[0m\u001b[0;34m)\u001b[0m\u001b[0;34m\u001b[0m\u001b[0;34m\u001b[0m\u001b[0m\n\u001b[0m",
      "\u001b[0;31mNameError\u001b[0m: name 'df_zipcode' is not defined"
     ]
    }
   ],
   "source": [
    "df_zipcode['ZIPCODE'] = df_zipcode['ZIPCODE'].astype(int)"
   ]
  },
  {
   "cell_type": "code",
   "execution_count": 86,
   "metadata": {},
   "outputs": [
    {
     "ename": "NameError",
     "evalue": "name 'df_zipcode' is not defined",
     "output_type": "error",
     "traceback": [
      "\u001b[0;31m---------------------------------------------------------------------------\u001b[0m",
      "\u001b[0;31mNameError\u001b[0m                                 Traceback (most recent call last)",
      "\u001b[0;32m<ipython-input-86-031e66fee08d>\u001b[0m in \u001b[0;36m<module>\u001b[0;34m\u001b[0m\n\u001b[0;32m----> 1\u001b[0;31m \u001b[0mdf_map_choropleth\u001b[0m \u001b[0;34m=\u001b[0m \u001b[0mdf_zipcode\u001b[0m\u001b[0;34m.\u001b[0m\u001b[0mmerge\u001b[0m\u001b[0;34m(\u001b[0m\u001b[0mdf_map_mean\u001b[0m\u001b[0;34m,\u001b[0m \u001b[0mon\u001b[0m\u001b[0;34m=\u001b[0m\u001b[0;34m'ZIPCODE'\u001b[0m\u001b[0;34m)\u001b[0m\u001b[0;34m\u001b[0m\u001b[0;34m\u001b[0m\u001b[0m\n\u001b[0m\u001b[1;32m      2\u001b[0m \u001b[0mdf_map_choropleth\u001b[0m\u001b[0;34m\u001b[0m\u001b[0;34m\u001b[0m\u001b[0m\n",
      "\u001b[0;31mNameError\u001b[0m: name 'df_zipcode' is not defined"
     ]
    }
   ],
   "source": [
    "df_map_choropleth = df_zipcode.merge(df_map_mean, on='ZIPCODE')\n",
    "df_map_choropleth"
   ]
  },
  {
   "cell_type": "code",
   "execution_count": null,
   "metadata": {},
   "outputs": [],
   "source": [
    "# King County coordinates\n",
    "\n",
    "coordinates = [47.5480, -121.9836]\n",
    "# 47.5480° N, 121.9836° W\n",
    "kc_latitude = coordinates[0]\n",
    "kc_longitude = coordinates[1]"
   ]
  },
  {
   "cell_type": "code",
   "execution_count": null,
   "metadata": {},
   "outputs": [],
   "source": [
    "tooltip_text = []\n",
    "for i in range(len(df_map_choropleth)):\n",
    "    tooltip_text.append('$' + str(round(df_map_choropleth['SalePrice'][i], 2)))\n",
    "tooltip_text\n",
    "   "
   ]
  },
  {
   "cell_type": "code",
   "execution_count": null,
   "metadata": {},
   "outputs": [],
   "source": [
    "df_map_choropleth = df_map_choropleth.assign(C=tooltip_text)\n",
    "df_map_choropleth"
   ]
  },
  {
   "cell_type": "code",
   "execution_count": null,
   "metadata": {},
   "outputs": [],
   "source": [
    "# Create .geojson file\n",
    "\n",
    "df_map_choropleth.to_file(\"zipcode_map.geojson\", driver='GeoJSON')"
   ]
  },
  {
   "cell_type": "code",
   "execution_count": null,
   "metadata": {},
   "outputs": [],
   "source": [
    "# Access the .geojson file\n",
    "\n",
    "overlay = os.path.join('zipcode_map.geojson')"
   ]
  },
  {
   "cell_type": "code",
   "execution_count": null,
   "metadata": {},
   "outputs": [],
   "source": [
    "KC_WA_map = folium.Map([kc_latitude, kc_longitude])\n",
    "\n",
    "choropleth = folium.Choropleth(\n",
    "    geo_data=overlay, \n",
    "    #name='choropleth',\n",
    "    data=df_map_choropleth,\n",
    "    columns=('ZIPCODE', 'SalePrice'),\n",
    "    key_on='feature.properties.ZIPCODE',\n",
    "    fill_color='YlOrBr',\n",
    "    fill_opacity=0.8,\n",
    "    nan_fill_color='black',\n",
    "    nan_fill_opacity=0.4,\n",
    "    #line_weight=2,\n",
    "    line_opacity=0.2,\n",
    "    legend_name='Sale Price per ZipCode in King County, WA',\n",
    "    highlight=True,\n",
    "    reset=True\n",
    ").add_to(KC_WA_map)\n",
    "\n",
    "folium.LayerControl().add_to(KC_WA_map)\n",
    "\n",
    "\n",
    "# Display Region Label\n",
    "choropleth.geojson.add_child(folium.features.GeoJsonTooltip(['ZIPCODE', 'C'], labels=False))\n"
   ]
  },
  {
   "cell_type": "code",
   "execution_count": null,
   "metadata": {},
   "outputs": [],
   "source": [
    "KC_WA_map"
   ]
  },
  {
   "cell_type": "code",
   "execution_count": null,
   "metadata": {},
   "outputs": [],
   "source": [
    "#Generate map\n",
    "\n",
    "KC_WA_map.save('King_County_WA_map.html')"
   ]
  },
  {
   "cell_type": "code",
   "execution_count": null,
   "metadata": {},
   "outputs": [],
   "source": []
  },
  {
   "cell_type": "markdown",
   "metadata": {},
   "source": [
    "# Modeling"
   ]
  },
  {
   "cell_type": "markdown",
   "metadata": {},
   "source": [
    "## Import Libraries\n"
   ]
  },
  {
   "cell_type": "code",
   "execution_count": 4,
   "metadata": {},
   "outputs": [],
   "source": [
    "import matplotlib.pyplot as plt\n",
    "%matplotlib inline\n",
    "import seaborn as sns\n",
    "\n",
    "from statsmodels.formula.api import ols\n",
    "from statsmodels.stats.outliers_influence import variance_inflation_factor\n",
    "import statsmodels.api as sm\n",
    "from statsmodels.stats.diagnostic import linear_rainbow, het_breuschpagan\n",
    "\n",
    "import scipy.stats as stats\n",
    "\n",
    "from sklearn.preprocessing import LabelEncoder\n",
    "from sklearn.linear_model import LinearRegression"
   ]
  },
  {
   "cell_type": "markdown",
   "metadata": {},
   "source": [
    "## Data Pre-Processing\n",
    "\n",
    "#### The data was pulled, organized, and cleaned in the data engineering and EDA phase.  In the modeling phase, we broke out some of the features into their own columns to better understand the signficance of that type of feature. These were their own data frames, which we then merged with the main data frame to begin initial models."
   ]
  },
  {
   "cell_type": "code",
   "execution_count": 5,
   "metadata": {},
   "outputs": [
    {
     "name": "stdout",
     "output_type": "stream",
     "text": [
      "<class 'pandas.core.frame.DataFrame'>\n",
      "RangeIndex: 27786 entries, 0 to 27785\n",
      "Data columns (total 30 columns):\n",
      " #   Column                    Non-Null Count  Dtype  \n",
      "---  ------                    --------------  -----  \n",
      " 0   Unnamed: 0                27786 non-null  int64  \n",
      " 1   Major                     27786 non-null  int64  \n",
      " 2   Minor                     27786 non-null  int64  \n",
      " 3   ZipCode                   27786 non-null  int64  \n",
      " 4   DocumentDate              27786 non-null  object \n",
      " 5   SalePrice                 27786 non-null  int64  \n",
      " 6   SqFtLot                   27786 non-null  int64  \n",
      " 7   SqFtTotLiving             27786 non-null  int64  \n",
      " 8   Nuisances                 27786 non-null  object \n",
      " 9   Has_Nuisance              27786 non-null  int64  \n",
      " 10  TrafficNoise              27786 non-null  int64  \n",
      " 11  PowerLines                27786 non-null  int64  \n",
      " 12  OtherNuisances            27786 non-null  int64  \n",
      " 13  Is_WaterFrontLocation     27786 non-null  int64  \n",
      " 14  WaterFrontLocation        27786 non-null  object \n",
      " 15  Has_Porch                 27786 non-null  int64  \n",
      " 16  Has_OpenPorch             27786 non-null  int64  \n",
      " 17  Has_EnclosedPorch         27786 non-null  int64  \n",
      " 18  View_MtRainier            27786 non-null  int64  \n",
      " 19  View_Olympics             27786 non-null  int64  \n",
      " 20  View_Cascades             27786 non-null  int64  \n",
      " 21  SeattleSkyline            27786 non-null  int64  \n",
      " 22  View_PugetSound           27786 non-null  int64  \n",
      " 23  View_LakeWashington       27786 non-null  int64  \n",
      " 24  View_LakeSammamish        27786 non-null  int64  \n",
      " 25  View_SmallLakeRiverCreek  27786 non-null  int64  \n",
      " 26  BldgGrade                 27786 non-null  float64\n",
      " 27  Has_Deck                  27786 non-null  int64  \n",
      " 28  Has_Finished_Basement     27786 non-null  int64  \n",
      " 29  Has_Attached_Garage       27786 non-null  int64  \n",
      "dtypes: float64(1), int64(26), object(3)\n",
      "memory usage: 6.4+ MB\n"
     ]
    }
   ],
   "source": [
    "#calling in the cleaned data\n",
    "df = pd.read_csv('../../data/clean/KingCountyHousingData.csv')\n",
    "df.info()"
   ]
  },
  {
   "cell_type": "code",
   "execution_count": 7,
   "metadata": {},
   "outputs": [
    {
     "data": {
      "text/html": [
       "<div>\n",
       "<style scoped>\n",
       "    .dataframe tbody tr th:only-of-type {\n",
       "        vertical-align: middle;\n",
       "    }\n",
       "\n",
       "    .dataframe tbody tr th {\n",
       "        vertical-align: top;\n",
       "    }\n",
       "\n",
       "    .dataframe thead th {\n",
       "        text-align: right;\n",
       "    }\n",
       "</style>\n",
       "<table border=\"1\" class=\"dataframe\">\n",
       "  <thead>\n",
       "    <tr style=\"text-align: right;\">\n",
       "      <th></th>\n",
       "      <th>Duwamish</th>\n",
       "      <th>Lake Sammamish</th>\n",
       "      <th>Lake Union</th>\n",
       "      <th>Lake Washington</th>\n",
       "      <th>Other lake</th>\n",
       "      <th>Puget Sound</th>\n",
       "      <th>River or slough</th>\n",
       "      <th>Ship Canal</th>\n",
       "    </tr>\n",
       "  </thead>\n",
       "  <tbody>\n",
       "    <tr>\n",
       "      <th>0</th>\n",
       "      <td>0</td>\n",
       "      <td>0</td>\n",
       "      <td>0</td>\n",
       "      <td>0</td>\n",
       "      <td>0</td>\n",
       "      <td>0</td>\n",
       "      <td>0</td>\n",
       "      <td>0</td>\n",
       "    </tr>\n",
       "    <tr>\n",
       "      <th>1</th>\n",
       "      <td>0</td>\n",
       "      <td>0</td>\n",
       "      <td>0</td>\n",
       "      <td>0</td>\n",
       "      <td>0</td>\n",
       "      <td>0</td>\n",
       "      <td>0</td>\n",
       "      <td>0</td>\n",
       "    </tr>\n",
       "    <tr>\n",
       "      <th>2</th>\n",
       "      <td>0</td>\n",
       "      <td>0</td>\n",
       "      <td>0</td>\n",
       "      <td>0</td>\n",
       "      <td>0</td>\n",
       "      <td>0</td>\n",
       "      <td>0</td>\n",
       "      <td>0</td>\n",
       "    </tr>\n",
       "    <tr>\n",
       "      <th>3</th>\n",
       "      <td>0</td>\n",
       "      <td>0</td>\n",
       "      <td>0</td>\n",
       "      <td>0</td>\n",
       "      <td>0</td>\n",
       "      <td>0</td>\n",
       "      <td>0</td>\n",
       "      <td>0</td>\n",
       "    </tr>\n",
       "    <tr>\n",
       "      <th>4</th>\n",
       "      <td>0</td>\n",
       "      <td>0</td>\n",
       "      <td>0</td>\n",
       "      <td>0</td>\n",
       "      <td>0</td>\n",
       "      <td>0</td>\n",
       "      <td>0</td>\n",
       "      <td>0</td>\n",
       "    </tr>\n",
       "  </tbody>\n",
       "</table>\n",
       "</div>"
      ],
      "text/plain": [
       "   Duwamish  Lake Sammamish  Lake Union  Lake Washington  Other lake  \\\n",
       "0         0               0           0                0           0   \n",
       "1         0               0           0                0           0   \n",
       "2         0               0           0                0           0   \n",
       "3         0               0           0                0           0   \n",
       "4         0               0           0                0           0   \n",
       "\n",
       "   Puget Sound  River or slough  Ship Canal  \n",
       "0            0                0           0  \n",
       "1            0                0           0  \n",
       "2            0                0           0  \n",
       "3            0                0           0  \n",
       "4            0                0           0  "
      ]
     },
     "execution_count": 7,
     "metadata": {},
     "output_type": "execute_result"
    }
   ],
   "source": [
    "#creating dummies of Water Front Location, dropping None (doesn't have water front location)\n",
    "df_water_dummie =pd.get_dummies(df['WaterFrontLocation'])\n",
    "df_water_dummie.drop('None', axis= 1, inplace=True)\n",
    "df_water_dummie.head()"
   ]
  },
  {
   "cell_type": "code",
   "execution_count": 8,
   "metadata": {},
   "outputs": [
    {
     "data": {
      "text/html": [
       "<div>\n",
       "<style scoped>\n",
       "    .dataframe tbody tr th:only-of-type {\n",
       "        vertical-align: middle;\n",
       "    }\n",
       "\n",
       "    .dataframe tbody tr th {\n",
       "        vertical-align: top;\n",
       "    }\n",
       "\n",
       "    .dataframe thead th {\n",
       "        text-align: right;\n",
       "    }\n",
       "</style>\n",
       "<table border=\"1\" class=\"dataframe\">\n",
       "  <thead>\n",
       "    <tr style=\"text-align: right;\">\n",
       "      <th></th>\n",
       "      <th>2.0</th>\n",
       "      <th>3.0</th>\n",
       "      <th>4.0</th>\n",
       "      <th>5.0</th>\n",
       "      <th>6.0</th>\n",
       "      <th>7.0</th>\n",
       "      <th>8.0</th>\n",
       "      <th>9.0</th>\n",
       "      <th>10.0</th>\n",
       "      <th>11.0</th>\n",
       "      <th>12.0</th>\n",
       "    </tr>\n",
       "  </thead>\n",
       "  <tbody>\n",
       "    <tr>\n",
       "      <th>0</th>\n",
       "      <td>0</td>\n",
       "      <td>0</td>\n",
       "      <td>0</td>\n",
       "      <td>0</td>\n",
       "      <td>1</td>\n",
       "      <td>0</td>\n",
       "      <td>0</td>\n",
       "      <td>0</td>\n",
       "      <td>0</td>\n",
       "      <td>0</td>\n",
       "      <td>0</td>\n",
       "    </tr>\n",
       "    <tr>\n",
       "      <th>1</th>\n",
       "      <td>0</td>\n",
       "      <td>0</td>\n",
       "      <td>0</td>\n",
       "      <td>1</td>\n",
       "      <td>0</td>\n",
       "      <td>0</td>\n",
       "      <td>0</td>\n",
       "      <td>0</td>\n",
       "      <td>0</td>\n",
       "      <td>0</td>\n",
       "      <td>0</td>\n",
       "    </tr>\n",
       "    <tr>\n",
       "      <th>2</th>\n",
       "      <td>0</td>\n",
       "      <td>0</td>\n",
       "      <td>0</td>\n",
       "      <td>1</td>\n",
       "      <td>0</td>\n",
       "      <td>0</td>\n",
       "      <td>0</td>\n",
       "      <td>0</td>\n",
       "      <td>0</td>\n",
       "      <td>0</td>\n",
       "      <td>0</td>\n",
       "    </tr>\n",
       "    <tr>\n",
       "      <th>3</th>\n",
       "      <td>0</td>\n",
       "      <td>0</td>\n",
       "      <td>0</td>\n",
       "      <td>0</td>\n",
       "      <td>1</td>\n",
       "      <td>0</td>\n",
       "      <td>0</td>\n",
       "      <td>0</td>\n",
       "      <td>0</td>\n",
       "      <td>0</td>\n",
       "      <td>0</td>\n",
       "    </tr>\n",
       "    <tr>\n",
       "      <th>4</th>\n",
       "      <td>0</td>\n",
       "      <td>0</td>\n",
       "      <td>0</td>\n",
       "      <td>1</td>\n",
       "      <td>0</td>\n",
       "      <td>0</td>\n",
       "      <td>0</td>\n",
       "      <td>0</td>\n",
       "      <td>0</td>\n",
       "      <td>0</td>\n",
       "      <td>0</td>\n",
       "    </tr>\n",
       "  </tbody>\n",
       "</table>\n",
       "</div>"
      ],
      "text/plain": [
       "   2.0   3.0   4.0   5.0   6.0   7.0   8.0   9.0   10.0  11.0  12.0\n",
       "0     0     0     0     0     1     0     0     0     0     0     0\n",
       "1     0     0     0     1     0     0     0     0     0     0     0\n",
       "2     0     0     0     1     0     0     0     0     0     0     0\n",
       "3     0     0     0     0     1     0     0     0     0     0     0\n",
       "4     0     0     0     1     0     0     0     0     0     0     0"
      ]
     },
     "execution_count": 8,
     "metadata": {},
     "output_type": "execute_result"
    }
   ],
   "source": [
    "#creating dummies of Building Grade, dropping lowest grade--> 1= 'poor'\n",
    "df_bldg_dummie = pd.get_dummies(df['BldgGrade'])\n",
    "df_bldg_dummie.drop(1, axis= 1, inplace=True) \n",
    "df_bldg_dummie.head()"
   ]
  },
  {
   "cell_type": "code",
   "execution_count": 9,
   "metadata": {},
   "outputs": [
    {
     "data": {
      "text/html": [
       "<div>\n",
       "<style scoped>\n",
       "    .dataframe tbody tr th:only-of-type {\n",
       "        vertical-align: middle;\n",
       "    }\n",
       "\n",
       "    .dataframe tbody tr th {\n",
       "        vertical-align: top;\n",
       "    }\n",
       "\n",
       "    .dataframe thead th {\n",
       "        text-align: right;\n",
       "    }\n",
       "</style>\n",
       "<table border=\"1\" class=\"dataframe\">\n",
       "  <thead>\n",
       "    <tr style=\"text-align: right;\">\n",
       "      <th></th>\n",
       "      <th>Unnamed: 0</th>\n",
       "      <th>Major</th>\n",
       "      <th>Minor</th>\n",
       "      <th>ZipCode</th>\n",
       "      <th>DocumentDate</th>\n",
       "      <th>SalePrice</th>\n",
       "      <th>SqFtLot</th>\n",
       "      <th>SqFtTotLiving</th>\n",
       "      <th>Nuisances</th>\n",
       "      <th>Has_Nuisance</th>\n",
       "      <th>...</th>\n",
       "      <th>3.0</th>\n",
       "      <th>4.0</th>\n",
       "      <th>5.0</th>\n",
       "      <th>6.0</th>\n",
       "      <th>7.0</th>\n",
       "      <th>8.0</th>\n",
       "      <th>9.0</th>\n",
       "      <th>10.0</th>\n",
       "      <th>11.0</th>\n",
       "      <th>12.0</th>\n",
       "    </tr>\n",
       "  </thead>\n",
       "  <tbody>\n",
       "    <tr>\n",
       "      <th>0</th>\n",
       "      <td>0</td>\n",
       "      <td>100</td>\n",
       "      <td>67</td>\n",
       "      <td>98002</td>\n",
       "      <td>2019-04-01</td>\n",
       "      <td>310800</td>\n",
       "      <td>17400</td>\n",
       "      <td>2240</td>\n",
       "      <td>No Nuisances</td>\n",
       "      <td>0</td>\n",
       "      <td>...</td>\n",
       "      <td>0</td>\n",
       "      <td>0</td>\n",
       "      <td>0</td>\n",
       "      <td>1</td>\n",
       "      <td>0</td>\n",
       "      <td>0</td>\n",
       "      <td>0</td>\n",
       "      <td>0</td>\n",
       "      <td>0</td>\n",
       "      <td>0</td>\n",
       "    </tr>\n",
       "    <tr>\n",
       "      <th>1</th>\n",
       "      <td>1</td>\n",
       "      <td>100</td>\n",
       "      <td>66</td>\n",
       "      <td>98002</td>\n",
       "      <td>2019-10-22</td>\n",
       "      <td>339000</td>\n",
       "      <td>14500</td>\n",
       "      <td>1200</td>\n",
       "      <td>No Nuisances</td>\n",
       "      <td>0</td>\n",
       "      <td>...</td>\n",
       "      <td>0</td>\n",
       "      <td>0</td>\n",
       "      <td>1</td>\n",
       "      <td>0</td>\n",
       "      <td>0</td>\n",
       "      <td>0</td>\n",
       "      <td>0</td>\n",
       "      <td>0</td>\n",
       "      <td>0</td>\n",
       "      <td>0</td>\n",
       "    </tr>\n",
       "    <tr>\n",
       "      <th>2</th>\n",
       "      <td>2</td>\n",
       "      <td>100</td>\n",
       "      <td>42</td>\n",
       "      <td>98002</td>\n",
       "      <td>2019-10-29</td>\n",
       "      <td>485500</td>\n",
       "      <td>6002</td>\n",
       "      <td>2134</td>\n",
       "      <td>No Nuisances</td>\n",
       "      <td>0</td>\n",
       "      <td>...</td>\n",
       "      <td>0</td>\n",
       "      <td>0</td>\n",
       "      <td>1</td>\n",
       "      <td>0</td>\n",
       "      <td>0</td>\n",
       "      <td>0</td>\n",
       "      <td>0</td>\n",
       "      <td>0</td>\n",
       "      <td>0</td>\n",
       "      <td>0</td>\n",
       "    </tr>\n",
       "    <tr>\n",
       "      <th>3</th>\n",
       "      <td>3</td>\n",
       "      <td>120</td>\n",
       "      <td>8</td>\n",
       "      <td>98166</td>\n",
       "      <td>2019-05-17</td>\n",
       "      <td>850000</td>\n",
       "      <td>24142</td>\n",
       "      <td>3500</td>\n",
       "      <td>No Nuisances</td>\n",
       "      <td>0</td>\n",
       "      <td>...</td>\n",
       "      <td>0</td>\n",
       "      <td>0</td>\n",
       "      <td>0</td>\n",
       "      <td>1</td>\n",
       "      <td>0</td>\n",
       "      <td>0</td>\n",
       "      <td>0</td>\n",
       "      <td>0</td>\n",
       "      <td>0</td>\n",
       "      <td>0</td>\n",
       "    </tr>\n",
       "    <tr>\n",
       "      <th>4</th>\n",
       "      <td>4</td>\n",
       "      <td>140</td>\n",
       "      <td>27</td>\n",
       "      <td>98178</td>\n",
       "      <td>2019-05-28</td>\n",
       "      <td>535000</td>\n",
       "      <td>14208</td>\n",
       "      <td>2170</td>\n",
       "      <td>Traffic Noise</td>\n",
       "      <td>1</td>\n",
       "      <td>...</td>\n",
       "      <td>0</td>\n",
       "      <td>0</td>\n",
       "      <td>1</td>\n",
       "      <td>0</td>\n",
       "      <td>0</td>\n",
       "      <td>0</td>\n",
       "      <td>0</td>\n",
       "      <td>0</td>\n",
       "      <td>0</td>\n",
       "      <td>0</td>\n",
       "    </tr>\n",
       "  </tbody>\n",
       "</table>\n",
       "<p>5 rows × 49 columns</p>\n",
       "</div>"
      ],
      "text/plain": [
       "   Unnamed: 0  Major  Minor  ZipCode DocumentDate  SalePrice  SqFtLot  \\\n",
       "0           0    100     67    98002   2019-04-01     310800    17400   \n",
       "1           1    100     66    98002   2019-10-22     339000    14500   \n",
       "2           2    100     42    98002   2019-10-29     485500     6002   \n",
       "3           3    120      8    98166   2019-05-17     850000    24142   \n",
       "4           4    140     27    98178   2019-05-28     535000    14208   \n",
       "\n",
       "   SqFtTotLiving      Nuisances  Has_Nuisance  ...  3.0  4.0  5.0  6.0 7.0  \\\n",
       "0           2240   No Nuisances             0  ...    0    0    0    1   0   \n",
       "1           1200   No Nuisances             0  ...    0    0    1    0   0   \n",
       "2           2134   No Nuisances             0  ...    0    0    1    0   0   \n",
       "3           3500   No Nuisances             0  ...    0    0    0    1   0   \n",
       "4           2170  Traffic Noise             1  ...    0    0    1    0   0   \n",
       "\n",
       "   8.0  9.0  10.0  11.0  12.0  \n",
       "0    0    0     0     0     0  \n",
       "1    0    0     0     0     0  \n",
       "2    0    0     0     0     0  \n",
       "3    0    0     0     0     0  \n",
       "4    0    0     0     0     0  \n",
       "\n",
       "[5 rows x 49 columns]"
      ]
     },
     "execution_count": 9,
     "metadata": {},
     "output_type": "execute_result"
    }
   ],
   "source": [
    "#merge data frames\n",
    "comb_df = pd.concat([df, df_water_dummie, df_bldg_dummie], axis=1)\n",
    "comb_df.head()"
   ]
  },
  {
   "cell_type": "code",
   "execution_count": 10,
   "metadata": {},
   "outputs": [
    {
     "name": "stdout",
     "output_type": "stream",
     "text": [
      "<class 'pandas.core.frame.DataFrame'>\n",
      "RangeIndex: 27786 entries, 0 to 27785\n",
      "Data columns (total 49 columns):\n",
      " #   Column                    Non-Null Count  Dtype  \n",
      "---  ------                    --------------  -----  \n",
      " 0   Unnamed: 0                27786 non-null  int64  \n",
      " 1   Major                     27786 non-null  int64  \n",
      " 2   Minor                     27786 non-null  int64  \n",
      " 3   ZipCode                   27786 non-null  int64  \n",
      " 4   DocumentDate              27786 non-null  object \n",
      " 5   SalePrice                 27786 non-null  int64  \n",
      " 6   SqFtLot                   27786 non-null  int64  \n",
      " 7   SqFtTotLiving             27786 non-null  int64  \n",
      " 8   Nuisances                 27786 non-null  object \n",
      " 9   Has_Nuisance              27786 non-null  int64  \n",
      " 10  TrafficNoise              27786 non-null  int64  \n",
      " 11  PowerLines                27786 non-null  int64  \n",
      " 12  OtherNuisances            27786 non-null  int64  \n",
      " 13  Is_WaterFrontLocation     27786 non-null  int64  \n",
      " 14  WaterFrontLocation        27786 non-null  object \n",
      " 15  Has_Porch                 27786 non-null  int64  \n",
      " 16  Has_OpenPorch             27786 non-null  int64  \n",
      " 17  Has_EnclosedPorch         27786 non-null  int64  \n",
      " 18  View_MtRainier            27786 non-null  int64  \n",
      " 19  View_Olympics             27786 non-null  int64  \n",
      " 20  View_Cascades             27786 non-null  int64  \n",
      " 21  SeattleSkyline            27786 non-null  int64  \n",
      " 22  View_PugetSound           27786 non-null  int64  \n",
      " 23  View_LakeWashington       27786 non-null  int64  \n",
      " 24  View_LakeSammamish        27786 non-null  int64  \n",
      " 25  View_SmallLakeRiverCreek  27786 non-null  int64  \n",
      " 26  BldgGrade                 27786 non-null  float64\n",
      " 27  Has_Deck                  27786 non-null  int64  \n",
      " 28  Has_Finished_Basement     27786 non-null  int64  \n",
      " 29  Has_Attached_Garage       27786 non-null  int64  \n",
      " 30  Duwamish                  27786 non-null  uint8  \n",
      " 31  Lake_Sammamish            27786 non-null  uint8  \n",
      " 32  Lake_Union                27786 non-null  uint8  \n",
      " 33  Lake_Washington           27786 non-null  uint8  \n",
      " 34  Other_lake                27786 non-null  uint8  \n",
      " 35  Puget_Sound               27786 non-null  uint8  \n",
      " 36  River_or_slough           27786 non-null  uint8  \n",
      " 37  Ship_Canal                27786 non-null  uint8  \n",
      " 38  Low                       27786 non-null  uint8  \n",
      " 39  Fair                      27786 non-null  uint8  \n",
      " 40  Low_Average               27786 non-null  uint8  \n",
      " 41  Average                   27786 non-null  uint8  \n",
      " 42  Good                      27786 non-null  uint8  \n",
      " 43  Better                    27786 non-null  uint8  \n",
      " 44  Very_Good                 27786 non-null  uint8  \n",
      " 45  Cabin                     27786 non-null  uint8  \n",
      " 46  Excellent                 27786 non-null  uint8  \n",
      " 47  Luxury                    27786 non-null  uint8  \n",
      " 48  Mansion                   27786 non-null  uint8  \n",
      "dtypes: float64(1), int64(26), object(3), uint8(19)\n",
      "memory usage: 6.9+ MB\n"
     ]
    }
   ],
   "source": [
    "#re-name dummie columns \n",
    "comb_df = comb_df.rename(columns={\"Other lake\": \"Other_lake\",\"Lake Sammamish\":\"Lake_Sammamish\", \n",
    "                                  \"Lake Union\": \"Lake_Union\", \"Lake Washington\": \"Lake_Washington\", \n",
    "                                  \"Puget Sound\": \"Puget_Sound\", \"River or slough\":\"River_or_slough\", \n",
    "                                  \"Ship Canal\": \"Ship_Canal\", 2:'Low', 3:'Fair', 4:'Low_Average', 5:'Average',\n",
    "                                  6 : 'Good', 7 : 'Better', 8 : 'Very_Good', 9 : 'Cabin', 10 : 'Excellent', 11 : 'Luxury', 12 : 'Mansion'})\n",
    "\n",
    "comb_df.info()"
   ]
  },
  {
   "cell_type": "markdown",
   "metadata": {},
   "source": [
    "## Correlation Check\n",
    "\n",
    "#### Now that we had the initial list of significant factors based on the EDA, and seperated out into more detail the Building Grade and Is Water Front Location, we wanted to see all of the factors correlation to Sales Price."
   ]
  },
  {
   "cell_type": "code",
   "execution_count": 11,
   "metadata": {},
   "outputs": [
    {
     "name": "stdout",
     "output_type": "stream",
     "text": [
      "SalePrice                   1.000000\n",
      "BldgGrade                   0.581476\n",
      "SqFtTotLiving               0.571867\n",
      "Very_Good                   0.319422\n",
      "View_LakeWashington         0.319140\n",
      "Excellent                   0.295884\n",
      "Lake_Washington             0.282498\n",
      "Luxury                      0.253635\n",
      "Is_WaterFrontLocation       0.216200\n",
      "Better                      0.205022\n",
      "Has_OpenPorch               0.181793\n",
      "Has_Porch                   0.176378\n",
      "Mansion                     0.170746\n",
      "SeattleSkyline              0.156437\n",
      "View_Olympics               0.150045\n",
      "View_LakeSammamish          0.148652\n",
      "Lake_Sammamish              0.142783\n",
      "Has_Finished_Basement       0.135054\n",
      "View_Cascades               0.109642\n",
      "View_PugetSound             0.098700\n",
      "Has_Deck                    0.091775\n",
      "View_MtRainier              0.064629\n",
      "Minor                       0.048387\n",
      "Has_Attached_Garage         0.042360\n",
      "Puget_Sound                 0.034046\n",
      "View_SmallLakeRiverCreek    0.030134\n",
      "Other_lake                  0.020896\n",
      "Ship_Canal                  0.020122\n",
      "SqFtLot                     0.017231\n",
      "River_or_slough             0.010814\n",
      "Cabin                       0.010614\n",
      "OtherNuisances              0.002900\n",
      "TrafficNoise                0.002326\n",
      "Lake_Union                  0.001861\n",
      "Has_Nuisance                0.001070\n",
      "Duwamish                   -0.006655\n",
      "Has_EnclosedPorch          -0.009422\n",
      "PowerLines                 -0.014049\n",
      "Low                        -0.015519\n",
      "ZipCode                    -0.023498\n",
      "Unnamed: 0                 -0.026223\n",
      "Major                      -0.027221\n",
      "Good                       -0.046474\n",
      "Fair                       -0.050296\n",
      "Low_Average                -0.166898\n",
      "Average                    -0.266666\n",
      "Name: SalePrice, dtype: float64\n"
     ]
    }
   ],
   "source": [
    "# print list of correlation to Sale Price\n",
    "corr_matrix = comb_df.corr()\n",
    "print(corr_matrix[\"SalePrice\"].sort_values(ascending=False))"
   ]
  },
  {
   "cell_type": "markdown",
   "metadata": {},
   "source": [
    "## Model Testing"
   ]
  },
  {
   "cell_type": "markdown",
   "metadata": {},
   "source": [
    "### Model 1- Base Model\n",
    " \n",
    "#### Given that this list of features has already been paired down based on initial analysis during the EDA phase, we wanted to include all of the features into the first model. \n",
    " \n",
    "#### The results of this model were:\n",
    "  #### -An R-squared: .506\n",
    "  #### -Many features that were not statistically significant, with p-values above .05\n",
    "  #### -It is not normally distributed\n",
    "  #### -The variance of residuals (errors) is not distributed equally\n",
    "  #### -High multicollinearity\n",
    "  #### -Passes linearity Rainbow test with a p-value of .0284\n",
    "  \n",
    " "
   ]
  },
  {
   "cell_type": "code",
   "execution_count": 33,
   "metadata": {},
   "outputs": [
    {
     "data": {
      "text/html": [
       "<table class=\"simpletable\">\n",
       "<caption>OLS Regression Results</caption>\n",
       "<tr>\n",
       "  <th>Dep. Variable:</th>        <td>SalePrice</td>    <th>  R-squared:         </th>  <td>   0.506</td>  \n",
       "</tr>\n",
       "<tr>\n",
       "  <th>Model:</th>                   <td>OLS</td>       <th>  Adj. R-squared:    </th>  <td>   0.506</td>  \n",
       "</tr>\n",
       "<tr>\n",
       "  <th>Method:</th>             <td>Least Squares</td>  <th>  F-statistic:       </th>  <td>   711.7</td>  \n",
       "</tr>\n",
       "<tr>\n",
       "  <th>Date:</th>             <td>Sun, 04 Oct 2020</td> <th>  Prob (F-statistic):</th>   <td>  0.00</td>   \n",
       "</tr>\n",
       "<tr>\n",
       "  <th>Time:</th>                 <td>09:22:54</td>     <th>  Log-Likelihood:    </th> <td>-3.9976e+05</td>\n",
       "</tr>\n",
       "<tr>\n",
       "  <th>No. Observations:</th>      <td> 27786</td>      <th>  AIC:               </th>  <td>7.996e+05</td> \n",
       "</tr>\n",
       "<tr>\n",
       "  <th>Df Residuals:</th>          <td> 27745</td>      <th>  BIC:               </th>  <td>7.999e+05</td> \n",
       "</tr>\n",
       "<tr>\n",
       "  <th>Df Model:</th>              <td>    40</td>      <th>                     </th>      <td> </td>     \n",
       "</tr>\n",
       "<tr>\n",
       "  <th>Covariance Type:</th>      <td>nonrobust</td>    <th>                     </th>      <td> </td>     \n",
       "</tr>\n",
       "</table>\n",
       "<table class=\"simpletable\">\n",
       "<tr>\n",
       "                    <td></td>                       <th>coef</th>     <th>std err</th>      <th>t</th>      <th>P>|t|</th>  <th>[0.025</th>    <th>0.975]</th>  \n",
       "</tr>\n",
       "<tr>\n",
       "  <th>Intercept</th>                             <td> 1.513e+04</td> <td> 1.56e+05</td> <td>    0.097</td> <td> 0.923</td> <td>-2.91e+05</td> <td> 3.21e+05</td>\n",
       "</tr>\n",
       "<tr>\n",
       "  <th>Nuisances[T.Other Nuisances]</th>          <td> 2.106e+04</td> <td>  1.8e+04</td> <td>    1.173</td> <td> 0.241</td> <td>-1.41e+04</td> <td> 5.63e+04</td>\n",
       "</tr>\n",
       "<tr>\n",
       "  <th>Nuisances[T.Power Lines]</th>              <td> 5.032e+04</td> <td> 8.75e+04</td> <td>    0.575</td> <td> 0.565</td> <td>-1.21e+05</td> <td> 2.22e+05</td>\n",
       "</tr>\n",
       "<tr>\n",
       "  <th>Nuisances[T.Traffic Noise]</th>            <td>-1.205e+04</td> <td>  3.7e+04</td> <td>   -0.325</td> <td> 0.745</td> <td>-8.46e+04</td> <td> 6.05e+04</td>\n",
       "</tr>\n",
       "<tr>\n",
       "  <th>WaterFrontLocation[T.Lake Sammamish]</th>  <td> 5.924e+05</td> <td> 5.65e+04</td> <td>   10.476</td> <td> 0.000</td> <td> 4.82e+05</td> <td> 7.03e+05</td>\n",
       "</tr>\n",
       "<tr>\n",
       "  <th>WaterFrontLocation[T.Lake Union]</th>      <td> 9.426e+04</td> <td> 1.96e+05</td> <td>    0.481</td> <td> 0.630</td> <td> -2.9e+05</td> <td> 4.78e+05</td>\n",
       "</tr>\n",
       "<tr>\n",
       "  <th>WaterFrontLocation[T.Lake Washington]</th> <td> 4.654e+05</td> <td> 4.18e+04</td> <td>   11.133</td> <td> 0.000</td> <td> 3.83e+05</td> <td> 5.47e+05</td>\n",
       "</tr>\n",
       "<tr>\n",
       "  <th>WaterFrontLocation[T.None]</th>            <td>-1.736e+05</td> <td>  8.8e+04</td> <td>   -1.974</td> <td> 0.048</td> <td>-3.46e+05</td> <td>-1184.283</td>\n",
       "</tr>\n",
       "<tr>\n",
       "  <th>WaterFrontLocation[T.Other lake]</th>      <td>-2.281e+05</td> <td> 3.97e+04</td> <td>   -5.745</td> <td> 0.000</td> <td>-3.06e+05</td> <td> -1.5e+05</td>\n",
       "</tr>\n",
       "<tr>\n",
       "  <th>WaterFrontLocation[T.Puget Sound]</th>     <td>-8.683e+04</td> <td> 4.24e+04</td> <td>   -2.048</td> <td> 0.041</td> <td> -1.7e+05</td> <td>-3724.888</td>\n",
       "</tr>\n",
       "<tr>\n",
       "  <th>WaterFrontLocation[T.River or slough]</th> <td>-1.952e+05</td> <td> 4.04e+04</td> <td>   -4.831</td> <td> 0.000</td> <td>-2.74e+05</td> <td>-1.16e+05</td>\n",
       "</tr>\n",
       "<tr>\n",
       "  <th>WaterFrontLocation[T.Ship Canal]</th>      <td> 8.776e+04</td> <td> 8.25e+04</td> <td>    1.063</td> <td> 0.288</td> <td> -7.4e+04</td> <td>  2.5e+05</td>\n",
       "</tr>\n",
       "<tr>\n",
       "  <th>SqFtLot</th>                               <td>   -0.0006</td> <td>    0.019</td> <td>   -0.029</td> <td> 0.977</td> <td>   -0.038</td> <td>    0.037</td>\n",
       "</tr>\n",
       "<tr>\n",
       "  <th>SqFtTotLiving</th>                         <td>  183.7647</td> <td>    4.286</td> <td>   42.871</td> <td> 0.000</td> <td>  175.363</td> <td>  192.166</td>\n",
       "</tr>\n",
       "<tr>\n",
       "  <th>Has_Nuisance</th>                          <td> 5.934e+04</td> <td> 3.58e+04</td> <td>    1.656</td> <td> 0.098</td> <td>-1.09e+04</td> <td>  1.3e+05</td>\n",
       "</tr>\n",
       "<tr>\n",
       "  <th>TrafficNoise</th>                          <td>-2.048e+04</td> <td> 9910.562</td> <td>   -2.067</td> <td> 0.039</td> <td>-3.99e+04</td> <td>-1057.770</td>\n",
       "</tr>\n",
       "<tr>\n",
       "  <th>PowerLines</th>                            <td>-1.867e+05</td> <td>  1.2e+05</td> <td>   -1.556</td> <td> 0.120</td> <td>-4.22e+05</td> <td> 4.85e+04</td>\n",
       "</tr>\n",
       "<tr>\n",
       "  <th>OtherNuisances</th>                        <td> 2.106e+04</td> <td>  1.8e+04</td> <td>    1.173</td> <td> 0.241</td> <td>-1.41e+04</td> <td> 5.63e+04</td>\n",
       "</tr>\n",
       "<tr>\n",
       "  <th>Is_WaterFrontLocation</th>                 <td> 1.888e+05</td> <td> 8.35e+04</td> <td>    2.262</td> <td> 0.024</td> <td> 2.52e+04</td> <td> 3.52e+05</td>\n",
       "</tr>\n",
       "<tr>\n",
       "  <th>Has_Porch</th>                             <td> 8959.1158</td> <td> 2.49e+04</td> <td>    0.359</td> <td> 0.719</td> <td>-3.99e+04</td> <td> 5.78e+04</td>\n",
       "</tr>\n",
       "<tr>\n",
       "  <th>Has_OpenPorch</th>                         <td> 5621.4501</td> <td> 2.43e+04</td> <td>    0.231</td> <td> 0.817</td> <td>-4.21e+04</td> <td> 5.33e+04</td>\n",
       "</tr>\n",
       "<tr>\n",
       "  <th>Has_EnclosedPorch</th>                     <td> 1.071e+04</td> <td> 1.93e+04</td> <td>    0.555</td> <td> 0.579</td> <td>-2.71e+04</td> <td> 4.85e+04</td>\n",
       "</tr>\n",
       "<tr>\n",
       "  <th>View_MtRainier</th>                        <td>-2.699e+04</td> <td> 1.07e+04</td> <td>   -2.533</td> <td> 0.011</td> <td>-4.79e+04</td> <td>-6105.611</td>\n",
       "</tr>\n",
       "<tr>\n",
       "  <th>View_Olympics</th>                         <td> 5.009e+04</td> <td> 9062.991</td> <td>    5.527</td> <td> 0.000</td> <td> 3.23e+04</td> <td> 6.79e+04</td>\n",
       "</tr>\n",
       "<tr>\n",
       "  <th>View_Cascades</th>                         <td>-1.446e+04</td> <td> 7122.432</td> <td>   -2.031</td> <td> 0.042</td> <td>-2.84e+04</td> <td> -503.403</td>\n",
       "</tr>\n",
       "<tr>\n",
       "  <th>SeattleSkyline</th>                        <td>  3.43e+05</td> <td>  2.9e+04</td> <td>   11.828</td> <td> 0.000</td> <td> 2.86e+05</td> <td>    4e+05</td>\n",
       "</tr>\n",
       "<tr>\n",
       "  <th>View_PugetSound</th>                       <td> 1.804e+04</td> <td> 9916.262</td> <td>    1.819</td> <td> 0.069</td> <td>-1399.545</td> <td> 3.75e+04</td>\n",
       "</tr>\n",
       "<tr>\n",
       "  <th>View_LakeWashington</th>                   <td> 1.625e+05</td> <td> 8922.616</td> <td>   18.214</td> <td> 0.000</td> <td> 1.45e+05</td> <td>  1.8e+05</td>\n",
       "</tr>\n",
       "<tr>\n",
       "  <th>View_LakeSammamish</th>                    <td> 1.982e+04</td> <td> 1.88e+04</td> <td>    1.054</td> <td> 0.292</td> <td> -1.7e+04</td> <td> 5.67e+04</td>\n",
       "</tr>\n",
       "<tr>\n",
       "  <th>View_SmallLakeRiverCreek</th>              <td> 4.747e+04</td> <td> 1.52e+04</td> <td>    3.128</td> <td> 0.002</td> <td> 1.77e+04</td> <td> 7.72e+04</td>\n",
       "</tr>\n",
       "<tr>\n",
       "  <th>BldgGrade</th>                             <td> 1.719e+05</td> <td> 2.82e+04</td> <td>    6.084</td> <td> 0.000</td> <td> 1.16e+05</td> <td> 2.27e+05</td>\n",
       "</tr>\n",
       "<tr>\n",
       "  <th>Has_Deck</th>                              <td>-9796.9881</td> <td> 5672.241</td> <td>   -1.727</td> <td> 0.084</td> <td>-2.09e+04</td> <td> 1320.886</td>\n",
       "</tr>\n",
       "<tr>\n",
       "  <th>Has_Finished_Basement</th>                 <td> 2.931e+04</td> <td> 6413.435</td> <td>    4.570</td> <td> 0.000</td> <td> 1.67e+04</td> <td> 4.19e+04</td>\n",
       "</tr>\n",
       "<tr>\n",
       "  <th>Has_Attached_Garage</th>                   <td>  -1.5e+05</td> <td> 6254.155</td> <td>  -23.982</td> <td> 0.000</td> <td>-1.62e+05</td> <td>-1.38e+05</td>\n",
       "</tr>\n",
       "<tr>\n",
       "  <th>Duwamish</th>                              <td> -5.41e+05</td> <td> 2.06e+05</td> <td>   -2.623</td> <td> 0.009</td> <td>-9.45e+05</td> <td>-1.37e+05</td>\n",
       "</tr>\n",
       "<tr>\n",
       "  <th>Lake_Sammamish</th>                        <td> 5.924e+05</td> <td> 5.65e+04</td> <td>   10.476</td> <td> 0.000</td> <td> 4.82e+05</td> <td> 7.03e+05</td>\n",
       "</tr>\n",
       "<tr>\n",
       "  <th>Lake_Union</th>                            <td> 9.426e+04</td> <td> 1.96e+05</td> <td>    0.481</td> <td> 0.630</td> <td> -2.9e+05</td> <td> 4.78e+05</td>\n",
       "</tr>\n",
       "<tr>\n",
       "  <th>Lake_Washington</th>                       <td> 4.654e+05</td> <td> 4.18e+04</td> <td>   11.133</td> <td> 0.000</td> <td> 3.83e+05</td> <td> 5.47e+05</td>\n",
       "</tr>\n",
       "<tr>\n",
       "  <th>Other_lake</th>                            <td>-2.281e+05</td> <td> 3.97e+04</td> <td>   -5.745</td> <td> 0.000</td> <td>-3.06e+05</td> <td> -1.5e+05</td>\n",
       "</tr>\n",
       "<tr>\n",
       "  <th>Puget_Sound</th>                           <td>-8.683e+04</td> <td> 4.24e+04</td> <td>   -2.048</td> <td> 0.041</td> <td> -1.7e+05</td> <td>-3724.888</td>\n",
       "</tr>\n",
       "<tr>\n",
       "  <th>River_or_slough</th>                       <td>-1.952e+05</td> <td> 4.04e+04</td> <td>   -4.831</td> <td> 0.000</td> <td>-2.74e+05</td> <td>-1.16e+05</td>\n",
       "</tr>\n",
       "<tr>\n",
       "  <th>Ship_Canal</th>                            <td> 8.776e+04</td> <td> 8.25e+04</td> <td>    1.063</td> <td> 0.288</td> <td> -7.4e+04</td> <td>  2.5e+05</td>\n",
       "</tr>\n",
       "<tr>\n",
       "  <th>Low</th>                                   <td> 1.962e+05</td> <td> 1.98e+05</td> <td>    0.989</td> <td> 0.323</td> <td>-1.93e+05</td> <td> 5.85e+05</td>\n",
       "</tr>\n",
       "<tr>\n",
       "  <th>Fair</th>                                  <td> -4.13e+04</td> <td>  1.6e+05</td> <td>   -0.258</td> <td> 0.796</td> <td>-3.55e+05</td> <td> 2.72e+05</td>\n",
       "</tr>\n",
       "<tr>\n",
       "  <th>Low_Average</th>                           <td>-2.718e+05</td> <td> 1.32e+05</td> <td>   -2.056</td> <td> 0.040</td> <td>-5.31e+05</td> <td>-1.27e+04</td>\n",
       "</tr>\n",
       "<tr>\n",
       "  <th>Average</th>                               <td>-3.867e+05</td> <td> 1.07e+05</td> <td>   -3.618</td> <td> 0.000</td> <td>-5.96e+05</td> <td>-1.77e+05</td>\n",
       "</tr>\n",
       "<tr>\n",
       "  <th>Good</th>                                  <td>-4.653e+05</td> <td> 8.37e+04</td> <td>   -5.556</td> <td> 0.000</td> <td>-6.29e+05</td> <td>-3.01e+05</td>\n",
       "</tr>\n",
       "<tr>\n",
       "  <th>Better</th>                                <td>-4.287e+05</td> <td> 6.48e+04</td> <td>   -6.618</td> <td> 0.000</td> <td>-5.56e+05</td> <td>-3.02e+05</td>\n",
       "</tr>\n",
       "<tr>\n",
       "  <th>Very_Good</th>                             <td> -2.57e+05</td> <td> 5.48e+04</td> <td>   -4.688</td> <td> 0.000</td> <td>-3.64e+05</td> <td> -1.5e+05</td>\n",
       "</tr>\n",
       "<tr>\n",
       "  <th>Cabin</th>                                 <td> 4.485e+05</td> <td> 3.76e+05</td> <td>    1.194</td> <td> 0.232</td> <td>-2.88e+05</td> <td> 1.18e+06</td>\n",
       "</tr>\n",
       "<tr>\n",
       "  <th>Excellent</th>                             <td>  -2.3e+05</td> <td>  7.4e+04</td> <td>   -3.109</td> <td> 0.002</td> <td>-3.75e+05</td> <td> -8.5e+04</td>\n",
       "</tr>\n",
       "<tr>\n",
       "  <th>Luxury</th>                                <td> 1.435e+05</td> <td>  9.8e+04</td> <td>    1.464</td> <td> 0.143</td> <td>-4.86e+04</td> <td> 3.36e+05</td>\n",
       "</tr>\n",
       "<tr>\n",
       "  <th>Mansion</th>                               <td>  5.59e+05</td> <td> 1.34e+05</td> <td>    4.158</td> <td> 0.000</td> <td> 2.96e+05</td> <td> 8.23e+05</td>\n",
       "</tr>\n",
       "</table>\n",
       "<table class=\"simpletable\">\n",
       "<tr>\n",
       "  <th>Omnibus:</th>       <td>29395.647</td> <th>  Durbin-Watson:     </th>  <td>   1.089</td>  \n",
       "</tr>\n",
       "<tr>\n",
       "  <th>Prob(Omnibus):</th>  <td> 0.000</td>   <th>  Jarque-Bera (JB):  </th> <td>5702100.725</td>\n",
       "</tr>\n",
       "<tr>\n",
       "  <th>Skew:</th>           <td> 4.964</td>   <th>  Prob(JB):          </th>  <td>    0.00</td>  \n",
       "</tr>\n",
       "<tr>\n",
       "  <th>Kurtosis:</th>       <td>72.474</td>   <th>  Cond. No.          </th>  <td>1.02e+16</td>  \n",
       "</tr>\n",
       "</table><br/><br/>Warnings:<br/>[1] Standard Errors assume that the covariance matrix of the errors is correctly specified.<br/>[2] The smallest eigenvalue is 6.19e-18. This might indicate that there are<br/>strong multicollinearity problems or that the design matrix is singular."
      ],
      "text/plain": [
       "<class 'statsmodels.iolib.summary.Summary'>\n",
       "\"\"\"\n",
       "                            OLS Regression Results                            \n",
       "==============================================================================\n",
       "Dep. Variable:              SalePrice   R-squared:                       0.506\n",
       "Model:                            OLS   Adj. R-squared:                  0.506\n",
       "Method:                 Least Squares   F-statistic:                     711.7\n",
       "Date:                Sun, 04 Oct 2020   Prob (F-statistic):               0.00\n",
       "Time:                        09:22:54   Log-Likelihood:            -3.9976e+05\n",
       "No. Observations:               27786   AIC:                         7.996e+05\n",
       "Df Residuals:                   27745   BIC:                         7.999e+05\n",
       "Df Model:                          40                                         \n",
       "Covariance Type:            nonrobust                                         \n",
       "=========================================================================================================\n",
       "                                            coef    std err          t      P>|t|      [0.025      0.975]\n",
       "---------------------------------------------------------------------------------------------------------\n",
       "Intercept                              1.513e+04   1.56e+05      0.097      0.923   -2.91e+05    3.21e+05\n",
       "Nuisances[T.Other Nuisances]           2.106e+04    1.8e+04      1.173      0.241   -1.41e+04    5.63e+04\n",
       "Nuisances[T.Power Lines]               5.032e+04   8.75e+04      0.575      0.565   -1.21e+05    2.22e+05\n",
       "Nuisances[T.Traffic Noise]            -1.205e+04    3.7e+04     -0.325      0.745   -8.46e+04    6.05e+04\n",
       "WaterFrontLocation[T.Lake Sammamish]   5.924e+05   5.65e+04     10.476      0.000    4.82e+05    7.03e+05\n",
       "WaterFrontLocation[T.Lake Union]       9.426e+04   1.96e+05      0.481      0.630    -2.9e+05    4.78e+05\n",
       "WaterFrontLocation[T.Lake Washington]  4.654e+05   4.18e+04     11.133      0.000    3.83e+05    5.47e+05\n",
       "WaterFrontLocation[T.None]            -1.736e+05    8.8e+04     -1.974      0.048   -3.46e+05   -1184.283\n",
       "WaterFrontLocation[T.Other lake]      -2.281e+05   3.97e+04     -5.745      0.000   -3.06e+05    -1.5e+05\n",
       "WaterFrontLocation[T.Puget Sound]     -8.683e+04   4.24e+04     -2.048      0.041    -1.7e+05   -3724.888\n",
       "WaterFrontLocation[T.River or slough] -1.952e+05   4.04e+04     -4.831      0.000   -2.74e+05   -1.16e+05\n",
       "WaterFrontLocation[T.Ship Canal]       8.776e+04   8.25e+04      1.063      0.288    -7.4e+04     2.5e+05\n",
       "SqFtLot                                  -0.0006      0.019     -0.029      0.977      -0.038       0.037\n",
       "SqFtTotLiving                           183.7647      4.286     42.871      0.000     175.363     192.166\n",
       "Has_Nuisance                           5.934e+04   3.58e+04      1.656      0.098   -1.09e+04     1.3e+05\n",
       "TrafficNoise                          -2.048e+04   9910.562     -2.067      0.039   -3.99e+04   -1057.770\n",
       "PowerLines                            -1.867e+05    1.2e+05     -1.556      0.120   -4.22e+05    4.85e+04\n",
       "OtherNuisances                         2.106e+04    1.8e+04      1.173      0.241   -1.41e+04    5.63e+04\n",
       "Is_WaterFrontLocation                  1.888e+05   8.35e+04      2.262      0.024    2.52e+04    3.52e+05\n",
       "Has_Porch                              8959.1158   2.49e+04      0.359      0.719   -3.99e+04    5.78e+04\n",
       "Has_OpenPorch                          5621.4501   2.43e+04      0.231      0.817   -4.21e+04    5.33e+04\n",
       "Has_EnclosedPorch                      1.071e+04   1.93e+04      0.555      0.579   -2.71e+04    4.85e+04\n",
       "View_MtRainier                        -2.699e+04   1.07e+04     -2.533      0.011   -4.79e+04   -6105.611\n",
       "View_Olympics                          5.009e+04   9062.991      5.527      0.000    3.23e+04    6.79e+04\n",
       "View_Cascades                         -1.446e+04   7122.432     -2.031      0.042   -2.84e+04    -503.403\n",
       "SeattleSkyline                          3.43e+05    2.9e+04     11.828      0.000    2.86e+05       4e+05\n",
       "View_PugetSound                        1.804e+04   9916.262      1.819      0.069   -1399.545    3.75e+04\n",
       "View_LakeWashington                    1.625e+05   8922.616     18.214      0.000    1.45e+05     1.8e+05\n",
       "View_LakeSammamish                     1.982e+04   1.88e+04      1.054      0.292    -1.7e+04    5.67e+04\n",
       "View_SmallLakeRiverCreek               4.747e+04   1.52e+04      3.128      0.002    1.77e+04    7.72e+04\n",
       "BldgGrade                              1.719e+05   2.82e+04      6.084      0.000    1.16e+05    2.27e+05\n",
       "Has_Deck                              -9796.9881   5672.241     -1.727      0.084   -2.09e+04    1320.886\n",
       "Has_Finished_Basement                  2.931e+04   6413.435      4.570      0.000    1.67e+04    4.19e+04\n",
       "Has_Attached_Garage                     -1.5e+05   6254.155    -23.982      0.000   -1.62e+05   -1.38e+05\n",
       "Duwamish                               -5.41e+05   2.06e+05     -2.623      0.009   -9.45e+05   -1.37e+05\n",
       "Lake_Sammamish                         5.924e+05   5.65e+04     10.476      0.000    4.82e+05    7.03e+05\n",
       "Lake_Union                             9.426e+04   1.96e+05      0.481      0.630    -2.9e+05    4.78e+05\n",
       "Lake_Washington                        4.654e+05   4.18e+04     11.133      0.000    3.83e+05    5.47e+05\n",
       "Other_lake                            -2.281e+05   3.97e+04     -5.745      0.000   -3.06e+05    -1.5e+05\n",
       "Puget_Sound                           -8.683e+04   4.24e+04     -2.048      0.041    -1.7e+05   -3724.888\n",
       "River_or_slough                       -1.952e+05   4.04e+04     -4.831      0.000   -2.74e+05   -1.16e+05\n",
       "Ship_Canal                             8.776e+04   8.25e+04      1.063      0.288    -7.4e+04     2.5e+05\n",
       "Low                                    1.962e+05   1.98e+05      0.989      0.323   -1.93e+05    5.85e+05\n",
       "Fair                                   -4.13e+04    1.6e+05     -0.258      0.796   -3.55e+05    2.72e+05\n",
       "Low_Average                           -2.718e+05   1.32e+05     -2.056      0.040   -5.31e+05   -1.27e+04\n",
       "Average                               -3.867e+05   1.07e+05     -3.618      0.000   -5.96e+05   -1.77e+05\n",
       "Good                                  -4.653e+05   8.37e+04     -5.556      0.000   -6.29e+05   -3.01e+05\n",
       "Better                                -4.287e+05   6.48e+04     -6.618      0.000   -5.56e+05   -3.02e+05\n",
       "Very_Good                              -2.57e+05   5.48e+04     -4.688      0.000   -3.64e+05    -1.5e+05\n",
       "Cabin                                  4.485e+05   3.76e+05      1.194      0.232   -2.88e+05    1.18e+06\n",
       "Excellent                               -2.3e+05    7.4e+04     -3.109      0.002   -3.75e+05    -8.5e+04\n",
       "Luxury                                 1.435e+05    9.8e+04      1.464      0.143   -4.86e+04    3.36e+05\n",
       "Mansion                                 5.59e+05   1.34e+05      4.158      0.000    2.96e+05    8.23e+05\n",
       "==============================================================================\n",
       "Omnibus:                    29395.647   Durbin-Watson:                   1.089\n",
       "Prob(Omnibus):                  0.000   Jarque-Bera (JB):          5702100.725\n",
       "Skew:                           4.964   Prob(JB):                         0.00\n",
       "Kurtosis:                      72.474   Cond. No.                     1.02e+16\n",
       "==============================================================================\n",
       "\n",
       "Warnings:\n",
       "[1] Standard Errors assume that the covariance matrix of the errors is correctly specified.\n",
       "[2] The smallest eigenvalue is 6.19e-18. This might indicate that there are\n",
       "strong multicollinearity problems or that the design matrix is singular.\n",
       "\"\"\""
      ]
     },
     "execution_count": 33,
     "metadata": {},
     "output_type": "execute_result"
    }
   ],
   "source": [
    "# Baseline model with all features\n",
    "outcome = 'SalePrice'      \n",
    "x_cols =['SqFtLot',\n",
    " 'SqFtTotLiving',            \n",
    " 'Nuisances',           \n",
    " 'Has_Nuisance',             \n",
    " 'TrafficNoise',             \n",
    " 'PowerLines',               \n",
    " 'OtherNuisances',           \n",
    " 'Is_WaterFrontLocation',    \n",
    " 'WaterFrontLocation',       \n",
    " 'Has_Porch',                \n",
    " 'Has_OpenPorch',            \n",
    " 'Has_EnclosedPorch',        \n",
    " 'View_MtRainier',           \n",
    " 'View_Olympics',            \n",
    " 'View_Cascades',            \n",
    " 'SeattleSkyline',           \n",
    " 'View_PugetSound',          \n",
    " 'View_LakeWashington',      \n",
    " 'View_LakeSammamish',       \n",
    " 'View_SmallLakeRiverCreek', \n",
    " 'BldgGrade',                \n",
    " 'Has_Deck',                 \n",
    " 'Has_Finished_Basement',    \n",
    " 'Has_Attached_Garage',      \n",
    " 'Duwamish',                 \n",
    " 'Lake_Sammamish',           \n",
    " 'Lake_Union',               \n",
    " 'Lake_Washington',          \n",
    " 'Other_lake',               \n",
    " 'Puget_Sound',              \n",
    " 'River_or_slough',          \n",
    " 'Ship_Canal',               \n",
    " 'Low',                      \n",
    " 'Fair',                     \n",
    " 'Low_Average',              \n",
    " 'Average',                  \n",
    " 'Good',                     \n",
    " 'Better',                   \n",
    " 'Very_Good',                \n",
    " 'Cabin',                    \n",
    " 'Excellent',                \n",
    " 'Luxury',                 \n",
    " 'Mansion']                  \n",
    "\n",
    "predictors = '+'.join(x_cols)\n",
    "formula = outcome + '~' + predictors\n",
    "model1 = ols(formula=formula, data=comb_df).fit()\n",
    "model1.summary()"
   ]
  },
  {
   "cell_type": "code",
   "execution_count": 34,
   "metadata": {},
   "outputs": [
    {
     "data": {
      "image/png": "[encoded data removed]",
      "text/plain": [
       "<Figure size 432x288 with 1 Axes>"
      ]
     },
     "metadata": {
      "needs_background": "light"
     },
     "output_type": "display_data"
    }
   ],
   "source": [
    "#Checking for distribution normality\n",
    "fig = sm.graphics.qqplot(model1.resid, line='s',dist=stats.norm, fit=True)\n",
    "\n",
    "#result: not normally distributed with large tails and two distict outliers on either end"
   ]
  },
  {
   "cell_type": "code",
   "execution_count": 35,
   "metadata": {},
   "outputs": [
    {
     "data": {
      "image/png": "[encoded data removed]",
      "text/plain": [
       "<Figure size 432x288 with 1 Axes>"
      ]
     },
     "metadata": {
      "needs_background": "light"
     },
     "output_type": "display_data"
    }
   ],
   "source": [
    "#Homoscedasticity--checking for variance of residuals (errors)\n",
    "plt.scatter(model1.predict(comb_df[x_cols]), model1.resid)\n",
    "plt.plot(model1.predict(comb_df[x_cols]), [0 for i in range(len(comb_df))], color='red');\n",
    "\n",
    "#result: variance of residuals not evenly distributed"
   ]
  },
  {
   "cell_type": "code",
   "execution_count": 36,
   "metadata": {},
   "outputs": [
    {
     "name": "stdout",
     "output_type": "stream",
     "text": [
      "Rainbow statistic: 1.0328758264135403\n",
      "Rainbow p-value: 0.028396049659178135\n"
     ]
    }
   ],
   "source": [
    "#Testing for linearity\n",
    "rainbow_statistic, rainbow_p_value = linear_rainbow(model1)\n",
    "print(\"Rainbow statistic:\", rainbow_statistic)\n",
    "print(\"Rainbow p-value:\", rainbow_p_value)"
   ]
  },
  {
   "cell_type": "markdown",
   "metadata": {},
   "source": [
    "### Model 2 - Model Improvement\n",
    "\n",
    "\n",
    " \n",
    "#### This next model takes the base model and removes features with a p-value over .05 \n",
    "#### Removing: 'Nuisances', 'OtherNuisances', 'Lake_Union', 'Fair', 'SqFtLot', 'WaterFrontLocation', ,  'Has_Porch','Has_OpenPorch', 'Has_Nuisance', 'PowerLines', 'Has_EnclosedPorch', 'View_LakeSammamish',  'Has_Deck', 'Ship_Canal', 'Low',  'Cabin',  'Luxury'\n",
    "#### Once the model was run, new p-values over .05 were commented out and the model run again. Those removed from the model were:'View_Cascades', 'View_PugetSound', 'TrafficNoise'\n",
    " \n",
    "#### The results of this model were:\n",
    "  #### -An R-squared: .505\n",
    "  #### -It is not normally distributed\n",
    "  #### -The variance of residuals (errors) is not distributed equally\n",
    "  #### -High multicollinearity\n",
    "  #### -Passes linearity Rainbow test with a p-value of .0303\n",
    " "
   ]
  },
  {
   "cell_type": "code",
   "execution_count": 42,
   "metadata": {},
   "outputs": [
    {
     "data": {
      "text/html": [
       "<table class=\"simpletable\">\n",
       "<caption>OLS Regression Results</caption>\n",
       "<tr>\n",
       "  <th>Dep. Variable:</th>        <td>SalePrice</td>    <th>  R-squared:         </th>  <td>   0.505</td>  \n",
       "</tr>\n",
       "<tr>\n",
       "  <th>Model:</th>                   <td>OLS</td>       <th>  Adj. R-squared:    </th>  <td>   0.504</td>  \n",
       "</tr>\n",
       "<tr>\n",
       "  <th>Method:</th>             <td>Least Squares</td>  <th>  F-statistic:       </th>  <td>   1231.</td>  \n",
       "</tr>\n",
       "<tr>\n",
       "  <th>Date:</th>             <td>Sun, 04 Oct 2020</td> <th>  Prob (F-statistic):</th>   <td>  0.00</td>   \n",
       "</tr>\n",
       "<tr>\n",
       "  <th>Time:</th>                 <td>09:32:22</td>     <th>  Log-Likelihood:    </th> <td>-3.9981e+05</td>\n",
       "</tr>\n",
       "<tr>\n",
       "  <th>No. Observations:</th>      <td> 27786</td>      <th>  AIC:               </th>  <td>7.997e+05</td> \n",
       "</tr>\n",
       "<tr>\n",
       "  <th>Df Residuals:</th>          <td> 27762</td>      <th>  BIC:               </th>  <td>7.999e+05</td> \n",
       "</tr>\n",
       "<tr>\n",
       "  <th>Df Model:</th>              <td>    23</td>      <th>                     </th>      <td> </td>     \n",
       "</tr>\n",
       "<tr>\n",
       "  <th>Covariance Type:</th>      <td>nonrobust</td>    <th>                     </th>      <td> </td>     \n",
       "</tr>\n",
       "</table>\n",
       "<table class=\"simpletable\">\n",
       "<tr>\n",
       "              <td></td>                <th>coef</th>     <th>std err</th>      <th>t</th>      <th>P>|t|</th>  <th>[0.025</th>    <th>0.975]</th>  \n",
       "</tr>\n",
       "<tr>\n",
       "  <th>Intercept</th>                <td>-2.103e+05</td> <td> 3.43e+04</td> <td>   -6.123</td> <td> 0.000</td> <td>-2.78e+05</td> <td>-1.43e+05</td>\n",
       "</tr>\n",
       "<tr>\n",
       "  <th>SqFtTotLiving</th>            <td>  185.1267</td> <td>    4.117</td> <td>   44.962</td> <td> 0.000</td> <td>  177.056</td> <td>  193.197</td>\n",
       "</tr>\n",
       "<tr>\n",
       "  <th>Is_WaterFrontLocation</th>    <td> 5.977e+05</td> <td> 1.58e+05</td> <td>    3.772</td> <td> 0.000</td> <td> 2.87e+05</td> <td> 9.08e+05</td>\n",
       "</tr>\n",
       "<tr>\n",
       "  <th>SeattleSkyline</th>           <td> 3.365e+05</td> <td>  2.9e+04</td> <td>   11.606</td> <td> 0.000</td> <td>  2.8e+05</td> <td> 3.93e+05</td>\n",
       "</tr>\n",
       "<tr>\n",
       "  <th>View_LakeWashington</th>      <td> 1.537e+05</td> <td> 8348.547</td> <td>   18.407</td> <td> 0.000</td> <td> 1.37e+05</td> <td>  1.7e+05</td>\n",
       "</tr>\n",
       "<tr>\n",
       "  <th>View_SmallLakeRiverCreek</th> <td> 4.721e+04</td> <td> 1.51e+04</td> <td>    3.135</td> <td> 0.002</td> <td> 1.77e+04</td> <td> 7.67e+04</td>\n",
       "</tr>\n",
       "<tr>\n",
       "  <th>View_MtRainier</th>           <td>-3.097e+04</td> <td> 1.04e+04</td> <td>   -2.991</td> <td> 0.003</td> <td>-5.13e+04</td> <td>-1.07e+04</td>\n",
       "</tr>\n",
       "<tr>\n",
       "  <th>View_Olympics</th>            <td> 6.091e+04</td> <td> 7011.193</td> <td>    8.688</td> <td> 0.000</td> <td> 4.72e+04</td> <td> 7.47e+04</td>\n",
       "</tr>\n",
       "<tr>\n",
       "  <th>BldgGrade</th>                <td> 1.899e+05</td> <td> 5945.238</td> <td>   31.944</td> <td> 0.000</td> <td> 1.78e+05</td> <td> 2.02e+05</td>\n",
       "</tr>\n",
       "<tr>\n",
       "  <th>Has_Finished_Basement</th>    <td> 2.409e+04</td> <td> 6017.146</td> <td>    4.003</td> <td> 0.000</td> <td> 1.23e+04</td> <td> 3.59e+04</td>\n",
       "</tr>\n",
       "<tr>\n",
       "  <th>Has_Attached_Garage</th>      <td>-1.548e+05</td> <td> 6176.834</td> <td>  -25.058</td> <td> 0.000</td> <td>-1.67e+05</td> <td>-1.43e+05</td>\n",
       "</tr>\n",
       "<tr>\n",
       "  <th>Duwamish</th>                 <td>-7.941e+05</td> <td> 2.91e+05</td> <td>   -2.726</td> <td> 0.006</td> <td>-1.37e+06</td> <td>-2.23e+05</td>\n",
       "</tr>\n",
       "<tr>\n",
       "  <th>Lake_Sammamish</th>           <td> 1.023e+06</td> <td> 1.72e+05</td> <td>    5.940</td> <td> 0.000</td> <td> 6.85e+05</td> <td> 1.36e+06</td>\n",
       "</tr>\n",
       "<tr>\n",
       "  <th>Lake_Washington</th>          <td>  7.24e+05</td> <td> 1.66e+05</td> <td>    4.360</td> <td> 0.000</td> <td> 3.99e+05</td> <td> 1.05e+06</td>\n",
       "</tr>\n",
       "<tr>\n",
       "  <th>Other_lake</th>               <td>-6.892e+05</td> <td> 1.57e+05</td> <td>   -4.402</td> <td> 0.000</td> <td>-9.96e+05</td> <td>-3.82e+05</td>\n",
       "</tr>\n",
       "<tr>\n",
       "  <th>Puget_Sound</th>              <td>-3.557e+05</td> <td> 1.65e+05</td> <td>   -2.156</td> <td> 0.031</td> <td>-6.79e+05</td> <td>-3.23e+04</td>\n",
       "</tr>\n",
       "<tr>\n",
       "  <th>River_or_slough</th>          <td>-6.202e+05</td> <td>  1.6e+05</td> <td>   -3.866</td> <td> 0.000</td> <td>-9.35e+05</td> <td>-3.06e+05</td>\n",
       "</tr>\n",
       "<tr>\n",
       "  <th>Low_Average</th>              <td>-2.826e+05</td> <td> 2.26e+04</td> <td>  -12.528</td> <td> 0.000</td> <td>-3.27e+05</td> <td>-2.38e+05</td>\n",
       "</tr>\n",
       "<tr>\n",
       "  <th>Average</th>                  <td>-4.161e+05</td> <td> 2.06e+04</td> <td>  -20.206</td> <td> 0.000</td> <td>-4.56e+05</td> <td>-3.76e+05</td>\n",
       "</tr>\n",
       "<tr>\n",
       "  <th>Good</th>                     <td>-5.112e+05</td> <td> 2.13e+04</td> <td>  -24.022</td> <td> 0.000</td> <td>-5.53e+05</td> <td>-4.69e+05</td>\n",
       "</tr>\n",
       "<tr>\n",
       "  <th>Better</th>                   <td>-4.923e+05</td> <td> 2.36e+04</td> <td>  -20.824</td> <td> 0.000</td> <td>-5.39e+05</td> <td>-4.46e+05</td>\n",
       "</tr>\n",
       "<tr>\n",
       "  <th>Very_Good</th>                <td> -3.39e+05</td> <td> 2.79e+04</td> <td>  -12.149</td> <td> 0.000</td> <td>-3.94e+05</td> <td>-2.84e+05</td>\n",
       "</tr>\n",
       "<tr>\n",
       "  <th>Excellent</th>                <td>-3.487e+05</td> <td> 3.93e+04</td> <td>   -8.865</td> <td> 0.000</td> <td>-4.26e+05</td> <td>-2.72e+05</td>\n",
       "</tr>\n",
       "<tr>\n",
       "  <th>Mansion</th>                  <td> 3.983e+05</td> <td>  9.8e+04</td> <td>    4.062</td> <td> 0.000</td> <td> 2.06e+05</td> <td>  5.9e+05</td>\n",
       "</tr>\n",
       "</table>\n",
       "<table class=\"simpletable\">\n",
       "<tr>\n",
       "  <th>Omnibus:</th>       <td>29355.018</td> <th>  Durbin-Watson:     </th>  <td>   1.084</td>  \n",
       "</tr>\n",
       "<tr>\n",
       "  <th>Prob(Omnibus):</th>  <td> 0.000</td>   <th>  Jarque-Bera (JB):  </th> <td>5656830.872</td>\n",
       "</tr>\n",
       "<tr>\n",
       "  <th>Skew:</th>           <td> 4.954</td>   <th>  Prob(JB):          </th>  <td>    0.00</td>  \n",
       "</tr>\n",
       "<tr>\n",
       "  <th>Kurtosis:</th>       <td>72.195</td>   <th>  Cond. No.          </th>  <td>4.01e+05</td>  \n",
       "</tr>\n",
       "</table><br/><br/>Warnings:<br/>[1] Standard Errors assume that the covariance matrix of the errors is correctly specified.<br/>[2] The condition number is large, 4.01e+05. This might indicate that there are<br/>strong multicollinearity or other numerical problems."
      ],
      "text/plain": [
       "<class 'statsmodels.iolib.summary.Summary'>\n",
       "\"\"\"\n",
       "                            OLS Regression Results                            \n",
       "==============================================================================\n",
       "Dep. Variable:              SalePrice   R-squared:                       0.505\n",
       "Model:                            OLS   Adj. R-squared:                  0.504\n",
       "Method:                 Least Squares   F-statistic:                     1231.\n",
       "Date:                Sun, 04 Oct 2020   Prob (F-statistic):               0.00\n",
       "Time:                        09:32:22   Log-Likelihood:            -3.9981e+05\n",
       "No. Observations:               27786   AIC:                         7.997e+05\n",
       "Df Residuals:                   27762   BIC:                         7.999e+05\n",
       "Df Model:                          23                                         \n",
       "Covariance Type:            nonrobust                                         \n",
       "============================================================================================\n",
       "                               coef    std err          t      P>|t|      [0.025      0.975]\n",
       "--------------------------------------------------------------------------------------------\n",
       "Intercept                -2.103e+05   3.43e+04     -6.123      0.000   -2.78e+05   -1.43e+05\n",
       "SqFtTotLiving              185.1267      4.117     44.962      0.000     177.056     193.197\n",
       "Is_WaterFrontLocation     5.977e+05   1.58e+05      3.772      0.000    2.87e+05    9.08e+05\n",
       "SeattleSkyline            3.365e+05    2.9e+04     11.606      0.000     2.8e+05    3.93e+05\n",
       "View_LakeWashington       1.537e+05   8348.547     18.407      0.000    1.37e+05     1.7e+05\n",
       "View_SmallLakeRiverCreek  4.721e+04   1.51e+04      3.135      0.002    1.77e+04    7.67e+04\n",
       "View_MtRainier           -3.097e+04   1.04e+04     -2.991      0.003   -5.13e+04   -1.07e+04\n",
       "View_Olympics             6.091e+04   7011.193      8.688      0.000    4.72e+04    7.47e+04\n",
       "BldgGrade                 1.899e+05   5945.238     31.944      0.000    1.78e+05    2.02e+05\n",
       "Has_Finished_Basement     2.409e+04   6017.146      4.003      0.000    1.23e+04    3.59e+04\n",
       "Has_Attached_Garage      -1.548e+05   6176.834    -25.058      0.000   -1.67e+05   -1.43e+05\n",
       "Duwamish                 -7.941e+05   2.91e+05     -2.726      0.006   -1.37e+06   -2.23e+05\n",
       "Lake_Sammamish            1.023e+06   1.72e+05      5.940      0.000    6.85e+05    1.36e+06\n",
       "Lake_Washington            7.24e+05   1.66e+05      4.360      0.000    3.99e+05    1.05e+06\n",
       "Other_lake               -6.892e+05   1.57e+05     -4.402      0.000   -9.96e+05   -3.82e+05\n",
       "Puget_Sound              -3.557e+05   1.65e+05     -2.156      0.031   -6.79e+05   -3.23e+04\n",
       "River_or_slough          -6.202e+05    1.6e+05     -3.866      0.000   -9.35e+05   -3.06e+05\n",
       "Low_Average              -2.826e+05   2.26e+04    -12.528      0.000   -3.27e+05   -2.38e+05\n",
       "Average                  -4.161e+05   2.06e+04    -20.206      0.000   -4.56e+05   -3.76e+05\n",
       "Good                     -5.112e+05   2.13e+04    -24.022      0.000   -5.53e+05   -4.69e+05\n",
       "Better                   -4.923e+05   2.36e+04    -20.824      0.000   -5.39e+05   -4.46e+05\n",
       "Very_Good                 -3.39e+05   2.79e+04    -12.149      0.000   -3.94e+05   -2.84e+05\n",
       "Excellent                -3.487e+05   3.93e+04     -8.865      0.000   -4.26e+05   -2.72e+05\n",
       "Mansion                   3.983e+05    9.8e+04      4.062      0.000    2.06e+05     5.9e+05\n",
       "==============================================================================\n",
       "Omnibus:                    29355.018   Durbin-Watson:                   1.084\n",
       "Prob(Omnibus):                  0.000   Jarque-Bera (JB):          5656830.872\n",
       "Skew:                           4.954   Prob(JB):                         0.00\n",
       "Kurtosis:                      72.195   Cond. No.                     4.01e+05\n",
       "==============================================================================\n",
       "\n",
       "Warnings:\n",
       "[1] Standard Errors assume that the covariance matrix of the errors is correctly specified.\n",
       "[2] The condition number is large, 4.01e+05. This might indicate that there are\n",
       "strong multicollinearity or other numerical problems.\n",
       "\"\"\""
      ]
     },
     "execution_count": 42,
     "metadata": {},
     "output_type": "execute_result"
    }
   ],
   "source": [
    "outcome = 'SalePrice'      \n",
    "x_cols =[\n",
    " 'SqFtTotLiving',\n",
    "  'Is_WaterFrontLocation',           \n",
    " 'SeattleSkyline',                     \n",
    " 'View_LakeWashington',             \n",
    " 'View_SmallLakeRiverCreek',\n",
    "     'View_MtRainier',           \n",
    " 'View_Olympics',  \n",
    "#'View_Cascades',\n",
    "    #'View_PugetSound',\n",
    " 'BldgGrade',                           \n",
    " 'Has_Finished_Basement',    \n",
    " 'Has_Attached_Garage',      \n",
    " 'Duwamish',\n",
    " #'TrafficNoise',\n",
    " 'Lake_Sammamish',              \n",
    " 'Lake_Washington',          \n",
    " 'Other_lake',               \n",
    " 'Puget_Sound',              \n",
    " 'River_or_slough',                                   \n",
    " 'Low_Average',              \n",
    " 'Average',                  \n",
    " 'Good',                     \n",
    " 'Better',                   \n",
    " 'Very_Good',                                    \n",
    " 'Excellent',                               \n",
    " 'Mansion']                  \n",
    "\n",
    "predictors = '+'.join(x_cols)\n",
    "formula = outcome + '~' + predictors\n",
    "model2 = ols(formula=formula, data=comb_df).fit()\n",
    "model2.summary()"
   ]
  },
  {
   "cell_type": "code",
   "execution_count": 43,
   "metadata": {},
   "outputs": [
    {
     "data": {
      "image/png": "[encoded data removed]",
      "text/plain": [
       "<Figure size 432x288 with 1 Axes>"
      ]
     },
     "metadata": {
      "needs_background": "light"
     },
     "output_type": "display_data"
    }
   ],
   "source": [
    "#Checking for distribution normality\n",
    "fig = sm.graphics.qqplot(model2.resid, line='s',dist=stats.norm, fit=True)\n",
    "\n",
    "#results: no significant improvement"
   ]
  },
  {
   "cell_type": "code",
   "execution_count": 45,
   "metadata": {},
   "outputs": [
    {
     "data": {
      "image/png": "[encoded data removed]",
      "text/plain": [
       "<Figure size 432x288 with 1 Axes>"
      ]
     },
     "metadata": {
      "needs_background": "light"
     },
     "output_type": "display_data"
    }
   ],
   "source": [
    "#Homoscedasticity--checking for variance of residuals (errors)\n",
    "plt.scatter(model2.predict(comb_df[x_cols]), model2.resid)\n",
    "plt.plot(model2.predict(comb_df[x_cols]), [0 for i in range(len(comb_df))], color ='red');\n",
    "\n",
    "#result: similiar to Model 1, uneven distribution"
   ]
  },
  {
   "cell_type": "code",
   "execution_count": 46,
   "metadata": {},
   "outputs": [
    {
     "name": "stdout",
     "output_type": "stream",
     "text": [
      "Rainbow statistic: 1.0323552769646274\n",
      "Rainbow p-value: 0.03034560156036285\n"
     ]
    }
   ],
   "source": [
    "#Testing for linearity\n",
    "rainbow_statistic, rainbow_p_value = linear_rainbow(model2)\n",
    "print(\"Rainbow statistic:\", rainbow_statistic)\n",
    "print(\"Rainbow p-value:\", rainbow_p_value)"
   ]
  },
  {
   "cell_type": "code",
   "execution_count": 60,
   "metadata": {},
   "outputs": [
    {
     "data": {
      "text/plain": [
       "[('Very_Good', 1.174081380847239),\n",
       " ('View_LakeWashington', 1.6953446058248414),\n",
       " ('Excellent', 1.0798003423010987),\n",
       " ('Lake_Washington', 1.5745444992778448),\n",
       " ('Has_Attached_Garage', 1.9205209937546341),\n",
       " ('Luxury', 1.0370667889932788),\n",
       " ('PowerLines', 1.0125690452352096),\n",
       " ('Better', 1.3717867231065546),\n",
       " ('Has_Porch', 1.999350543535469),\n",
       " ('Mansion', 1.0236714262545683),\n",
       " ('SeattleSkyline', 1.1133974860035136),\n",
       " ('View_Olympics', 1.8588471573067729),\n",
       " ('View_MtRainier', 1.0549043145462849),\n",
       " ('Lake_Sammamish', 1.0098235120844945),\n",
       " ('Has_Finished_Basement', 1.445664530521855),\n",
       " ('View_PugetSound', 1.7936891775146435),\n",
       " ('View_SmallLakeRiverCreek', 1.0101737562642685),\n",
       " ('Low_Average', 1.0488789050365173),\n",
       " ('Average', 1.5005324287833162)]"
      ]
     },
     "execution_count": 60,
     "metadata": {},
     "output_type": "execute_result"
    }
   ],
   "source": [
    "#Checking for multi-collinearity\n",
    "X = comb_df[x_cols]\n",
    "vif = [variance_inflation_factor(X.values, i) for i in range(X.shape[1])]\n",
    "list(zip(x_cols, vif))\n",
    "\n",
    "#several features with high multi-collinearity"
   ]
  },
  {
   "cell_type": "markdown",
   "metadata": {},
   "source": [
    "### Model 3 - Model Improvement\n",
    "\n",
    "#### Based on Model 2, knew that still had high multicollinearity. Removed 'Is Water Front Location' and 'Building Grade' because broke these out into dummie columns and using that more detailed view. Using both sets of groupped and dummies adds to mullti-collinearity. \n",
    "\n",
    "#### From the EDA, we knew that 'Total Square Foot Living' had a significant impact on Sale Price.  Wanted to see how this feature realated to the other ones, so made a correlation matrix. This showed the correlation to other features such as homes with building grades of very high, excellent, Mansion, and with additional features such as garage, porch.  This makes sense because many of the homes with high sales price have these features and these tend to have high square footage. Given the high multicollinearity, we removed this total square food living from the model.\n",
    "\n",
    "#### Also from the EDA, we knew that 'Power Lines' did have an impact on sales price and is one of the claims we set out address and so put it back in to see if given the new improved model, it would be statistically significant and found that it was. \n",
    "\n",
    "#### The results of this model were:\n",
    "  #### -An R-squared: .470\n",
    "  #### -It is not normally distributed\n",
    "  #### -The variance of residuals (errors) is not distributed equally\n",
    "  #### -No multicollinearity: VIF all under 5, and condition number significantly decreased\n",
    "  #### -Passes linearity Rainbow test with a p-value of .0428\n",
    "  \n",
    "\n"
   ]
  },
  {
   "cell_type": "code",
   "execution_count": 50,
   "metadata": {},
   "outputs": [],
   "source": [
    "#data frame based on model 2 features to test remaining features against total square foot living.\n",
    "\n",
    "df_sqrtotal = comb_df[['SqFtTotLiving', \n",
    "         'Very_Good',\n",
    "          'View_LakeWashington',\n",
    "         'Excellent',  \n",
    "         'Lake_Washington', 'Has_Attached_Garage',\n",
    "         'Luxury', 'PowerLines',\n",
    "         'Better',\n",
    "         'Has_Porch','Has_Deck',\n",
    "         'Mansion',\n",
    " 'SeattleSkyline', \n",
    "         'View_Olympics', 'View_MtRainier',\n",
    "         'Lake_Sammamish',\n",
    "          'Has_Finished_Basement',\n",
    " 'View_PugetSound',          \n",
    " 'View_SmallLakeRiverCreek',                                   \n",
    " 'Low_Average',              \n",
    " 'Average']]    "
   ]
  },
  {
   "cell_type": "code",
   "execution_count": 48,
   "metadata": {},
   "outputs": [
    {
     "name": "stdout",
     "output_type": "stream",
     "text": [
      "SqFtTotLiving               1.000000\n",
      "Very_Good                   0.356228\n",
      "Has_Porch                   0.326771\n",
      "Has_Attached_Garage         0.324302\n",
      "Better                      0.317124\n",
      "Excellent                   0.293321\n",
      "Luxury                      0.234352\n",
      "View_LakeWashington         0.158712\n",
      "Mansion                     0.151901\n",
      "Has_Finished_Basement       0.128116\n",
      "View_Olympics               0.111656\n",
      "Lake_Washington             0.094026\n",
      "SeattleSkyline              0.084583\n",
      "View_PugetSound             0.064992\n",
      "Has_Deck                    0.063462\n",
      "View_MtRainier              0.061952\n",
      "Lake_Sammamish              0.052871\n",
      "PowerLines                  0.019450\n",
      "View_SmallLakeRiverCreek    0.018001\n",
      "Low_Average                -0.308539\n",
      "Average                    -0.349062\n",
      "Name: SqFtTotLiving, dtype: float64\n"
     ]
    }
   ],
   "source": [
    "#Correlation of features to Square foot living\n",
    "corr_matrix = df_sqrtotal.corr()\n",
    "print(corr_matrix[\"SqFtTotLiving\"].sort_values(ascending=False))"
   ]
  },
  {
   "cell_type": "code",
   "execution_count": 54,
   "metadata": {},
   "outputs": [
    {
     "data": {
      "text/html": [
       "<table class=\"simpletable\">\n",
       "<caption>OLS Regression Results</caption>\n",
       "<tr>\n",
       "  <th>Dep. Variable:</th>        <td>SalePrice</td>    <th>  R-squared:         </th>  <td>   0.470</td>  \n",
       "</tr>\n",
       "<tr>\n",
       "  <th>Model:</th>                   <td>OLS</td>       <th>  Adj. R-squared:    </th>  <td>   0.469</td>  \n",
       "</tr>\n",
       "<tr>\n",
       "  <th>Method:</th>             <td>Least Squares</td>  <th>  F-statistic:       </th>  <td>   1294.</td>  \n",
       "</tr>\n",
       "<tr>\n",
       "  <th>Date:</th>             <td>Sun, 04 Oct 2020</td> <th>  Prob (F-statistic):</th>   <td>  0.00</td>   \n",
       "</tr>\n",
       "<tr>\n",
       "  <th>Time:</th>                 <td>09:50:37</td>     <th>  Log-Likelihood:    </th> <td>-4.0076e+05</td>\n",
       "</tr>\n",
       "<tr>\n",
       "  <th>No. Observations:</th>      <td> 27786</td>      <th>  AIC:               </th>  <td>8.016e+05</td> \n",
       "</tr>\n",
       "<tr>\n",
       "  <th>Df Residuals:</th>          <td> 27766</td>      <th>  BIC:               </th>  <td>8.017e+05</td> \n",
       "</tr>\n",
       "<tr>\n",
       "  <th>Df Model:</th>              <td>    19</td>      <th>                     </th>      <td> </td>     \n",
       "</tr>\n",
       "<tr>\n",
       "  <th>Covariance Type:</th>      <td>nonrobust</td>    <th>                     </th>      <td> </td>     \n",
       "</tr>\n",
       "</table>\n",
       "<table class=\"simpletable\">\n",
       "<tr>\n",
       "              <td></td>                <th>coef</th>     <th>std err</th>      <th>t</th>      <th>P>|t|</th>  <th>[0.025</th>    <th>0.975]</th>  \n",
       "</tr>\n",
       "<tr>\n",
       "  <th>Intercept</th>                <td> 6.961e+05</td> <td> 7762.118</td> <td>   89.682</td> <td> 0.000</td> <td> 6.81e+05</td> <td> 7.11e+05</td>\n",
       "</tr>\n",
       "<tr>\n",
       "  <th>Very_Good</th>                <td> 7.966e+05</td> <td> 1.27e+04</td> <td>   62.935</td> <td> 0.000</td> <td> 7.72e+05</td> <td> 8.21e+05</td>\n",
       "</tr>\n",
       "<tr>\n",
       "  <th>View_LakeWashington</th>      <td> 1.733e+05</td> <td> 8701.147</td> <td>   19.914</td> <td> 0.000</td> <td> 1.56e+05</td> <td>  1.9e+05</td>\n",
       "</tr>\n",
       "<tr>\n",
       "  <th>Excellent</th>                <td> 1.302e+06</td> <td> 2.21e+04</td> <td>   58.807</td> <td> 0.000</td> <td> 1.26e+06</td> <td> 1.35e+06</td>\n",
       "</tr>\n",
       "<tr>\n",
       "  <th>Lake_Washington</th>          <td> 1.245e+06</td> <td> 5.13e+04</td> <td>   24.246</td> <td> 0.000</td> <td> 1.14e+06</td> <td> 1.35e+06</td>\n",
       "</tr>\n",
       "<tr>\n",
       "  <th>Has_Attached_Garage</th>      <td>-7.198e+04</td> <td> 6082.755</td> <td>  -11.834</td> <td> 0.000</td> <td>-8.39e+04</td> <td>-6.01e+04</td>\n",
       "</tr>\n",
       "<tr>\n",
       "  <th>Luxury</th>                   <td> 2.036e+06</td> <td> 4.02e+04</td> <td>   50.679</td> <td> 0.000</td> <td> 1.96e+06</td> <td> 2.11e+06</td>\n",
       "</tr>\n",
       "<tr>\n",
       "  <th>PowerLines</th>               <td>-6.618e+04</td> <td> 2.61e+04</td> <td>   -2.540</td> <td> 0.011</td> <td>-1.17e+05</td> <td>-1.51e+04</td>\n",
       "</tr>\n",
       "<tr>\n",
       "  <th>Better</th>                   <td> 3.317e+05</td> <td> 8488.539</td> <td>   39.077</td> <td> 0.000</td> <td> 3.15e+05</td> <td> 3.48e+05</td>\n",
       "</tr>\n",
       "<tr>\n",
       "  <th>Has_Porch</th>                <td> 7.634e+04</td> <td> 5694.890</td> <td>   13.404</td> <td> 0.000</td> <td> 6.52e+04</td> <td> 8.75e+04</td>\n",
       "</tr>\n",
       "<tr>\n",
       "  <th>Mansion</th>                  <td>  2.96e+06</td> <td> 9.18e+04</td> <td>   32.245</td> <td> 0.000</td> <td> 2.78e+06</td> <td> 3.14e+06</td>\n",
       "</tr>\n",
       "<tr>\n",
       "  <th>SeattleSkyline</th>           <td> 3.121e+05</td> <td>    3e+04</td> <td>   10.417</td> <td> 0.000</td> <td> 2.53e+05</td> <td> 3.71e+05</td>\n",
       "</tr>\n",
       "<tr>\n",
       "  <th>View_Olympics</th>            <td> 5.798e+04</td> <td> 9193.399</td> <td>    6.306</td> <td> 0.000</td> <td>    4e+04</td> <td>  7.6e+04</td>\n",
       "</tr>\n",
       "<tr>\n",
       "  <th>View_MtRainier</th>           <td>-2.287e+04</td> <td> 1.08e+04</td> <td>   -2.119</td> <td> 0.034</td> <td> -4.4e+04</td> <td>-1717.248</td>\n",
       "</tr>\n",
       "<tr>\n",
       "  <th>Lake_Sammamish</th>           <td> 1.664e+06</td> <td> 6.98e+04</td> <td>   23.853</td> <td> 0.000</td> <td> 1.53e+06</td> <td>  1.8e+06</td>\n",
       "</tr>\n",
       "<tr>\n",
       "  <th>Has_Finished_Basement</th>    <td> 1.075e+05</td> <td> 6050.297</td> <td>   17.768</td> <td> 0.000</td> <td> 9.56e+04</td> <td> 1.19e+05</td>\n",
       "</tr>\n",
       "<tr>\n",
       "  <th>View_PugetSound</th>          <td> 3.102e+04</td> <td> 8886.728</td> <td>    3.490</td> <td> 0.000</td> <td> 1.36e+04</td> <td> 4.84e+04</td>\n",
       "</tr>\n",
       "<tr>\n",
       "  <th>View_SmallLakeRiverCreek</th> <td> 3.345e+04</td> <td> 9966.145</td> <td>    3.356</td> <td> 0.001</td> <td> 1.39e+04</td> <td>  5.3e+04</td>\n",
       "</tr>\n",
       "<tr>\n",
       "  <th>Low_Average</th>              <td>-2.679e+05</td> <td> 1.07e+04</td> <td>  -25.007</td> <td> 0.000</td> <td>-2.89e+05</td> <td>-2.47e+05</td>\n",
       "</tr>\n",
       "<tr>\n",
       "  <th>Average</th>                  <td>-1.583e+05</td> <td> 6505.426</td> <td>  -24.337</td> <td> 0.000</td> <td>-1.71e+05</td> <td>-1.46e+05</td>\n",
       "</tr>\n",
       "</table>\n",
       "<table class=\"simpletable\">\n",
       "<tr>\n",
       "  <th>Omnibus:</th>       <td>28494.711</td> <th>  Durbin-Watson:     </th>  <td>   1.095</td>  \n",
       "</tr>\n",
       "<tr>\n",
       "  <th>Prob(Omnibus):</th>  <td> 0.000</td>   <th>  Jarque-Bera (JB):  </th> <td>4549787.269</td>\n",
       "</tr>\n",
       "<tr>\n",
       "  <th>Skew:</th>           <td> 4.763</td>   <th>  Prob(JB):          </th>  <td>    0.00</td>  \n",
       "</tr>\n",
       "<tr>\n",
       "  <th>Kurtosis:</th>       <td>64.961</td>   <th>  Cond. No.          </th>  <td>    49.2</td>  \n",
       "</tr>\n",
       "</table><br/><br/>Warnings:<br/>[1] Standard Errors assume that the covariance matrix of the errors is correctly specified."
      ],
      "text/plain": [
       "<class 'statsmodels.iolib.summary.Summary'>\n",
       "\"\"\"\n",
       "                            OLS Regression Results                            \n",
       "==============================================================================\n",
       "Dep. Variable:              SalePrice   R-squared:                       0.470\n",
       "Model:                            OLS   Adj. R-squared:                  0.469\n",
       "Method:                 Least Squares   F-statistic:                     1294.\n",
       "Date:                Sun, 04 Oct 2020   Prob (F-statistic):               0.00\n",
       "Time:                        09:50:37   Log-Likelihood:            -4.0076e+05\n",
       "No. Observations:               27786   AIC:                         8.016e+05\n",
       "Df Residuals:                   27766   BIC:                         8.017e+05\n",
       "Df Model:                          19                                         \n",
       "Covariance Type:            nonrobust                                         \n",
       "============================================================================================\n",
       "                               coef    std err          t      P>|t|      [0.025      0.975]\n",
       "--------------------------------------------------------------------------------------------\n",
       "Intercept                 6.961e+05   7762.118     89.682      0.000    6.81e+05    7.11e+05\n",
       "Very_Good                 7.966e+05   1.27e+04     62.935      0.000    7.72e+05    8.21e+05\n",
       "View_LakeWashington       1.733e+05   8701.147     19.914      0.000    1.56e+05     1.9e+05\n",
       "Excellent                 1.302e+06   2.21e+04     58.807      0.000    1.26e+06    1.35e+06\n",
       "Lake_Washington           1.245e+06   5.13e+04     24.246      0.000    1.14e+06    1.35e+06\n",
       "Has_Attached_Garage      -7.198e+04   6082.755    -11.834      0.000   -8.39e+04   -6.01e+04\n",
       "Luxury                    2.036e+06   4.02e+04     50.679      0.000    1.96e+06    2.11e+06\n",
       "PowerLines               -6.618e+04   2.61e+04     -2.540      0.011   -1.17e+05   -1.51e+04\n",
       "Better                    3.317e+05   8488.539     39.077      0.000    3.15e+05    3.48e+05\n",
       "Has_Porch                 7.634e+04   5694.890     13.404      0.000    6.52e+04    8.75e+04\n",
       "Mansion                    2.96e+06   9.18e+04     32.245      0.000    2.78e+06    3.14e+06\n",
       "SeattleSkyline            3.121e+05      3e+04     10.417      0.000    2.53e+05    3.71e+05\n",
       "View_Olympics             5.798e+04   9193.399      6.306      0.000       4e+04     7.6e+04\n",
       "View_MtRainier           -2.287e+04   1.08e+04     -2.119      0.034    -4.4e+04   -1717.248\n",
       "Lake_Sammamish            1.664e+06   6.98e+04     23.853      0.000    1.53e+06     1.8e+06\n",
       "Has_Finished_Basement     1.075e+05   6050.297     17.768      0.000    9.56e+04    1.19e+05\n",
       "View_PugetSound           3.102e+04   8886.728      3.490      0.000    1.36e+04    4.84e+04\n",
       "View_SmallLakeRiverCreek  3.345e+04   9966.145      3.356      0.001    1.39e+04     5.3e+04\n",
       "Low_Average              -2.679e+05   1.07e+04    -25.007      0.000   -2.89e+05   -2.47e+05\n",
       "Average                  -1.583e+05   6505.426    -24.337      0.000   -1.71e+05   -1.46e+05\n",
       "==============================================================================\n",
       "Omnibus:                    28494.711   Durbin-Watson:                   1.095\n",
       "Prob(Omnibus):                  0.000   Jarque-Bera (JB):          4549787.269\n",
       "Skew:                           4.763   Prob(JB):                         0.00\n",
       "Kurtosis:                      64.961   Cond. No.                         49.2\n",
       "==============================================================================\n",
       "\n",
       "Warnings:\n",
       "[1] Standard Errors assume that the covariance matrix of the errors is correctly specified.\n",
       "\"\"\""
      ]
     },
     "execution_count": 54,
     "metadata": {},
     "output_type": "execute_result"
    }
   ],
   "source": [
    "#Model 3\n",
    "outcome = 'SalePrice'      \n",
    "x_cols =[  'Very_Good',\n",
    "          'View_LakeWashington',\n",
    "         'Excellent',  \n",
    "         'Lake_Washington', 'Has_Attached_Garage',\n",
    "         'Luxury', \n",
    "    'PowerLines',\n",
    "         'Better',\n",
    "         'Has_Porch',\n",
    "         'Mansion',\n",
    " 'SeattleSkyline', \n",
    "         'View_Olympics', 'View_MtRainier',\n",
    "         'Lake_Sammamish',\n",
    "          'Has_Finished_Basement',\n",
    " 'View_PugetSound',          \n",
    " 'View_SmallLakeRiverCreek',                                   \n",
    " 'Low_Average',              \n",
    " 'Average']                  \n",
    "\n",
    "predictors = '+'.join(x_cols)\n",
    "formula = outcome + '~' + predictors\n",
    "model3 = ols(formula=formula, data=comb_df).fit()\n",
    "model3.summary()"
   ]
  },
  {
   "cell_type": "code",
   "execution_count": 55,
   "metadata": {},
   "outputs": [
    {
     "data": {
      "image/png": "[encoded data removed]",
      "text/plain": [
       "<Figure size 432x288 with 1 Axes>"
      ]
     },
     "metadata": {
      "needs_background": "light"
     },
     "output_type": "display_data"
    }
   ],
   "source": [
    "#Checking for distribution normality\n",
    "fig = sm.graphics.qqplot(model4.resid, line='s',dist=stats.norm, fit=True)\n",
    "\n",
    "#result: not normally distributed"
   ]
  },
  {
   "cell_type": "code",
   "execution_count": 61,
   "metadata": {},
   "outputs": [
    {
     "data": {
      "image/png": "[encoded data removed]",
      "text/plain": [
       "<Figure size 432x288 with 1 Axes>"
      ]
     },
     "metadata": {
      "needs_background": "light"
     },
     "output_type": "display_data"
    }
   ],
   "source": [
    "#Homoscedasticity--checking for variance of residuals (errors)\n",
    "plt.scatter(model3.predict(comb_df[x_cols]), model3.resid)\n",
    "plt.plot(model3.predict(comb_df[x_cols]), [0 for i in range(len(comb_df))],color ='red');\n"
   ]
  },
  {
   "cell_type": "code",
   "execution_count": 63,
   "metadata": {},
   "outputs": [
    {
     "name": "stdout",
     "output_type": "stream",
     "text": [
      "Rainbow statistic: 1.0323552769646274\n",
      "Rainbow p-value: 0.03034560156036285\n"
     ]
    }
   ],
   "source": [
    "#Testing for linearity\n",
    "rainbow_statistic, rainbow_p_value = linear_rainbow(model3)\n",
    "print(\"Rainbow statistic:\", rainbow_statistic)\n",
    "print(\"Rainbow p-value:\", rainbow_p_value)"
   ]
  },
  {
   "cell_type": "code",
   "execution_count": 62,
   "metadata": {},
   "outputs": [
    {
     "data": {
      "text/plain": [
       "[('Very_Good', 1.174081380847239),\n",
       " ('View_LakeWashington', 1.6953446058248414),\n",
       " ('Excellent', 1.0798003423010987),\n",
       " ('Lake_Washington', 1.5745444992778448),\n",
       " ('Has_Attached_Garage', 1.9205209937546341),\n",
       " ('Luxury', 1.0370667889932788),\n",
       " ('PowerLines', 1.0125690452352096),\n",
       " ('Better', 1.3717867231065546),\n",
       " ('Has_Porch', 1.999350543535469),\n",
       " ('Mansion', 1.0236714262545683),\n",
       " ('SeattleSkyline', 1.1133974860035136),\n",
       " ('View_Olympics', 1.8588471573067729),\n",
       " ('View_MtRainier', 1.0549043145462849),\n",
       " ('Lake_Sammamish', 1.0098235120844945),\n",
       " ('Has_Finished_Basement', 1.445664530521855),\n",
       " ('View_PugetSound', 1.7936891775146435),\n",
       " ('View_SmallLakeRiverCreek', 1.0101737562642685),\n",
       " ('Low_Average', 1.0488789050365173),\n",
       " ('Average', 1.5005324287833162)]"
      ]
     },
     "execution_count": 62,
     "metadata": {},
     "output_type": "execute_result"
    }
   ],
   "source": [
    "#Checking for multi-collinearity\n",
    "X = comb_df[x_cols]\n",
    "vif = [variance_inflation_factor(X.values, i) for i in range(X.shape[1])]\n",
    "list(zip(x_cols, vif))\n"
   ]
  },
  {
   "cell_type": "code",
   "execution_count": null,
   "metadata": {},
   "outputs": [],
   "source": []
  }
 ],
 "metadata": {
  "kernelspec": {
   "display_name": "learn-env",
   "language": "python",
   "name": "learn-env"
  },
  "language_info": {
   "codemirror_mode": {
    "name": "ipython",
    "version": 3
   },
   "file_extension": ".py",
   "mimetype": "text/x-python",
   "name": "python",
   "nbconvert_exporter": "python",
   "pygments_lexer": "ipython3",
   "version": "3.8.3"
  }
 },
 "nbformat": 4,
 "nbformat_minor": 4
}
