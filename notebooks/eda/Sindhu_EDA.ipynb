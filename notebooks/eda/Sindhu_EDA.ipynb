{
 "cells": [
  {
   "cell_type": "code",
   "execution_count": 1,
   "metadata": {},
   "outputs": [],
   "source": [
    "import pandas as pd\n",
    "import numpy as np\n",
    "import zipfile"
   ]
  },
  {
   "cell_type": "markdown",
   "metadata": {},
   "source": [
    "## Import Data"
   ]
  },
  {
   "cell_type": "code",
   "execution_count": 2,
   "metadata": {
    "scrolled": true
   },
   "outputs": [],
   "source": [
    "# ! wget -P ../../data/raw https://aqua.kingcounty.gov/extranet/assessor/Parcel.zip\n",
    "# ! wget -P ../../data/raw https://aqua.kingcounty.gov/extranet/assessor/Real%20Property%20Sales.zip\n",
    "# ! wget -P ../../data/raw https://aqua.kingcounty.gov/extranet/assessor/Residential%20Building.zip"
   ]
  },
  {
   "cell_type": "code",
   "execution_count": 3,
   "metadata": {},
   "outputs": [],
   "source": [
    "# with zipfile.ZipFile('../../data/raw/Parcel.zip', 'r') as zip_ref:\n",
    "#     zip_ref.extractall('../../data/raw')\n",
    "# with zipfile.ZipFile('../../data/raw/Real Property Sales.zip', 'r') as zip_ref:\n",
    "#     zip_ref.extractall('../../data/raw')\n",
    "# with zipfile.ZipFile('../../data/raw/Residential Building.zip', 'r') as zip_ref:\n",
    "#     zip_ref.extractall('../../data/raw')"
   ]
  },
  {
   "cell_type": "code",
   "execution_count": 4,
   "metadata": {},
   "outputs": [],
   "source": [
    "parcel = pd.read_csv(\"../../data/raw/EXTR_Parcel.csv\", encoding='latin-1')\n",
    "real_property_sales = pd.read_csv(\"../../data/raw/EXTR_RPSale.csv\", encoding='latin-1', low_memory=False)\n",
    "residential_building = pd.read_csv(\"../../data/raw/EXTR_ResBldg.csv\", encoding='latin-1', low_memory=False)"
   ]
  },
  {
   "cell_type": "markdown",
   "metadata": {},
   "source": [
    "## Clean Data and Filter For Needed Info"
   ]
  },
  {
   "cell_type": "markdown",
   "metadata": {},
   "source": [
    "### Property Sales"
   ]
  },
  {
   "cell_type": "code",
   "execution_count": 5,
   "metadata": {},
   "outputs": [],
   "source": [
    "# Real Property Sales\n",
    "# Identifyers are Major and Minor. Relevant data is SalePrice\n",
    "# Clean real_property_sales to have proper values in Minor and Major and change type to int to match other data sets\n",
    "real_property_sales = real_property_sales[['Major', 'Minor', 'SalePrice', 'DocumentDate']]\n",
    "real_property_sales = real_property_sales[(real_property_sales['Major'].str.isdecimal()==True) &\n",
    "                                          (real_property_sales['Minor'].str.isdecimal()==True)]\n",
    "real_property_sales['Major'] = real_property_sales['Major'].astype('int64')\n",
    "real_property_sales['Minor'] = real_property_sales['Minor'].astype('int64')\n",
    "real_property_sales = real_property_sales[real_property_sales['SalePrice']>0]"
   ]
  },
  {
   "cell_type": "code",
   "execution_count": 6,
   "metadata": {},
   "outputs": [
    {
     "data": {
      "text/html": [
       "<div>\n",
       "<style scoped>\n",
       "    .dataframe tbody tr th:only-of-type {\n",
       "        vertical-align: middle;\n",
       "    }\n",
       "\n",
       "    .dataframe tbody tr th {\n",
       "        vertical-align: top;\n",
       "    }\n",
       "\n",
       "    .dataframe thead th {\n",
       "        text-align: right;\n",
       "    }\n",
       "</style>\n",
       "<table border=\"1\" class=\"dataframe\">\n",
       "  <thead>\n",
       "    <tr style=\"text-align: right;\">\n",
       "      <th></th>\n",
       "      <th>Major</th>\n",
       "      <th>Minor</th>\n",
       "      <th>SalePrice</th>\n",
       "      <th>DocumentDate</th>\n",
       "    </tr>\n",
       "  </thead>\n",
       "  <tbody>\n",
       "    <tr>\n",
       "      <th>2</th>\n",
       "      <td>330395</td>\n",
       "      <td>1610</td>\n",
       "      <td>335000</td>\n",
       "      <td>06/07/2012</td>\n",
       "    </tr>\n",
       "    <tr>\n",
       "      <th>3</th>\n",
       "      <td>675260</td>\n",
       "      <td>940</td>\n",
       "      <td>209950</td>\n",
       "      <td>03/06/1998</td>\n",
       "    </tr>\n",
       "    <tr>\n",
       "      <th>5</th>\n",
       "      <td>269549</td>\n",
       "      <td>190</td>\n",
       "      <td>154950</td>\n",
       "      <td>07/23/2000</td>\n",
       "    </tr>\n",
       "    <tr>\n",
       "      <th>6</th>\n",
       "      <td>638580</td>\n",
       "      <td>110</td>\n",
       "      <td>190000</td>\n",
       "      <td>07/14/2015</td>\n",
       "    </tr>\n",
       "    <tr>\n",
       "      <th>8</th>\n",
       "      <td>321165</td>\n",
       "      <td>50</td>\n",
       "      <td>2100000</td>\n",
       "      <td>05/10/2004</td>\n",
       "    </tr>\n",
       "  </tbody>\n",
       "</table>\n",
       "</div>"
      ],
      "text/plain": [
       "    Major  Minor  SalePrice DocumentDate\n",
       "2  330395   1610     335000   06/07/2012\n",
       "3  675260    940     209950   03/06/1998\n",
       "5  269549    190     154950   07/23/2000\n",
       "6  638580    110     190000   07/14/2015\n",
       "8  321165     50    2100000   05/10/2004"
      ]
     },
     "execution_count": 6,
     "metadata": {},
     "output_type": "execute_result"
    }
   ],
   "source": [
    "real_property_sales.head()"
   ]
  },
  {
   "cell_type": "markdown",
   "metadata": {},
   "source": [
    "### Parcel"
   ]
  },
  {
   "cell_type": "code",
   "execution_count": 7,
   "metadata": {},
   "outputs": [],
   "source": [
    "# parcel.info()"
   ]
  },
  {
   "cell_type": "code",
   "execution_count": 8,
   "metadata": {},
   "outputs": [
    {
     "name": "stdout",
     "output_type": "stream",
     "text": [
      "<class 'pandas.core.frame.DataFrame'>\n",
      "RangeIndex: 616110 entries, 0 to 616109\n",
      "Data columns (total 16 columns):\n",
      " #   Column               Non-Null Count   Dtype \n",
      "---  ------               --------------   ----- \n",
      " 0   Major                616110 non-null  int64 \n",
      " 1   Minor                616110 non-null  int64 \n",
      " 2   PropType             616110 non-null  object\n",
      " 3   SqFtLot              616110 non-null  int64 \n",
      " 4   WfntLocation         616110 non-null  int64 \n",
      " 5   TrafficNoise         616110 non-null  int64 \n",
      " 6   AirportNoise         616110 non-null  int64 \n",
      " 7   PowerLines           616110 non-null  object\n",
      " 8   OtherNuisances       616110 non-null  object\n",
      " 9   MtRainier            616110 non-null  int64 \n",
      " 10  Olympics             616110 non-null  int64 \n",
      " 11  Cascades             616110 non-null  int64 \n",
      " 12  PugetSound           616110 non-null  int64 \n",
      " 13  LakeWashington       616110 non-null  int64 \n",
      " 14  LakeSammamish        616110 non-null  int64 \n",
      " 15  SmallLakeRiverCreek  616110 non-null  int64 \n",
      "dtypes: int64(13), object(3)\n",
      "memory usage: 75.2+ MB\n"
     ]
    }
   ],
   "source": [
    "# Parcel Filter for Necessary Columns\n",
    "parcel = parcel[['Major', 'Minor', 'PropType', 'SqFtLot', 'WfntLocation',\n",
    "                 'TrafficNoise', 'AirportNoise', 'PowerLines', 'OtherNuisances',\n",
    "                 'MtRainier', 'Olympics', 'Cascades', 'PugetSound', 'LakeWashington',\n",
    "                 'LakeSammamish', 'SmallLakeRiverCreek',]]\n",
    "parcel.info()"
   ]
  },
  {
   "cell_type": "code",
   "execution_count": 9,
   "metadata": {},
   "outputs": [],
   "source": [
    "parcel = parcel[(parcel['PropType']=='R') | (parcel['PropType']=='K')]"
   ]
  },
  {
   "cell_type": "markdown",
   "metadata": {},
   "source": [
    "### Residential Buiding"
   ]
  },
  {
   "cell_type": "code",
   "execution_count": 10,
   "metadata": {},
   "outputs": [],
   "source": [
    "# residential_building.info()"
   ]
  },
  {
   "cell_type": "code",
   "execution_count": 11,
   "metadata": {},
   "outputs": [],
   "source": [
    "# Residential Buiding Filter For Necessary Columns\n",
    "residential_building = residential_building[['Major', 'Minor', 'ZipCode', 'NbrLivingUnits', 'SqFtTotLiving', 'SqFtOpenPorch', 'SqFtEnclosedPorch', 'BldgGrade', 'SqFtDeck']]"
   ]
  },
  {
   "cell_type": "code",
   "execution_count": 12,
   "metadata": {
    "scrolled": true
   },
   "outputs": [],
   "source": [
    "# Create a column Has_Porch\n",
    "residential_building['Has_Porch']= residential_building['SqFtOpenPorch'] + residential_building['SqFtEnclosedPorch']\n",
    "residential_building['Has_Porch'] = [1  if p>0 else 0 for p in residential_building['Has_Porch']]\n",
    "residential_building['Has_OpenPorch'] = [1  if p>0 else 0 for p in residential_building['SqFtOpenPorch']]\n",
    "residential_building['Has_EnclosedPorch'] = [1  if p>0 else 0 for p in residential_building['SqFtEnclosedPorch']]"
   ]
  },
  {
   "cell_type": "code",
   "execution_count": 14,
   "metadata": {},
   "outputs": [],
   "source": [
    "residential_building['Has_Deck'] = [1  if d>0 else 0 for d in residential_building['SqFtDeck']]"
   ]
  },
  {
   "cell_type": "code",
   "execution_count": 15,
   "metadata": {},
   "outputs": [
    {
     "name": "stdout",
     "output_type": "stream",
     "text": [
      "<class 'pandas.core.frame.DataFrame'>\n",
      "RangeIndex: 517783 entries, 0 to 517782\n",
      "Data columns (total 13 columns):\n",
      " #   Column             Non-Null Count   Dtype \n",
      "---  ------             --------------   ----- \n",
      " 0   Major              517783 non-null  int64 \n",
      " 1   Minor              517783 non-null  int64 \n",
      " 2   ZipCode            470012 non-null  object\n",
      " 3   NbrLivingUnits     517783 non-null  int64 \n",
      " 4   SqFtTotLiving      517783 non-null  int64 \n",
      " 5   SqFtOpenPorch      517783 non-null  int64 \n",
      " 6   SqFtEnclosedPorch  517783 non-null  int64 \n",
      " 7   BldgGrade          517783 non-null  int64 \n",
      " 8   SqFtDeck           517783 non-null  int64 \n",
      " 9   Has_Porch          517783 non-null  int64 \n",
      " 10  Has_OpenPorch      517783 non-null  int64 \n",
      " 11  Has_EnclosedPorch  517783 non-null  int64 \n",
      " 12  Has_Deck           517783 non-null  int64 \n",
      "dtypes: int64(12), object(1)\n",
      "memory usage: 51.4+ MB\n"
     ]
    }
   ],
   "source": [
    "residential_building.info()"
   ]
  },
  {
   "cell_type": "markdown",
   "metadata": {},
   "source": [
    "### Merge Property Sales, parcel, and residential building data"
   ]
  },
  {
   "cell_type": "code",
   "execution_count": 16,
   "metadata": {},
   "outputs": [],
   "source": [
    "# Join all the tables on Major, Minor\n",
    "# Have duplicate buildings sold at different dates. Need to only keep latest dates\n",
    "merged_tables = (parcel.merge(real_property_sales, on = ['Major', 'Minor'])).merge(residential_building, on = ['Major', 'Minor']).drop_duplicates()\n",
    "# Change dates to date time format\n",
    "merged_tables[['Major', 'SqFtLot']].head(20)\n",
    "merged_tables['DocumentDate'] = pd.to_datetime(merged_tables['DocumentDate'])"
   ]
  },
  {
   "cell_type": "code",
   "execution_count": 17,
   "metadata": {},
   "outputs": [
    {
     "data": {
      "text/plain": [
       "(991836, 29)"
      ]
     },
     "execution_count": 17,
     "metadata": {},
     "output_type": "execute_result"
    }
   ],
   "source": [
    "merged_tables.shape"
   ]
  },
  {
   "cell_type": "code",
   "execution_count": 18,
   "metadata": {
    "scrolled": true
   },
   "outputs": [],
   "source": [
    "#Keeping only the most recent Sale_Price\n",
    "\n",
    "merged_tables = merged_tables.sort_values(by=['Major', 'DocumentDate'])\n",
    "merged_tables.drop_duplicates(subset=['Major', 'Minor'], keep='last', inplace=True)"
   ]
  },
  {
   "cell_type": "code",
   "execution_count": 19,
   "metadata": {},
   "outputs": [
    {
     "data": {
      "text/plain": [
       "(28009, 29)"
      ]
     },
     "execution_count": 19,
     "metadata": {},
     "output_type": "execute_result"
    }
   ],
   "source": [
    "# Filtering for only 2019 data\n",
    "start_date = \"2019-1-1\"\n",
    "end_date = \"2019-12-31\"\n",
    "merged_tables = merged_tables.loc[(merged_tables[\"DocumentDate\"] >= start_date) & (merged_tables[\"DocumentDate\"] <= end_date)]\n",
    "\n",
    "merged_tables.shape"
   ]
  },
  {
   "cell_type": "code",
   "execution_count": 20,
   "metadata": {
    "scrolled": true
   },
   "outputs": [],
   "source": [
    "# change dataframe name to df to make life easier\n",
    "df = merged_tables #.sort_values(by = 'DocumentDate', ascending=False)\n",
    "\n",
    "#Create Nuisances Column to replace other nuisance columns\n",
    "df['Nuisances'] = 'No Nuisances'\n",
    "df.loc[(df['TrafficNoise']>0), 'Nuisances'] = 'Traffic Noise'\n",
    "df.loc[(df['AirportNoise']>0), 'Nuisances'] = 'Airport Noise'\n",
    "df.loc[(df['PowerLines']=='Y'), 'Nuisances'] = 'Power Lines'\n",
    "df.loc[(df['OtherNuisances']=='Y'), 'Nuisances'] = 'Other Nuisances'\n",
    "df = df.drop(['PropType', 'AirportNoise', 'SqFtOpenPorch', 'SqFtEnclosedPorch'], axis='columns')\n",
    "df['PowerLines'] = df['PowerLines'].map({'Y' : 1, 'N' : 0})\n",
    "df['OtherNuisances'] = df['OtherNuisances'].map({'Y' : 1, 'N' : 0})\n",
    "df['Has_Nuisance'] = [0 if n == 'No Nuisances' else 1 for n in df['Nuisances']]"
   ]
  },
  {
   "cell_type": "code",
   "execution_count": 21,
   "metadata": {},
   "outputs": [],
   "source": [
    "# WFNTLOCATION\n",
    "# Waterfront location (Source: King County Assessments)\n",
    "# Value\tDefinition\n",
    "# 0\tUnknown\n",
    "# 1\tDuwamish\n",
    "# 2\tElliott Bay\n",
    "# 3\tPuget Sound\n",
    "# 4\tLake Union\n",
    "# 5\tShip Canal\n",
    "# 6\tLake Washington\n",
    "# 7\tLake Sammamish\n",
    "# 8\tOther lake\n",
    "# 9\tRiver or slough\n",
    "\n",
    "df['WaterFrontLocation'] = df.WfntLocation.map({0 : 'None', 1 : 'Duwamish', 2 : 'Elliott Bay', 3 : 'Puget Sound', 4 : 'Lake Union',\n",
    "                     5 : 'Ship Canal',  6 : 'Lake Washington', 7 : 'Lake Sammamish', 8 : 'Other lake', 9 : 'River or slough'})\n",
    "df['Is_WaterFrontLocation'] = [1 if i>0 else 0 for i in df.WfntLocation]\n",
    "df=df.drop('WfntLocation', axis='columns')"
   ]
  },
  {
   "cell_type": "code",
   "execution_count": 22,
   "metadata": {},
   "outputs": [
    {
     "data": {
      "text/plain": [
       "7     10061\n",
       "8      9114\n",
       "9      4001\n",
       "6      2406\n",
       "10     1483\n",
       "11      438\n",
       "5       308\n",
       "12      128\n",
       "4        35\n",
       "13       29\n",
       "3         5\n",
       "1         1\n",
       "Name: BldgGrade, dtype: int64"
      ]
     },
     "execution_count": 22,
     "metadata": {},
     "output_type": "execute_result"
    }
   ],
   "source": [
    "df['BldgGrade'].value_counts()"
   ]
  },
  {
   "cell_type": "code",
   "execution_count": 23,
   "metadata": {
    "scrolled": true
   },
   "outputs": [],
   "source": [
    "# 1 : 'Poor'\n",
    "# 2 : 'Low',\n",
    "# 3 : 'Fair'\n",
    "# 4 : 'Low-Average'\n",
    "# 5 : 'Average'\n",
    "# 6 : 'Good'\n",
    "# 7 : 'Better'\n",
    "# 8 : 'Very Good'\n",
    "# 9 : 'Cabin',\n",
    "# 10 : 'Excellent'\n",
    "# 11 : 'Luxury'\n",
    "# 12 : 'Mansion'\n",
    "\n",
    "df['BldgGrade'] = df.BldgGrade.map({3 : 1, 4 : 2, 5 : 3,  6 : 4, 7 : 5, 8 : 6, 9 : 7, 10 : 8,\n",
    "                                    1: 9, 11 : 10, 12 : 11, 13 : 12})"
   ]
  },
  {
   "cell_type": "code",
   "execution_count": 24,
   "metadata": {
    "scrolled": true
   },
   "outputs": [],
   "source": [
    "# reorder Columns\n",
    "df = df[['Major', 'Minor', 'ZipCode', 'DocumentDate', 'SalePrice', 'SqFtLot', 'SqFtTotLiving',\n",
    "         'Nuisances', 'Has_Nuisance', 'TrafficNoise', 'PowerLines', 'OtherNuisances',\n",
    "         'Is_WaterFrontLocation', 'WaterFrontLocation', 'Has_Porch', 'Has_OpenPorch',\n",
    "         'Has_EnclosedPorch', 'NbrLivingUnits', 'MtRainier', 'Olympics', 'Cascades',\n",
    "         'PugetSound', 'LakeWashington', 'LakeSammamish', 'SmallLakeRiverCreek', 'BldgGrade', 'Has_Deck']]"
   ]
  },
  {
   "cell_type": "code",
   "execution_count": 25,
   "metadata": {},
   "outputs": [],
   "source": [
    "df.rename(columns={'MtRainier': 'View_MtRainier', 'Olympics': 'View_Olympics', 'Cascades': 'View_Cascades',\n",
    "                   'PugetSound': 'View_PugetSound', 'LakeWashington': 'View_LakeWashington',\n",
    "                   'LakeSammamish': 'View_LakeSammamish','SmallLakeRiverCreek': 'View_SmallLakeRiverCreek',}, inplace = True)"
   ]
  },
  {
   "cell_type": "code",
   "execution_count": 26,
   "metadata": {},
   "outputs": [],
   "source": [
    "# Add in and clean zipcode column\n",
    "\n",
    "df['ZipCode'] = df['ZipCode'].astype('str')\n",
    "df['ZipCode'] = [None if len(code)<5 else code for code in df['ZipCode']]\n",
    "df = df.sort_values(by=['Major', 'ZipCode'])\n",
    "df['ZipCode'] = df['ZipCode'].fillna(method='ffill')\n",
    "df['ZipCode'] = [code[0:5] for code in df['ZipCode']]"
   ]
  },
  {
   "cell_type": "code",
   "execution_count": 27,
   "metadata": {},
   "outputs": [],
   "source": [
    "# Check x if have the relevant data to answer question\n",
    "# [x]Higher square footage increases home sale price1, 2\n",
    "# [x]Having a porch increases home sale price3, 4\n",
    "# [x]Having a beachfront or lakefront increases home sale price5\n",
    "# [x]The house filling a higher proportion of the overall lot decreases home sale price6\n",
    "# [x]The cost per square foot is lower in duplexes than in single-family homes7\n",
    "# [x]The presence of a nuisance (power lines, traffic noise, airport noise) decreases home sale price1, 5"
   ]
  },
  {
   "cell_type": "markdown",
   "metadata": {},
   "source": [
    "## Graphical EDA"
   ]
  },
  {
   "cell_type": "code",
   "execution_count": 28,
   "metadata": {},
   "outputs": [],
   "source": [
    "import matplotlib.pyplot as plt\n",
    "import seaborn as sns"
   ]
  },
  {
   "cell_type": "markdown",
   "metadata": {},
   "source": [
    "### Plot some distributions and box plots and Remove Outliers"
   ]
  },
  {
   "cell_type": "code",
   "execution_count": 29,
   "metadata": {},
   "outputs": [
    {
     "data": {
      "text/plain": [
       "<matplotlib.axes._subplots.AxesSubplot at 0x1e1aea83910>"
      ]
     },
     "execution_count": 29,
     "metadata": {},
     "output_type": "execute_result"
    },
    {
     "data": {
      "image/png": "[encoded data removed]",
      "text/plain": [
       "<Figure size 432x288 with 1 Axes>"
      ]
     },
     "metadata": {
      "needs_background": "light"
     },
     "output_type": "display_data"
    }
   ],
   "source": [
    "sns.scatterplot(df['SqFtLot'], df['SalePrice'])"
   ]
  },
  {
   "cell_type": "code",
   "execution_count": 30,
   "metadata": {
    "scrolled": true
   },
   "outputs": [
    {
     "data": {
      "text/plain": [
       "<matplotlib.axes._subplots.AxesSubplot at 0x1e1aef50640>"
      ]
     },
     "execution_count": 30,
     "metadata": {},
     "output_type": "execute_result"
    },
    {
     "data": {
      "image/png": "[encoded data removed]",
      "text/plain": [
       "<Figure size 432x288 with 1 Axes>"
      ]
     },
     "metadata": {
      "needs_background": "light"
     },
     "output_type": "display_data"
    }
   ],
   "source": [
    "sns.distplot(df['SalePrice'])"
   ]
  },
  {
   "cell_type": "code",
   "execution_count": 31,
   "metadata": {},
   "outputs": [
    {
     "data": {
      "text/plain": [
       "<matplotlib.axes._subplots.AxesSubplot at 0x1e1af1810a0>"
      ]
     },
     "execution_count": 31,
     "metadata": {},
     "output_type": "execute_result"
    },
    {
     "data": {
      "image/png": "[encoded data removed]",
      "text/plain": [
       "<Figure size 432x288 with 1 Axes>"
      ]
     },
     "metadata": {
      "needs_background": "light"
     },
     "output_type": "display_data"
    }
   ],
   "source": [
    "sns.boxplot(df['SalePrice'])"
   ]
  },
  {
   "cell_type": "code",
   "execution_count": 32,
   "metadata": {},
   "outputs": [],
   "source": [
    "df2 = df[df['SalePrice'].between(df['SalePrice'].quantile(.001), df['SalePrice'].quantile(.996))]"
   ]
  },
  {
   "cell_type": "code",
   "execution_count": 33,
   "metadata": {
    "scrolled": true
   },
   "outputs": [
    {
     "data": {
      "text/plain": [
       "<matplotlib.axes._subplots.AxesSubplot at 0x1e1af26b040>"
      ]
     },
     "execution_count": 33,
     "metadata": {},
     "output_type": "execute_result"
    },
    {
     "data": {
      "image/png": "[encoded data removed]",
      "text/plain": [
       "<Figure size 432x288 with 1 Axes>"
      ]
     },
     "metadata": {
      "needs_background": "light"
     },
     "output_type": "display_data"
    }
   ],
   "source": [
    "sns.distplot(df2['SalePrice'])"
   ]
  },
  {
   "cell_type": "code",
   "execution_count": 34,
   "metadata": {},
   "outputs": [
    {
     "data": {
      "text/plain": [
       "<matplotlib.axes._subplots.AxesSubplot at 0x1e1af4aee50>"
      ]
     },
     "execution_count": 34,
     "metadata": {},
     "output_type": "execute_result"
    },
    {
     "data": {
      "image/png": "[encoded data removed]",
      "text/plain": [
       "<Figure size 432x288 with 1 Axes>"
      ]
     },
     "metadata": {
      "needs_background": "light"
     },
     "output_type": "display_data"
    }
   ],
   "source": [
    "sns.boxplot(df2['SalePrice'])"
   ]
  },
  {
   "cell_type": "code",
   "execution_count": 35,
   "metadata": {
    "scrolled": false
   },
   "outputs": [
    {
     "data": {
      "text/plain": [
       "<matplotlib.axes._subplots.AxesSubplot at 0x1e1b03ab9d0>"
      ]
     },
     "execution_count": 35,
     "metadata": {},
     "output_type": "execute_result"
    },
    {
     "data": {
      "image/png": "[encoded data removed]",
      "text/plain": [
       "<Figure size 432x288 with 1 Axes>"
      ]
     },
     "metadata": {
      "needs_background": "light"
     },
     "output_type": "display_data"
    }
   ],
   "source": [
    "sns.distplot(df2['SqFtLot'])"
   ]
  },
  {
   "cell_type": "code",
   "execution_count": 36,
   "metadata": {},
   "outputs": [
    {
     "data": {
      "text/plain": [
       "<matplotlib.axes._subplots.AxesSubplot at 0x1e1b0469ac0>"
      ]
     },
     "execution_count": 36,
     "metadata": {},
     "output_type": "execute_result"
    },
    {
     "data": {
      "image/png": "[encoded data removed]",
      "text/plain": [
       "<Figure size 432x288 with 1 Axes>"
      ]
     },
     "metadata": {
      "needs_background": "light"
     },
     "output_type": "display_data"
    }
   ],
   "source": [
    "sns.boxplot(df['SqFtLot'])"
   ]
  },
  {
   "cell_type": "code",
   "execution_count": 37,
   "metadata": {},
   "outputs": [],
   "source": [
    "df2 = df2[df2['SqFtLot'].between(df2['SqFtLot'].quantile(.001), df2['SqFtLot'].quantile(.999))]"
   ]
  },
  {
   "cell_type": "code",
   "execution_count": 38,
   "metadata": {
    "scrolled": true
   },
   "outputs": [
    {
     "data": {
      "text/plain": [
       "<matplotlib.axes._subplots.AxesSubplot at 0x1e1b04e3b80>"
      ]
     },
     "execution_count": 38,
     "metadata": {},
     "output_type": "execute_result"
    },
    {
     "data": {
      "image/png": "[encoded data removed]",
      "text/plain": [
       "<Figure size 432x288 with 1 Axes>"
      ]
     },
     "metadata": {
      "needs_background": "light"
     },
     "output_type": "display_data"
    }
   ],
   "source": [
    "sns.distplot(df2['SqFtLot'])"
   ]
  },
  {
   "cell_type": "code",
   "execution_count": 39,
   "metadata": {},
   "outputs": [
    {
     "data": {
      "text/plain": [
       "<matplotlib.axes._subplots.AxesSubplot at 0x1e1aff3b100>"
      ]
     },
     "execution_count": 39,
     "metadata": {},
     "output_type": "execute_result"
    },
    {
     "data": {
      "image/png": "[encoded data removed]",
      "text/plain": [
       "<Figure size 432x288 with 1 Axes>"
      ]
     },
     "metadata": {
      "needs_background": "light"
     },
     "output_type": "display_data"
    }
   ],
   "source": [
    "sns.boxplot(df2['SqFtLot'])"
   ]
  },
  {
   "cell_type": "code",
   "execution_count": 40,
   "metadata": {},
   "outputs": [
    {
     "data": {
      "text/plain": [
       "<matplotlib.axes._subplots.AxesSubplot at 0x1e1affb1220>"
      ]
     },
     "execution_count": 40,
     "metadata": {},
     "output_type": "execute_result"
    },
    {
     "data": {
      "image/png": "[encoded data removed]",
      "text/plain": [
       "<Figure size 432x288 with 1 Axes>"
      ]
     },
     "metadata": {
      "needs_background": "light"
     },
     "output_type": "display_data"
    }
   ],
   "source": [
    "sns.scatterplot(df2['SqFtLot'], df2['SalePrice'])"
   ]
  },
  {
   "cell_type": "code",
   "execution_count": 41,
   "metadata": {},
   "outputs": [],
   "source": [
    "df2=df2.reset_index(drop=True)"
   ]
  },
  {
   "cell_type": "code",
   "execution_count": 42,
   "metadata": {
    "scrolled": true
   },
   "outputs": [
    {
     "data": {
      "image/png": "[encoded data removed]",
      "text/plain": [
       "<Figure size 432x288 with 1 Axes>"
      ]
     },
     "metadata": {
      "needs_background": "light"
     },
     "output_type": "display_data"
    }
   ],
   "source": [
    "sns.barplot(df2.Is_WaterFrontLocation, df2.SalePrice);"
   ]
  },
  {
   "cell_type": "code",
   "execution_count": 43,
   "metadata": {
    "scrolled": true
   },
   "outputs": [
    {
     "data": {
      "image/png": "[encoded data removed]",
      "text/plain": [
       "<Figure size 432x288 with 1 Axes>"
      ]
     },
     "metadata": {
      "needs_background": "light"
     },
     "output_type": "display_data"
    }
   ],
   "source": [
    "chart = sns.barplot(df2.WaterFrontLocation, df2.SalePrice)\n",
    "chart.set_xticklabels(chart.get_xticklabels(), rotation=45, horizontalalignment='right');"
   ]
  },
  {
   "cell_type": "code",
   "execution_count": 44,
   "metadata": {
    "scrolled": false
   },
   "outputs": [
    {
     "data": {
      "image/png": "[encoded data removed]",
      "text/plain": [
       "<Figure size 432x288 with 1 Axes>"
      ]
     },
     "metadata": {
      "needs_background": "light"
     },
     "output_type": "display_data"
    }
   ],
   "source": [
    "sns.barplot(df2['Has_Nuisance'], df2['SalePrice']);"
   ]
  },
  {
   "cell_type": "code",
   "execution_count": 45,
   "metadata": {
    "scrolled": true
   },
   "outputs": [
    {
     "data": {
      "image/png": "[encoded data removed]",
      "text/plain": [
       "<Figure size 432x288 with 1 Axes>"
      ]
     },
     "metadata": {
      "needs_background": "light"
     },
     "output_type": "display_data"
    }
   ],
   "source": [
    "sns.barplot(df2['Nuisances'], df2['SalePrice']);"
   ]
  },
  {
   "cell_type": "code",
   "execution_count": 46,
   "metadata": {},
   "outputs": [
    {
     "data": {
      "image/png": "[encoded data removed]",
      "text/plain": [
       "<Figure size 432x288 with 1 Axes>"
      ]
     },
     "metadata": {
      "needs_background": "light"
     },
     "output_type": "display_data"
    }
   ],
   "source": [
    "sns.barplot(df2['Has_Porch'], df2['SalePrice']);"
   ]
  },
  {
   "cell_type": "code",
   "execution_count": 47,
   "metadata": {},
   "outputs": [
    {
     "data": {
      "image/png": "[encoded data removed]",
      "text/plain": [
       "<Figure size 432x288 with 1 Axes>"
      ]
     },
     "metadata": {
      "needs_background": "light"
     },
     "output_type": "display_data"
    }
   ],
   "source": [
    "chart= sns.barplot('BldgGrade', 'SalePrice', data=df2)\n",
    "chart.set_xticklabels(chart.get_xticklabels(), rotation=45, horizontalalignment='right');"
   ]
  },
  {
   "cell_type": "code",
   "execution_count": null,
   "metadata": {},
   "outputs": [],
   "source": []
  },
  {
   "cell_type": "code",
   "execution_count": 48,
   "metadata": {
    "scrolled": true
   },
   "outputs": [
    {
     "data": {
      "text/plain": [
       "9775000"
      ]
     },
     "execution_count": 48,
     "metadata": {},
     "output_type": "execute_result"
    }
   ],
   "source": [
    "df2['SalePrice'].max()"
   ]
  },
  {
   "cell_type": "code",
   "execution_count": null,
   "metadata": {},
   "outputs": [],
   "source": []
  },
  {
   "cell_type": "code",
   "execution_count": 49,
   "metadata": {},
   "outputs": [
    {
     "data": {
      "text/plain": [
       "27814"
      ]
     },
     "execution_count": 49,
     "metadata": {},
     "output_type": "execute_result"
    }
   ],
   "source": [
    "len(df2)"
   ]
  },
  {
   "cell_type": "code",
   "execution_count": 50,
   "metadata": {},
   "outputs": [],
   "source": [
    "df2.to_csv('../../data/clean/KingCountyHousingData.csv')"
   ]
  },
  {
   "cell_type": "code",
   "execution_count": null,
   "metadata": {},
   "outputs": [],
   "source": []
  }
 ],
 "metadata": {
  "kernelspec": {
   "display_name": "learn-env",
   "language": "python",
   "name": "learn-env"
  },
  "language_info": {
   "codemirror_mode": {
    "name": "ipython",
    "version": 3
   },
   "file_extension": ".py",
   "mimetype": "text/x-python",
   "name": "python",
   "nbconvert_exporter": "python",
   "pygments_lexer": "ipython3",
   "version": "3.8.3"
  }
 },
 "nbformat": 4,
 "nbformat_minor": 4
}
