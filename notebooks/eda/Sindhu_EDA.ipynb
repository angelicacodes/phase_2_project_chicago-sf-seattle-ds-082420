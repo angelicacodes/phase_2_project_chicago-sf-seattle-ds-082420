{
 "cells": [
  {
   "cell_type": "code",
   "execution_count": 1,
   "metadata": {},
   "outputs": [],
   "source": [
    "import pandas as pd\n",
    "import numpy as np\n",
    "import zipfile"
   ]
  },
  {
   "cell_type": "markdown",
   "metadata": {},
   "source": [
    "## Import Data"
   ]
  },
  {
   "cell_type": "code",
   "execution_count": 2,
   "metadata": {
    "scrolled": true
   },
   "outputs": [],
   "source": [
    "# ! wget -P ../../data/raw https://aqua.kingcounty.gov/extranet/assessor/Parcel.zip\n",
    "# ! wget -P ../../data/raw https://aqua.kingcounty.gov/extranet/assessor/Real%20Property%20Sales.zip\n",
    "# ! wget -P ../../data/raw https://aqua.kingcounty.gov/extranet/assessor/Residential%20Building.zip"
   ]
  },
  {
   "cell_type": "code",
   "execution_count": 3,
   "metadata": {},
   "outputs": [],
   "source": [
    "# with zipfile.ZipFile('../../data/raw/Parcel.zip', 'r') as zip_ref:\n",
    "#     zip_ref.extractall('../../data/raw')\n",
    "# with zipfile.ZipFile('../../data/raw/Real Property Sales.zip', 'r') as zip_ref:\n",
    "#     zip_ref.extractall('../../data/raw')\n",
    "# with zipfile.ZipFile('../../data/raw/Residential Building.zip', 'r') as zip_ref:\n",
    "#     zip_ref.extractall('../../data/raw')"
   ]
  },
  {
   "cell_type": "code",
   "execution_count": 4,
   "metadata": {},
   "outputs": [],
   "source": [
    "parcel = pd.read_csv(\"../../data/raw/EXTR_Parcel.csv\", encoding='latin-1')\n",
    "real_property_sales = pd.read_csv(\"../../data/raw/EXTR_RPSale.csv\", encoding='latin-1', low_memory=False)\n",
    "residential_building = pd.read_csv(\"../../data/raw/EXTR_ResBldg.csv\", encoding='latin-1', low_memory=False)"
   ]
  },
  {
   "cell_type": "markdown",
   "metadata": {},
   "source": [
    "## Clean Data and Filter For Needed Info"
   ]
  },
  {
   "cell_type": "markdown",
   "metadata": {},
   "source": [
    "### Property Sales"
   ]
  },
  {
   "cell_type": "code",
   "execution_count": 5,
   "metadata": {},
   "outputs": [],
   "source": [
    "# Real Property Sales\n",
    "# Identifyers are Major and Minor. Relevant data is SalePrice\n",
    "# Clean real_property_sales to have proper values in Minor and Major and change type to int to match other data sets\n",
    "real_property_sales = real_property_sales[['Major', 'Minor', 'SalePrice', 'DocumentDate']]\n",
    "real_property_sales = real_property_sales[(real_property_sales['Major'].str.isdecimal()==True) &\n",
    "                                          (real_property_sales['Minor'].str.isdecimal()==True)]\n",
    "real_property_sales['Major'] = real_property_sales['Major'].astype('int64')\n",
    "real_property_sales['Minor'] = real_property_sales['Minor'].astype('int64')\n",
    "real_property_sales = real_property_sales[real_property_sales['SalePrice']>0]"
   ]
  },
  {
   "cell_type": "code",
   "execution_count": 6,
   "metadata": {},
   "outputs": [
    {
     "data": {
      "text/html": [
       "<div>\n",
       "<style scoped>\n",
       "    .dataframe tbody tr th:only-of-type {\n",
       "        vertical-align: middle;\n",
       "    }\n",
       "\n",
       "    .dataframe tbody tr th {\n",
       "        vertical-align: top;\n",
       "    }\n",
       "\n",
       "    .dataframe thead th {\n",
       "        text-align: right;\n",
       "    }\n",
       "</style>\n",
       "<table border=\"1\" class=\"dataframe\">\n",
       "  <thead>\n",
       "    <tr style=\"text-align: right;\">\n",
       "      <th></th>\n",
       "      <th>Major</th>\n",
       "      <th>Minor</th>\n",
       "      <th>SalePrice</th>\n",
       "      <th>DocumentDate</th>\n",
       "    </tr>\n",
       "  </thead>\n",
       "  <tbody>\n",
       "    <tr>\n",
       "      <th>2</th>\n",
       "      <td>330395</td>\n",
       "      <td>1610</td>\n",
       "      <td>335000</td>\n",
       "      <td>06/07/2012</td>\n",
       "    </tr>\n",
       "    <tr>\n",
       "      <th>3</th>\n",
       "      <td>675260</td>\n",
       "      <td>940</td>\n",
       "      <td>209950</td>\n",
       "      <td>03/06/1998</td>\n",
       "    </tr>\n",
       "    <tr>\n",
       "      <th>5</th>\n",
       "      <td>269549</td>\n",
       "      <td>190</td>\n",
       "      <td>154950</td>\n",
       "      <td>07/23/2000</td>\n",
       "    </tr>\n",
       "    <tr>\n",
       "      <th>6</th>\n",
       "      <td>638580</td>\n",
       "      <td>110</td>\n",
       "      <td>190000</td>\n",
       "      <td>07/14/2015</td>\n",
       "    </tr>\n",
       "    <tr>\n",
       "      <th>8</th>\n",
       "      <td>321165</td>\n",
       "      <td>50</td>\n",
       "      <td>2100000</td>\n",
       "      <td>05/10/2004</td>\n",
       "    </tr>\n",
       "  </tbody>\n",
       "</table>\n",
       "</div>"
      ],
      "text/plain": [
       "    Major  Minor  SalePrice DocumentDate\n",
       "2  330395   1610     335000   06/07/2012\n",
       "3  675260    940     209950   03/06/1998\n",
       "5  269549    190     154950   07/23/2000\n",
       "6  638580    110     190000   07/14/2015\n",
       "8  321165     50    2100000   05/10/2004"
      ]
     },
     "execution_count": 6,
     "metadata": {},
     "output_type": "execute_result"
    }
   ],
   "source": [
    "real_property_sales.head()"
   ]
  },
  {
   "cell_type": "markdown",
   "metadata": {},
   "source": [
    "### Parcel"
   ]
  },
  {
   "cell_type": "code",
   "execution_count": 7,
   "metadata": {},
   "outputs": [],
   "source": [
    "# parcel.info()"
   ]
  },
  {
   "cell_type": "code",
   "execution_count": 8,
   "metadata": {},
   "outputs": [
    {
     "name": "stdout",
     "output_type": "stream",
     "text": [
      "<class 'pandas.core.frame.DataFrame'>\n",
      "RangeIndex: 616110 entries, 0 to 616109\n",
      "Data columns (total 21 columns):\n",
      " #   Column               Non-Null Count   Dtype \n",
      "---  ------               --------------   ----- \n",
      " 0   Major                616110 non-null  int64 \n",
      " 1   Minor                616110 non-null  int64 \n",
      " 2   PropType             616110 non-null  object\n",
      " 3   SqFtLot              616110 non-null  int64 \n",
      " 4   WfntLocation         616110 non-null  int64 \n",
      " 5   TrafficNoise         616110 non-null  int64 \n",
      " 6   AirportNoise         616110 non-null  int64 \n",
      " 7   PowerLines           616110 non-null  object\n",
      " 8   OtherNuisances       616110 non-null  object\n",
      " 9   MtRainier            616110 non-null  int64 \n",
      " 10  Olympics             616110 non-null  int64 \n",
      " 11  Cascades             616110 non-null  int64 \n",
      " 12  PugetSound           616110 non-null  int64 \n",
      " 13  LakeWashington       616110 non-null  int64 \n",
      " 14  LakeSammamish        616110 non-null  int64 \n",
      " 15  SmallLakeRiverCreek  616110 non-null  int64 \n",
      " 16  HundredYrFloodPlain  616110 non-null  object\n",
      " 17  SeismicHazard        616110 non-null  object\n",
      " 18  LandslideHazard      616110 non-null  object\n",
      " 19  SteepSlopeHazard     616110 non-null  object\n",
      " 20  InadequateParking    616110 non-null  int64 \n",
      "dtypes: int64(14), object(7)\n",
      "memory usage: 98.7+ MB\n"
     ]
    }
   ],
   "source": [
    "# Parcel Filter for Necessary Columns\n",
    "parcel = parcel[['Major', 'Minor', 'PropType', 'SqFtLot', 'WfntLocation',\n",
    "                 'TrafficNoise', 'AirportNoise', 'PowerLines', 'OtherNuisances',\n",
    "                 'MtRainier', 'Olympics', 'Cascades', 'PugetSound', 'LakeWashington',\n",
    "                 'LakeSammamish', 'SmallLakeRiverCreek', 'HundredYrFloodPlain', \n",
    "                 'SeismicHazard', 'LandslideHazard', 'SteepSlopeHazard', 'InadequateParking']]\n",
    "parcel.info()"
   ]
  },
  {
   "cell_type": "code",
   "execution_count": 9,
   "metadata": {},
   "outputs": [],
   "source": [
    "parcel = parcel[(parcel['PropType']=='R') | (parcel['PropType']=='K')]"
   ]
  },
  {
   "cell_type": "markdown",
   "metadata": {},
   "source": [
    "### Residential Buiding"
   ]
  },
  {
   "cell_type": "code",
   "execution_count": 10,
   "metadata": {},
   "outputs": [],
   "source": [
    "# residential_building.info()"
   ]
  },
  {
   "cell_type": "code",
   "execution_count": 11,
   "metadata": {},
   "outputs": [],
   "source": [
    "# Residential Buiding Filter For Necessary Columns\n",
    "residential_building = residential_building[['Major', 'Minor', 'ZipCode', 'NbrLivingUnits', 'SqFtTotLiving', 'SqFtOpenPorch', 'SqFtEnclosedPorch']]"
   ]
  },
  {
   "cell_type": "code",
   "execution_count": 12,
   "metadata": {
    "scrolled": true
   },
   "outputs": [],
   "source": [
    "# Create a column Has_Porch\n",
    "residential_building['Has_Porch']= residential_building['SqFtOpenPorch'] + residential_building['SqFtEnclosedPorch']\n",
    "residential_building['Has_Porch'] = [1  if p>0 else 0 for p in residential_building['Has_Porch']]\n",
    "residential_building['Has_OpenPorch'] = [1  if p>0 else 0 for p in residential_building['SqFtOpenPorch']]\n",
    "residential_building['Has_EnclosedPorch'] = [1  if p>0 else 0 for p in residential_building['SqFtEnclosedPorch']]"
   ]
  },
  {
   "cell_type": "code",
   "execution_count": 13,
   "metadata": {},
   "outputs": [
    {
     "name": "stdout",
     "output_type": "stream",
     "text": [
      "<class 'pandas.core.frame.DataFrame'>\n",
      "RangeIndex: 517783 entries, 0 to 517782\n",
      "Data columns (total 10 columns):\n",
      " #   Column             Non-Null Count   Dtype \n",
      "---  ------             --------------   ----- \n",
      " 0   Major              517783 non-null  int64 \n",
      " 1   Minor              517783 non-null  int64 \n",
      " 2   ZipCode            470012 non-null  object\n",
      " 3   NbrLivingUnits     517783 non-null  int64 \n",
      " 4   SqFtTotLiving      517783 non-null  int64 \n",
      " 5   SqFtOpenPorch      517783 non-null  int64 \n",
      " 6   SqFtEnclosedPorch  517783 non-null  int64 \n",
      " 7   Has_Porch          517783 non-null  int64 \n",
      " 8   Has_OpenPorch      517783 non-null  int64 \n",
      " 9   Has_EnclosedPorch  517783 non-null  int64 \n",
      "dtypes: int64(9), object(1)\n",
      "memory usage: 39.5+ MB\n"
     ]
    }
   ],
   "source": [
    "residential_building.info()"
   ]
  },
  {
   "cell_type": "markdown",
   "metadata": {},
   "source": [
    "### Merge Property Sales, parcel, and residential building data"
   ]
  },
  {
   "cell_type": "code",
   "execution_count": 14,
   "metadata": {},
   "outputs": [],
   "source": [
    "# Join all the tables on Major, Minor\n",
    "# Have duplicate buildings sold at different dates. Need to only keep latest dates\n",
    "merged_tables = (parcel.merge(real_property_sales, on = ['Major', 'Minor'])).merge(residential_building, on = ['Major', 'Minor']).drop_duplicates()\n",
    "# Change dates to date time format\n",
    "merged_tables[['Major', 'SqFtLot']].head(20)\n",
    "merged_tables['DocumentDate'] = pd.to_datetime(merged_tables['DocumentDate'])"
   ]
  },
  {
   "cell_type": "code",
   "execution_count": 15,
   "metadata": {},
   "outputs": [
    {
     "data": {
      "text/plain": [
       "(991782, 31)"
      ]
     },
     "execution_count": 15,
     "metadata": {},
     "output_type": "execute_result"
    }
   ],
   "source": [
    "merged_tables.shape"
   ]
  },
  {
   "cell_type": "code",
   "execution_count": 16,
   "metadata": {
    "scrolled": true
   },
   "outputs": [],
   "source": [
    "#Keeping only the most recent Sale_Price\n",
    "\n",
    "merged_tables = merged_tables.sort_values(by=['Major', 'DocumentDate'])\n",
    "merged_tables.drop_duplicates(subset=['Major', 'Minor'], keep='last', inplace=True)"
   ]
  },
  {
   "cell_type": "code",
   "execution_count": 17,
   "metadata": {},
   "outputs": [
    {
     "data": {
      "text/plain": [
       "(28009, 31)"
      ]
     },
     "execution_count": 17,
     "metadata": {},
     "output_type": "execute_result"
    }
   ],
   "source": [
    "# Filtering for only 2019 data\n",
    "start_date = \"2019-1-1\"\n",
    "end_date = \"2019-12-31\"\n",
    "merged_tables = merged_tables.loc[(merged_tables[\"DocumentDate\"] >= start_date) & (merged_tables[\"DocumentDate\"] <= end_date)]\n",
    "\n",
    "merged_tables.shape"
   ]
  },
  {
   "cell_type": "code",
   "execution_count": 18,
   "metadata": {
    "scrolled": true
   },
   "outputs": [],
   "source": [
    "# change dataframe name to df to make life easier\n",
    "df = merged_tables #.sort_values(by = 'DocumentDate', ascending=False)\n",
    "\n",
    "#Create Nuisances Column to replace other nuisance columns\n",
    "df['Nuisances'] = 'No Nuisances'\n",
    "df.loc[(df['TrafficNoise']>0), 'Nuisances'] = 'Traffic Noise'\n",
    "df.loc[(df['AirportNoise']>0), 'Nuisances'] = 'Airport Noise'\n",
    "df.loc[(df['PowerLines']=='Y'), 'Nuisances'] = 'Power Lines'\n",
    "df.loc[(df['OtherNuisances']=='Y'), 'Nuisances'] = 'Other Nuisances'\n",
    "df = df.drop(['PropType', 'AirportNoise', 'SqFtOpenPorch', 'SqFtEnclosedPorch'], axis='columns')\n",
    "df['PowerLines'] = df['PowerLines'].map({'Y' : 1, 'N' : 0})\n",
    "df['OtherNuisances'] = df['OtherNuisances'].map({'Y' : 1, 'N' : 0})"
   ]
  },
  {
   "cell_type": "code",
   "execution_count": 19,
   "metadata": {},
   "outputs": [],
   "source": [
    "# WFNTLOCATION\n",
    "# Waterfront location (Source: King County Assessments)\n",
    "# Value\tDefinition\n",
    "# 0\tUnknown\n",
    "# 1\tDuwamish\n",
    "# 2\tElliott Bay\n",
    "# 3\tPuget Sound\n",
    "# 4\tLake Union\n",
    "# 5\tShip Canal\n",
    "# 6\tLake Washington\n",
    "# 7\tLake Sammamish\n",
    "# 8\tOther lake\n",
    "# 9\tRiver or slough\n",
    "\n",
    "df['WaterFrontLocation'] = df.WfntLocation.map({0 : 'None', 1 : 'Duwamish', 2 : 'Elliott Bay', 3 : 'Puget Sound', 4 : 'Lake Union',\n",
    "                     5 : 'Ship Canal',  6 : 'Lake Washington', 7 : 'Lake Sammamish', 8 : 'Other lake', 9 : 'River or slough'})\n",
    "df['Is_WaterFrontLocation'] = [1 if i>0 else 0 for i in df.WfntLocation]\n",
    "df=df.drop('WfntLocation', axis='columns')"
   ]
  },
  {
   "cell_type": "code",
   "execution_count": 20,
   "metadata": {
    "scrolled": true
   },
   "outputs": [],
   "source": [
    "df['Has_Nuisance'] = [0 if n == 'No Nuisances' else 1 for n in df['Nuisances']]\n",
    "\n",
    "# df[['Major', 'Minor', 'SqFtLot']].head()"
   ]
  },
  {
   "cell_type": "code",
   "execution_count": 21,
   "metadata": {
    "scrolled": true
   },
   "outputs": [],
   "source": [
    "# reorder Columns\n",
    "df = df[['Major', 'Minor', 'ZipCode', 'DocumentDate', 'SalePrice', 'SqFtLot', 'SqFtTotLiving',\n",
    "         'Nuisances', 'Has_Nuisance', 'TrafficNoise', 'PowerLines', 'OtherNuisances',\n",
    "         'Is_WaterFrontLocation', 'WaterFrontLocation', 'Has_Porch', 'Has_OpenPorch',\n",
    "         'Has_EnclosedPorch', 'NbrLivingUnits', 'MtRainier', 'Olympics', 'Cascades',\n",
    "         'PugetSound', 'LakeWashington', 'LakeSammamish', 'SmallLakeRiverCreek',\n",
    "         'HundredYrFloodPlain', 'SeismicHazard', 'LandslideHazard', 'SteepSlopeHazard',]]"
   ]
  },
  {
   "cell_type": "code",
   "execution_count": 22,
   "metadata": {},
   "outputs": [
    {
     "data": {
      "text/html": [
       "<div>\n",
       "<style scoped>\n",
       "    .dataframe tbody tr th:only-of-type {\n",
       "        vertical-align: middle;\n",
       "    }\n",
       "\n",
       "    .dataframe tbody tr th {\n",
       "        vertical-align: top;\n",
       "    }\n",
       "\n",
       "    .dataframe thead th {\n",
       "        text-align: right;\n",
       "    }\n",
       "</style>\n",
       "<table border=\"1\" class=\"dataframe\">\n",
       "  <thead>\n",
       "    <tr style=\"text-align: right;\">\n",
       "      <th></th>\n",
       "      <th>Major</th>\n",
       "      <th>Minor</th>\n",
       "      <th>ZipCode</th>\n",
       "      <th>DocumentDate</th>\n",
       "      <th>SalePrice</th>\n",
       "      <th>SqFtLot</th>\n",
       "      <th>SqFtTotLiving</th>\n",
       "      <th>Nuisances</th>\n",
       "      <th>Has_Nuisance</th>\n",
       "      <th>TrafficNoise</th>\n",
       "      <th>...</th>\n",
       "      <th>View_Olympics</th>\n",
       "      <th>View_Cascades</th>\n",
       "      <th>View_PugetSound</th>\n",
       "      <th>View_LakeWashington</th>\n",
       "      <th>View_LakeSammamish</th>\n",
       "      <th>View_SmallLakeRiverCreek</th>\n",
       "      <th>HundredYrFloodPlain</th>\n",
       "      <th>SeismicHazard</th>\n",
       "      <th>LandslideHazard</th>\n",
       "      <th>SteepSlopeHazard</th>\n",
       "    </tr>\n",
       "  </thead>\n",
       "  <tbody>\n",
       "    <tr>\n",
       "      <th>258630</th>\n",
       "      <td>100</td>\n",
       "      <td>67</td>\n",
       "      <td>98002</td>\n",
       "      <td>2019-04-01</td>\n",
       "      <td>310800</td>\n",
       "      <td>17400</td>\n",
       "      <td>2240</td>\n",
       "      <td>No Nuisances</td>\n",
       "      <td>0</td>\n",
       "      <td>0</td>\n",
       "      <td>...</td>\n",
       "      <td>0</td>\n",
       "      <td>0</td>\n",
       "      <td>0</td>\n",
       "      <td>0</td>\n",
       "      <td>0</td>\n",
       "      <td>0</td>\n",
       "      <td>N</td>\n",
       "      <td>N</td>\n",
       "      <td>N</td>\n",
       "      <td>N</td>\n",
       "    </tr>\n",
       "    <tr>\n",
       "      <th>73397</th>\n",
       "      <td>100</td>\n",
       "      <td>66</td>\n",
       "      <td>98002</td>\n",
       "      <td>2019-10-22</td>\n",
       "      <td>339000</td>\n",
       "      <td>14500</td>\n",
       "      <td>1200</td>\n",
       "      <td>No Nuisances</td>\n",
       "      <td>0</td>\n",
       "      <td>0</td>\n",
       "      <td>...</td>\n",
       "      <td>0</td>\n",
       "      <td>0</td>\n",
       "      <td>0</td>\n",
       "      <td>0</td>\n",
       "      <td>0</td>\n",
       "      <td>0</td>\n",
       "      <td>N</td>\n",
       "      <td>N</td>\n",
       "      <td>N</td>\n",
       "      <td>N</td>\n",
       "    </tr>\n",
       "    <tr>\n",
       "      <th>537664</th>\n",
       "      <td>100</td>\n",
       "      <td>42</td>\n",
       "      <td>NaN</td>\n",
       "      <td>2019-10-29</td>\n",
       "      <td>485500</td>\n",
       "      <td>6002</td>\n",
       "      <td>2134</td>\n",
       "      <td>No Nuisances</td>\n",
       "      <td>0</td>\n",
       "      <td>0</td>\n",
       "      <td>...</td>\n",
       "      <td>0</td>\n",
       "      <td>0</td>\n",
       "      <td>0</td>\n",
       "      <td>0</td>\n",
       "      <td>0</td>\n",
       "      <td>0</td>\n",
       "      <td>N</td>\n",
       "      <td>N</td>\n",
       "      <td>N</td>\n",
       "      <td>N</td>\n",
       "    </tr>\n",
       "    <tr>\n",
       "      <th>89188</th>\n",
       "      <td>120</td>\n",
       "      <td>8</td>\n",
       "      <td>98166</td>\n",
       "      <td>2019-05-17</td>\n",
       "      <td>850000</td>\n",
       "      <td>24142</td>\n",
       "      <td>3500</td>\n",
       "      <td>No Nuisances</td>\n",
       "      <td>0</td>\n",
       "      <td>0</td>\n",
       "      <td>...</td>\n",
       "      <td>0</td>\n",
       "      <td>0</td>\n",
       "      <td>0</td>\n",
       "      <td>0</td>\n",
       "      <td>0</td>\n",
       "      <td>0</td>\n",
       "      <td>N</td>\n",
       "      <td>N</td>\n",
       "      <td>N</td>\n",
       "      <td>N</td>\n",
       "    </tr>\n",
       "    <tr>\n",
       "      <th>587592</th>\n",
       "      <td>140</td>\n",
       "      <td>27</td>\n",
       "      <td>98178</td>\n",
       "      <td>2019-05-28</td>\n",
       "      <td>535000</td>\n",
       "      <td>14208</td>\n",
       "      <td>2170</td>\n",
       "      <td>Traffic Noise</td>\n",
       "      <td>1</td>\n",
       "      <td>1</td>\n",
       "      <td>...</td>\n",
       "      <td>0</td>\n",
       "      <td>0</td>\n",
       "      <td>0</td>\n",
       "      <td>0</td>\n",
       "      <td>0</td>\n",
       "      <td>0</td>\n",
       "      <td>N</td>\n",
       "      <td>N</td>\n",
       "      <td>N</td>\n",
       "      <td>N</td>\n",
       "    </tr>\n",
       "    <tr>\n",
       "      <th>...</th>\n",
       "      <td>...</td>\n",
       "      <td>...</td>\n",
       "      <td>...</td>\n",
       "      <td>...</td>\n",
       "      <td>...</td>\n",
       "      <td>...</td>\n",
       "      <td>...</td>\n",
       "      <td>...</td>\n",
       "      <td>...</td>\n",
       "      <td>...</td>\n",
       "      <td>...</td>\n",
       "      <td>...</td>\n",
       "      <td>...</td>\n",
       "      <td>...</td>\n",
       "      <td>...</td>\n",
       "      <td>...</td>\n",
       "      <td>...</td>\n",
       "      <td>...</td>\n",
       "      <td>...</td>\n",
       "      <td>...</td>\n",
       "      <td>...</td>\n",
       "    </tr>\n",
       "    <tr>\n",
       "      <th>73556</th>\n",
       "      <td>989000</td>\n",
       "      <td>70</td>\n",
       "      <td>98033</td>\n",
       "      <td>2019-02-01</td>\n",
       "      <td>3125000</td>\n",
       "      <td>25060</td>\n",
       "      <td>1090</td>\n",
       "      <td>Traffic Noise</td>\n",
       "      <td>1</td>\n",
       "      <td>1</td>\n",
       "      <td>...</td>\n",
       "      <td>0</td>\n",
       "      <td>0</td>\n",
       "      <td>0</td>\n",
       "      <td>0</td>\n",
       "      <td>0</td>\n",
       "      <td>0</td>\n",
       "      <td>N</td>\n",
       "      <td>N</td>\n",
       "      <td>N</td>\n",
       "      <td>N</td>\n",
       "    </tr>\n",
       "    <tr>\n",
       "      <th>458224</th>\n",
       "      <td>989920</td>\n",
       "      <td>30</td>\n",
       "      <td>98055</td>\n",
       "      <td>2019-01-29</td>\n",
       "      <td>245000</td>\n",
       "      <td>14144</td>\n",
       "      <td>1560</td>\n",
       "      <td>No Nuisances</td>\n",
       "      <td>0</td>\n",
       "      <td>0</td>\n",
       "      <td>...</td>\n",
       "      <td>0</td>\n",
       "      <td>0</td>\n",
       "      <td>0</td>\n",
       "      <td>0</td>\n",
       "      <td>0</td>\n",
       "      <td>0</td>\n",
       "      <td>N</td>\n",
       "      <td>N</td>\n",
       "      <td>N</td>\n",
       "      <td>N</td>\n",
       "    </tr>\n",
       "    <tr>\n",
       "      <th>84055</th>\n",
       "      <td>990000</td>\n",
       "      <td>470</td>\n",
       "      <td>98166</td>\n",
       "      <td>2019-06-06</td>\n",
       "      <td>1275000</td>\n",
       "      <td>6182</td>\n",
       "      <td>3830</td>\n",
       "      <td>Traffic Noise</td>\n",
       "      <td>1</td>\n",
       "      <td>1</td>\n",
       "      <td>...</td>\n",
       "      <td>0</td>\n",
       "      <td>0</td>\n",
       "      <td>0</td>\n",
       "      <td>0</td>\n",
       "      <td>0</td>\n",
       "      <td>0</td>\n",
       "      <td>N</td>\n",
       "      <td>N</td>\n",
       "      <td>N</td>\n",
       "      <td>N</td>\n",
       "    </tr>\n",
       "    <tr>\n",
       "      <th>694465</th>\n",
       "      <td>990000</td>\n",
       "      <td>35</td>\n",
       "      <td>98166</td>\n",
       "      <td>2019-07-24</td>\n",
       "      <td>435000</td>\n",
       "      <td>8040</td>\n",
       "      <td>790</td>\n",
       "      <td>No Nuisances</td>\n",
       "      <td>0</td>\n",
       "      <td>0</td>\n",
       "      <td>...</td>\n",
       "      <td>0</td>\n",
       "      <td>0</td>\n",
       "      <td>0</td>\n",
       "      <td>0</td>\n",
       "      <td>0</td>\n",
       "      <td>0</td>\n",
       "      <td>N</td>\n",
       "      <td>N</td>\n",
       "      <td>N</td>\n",
       "      <td>N</td>\n",
       "    </tr>\n",
       "    <tr>\n",
       "      <th>909818</th>\n",
       "      <td>990400</td>\n",
       "      <td>30</td>\n",
       "      <td>98125</td>\n",
       "      <td>2019-06-14</td>\n",
       "      <td>650000</td>\n",
       "      <td>9600</td>\n",
       "      <td>2010</td>\n",
       "      <td>No Nuisances</td>\n",
       "      <td>0</td>\n",
       "      <td>0</td>\n",
       "      <td>...</td>\n",
       "      <td>0</td>\n",
       "      <td>0</td>\n",
       "      <td>0</td>\n",
       "      <td>0</td>\n",
       "      <td>0</td>\n",
       "      <td>0</td>\n",
       "      <td>N</td>\n",
       "      <td>N</td>\n",
       "      <td>N</td>\n",
       "      <td>N</td>\n",
       "    </tr>\n",
       "  </tbody>\n",
       "</table>\n",
       "<p>28009 rows × 29 columns</p>\n",
       "</div>"
      ],
      "text/plain": [
       "         Major  Minor ZipCode DocumentDate  SalePrice  SqFtLot  SqFtTotLiving  \\\n",
       "258630     100     67   98002   2019-04-01     310800    17400           2240   \n",
       "73397      100     66   98002   2019-10-22     339000    14500           1200   \n",
       "537664     100     42     NaN   2019-10-29     485500     6002           2134   \n",
       "89188      120      8   98166   2019-05-17     850000    24142           3500   \n",
       "587592     140     27   98178   2019-05-28     535000    14208           2170   \n",
       "...        ...    ...     ...          ...        ...      ...            ...   \n",
       "73556   989000     70   98033   2019-02-01    3125000    25060           1090   \n",
       "458224  989920     30   98055   2019-01-29     245000    14144           1560   \n",
       "84055   990000    470   98166   2019-06-06    1275000     6182           3830   \n",
       "694465  990000     35   98166   2019-07-24     435000     8040            790   \n",
       "909818  990400     30   98125   2019-06-14     650000     9600           2010   \n",
       "\n",
       "            Nuisances  Has_Nuisance  TrafficNoise  ...  View_Olympics  \\\n",
       "258630   No Nuisances             0             0  ...              0   \n",
       "73397    No Nuisances             0             0  ...              0   \n",
       "537664   No Nuisances             0             0  ...              0   \n",
       "89188    No Nuisances             0             0  ...              0   \n",
       "587592  Traffic Noise             1             1  ...              0   \n",
       "...               ...           ...           ...  ...            ...   \n",
       "73556   Traffic Noise             1             1  ...              0   \n",
       "458224   No Nuisances             0             0  ...              0   \n",
       "84055   Traffic Noise             1             1  ...              0   \n",
       "694465   No Nuisances             0             0  ...              0   \n",
       "909818   No Nuisances             0             0  ...              0   \n",
       "\n",
       "        View_Cascades  View_PugetSound View_LakeWashington  \\\n",
       "258630              0                0                   0   \n",
       "73397               0                0                   0   \n",
       "537664              0                0                   0   \n",
       "89188               0                0                   0   \n",
       "587592              0                0                   0   \n",
       "...               ...              ...                 ...   \n",
       "73556               0                0                   0   \n",
       "458224              0                0                   0   \n",
       "84055               0                0                   0   \n",
       "694465              0                0                   0   \n",
       "909818              0                0                   0   \n",
       "\n",
       "        View_LakeSammamish  View_SmallLakeRiverCreek  HundredYrFloodPlain  \\\n",
       "258630                   0                         0                    N   \n",
       "73397                    0                         0                    N   \n",
       "537664                   0                         0                    N   \n",
       "89188                    0                         0                    N   \n",
       "587592                   0                         0                    N   \n",
       "...                    ...                       ...                  ...   \n",
       "73556                    0                         0                    N   \n",
       "458224                   0                         0                    N   \n",
       "84055                    0                         0                    N   \n",
       "694465                   0                         0                    N   \n",
       "909818                   0                         0                    N   \n",
       "\n",
       "        SeismicHazard  LandslideHazard  SteepSlopeHazard  \n",
       "258630              N                N                 N  \n",
       "73397               N                N                 N  \n",
       "537664              N                N                 N  \n",
       "89188               N                N                 N  \n",
       "587592              N                N                 N  \n",
       "...               ...              ...               ...  \n",
       "73556               N                N                 N  \n",
       "458224              N                N                 N  \n",
       "84055               N                N                 N  \n",
       "694465              N                N                 N  \n",
       "909818              N                N                 N  \n",
       "\n",
       "[28009 rows x 29 columns]"
      ]
     },
     "execution_count": 22,
     "metadata": {},
     "output_type": "execute_result"
    }
   ],
   "source": [
    "df.rename(columns={'MtRainier': 'View_MtRainier', 'Olympics': 'View_Olympics', 'Cascades': 'View_Cascades',\n",
    "                   'PugetSound': 'View_PugetSound', 'LakeWashington': 'View_LakeWashington',\n",
    "                   'LakeSammamish': 'View_LakeSammamish','SmallLakeRiverCreek': 'View_SmallLakeRiverCreek',})"
   ]
  },
  {
   "cell_type": "code",
   "execution_count": 23,
   "metadata": {},
   "outputs": [],
   "source": [
    "# Add in and clean zipcode column\n",
    "\n",
    "df['ZipCode'] = df['ZipCode'].astype('str')\n",
    "df['ZipCode'] = [None if len(code)<5 else code for code in df['ZipCode']]\n",
    "df = df.sort_values(by=['Major', 'ZipCode'])\n",
    "df['ZipCode'] = df['ZipCode'].fillna(method='ffill')\n",
    "df['ZipCode'] = [code[0:5] for code in df['ZipCode']]"
   ]
  },
  {
   "cell_type": "code",
   "execution_count": 24,
   "metadata": {},
   "outputs": [],
   "source": [
    "# Check x if have the relevant data to answer question\n",
    "# [x]Higher square footage increases home sale price1, 2\n",
    "# [x]Having a porch increases home sale price3, 4\n",
    "# [x]Having a beachfront or lakefront increases home sale price5\n",
    "# [x]The house filling a higher proportion of the overall lot decreases home sale price6\n",
    "# [x]The cost per square foot is lower in duplexes than in single-family homes7\n",
    "# [x]The presence of a nuisance (power lines, traffic noise, airport noise) decreases home sale price1, 5"
   ]
  },
  {
   "cell_type": "markdown",
   "metadata": {},
   "source": [
    "## Graphical EDA"
   ]
  },
  {
   "cell_type": "code",
   "execution_count": 25,
   "metadata": {},
   "outputs": [],
   "source": [
    "import matplotlib.pyplot as plt\n",
    "import seaborn as sns"
   ]
  },
  {
   "cell_type": "code",
   "execution_count": 26,
   "metadata": {},
   "outputs": [
    {
     "data": {
      "image/png": "[encoded data removed]",
      "text/plain": [
       "<Figure size 432x288 with 1 Axes>"
      ]
     },
     "metadata": {
      "needs_background": "light"
     },
     "output_type": "display_data"
    }
   ],
   "source": [
    "sns.barplot(df['Has_Porch'], df['SalePrice']);"
   ]
  },
  {
   "cell_type": "code",
   "execution_count": 27,
   "metadata": {
    "scrolled": true
   },
   "outputs": [
    {
     "data": {
      "image/png": "[encoded data removed]",
      "text/plain": [
       "<Figure size 432x288 with 1 Axes>"
      ]
     },
     "metadata": {
      "needs_background": "light"
     },
     "output_type": "display_data"
    }
   ],
   "source": [
    "sns.barplot(df['Nuisances'], df['SalePrice']);"
   ]
  },
  {
   "cell_type": "code",
   "execution_count": 28,
   "metadata": {},
   "outputs": [
    {
     "data": {
      "image/png": "[encoded data removed]",
      "text/plain": [
       "<Figure size 432x288 with 1 Axes>"
      ]
     },
     "metadata": {
      "needs_background": "light"
     },
     "output_type": "display_data"
    }
   ],
   "source": [
    "sns.barplot(df['Has_Nuisance'], df['SalePrice']);"
   ]
  },
  {
   "cell_type": "code",
   "execution_count": 29,
   "metadata": {},
   "outputs": [
    {
     "data": {
      "image/png": "[encoded data removed]",
      "text/plain": [
       "<Figure size 432x288 with 1 Axes>"
      ]
     },
     "metadata": {
      "needs_background": "light"
     },
     "output_type": "display_data"
    }
   ],
   "source": [
    "chart = sns.barplot(df.WaterFrontLocation, df.SalePrice)\n",
    "chart.set_xticklabels(chart.get_xticklabels(), rotation=45, horizontalalignment='right');"
   ]
  },
  {
   "cell_type": "code",
   "execution_count": 30,
   "metadata": {},
   "outputs": [
    {
     "data": {
      "image/png": "[encoded data removed]",
      "text/plain": [
       "<Figure size 432x288 with 1 Axes>"
      ]
     },
     "metadata": {
      "needs_background": "light"
     },
     "output_type": "display_data"
    }
   ],
   "source": [
    "sns.barplot(df.Is_WaterFrontLocation, df.SalePrice);"
   ]
  },
  {
   "cell_type": "code",
   "execution_count": 31,
   "metadata": {},
   "outputs": [
    {
     "data": {
      "image/png": "[encoded data removed]",
      "text/plain": [
       "<Figure size 432x288 with 1 Axes>"
      ]
     },
     "metadata": {
      "needs_background": "light"
     },
     "output_type": "display_data"
    }
   ],
   "source": [
    "sns.barplot(df.NbrLivingUnits, df.SalePrice);"
   ]
  },
  {
   "cell_type": "code",
   "execution_count": 32,
   "metadata": {
    "scrolled": true
   },
   "outputs": [
    {
     "data": {
      "text/plain": [
       "<matplotlib.axes._subplots.AxesSubplot at 0x14d8956f430>"
      ]
     },
     "execution_count": 32,
     "metadata": {},
     "output_type": "execute_result"
    },
    {
     "data": {
      "image/png": "[encoded data removed]",
      "text/plain": [
       "<Figure size 432x288 with 1 Axes>"
      ]
     },
     "metadata": {
      "needs_background": "light"
     },
     "output_type": "display_data"
    }
   ],
   "source": [
    "sns.scatterplot(df['SqFtLot'], df['SalePrice'])"
   ]
  },
  {
   "cell_type": "markdown",
   "metadata": {},
   "source": [
    "### Plot some distributions and box plots and Remove Outliers"
   ]
  },
  {
   "cell_type": "code",
   "execution_count": 33,
   "metadata": {
    "scrolled": true
   },
   "outputs": [
    {
     "data": {
      "text/plain": [
       "<matplotlib.axes._subplots.AxesSubplot at 0x14d8b690e50>"
      ]
     },
     "execution_count": 33,
     "metadata": {},
     "output_type": "execute_result"
    },
    {
     "data": {
      "image/png": "[encoded data removed]",
      "text/plain": [
       "<Figure size 432x288 with 1 Axes>"
      ]
     },
     "metadata": {
      "needs_background": "light"
     },
     "output_type": "display_data"
    }
   ],
   "source": [
    "sns.distplot(df['SalePrice'])"
   ]
  },
  {
   "cell_type": "code",
   "execution_count": 34,
   "metadata": {},
   "outputs": [
    {
     "data": {
      "text/plain": [
       "<matplotlib.axes._subplots.AxesSubplot at 0x14d8c8270d0>"
      ]
     },
     "execution_count": 34,
     "metadata": {},
     "output_type": "execute_result"
    },
    {
     "data": {
      "image/png": "[encoded data removed]",
      "text/plain": [
       "<Figure size 432x288 with 1 Axes>"
      ]
     },
     "metadata": {
      "needs_background": "light"
     },
     "output_type": "display_data"
    }
   ],
   "source": [
    "sns.boxplot(df['SalePrice'])"
   ]
  },
  {
   "cell_type": "code",
   "execution_count": 35,
   "metadata": {},
   "outputs": [],
   "source": [
    "df2 = df[df['SalePrice'].between(df['SalePrice'].quantile(.004), df['SalePrice'].quantile(.996))]"
   ]
  },
  {
   "cell_type": "code",
   "execution_count": 36,
   "metadata": {
    "scrolled": true
   },
   "outputs": [
    {
     "data": {
      "text/plain": [
       "<matplotlib.axes._subplots.AxesSubplot at 0x14d8c8c2a60>"
      ]
     },
     "execution_count": 36,
     "metadata": {},
     "output_type": "execute_result"
    },
    {
     "data": {
      "image/png": "[encoded data removed]",
      "text/plain": [
       "<Figure size 432x288 with 1 Axes>"
      ]
     },
     "metadata": {
      "needs_background": "light"
     },
     "output_type": "display_data"
    }
   ],
   "source": [
    "sns.distplot(df2['SalePrice'])"
   ]
  },
  {
   "cell_type": "code",
   "execution_count": 37,
   "metadata": {},
   "outputs": [
    {
     "data": {
      "text/plain": [
       "<matplotlib.axes._subplots.AxesSubplot at 0x14d8eaa3940>"
      ]
     },
     "execution_count": 37,
     "metadata": {},
     "output_type": "execute_result"
    },
    {
     "data": {
      "image/png": "[encoded data removed]",
      "text/plain": [
       "<Figure size 432x288 with 1 Axes>"
      ]
     },
     "metadata": {
      "needs_background": "light"
     },
     "output_type": "display_data"
    }
   ],
   "source": [
    "sns.boxplot(df2['SalePrice'])"
   ]
  },
  {
   "cell_type": "code",
   "execution_count": 38,
   "metadata": {
    "scrolled": false
   },
   "outputs": [
    {
     "data": {
      "text/plain": [
       "<matplotlib.axes._subplots.AxesSubplot at 0x14d8c833ac0>"
      ]
     },
     "execution_count": 38,
     "metadata": {},
     "output_type": "execute_result"
    },
    {
     "data": {
      "image/png": "[encoded data removed]",
      "text/plain": [
       "<Figure size 432x288 with 1 Axes>"
      ]
     },
     "metadata": {
      "needs_background": "light"
     },
     "output_type": "display_data"
    }
   ],
   "source": [
    "sns.distplot(df2['SqFtLot'])"
   ]
  },
  {
   "cell_type": "code",
   "execution_count": 39,
   "metadata": {},
   "outputs": [
    {
     "data": {
      "text/plain": [
       "<matplotlib.axes._subplots.AxesSubplot at 0x14d823d0d60>"
      ]
     },
     "execution_count": 39,
     "metadata": {},
     "output_type": "execute_result"
    },
    {
     "data": {
      "image/png": "[encoded data removed]",
      "text/plain": [
       "<Figure size 432x288 with 1 Axes>"
      ]
     },
     "metadata": {
      "needs_background": "light"
     },
     "output_type": "display_data"
    }
   ],
   "source": [
    "sns.boxplot(df['SqFtLot'])"
   ]
  },
  {
   "cell_type": "code",
   "execution_count": 40,
   "metadata": {},
   "outputs": [],
   "source": [
    "df2 = df2[df2['SqFtLot'].between(df2['SqFtLot'].quantile(.001), df2['SqFtLot'].quantile(.999))]"
   ]
  },
  {
   "cell_type": "code",
   "execution_count": 41,
   "metadata": {
    "scrolled": true
   },
   "outputs": [
    {
     "data": {
      "text/plain": [
       "<matplotlib.axes._subplots.AxesSubplot at 0x14d821e4460>"
      ]
     },
     "execution_count": 41,
     "metadata": {},
     "output_type": "execute_result"
    },
    {
     "data": {
      "image/png": "[encoded data removed]",
      "text/plain": [
       "<Figure size 432x288 with 1 Axes>"
      ]
     },
     "metadata": {
      "needs_background": "light"
     },
     "output_type": "display_data"
    }
   ],
   "source": [
    "sns.distplot(df2['SqFtLot'])"
   ]
  },
  {
   "cell_type": "code",
   "execution_count": 42,
   "metadata": {},
   "outputs": [
    {
     "data": {
      "text/plain": [
       "<matplotlib.axes._subplots.AxesSubplot at 0x14d894dec40>"
      ]
     },
     "execution_count": 42,
     "metadata": {},
     "output_type": "execute_result"
    },
    {
     "data": {
      "image/png": "[encoded data removed]",
      "text/plain": [
       "<Figure size 432x288 with 1 Axes>"
      ]
     },
     "metadata": {
      "needs_background": "light"
     },
     "output_type": "display_data"
    }
   ],
   "source": [
    "sns.boxplot(df2['SqFtLot'])"
   ]
  },
  {
   "cell_type": "code",
   "execution_count": 43,
   "metadata": {},
   "outputs": [
    {
     "data": {
      "text/plain": [
       "<matplotlib.axes._subplots.AxesSubplot at 0x14d8fcae0a0>"
      ]
     },
     "execution_count": 43,
     "metadata": {},
     "output_type": "execute_result"
    },
    {
     "data": {
      "image/png": "[encoded data removed]",
      "text/plain": [
       "<Figure size 432x288 with 1 Axes>"
      ]
     },
     "metadata": {
      "needs_background": "light"
     },
     "output_type": "display_data"
    }
   ],
   "source": [
    "sns.scatterplot(df2['SqFtLot'], df2['SalePrice'])"
   ]
  },
  {
   "cell_type": "code",
   "execution_count": 44,
   "metadata": {},
   "outputs": [],
   "source": [
    "df2=df2.reset_index(drop=True)"
   ]
  },
  {
   "cell_type": "code",
   "execution_count": 45,
   "metadata": {
    "scrolled": true
   },
   "outputs": [
    {
     "data": {
      "image/png": "[encoded data removed]",
      "text/plain": [
       "<Figure size 432x288 with 1 Axes>"
      ]
     },
     "metadata": {
      "needs_background": "light"
     },
     "output_type": "display_data"
    }
   ],
   "source": [
    "sns.barplot(df2.Is_WaterFrontLocation, df2.SalePrice);"
   ]
  },
  {
   "cell_type": "code",
   "execution_count": 46,
   "metadata": {},
   "outputs": [
    {
     "data": {
      "image/png": "[encoded data removed]",
      "text/plain": [
       "<Figure size 432x288 with 1 Axes>"
      ]
     },
     "metadata": {
      "needs_background": "light"
     },
     "output_type": "display_data"
    }
   ],
   "source": [
    "chart = sns.barplot(df2.WaterFrontLocation, df2.SalePrice)\n",
    "chart.set_xticklabels(chart.get_xticklabels(), rotation=45, horizontalalignment='right');"
   ]
  },
  {
   "cell_type": "code",
   "execution_count": 47,
   "metadata": {
    "scrolled": true
   },
   "outputs": [
    {
     "data": {
      "text/plain": [
       "9775000"
      ]
     },
     "execution_count": 47,
     "metadata": {},
     "output_type": "execute_result"
    }
   ],
   "source": [
    "df2['SalePrice'].max()"
   ]
  },
  {
   "cell_type": "code",
   "execution_count": 48,
   "metadata": {},
   "outputs": [
    {
     "data": {
      "text/plain": [
       "27728"
      ]
     },
     "execution_count": 48,
     "metadata": {},
     "output_type": "execute_result"
    }
   ],
   "source": [
    "len(df2)"
   ]
  },
  {
   "cell_type": "code",
   "execution_count": 49,
   "metadata": {},
   "outputs": [
    {
     "ename": "PermissionError",
     "evalue": "[Errno 13] Permission denied: '../../data/clean/KingCountyHousingData.csv'",
     "output_type": "error",
     "traceback": [
      "\u001b[1;31m---------------------------------------------------------------------------\u001b[0m",
      "\u001b[1;31mPermissionError\u001b[0m                           Traceback (most recent call last)",
      "\u001b[1;32m<ipython-input-49-cdc13190dfe6>\u001b[0m in \u001b[0;36m<module>\u001b[1;34m\u001b[0m\n\u001b[1;32m----> 1\u001b[1;33m \u001b[0mdf2\u001b[0m\u001b[1;33m.\u001b[0m\u001b[0mto_csv\u001b[0m\u001b[1;33m(\u001b[0m\u001b[1;34m'../../data/clean/KingCountyHousingData.csv'\u001b[0m\u001b[1;33m)\u001b[0m\u001b[1;33m\u001b[0m\u001b[1;33m\u001b[0m\u001b[0m\n\u001b[0m",
      "\u001b[1;32m~\\anaconda3\\lib\\site-packages\\pandas\\core\\generic.py\u001b[0m in \u001b[0;36mto_csv\u001b[1;34m(self, path_or_buf, sep, na_rep, float_format, columns, header, index, index_label, mode, encoding, compression, quoting, quotechar, line_terminator, chunksize, date_format, doublequote, escapechar, decimal)\u001b[0m\n\u001b[0;32m   3202\u001b[0m             \u001b[0mdecimal\u001b[0m\u001b[1;33m=\u001b[0m\u001b[0mdecimal\u001b[0m\u001b[1;33m,\u001b[0m\u001b[1;33m\u001b[0m\u001b[1;33m\u001b[0m\u001b[0m\n\u001b[0;32m   3203\u001b[0m         )\n\u001b[1;32m-> 3204\u001b[1;33m         \u001b[0mformatter\u001b[0m\u001b[1;33m.\u001b[0m\u001b[0msave\u001b[0m\u001b[1;33m(\u001b[0m\u001b[1;33m)\u001b[0m\u001b[1;33m\u001b[0m\u001b[1;33m\u001b[0m\u001b[0m\n\u001b[0m\u001b[0;32m   3205\u001b[0m \u001b[1;33m\u001b[0m\u001b[0m\n\u001b[0;32m   3206\u001b[0m         \u001b[1;32mif\u001b[0m \u001b[0mpath_or_buf\u001b[0m \u001b[1;32mis\u001b[0m \u001b[1;32mNone\u001b[0m\u001b[1;33m:\u001b[0m\u001b[1;33m\u001b[0m\u001b[1;33m\u001b[0m\u001b[0m\n",
      "\u001b[1;32m~\\anaconda3\\lib\\site-packages\\pandas\\io\\formats\\csvs.py\u001b[0m in \u001b[0;36msave\u001b[1;34m(self)\u001b[0m\n\u001b[0;32m    182\u001b[0m             \u001b[0mclose\u001b[0m \u001b[1;33m=\u001b[0m \u001b[1;32mFalse\u001b[0m\u001b[1;33m\u001b[0m\u001b[1;33m\u001b[0m\u001b[0m\n\u001b[0;32m    183\u001b[0m         \u001b[1;32melse\u001b[0m\u001b[1;33m:\u001b[0m\u001b[1;33m\u001b[0m\u001b[1;33m\u001b[0m\u001b[0m\n\u001b[1;32m--> 184\u001b[1;33m             f, handles = get_handle(\n\u001b[0m\u001b[0;32m    185\u001b[0m                 \u001b[0mself\u001b[0m\u001b[1;33m.\u001b[0m\u001b[0mpath_or_buf\u001b[0m\u001b[1;33m,\u001b[0m\u001b[1;33m\u001b[0m\u001b[1;33m\u001b[0m\u001b[0m\n\u001b[0;32m    186\u001b[0m                 \u001b[0mself\u001b[0m\u001b[1;33m.\u001b[0m\u001b[0mmode\u001b[0m\u001b[1;33m,\u001b[0m\u001b[1;33m\u001b[0m\u001b[1;33m\u001b[0m\u001b[0m\n",
      "\u001b[1;32m~\\anaconda3\\lib\\site-packages\\pandas\\io\\common.py\u001b[0m in \u001b[0;36mget_handle\u001b[1;34m(path_or_buf, mode, encoding, compression, memory_map, is_text)\u001b[0m\n\u001b[0;32m    426\u001b[0m         \u001b[1;32mif\u001b[0m \u001b[0mencoding\u001b[0m\u001b[1;33m:\u001b[0m\u001b[1;33m\u001b[0m\u001b[1;33m\u001b[0m\u001b[0m\n\u001b[0;32m    427\u001b[0m             \u001b[1;31m# Encoding\u001b[0m\u001b[1;33m\u001b[0m\u001b[1;33m\u001b[0m\u001b[1;33m\u001b[0m\u001b[0m\n\u001b[1;32m--> 428\u001b[1;33m             \u001b[0mf\u001b[0m \u001b[1;33m=\u001b[0m \u001b[0mopen\u001b[0m\u001b[1;33m(\u001b[0m\u001b[0mpath_or_buf\u001b[0m\u001b[1;33m,\u001b[0m \u001b[0mmode\u001b[0m\u001b[1;33m,\u001b[0m \u001b[0mencoding\u001b[0m\u001b[1;33m=\u001b[0m\u001b[0mencoding\u001b[0m\u001b[1;33m,\u001b[0m \u001b[0mnewline\u001b[0m\u001b[1;33m=\u001b[0m\u001b[1;34m\"\"\u001b[0m\u001b[1;33m)\u001b[0m\u001b[1;33m\u001b[0m\u001b[1;33m\u001b[0m\u001b[0m\n\u001b[0m\u001b[0;32m    429\u001b[0m         \u001b[1;32melif\u001b[0m \u001b[0mis_text\u001b[0m\u001b[1;33m:\u001b[0m\u001b[1;33m\u001b[0m\u001b[1;33m\u001b[0m\u001b[0m\n\u001b[0;32m    430\u001b[0m             \u001b[1;31m# No explicit encoding\u001b[0m\u001b[1;33m\u001b[0m\u001b[1;33m\u001b[0m\u001b[1;33m\u001b[0m\u001b[0m\n",
      "\u001b[1;31mPermissionError\u001b[0m: [Errno 13] Permission denied: '../../data/clean/KingCountyHousingData.csv'"
     ]
    }
   ],
   "source": [
    "df2.to_csv('../../data/clean/KingCountyHousingData.csv')"
   ]
  }
 ],
 "metadata": {
  "kernelspec": {
   "display_name": "learn-env",
   "language": "python",
   "name": "learn-env"
  },
  "language_info": {
   "codemirror_mode": {
    "name": "ipython",
    "version": 3
   },
   "file_extension": ".py",
   "mimetype": "text/x-python",
   "name": "python",
   "nbconvert_exporter": "python",
   "pygments_lexer": "ipython3",
   "version": "3.8.3"
  }
 },
 "nbformat": 4,
 "nbformat_minor": 4
}
