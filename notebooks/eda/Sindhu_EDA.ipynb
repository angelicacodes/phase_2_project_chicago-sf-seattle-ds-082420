{
 "cells": [
  {
   "cell_type": "code",
   "execution_count": 1,
   "metadata": {},
   "outputs": [],
   "source": [
    "import pandas as pd\n",
    "import numpy as np\n",
    "import zipfile"
   ]
  },
  {
   "cell_type": "markdown",
   "metadata": {},
   "source": [
    "## Import Data"
   ]
  },
  {
   "cell_type": "code",
   "execution_count": 2,
   "metadata": {
    "scrolled": true
   },
   "outputs": [],
   "source": [
    "# ! wget -P ../../data/raw https://aqua.kingcounty.gov/extranet/assessor/Parcel.zip\n",
    "# ! wget -P ../../data/raw https://aqua.kingcounty.gov/extranet/assessor/Real%20Property%20Sales.zip\n",
    "# ! wget -P ../../data/raw https://aqua.kingcounty.gov/extranet/assessor/Residential%20Building.zip"
   ]
  },
  {
   "cell_type": "code",
   "execution_count": 3,
   "metadata": {},
   "outputs": [],
   "source": [
    "# with zipfile.ZipFile('../../data/raw/Parcel.zip', 'r') as zip_ref:\n",
    "#     zip_ref.extractall('../../data/raw')\n",
    "# with zipfile.ZipFile('../../data/raw/Real Property Sales.zip', 'r') as zip_ref:\n",
    "#     zip_ref.extractall('../../data/raw')\n",
    "# with zipfile.ZipFile('../../data/raw/Residential Building.zip', 'r') as zip_ref:\n",
    "#     zip_ref.extractall('../../data/raw')"
   ]
  },
  {
   "cell_type": "code",
   "execution_count": null,
   "metadata": {},
   "outputs": [],
   "source": [
    "parcel = pd.read_csv(\"../../data/raw/EXTR_Parcel.csv\", encoding='latin-1')\n",
    "real_property_sales = pd.read_csv(\"../../data/raw/EXTR_RPSale.csv\", encoding='latin-1', low_memory=False)\n",
    "residential_building = pd.read_csv(\"../../data/raw/EXTR_ResBldg.csv\", encoding='latin-1', low_memory=False)"
   ]
  },
  {
   "cell_type": "markdown",
   "metadata": {},
   "source": [
    "## Clean Data and Filter For Needed Info"
   ]
  },
  {
   "cell_type": "markdown",
   "metadata": {},
   "source": [
    "### Property Sales"
   ]
  },
  {
   "cell_type": "code",
   "execution_count": null,
   "metadata": {},
   "outputs": [],
   "source": [
    "# Real Property Sales\n",
    "# Identifyers are Major and Minor. Relevant data is SalePrice\n",
    "# Clean real_property_sales to have proper values in Minor and Major and change type to int to match other data sets\n",
    "real_property_sales = real_property_sales[['Major', 'Minor', 'SalePrice', 'DocumentDate']]\n",
    "real_property_sales = real_property_sales[(real_property_sales['Major'].str.isdecimal()==True) &\n",
    "                                          (real_property_sales['Minor'].str.isdecimal()==True)]\n",
    "real_property_sales['Major'] = real_property_sales['Major'].astype('int64')\n",
    "real_property_sales['Minor'] = real_property_sales['Minor'].astype('int64')\n",
    "real_property_sales = real_property_sales[real_property_sales['SalePrice']>0]"
   ]
  },
  {
   "cell_type": "code",
   "execution_count": null,
   "metadata": {},
   "outputs": [],
   "source": [
    "real_property_sales.head()"
   ]
  },
  {
   "cell_type": "markdown",
   "metadata": {},
   "source": [
    "### Parcel"
   ]
  },
  {
   "cell_type": "code",
   "execution_count": null,
   "metadata": {},
   "outputs": [],
   "source": [
    "# parcel.info()"
   ]
  },
  {
   "cell_type": "code",
   "execution_count": null,
   "metadata": {},
   "outputs": [],
   "source": [
    "# Parcel Filter for Necessary Columns\n",
    "parcel = parcel[['Major', 'Minor', 'PropType', 'SqFtLot', 'WfntLocation',\n",
    "                 'TrafficNoise', 'AirportNoise', 'PowerLines', 'OtherNuisances',\n",
    "                 'MtRainier', 'Olympics', 'Cascades', 'PugetSound', 'LakeWashington',\n",
    "                 'LakeSammamish', 'SmallLakeRiverCreek',]]\n",
    "parcel.info()"
   ]
  },
  {
   "cell_type": "code",
   "execution_count": null,
   "metadata": {},
   "outputs": [],
   "source": [
    "parcel = parcel[(parcel['PropType']=='R') | (parcel['PropType']=='K')]"
   ]
  },
  {
   "cell_type": "markdown",
   "metadata": {},
   "source": [
    "### Residential Buiding"
   ]
  },
  {
   "cell_type": "code",
   "execution_count": null,
   "metadata": {},
   "outputs": [],
   "source": [
    "# residential_building.info()"
   ]
  },
  {
   "cell_type": "code",
   "execution_count": null,
   "metadata": {},
   "outputs": [],
   "source": [
    "# Residential Buiding Filter For Necessary Columns\n",
    "residential_building = residential_building[['Major', 'Minor', 'ZipCode', 'NbrLivingUnits', 'SqFtTotLiving', 'SqFtOpenPorch', 'SqFtEnclosedPorch']]"
   ]
  },
  {
   "cell_type": "code",
   "execution_count": null,
   "metadata": {
    "scrolled": true
   },
   "outputs": [],
   "source": [
    "# Create a column Has_Porch\n",
    "residential_building['Has_Porch']= residential_building['SqFtOpenPorch'] + residential_building['SqFtEnclosedPorch']\n",
    "residential_building['Has_Porch'] = [1  if p>0 else 0 for p in residential_building['Has_Porch']]\n",
    "residential_building['Has_OpenPorch'] = [1  if p>0 else 0 for p in residential_building['SqFtOpenPorch']]\n",
    "residential_building['Has_EnclosedPorch'] = [1  if p>0 else 0 for p in residential_building['SqFtEnclosedPorch']]"
   ]
  },
  {
   "cell_type": "code",
   "execution_count": null,
   "metadata": {},
   "outputs": [],
   "source": [
    "residential_building.info()"
   ]
  },
  {
   "cell_type": "markdown",
   "metadata": {},
   "source": [
    "### Merge Property Sales, parcel, and residential building data"
   ]
  },
  {
   "cell_type": "code",
   "execution_count": null,
   "metadata": {},
   "outputs": [],
   "source": [
    "# Join all the tables on Major, Minor\n",
    "# Have duplicate buildings sold at different dates. Need to only keep latest dates\n",
    "merged_tables = (parcel.merge(real_property_sales, on = ['Major', 'Minor'])).merge(residential_building, on = ['Major', 'Minor']).drop_duplicates()\n",
    "# Change dates to date time format\n",
    "merged_tables[['Major', 'SqFtLot']].head(20)\n",
    "merged_tables['DocumentDate'] = pd.to_datetime(merged_tables['DocumentDate'])"
   ]
  },
  {
   "cell_type": "code",
   "execution_count": null,
   "metadata": {},
   "outputs": [],
   "source": [
    "merged_tables.shape"
   ]
  },
  {
   "cell_type": "code",
   "execution_count": null,
   "metadata": {
    "scrolled": true
   },
   "outputs": [],
   "source": [
    "#Keeping only the most recent Sale_Price\n",
    "\n",
    "merged_tables = merged_tables.sort_values(by=['Major', 'DocumentDate'])\n",
    "merged_tables.drop_duplicates(subset=['Major', 'Minor'], keep='last', inplace=True)"
   ]
  },
  {
   "cell_type": "code",
   "execution_count": null,
   "metadata": {},
   "outputs": [],
   "source": [
    "# Filtering for only 2019 data\n",
    "start_date = \"2019-1-1\"\n",
    "end_date = \"2019-12-31\"\n",
    "merged_tables = merged_tables.loc[(merged_tables[\"DocumentDate\"] >= start_date) & (merged_tables[\"DocumentDate\"] <= end_date)]\n",
    "\n",
    "merged_tables.shape"
   ]
  },
  {
   "cell_type": "code",
   "execution_count": null,
   "metadata": {
    "scrolled": true
   },
   "outputs": [],
   "source": [
    "# change dataframe name to df to make life easier\n",
    "df = merged_tables #.sort_values(by = 'DocumentDate', ascending=False)\n",
    "\n",
    "#Create Nuisances Column to replace other nuisance columns\n",
    "df['Nuisances'] = 'No Nuisances'\n",
    "df.loc[(df['TrafficNoise']>0), 'Nuisances'] = 'Traffic Noise'\n",
    "df.loc[(df['AirportNoise']>0), 'Nuisances'] = 'Airport Noise'\n",
    "df.loc[(df['PowerLines']=='Y'), 'Nuisances'] = 'Power Lines'\n",
    "df.loc[(df['OtherNuisances']=='Y'), 'Nuisances'] = 'Other Nuisances'\n",
    "df = df.drop(['PropType', 'AirportNoise', 'SqFtOpenPorch', 'SqFtEnclosedPorch'], axis='columns')\n",
    "df['PowerLines'] = df['PowerLines'].map({'Y' : 1, 'N' : 0})\n",
    "df['OtherNuisances'] = df['OtherNuisances'].map({'Y' : 1, 'N' : 0})"
   ]
  },
  {
   "cell_type": "code",
   "execution_count": null,
   "metadata": {},
   "outputs": [],
   "source": [
    "# WFNTLOCATION\n",
    "# Waterfront location (Source: King County Assessments)\n",
    "# Value\tDefinition\n",
    "# 0\tUnknown\n",
    "# 1\tDuwamish\n",
    "# 2\tElliott Bay\n",
    "# 3\tPuget Sound\n",
    "# 4\tLake Union\n",
    "# 5\tShip Canal\n",
    "# 6\tLake Washington\n",
    "# 7\tLake Sammamish\n",
    "# 8\tOther lake\n",
    "# 9\tRiver or slough\n",
    "\n",
    "df['WaterFrontLocation'] = df.WfntLocation.map({0 : 'None', 1 : 'Duwamish', 2 : 'Elliott Bay', 3 : 'Puget Sound', 4 : 'Lake Union',\n",
    "                     5 : 'Ship Canal',  6 : 'Lake Washington', 7 : 'Lake Sammamish', 8 : 'Other lake', 9 : 'River or slough'})\n",
    "df['Is_WaterFrontLocation'] = [1 if i>0 else 0 for i in df.WfntLocation]\n",
    "df=df.drop('WfntLocation', axis='columns')"
   ]
  },
  {
   "cell_type": "code",
   "execution_count": null,
   "metadata": {
    "scrolled": true
   },
   "outputs": [],
   "source": [
    "df['Has_Nuisance'] = [0 if n == 'No Nuisances' else 1 for n in df['Nuisances']]\n",
    "\n",
    "# df[['Major', 'Minor', 'SqFtLot']].head()"
   ]
  },
  {
   "cell_type": "code",
   "execution_count": null,
   "metadata": {
    "scrolled": true
   },
   "outputs": [],
   "source": [
    "# reorder Columns\n",
    "df = df[['Major', 'Minor', 'ZipCode', 'DocumentDate', 'SalePrice', 'SqFtLot', 'SqFtTotLiving',\n",
    "         'Nuisances', 'Has_Nuisance', 'TrafficNoise', 'PowerLines', 'OtherNuisances',\n",
    "         'Is_WaterFrontLocation', 'WaterFrontLocation', 'Has_Porch', 'Has_OpenPorch',\n",
    "         'Has_EnclosedPorch', 'NbrLivingUnits', 'MtRainier', 'Olympics', 'Cascades',\n",
    "         'PugetSound', 'LakeWashington', 'LakeSammamish', 'SmallLakeRiverCreek']]"
   ]
  },
  {
   "cell_type": "code",
   "execution_count": null,
   "metadata": {},
   "outputs": [],
   "source": [
    "df.rename(columns={'MtRainier': 'View_MtRainier', 'Olympics': 'View_Olympics', 'Cascades': 'View_Cascades',\n",
    "                   'PugetSound': 'View_PugetSound', 'LakeWashington': 'View_LakeWashington',\n",
    "                   'LakeSammamish': 'View_LakeSammamish','SmallLakeRiverCreek': 'View_SmallLakeRiverCreek',}, inplace = True)"
   ]
  },
  {
   "cell_type": "code",
   "execution_count": null,
   "metadata": {},
   "outputs": [],
   "source": [
    "# Add in and clean zipcode column\n",
    "\n",
    "df['ZipCode'] = df['ZipCode'].astype('str')\n",
    "df['ZipCode'] = [None if len(code)<5 else code for code in df['ZipCode']]\n",
    "df = df.sort_values(by=['Major', 'ZipCode'])\n",
    "df['ZipCode'] = df['ZipCode'].fillna(method='ffill')\n",
    "df['ZipCode'] = [code[0:5] for code in df['ZipCode']]"
   ]
  },
  {
   "cell_type": "code",
   "execution_count": null,
   "metadata": {},
   "outputs": [],
   "source": [
    "# Check x if have the relevant data to answer question\n",
    "# [x]Higher square footage increases home sale price1, 2\n",
    "# [x]Having a porch increases home sale price3, 4\n",
    "# [x]Having a beachfront or lakefront increases home sale price5\n",
    "# [x]The house filling a higher proportion of the overall lot decreases home sale price6\n",
    "# [x]The cost per square foot is lower in duplexes than in single-family homes7\n",
    "# [x]The presence of a nuisance (power lines, traffic noise, airport noise) decreases home sale price1, 5"
   ]
  },
  {
   "cell_type": "markdown",
   "metadata": {},
   "source": [
    "## Graphical EDA"
   ]
  },
  {
   "cell_type": "code",
   "execution_count": null,
   "metadata": {},
   "outputs": [],
   "source": [
    "import matplotlib.pyplot as plt\n",
    "import seaborn as sns"
   ]
  },
  {
   "cell_type": "markdown",
   "metadata": {},
   "source": [
    "### Plot some distributions and box plots and Remove Outliers"
   ]
  },
  {
   "cell_type": "code",
   "execution_count": null,
   "metadata": {},
   "outputs": [],
   "source": [
    "sns.scatterplot(df['SqFtLot'], df['SalePrice'])"
   ]
  },
  {
   "cell_type": "code",
   "execution_count": null,
   "metadata": {
    "scrolled": true
   },
   "outputs": [],
   "source": [
    "sns.distplot(df['SalePrice'])"
   ]
  },
  {
   "cell_type": "code",
   "execution_count": null,
   "metadata": {},
   "outputs": [],
   "source": [
    "sns.boxplot(df['SalePrice'])"
   ]
  },
  {
   "cell_type": "code",
   "execution_count": null,
   "metadata": {},
   "outputs": [],
   "source": [
    "df2 = df[df['SalePrice'].between(df['SalePrice'].quantile(.001), df['SalePrice'].quantile(.996))]"
   ]
  },
  {
   "cell_type": "code",
   "execution_count": null,
   "metadata": {
    "scrolled": true
   },
   "outputs": [],
   "source": [
    "sns.distplot(df2['SalePrice'])"
   ]
  },
  {
   "cell_type": "code",
   "execution_count": null,
   "metadata": {},
   "outputs": [],
   "source": [
    "sns.boxplot(df2['SalePrice'])"
   ]
  },
  {
   "cell_type": "code",
   "execution_count": null,
   "metadata": {
    "scrolled": false
   },
   "outputs": [],
   "source": [
    "sns.distplot(df2['SqFtLot'])"
   ]
  },
  {
   "cell_type": "code",
   "execution_count": null,
   "metadata": {},
   "outputs": [],
   "source": [
    "sns.boxplot(df['SqFtLot'])"
   ]
  },
  {
   "cell_type": "code",
   "execution_count": null,
   "metadata": {},
   "outputs": [],
   "source": [
    "df2 = df2[df2['SqFtLot'].between(df2['SqFtLot'].quantile(.001), df2['SqFtLot'].quantile(.999))]"
   ]
  },
  {
   "cell_type": "code",
   "execution_count": null,
   "metadata": {
    "scrolled": true
   },
   "outputs": [],
   "source": [
    "sns.distplot(df2['SqFtLot'])"
   ]
  },
  {
   "cell_type": "code",
   "execution_count": null,
   "metadata": {},
   "outputs": [],
   "source": [
    "sns.boxplot(df2['SqFtLot'])"
   ]
  },
  {
   "cell_type": "code",
   "execution_count": null,
   "metadata": {},
   "outputs": [],
   "source": [
    "sns.scatterplot(df2['SqFtLot'], df2['SalePrice'])"
   ]
  },
  {
   "cell_type": "code",
   "execution_count": null,
   "metadata": {},
   "outputs": [],
   "source": [
    "df2=df2.reset_index(drop=True)"
   ]
  },
  {
   "cell_type": "code",
   "execution_count": null,
   "metadata": {
    "scrolled": true
   },
   "outputs": [],
   "source": [
    "sns.barplot(df2.Is_WaterFrontLocation, df2.SalePrice);"
   ]
  },
  {
   "cell_type": "code",
   "execution_count": null,
   "metadata": {
    "scrolled": true
   },
   "outputs": [],
   "source": [
    "chart = sns.barplot(df2.WaterFrontLocation, df2.SalePrice)\n",
    "chart.set_xticklabels(chart.get_xticklabels(), rotation=45, horizontalalignment='right');"
   ]
  },
  {
   "cell_type": "code",
   "execution_count": null,
   "metadata": {
    "scrolled": false
   },
   "outputs": [],
   "source": [
    "sns.barplot(df2['Has_Nuisance'], df2['SalePrice']);"
   ]
  },
  {
   "cell_type": "code",
   "execution_count": null,
   "metadata": {
    "scrolled": true
   },
   "outputs": [],
   "source": [
    "sns.barplot(df2['Nuisances'], df2['SalePrice']);"
   ]
  },
  {
   "cell_type": "code",
   "execution_count": null,
   "metadata": {},
   "outputs": [],
   "source": [
    "sns.barplot(df2['Has_Porch'], df2['SalePrice']);"
   ]
  },
  {
   "cell_type": "code",
   "execution_count": null,
   "metadata": {},
   "outputs": [],
   "source": []
  },
  {
   "cell_type": "code",
   "execution_count": null,
   "metadata": {
    "scrolled": true
   },
   "outputs": [],
   "source": [
    "df2['SalePrice'].max()"
   ]
  },
  {
   "cell_type": "code",
   "execution_count": null,
   "metadata": {},
   "outputs": [],
   "source": [
    "len(df2)"
   ]
  },
  {
   "cell_type": "code",
   "execution_count": null,
   "metadata": {},
   "outputs": [],
   "source": [
    "df2.to_csv('../../data/clean/KingCountyHousingData.csv')"
   ]
  },
  {
   "cell_type": "code",
   "execution_count": null,
   "metadata": {},
   "outputs": [],
   "source": []
  }
 ],
 "metadata": {
  "kernelspec": {
   "display_name": "learn-env",
   "language": "python",
   "name": "learn-env"
  },
  "language_info": {
   "codemirror_mode": {
    "name": "ipython",
    "version": 3
   },
   "file_extension": ".py",
   "mimetype": "text/x-python",
   "name": "python",
   "nbconvert_exporter": "python",
   "pygments_lexer": "ipython3",
   "version": "3.8.3"
  }
 },
 "nbformat": 4,
 "nbformat_minor": 4
}
