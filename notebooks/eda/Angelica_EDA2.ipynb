{
 "cells": [
  {
   "cell_type": "code",
   "execution_count": 2,
   "metadata": {},
   "outputs": [],
   "source": [
    "import pandas as pd\n",
    "import zipfile\n"
   ]
  },
  {
   "cell_type": "markdown",
   "metadata": {},
   "source": [
    "## Import Data"
   ]
  },
  {
   "cell_type": "code",
   "execution_count": 1,
   "metadata": {
    "scrolled": true
   },
   "outputs": [
    {
     "name": "stdout",
     "output_type": "stream",
     "text": [
      "/bin/sh: wget: command not found\n",
      "/bin/sh: wget: command not found\n"
     ]
    }
   ],
   "source": [
    "! wget -P ../../data/raw https://aqua.kingcounty.gov/extranet/assessor/Real%20Property%20Sales.zip\n",
    "! wget -P ../../data/raw https://aqua.kingcounty.gov/extranet/assessor/Residential%20Building.zip"
   ]
  },
  {
   "cell_type": "code",
   "execution_count": 1,
   "metadata": {},
   "outputs": [
    {
     "name": "stdout",
     "output_type": "stream",
     "text": [
      "wget not found\n"
     ]
    }
   ],
   "source": [
    "! which wget\n"
   ]
  },
  {
   "cell_type": "code",
   "execution_count": 3,
   "metadata": {},
   "outputs": [
    {
     "ename": "NameError",
     "evalue": "name 'zipfile' is not defined",
     "output_type": "error",
     "traceback": [
      "\u001b[0;31m---------------------------------------------------------------------------\u001b[0m",
      "\u001b[0;31mNameError\u001b[0m                                 Traceback (most recent call last)",
      "\u001b[0;32m<ipython-input-3-6e4b7742d735>\u001b[0m in \u001b[0;36m<module>\u001b[0;34m\u001b[0m\n\u001b[0;32m----> 1\u001b[0;31m \u001b[0;32mwith\u001b[0m \u001b[0mzipfile\u001b[0m\u001b[0;34m.\u001b[0m\u001b[0mZipFile\u001b[0m\u001b[0;34m(\u001b[0m\u001b[0;34m'../../data/raw/Parcel.zip'\u001b[0m\u001b[0;34m,\u001b[0m \u001b[0;34m'r'\u001b[0m\u001b[0;34m)\u001b[0m \u001b[0;32mas\u001b[0m \u001b[0mzip_ref\u001b[0m\u001b[0;34m:\u001b[0m\u001b[0;34m\u001b[0m\u001b[0;34m\u001b[0m\u001b[0m\n\u001b[0m\u001b[1;32m      2\u001b[0m     \u001b[0mzip_ref\u001b[0m\u001b[0;34m.\u001b[0m\u001b[0mextractall\u001b[0m\u001b[0;34m(\u001b[0m\u001b[0;34m'../../data/raw'\u001b[0m\u001b[0;34m)\u001b[0m\u001b[0;34m\u001b[0m\u001b[0;34m\u001b[0m\u001b[0m\n\u001b[1;32m      3\u001b[0m \u001b[0;32mwith\u001b[0m \u001b[0mzipfile\u001b[0m\u001b[0;34m.\u001b[0m\u001b[0mZipFile\u001b[0m\u001b[0;34m(\u001b[0m\u001b[0;34m'../../data/raw/Real Property Sales.zip'\u001b[0m\u001b[0;34m,\u001b[0m \u001b[0;34m'r'\u001b[0m\u001b[0;34m)\u001b[0m \u001b[0;32mas\u001b[0m \u001b[0mzip_ref\u001b[0m\u001b[0;34m:\u001b[0m\u001b[0;34m\u001b[0m\u001b[0;34m\u001b[0m\u001b[0m\n\u001b[1;32m      4\u001b[0m     \u001b[0mzip_ref\u001b[0m\u001b[0;34m.\u001b[0m\u001b[0mextractall\u001b[0m\u001b[0;34m(\u001b[0m\u001b[0;34m'../../data/raw'\u001b[0m\u001b[0;34m)\u001b[0m\u001b[0;34m\u001b[0m\u001b[0;34m\u001b[0m\u001b[0m\n\u001b[1;32m      5\u001b[0m \u001b[0;32mwith\u001b[0m \u001b[0mzipfile\u001b[0m\u001b[0;34m.\u001b[0m\u001b[0mZipFile\u001b[0m\u001b[0;34m(\u001b[0m\u001b[0;34m'../../data/raw/Residential Building.zip'\u001b[0m\u001b[0;34m,\u001b[0m \u001b[0;34m'r'\u001b[0m\u001b[0;34m)\u001b[0m \u001b[0;32mas\u001b[0m \u001b[0mzip_ref\u001b[0m\u001b[0;34m:\u001b[0m\u001b[0;34m\u001b[0m\u001b[0;34m\u001b[0m\u001b[0m\n",
      "\u001b[0;31mNameError\u001b[0m: name 'zipfile' is not defined"
     ]
    }
   ],
   "source": [
    "with zipfile.ZipFile('../../data/raw/Parcel.zip', 'r') as zip_ref:\n",
    "    zip_ref.extractall('../../data/raw')\n",
    "with zipfile.ZipFile('../../data/raw/Real Property Sales.zip', 'r') as zip_ref:\n",
    "    zip_ref.extractall('../../data/raw')\n",
    "with zipfile.ZipFile('../../data/raw/Residential Building.zip', 'r') as zip_ref:\n",
    "    zip_ref.extractall('../../data/raw')"
   ]
  },
  {
   "cell_type": "code",
   "execution_count": 3,
   "metadata": {},
   "outputs": [],
   "source": [
    "parcel = pd.read_csv(\"../../data/raw/EXTR_Parcel.csv\", encoding='latin-1')\n",
    "real_property_sales = pd.read_csv(\"../../data/raw/EXTR_RPSale.csv\", encoding='latin-1', low_memory=False)\n",
    "residential_building = pd.read_csv(\"../../data/raw/EXTR_ResBldg.csv\", encoding='latin-1', low_memory=False)"
   ]
  },
  {
   "cell_type": "markdown",
   "metadata": {},
   "source": [
    "## Clean Data and Filter For Needed Info"
   ]
  },
  {
   "cell_type": "code",
   "execution_count": 4,
   "metadata": {},
   "outputs": [],
   "source": [
    "# Real Property Sales\n",
    "# Identifyers are Major and Minor. Relevant data is SalePrice\n",
    "# Clean real_property_sales to have proper values in Minor and Major and change type to int to match other data sets\n",
    "real_property_sales = real_property_sales[['Major', 'Minor', 'SalePrice', 'DocumentDate']]\n",
    "real_property_sales = real_property_sales[(real_property_sales['Major'].str.isdecimal()==True) &\n",
    "                                          (real_property_sales['Minor'].str.isdecimal()==True)]\n",
    "real_property_sales['Major'] = real_property_sales['Major'].astype('int64')\n",
    "real_property_sales['Minor'] = real_property_sales['Minor'].astype('int64')\n",
    "real_property_sales = real_property_sales[real_property_sales['SalePrice']>0]"
   ]
  },
  {
   "cell_type": "code",
   "execution_count": 5,
   "metadata": {},
   "outputs": [
    {
     "data": {
      "text/html": [
       "<div>\n",
       "<style scoped>\n",
       "    .dataframe tbody tr th:only-of-type {\n",
       "        vertical-align: middle;\n",
       "    }\n",
       "\n",
       "    .dataframe tbody tr th {\n",
       "        vertical-align: top;\n",
       "    }\n",
       "\n",
       "    .dataframe thead th {\n",
       "        text-align: right;\n",
       "    }\n",
       "</style>\n",
       "<table border=\"1\" class=\"dataframe\">\n",
       "  <thead>\n",
       "    <tr style=\"text-align: right;\">\n",
       "      <th></th>\n",
       "      <th>Major</th>\n",
       "      <th>Minor</th>\n",
       "      <th>SalePrice</th>\n",
       "      <th>DocumentDate</th>\n",
       "    </tr>\n",
       "  </thead>\n",
       "  <tbody>\n",
       "    <tr>\n",
       "      <th>0</th>\n",
       "      <td>138860</td>\n",
       "      <td>110</td>\n",
       "      <td>245000</td>\n",
       "      <td>08/21/2014</td>\n",
       "    </tr>\n",
       "    <tr>\n",
       "      <th>4</th>\n",
       "      <td>213043</td>\n",
       "      <td>120</td>\n",
       "      <td>560000</td>\n",
       "      <td>12/20/2019</td>\n",
       "    </tr>\n",
       "    <tr>\n",
       "      <th>5</th>\n",
       "      <td>951120</td>\n",
       "      <td>900</td>\n",
       "      <td>85000</td>\n",
       "      <td>04/20/1989</td>\n",
       "    </tr>\n",
       "    <tr>\n",
       "      <th>7</th>\n",
       "      <td>122209</td>\n",
       "      <td>9002</td>\n",
       "      <td>5755000</td>\n",
       "      <td>04/25/2001</td>\n",
       "    </tr>\n",
       "    <tr>\n",
       "      <th>8</th>\n",
       "      <td>122209</td>\n",
       "      <td>9001</td>\n",
       "      <td>5755000</td>\n",
       "      <td>04/25/2001</td>\n",
       "    </tr>\n",
       "  </tbody>\n",
       "</table>\n",
       "</div>"
      ],
      "text/plain": [
       "    Major  Minor  SalePrice DocumentDate\n",
       "0  138860    110     245000   08/21/2014\n",
       "4  213043    120     560000   12/20/2019\n",
       "5  951120    900      85000   04/20/1989\n",
       "7  122209   9002    5755000   04/25/2001\n",
       "8  122209   9001    5755000   04/25/2001"
      ]
     },
     "execution_count": 5,
     "metadata": {},
     "output_type": "execute_result"
    }
   ],
   "source": [
    "real_property_sales.head()"
   ]
  },
  {
   "cell_type": "code",
   "execution_count": 6,
   "metadata": {},
   "outputs": [
    {
     "name": "stdout",
     "output_type": "stream",
     "text": [
      "<class 'pandas.core.frame.DataFrame'>\n",
      "RangeIndex: 616089 entries, 0 to 616088\n",
      "Data columns (total 8 columns):\n",
      " #   Column          Non-Null Count   Dtype \n",
      "---  ------          --------------   ----- \n",
      " 0   Major           616089 non-null  int64 \n",
      " 1   Minor           616089 non-null  int64 \n",
      " 2   SqFtLot         616089 non-null  int64 \n",
      " 3   WfntLocation    616089 non-null  int64 \n",
      " 4   TrafficNoise    616089 non-null  int64 \n",
      " 5   AirportNoise    616089 non-null  int64 \n",
      " 6   PowerLines      616089 non-null  object\n",
      " 7   OtherNuisances  616089 non-null  object\n",
      "dtypes: int64(6), object(2)\n",
      "memory usage: 37.6+ MB\n"
     ]
    }
   ],
   "source": [
    "# Parcel Filter for Necessary Columns\n",
    "parcel = parcel[['Major', 'Minor', 'SqFtLot', 'WfntLocation', 'TrafficNoise', 'AirportNoise', 'PowerLines', 'OtherNuisances']]\n",
    "parcel.info()"
   ]
  },
  {
   "cell_type": "code",
   "execution_count": 7,
   "metadata": {},
   "outputs": [],
   "source": [
    "# Residential Buiding Filter For Necessary Columns\n",
    "residential_building = residential_building[['Major', 'Minor', 'NbrLivingUnits', 'SqFtTotLiving', 'SqFtOpenPorch', 'SqFtEnclosedPorch']]"
   ]
  },
  {
   "cell_type": "code",
   "execution_count": 8,
   "metadata": {
    "scrolled": true
   },
   "outputs": [],
   "source": [
    "# Create a column Has_Porch\n",
    "residential_building['Has_Porch']= residential_building['SqFtOpenPorch'] + residential_building['SqFtEnclosedPorch']\n",
    "residential_building['Has_Porch'] = [1  if p>0 else 0 for p in residential_building['Has_Porch']]"
   ]
  },
  {
   "cell_type": "code",
   "execution_count": 9,
   "metadata": {},
   "outputs": [
    {
     "name": "stdout",
     "output_type": "stream",
     "text": [
      "<class 'pandas.core.frame.DataFrame'>\n",
      "RangeIndex: 517783 entries, 0 to 517782\n",
      "Data columns (total 7 columns):\n",
      " #   Column             Non-Null Count   Dtype\n",
      "---  ------             --------------   -----\n",
      " 0   Major              517783 non-null  int64\n",
      " 1   Minor              517783 non-null  int64\n",
      " 2   NbrLivingUnits     517783 non-null  int64\n",
      " 3   SqFtTotLiving      517783 non-null  int64\n",
      " 4   SqFtOpenPorch      517783 non-null  int64\n",
      " 5   SqFtEnclosedPorch  517783 non-null  int64\n",
      " 6   Has_Porch          517783 non-null  int64\n",
      "dtypes: int64(7)\n",
      "memory usage: 27.7 MB\n"
     ]
    }
   ],
   "source": [
    "residential_building.info()"
   ]
  },
  {
   "cell_type": "code",
   "execution_count": 10,
   "metadata": {},
   "outputs": [],
   "source": [
    "# Join all the tables on Major, Minor\n",
    "# Have duplicate buildings sold at different dates. Need to only keep latest dates\n",
    "merged_tables = real_property_sales.merge(parcel).merge(residential_building).drop_duplicates()\n",
    "# Change dates to date time format\n",
    "merged_tables['DocumentDate'] = pd.to_datetime(merged_tables['DocumentDate'])"
   ]
  },
  {
   "cell_type": "code",
   "execution_count": 11,
   "metadata": {
    "scrolled": true
   },
   "outputs": [],
   "source": [
    "#Keeping only the most recent Sale_Price\n",
    "buildings_df = merged_tables.sort_values('DocumentDate').drop_duplicates(['Major', 'Minor'],keep='first')"
   ]
  },
  {
   "cell_type": "code",
   "execution_count": 12,
   "metadata": {},
   "outputs": [
    {
     "data": {
      "text/html": [
       "<div>\n",
       "<style scoped>\n",
       "    .dataframe tbody tr th:only-of-type {\n",
       "        vertical-align: middle;\n",
       "    }\n",
       "\n",
       "    .dataframe tbody tr th {\n",
       "        vertical-align: top;\n",
       "    }\n",
       "\n",
       "    .dataframe thead th {\n",
       "        text-align: right;\n",
       "    }\n",
       "</style>\n",
       "<table border=\"1\" class=\"dataframe\">\n",
       "  <thead>\n",
       "    <tr style=\"text-align: right;\">\n",
       "      <th></th>\n",
       "      <th>Major</th>\n",
       "      <th>Minor</th>\n",
       "      <th>SalePrice</th>\n",
       "      <th>DocumentDate</th>\n",
       "      <th>SqFtLot</th>\n",
       "      <th>WfntLocation</th>\n",
       "      <th>TrafficNoise</th>\n",
       "      <th>AirportNoise</th>\n",
       "      <th>PowerLines</th>\n",
       "      <th>OtherNuisances</th>\n",
       "      <th>NbrLivingUnits</th>\n",
       "      <th>SqFtTotLiving</th>\n",
       "      <th>SqFtOpenPorch</th>\n",
       "      <th>SqFtEnclosedPorch</th>\n",
       "      <th>Has_Porch</th>\n",
       "    </tr>\n",
       "  </thead>\n",
       "  <tbody>\n",
       "    <tr>\n",
       "      <th>705940</th>\n",
       "      <td>514510</td>\n",
       "      <td>250</td>\n",
       "      <td>125000</td>\n",
       "      <td>1934-11-11</td>\n",
       "      <td>7041</td>\n",
       "      <td>0</td>\n",
       "      <td>0</td>\n",
       "      <td>0</td>\n",
       "      <td>N</td>\n",
       "      <td>N</td>\n",
       "      <td>1</td>\n",
       "      <td>910</td>\n",
       "      <td>0</td>\n",
       "      <td>0</td>\n",
       "      <td>0</td>\n",
       "    </tr>\n",
       "    <tr>\n",
       "      <th>443490</th>\n",
       "      <td>718680</td>\n",
       "      <td>30</td>\n",
       "      <td>600</td>\n",
       "      <td>1954-03-11</td>\n",
       "      <td>9345</td>\n",
       "      <td>0</td>\n",
       "      <td>0</td>\n",
       "      <td>0</td>\n",
       "      <td>N</td>\n",
       "      <td>N</td>\n",
       "      <td>1</td>\n",
       "      <td>1380</td>\n",
       "      <td>40</td>\n",
       "      <td>0</td>\n",
       "      <td>1</td>\n",
       "    </tr>\n",
       "    <tr>\n",
       "      <th>653999</th>\n",
       "      <td>245840</td>\n",
       "      <td>30</td>\n",
       "      <td>9500</td>\n",
       "      <td>1955-04-15</td>\n",
       "      <td>6300</td>\n",
       "      <td>0</td>\n",
       "      <td>1</td>\n",
       "      <td>0</td>\n",
       "      <td>N</td>\n",
       "      <td>N</td>\n",
       "      <td>1</td>\n",
       "      <td>820</td>\n",
       "      <td>0</td>\n",
       "      <td>0</td>\n",
       "      <td>0</td>\n",
       "    </tr>\n",
       "    <tr>\n",
       "      <th>962419</th>\n",
       "      <td>222470</td>\n",
       "      <td>151</td>\n",
       "      <td>12250</td>\n",
       "      <td>1959-10-10</td>\n",
       "      <td>11115</td>\n",
       "      <td>0</td>\n",
       "      <td>1</td>\n",
       "      <td>0</td>\n",
       "      <td>N</td>\n",
       "      <td>N</td>\n",
       "      <td>1</td>\n",
       "      <td>2090</td>\n",
       "      <td>0</td>\n",
       "      <td>0</td>\n",
       "      <td>0</td>\n",
       "    </tr>\n",
       "    <tr>\n",
       "      <th>235295</th>\n",
       "      <td>503180</td>\n",
       "      <td>251</td>\n",
       "      <td>2300</td>\n",
       "      <td>1960-09-27</td>\n",
       "      <td>19064</td>\n",
       "      <td>3</td>\n",
       "      <td>0</td>\n",
       "      <td>0</td>\n",
       "      <td>N</td>\n",
       "      <td>N</td>\n",
       "      <td>1</td>\n",
       "      <td>1140</td>\n",
       "      <td>40</td>\n",
       "      <td>0</td>\n",
       "      <td>1</td>\n",
       "    </tr>\n",
       "    <tr>\n",
       "      <th>...</th>\n",
       "      <td>...</td>\n",
       "      <td>...</td>\n",
       "      <td>...</td>\n",
       "      <td>...</td>\n",
       "      <td>...</td>\n",
       "      <td>...</td>\n",
       "      <td>...</td>\n",
       "      <td>...</td>\n",
       "      <td>...</td>\n",
       "      <td>...</td>\n",
       "      <td>...</td>\n",
       "      <td>...</td>\n",
       "      <td>...</td>\n",
       "      <td>...</td>\n",
       "      <td>...</td>\n",
       "    </tr>\n",
       "    <tr>\n",
       "      <th>900477</th>\n",
       "      <td>241990</td>\n",
       "      <td>45</td>\n",
       "      <td>642000</td>\n",
       "      <td>2020-09-08</td>\n",
       "      <td>11054</td>\n",
       "      <td>0</td>\n",
       "      <td>0</td>\n",
       "      <td>0</td>\n",
       "      <td>N</td>\n",
       "      <td>N</td>\n",
       "      <td>1</td>\n",
       "      <td>1510</td>\n",
       "      <td>0</td>\n",
       "      <td>0</td>\n",
       "      <td>0</td>\n",
       "    </tr>\n",
       "    <tr>\n",
       "      <th>366504</th>\n",
       "      <td>327530</td>\n",
       "      <td>150</td>\n",
       "      <td>393000</td>\n",
       "      <td>2020-09-09</td>\n",
       "      <td>9500</td>\n",
       "      <td>0</td>\n",
       "      <td>0</td>\n",
       "      <td>0</td>\n",
       "      <td>N</td>\n",
       "      <td>N</td>\n",
       "      <td>1</td>\n",
       "      <td>1250</td>\n",
       "      <td>110</td>\n",
       "      <td>0</td>\n",
       "      <td>1</td>\n",
       "    </tr>\n",
       "    <tr>\n",
       "      <th>925600</th>\n",
       "      <td>797260</td>\n",
       "      <td>2865</td>\n",
       "      <td>590000</td>\n",
       "      <td>2020-09-09</td>\n",
       "      <td>10275</td>\n",
       "      <td>0</td>\n",
       "      <td>0</td>\n",
       "      <td>0</td>\n",
       "      <td>N</td>\n",
       "      <td>N</td>\n",
       "      <td>1</td>\n",
       "      <td>1660</td>\n",
       "      <td>40</td>\n",
       "      <td>0</td>\n",
       "      <td>1</td>\n",
       "    </tr>\n",
       "    <tr>\n",
       "      <th>960304</th>\n",
       "      <td>330070</td>\n",
       "      <td>280</td>\n",
       "      <td>535000</td>\n",
       "      <td>2020-09-09</td>\n",
       "      <td>4000</td>\n",
       "      <td>0</td>\n",
       "      <td>0</td>\n",
       "      <td>0</td>\n",
       "      <td>N</td>\n",
       "      <td>N</td>\n",
       "      <td>1</td>\n",
       "      <td>700</td>\n",
       "      <td>0</td>\n",
       "      <td>0</td>\n",
       "      <td>0</td>\n",
       "    </tr>\n",
       "    <tr>\n",
       "      <th>387831</th>\n",
       "      <td>524480</td>\n",
       "      <td>1190</td>\n",
       "      <td>750000</td>\n",
       "      <td>2020-09-09</td>\n",
       "      <td>4200</td>\n",
       "      <td>0</td>\n",
       "      <td>0</td>\n",
       "      <td>0</td>\n",
       "      <td>N</td>\n",
       "      <td>N</td>\n",
       "      <td>1</td>\n",
       "      <td>1290</td>\n",
       "      <td>290</td>\n",
       "      <td>0</td>\n",
       "      <td>1</td>\n",
       "    </tr>\n",
       "  </tbody>\n",
       "</table>\n",
       "<p>447071 rows × 15 columns</p>\n",
       "</div>"
      ],
      "text/plain": [
       "         Major  Minor  SalePrice DocumentDate  SqFtLot  WfntLocation  \\\n",
       "705940  514510    250     125000   1934-11-11     7041             0   \n",
       "443490  718680     30        600   1954-03-11     9345             0   \n",
       "653999  245840     30       9500   1955-04-15     6300             0   \n",
       "962419  222470    151      12250   1959-10-10    11115             0   \n",
       "235295  503180    251       2300   1960-09-27    19064             3   \n",
       "...        ...    ...        ...          ...      ...           ...   \n",
       "900477  241990     45     642000   2020-09-08    11054             0   \n",
       "366504  327530    150     393000   2020-09-09     9500             0   \n",
       "925600  797260   2865     590000   2020-09-09    10275             0   \n",
       "960304  330070    280     535000   2020-09-09     4000             0   \n",
       "387831  524480   1190     750000   2020-09-09     4200             0   \n",
       "\n",
       "        TrafficNoise  AirportNoise PowerLines OtherNuisances  NbrLivingUnits  \\\n",
       "705940             0             0          N              N               1   \n",
       "443490             0             0          N              N               1   \n",
       "653999             1             0          N              N               1   \n",
       "962419             1             0          N              N               1   \n",
       "235295             0             0          N              N               1   \n",
       "...              ...           ...        ...            ...             ...   \n",
       "900477             0             0          N              N               1   \n",
       "366504             0             0          N              N               1   \n",
       "925600             0             0          N              N               1   \n",
       "960304             0             0          N              N               1   \n",
       "387831             0             0          N              N               1   \n",
       "\n",
       "        SqFtTotLiving  SqFtOpenPorch  SqFtEnclosedPorch  Has_Porch  \n",
       "705940            910              0                  0          0  \n",
       "443490           1380             40                  0          1  \n",
       "653999            820              0                  0          0  \n",
       "962419           2090              0                  0          0  \n",
       "235295           1140             40                  0          1  \n",
       "...               ...            ...                ...        ...  \n",
       "900477           1510              0                  0          0  \n",
       "366504           1250            110                  0          1  \n",
       "925600           1660             40                  0          1  \n",
       "960304            700              0                  0          0  \n",
       "387831           1290            290                  0          1  \n",
       "\n",
       "[447071 rows x 15 columns]"
      ]
     },
     "execution_count": 12,
     "metadata": {},
     "output_type": "execute_result"
    }
   ],
   "source": [
    "df = buildings_df.sort_values('DocumentDate')\n",
    "df"
   ]
  },
  {
   "cell_type": "code",
   "execution_count": 77,
   "metadata": {},
   "outputs": [],
   "source": [
    "# Check x if have the relevant data to answer question\n",
    "# [x]Higher square footage increases home sale price1, 2\n",
    "# [x]Having a porch increases home sale price3, 4\n",
    "# [x]Having a beachfront or lakefront increases home sale price5\n",
    "# [x]The house filling a higher proportion of the overall lot decreases home sale price6\n",
    "# [x]The cost per square foot is lower in duplexes than in single-family homes7\n",
    "# [x]The presence of a nuisance (power lines, traffic noise, airport noise) decreases home sale price1, 5"
   ]
  },
  {
   "cell_type": "markdown",
   "metadata": {},
   "source": [
    "## Graphical EDA"
   ]
  },
  {
   "cell_type": "code",
   "execution_count": 13,
   "metadata": {},
   "outputs": [],
   "source": [
    "import matplotlib.pyplot as plt\n",
    "import seaborn as sns"
   ]
  },
  {
   "cell_type": "code",
   "execution_count": 14,
   "metadata": {},
   "outputs": [
    {
     "data": {
      "image/png": "[encoded data removed]",
      "text/plain": [
       "<Figure size 432x288 with 1 Axes>"
      ]
     },
     "metadata": {
      "needs_background": "light"
     },
     "output_type": "display_data"
    }
   ],
   "source": [
    "sns.barplot(df['Has_Porch'], df['SalePrice']);\n",
    "\n",
    "\n"
   ]
  },
  {
   "cell_type": "code",
   "execution_count": 15,
   "metadata": {},
   "outputs": [
    {
     "data": {
      "image/png": "[encoded data removed]",
      "text/plain": [
       "<Figure size 432x288 with 1 Axes>"
      ]
     },
     "metadata": {
      "needs_background": "light"
     },
     "output_type": "display_data"
    }
   ],
   "source": [
    "sns.scatterplot(df['SqFtTotLiving'], df['SalePrice']);\n",
    "\n",
    "\n"
   ]
  },
  {
   "cell_type": "code",
   "execution_count": null,
   "metadata": {},
   "outputs": [],
   "source": []
  },
  {
   "cell_type": "code",
   "execution_count": 37,
   "metadata": {},
   "outputs": [
    {
     "data": {
      "text/html": [
       "<div>\n",
       "<style scoped>\n",
       "    .dataframe tbody tr th:only-of-type {\n",
       "        vertical-align: middle;\n",
       "    }\n",
       "\n",
       "    .dataframe tbody tr th {\n",
       "        vertical-align: top;\n",
       "    }\n",
       "\n",
       "    .dataframe thead th {\n",
       "        text-align: right;\n",
       "    }\n",
       "</style>\n",
       "<table border=\"1\" class=\"dataframe\">\n",
       "  <thead>\n",
       "    <tr style=\"text-align: right;\">\n",
       "      <th></th>\n",
       "      <th>Unnamed: 0</th>\n",
       "      <th>Major</th>\n",
       "      <th>Minor</th>\n",
       "      <th>PropType</th>\n",
       "      <th>SqFtLot</th>\n",
       "      <th>SalePrice</th>\n",
       "      <th>DocumentDate</th>\n",
       "      <th>NbrLivingUnits</th>\n",
       "      <th>SqFtTotLiving</th>\n",
       "      <th>Has_Porch</th>\n",
       "      <th>Nuisances</th>\n",
       "      <th>WaterFrontLocation</th>\n",
       "      <th>Is_WaterFrontLocation</th>\n",
       "      <th>Has_Nuisance</th>\n",
       "    </tr>\n",
       "  </thead>\n",
       "  <tbody>\n",
       "    <tr>\n",
       "      <th>0</th>\n",
       "      <td>0</td>\n",
       "      <td>927220</td>\n",
       "      <td>1266</td>\n",
       "      <td>R</td>\n",
       "      <td>5150</td>\n",
       "      <td>950000</td>\n",
       "      <td>2020-09-10</td>\n",
       "      <td>1</td>\n",
       "      <td>2330</td>\n",
       "      <td>1</td>\n",
       "      <td>No Nuisances</td>\n",
       "      <td>None</td>\n",
       "      <td>0</td>\n",
       "      <td>0</td>\n",
       "    </tr>\n",
       "    <tr>\n",
       "      <th>1</th>\n",
       "      <td>1</td>\n",
       "      <td>62604</td>\n",
       "      <td>9008</td>\n",
       "      <td>R</td>\n",
       "      <td>10767</td>\n",
       "      <td>620000</td>\n",
       "      <td>2020-09-10</td>\n",
       "      <td>1</td>\n",
       "      <td>1280</td>\n",
       "      <td>1</td>\n",
       "      <td>Traffic Noise</td>\n",
       "      <td>None</td>\n",
       "      <td>0</td>\n",
       "      <td>1</td>\n",
       "    </tr>\n",
       "    <tr>\n",
       "      <th>2</th>\n",
       "      <td>2</td>\n",
       "      <td>92606</td>\n",
       "      <td>9092</td>\n",
       "      <td>R</td>\n",
       "      <td>38500</td>\n",
       "      <td>730000</td>\n",
       "      <td>2020-09-09</td>\n",
       "      <td>1</td>\n",
       "      <td>2640</td>\n",
       "      <td>0</td>\n",
       "      <td>No Nuisances</td>\n",
       "      <td>None</td>\n",
       "      <td>0</td>\n",
       "      <td>0</td>\n",
       "    </tr>\n",
       "    <tr>\n",
       "      <th>3</th>\n",
       "      <td>3</td>\n",
       "      <td>422300</td>\n",
       "      <td>20</td>\n",
       "      <td>R</td>\n",
       "      <td>7034</td>\n",
       "      <td>599950</td>\n",
       "      <td>2020-09-09</td>\n",
       "      <td>1</td>\n",
       "      <td>2060</td>\n",
       "      <td>1</td>\n",
       "      <td>No Nuisances</td>\n",
       "      <td>None</td>\n",
       "      <td>0</td>\n",
       "      <td>0</td>\n",
       "    </tr>\n",
       "    <tr>\n",
       "      <th>4</th>\n",
       "      <td>4</td>\n",
       "      <td>42203</td>\n",
       "      <td>9039</td>\n",
       "      <td>R</td>\n",
       "      <td>27387</td>\n",
       "      <td>515000</td>\n",
       "      <td>2020-09-09</td>\n",
       "      <td>1</td>\n",
       "      <td>1360</td>\n",
       "      <td>0</td>\n",
       "      <td>No Nuisances</td>\n",
       "      <td>Puget Sound</td>\n",
       "      <td>1</td>\n",
       "      <td>0</td>\n",
       "    </tr>\n",
       "  </tbody>\n",
       "</table>\n",
       "</div>"
      ],
      "text/plain": [
       "   Unnamed: 0   Major  Minor PropType  SqFtLot  SalePrice DocumentDate  \\\n",
       "0           0  927220   1266        R     5150     950000   2020-09-10   \n",
       "1           1   62604   9008        R    10767     620000   2020-09-10   \n",
       "2           2   92606   9092        R    38500     730000   2020-09-09   \n",
       "3           3  422300     20        R     7034     599950   2020-09-09   \n",
       "4           4   42203   9039        R    27387     515000   2020-09-09   \n",
       "\n",
       "   NbrLivingUnits  SqFtTotLiving  Has_Porch      Nuisances WaterFrontLocation  \\\n",
       "0               1           2330          1   No Nuisances               None   \n",
       "1               1           1280          1  Traffic Noise               None   \n",
       "2               1           2640          0   No Nuisances               None   \n",
       "3               1           2060          1   No Nuisances               None   \n",
       "4               1           1360          0   No Nuisances        Puget Sound   \n",
       "\n",
       "   Is_WaterFrontLocation  Has_Nuisance  \n",
       "0                      0             0  \n",
       "1                      0             1  \n",
       "2                      0             0  \n",
       "3                      0             0  \n",
       "4                      1             0  "
      ]
     },
     "execution_count": 37,
     "metadata": {},
     "output_type": "execute_result"
    }
   ],
   "source": [
    "df = pd.read_csv('../../data/raw/KingCountyHousingData.csv')\n",
    "df.head()"
   ]
  },
  {
   "cell_type": "code",
   "execution_count": null,
   "metadata": {},
   "outputs": [],
   "source": [
    "#df.hist(figsize=(18,15), bins='auto');"
   ]
  },
  {
   "cell_type": "markdown",
   "metadata": {},
   "source": [
    "## EDA simple models\n"
   ]
  },
  {
   "cell_type": "code",
   "execution_count": 18,
   "metadata": {},
   "outputs": [],
   "source": [
    "import pandas as pd\n",
    "import matplotlib.pyplot as plt\n",
    "import seaborn as sns\n",
    "from statsmodels.formula.api import ols\n",
    "%matplotlib inline\n",
    "\n",
    "\n"
   ]
  },
  {
   "cell_type": "code",
   "execution_count": 44,
   "metadata": {},
   "outputs": [],
   "source": [
    "# Define the problem\n",
    "outcome = 'SalePrice'\n",
    "x_cols = ['Has_Porch', 'Is_WaterFrontLocation', 'Has_Nuisance']\n",
    "\n",
    "\n",
    "\n"
   ]
  },
  {
   "cell_type": "code",
   "execution_count": 47,
   "metadata": {},
   "outputs": [],
   "source": [
    "# preprocessing\n",
    "#for col in x_cols:\n",
    "    #df[col] = (df[col] - df[col].mean())/df[col].std()\n",
    "#df.head()\n",
    "\n",
    "\n",
    "\n"
   ]
  },
  {
   "cell_type": "code",
   "execution_count": 48,
   "metadata": {},
   "outputs": [
    {
     "data": {
      "text/html": [
       "<table class=\"simpletable\">\n",
       "<caption>OLS Regression Results</caption>\n",
       "<tr>\n",
       "  <th>Dep. Variable:</th>        <td>SalePrice</td>    <th>  R-squared:         </th>  <td>   0.047</td>  \n",
       "</tr>\n",
       "<tr>\n",
       "  <th>Model:</th>                   <td>OLS</td>       <th>  Adj. R-squared:    </th>  <td>   0.047</td>  \n",
       "</tr>\n",
       "<tr>\n",
       "  <th>Method:</th>             <td>Least Squares</td>  <th>  F-statistic:       </th>  <td>   7325.</td>  \n",
       "</tr>\n",
       "<tr>\n",
       "  <th>Date:</th>             <td>Mon, 28 Sep 2020</td> <th>  Prob (F-statistic):</th>   <td>  0.00</td>   \n",
       "</tr>\n",
       "<tr>\n",
       "  <th>Time:</th>                 <td>14:06:22</td>     <th>  Log-Likelihood:    </th> <td>-6.5621e+06</td>\n",
       "</tr>\n",
       "<tr>\n",
       "  <th>No. Observations:</th>      <td>447013</td>      <th>  AIC:               </th>  <td>1.312e+07</td> \n",
       "</tr>\n",
       "<tr>\n",
       "  <th>Df Residuals:</th>          <td>447009</td>      <th>  BIC:               </th>  <td>1.312e+07</td> \n",
       "</tr>\n",
       "<tr>\n",
       "  <th>Df Model:</th>              <td>     3</td>      <th>                     </th>      <td> </td>     \n",
       "</tr>\n",
       "<tr>\n",
       "  <th>Covariance Type:</th>      <td>nonrobust</td>    <th>                     </th>      <td> </td>     \n",
       "</tr>\n",
       "</table>\n",
       "<table class=\"simpletable\">\n",
       "<tr>\n",
       "            <td></td>               <th>coef</th>     <th>std err</th>      <th>t</th>      <th>P>|t|</th>  <th>[0.025</th>    <th>0.975]</th>  \n",
       "</tr>\n",
       "<tr>\n",
       "  <th>Intercept</th>             <td> 4.935e+05</td> <td>  859.051</td> <td>  574.490</td> <td> 0.000</td> <td> 4.92e+05</td> <td> 4.95e+05</td>\n",
       "</tr>\n",
       "<tr>\n",
       "  <th>Has_Porch</th>             <td> 7.813e+04</td> <td>  859.618</td> <td>   90.891</td> <td> 0.000</td> <td> 7.64e+04</td> <td> 7.98e+04</td>\n",
       "</tr>\n",
       "<tr>\n",
       "  <th>Is_WaterFrontLocation</th> <td> 9.875e+04</td> <td>  859.283</td> <td>  114.918</td> <td> 0.000</td> <td> 9.71e+04</td> <td>    1e+05</td>\n",
       "</tr>\n",
       "<tr>\n",
       "  <th>Has_Nuisance</th>          <td>-1619.0109</td> <td>  859.396</td> <td>   -1.884</td> <td> 0.060</td> <td>-3303.400</td> <td>   65.379</td>\n",
       "</tr>\n",
       "</table>\n",
       "<table class=\"simpletable\">\n",
       "<tr>\n",
       "  <th>Omnibus:</th>       <td>937022.501</td> <th>  Durbin-Watson:     </th>    <td>   1.518</td>    \n",
       "</tr>\n",
       "<tr>\n",
       "  <th>Prob(Omnibus):</th>   <td> 0.000</td>   <th>  Jarque-Bera (JB):  </th> <td>12102705171.527</td>\n",
       "</tr>\n",
       "<tr>\n",
       "  <th>Skew:</th>            <td>17.667</td>   <th>  Prob(JB):          </th>    <td>    0.00</td>    \n",
       "</tr>\n",
       "<tr>\n",
       "  <th>Kurtosis:</th>        <td>808.321</td>  <th>  Cond. No.          </th>    <td>    1.04</td>    \n",
       "</tr>\n",
       "</table><br/><br/>Warnings:<br/>[1] Standard Errors assume that the covariance matrix of the errors is correctly specified."
      ],
      "text/plain": [
       "<class 'statsmodels.iolib.summary.Summary'>\n",
       "\"\"\"\n",
       "                            OLS Regression Results                            \n",
       "==============================================================================\n",
       "Dep. Variable:              SalePrice   R-squared:                       0.047\n",
       "Model:                            OLS   Adj. R-squared:                  0.047\n",
       "Method:                 Least Squares   F-statistic:                     7325.\n",
       "Date:                Mon, 28 Sep 2020   Prob (F-statistic):               0.00\n",
       "Time:                        14:06:22   Log-Likelihood:            -6.5621e+06\n",
       "No. Observations:              447013   AIC:                         1.312e+07\n",
       "Df Residuals:                  447009   BIC:                         1.312e+07\n",
       "Df Model:                           3                                         \n",
       "Covariance Type:            nonrobust                                         \n",
       "=========================================================================================\n",
       "                            coef    std err          t      P>|t|      [0.025      0.975]\n",
       "-----------------------------------------------------------------------------------------\n",
       "Intercept              4.935e+05    859.051    574.490      0.000    4.92e+05    4.95e+05\n",
       "Has_Porch              7.813e+04    859.618     90.891      0.000    7.64e+04    7.98e+04\n",
       "Is_WaterFrontLocation  9.875e+04    859.283    114.918      0.000    9.71e+04       1e+05\n",
       "Has_Nuisance          -1619.0109    859.396     -1.884      0.060   -3303.400      65.379\n",
       "==============================================================================\n",
       "Omnibus:                   937022.501   Durbin-Watson:                   1.518\n",
       "Prob(Omnibus):                  0.000   Jarque-Bera (JB):      12102705171.527\n",
       "Skew:                          17.667   Prob(JB):                         0.00\n",
       "Kurtosis:                     808.321   Cond. No.                         1.04\n",
       "==============================================================================\n",
       "\n",
       "Warnings:\n",
       "[1] Standard Errors assume that the covariance matrix of the errors is correctly specified.\n",
       "\"\"\""
      ]
     },
     "execution_count": 48,
     "metadata": {},
     "output_type": "execute_result"
    }
   ],
   "source": [
    "# Fitting the actual model\n",
    "predictors = '+'.join(x_cols)\n",
    "formula = outcome + '~' + predictors\n",
    "model = ols(formula=formula, data=df).fit()\n",
    "model.summary()\n",
    "\n",
    "\n",
    "\n"
   ]
  },
  {
   "cell_type": "code",
   "execution_count": null,
   "metadata": {},
   "outputs": [],
   "source": []
  }
 ],
 "metadata": {
  "kernelspec": {
   "display_name": "learn-env",
   "language": "python",
   "name": "learn-env"
  },
  "language_info": {
   "codemirror_mode": {
    "name": "ipython",
    "version": 3
   },
   "file_extension": ".py",
   "mimetype": "text/x-python",
   "name": "python",
   "nbconvert_exporter": "python",
   "pygments_lexer": "ipython3",
   "version": "3.8.3"
  }
 },
 "nbformat": 4,
 "nbformat_minor": 4
}
