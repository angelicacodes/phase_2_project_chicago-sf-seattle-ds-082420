{
 "cells": [
  {
   "cell_type": "code",
   "execution_count": 2,
   "metadata": {},
   "outputs": [],
   "source": [
    "\n",
    "import zipfile\n"
   ]
  },
  {
   "cell_type": "code",
   "execution_count": 22,
   "metadata": {},
   "outputs": [],
   "source": [
    "import os\n",
    "\n",
    "import pandas as pd\n",
    "import numpy as np\n",
    "\n",
    "import matplotlib.pyplot as plt\n",
    "import seaborn as sns\n",
    "\n",
    "import statsmodels.api as sm\n",
    "from statsmodels.formula.api import ols\n",
    "from statsmodels.stats.diagnostic import linear_rainbow, het_breuschpagan\n",
    "from statsmodels.stats.outliers_influence import variance_inflation_factor\n",
    "\n",
    "from sklearn.preprocessing import LabelEncoder"
   ]
  },
  {
   "cell_type": "markdown",
   "metadata": {},
   "source": [
    "## Import Data"
   ]
  },
  {
   "cell_type": "code",
   "execution_count": 1,
   "metadata": {
    "scrolled": true
   },
   "outputs": [
    {
     "name": "stdout",
     "output_type": "stream",
     "text": [
      "/bin/sh: wget: command not found\n",
      "/bin/sh: wget: command not found\n"
     ]
    }
   ],
   "source": [
    "! wget -P ../../data/raw https://aqua.kingcounty.gov/extranet/assessor/Real%20Property%20Sales.zip\n",
    "! wget -P ../../data/raw https://aqua.kingcounty.gov/extranet/assessor/Residential%20Building.zip"
   ]
  },
  {
   "cell_type": "code",
   "execution_count": 1,
   "metadata": {},
   "outputs": [
    {
     "name": "stdout",
     "output_type": "stream",
     "text": [
      "wget not found\n"
     ]
    }
   ],
   "source": [
    "! which wget\n"
   ]
  },
  {
   "cell_type": "code",
   "execution_count": 3,
   "metadata": {},
   "outputs": [
    {
     "ename": "NameError",
     "evalue": "name 'zipfile' is not defined",
     "output_type": "error",
     "traceback": [
      "\u001b[0;31m---------------------------------------------------------------------------\u001b[0m",
      "\u001b[0;31mNameError\u001b[0m                                 Traceback (most recent call last)",
      "\u001b[0;32m<ipython-input-3-6e4b7742d735>\u001b[0m in \u001b[0;36m<module>\u001b[0;34m\u001b[0m\n\u001b[0;32m----> 1\u001b[0;31m \u001b[0;32mwith\u001b[0m \u001b[0mzipfile\u001b[0m\u001b[0;34m.\u001b[0m\u001b[0mZipFile\u001b[0m\u001b[0;34m(\u001b[0m\u001b[0;34m'../../data/raw/Parcel.zip'\u001b[0m\u001b[0;34m,\u001b[0m \u001b[0;34m'r'\u001b[0m\u001b[0;34m)\u001b[0m \u001b[0;32mas\u001b[0m \u001b[0mzip_ref\u001b[0m\u001b[0;34m:\u001b[0m\u001b[0;34m\u001b[0m\u001b[0;34m\u001b[0m\u001b[0m\n\u001b[0m\u001b[1;32m      2\u001b[0m     \u001b[0mzip_ref\u001b[0m\u001b[0;34m.\u001b[0m\u001b[0mextractall\u001b[0m\u001b[0;34m(\u001b[0m\u001b[0;34m'../../data/raw'\u001b[0m\u001b[0;34m)\u001b[0m\u001b[0;34m\u001b[0m\u001b[0;34m\u001b[0m\u001b[0m\n\u001b[1;32m      3\u001b[0m \u001b[0;32mwith\u001b[0m \u001b[0mzipfile\u001b[0m\u001b[0;34m.\u001b[0m\u001b[0mZipFile\u001b[0m\u001b[0;34m(\u001b[0m\u001b[0;34m'../../data/raw/Real Property Sales.zip'\u001b[0m\u001b[0;34m,\u001b[0m \u001b[0;34m'r'\u001b[0m\u001b[0;34m)\u001b[0m \u001b[0;32mas\u001b[0m \u001b[0mzip_ref\u001b[0m\u001b[0;34m:\u001b[0m\u001b[0;34m\u001b[0m\u001b[0;34m\u001b[0m\u001b[0m\n\u001b[1;32m      4\u001b[0m     \u001b[0mzip_ref\u001b[0m\u001b[0;34m.\u001b[0m\u001b[0mextractall\u001b[0m\u001b[0;34m(\u001b[0m\u001b[0;34m'../../data/raw'\u001b[0m\u001b[0;34m)\u001b[0m\u001b[0;34m\u001b[0m\u001b[0;34m\u001b[0m\u001b[0m\n\u001b[1;32m      5\u001b[0m \u001b[0;32mwith\u001b[0m \u001b[0mzipfile\u001b[0m\u001b[0;34m.\u001b[0m\u001b[0mZipFile\u001b[0m\u001b[0;34m(\u001b[0m\u001b[0;34m'../../data/raw/Residential Building.zip'\u001b[0m\u001b[0;34m,\u001b[0m \u001b[0;34m'r'\u001b[0m\u001b[0;34m)\u001b[0m \u001b[0;32mas\u001b[0m \u001b[0mzip_ref\u001b[0m\u001b[0;34m:\u001b[0m\u001b[0;34m\u001b[0m\u001b[0;34m\u001b[0m\u001b[0m\n",
      "\u001b[0;31mNameError\u001b[0m: name 'zipfile' is not defined"
     ]
    }
   ],
   "source": [
    "with zipfile.ZipFile('../../data/raw/Parcel.zip', 'r') as zip_ref:\n",
    "    zip_ref.extractall('../../data/raw')\n",
    "with zipfile.ZipFile('../../data/raw/Real Property Sales.zip', 'r') as zip_ref:\n",
    "    zip_ref.extractall('../../data/raw')\n",
    "with zipfile.ZipFile('../../data/raw/Residential Building.zip', 'r') as zip_ref:\n",
    "    zip_ref.extractall('../../data/raw')"
   ]
  },
  {
   "cell_type": "code",
   "execution_count": null,
   "metadata": {},
   "outputs": [],
   "source": [
    "\n"
   ]
  },
  {
   "cell_type": "code",
   "execution_count": 30,
   "metadata": {},
   "outputs": [],
   "source": [
    "parcel = pd.read_csv(\"../../data/raw/EXTR_Parcel.csv\", encoding='latin-1')\n",
    "real_property_sales = pd.read_csv(\"../../data/raw/EXTR_RPSale.csv\", encoding='latin-1', low_memory=False)\n",
    "residential_building = pd.read_csv(\"../../data/raw/EXTR_ResBldg.csv\", encoding='latin-1', low_memory=False)"
   ]
  },
  {
   "cell_type": "code",
   "execution_count": 191,
   "metadata": {},
   "outputs": [
    {
     "name": "stdout",
     "output_type": "stream",
     "text": [
      "<class 'pandas.core.frame.DataFrame'>\n",
      "RangeIndex: 517783 entries, 0 to 517782\n",
      "Data columns (total 7 columns):\n",
      " #   Column             Non-Null Count   Dtype\n",
      "---  ------             --------------   -----\n",
      " 0   Major              517783 non-null  int64\n",
      " 1   Minor              517783 non-null  int64\n",
      " 2   NbrLivingUnits     517783 non-null  int64\n",
      " 3   SqFtTotLiving      517783 non-null  int64\n",
      " 4   SqFtOpenPorch      517783 non-null  int64\n",
      " 5   SqFtEnclosedPorch  517783 non-null  int64\n",
      " 6   Has_Porch          517783 non-null  int64\n",
      "dtypes: int64(7)\n",
      "memory usage: 27.7 MB\n"
     ]
    }
   ],
   "source": [
    "residential_building.info()"
   ]
  },
  {
   "cell_type": "markdown",
   "metadata": {},
   "source": [
    "## Clean Data and Filter For Needed Info"
   ]
  },
  {
   "cell_type": "code",
   "execution_count": 31,
   "metadata": {},
   "outputs": [],
   "source": [
    "# Real Property Sales\n",
    "# Identifyers are Major and Minor. Relevant data is SalePrice\n",
    "# Clean real_property_sales to have proper values in Minor and Major and change type to int to match other data sets\n",
    "real_property_sales = real_property_sales[['Major', 'Minor', 'SalePrice', 'DocumentDate']]\n",
    "real_property_sales = real_property_sales[(real_property_sales['Major'].str.isdecimal()==True) &\n",
    "                                          (real_property_sales['Minor'].str.isdecimal()==True)]\n",
    "real_property_sales['Major'] = real_property_sales['Major'].astype('int64')\n",
    "real_property_sales['Minor'] = real_property_sales['Minor'].astype('int64')\n",
    "real_property_sales = real_property_sales[real_property_sales['SalePrice']>0]"
   ]
  },
  {
   "cell_type": "code",
   "execution_count": 32,
   "metadata": {},
   "outputs": [
    {
     "data": {
      "text/html": [
       "<div>\n",
       "<style scoped>\n",
       "    .dataframe tbody tr th:only-of-type {\n",
       "        vertical-align: middle;\n",
       "    }\n",
       "\n",
       "    .dataframe tbody tr th {\n",
       "        vertical-align: top;\n",
       "    }\n",
       "\n",
       "    .dataframe thead th {\n",
       "        text-align: right;\n",
       "    }\n",
       "</style>\n",
       "<table border=\"1\" class=\"dataframe\">\n",
       "  <thead>\n",
       "    <tr style=\"text-align: right;\">\n",
       "      <th></th>\n",
       "      <th>Major</th>\n",
       "      <th>Minor</th>\n",
       "      <th>SalePrice</th>\n",
       "      <th>DocumentDate</th>\n",
       "    </tr>\n",
       "  </thead>\n",
       "  <tbody>\n",
       "    <tr>\n",
       "      <th>0</th>\n",
       "      <td>138860</td>\n",
       "      <td>110</td>\n",
       "      <td>245000</td>\n",
       "      <td>08/21/2014</td>\n",
       "    </tr>\n",
       "    <tr>\n",
       "      <th>4</th>\n",
       "      <td>213043</td>\n",
       "      <td>120</td>\n",
       "      <td>560000</td>\n",
       "      <td>12/20/2019</td>\n",
       "    </tr>\n",
       "    <tr>\n",
       "      <th>5</th>\n",
       "      <td>951120</td>\n",
       "      <td>900</td>\n",
       "      <td>85000</td>\n",
       "      <td>04/20/1989</td>\n",
       "    </tr>\n",
       "    <tr>\n",
       "      <th>7</th>\n",
       "      <td>122209</td>\n",
       "      <td>9002</td>\n",
       "      <td>5755000</td>\n",
       "      <td>04/25/2001</td>\n",
       "    </tr>\n",
       "    <tr>\n",
       "      <th>8</th>\n",
       "      <td>122209</td>\n",
       "      <td>9001</td>\n",
       "      <td>5755000</td>\n",
       "      <td>04/25/2001</td>\n",
       "    </tr>\n",
       "  </tbody>\n",
       "</table>\n",
       "</div>"
      ],
      "text/plain": [
       "    Major  Minor  SalePrice DocumentDate\n",
       "0  138860    110     245000   08/21/2014\n",
       "4  213043    120     560000   12/20/2019\n",
       "5  951120    900      85000   04/20/1989\n",
       "7  122209   9002    5755000   04/25/2001\n",
       "8  122209   9001    5755000   04/25/2001"
      ]
     },
     "execution_count": 32,
     "metadata": {},
     "output_type": "execute_result"
    }
   ],
   "source": [
    "real_property_sales.head()"
   ]
  },
  {
   "cell_type": "code",
   "execution_count": 33,
   "metadata": {},
   "outputs": [
    {
     "name": "stdout",
     "output_type": "stream",
     "text": [
      "<class 'pandas.core.frame.DataFrame'>\n",
      "RangeIndex: 616089 entries, 0 to 616088\n",
      "Data columns (total 8 columns):\n",
      " #   Column          Non-Null Count   Dtype \n",
      "---  ------          --------------   ----- \n",
      " 0   Major           616089 non-null  int64 \n",
      " 1   Minor           616089 non-null  int64 \n",
      " 2   SqFtLot         616089 non-null  int64 \n",
      " 3   WfntLocation    616089 non-null  int64 \n",
      " 4   TrafficNoise    616089 non-null  int64 \n",
      " 5   AirportNoise    616089 non-null  int64 \n",
      " 6   PowerLines      616089 non-null  object\n",
      " 7   OtherNuisances  616089 non-null  object\n",
      "dtypes: int64(6), object(2)\n",
      "memory usage: 37.6+ MB\n"
     ]
    }
   ],
   "source": [
    "# Parcel Filter for Necessary Columns\n",
    "parcel = parcel[['Major', 'Minor', 'SqFtLot', 'WfntLocation', 'TrafficNoise', 'AirportNoise', 'PowerLines', 'OtherNuisances']]\n",
    "parcel.info()"
   ]
  },
  {
   "cell_type": "code",
   "execution_count": 34,
   "metadata": {},
   "outputs": [],
   "source": [
    "# Residential Buiding Filter For Necessary Columns\n",
    "residential_building = residential_building[['Major', 'Minor', 'NbrLivingUnits', 'SqFtTotLiving', 'SqFtOpenPorch', 'SqFtEnclosedPorch']]"
   ]
  },
  {
   "cell_type": "code",
   "execution_count": 35,
   "metadata": {
    "scrolled": true
   },
   "outputs": [],
   "source": [
    "# Create a column Has_Porch\n",
    "residential_building['Has_Porch']= residential_building['SqFtOpenPorch'] + residential_building['SqFtEnclosedPorch']\n",
    "residential_building['Has_Porch'] = [1  if p>0 else 0 for p in residential_building['Has_Porch']]"
   ]
  },
  {
   "cell_type": "code",
   "execution_count": 36,
   "metadata": {},
   "outputs": [
    {
     "name": "stdout",
     "output_type": "stream",
     "text": [
      "<class 'pandas.core.frame.DataFrame'>\n",
      "RangeIndex: 517783 entries, 0 to 517782\n",
      "Data columns (total 7 columns):\n",
      " #   Column             Non-Null Count   Dtype\n",
      "---  ------             --------------   -----\n",
      " 0   Major              517783 non-null  int64\n",
      " 1   Minor              517783 non-null  int64\n",
      " 2   NbrLivingUnits     517783 non-null  int64\n",
      " 3   SqFtTotLiving      517783 non-null  int64\n",
      " 4   SqFtOpenPorch      517783 non-null  int64\n",
      " 5   SqFtEnclosedPorch  517783 non-null  int64\n",
      " 6   Has_Porch          517783 non-null  int64\n",
      "dtypes: int64(7)\n",
      "memory usage: 27.7 MB\n"
     ]
    }
   ],
   "source": [
    "residential_building.info()"
   ]
  },
  {
   "cell_type": "code",
   "execution_count": 37,
   "metadata": {},
   "outputs": [],
   "source": [
    "# Join all the tables on Major, Minor\n",
    "# Have duplicate buildings sold at different dates. Need to only keep latest dates\n",
    "merged_tables = real_property_sales.merge(parcel).merge(residential_building).drop_duplicates()\n",
    "# Change dates to date time format\n",
    "merged_tables['DocumentDate'] = pd.to_datetime(merged_tables['DocumentDate'])"
   ]
  },
  {
   "cell_type": "code",
   "execution_count": 38,
   "metadata": {
    "scrolled": true
   },
   "outputs": [],
   "source": [
    "#Keeping only the most recent Sale_Price\n",
    "buildings_df = merged_tables.sort_values('DocumentDate').drop_duplicates(['Major', 'Minor'],keep='first')"
   ]
  },
  {
   "cell_type": "code",
   "execution_count": 39,
   "metadata": {},
   "outputs": [
    {
     "data": {
      "text/html": [
       "<div>\n",
       "<style scoped>\n",
       "    .dataframe tbody tr th:only-of-type {\n",
       "        vertical-align: middle;\n",
       "    }\n",
       "\n",
       "    .dataframe tbody tr th {\n",
       "        vertical-align: top;\n",
       "    }\n",
       "\n",
       "    .dataframe thead th {\n",
       "        text-align: right;\n",
       "    }\n",
       "</style>\n",
       "<table border=\"1\" class=\"dataframe\">\n",
       "  <thead>\n",
       "    <tr style=\"text-align: right;\">\n",
       "      <th></th>\n",
       "      <th>Major</th>\n",
       "      <th>Minor</th>\n",
       "      <th>SalePrice</th>\n",
       "      <th>DocumentDate</th>\n",
       "      <th>SqFtLot</th>\n",
       "      <th>WfntLocation</th>\n",
       "      <th>TrafficNoise</th>\n",
       "      <th>AirportNoise</th>\n",
       "      <th>PowerLines</th>\n",
       "      <th>OtherNuisances</th>\n",
       "      <th>NbrLivingUnits</th>\n",
       "      <th>SqFtTotLiving</th>\n",
       "      <th>SqFtOpenPorch</th>\n",
       "      <th>SqFtEnclosedPorch</th>\n",
       "      <th>Has_Porch</th>\n",
       "    </tr>\n",
       "  </thead>\n",
       "  <tbody>\n",
       "    <tr>\n",
       "      <th>705940</th>\n",
       "      <td>514510</td>\n",
       "      <td>250</td>\n",
       "      <td>125000</td>\n",
       "      <td>1934-11-11</td>\n",
       "      <td>7041</td>\n",
       "      <td>0</td>\n",
       "      <td>0</td>\n",
       "      <td>0</td>\n",
       "      <td>N</td>\n",
       "      <td>N</td>\n",
       "      <td>1</td>\n",
       "      <td>910</td>\n",
       "      <td>0</td>\n",
       "      <td>0</td>\n",
       "      <td>0</td>\n",
       "    </tr>\n",
       "    <tr>\n",
       "      <th>443490</th>\n",
       "      <td>718680</td>\n",
       "      <td>30</td>\n",
       "      <td>600</td>\n",
       "      <td>1954-03-11</td>\n",
       "      <td>9345</td>\n",
       "      <td>0</td>\n",
       "      <td>0</td>\n",
       "      <td>0</td>\n",
       "      <td>N</td>\n",
       "      <td>N</td>\n",
       "      <td>1</td>\n",
       "      <td>1380</td>\n",
       "      <td>40</td>\n",
       "      <td>0</td>\n",
       "      <td>1</td>\n",
       "    </tr>\n",
       "    <tr>\n",
       "      <th>653999</th>\n",
       "      <td>245840</td>\n",
       "      <td>30</td>\n",
       "      <td>9500</td>\n",
       "      <td>1955-04-15</td>\n",
       "      <td>6300</td>\n",
       "      <td>0</td>\n",
       "      <td>1</td>\n",
       "      <td>0</td>\n",
       "      <td>N</td>\n",
       "      <td>N</td>\n",
       "      <td>1</td>\n",
       "      <td>820</td>\n",
       "      <td>0</td>\n",
       "      <td>0</td>\n",
       "      <td>0</td>\n",
       "    </tr>\n",
       "    <tr>\n",
       "      <th>962419</th>\n",
       "      <td>222470</td>\n",
       "      <td>151</td>\n",
       "      <td>12250</td>\n",
       "      <td>1959-10-10</td>\n",
       "      <td>11115</td>\n",
       "      <td>0</td>\n",
       "      <td>1</td>\n",
       "      <td>0</td>\n",
       "      <td>N</td>\n",
       "      <td>N</td>\n",
       "      <td>1</td>\n",
       "      <td>2090</td>\n",
       "      <td>0</td>\n",
       "      <td>0</td>\n",
       "      <td>0</td>\n",
       "    </tr>\n",
       "    <tr>\n",
       "      <th>235295</th>\n",
       "      <td>503180</td>\n",
       "      <td>251</td>\n",
       "      <td>2300</td>\n",
       "      <td>1960-09-27</td>\n",
       "      <td>19064</td>\n",
       "      <td>3</td>\n",
       "      <td>0</td>\n",
       "      <td>0</td>\n",
       "      <td>N</td>\n",
       "      <td>N</td>\n",
       "      <td>1</td>\n",
       "      <td>1140</td>\n",
       "      <td>40</td>\n",
       "      <td>0</td>\n",
       "      <td>1</td>\n",
       "    </tr>\n",
       "    <tr>\n",
       "      <th>...</th>\n",
       "      <td>...</td>\n",
       "      <td>...</td>\n",
       "      <td>...</td>\n",
       "      <td>...</td>\n",
       "      <td>...</td>\n",
       "      <td>...</td>\n",
       "      <td>...</td>\n",
       "      <td>...</td>\n",
       "      <td>...</td>\n",
       "      <td>...</td>\n",
       "      <td>...</td>\n",
       "      <td>...</td>\n",
       "      <td>...</td>\n",
       "      <td>...</td>\n",
       "      <td>...</td>\n",
       "    </tr>\n",
       "    <tr>\n",
       "      <th>900477</th>\n",
       "      <td>241990</td>\n",
       "      <td>45</td>\n",
       "      <td>642000</td>\n",
       "      <td>2020-09-08</td>\n",
       "      <td>11054</td>\n",
       "      <td>0</td>\n",
       "      <td>0</td>\n",
       "      <td>0</td>\n",
       "      <td>N</td>\n",
       "      <td>N</td>\n",
       "      <td>1</td>\n",
       "      <td>1510</td>\n",
       "      <td>0</td>\n",
       "      <td>0</td>\n",
       "      <td>0</td>\n",
       "    </tr>\n",
       "    <tr>\n",
       "      <th>366504</th>\n",
       "      <td>327530</td>\n",
       "      <td>150</td>\n",
       "      <td>393000</td>\n",
       "      <td>2020-09-09</td>\n",
       "      <td>9500</td>\n",
       "      <td>0</td>\n",
       "      <td>0</td>\n",
       "      <td>0</td>\n",
       "      <td>N</td>\n",
       "      <td>N</td>\n",
       "      <td>1</td>\n",
       "      <td>1250</td>\n",
       "      <td>110</td>\n",
       "      <td>0</td>\n",
       "      <td>1</td>\n",
       "    </tr>\n",
       "    <tr>\n",
       "      <th>925600</th>\n",
       "      <td>797260</td>\n",
       "      <td>2865</td>\n",
       "      <td>590000</td>\n",
       "      <td>2020-09-09</td>\n",
       "      <td>10275</td>\n",
       "      <td>0</td>\n",
       "      <td>0</td>\n",
       "      <td>0</td>\n",
       "      <td>N</td>\n",
       "      <td>N</td>\n",
       "      <td>1</td>\n",
       "      <td>1660</td>\n",
       "      <td>40</td>\n",
       "      <td>0</td>\n",
       "      <td>1</td>\n",
       "    </tr>\n",
       "    <tr>\n",
       "      <th>960304</th>\n",
       "      <td>330070</td>\n",
       "      <td>280</td>\n",
       "      <td>535000</td>\n",
       "      <td>2020-09-09</td>\n",
       "      <td>4000</td>\n",
       "      <td>0</td>\n",
       "      <td>0</td>\n",
       "      <td>0</td>\n",
       "      <td>N</td>\n",
       "      <td>N</td>\n",
       "      <td>1</td>\n",
       "      <td>700</td>\n",
       "      <td>0</td>\n",
       "      <td>0</td>\n",
       "      <td>0</td>\n",
       "    </tr>\n",
       "    <tr>\n",
       "      <th>387831</th>\n",
       "      <td>524480</td>\n",
       "      <td>1190</td>\n",
       "      <td>750000</td>\n",
       "      <td>2020-09-09</td>\n",
       "      <td>4200</td>\n",
       "      <td>0</td>\n",
       "      <td>0</td>\n",
       "      <td>0</td>\n",
       "      <td>N</td>\n",
       "      <td>N</td>\n",
       "      <td>1</td>\n",
       "      <td>1290</td>\n",
       "      <td>290</td>\n",
       "      <td>0</td>\n",
       "      <td>1</td>\n",
       "    </tr>\n",
       "  </tbody>\n",
       "</table>\n",
       "<p>447071 rows × 15 columns</p>\n",
       "</div>"
      ],
      "text/plain": [
       "         Major  Minor  SalePrice DocumentDate  SqFtLot  WfntLocation  \\\n",
       "705940  514510    250     125000   1934-11-11     7041             0   \n",
       "443490  718680     30        600   1954-03-11     9345             0   \n",
       "653999  245840     30       9500   1955-04-15     6300             0   \n",
       "962419  222470    151      12250   1959-10-10    11115             0   \n",
       "235295  503180    251       2300   1960-09-27    19064             3   \n",
       "...        ...    ...        ...          ...      ...           ...   \n",
       "900477  241990     45     642000   2020-09-08    11054             0   \n",
       "366504  327530    150     393000   2020-09-09     9500             0   \n",
       "925600  797260   2865     590000   2020-09-09    10275             0   \n",
       "960304  330070    280     535000   2020-09-09     4000             0   \n",
       "387831  524480   1190     750000   2020-09-09     4200             0   \n",
       "\n",
       "        TrafficNoise  AirportNoise PowerLines OtherNuisances  NbrLivingUnits  \\\n",
       "705940             0             0          N              N               1   \n",
       "443490             0             0          N              N               1   \n",
       "653999             1             0          N              N               1   \n",
       "962419             1             0          N              N               1   \n",
       "235295             0             0          N              N               1   \n",
       "...              ...           ...        ...            ...             ...   \n",
       "900477             0             0          N              N               1   \n",
       "366504             0             0          N              N               1   \n",
       "925600             0             0          N              N               1   \n",
       "960304             0             0          N              N               1   \n",
       "387831             0             0          N              N               1   \n",
       "\n",
       "        SqFtTotLiving  SqFtOpenPorch  SqFtEnclosedPorch  Has_Porch  \n",
       "705940            910              0                  0          0  \n",
       "443490           1380             40                  0          1  \n",
       "653999            820              0                  0          0  \n",
       "962419           2090              0                  0          0  \n",
       "235295           1140             40                  0          1  \n",
       "...               ...            ...                ...        ...  \n",
       "900477           1510              0                  0          0  \n",
       "366504           1250            110                  0          1  \n",
       "925600           1660             40                  0          1  \n",
       "960304            700              0                  0          0  \n",
       "387831           1290            290                  0          1  \n",
       "\n",
       "[447071 rows x 15 columns]"
      ]
     },
     "execution_count": 39,
     "metadata": {},
     "output_type": "execute_result"
    }
   ],
   "source": [
    "df_test = buildings_df.sort_values('DocumentDate')\n",
    "df_test"
   ]
  },
  {
   "cell_type": "code",
   "execution_count": 77,
   "metadata": {},
   "outputs": [],
   "source": [
    "# Check x if have the relevant data to answer question\n",
    "# [x]Higher square footage increases home sale price1, 2\n",
    "# [x]Having a porch increases home sale price3, 4\n",
    "# [x]Having a beachfront or lakefront increases home sale price5\n",
    "# [x]The house filling a higher proportion of the overall lot decreases home sale price6\n",
    "# [x]The cost per square foot is lower in duplexes than in single-family homes7\n",
    "# [x]The presence of a nuisance (power lines, traffic noise, airport noise) decreases home sale price1, 5"
   ]
  },
  {
   "cell_type": "markdown",
   "metadata": {},
   "source": [
    "## Graphical EDA"
   ]
  },
  {
   "cell_type": "code",
   "execution_count": 13,
   "metadata": {},
   "outputs": [],
   "source": [
    "import matplotlib.pyplot as plt\n",
    "import seaborn as sns"
   ]
  },
  {
   "cell_type": "code",
   "execution_count": 14,
   "metadata": {},
   "outputs": [
    {
     "data": {
      "image/png": "[encoded data removed]",
      "text/plain": [
       "<Figure size 432x288 with 1 Axes>"
      ]
     },
     "metadata": {
      "needs_background": "light"
     },
     "output_type": "display_data"
    }
   ],
   "source": [
    "sns.barplot(df['Has_Porch'], df['SalePrice']);\n",
    "\n",
    "\n"
   ]
  },
  {
   "cell_type": "code",
   "execution_count": 15,
   "metadata": {},
   "outputs": [
    {
     "data": {
      "image/png": "[encoded data removed]",
      "text/plain": [
       "<Figure size 432x288 with 1 Axes>"
      ]
     },
     "metadata": {
      "needs_background": "light"
     },
     "output_type": "display_data"
    }
   ],
   "source": [
    "sns.scatterplot(df['SqFtTotLiving'], df['SalePrice']);\n",
    "\n",
    "\n"
   ]
  },
  {
   "cell_type": "code",
   "execution_count": 64,
   "metadata": {},
   "outputs": [
    {
     "data": {
      "image/png": "[encoded data removed]",
      "text/plain": [
       "<Figure size 432x288 with 1 Axes>"
      ]
     },
     "metadata": {
      "needs_background": "light"
     },
     "output_type": "display_data"
    }
   ],
   "source": [
    "sns.barplot(df['Is_WaterFrontLocation'], df['SalePrice']);"
   ]
  },
  {
   "cell_type": "code",
   "execution_count": 193,
   "metadata": {},
   "outputs": [
    {
     "data": {
      "text/html": [
       "<div>\n",
       "<style scoped>\n",
       "    .dataframe tbody tr th:only-of-type {\n",
       "        vertical-align: middle;\n",
       "    }\n",
       "\n",
       "    .dataframe tbody tr th {\n",
       "        vertical-align: top;\n",
       "    }\n",
       "\n",
       "    .dataframe thead th {\n",
       "        text-align: right;\n",
       "    }\n",
       "</style>\n",
       "<table border=\"1\" class=\"dataframe\">\n",
       "  <thead>\n",
       "    <tr style=\"text-align: right;\">\n",
       "      <th></th>\n",
       "      <th>Unnamed: 0</th>\n",
       "      <th>Major</th>\n",
       "      <th>Minor</th>\n",
       "      <th>ZipCode</th>\n",
       "      <th>DocumentDate</th>\n",
       "      <th>SalePrice</th>\n",
       "      <th>SqFtLot</th>\n",
       "      <th>SqFtTotLiving</th>\n",
       "      <th>Nuisances</th>\n",
       "      <th>TrafficNoise</th>\n",
       "      <th>PowerLines</th>\n",
       "      <th>OtherNuisances</th>\n",
       "      <th>Has_Nuisance</th>\n",
       "      <th>WaterFrontLocation</th>\n",
       "      <th>Is_WaterFrontLocation</th>\n",
       "      <th>Has_Porch</th>\n",
       "      <th>PropType</th>\n",
       "      <th>NbrLivingUnits</th>\n",
       "    </tr>\n",
       "  </thead>\n",
       "  <tbody>\n",
       "    <tr>\n",
       "      <th>0</th>\n",
       "      <td>0</td>\n",
       "      <td>100</td>\n",
       "      <td>67</td>\n",
       "      <td>98002</td>\n",
       "      <td>2019-04-01</td>\n",
       "      <td>310800</td>\n",
       "      <td>17400</td>\n",
       "      <td>2240</td>\n",
       "      <td>No Nuisances</td>\n",
       "      <td>0</td>\n",
       "      <td>0</td>\n",
       "      <td>0</td>\n",
       "      <td>0</td>\n",
       "      <td>None</td>\n",
       "      <td>0</td>\n",
       "      <td>1</td>\n",
       "      <td>R</td>\n",
       "      <td>1</td>\n",
       "    </tr>\n",
       "    <tr>\n",
       "      <th>1</th>\n",
       "      <td>1</td>\n",
       "      <td>100</td>\n",
       "      <td>66</td>\n",
       "      <td>98002</td>\n",
       "      <td>2019-10-22</td>\n",
       "      <td>339000</td>\n",
       "      <td>14500</td>\n",
       "      <td>1200</td>\n",
       "      <td>No Nuisances</td>\n",
       "      <td>0</td>\n",
       "      <td>0</td>\n",
       "      <td>0</td>\n",
       "      <td>0</td>\n",
       "      <td>None</td>\n",
       "      <td>0</td>\n",
       "      <td>1</td>\n",
       "      <td>R</td>\n",
       "      <td>1</td>\n",
       "    </tr>\n",
       "    <tr>\n",
       "      <th>2</th>\n",
       "      <td>2</td>\n",
       "      <td>100</td>\n",
       "      <td>42</td>\n",
       "      <td>NaN</td>\n",
       "      <td>2019-10-29</td>\n",
       "      <td>485500</td>\n",
       "      <td>6002</td>\n",
       "      <td>2134</td>\n",
       "      <td>No Nuisances</td>\n",
       "      <td>0</td>\n",
       "      <td>0</td>\n",
       "      <td>0</td>\n",
       "      <td>0</td>\n",
       "      <td>None</td>\n",
       "      <td>0</td>\n",
       "      <td>1</td>\n",
       "      <td>R</td>\n",
       "      <td>1</td>\n",
       "    </tr>\n",
       "    <tr>\n",
       "      <th>3</th>\n",
       "      <td>3</td>\n",
       "      <td>120</td>\n",
       "      <td>8</td>\n",
       "      <td>98166</td>\n",
       "      <td>2019-05-17</td>\n",
       "      <td>850000</td>\n",
       "      <td>24142</td>\n",
       "      <td>3500</td>\n",
       "      <td>No Nuisances</td>\n",
       "      <td>0</td>\n",
       "      <td>0</td>\n",
       "      <td>0</td>\n",
       "      <td>0</td>\n",
       "      <td>None</td>\n",
       "      <td>0</td>\n",
       "      <td>0</td>\n",
       "      <td>R</td>\n",
       "      <td>1</td>\n",
       "    </tr>\n",
       "    <tr>\n",
       "      <th>4</th>\n",
       "      <td>4</td>\n",
       "      <td>140</td>\n",
       "      <td>27</td>\n",
       "      <td>98178</td>\n",
       "      <td>2019-05-28</td>\n",
       "      <td>535000</td>\n",
       "      <td>14208</td>\n",
       "      <td>2170</td>\n",
       "      <td>Traffic Noise</td>\n",
       "      <td>1</td>\n",
       "      <td>0</td>\n",
       "      <td>0</td>\n",
       "      <td>1</td>\n",
       "      <td>None</td>\n",
       "      <td>0</td>\n",
       "      <td>0</td>\n",
       "      <td>R</td>\n",
       "      <td>1</td>\n",
       "    </tr>\n",
       "  </tbody>\n",
       "</table>\n",
       "</div>"
      ],
      "text/plain": [
       "   Unnamed: 0  Major  Minor ZipCode DocumentDate  SalePrice  SqFtLot  \\\n",
       "0           0    100     67   98002   2019-04-01     310800    17400   \n",
       "1           1    100     66   98002   2019-10-22     339000    14500   \n",
       "2           2    100     42     NaN   2019-10-29     485500     6002   \n",
       "3           3    120      8   98166   2019-05-17     850000    24142   \n",
       "4           4    140     27   98178   2019-05-28     535000    14208   \n",
       "\n",
       "   SqFtTotLiving      Nuisances  TrafficNoise  PowerLines  OtherNuisances  \\\n",
       "0           2240   No Nuisances             0           0               0   \n",
       "1           1200   No Nuisances             0           0               0   \n",
       "2           2134   No Nuisances             0           0               0   \n",
       "3           3500   No Nuisances             0           0               0   \n",
       "4           2170  Traffic Noise             1           0               0   \n",
       "\n",
       "   Has_Nuisance WaterFrontLocation  Is_WaterFrontLocation  Has_Porch PropType  \\\n",
       "0             0               None                      0          1        R   \n",
       "1             0               None                      0          1        R   \n",
       "2             0               None                      0          1        R   \n",
       "3             0               None                      0          0        R   \n",
       "4             1               None                      0          0        R   \n",
       "\n",
       "   NbrLivingUnits  \n",
       "0               1  \n",
       "1               1  \n",
       "2               1  \n",
       "3               1  \n",
       "4               1  "
      ]
     },
     "execution_count": 193,
     "metadata": {},
     "output_type": "execute_result"
    }
   ],
   "source": [
    "df = pd.read_csv('../../data/clean/KingCountyHousingData.csv')\n",
    "df.head()\n"
   ]
  },
  {
   "cell_type": "code",
   "execution_count": null,
   "metadata": {},
   "outputs": [],
   "source": [
    "#df.hist(figsize=(18,15), bins='auto');"
   ]
  },
  {
   "cell_type": "code",
   "execution_count": 200,
   "metadata": {},
   "outputs": [
    {
     "data": {
      "text/html": [
       "<div>\n",
       "<style scoped>\n",
       "    .dataframe tbody tr th:only-of-type {\n",
       "        vertical-align: middle;\n",
       "    }\n",
       "\n",
       "    .dataframe tbody tr th {\n",
       "        vertical-align: top;\n",
       "    }\n",
       "\n",
       "    .dataframe thead th {\n",
       "        text-align: right;\n",
       "    }\n",
       "</style>\n",
       "<table border=\"1\" class=\"dataframe\">\n",
       "  <thead>\n",
       "    <tr style=\"text-align: right;\">\n",
       "      <th></th>\n",
       "      <th>Duwamish</th>\n",
       "      <th>Lake Sammamish</th>\n",
       "      <th>Lake Union</th>\n",
       "      <th>Lake Washington</th>\n",
       "      <th>Other lake</th>\n",
       "      <th>Puget Sound</th>\n",
       "      <th>River or slough</th>\n",
       "      <th>Ship Canal</th>\n",
       "      <th>SqFtTotLiving</th>\n",
       "    </tr>\n",
       "  </thead>\n",
       "  <tbody>\n",
       "    <tr>\n",
       "      <th>0</th>\n",
       "      <td>0</td>\n",
       "      <td>0</td>\n",
       "      <td>0</td>\n",
       "      <td>0</td>\n",
       "      <td>0</td>\n",
       "      <td>0</td>\n",
       "      <td>0</td>\n",
       "      <td>0</td>\n",
       "      <td>2240</td>\n",
       "    </tr>\n",
       "    <tr>\n",
       "      <th>1</th>\n",
       "      <td>0</td>\n",
       "      <td>0</td>\n",
       "      <td>0</td>\n",
       "      <td>0</td>\n",
       "      <td>0</td>\n",
       "      <td>0</td>\n",
       "      <td>0</td>\n",
       "      <td>0</td>\n",
       "      <td>1200</td>\n",
       "    </tr>\n",
       "    <tr>\n",
       "      <th>2</th>\n",
       "      <td>0</td>\n",
       "      <td>0</td>\n",
       "      <td>0</td>\n",
       "      <td>0</td>\n",
       "      <td>0</td>\n",
       "      <td>0</td>\n",
       "      <td>0</td>\n",
       "      <td>0</td>\n",
       "      <td>2134</td>\n",
       "    </tr>\n",
       "    <tr>\n",
       "      <th>3</th>\n",
       "      <td>0</td>\n",
       "      <td>0</td>\n",
       "      <td>0</td>\n",
       "      <td>0</td>\n",
       "      <td>0</td>\n",
       "      <td>0</td>\n",
       "      <td>0</td>\n",
       "      <td>0</td>\n",
       "      <td>3500</td>\n",
       "    </tr>\n",
       "    <tr>\n",
       "      <th>4</th>\n",
       "      <td>0</td>\n",
       "      <td>0</td>\n",
       "      <td>0</td>\n",
       "      <td>0</td>\n",
       "      <td>0</td>\n",
       "      <td>0</td>\n",
       "      <td>0</td>\n",
       "      <td>0</td>\n",
       "      <td>2170</td>\n",
       "    </tr>\n",
       "    <tr>\n",
       "      <th>...</th>\n",
       "      <td>...</td>\n",
       "      <td>...</td>\n",
       "      <td>...</td>\n",
       "      <td>...</td>\n",
       "      <td>...</td>\n",
       "      <td>...</td>\n",
       "      <td>...</td>\n",
       "      <td>...</td>\n",
       "      <td>...</td>\n",
       "    </tr>\n",
       "    <tr>\n",
       "      <th>27723</th>\n",
       "      <td>0</td>\n",
       "      <td>0</td>\n",
       "      <td>0</td>\n",
       "      <td>0</td>\n",
       "      <td>0</td>\n",
       "      <td>0</td>\n",
       "      <td>0</td>\n",
       "      <td>0</td>\n",
       "      <td>1090</td>\n",
       "    </tr>\n",
       "    <tr>\n",
       "      <th>27724</th>\n",
       "      <td>0</td>\n",
       "      <td>0</td>\n",
       "      <td>0</td>\n",
       "      <td>0</td>\n",
       "      <td>0</td>\n",
       "      <td>0</td>\n",
       "      <td>0</td>\n",
       "      <td>0</td>\n",
       "      <td>1560</td>\n",
       "    </tr>\n",
       "    <tr>\n",
       "      <th>27725</th>\n",
       "      <td>0</td>\n",
       "      <td>0</td>\n",
       "      <td>0</td>\n",
       "      <td>0</td>\n",
       "      <td>0</td>\n",
       "      <td>0</td>\n",
       "      <td>0</td>\n",
       "      <td>0</td>\n",
       "      <td>790</td>\n",
       "    </tr>\n",
       "    <tr>\n",
       "      <th>27726</th>\n",
       "      <td>0</td>\n",
       "      <td>0</td>\n",
       "      <td>0</td>\n",
       "      <td>0</td>\n",
       "      <td>0</td>\n",
       "      <td>0</td>\n",
       "      <td>0</td>\n",
       "      <td>0</td>\n",
       "      <td>3830</td>\n",
       "    </tr>\n",
       "    <tr>\n",
       "      <th>27727</th>\n",
       "      <td>0</td>\n",
       "      <td>0</td>\n",
       "      <td>0</td>\n",
       "      <td>0</td>\n",
       "      <td>0</td>\n",
       "      <td>0</td>\n",
       "      <td>0</td>\n",
       "      <td>0</td>\n",
       "      <td>2010</td>\n",
       "    </tr>\n",
       "  </tbody>\n",
       "</table>\n",
       "<p>27728 rows × 9 columns</p>\n",
       "</div>"
      ],
      "text/plain": [
       "       Duwamish  Lake Sammamish  Lake Union  Lake Washington  Other lake  \\\n",
       "0             0               0           0                0           0   \n",
       "1             0               0           0                0           0   \n",
       "2             0               0           0                0           0   \n",
       "3             0               0           0                0           0   \n",
       "4             0               0           0                0           0   \n",
       "...         ...             ...         ...              ...         ...   \n",
       "27723         0               0           0                0           0   \n",
       "27724         0               0           0                0           0   \n",
       "27725         0               0           0                0           0   \n",
       "27726         0               0           0                0           0   \n",
       "27727         0               0           0                0           0   \n",
       "\n",
       "       Puget Sound  River or slough  Ship Canal  SqFtTotLiving  \n",
       "0                0                0           0           2240  \n",
       "1                0                0           0           1200  \n",
       "2                0                0           0           2134  \n",
       "3                0                0           0           3500  \n",
       "4                0                0           0           2170  \n",
       "...            ...              ...         ...            ...  \n",
       "27723            0                0           0           1090  \n",
       "27724            0                0           0           1560  \n",
       "27725            0                0           0            790  \n",
       "27726            0                0           0           3830  \n",
       "27727            0                0           0           2010  \n",
       "\n",
       "[27728 rows x 9 columns]"
      ]
     },
     "execution_count": 200,
     "metadata": {},
     "output_type": "execute_result"
    }
   ],
   "source": [
    "df_water_dummie =pd.get_dummies(df['WaterFrontLocation'])\n",
    "df_water_dummie.drop('None', axis= 1, inplace=True)\n",
    "df_water_dummie['SqFtTotLiving'] = df.SqFtTotLiving\n",
    "df_water_dummie"
   ]
  },
  {
   "cell_type": "code",
   "execution_count": 195,
   "metadata": {},
   "outputs": [],
   "source": [
    "from sklearn.linear_model import LinearRegression"
   ]
  },
  {
   "cell_type": "code",
   "execution_count": 201,
   "metadata": {},
   "outputs": [
    {
     "data": {
      "text/plain": [
       "LinearRegression()"
      ]
     },
     "execution_count": 201,
     "metadata": {},
     "output_type": "execute_result"
    }
   ],
   "source": [
    "lr = LinearRegression()\n",
    "lr.fit(df_water_dummie, df['SalePrice'])\n",
    "#lr.__dict__"
   ]
  },
  {
   "cell_type": "code",
   "execution_count": 202,
   "metadata": {},
   "outputs": [
    {
     "data": {
      "text/plain": [
       "0.3938249126710396"
      ]
     },
     "execution_count": 202,
     "metadata": {},
     "output_type": "execute_result"
    }
   ],
   "source": [
    "lr.score(df_water_dummie, df['SalePrice'])"
   ]
  },
  {
   "cell_type": "code",
   "execution_count": 203,
   "metadata": {},
   "outputs": [
    {
     "data": {
      "text/plain": [
       "array([-8.64230198e+03,  1.82451159e+06,  3.66917232e+05,  2.08094891e+06,\n",
       "        3.48825330e+04,  4.17368854e+05,  4.61416527e+04,  8.82451221e+05,\n",
       "        3.35148305e+02])"
      ]
     },
     "execution_count": 203,
     "metadata": {},
     "output_type": "execute_result"
    }
   ],
   "source": [
    "lr.coef_"
   ]
  },
  {
   "cell_type": "code",
   "execution_count": 204,
   "metadata": {},
   "outputs": [
    {
     "name": "stdout",
     "output_type": "stream",
     "text": [
      "Duwamish -8642.301983919653\n",
      "Lake Sammamish 1824511.594837179\n",
      "Lake Union 366917.2320589037\n",
      "Lake Washington 2080948.9118918083\n",
      "Other lake 34882.533010235835\n",
      "Puget Sound 417368.8540398439\n",
      "River or slough 46141.65265221202\n",
      "Ship Canal 882451.2212115225\n",
      "SqFtTotLiving 335.14830484709955\n"
     ]
    }
   ],
   "source": [
    "for col, coef in zip(list(df_water_dummie), lr.coef_):\n",
    "    print(col,coef)\n"
   ]
  },
  {
   "cell_type": "code",
   "execution_count": 97,
   "metadata": {},
   "outputs": [
    {
     "data": {
      "image/png": "[encoded data removed]",
      "text/plain": [
       "<Figure size 432x288 with 1 Axes>"
      ]
     },
     "metadata": {
      "needs_background": "light"
     },
     "output_type": "display_data"
    }
   ],
   "source": [
    "sns.barplot(df['Is_WaterFrontLocation'], df['SalePrice']);"
   ]
  },
  {
   "cell_type": "code",
   "execution_count": 205,
   "metadata": {},
   "outputs": [
    {
     "data": {
      "image/png": "[encoded data removed]",
      "text/plain": [
       "<Figure size 792x648 with 2 Axes>"
      ]
     },
     "metadata": {
      "needs_background": "light"
     },
     "output_type": "display_data"
    }
   ],
   "source": [
    "corr = df.corr()\n",
    "# The mask is not necessary, but corr() has duplicate values on either side of the diagonal\n",
    "mask = np.triu(np.ones_like(corr, dtype=np.bool))\n",
    "\n",
    "fig1, ax1 = plt.subplots(figsize=(11, 9))\n",
    "sns.heatmap(corr, mask=mask, ax=ax1, cmap=\"viridis\");"
   ]
  },
  {
   "cell_type": "markdown",
   "metadata": {},
   "source": [
    "## EDA simple models\n"
   ]
  },
  {
   "cell_type": "code",
   "execution_count": 48,
   "metadata": {},
   "outputs": [],
   "source": [
    "import pandas as pd\n",
    "import matplotlib.pyplot as plt\n",
    "import seaborn as sns\n",
    "from statsmodels.formula.api import ols\n",
    "%matplotlib inline"
   ]
  },
  {
   "cell_type": "markdown",
   "metadata": {},
   "source": [
    "### FSM_Model 1"
   ]
  },
  {
   "cell_type": "code",
   "execution_count": 113,
   "metadata": {},
   "outputs": [],
   "source": [
    "outcome = 'SalePrice'\n",
    "x_cols = ['SqFtTotLiving']"
   ]
  },
  {
   "cell_type": "code",
   "execution_count": 115,
   "metadata": {},
   "outputs": [
    {
     "data": {
      "text/html": [
       "<table class=\"simpletable\">\n",
       "<caption>OLS Regression Results</caption>\n",
       "<tr>\n",
       "  <th>Dep. Variable:</th>        <td>SalePrice</td>    <th>  R-squared:         </th>  <td>   0.357</td>  \n",
       "</tr>\n",
       "<tr>\n",
       "  <th>Model:</th>                   <td>OLS</td>       <th>  Adj. R-squared:    </th>  <td>   0.357</td>  \n",
       "</tr>\n",
       "<tr>\n",
       "  <th>Method:</th>             <td>Least Squares</td>  <th>  F-statistic:       </th>  <td>1.603e+04</td> \n",
       "</tr>\n",
       "<tr>\n",
       "  <th>Date:</th>             <td>Tue, 29 Sep 2020</td> <th>  Prob (F-statistic):</th>   <td>  0.00</td>   \n",
       "</tr>\n",
       "<tr>\n",
       "  <th>Time:</th>                 <td>13:04:10</td>     <th>  Log-Likelihood:    </th> <td>-4.1190e+05</td>\n",
       "</tr>\n",
       "<tr>\n",
       "  <th>No. Observations:</th>      <td> 28824</td>      <th>  AIC:               </th>  <td>8.238e+05</td> \n",
       "</tr>\n",
       "<tr>\n",
       "  <th>Df Residuals:</th>          <td> 28822</td>      <th>  BIC:               </th>  <td>8.238e+05</td> \n",
       "</tr>\n",
       "<tr>\n",
       "  <th>Df Model:</th>              <td>     1</td>      <th>                     </th>      <td> </td>     \n",
       "</tr>\n",
       "<tr>\n",
       "  <th>Covariance Type:</th>      <td>nonrobust</td>    <th>                     </th>      <td> </td>     \n",
       "</tr>\n",
       "</table>\n",
       "<table class=\"simpletable\">\n",
       "<tr>\n",
       "        <td></td>           <th>coef</th>     <th>std err</th>      <th>t</th>      <th>P>|t|</th>  <th>[0.025</th>    <th>0.975]</th>  \n",
       "</tr>\n",
       "<tr>\n",
       "  <th>Intercept</th>     <td> 1.106e+05</td> <td> 5757.098</td> <td>   19.217</td> <td> 0.000</td> <td> 9.93e+04</td> <td> 1.22e+05</td>\n",
       "</tr>\n",
       "<tr>\n",
       "  <th>SqFtTotLiving</th> <td>  306.1794</td> <td>    2.419</td> <td>  126.597</td> <td> 0.000</td> <td>  301.439</td> <td>  310.920</td>\n",
       "</tr>\n",
       "</table>\n",
       "<table class=\"simpletable\">\n",
       "<tr>\n",
       "  <th>Omnibus:</th>       <td>13104.282</td> <th>  Durbin-Watson:     </th>  <td>   1.918</td> \n",
       "</tr>\n",
       "<tr>\n",
       "  <th>Prob(Omnibus):</th>  <td> 0.000</td>   <th>  Jarque-Bera (JB):  </th> <td>110455.449</td>\n",
       "</tr>\n",
       "<tr>\n",
       "  <th>Skew:</th>           <td> 1.996</td>   <th>  Prob(JB):          </th>  <td>    0.00</td> \n",
       "</tr>\n",
       "<tr>\n",
       "  <th>Kurtosis:</th>       <td>11.720</td>   <th>  Cond. No.          </th>  <td>5.98e+03</td> \n",
       "</tr>\n",
       "</table><br/><br/>Warnings:<br/>[1] Standard Errors assume that the covariance matrix of the errors is correctly specified.<br/>[2] The condition number is large, 5.98e+03. This might indicate that there are<br/>strong multicollinearity or other numerical problems."
      ],
      "text/plain": [
       "<class 'statsmodels.iolib.summary.Summary'>\n",
       "\"\"\"\n",
       "                            OLS Regression Results                            \n",
       "==============================================================================\n",
       "Dep. Variable:              SalePrice   R-squared:                       0.357\n",
       "Model:                            OLS   Adj. R-squared:                  0.357\n",
       "Method:                 Least Squares   F-statistic:                 1.603e+04\n",
       "Date:                Tue, 29 Sep 2020   Prob (F-statistic):               0.00\n",
       "Time:                        13:04:10   Log-Likelihood:            -4.1190e+05\n",
       "No. Observations:               28824   AIC:                         8.238e+05\n",
       "Df Residuals:                   28822   BIC:                         8.238e+05\n",
       "Df Model:                           1                                         \n",
       "Covariance Type:            nonrobust                                         \n",
       "=================================================================================\n",
       "                    coef    std err          t      P>|t|      [0.025      0.975]\n",
       "---------------------------------------------------------------------------------\n",
       "Intercept      1.106e+05   5757.098     19.217      0.000    9.93e+04    1.22e+05\n",
       "SqFtTotLiving   306.1794      2.419    126.597      0.000     301.439     310.920\n",
       "==============================================================================\n",
       "Omnibus:                    13104.282   Durbin-Watson:                   1.918\n",
       "Prob(Omnibus):                  0.000   Jarque-Bera (JB):           110455.449\n",
       "Skew:                           1.996   Prob(JB):                         0.00\n",
       "Kurtosis:                      11.720   Cond. No.                     5.98e+03\n",
       "==============================================================================\n",
       "\n",
       "Warnings:\n",
       "[1] Standard Errors assume that the covariance matrix of the errors is correctly specified.\n",
       "[2] The condition number is large, 5.98e+03. This might indicate that there are\n",
       "strong multicollinearity or other numerical problems.\n",
       "\"\"\""
      ]
     },
     "execution_count": 115,
     "metadata": {},
     "output_type": "execute_result"
    }
   ],
   "source": [
    "predictors = '+'.join(x_cols)\n",
    "formula = outcome + '~' + predictors\n",
    "fsm_model = ols(formula=formula, data=df).fit()\n",
    "fsm_model.summary()\n"
   ]
  },
  {
   "cell_type": "markdown",
   "metadata": {},
   "source": [
    "### FSM_Model 2"
   ]
  },
  {
   "cell_type": "code",
   "execution_count": 111,
   "metadata": {},
   "outputs": [],
   "source": [
    "outcome = 'SalePrice'\n",
    "x_cols = ['Has_Porch']"
   ]
  },
  {
   "cell_type": "code",
   "execution_count": 112,
   "metadata": {},
   "outputs": [
    {
     "data": {
      "text/html": [
       "<table class=\"simpletable\">\n",
       "<caption>OLS Regression Results</caption>\n",
       "<tr>\n",
       "  <th>Dep. Variable:</th>        <td>SalePrice</td>    <th>  R-squared:         </th>  <td>   0.043</td>  \n",
       "</tr>\n",
       "<tr>\n",
       "  <th>Model:</th>                   <td>OLS</td>       <th>  Adj. R-squared:    </th>  <td>   0.043</td>  \n",
       "</tr>\n",
       "<tr>\n",
       "  <th>Method:</th>             <td>Least Squares</td>  <th>  F-statistic:       </th>  <td>   1287.</td>  \n",
       "</tr>\n",
       "<tr>\n",
       "  <th>Date:</th>             <td>Tue, 29 Sep 2020</td> <th>  Prob (F-statistic):</th>  <td>9.26e-276</td> \n",
       "</tr>\n",
       "<tr>\n",
       "  <th>Time:</th>                 <td>13:01:19</td>     <th>  Log-Likelihood:    </th> <td>-4.1765e+05</td>\n",
       "</tr>\n",
       "<tr>\n",
       "  <th>No. Observations:</th>      <td> 28824</td>      <th>  AIC:               </th>  <td>8.353e+05</td> \n",
       "</tr>\n",
       "<tr>\n",
       "  <th>Df Residuals:</th>          <td> 28822</td>      <th>  BIC:               </th>  <td>8.353e+05</td> \n",
       "</tr>\n",
       "<tr>\n",
       "  <th>Df Model:</th>              <td>     1</td>      <th>                     </th>      <td> </td>     \n",
       "</tr>\n",
       "<tr>\n",
       "  <th>Covariance Type:</th>      <td>nonrobust</td>    <th>                     </th>      <td> </td>     \n",
       "</tr>\n",
       "</table>\n",
       "<table class=\"simpletable\">\n",
       "<tr>\n",
       "      <td></td>         <th>coef</th>     <th>std err</th>      <th>t</th>      <th>P>|t|</th>  <th>[0.025</th>    <th>0.975]</th>  \n",
       "</tr>\n",
       "<tr>\n",
       "  <th>Intercept</th> <td> 6.667e+05</td> <td> 4202.924</td> <td>  158.627</td> <td> 0.000</td> <td> 6.58e+05</td> <td> 6.75e+05</td>\n",
       "</tr>\n",
       "<tr>\n",
       "  <th>Has_Porch</th> <td>  2.02e+05</td> <td> 5630.090</td> <td>   35.873</td> <td> 0.000</td> <td> 1.91e+05</td> <td> 2.13e+05</td>\n",
       "</tr>\n",
       "</table>\n",
       "<table class=\"simpletable\">\n",
       "<tr>\n",
       "  <th>Omnibus:</th>       <td>13917.537</td> <th>  Durbin-Watson:     </th> <td>   1.947</td> \n",
       "</tr>\n",
       "<tr>\n",
       "  <th>Prob(Omnibus):</th>  <td> 0.000</td>   <th>  Jarque-Bera (JB):  </th> <td>91641.326</td>\n",
       "</tr>\n",
       "<tr>\n",
       "  <th>Skew:</th>           <td> 2.256</td>   <th>  Prob(JB):          </th> <td>    0.00</td> \n",
       "</tr>\n",
       "<tr>\n",
       "  <th>Kurtosis:</th>       <td>10.480</td>   <th>  Cond. No.          </th> <td>    2.77</td> \n",
       "</tr>\n",
       "</table><br/><br/>Warnings:<br/>[1] Standard Errors assume that the covariance matrix of the errors is correctly specified."
      ],
      "text/plain": [
       "<class 'statsmodels.iolib.summary.Summary'>\n",
       "\"\"\"\n",
       "                            OLS Regression Results                            \n",
       "==============================================================================\n",
       "Dep. Variable:              SalePrice   R-squared:                       0.043\n",
       "Model:                            OLS   Adj. R-squared:                  0.043\n",
       "Method:                 Least Squares   F-statistic:                     1287.\n",
       "Date:                Tue, 29 Sep 2020   Prob (F-statistic):          9.26e-276\n",
       "Time:                        13:01:19   Log-Likelihood:            -4.1765e+05\n",
       "No. Observations:               28824   AIC:                         8.353e+05\n",
       "Df Residuals:                   28822   BIC:                         8.353e+05\n",
       "Df Model:                           1                                         \n",
       "Covariance Type:            nonrobust                                         \n",
       "==============================================================================\n",
       "                 coef    std err          t      P>|t|      [0.025      0.975]\n",
       "------------------------------------------------------------------------------\n",
       "Intercept   6.667e+05   4202.924    158.627      0.000    6.58e+05    6.75e+05\n",
       "Has_Porch    2.02e+05   5630.090     35.873      0.000    1.91e+05    2.13e+05\n",
       "==============================================================================\n",
       "Omnibus:                    13917.537   Durbin-Watson:                   1.947\n",
       "Prob(Omnibus):                  0.000   Jarque-Bera (JB):            91641.326\n",
       "Skew:                           2.256   Prob(JB):                         0.00\n",
       "Kurtosis:                      10.480   Cond. No.                         2.77\n",
       "==============================================================================\n",
       "\n",
       "Warnings:\n",
       "[1] Standard Errors assume that the covariance matrix of the errors is correctly specified.\n",
       "\"\"\""
      ]
     },
     "execution_count": 112,
     "metadata": {},
     "output_type": "execute_result"
    }
   ],
   "source": [
    "predictors = '+'.join(x_cols)\n",
    "formula = outcome + '~' + predictors\n",
    "fsm_model = ols(formula=formula, data=df).fit()\n",
    "fsm_model.summary()"
   ]
  },
  {
   "cell_type": "markdown",
   "metadata": {},
   "source": [
    "### FSM_Model 3"
   ]
  },
  {
   "cell_type": "code",
   "execution_count": 116,
   "metadata": {},
   "outputs": [],
   "source": [
    "outcome = 'SalePrice'\n",
    "x_cols = ['Is_WaterFrontLocation']"
   ]
  },
  {
   "cell_type": "code",
   "execution_count": 117,
   "metadata": {},
   "outputs": [
    {
     "data": {
      "text/html": [
       "<table class=\"simpletable\">\n",
       "<caption>OLS Regression Results</caption>\n",
       "<tr>\n",
       "  <th>Dep. Variable:</th>        <td>SalePrice</td>    <th>  R-squared:         </th>  <td>   0.019</td>  \n",
       "</tr>\n",
       "<tr>\n",
       "  <th>Model:</th>                   <td>OLS</td>       <th>  Adj. R-squared:    </th>  <td>   0.018</td>  \n",
       "</tr>\n",
       "<tr>\n",
       "  <th>Method:</th>             <td>Least Squares</td>  <th>  F-statistic:       </th>  <td>   543.6</td>  \n",
       "</tr>\n",
       "<tr>\n",
       "  <th>Date:</th>             <td>Tue, 29 Sep 2020</td> <th>  Prob (F-statistic):</th>  <td>3.96e-119</td> \n",
       "</tr>\n",
       "<tr>\n",
       "  <th>Time:</th>                 <td>13:06:08</td>     <th>  Log-Likelihood:    </th> <td>-4.1801e+05</td>\n",
       "</tr>\n",
       "<tr>\n",
       "  <th>No. Observations:</th>      <td> 28824</td>      <th>  AIC:               </th>  <td>8.360e+05</td> \n",
       "</tr>\n",
       "<tr>\n",
       "  <th>Df Residuals:</th>          <td> 28822</td>      <th>  BIC:               </th>  <td>8.360e+05</td> \n",
       "</tr>\n",
       "<tr>\n",
       "  <th>Df Model:</th>              <td>     1</td>      <th>                     </th>      <td> </td>     \n",
       "</tr>\n",
       "<tr>\n",
       "  <th>Covariance Type:</th>      <td>nonrobust</td>    <th>                     </th>      <td> </td>     \n",
       "</tr>\n",
       "</table>\n",
       "<table class=\"simpletable\">\n",
       "<tr>\n",
       "            <td></td>               <th>coef</th>     <th>std err</th>      <th>t</th>      <th>P>|t|</th>  <th>[0.025</th>    <th>0.975]</th>  \n",
       "</tr>\n",
       "<tr>\n",
       "  <th>Intercept</th>             <td> 7.713e+05</td> <td> 2852.292</td> <td>  270.404</td> <td> 0.000</td> <td> 7.66e+05</td> <td> 7.77e+05</td>\n",
       "</tr>\n",
       "<tr>\n",
       "  <th>Is_WaterFrontLocation</th> <td> 5.542e+05</td> <td> 2.38e+04</td> <td>   23.315</td> <td> 0.000</td> <td> 5.08e+05</td> <td> 6.01e+05</td>\n",
       "</tr>\n",
       "</table>\n",
       "<table class=\"simpletable\">\n",
       "<tr>\n",
       "  <th>Omnibus:</th>       <td>13630.220</td> <th>  Durbin-Watson:     </th> <td>   1.943</td> \n",
       "</tr>\n",
       "<tr>\n",
       "  <th>Prob(Omnibus):</th>  <td> 0.000</td>   <th>  Jarque-Bera (JB):  </th> <td>85827.233</td>\n",
       "</tr>\n",
       "<tr>\n",
       "  <th>Skew:</th>           <td> 2.217</td>   <th>  Prob(JB):          </th> <td>    0.00</td> \n",
       "</tr>\n",
       "<tr>\n",
       "  <th>Kurtosis:</th>       <td>10.198</td>   <th>  Cond. No.          </th> <td>    8.40</td> \n",
       "</tr>\n",
       "</table><br/><br/>Warnings:<br/>[1] Standard Errors assume that the covariance matrix of the errors is correctly specified."
      ],
      "text/plain": [
       "<class 'statsmodels.iolib.summary.Summary'>\n",
       "\"\"\"\n",
       "                            OLS Regression Results                            \n",
       "==============================================================================\n",
       "Dep. Variable:              SalePrice   R-squared:                       0.019\n",
       "Model:                            OLS   Adj. R-squared:                  0.018\n",
       "Method:                 Least Squares   F-statistic:                     543.6\n",
       "Date:                Tue, 29 Sep 2020   Prob (F-statistic):          3.96e-119\n",
       "Time:                        13:06:08   Log-Likelihood:            -4.1801e+05\n",
       "No. Observations:               28824   AIC:                         8.360e+05\n",
       "Df Residuals:                   28822   BIC:                         8.360e+05\n",
       "Df Model:                           1                                         \n",
       "Covariance Type:            nonrobust                                         \n",
       "=========================================================================================\n",
       "                            coef    std err          t      P>|t|      [0.025      0.975]\n",
       "-----------------------------------------------------------------------------------------\n",
       "Intercept              7.713e+05   2852.292    270.404      0.000    7.66e+05    7.77e+05\n",
       "Is_WaterFrontLocation  5.542e+05   2.38e+04     23.315      0.000    5.08e+05    6.01e+05\n",
       "==============================================================================\n",
       "Omnibus:                    13630.220   Durbin-Watson:                   1.943\n",
       "Prob(Omnibus):                  0.000   Jarque-Bera (JB):            85827.233\n",
       "Skew:                           2.217   Prob(JB):                         0.00\n",
       "Kurtosis:                      10.198   Cond. No.                         8.40\n",
       "==============================================================================\n",
       "\n",
       "Warnings:\n",
       "[1] Standard Errors assume that the covariance matrix of the errors is correctly specified.\n",
       "\"\"\""
      ]
     },
     "execution_count": 117,
     "metadata": {},
     "output_type": "execute_result"
    }
   ],
   "source": [
    "predictors = '+'.join(x_cols)\n",
    "formula = outcome + '~' + predictors\n",
    "fsm_model = ols(formula=formula, data=df).fit()\n",
    "fsm_model.summary()"
   ]
  },
  {
   "cell_type": "markdown",
   "metadata": {},
   "source": [
    "### FSM_Model 4"
   ]
  },
  {
   "cell_type": "code",
   "execution_count": 120,
   "metadata": {},
   "outputs": [],
   "source": [
    "outcome = 'SalePrice'\n",
    "x_cols = ['Has_Nuisance']"
   ]
  },
  {
   "cell_type": "code",
   "execution_count": 121,
   "metadata": {},
   "outputs": [
    {
     "data": {
      "text/html": [
       "<table class=\"simpletable\">\n",
       "<caption>OLS Regression Results</caption>\n",
       "<tr>\n",
       "  <th>Dep. Variable:</th>        <td>SalePrice</td>    <th>  R-squared:         </th>  <td>   0.000</td>  \n",
       "</tr>\n",
       "<tr>\n",
       "  <th>Model:</th>                   <td>OLS</td>       <th>  Adj. R-squared:    </th>  <td>   0.000</td>  \n",
       "</tr>\n",
       "<tr>\n",
       "  <th>Method:</th>             <td>Least Squares</td>  <th>  F-statistic:       </th>  <td>   1.043</td>  \n",
       "</tr>\n",
       "<tr>\n",
       "  <th>Date:</th>             <td>Tue, 29 Sep 2020</td> <th>  Prob (F-statistic):</th>   <td> 0.307</td>   \n",
       "</tr>\n",
       "<tr>\n",
       "  <th>Time:</th>                 <td>13:09:15</td>     <th>  Log-Likelihood:    </th> <td>-4.1827e+05</td>\n",
       "</tr>\n",
       "<tr>\n",
       "  <th>No. Observations:</th>      <td> 28824</td>      <th>  AIC:               </th>  <td>8.366e+05</td> \n",
       "</tr>\n",
       "<tr>\n",
       "  <th>Df Residuals:</th>          <td> 28822</td>      <th>  BIC:               </th>  <td>8.366e+05</td> \n",
       "</tr>\n",
       "<tr>\n",
       "  <th>Df Model:</th>              <td>     1</td>      <th>                     </th>      <td> </td>     \n",
       "</tr>\n",
       "<tr>\n",
       "  <th>Covariance Type:</th>      <td>nonrobust</td>    <th>                     </th>      <td> </td>     \n",
       "</tr>\n",
       "</table>\n",
       "<table class=\"simpletable\">\n",
       "<tr>\n",
       "        <td></td>          <th>coef</th>     <th>std err</th>      <th>t</th>      <th>P>|t|</th>  <th>[0.025</th>    <th>0.975]</th>  \n",
       "</tr>\n",
       "<tr>\n",
       "  <th>Intercept</th>    <td> 7.779e+05</td> <td> 3137.880</td> <td>  247.915</td> <td> 0.000</td> <td> 7.72e+05</td> <td> 7.84e+05</td>\n",
       "</tr>\n",
       "<tr>\n",
       "  <th>Has_Nuisance</th> <td> 7765.3750</td> <td> 7603.559</td> <td>    1.021</td> <td> 0.307</td> <td>-7137.952</td> <td> 2.27e+04</td>\n",
       "</tr>\n",
       "</table>\n",
       "<table class=\"simpletable\">\n",
       "<tr>\n",
       "  <th>Omnibus:</th>       <td>14136.291</td> <th>  Durbin-Watson:     </th> <td>   1.947</td> \n",
       "</tr>\n",
       "<tr>\n",
       "  <th>Prob(Omnibus):</th>  <td> 0.000</td>   <th>  Jarque-Bera (JB):  </th> <td>92644.887</td>\n",
       "</tr>\n",
       "<tr>\n",
       "  <th>Skew:</th>           <td> 2.303</td>   <th>  Prob(JB):          </th> <td>    0.00</td> \n",
       "</tr>\n",
       "<tr>\n",
       "  <th>Kurtosis:</th>       <td>10.478</td>   <th>  Cond. No.          </th> <td>    2.75</td> \n",
       "</tr>\n",
       "</table><br/><br/>Warnings:<br/>[1] Standard Errors assume that the covariance matrix of the errors is correctly specified."
      ],
      "text/plain": [
       "<class 'statsmodels.iolib.summary.Summary'>\n",
       "\"\"\"\n",
       "                            OLS Regression Results                            \n",
       "==============================================================================\n",
       "Dep. Variable:              SalePrice   R-squared:                       0.000\n",
       "Model:                            OLS   Adj. R-squared:                  0.000\n",
       "Method:                 Least Squares   F-statistic:                     1.043\n",
       "Date:                Tue, 29 Sep 2020   Prob (F-statistic):              0.307\n",
       "Time:                        13:09:15   Log-Likelihood:            -4.1827e+05\n",
       "No. Observations:               28824   AIC:                         8.366e+05\n",
       "Df Residuals:                   28822   BIC:                         8.366e+05\n",
       "Df Model:                           1                                         \n",
       "Covariance Type:            nonrobust                                         \n",
       "================================================================================\n",
       "                   coef    std err          t      P>|t|      [0.025      0.975]\n",
       "--------------------------------------------------------------------------------\n",
       "Intercept     7.779e+05   3137.880    247.915      0.000    7.72e+05    7.84e+05\n",
       "Has_Nuisance  7765.3750   7603.559      1.021      0.307   -7137.952    2.27e+04\n",
       "==============================================================================\n",
       "Omnibus:                    14136.291   Durbin-Watson:                   1.947\n",
       "Prob(Omnibus):                  0.000   Jarque-Bera (JB):            92644.887\n",
       "Skew:                           2.303   Prob(JB):                         0.00\n",
       "Kurtosis:                      10.478   Cond. No.                         2.75\n",
       "==============================================================================\n",
       "\n",
       "Warnings:\n",
       "[1] Standard Errors assume that the covariance matrix of the errors is correctly specified.\n",
       "\"\"\""
      ]
     },
     "execution_count": 121,
     "metadata": {},
     "output_type": "execute_result"
    }
   ],
   "source": [
    "predictors = '+'.join(x_cols)\n",
    "formula = outcome + '~' + predictors\n",
    "fsm_model = ols(formula=formula, data=df).fit()\n",
    "fsm_model.summary()"
   ]
  },
  {
   "cell_type": "markdown",
   "metadata": {},
   "source": [
    "### FSM_Model 5"
   ]
  },
  {
   "cell_type": "code",
   "execution_count": 124,
   "metadata": {},
   "outputs": [],
   "source": [
    "outcome = 'SalePrice'\n",
    "x_cols = ['SqFtLot']"
   ]
  },
  {
   "cell_type": "code",
   "execution_count": 125,
   "metadata": {},
   "outputs": [
    {
     "data": {
      "text/html": [
       "<table class=\"simpletable\">\n",
       "<caption>OLS Regression Results</caption>\n",
       "<tr>\n",
       "  <th>Dep. Variable:</th>        <td>SalePrice</td>    <th>  R-squared:         </th>  <td>   0.005</td>  \n",
       "</tr>\n",
       "<tr>\n",
       "  <th>Model:</th>                   <td>OLS</td>       <th>  Adj. R-squared:    </th>  <td>   0.005</td>  \n",
       "</tr>\n",
       "<tr>\n",
       "  <th>Method:</th>             <td>Least Squares</td>  <th>  F-statistic:       </th>  <td>   147.2</td>  \n",
       "</tr>\n",
       "<tr>\n",
       "  <th>Date:</th>             <td>Tue, 29 Sep 2020</td> <th>  Prob (F-statistic):</th>  <td>8.65e-34</td>  \n",
       "</tr>\n",
       "<tr>\n",
       "  <th>Time:</th>                 <td>13:12:40</td>     <th>  Log-Likelihood:    </th> <td>-4.1820e+05</td>\n",
       "</tr>\n",
       "<tr>\n",
       "  <th>No. Observations:</th>      <td> 28824</td>      <th>  AIC:               </th>  <td>8.364e+05</td> \n",
       "</tr>\n",
       "<tr>\n",
       "  <th>Df Residuals:</th>          <td> 28822</td>      <th>  BIC:               </th>  <td>8.364e+05</td> \n",
       "</tr>\n",
       "<tr>\n",
       "  <th>Df Model:</th>              <td>     1</td>      <th>                     </th>      <td> </td>     \n",
       "</tr>\n",
       "<tr>\n",
       "  <th>Covariance Type:</th>      <td>nonrobust</td>    <th>                     </th>      <td> </td>     \n",
       "</tr>\n",
       "</table>\n",
       "<table class=\"simpletable\">\n",
       "<tr>\n",
       "      <td></td>         <th>coef</th>     <th>std err</th>      <th>t</th>      <th>P>|t|</th>  <th>[0.025</th>    <th>0.975]</th>  \n",
       "</tr>\n",
       "<tr>\n",
       "  <th>Intercept</th> <td> 7.606e+05</td> <td> 3239.580</td> <td>  234.779</td> <td> 0.000</td> <td> 7.54e+05</td> <td> 7.67e+05</td>\n",
       "</tr>\n",
       "<tr>\n",
       "  <th>SqFtLot</th>   <td>    1.4735</td> <td>    0.121</td> <td>   12.132</td> <td> 0.000</td> <td>    1.235</td> <td>    1.712</td>\n",
       "</tr>\n",
       "</table>\n",
       "<table class=\"simpletable\">\n",
       "<tr>\n",
       "  <th>Omnibus:</th>       <td>14076.440</td> <th>  Durbin-Watson:     </th> <td>   1.947</td> \n",
       "</tr>\n",
       "<tr>\n",
       "  <th>Prob(Omnibus):</th>  <td> 0.000</td>   <th>  Jarque-Bera (JB):  </th> <td>92185.738</td>\n",
       "</tr>\n",
       "<tr>\n",
       "  <th>Skew:</th>           <td> 2.291</td>   <th>  Prob(JB):          </th> <td>    0.00</td> \n",
       "</tr>\n",
       "<tr>\n",
       "  <th>Kurtosis:</th>       <td>10.467</td>   <th>  Cond. No.          </th> <td>3.03e+04</td> \n",
       "</tr>\n",
       "</table><br/><br/>Warnings:<br/>[1] Standard Errors assume that the covariance matrix of the errors is correctly specified.<br/>[2] The condition number is large, 3.03e+04. This might indicate that there are<br/>strong multicollinearity or other numerical problems."
      ],
      "text/plain": [
       "<class 'statsmodels.iolib.summary.Summary'>\n",
       "\"\"\"\n",
       "                            OLS Regression Results                            \n",
       "==============================================================================\n",
       "Dep. Variable:              SalePrice   R-squared:                       0.005\n",
       "Model:                            OLS   Adj. R-squared:                  0.005\n",
       "Method:                 Least Squares   F-statistic:                     147.2\n",
       "Date:                Tue, 29 Sep 2020   Prob (F-statistic):           8.65e-34\n",
       "Time:                        13:12:40   Log-Likelihood:            -4.1820e+05\n",
       "No. Observations:               28824   AIC:                         8.364e+05\n",
       "Df Residuals:                   28822   BIC:                         8.364e+05\n",
       "Df Model:                           1                                         \n",
       "Covariance Type:            nonrobust                                         \n",
       "==============================================================================\n",
       "                 coef    std err          t      P>|t|      [0.025      0.975]\n",
       "------------------------------------------------------------------------------\n",
       "Intercept   7.606e+05   3239.580    234.779      0.000    7.54e+05    7.67e+05\n",
       "SqFtLot        1.4735      0.121     12.132      0.000       1.235       1.712\n",
       "==============================================================================\n",
       "Omnibus:                    14076.440   Durbin-Watson:                   1.947\n",
       "Prob(Omnibus):                  0.000   Jarque-Bera (JB):            92185.738\n",
       "Skew:                           2.291   Prob(JB):                         0.00\n",
       "Kurtosis:                      10.467   Cond. No.                     3.03e+04\n",
       "==============================================================================\n",
       "\n",
       "Warnings:\n",
       "[1] Standard Errors assume that the covariance matrix of the errors is correctly specified.\n",
       "[2] The condition number is large, 3.03e+04. This might indicate that there are\n",
       "strong multicollinearity or other numerical problems.\n",
       "\"\"\""
      ]
     },
     "execution_count": 125,
     "metadata": {},
     "output_type": "execute_result"
    }
   ],
   "source": [
    "predictors = '+'.join(x_cols)\n",
    "formula = outcome + '~' + predictors\n",
    "fsm_model = ols(formula=formula, data=df).fit()\n",
    "fsm_model.summary()"
   ]
  },
  {
   "cell_type": "markdown",
   "metadata": {},
   "source": [
    "## Multilinear Models\n"
   ]
  },
  {
   "cell_type": "markdown",
   "metadata": {},
   "source": [
    "### ML_Model 1"
   ]
  },
  {
   "cell_type": "code",
   "execution_count": 127,
   "metadata": {},
   "outputs": [],
   "source": [
    "outcome = 'SalePrice'\n",
    "x_cols = ['SqFtTotLiving','Has_Porch' ]"
   ]
  },
  {
   "cell_type": "code",
   "execution_count": 154,
   "metadata": {},
   "outputs": [
    {
     "data": {
      "text/html": [
       "<table class=\"simpletable\">\n",
       "<caption>OLS Regression Results</caption>\n",
       "<tr>\n",
       "  <th>Dep. Variable:</th>        <td>SalePrice</td>    <th>  R-squared:         </th>  <td>   0.370</td>  \n",
       "</tr>\n",
       "<tr>\n",
       "  <th>Model:</th>                   <td>OLS</td>       <th>  Adj. R-squared:    </th>  <td>   0.370</td>  \n",
       "</tr>\n",
       "<tr>\n",
       "  <th>Method:</th>             <td>Least Squares</td>  <th>  F-statistic:       </th>  <td>   5639.</td>  \n",
       "</tr>\n",
       "<tr>\n",
       "  <th>Date:</th>             <td>Tue, 29 Sep 2020</td> <th>  Prob (F-statistic):</th>   <td>  0.00</td>   \n",
       "</tr>\n",
       "<tr>\n",
       "  <th>Time:</th>                 <td>13:38:14</td>     <th>  Log-Likelihood:    </th> <td>-4.1162e+05</td>\n",
       "</tr>\n",
       "<tr>\n",
       "  <th>No. Observations:</th>      <td> 28824</td>      <th>  AIC:               </th>  <td>8.232e+05</td> \n",
       "</tr>\n",
       "<tr>\n",
       "  <th>Df Residuals:</th>          <td> 28820</td>      <th>  BIC:               </th>  <td>8.233e+05</td> \n",
       "</tr>\n",
       "<tr>\n",
       "  <th>Df Model:</th>              <td>     3</td>      <th>                     </th>      <td> </td>     \n",
       "</tr>\n",
       "<tr>\n",
       "  <th>Covariance Type:</th>      <td>nonrobust</td>    <th>                     </th>      <td> </td>     \n",
       "</tr>\n",
       "</table>\n",
       "<table class=\"simpletable\">\n",
       "<tr>\n",
       "            <td></td>               <th>coef</th>     <th>std err</th>      <th>t</th>      <th>P>|t|</th>  <th>[0.025</th>    <th>0.975]</th>  \n",
       "</tr>\n",
       "<tr>\n",
       "  <th>Intercept</th>             <td> 1.079e+05</td> <td> 5763.462</td> <td>   18.716</td> <td> 0.000</td> <td> 9.66e+04</td> <td> 1.19e+05</td>\n",
       "</tr>\n",
       "<tr>\n",
       "  <th>SqFtTotLiving</th>         <td>  302.5124</td> <td>    2.543</td> <td>  118.947</td> <td> 0.000</td> <td>  297.528</td> <td>  307.497</td>\n",
       "</tr>\n",
       "<tr>\n",
       "  <th>Has_Porch</th>             <td> 7563.4853</td> <td> 4847.244</td> <td>    1.560</td> <td> 0.119</td> <td>-1937.338</td> <td> 1.71e+04</td>\n",
       "</tr>\n",
       "<tr>\n",
       "  <th>Is_WaterFrontLocation</th> <td> 4.555e+05</td> <td> 1.91e+04</td> <td>   23.894</td> <td> 0.000</td> <td> 4.18e+05</td> <td> 4.93e+05</td>\n",
       "</tr>\n",
       "</table>\n",
       "<table class=\"simpletable\">\n",
       "<tr>\n",
       "  <th>Omnibus:</th>       <td>12545.159</td> <th>  Durbin-Watson:     </th>  <td>   1.915</td> \n",
       "</tr>\n",
       "<tr>\n",
       "  <th>Prob(Omnibus):</th>  <td> 0.000</td>   <th>  Jarque-Bera (JB):  </th> <td>102534.109</td>\n",
       "</tr>\n",
       "<tr>\n",
       "  <th>Skew:</th>           <td> 1.901</td>   <th>  Prob(JB):          </th>  <td>    0.00</td> \n",
       "</tr>\n",
       "<tr>\n",
       "  <th>Kurtosis:</th>       <td>11.422</td>   <th>  Cond. No.          </th>  <td>2.00e+04</td> \n",
       "</tr>\n",
       "</table><br/><br/>Warnings:<br/>[1] Standard Errors assume that the covariance matrix of the errors is correctly specified.<br/>[2] The condition number is large,  2e+04. This might indicate that there are<br/>strong multicollinearity or other numerical problems."
      ],
      "text/plain": [
       "<class 'statsmodels.iolib.summary.Summary'>\n",
       "\"\"\"\n",
       "                            OLS Regression Results                            \n",
       "==============================================================================\n",
       "Dep. Variable:              SalePrice   R-squared:                       0.370\n",
       "Model:                            OLS   Adj. R-squared:                  0.370\n",
       "Method:                 Least Squares   F-statistic:                     5639.\n",
       "Date:                Tue, 29 Sep 2020   Prob (F-statistic):               0.00\n",
       "Time:                        13:38:14   Log-Likelihood:            -4.1162e+05\n",
       "No. Observations:               28824   AIC:                         8.232e+05\n",
       "Df Residuals:                   28820   BIC:                         8.233e+05\n",
       "Df Model:                           3                                         \n",
       "Covariance Type:            nonrobust                                         \n",
       "=========================================================================================\n",
       "                            coef    std err          t      P>|t|      [0.025      0.975]\n",
       "-----------------------------------------------------------------------------------------\n",
       "Intercept              1.079e+05   5763.462     18.716      0.000    9.66e+04    1.19e+05\n",
       "SqFtTotLiving           302.5124      2.543    118.947      0.000     297.528     307.497\n",
       "Has_Porch              7563.4853   4847.244      1.560      0.119   -1937.338    1.71e+04\n",
       "Is_WaterFrontLocation  4.555e+05   1.91e+04     23.894      0.000    4.18e+05    4.93e+05\n",
       "==============================================================================\n",
       "Omnibus:                    12545.159   Durbin-Watson:                   1.915\n",
       "Prob(Omnibus):                  0.000   Jarque-Bera (JB):           102534.109\n",
       "Skew:                           1.901   Prob(JB):                         0.00\n",
       "Kurtosis:                      11.422   Cond. No.                     2.00e+04\n",
       "==============================================================================\n",
       "\n",
       "Warnings:\n",
       "[1] Standard Errors assume that the covariance matrix of the errors is correctly specified.\n",
       "[2] The condition number is large,  2e+04. This might indicate that there are\n",
       "strong multicollinearity or other numerical problems.\n",
       "\"\"\""
      ]
     },
     "execution_count": 154,
     "metadata": {},
     "output_type": "execute_result"
    }
   ],
   "source": [
    "predictors = '+'.join(x_cols)\n",
    "formula = outcome + '~' + predictors\n",
    "ml_model1 = ols(formula=formula, data=df).fit()\n",
    "ml_model1.summary()"
   ]
  },
  {
   "cell_type": "markdown",
   "metadata": {},
   "source": [
    "### ML_Model 2"
   ]
  },
  {
   "cell_type": "code",
   "execution_count": 141,
   "metadata": {},
   "outputs": [],
   "source": [
    "outcome = 'SalePrice'\n",
    "x_cols = ['SqFtTotLiving','Has_Porch', 'Is_WaterFrontLocation']"
   ]
  },
  {
   "cell_type": "code",
   "execution_count": 155,
   "metadata": {},
   "outputs": [
    {
     "data": {
      "text/html": [
       "<table class=\"simpletable\">\n",
       "<caption>OLS Regression Results</caption>\n",
       "<tr>\n",
       "  <th>Dep. Variable:</th>        <td>SalePrice</td>    <th>  R-squared:         </th>  <td>   0.370</td>  \n",
       "</tr>\n",
       "<tr>\n",
       "  <th>Model:</th>                   <td>OLS</td>       <th>  Adj. R-squared:    </th>  <td>   0.370</td>  \n",
       "</tr>\n",
       "<tr>\n",
       "  <th>Method:</th>             <td>Least Squares</td>  <th>  F-statistic:       </th>  <td>   5639.</td>  \n",
       "</tr>\n",
       "<tr>\n",
       "  <th>Date:</th>             <td>Tue, 29 Sep 2020</td> <th>  Prob (F-statistic):</th>   <td>  0.00</td>   \n",
       "</tr>\n",
       "<tr>\n",
       "  <th>Time:</th>                 <td>13:38:21</td>     <th>  Log-Likelihood:    </th> <td>-4.1162e+05</td>\n",
       "</tr>\n",
       "<tr>\n",
       "  <th>No. Observations:</th>      <td> 28824</td>      <th>  AIC:               </th>  <td>8.232e+05</td> \n",
       "</tr>\n",
       "<tr>\n",
       "  <th>Df Residuals:</th>          <td> 28820</td>      <th>  BIC:               </th>  <td>8.233e+05</td> \n",
       "</tr>\n",
       "<tr>\n",
       "  <th>Df Model:</th>              <td>     3</td>      <th>                     </th>      <td> </td>     \n",
       "</tr>\n",
       "<tr>\n",
       "  <th>Covariance Type:</th>      <td>nonrobust</td>    <th>                     </th>      <td> </td>     \n",
       "</tr>\n",
       "</table>\n",
       "<table class=\"simpletable\">\n",
       "<tr>\n",
       "            <td></td>               <th>coef</th>     <th>std err</th>      <th>t</th>      <th>P>|t|</th>  <th>[0.025</th>    <th>0.975]</th>  \n",
       "</tr>\n",
       "<tr>\n",
       "  <th>Intercept</th>             <td> 1.079e+05</td> <td> 5763.462</td> <td>   18.716</td> <td> 0.000</td> <td> 9.66e+04</td> <td> 1.19e+05</td>\n",
       "</tr>\n",
       "<tr>\n",
       "  <th>SqFtTotLiving</th>         <td>  302.5124</td> <td>    2.543</td> <td>  118.947</td> <td> 0.000</td> <td>  297.528</td> <td>  307.497</td>\n",
       "</tr>\n",
       "<tr>\n",
       "  <th>Has_Porch</th>             <td> 7563.4853</td> <td> 4847.244</td> <td>    1.560</td> <td> 0.119</td> <td>-1937.338</td> <td> 1.71e+04</td>\n",
       "</tr>\n",
       "<tr>\n",
       "  <th>Is_WaterFrontLocation</th> <td> 4.555e+05</td> <td> 1.91e+04</td> <td>   23.894</td> <td> 0.000</td> <td> 4.18e+05</td> <td> 4.93e+05</td>\n",
       "</tr>\n",
       "</table>\n",
       "<table class=\"simpletable\">\n",
       "<tr>\n",
       "  <th>Omnibus:</th>       <td>12545.159</td> <th>  Durbin-Watson:     </th>  <td>   1.915</td> \n",
       "</tr>\n",
       "<tr>\n",
       "  <th>Prob(Omnibus):</th>  <td> 0.000</td>   <th>  Jarque-Bera (JB):  </th> <td>102534.109</td>\n",
       "</tr>\n",
       "<tr>\n",
       "  <th>Skew:</th>           <td> 1.901</td>   <th>  Prob(JB):          </th>  <td>    0.00</td> \n",
       "</tr>\n",
       "<tr>\n",
       "  <th>Kurtosis:</th>       <td>11.422</td>   <th>  Cond. No.          </th>  <td>2.00e+04</td> \n",
       "</tr>\n",
       "</table><br/><br/>Warnings:<br/>[1] Standard Errors assume that the covariance matrix of the errors is correctly specified.<br/>[2] The condition number is large,  2e+04. This might indicate that there are<br/>strong multicollinearity or other numerical problems."
      ],
      "text/plain": [
       "<class 'statsmodels.iolib.summary.Summary'>\n",
       "\"\"\"\n",
       "                            OLS Regression Results                            \n",
       "==============================================================================\n",
       "Dep. Variable:              SalePrice   R-squared:                       0.370\n",
       "Model:                            OLS   Adj. R-squared:                  0.370\n",
       "Method:                 Least Squares   F-statistic:                     5639.\n",
       "Date:                Tue, 29 Sep 2020   Prob (F-statistic):               0.00\n",
       "Time:                        13:38:21   Log-Likelihood:            -4.1162e+05\n",
       "No. Observations:               28824   AIC:                         8.232e+05\n",
       "Df Residuals:                   28820   BIC:                         8.233e+05\n",
       "Df Model:                           3                                         \n",
       "Covariance Type:            nonrobust                                         \n",
       "=========================================================================================\n",
       "                            coef    std err          t      P>|t|      [0.025      0.975]\n",
       "-----------------------------------------------------------------------------------------\n",
       "Intercept              1.079e+05   5763.462     18.716      0.000    9.66e+04    1.19e+05\n",
       "SqFtTotLiving           302.5124      2.543    118.947      0.000     297.528     307.497\n",
       "Has_Porch              7563.4853   4847.244      1.560      0.119   -1937.338    1.71e+04\n",
       "Is_WaterFrontLocation  4.555e+05   1.91e+04     23.894      0.000    4.18e+05    4.93e+05\n",
       "==============================================================================\n",
       "Omnibus:                    12545.159   Durbin-Watson:                   1.915\n",
       "Prob(Omnibus):                  0.000   Jarque-Bera (JB):           102534.109\n",
       "Skew:                           1.901   Prob(JB):                         0.00\n",
       "Kurtosis:                      11.422   Cond. No.                     2.00e+04\n",
       "==============================================================================\n",
       "\n",
       "Warnings:\n",
       "[1] Standard Errors assume that the covariance matrix of the errors is correctly specified.\n",
       "[2] The condition number is large,  2e+04. This might indicate that there are\n",
       "strong multicollinearity or other numerical problems.\n",
       "\"\"\""
      ]
     },
     "execution_count": 155,
     "metadata": {},
     "output_type": "execute_result"
    }
   ],
   "source": [
    "predictors = '+'.join(x_cols)\n",
    "formula = outcome + '~' + predictors\n",
    "ml_model2 = ols(formula=formula, data=df).fit()\n",
    "ml_model2.summary()"
   ]
  },
  {
   "cell_type": "markdown",
   "metadata": {},
   "source": [
    "### ML_Model 3"
   ]
  },
  {
   "cell_type": "code",
   "execution_count": null,
   "metadata": {},
   "outputs": [],
   "source": [
    "outcome = 'SalePrice'\n",
    "x_cols = ['SqFtTotLiving','Has_Porch', 'Is_WaterFrontLocation']"
   ]
  },
  {
   "cell_type": "code",
   "execution_count": null,
   "metadata": {},
   "outputs": [],
   "source": [
    "predictors = '+'.join(x_cols)\n",
    "formula = outcome + '~' + predictors\n",
    "ml_model2 = ols(formula=formula, data=df).fit()\n",
    "ml_model2.summary()"
   ]
  },
  {
   "cell_type": "markdown",
   "metadata": {},
   "source": [
    "# Multicollinearity check"
   ]
  },
  {
   "cell_type": "code",
   "execution_count": null,
   "metadata": {},
   "outputs": [],
   "source": []
  },
  {
   "cell_type": "code",
   "execution_count": 109,
   "metadata": {},
   "outputs": [],
   "source": [
    "from statsmodels.stats.outliers_influence import variance_inflation_factor"
   ]
  },
  {
   "cell_type": "code",
   "execution_count": 133,
   "metadata": {},
   "outputs": [
    {
     "data": {
      "text/plain": [
       "[('SqFtTotLiving', 2.504714110013889),\n",
       " ('Has_Porch', 2.4887040096589823),\n",
       " ('Is_WaterFrontLocation', 1.0161910157346665)]"
      ]
     },
     "execution_count": 133,
     "metadata": {},
     "output_type": "execute_result"
    }
   ],
   "source": [
    "X = df[x_cols]\n",
    "vif = [variance_inflation_factor(X.values, i) for i in range(X.shape[1])]\n",
    "list(zip(x_cols, vif))"
   ]
  },
  {
   "cell_type": "code",
   "execution_count": null,
   "metadata": {},
   "outputs": [],
   "source": [
    "#values are under 5 vif, no collinearity as is"
   ]
  },
  {
   "cell_type": "code",
   "execution_count": 153,
   "metadata": {},
   "outputs": [
    {
     "name": "stdout",
     "output_type": "stream",
     "text": [
      "Rainbow statistic: 0.9417309989928961\n",
      "Rainbow p-value: 0.9998427534129499\n"
     ]
    }
   ],
   "source": [
    "#testing with Rainbow test\n",
    "\n",
    "rainbow_statistic, rainbow_p_value = linear_rainbow(ml_model2)\n",
    "print(\"Rainbow statistic:\", rainbow_statistic)\n",
    "print(\"Rainbow p-value:\", rainbow_p_value)"
   ]
  },
  {
   "cell_type": "markdown",
   "metadata": {},
   "source": [
    "# Normality Check/Q-Q plot\n"
   ]
  },
  {
   "cell_type": "code",
   "execution_count": 60,
   "metadata": {},
   "outputs": [],
   "source": [
    "import statsmodels.api as sm\n",
    "import scipy.stats as stats\n",
    "\n",
    "dist=stats.norm\n",
    "fit=True"
   ]
  },
  {
   "cell_type": "code",
   "execution_count": 159,
   "metadata": {},
   "outputs": [
    {
     "data": {
      "image/png": "[encoded data removed]",
      "text/plain": [
       "<Figure size 432x288 with 1 Axes>"
      ]
     },
     "metadata": {
      "needs_background": "light"
     },
     "output_type": "display_data"
    }
   ],
   "source": [
    "fig = sm.graphics.qqplot(ml_model2.resid, line='s',dist=stats.norm, fit=True)"
   ]
  },
  {
   "cell_type": "code",
   "execution_count": null,
   "metadata": {},
   "outputs": [],
   "source": []
  },
  {
   "cell_type": "markdown",
   "metadata": {},
   "source": [
    "# Homoscedasticity Check"
   ]
  },
  {
   "cell_type": "code",
   "execution_count": 158,
   "metadata": {},
   "outputs": [
    {
     "data": {
      "image/png": "[encoded data removed]",
      "text/plain": [
       "<Figure size 432x288 with 1 Axes>"
      ]
     },
     "metadata": {
      "needs_background": "light"
     },
     "output_type": "display_data"
    }
   ],
   "source": [
    "plt.scatter(ml_model2.predict(df[x_cols]), ml_model2.resid)\n",
    "plt.plot(ml_model2.predict(df[x_cols]), [0 for i in range(len(df))]);"
   ]
  },
  {
   "cell_type": "code",
   "execution_count": null,
   "metadata": {},
   "outputs": [],
   "source": [
    "\n"
   ]
  },
  {
   "cell_type": "code",
   "execution_count": null,
   "metadata": {},
   "outputs": [],
   "source": []
  },
  {
   "cell_type": "code",
   "execution_count": null,
   "metadata": {},
   "outputs": [],
   "source": []
  },
  {
   "cell_type": "code",
   "execution_count": null,
   "metadata": {},
   "outputs": [],
   "source": []
  }
 ],
 "metadata": {
  "kernelspec": {
   "display_name": "learn-env",
   "language": "python",
   "name": "learn-env"
  },
  "language_info": {
   "codemirror_mode": {
    "name": "ipython",
    "version": 3
   },
   "file_extension": ".py",
   "mimetype": "text/x-python",
   "name": "python",
   "nbconvert_exporter": "python",
   "pygments_lexer": "ipython3",
   "version": "3.8.3"
  }
 },
 "nbformat": 4,
 "nbformat_minor": 4
}
