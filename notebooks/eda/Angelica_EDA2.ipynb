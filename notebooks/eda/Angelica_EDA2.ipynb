{
 "cells": [
  {
   "cell_type": "code",
   "execution_count": 2,
   "metadata": {},
   "outputs": [],
   "source": [
    "\n",
    "import zipfile\n"
   ]
  },
  {
   "cell_type": "code",
   "execution_count": 22,
   "metadata": {},
   "outputs": [],
   "source": [
    "import os\n",
    "\n",
    "import pandas as pd\n",
    "import numpy as np\n",
    "\n",
    "import matplotlib.pyplot as plt\n",
    "import seaborn as sns\n",
    "\n",
    "import statsmodels.api as sm\n",
    "from statsmodels.formula.api import ols\n",
    "from statsmodels.stats.diagnostic import linear_rainbow, het_breuschpagan\n",
    "from statsmodels.stats.outliers_influence import variance_inflation_factor\n",
    "\n",
    "from sklearn.preprocessing import LabelEncoder"
   ]
  },
  {
   "cell_type": "markdown",
   "metadata": {},
   "source": [
    "## Import Data"
   ]
  },
  {
   "cell_type": "code",
   "execution_count": 1,
   "metadata": {
    "scrolled": true
   },
   "outputs": [
    {
     "name": "stdout",
     "output_type": "stream",
     "text": [
      "/bin/sh: wget: command not found\n",
      "/bin/sh: wget: command not found\n"
     ]
    }
   ],
   "source": [
    "! wget -P ../../data/raw https://aqua.kingcounty.gov/extranet/assessor/Real%20Property%20Sales.zip\n",
    "! wget -P ../../data/raw https://aqua.kingcounty.gov/extranet/assessor/Residential%20Building.zip"
   ]
  },
  {
   "cell_type": "code",
   "execution_count": 1,
   "metadata": {},
   "outputs": [
    {
     "name": "stdout",
     "output_type": "stream",
     "text": [
      "wget not found\n"
     ]
    }
   ],
   "source": [
    "! which wget\n"
   ]
  },
  {
   "cell_type": "code",
   "execution_count": 3,
   "metadata": {},
   "outputs": [
    {
     "ename": "NameError",
     "evalue": "name 'zipfile' is not defined",
     "output_type": "error",
     "traceback": [
      "\u001b[0;31m---------------------------------------------------------------------------\u001b[0m",
      "\u001b[0;31mNameError\u001b[0m                                 Traceback (most recent call last)",
      "\u001b[0;32m<ipython-input-3-6e4b7742d735>\u001b[0m in \u001b[0;36m<module>\u001b[0;34m\u001b[0m\n\u001b[0;32m----> 1\u001b[0;31m \u001b[0;32mwith\u001b[0m \u001b[0mzipfile\u001b[0m\u001b[0;34m.\u001b[0m\u001b[0mZipFile\u001b[0m\u001b[0;34m(\u001b[0m\u001b[0;34m'../../data/raw/Parcel.zip'\u001b[0m\u001b[0;34m,\u001b[0m \u001b[0;34m'r'\u001b[0m\u001b[0;34m)\u001b[0m \u001b[0;32mas\u001b[0m \u001b[0mzip_ref\u001b[0m\u001b[0;34m:\u001b[0m\u001b[0;34m\u001b[0m\u001b[0;34m\u001b[0m\u001b[0m\n\u001b[0m\u001b[1;32m      2\u001b[0m     \u001b[0mzip_ref\u001b[0m\u001b[0;34m.\u001b[0m\u001b[0mextractall\u001b[0m\u001b[0;34m(\u001b[0m\u001b[0;34m'../../data/raw'\u001b[0m\u001b[0;34m)\u001b[0m\u001b[0;34m\u001b[0m\u001b[0;34m\u001b[0m\u001b[0m\n\u001b[1;32m      3\u001b[0m \u001b[0;32mwith\u001b[0m \u001b[0mzipfile\u001b[0m\u001b[0;34m.\u001b[0m\u001b[0mZipFile\u001b[0m\u001b[0;34m(\u001b[0m\u001b[0;34m'../../data/raw/Real Property Sales.zip'\u001b[0m\u001b[0;34m,\u001b[0m \u001b[0;34m'r'\u001b[0m\u001b[0;34m)\u001b[0m \u001b[0;32mas\u001b[0m \u001b[0mzip_ref\u001b[0m\u001b[0;34m:\u001b[0m\u001b[0;34m\u001b[0m\u001b[0;34m\u001b[0m\u001b[0m\n\u001b[1;32m      4\u001b[0m     \u001b[0mzip_ref\u001b[0m\u001b[0;34m.\u001b[0m\u001b[0mextractall\u001b[0m\u001b[0;34m(\u001b[0m\u001b[0;34m'../../data/raw'\u001b[0m\u001b[0;34m)\u001b[0m\u001b[0;34m\u001b[0m\u001b[0;34m\u001b[0m\u001b[0m\n\u001b[1;32m      5\u001b[0m \u001b[0;32mwith\u001b[0m \u001b[0mzipfile\u001b[0m\u001b[0;34m.\u001b[0m\u001b[0mZipFile\u001b[0m\u001b[0;34m(\u001b[0m\u001b[0;34m'../../data/raw/Residential Building.zip'\u001b[0m\u001b[0;34m,\u001b[0m \u001b[0;34m'r'\u001b[0m\u001b[0;34m)\u001b[0m \u001b[0;32mas\u001b[0m \u001b[0mzip_ref\u001b[0m\u001b[0;34m:\u001b[0m\u001b[0;34m\u001b[0m\u001b[0;34m\u001b[0m\u001b[0m\n",
      "\u001b[0;31mNameError\u001b[0m: name 'zipfile' is not defined"
     ]
    }
   ],
   "source": [
    "with zipfile.ZipFile('../../data/raw/Parcel.zip', 'r') as zip_ref:\n",
    "    zip_ref.extractall('../../data/raw')\n",
    "with zipfile.ZipFile('../../data/raw/Real Property Sales.zip', 'r') as zip_ref:\n",
    "    zip_ref.extractall('../../data/raw')\n",
    "with zipfile.ZipFile('../../data/raw/Residential Building.zip', 'r') as zip_ref:\n",
    "    zip_ref.extractall('../../data/raw')"
   ]
  },
  {
   "cell_type": "code",
   "execution_count": null,
   "metadata": {},
   "outputs": [],
   "source": [
    "\n"
   ]
  },
  {
   "cell_type": "code",
   "execution_count": 30,
   "metadata": {},
   "outputs": [],
   "source": [
    "parcel = pd.read_csv(\"../../data/raw/EXTR_Parcel.csv\", encoding='latin-1')\n",
    "real_property_sales = pd.read_csv(\"../../data/raw/EXTR_RPSale.csv\", encoding='latin-1', low_memory=False)\n",
    "residential_building = pd.read_csv(\"../../data/raw/EXTR_ResBldg.csv\", encoding='latin-1', low_memory=False)"
   ]
  },
  {
   "cell_type": "code",
   "execution_count": 191,
   "metadata": {},
   "outputs": [
    {
     "name": "stdout",
     "output_type": "stream",
     "text": [
      "<class 'pandas.core.frame.DataFrame'>\n",
      "RangeIndex: 517783 entries, 0 to 517782\n",
      "Data columns (total 7 columns):\n",
      " #   Column             Non-Null Count   Dtype\n",
      "---  ------             --------------   -----\n",
      " 0   Major              517783 non-null  int64\n",
      " 1   Minor              517783 non-null  int64\n",
      " 2   NbrLivingUnits     517783 non-null  int64\n",
      " 3   SqFtTotLiving      517783 non-null  int64\n",
      " 4   SqFtOpenPorch      517783 non-null  int64\n",
      " 5   SqFtEnclosedPorch  517783 non-null  int64\n",
      " 6   Has_Porch          517783 non-null  int64\n",
      "dtypes: int64(7)\n",
      "memory usage: 27.7 MB\n"
     ]
    }
   ],
   "source": [
    "residential_building.info()"
   ]
  },
  {
   "cell_type": "markdown",
   "metadata": {},
   "source": [
    "## Clean Data and Filter For Needed Info"
   ]
  },
  {
   "cell_type": "code",
   "execution_count": 31,
   "metadata": {},
   "outputs": [],
   "source": [
    "# Real Property Sales\n",
    "# Identifyers are Major and Minor. Relevant data is SalePrice\n",
    "# Clean real_property_sales to have proper values in Minor and Major and change type to int to match other data sets\n",
    "real_property_sales = real_property_sales[['Major', 'Minor', 'SalePrice', 'DocumentDate']]\n",
    "real_property_sales = real_property_sales[(real_property_sales['Major'].str.isdecimal()==True) &\n",
    "                                          (real_property_sales['Minor'].str.isdecimal()==True)]\n",
    "real_property_sales['Major'] = real_property_sales['Major'].astype('int64')\n",
    "real_property_sales['Minor'] = real_property_sales['Minor'].astype('int64')\n",
    "real_property_sales = real_property_sales[real_property_sales['SalePrice']>0]"
   ]
  },
  {
   "cell_type": "code",
   "execution_count": 32,
   "metadata": {},
   "outputs": [
    {
     "data": {
      "text/html": [
       "<div>\n",
       "<style scoped>\n",
       "    .dataframe tbody tr th:only-of-type {\n",
       "        vertical-align: middle;\n",
       "    }\n",
       "\n",
       "    .dataframe tbody tr th {\n",
       "        vertical-align: top;\n",
       "    }\n",
       "\n",
       "    .dataframe thead th {\n",
       "        text-align: right;\n",
       "    }\n",
       "</style>\n",
       "<table border=\"1\" class=\"dataframe\">\n",
       "  <thead>\n",
       "    <tr style=\"text-align: right;\">\n",
       "      <th></th>\n",
       "      <th>Major</th>\n",
       "      <th>Minor</th>\n",
       "      <th>SalePrice</th>\n",
       "      <th>DocumentDate</th>\n",
       "    </tr>\n",
       "  </thead>\n",
       "  <tbody>\n",
       "    <tr>\n",
       "      <th>0</th>\n",
       "      <td>138860</td>\n",
       "      <td>110</td>\n",
       "      <td>245000</td>\n",
       "      <td>08/21/2014</td>\n",
       "    </tr>\n",
       "    <tr>\n",
       "      <th>4</th>\n",
       "      <td>213043</td>\n",
       "      <td>120</td>\n",
       "      <td>560000</td>\n",
       "      <td>12/20/2019</td>\n",
       "    </tr>\n",
       "    <tr>\n",
       "      <th>5</th>\n",
       "      <td>951120</td>\n",
       "      <td>900</td>\n",
       "      <td>85000</td>\n",
       "      <td>04/20/1989</td>\n",
       "    </tr>\n",
       "    <tr>\n",
       "      <th>7</th>\n",
       "      <td>122209</td>\n",
       "      <td>9002</td>\n",
       "      <td>5755000</td>\n",
       "      <td>04/25/2001</td>\n",
       "    </tr>\n",
       "    <tr>\n",
       "      <th>8</th>\n",
       "      <td>122209</td>\n",
       "      <td>9001</td>\n",
       "      <td>5755000</td>\n",
       "      <td>04/25/2001</td>\n",
       "    </tr>\n",
       "  </tbody>\n",
       "</table>\n",
       "</div>"
      ],
      "text/plain": [
       "    Major  Minor  SalePrice DocumentDate\n",
       "0  138860    110     245000   08/21/2014\n",
       "4  213043    120     560000   12/20/2019\n",
       "5  951120    900      85000   04/20/1989\n",
       "7  122209   9002    5755000   04/25/2001\n",
       "8  122209   9001    5755000   04/25/2001"
      ]
     },
     "execution_count": 32,
     "metadata": {},
     "output_type": "execute_result"
    }
   ],
   "source": [
    "real_property_sales.head()"
   ]
  },
  {
   "cell_type": "code",
   "execution_count": 33,
   "metadata": {},
   "outputs": [
    {
     "name": "stdout",
     "output_type": "stream",
     "text": [
      "<class 'pandas.core.frame.DataFrame'>\n",
      "RangeIndex: 616089 entries, 0 to 616088\n",
      "Data columns (total 8 columns):\n",
      " #   Column          Non-Null Count   Dtype \n",
      "---  ------          --------------   ----- \n",
      " 0   Major           616089 non-null  int64 \n",
      " 1   Minor           616089 non-null  int64 \n",
      " 2   SqFtLot         616089 non-null  int64 \n",
      " 3   WfntLocation    616089 non-null  int64 \n",
      " 4   TrafficNoise    616089 non-null  int64 \n",
      " 5   AirportNoise    616089 non-null  int64 \n",
      " 6   PowerLines      616089 non-null  object\n",
      " 7   OtherNuisances  616089 non-null  object\n",
      "dtypes: int64(6), object(2)\n",
      "memory usage: 37.6+ MB\n"
     ]
    }
   ],
   "source": [
    "# Parcel Filter for Necessary Columns\n",
    "parcel = parcel[['Major', 'Minor', 'SqFtLot', 'WfntLocation', 'TrafficNoise', 'AirportNoise', 'PowerLines', 'OtherNuisances']]\n",
    "parcel.info()"
   ]
  },
  {
   "cell_type": "code",
   "execution_count": 34,
   "metadata": {},
   "outputs": [],
   "source": [
    "# Residential Buiding Filter For Necessary Columns\n",
    "residential_building = residential_building[['Major', 'Minor', 'NbrLivingUnits', 'SqFtTotLiving', 'SqFtOpenPorch', 'SqFtEnclosedPorch']]"
   ]
  },
  {
   "cell_type": "code",
   "execution_count": 35,
   "metadata": {
    "scrolled": true
   },
   "outputs": [],
   "source": [
    "# Create a column Has_Porch\n",
    "residential_building['Has_Porch']= residential_building['SqFtOpenPorch'] + residential_building['SqFtEnclosedPorch']\n",
    "residential_building['Has_Porch'] = [1  if p>0 else 0 for p in residential_building['Has_Porch']]"
   ]
  },
  {
   "cell_type": "code",
   "execution_count": 36,
   "metadata": {},
   "outputs": [
    {
     "name": "stdout",
     "output_type": "stream",
     "text": [
      "<class 'pandas.core.frame.DataFrame'>\n",
      "RangeIndex: 517783 entries, 0 to 517782\n",
      "Data columns (total 7 columns):\n",
      " #   Column             Non-Null Count   Dtype\n",
      "---  ------             --------------   -----\n",
      " 0   Major              517783 non-null  int64\n",
      " 1   Minor              517783 non-null  int64\n",
      " 2   NbrLivingUnits     517783 non-null  int64\n",
      " 3   SqFtTotLiving      517783 non-null  int64\n",
      " 4   SqFtOpenPorch      517783 non-null  int64\n",
      " 5   SqFtEnclosedPorch  517783 non-null  int64\n",
      " 6   Has_Porch          517783 non-null  int64\n",
      "dtypes: int64(7)\n",
      "memory usage: 27.7 MB\n"
     ]
    }
   ],
   "source": [
    "residential_building.info()"
   ]
  },
  {
   "cell_type": "code",
   "execution_count": 37,
   "metadata": {},
   "outputs": [],
   "source": [
    "# Join all the tables on Major, Minor\n",
    "# Have duplicate buildings sold at different dates. Need to only keep latest dates\n",
    "merged_tables = real_property_sales.merge(parcel).merge(residential_building).drop_duplicates()\n",
    "# Change dates to date time format\n",
    "merged_tables['DocumentDate'] = pd.to_datetime(merged_tables['DocumentDate'])"
   ]
  },
  {
   "cell_type": "code",
   "execution_count": 38,
   "metadata": {
    "scrolled": true
   },
   "outputs": [],
   "source": [
    "#Keeping only the most recent Sale_Price\n",
    "buildings_df = merged_tables.sort_values('DocumentDate').drop_duplicates(['Major', 'Minor'],keep='first')"
   ]
  },
  {
   "cell_type": "code",
   "execution_count": 39,
   "metadata": {},
   "outputs": [
    {
     "data": {
      "text/html": [
       "<div>\n",
       "<style scoped>\n",
       "    .dataframe tbody tr th:only-of-type {\n",
       "        vertical-align: middle;\n",
       "    }\n",
       "\n",
       "    .dataframe tbody tr th {\n",
       "        vertical-align: top;\n",
       "    }\n",
       "\n",
       "    .dataframe thead th {\n",
       "        text-align: right;\n",
       "    }\n",
       "</style>\n",
       "<table border=\"1\" class=\"dataframe\">\n",
       "  <thead>\n",
       "    <tr style=\"text-align: right;\">\n",
       "      <th></th>\n",
       "      <th>Major</th>\n",
       "      <th>Minor</th>\n",
       "      <th>SalePrice</th>\n",
       "      <th>DocumentDate</th>\n",
       "      <th>SqFtLot</th>\n",
       "      <th>WfntLocation</th>\n",
       "      <th>TrafficNoise</th>\n",
       "      <th>AirportNoise</th>\n",
       "      <th>PowerLines</th>\n",
       "      <th>OtherNuisances</th>\n",
       "      <th>NbrLivingUnits</th>\n",
       "      <th>SqFtTotLiving</th>\n",
       "      <th>SqFtOpenPorch</th>\n",
       "      <th>SqFtEnclosedPorch</th>\n",
       "      <th>Has_Porch</th>\n",
       "    </tr>\n",
       "  </thead>\n",
       "  <tbody>\n",
       "    <tr>\n",
       "      <th>705940</th>\n",
       "      <td>514510</td>\n",
       "      <td>250</td>\n",
       "      <td>125000</td>\n",
       "      <td>1934-11-11</td>\n",
       "      <td>7041</td>\n",
       "      <td>0</td>\n",
       "      <td>0</td>\n",
       "      <td>0</td>\n",
       "      <td>N</td>\n",
       "      <td>N</td>\n",
       "      <td>1</td>\n",
       "      <td>910</td>\n",
       "      <td>0</td>\n",
       "      <td>0</td>\n",
       "      <td>0</td>\n",
       "    </tr>\n",
       "    <tr>\n",
       "      <th>443490</th>\n",
       "      <td>718680</td>\n",
       "      <td>30</td>\n",
       "      <td>600</td>\n",
       "      <td>1954-03-11</td>\n",
       "      <td>9345</td>\n",
       "      <td>0</td>\n",
       "      <td>0</td>\n",
       "      <td>0</td>\n",
       "      <td>N</td>\n",
       "      <td>N</td>\n",
       "      <td>1</td>\n",
       "      <td>1380</td>\n",
       "      <td>40</td>\n",
       "      <td>0</td>\n",
       "      <td>1</td>\n",
       "    </tr>\n",
       "    <tr>\n",
       "      <th>653999</th>\n",
       "      <td>245840</td>\n",
       "      <td>30</td>\n",
       "      <td>9500</td>\n",
       "      <td>1955-04-15</td>\n",
       "      <td>6300</td>\n",
       "      <td>0</td>\n",
       "      <td>1</td>\n",
       "      <td>0</td>\n",
       "      <td>N</td>\n",
       "      <td>N</td>\n",
       "      <td>1</td>\n",
       "      <td>820</td>\n",
       "      <td>0</td>\n",
       "      <td>0</td>\n",
       "      <td>0</td>\n",
       "    </tr>\n",
       "    <tr>\n",
       "      <th>962419</th>\n",
       "      <td>222470</td>\n",
       "      <td>151</td>\n",
       "      <td>12250</td>\n",
       "      <td>1959-10-10</td>\n",
       "      <td>11115</td>\n",
       "      <td>0</td>\n",
       "      <td>1</td>\n",
       "      <td>0</td>\n",
       "      <td>N</td>\n",
       "      <td>N</td>\n",
       "      <td>1</td>\n",
       "      <td>2090</td>\n",
       "      <td>0</td>\n",
       "      <td>0</td>\n",
       "      <td>0</td>\n",
       "    </tr>\n",
       "    <tr>\n",
       "      <th>235295</th>\n",
       "      <td>503180</td>\n",
       "      <td>251</td>\n",
       "      <td>2300</td>\n",
       "      <td>1960-09-27</td>\n",
       "      <td>19064</td>\n",
       "      <td>3</td>\n",
       "      <td>0</td>\n",
       "      <td>0</td>\n",
       "      <td>N</td>\n",
       "      <td>N</td>\n",
       "      <td>1</td>\n",
       "      <td>1140</td>\n",
       "      <td>40</td>\n",
       "      <td>0</td>\n",
       "      <td>1</td>\n",
       "    </tr>\n",
       "    <tr>\n",
       "      <th>...</th>\n",
       "      <td>...</td>\n",
       "      <td>...</td>\n",
       "      <td>...</td>\n",
       "      <td>...</td>\n",
       "      <td>...</td>\n",
       "      <td>...</td>\n",
       "      <td>...</td>\n",
       "      <td>...</td>\n",
       "      <td>...</td>\n",
       "      <td>...</td>\n",
       "      <td>...</td>\n",
       "      <td>...</td>\n",
       "      <td>...</td>\n",
       "      <td>...</td>\n",
       "      <td>...</td>\n",
       "    </tr>\n",
       "    <tr>\n",
       "      <th>900477</th>\n",
       "      <td>241990</td>\n",
       "      <td>45</td>\n",
       "      <td>642000</td>\n",
       "      <td>2020-09-08</td>\n",
       "      <td>11054</td>\n",
       "      <td>0</td>\n",
       "      <td>0</td>\n",
       "      <td>0</td>\n",
       "      <td>N</td>\n",
       "      <td>N</td>\n",
       "      <td>1</td>\n",
       "      <td>1510</td>\n",
       "      <td>0</td>\n",
       "      <td>0</td>\n",
       "      <td>0</td>\n",
       "    </tr>\n",
       "    <tr>\n",
       "      <th>366504</th>\n",
       "      <td>327530</td>\n",
       "      <td>150</td>\n",
       "      <td>393000</td>\n",
       "      <td>2020-09-09</td>\n",
       "      <td>9500</td>\n",
       "      <td>0</td>\n",
       "      <td>0</td>\n",
       "      <td>0</td>\n",
       "      <td>N</td>\n",
       "      <td>N</td>\n",
       "      <td>1</td>\n",
       "      <td>1250</td>\n",
       "      <td>110</td>\n",
       "      <td>0</td>\n",
       "      <td>1</td>\n",
       "    </tr>\n",
       "    <tr>\n",
       "      <th>925600</th>\n",
       "      <td>797260</td>\n",
       "      <td>2865</td>\n",
       "      <td>590000</td>\n",
       "      <td>2020-09-09</td>\n",
       "      <td>10275</td>\n",
       "      <td>0</td>\n",
       "      <td>0</td>\n",
       "      <td>0</td>\n",
       "      <td>N</td>\n",
       "      <td>N</td>\n",
       "      <td>1</td>\n",
       "      <td>1660</td>\n",
       "      <td>40</td>\n",
       "      <td>0</td>\n",
       "      <td>1</td>\n",
       "    </tr>\n",
       "    <tr>\n",
       "      <th>960304</th>\n",
       "      <td>330070</td>\n",
       "      <td>280</td>\n",
       "      <td>535000</td>\n",
       "      <td>2020-09-09</td>\n",
       "      <td>4000</td>\n",
       "      <td>0</td>\n",
       "      <td>0</td>\n",
       "      <td>0</td>\n",
       "      <td>N</td>\n",
       "      <td>N</td>\n",
       "      <td>1</td>\n",
       "      <td>700</td>\n",
       "      <td>0</td>\n",
       "      <td>0</td>\n",
       "      <td>0</td>\n",
       "    </tr>\n",
       "    <tr>\n",
       "      <th>387831</th>\n",
       "      <td>524480</td>\n",
       "      <td>1190</td>\n",
       "      <td>750000</td>\n",
       "      <td>2020-09-09</td>\n",
       "      <td>4200</td>\n",
       "      <td>0</td>\n",
       "      <td>0</td>\n",
       "      <td>0</td>\n",
       "      <td>N</td>\n",
       "      <td>N</td>\n",
       "      <td>1</td>\n",
       "      <td>1290</td>\n",
       "      <td>290</td>\n",
       "      <td>0</td>\n",
       "      <td>1</td>\n",
       "    </tr>\n",
       "  </tbody>\n",
       "</table>\n",
       "<p>447071 rows × 15 columns</p>\n",
       "</div>"
      ],
      "text/plain": [
       "         Major  Minor  SalePrice DocumentDate  SqFtLot  WfntLocation  \\\n",
       "705940  514510    250     125000   1934-11-11     7041             0   \n",
       "443490  718680     30        600   1954-03-11     9345             0   \n",
       "653999  245840     30       9500   1955-04-15     6300             0   \n",
       "962419  222470    151      12250   1959-10-10    11115             0   \n",
       "235295  503180    251       2300   1960-09-27    19064             3   \n",
       "...        ...    ...        ...          ...      ...           ...   \n",
       "900477  241990     45     642000   2020-09-08    11054             0   \n",
       "366504  327530    150     393000   2020-09-09     9500             0   \n",
       "925600  797260   2865     590000   2020-09-09    10275             0   \n",
       "960304  330070    280     535000   2020-09-09     4000             0   \n",
       "387831  524480   1190     750000   2020-09-09     4200             0   \n",
       "\n",
       "        TrafficNoise  AirportNoise PowerLines OtherNuisances  NbrLivingUnits  \\\n",
       "705940             0             0          N              N               1   \n",
       "443490             0             0          N              N               1   \n",
       "653999             1             0          N              N               1   \n",
       "962419             1             0          N              N               1   \n",
       "235295             0             0          N              N               1   \n",
       "...              ...           ...        ...            ...             ...   \n",
       "900477             0             0          N              N               1   \n",
       "366504             0             0          N              N               1   \n",
       "925600             0             0          N              N               1   \n",
       "960304             0             0          N              N               1   \n",
       "387831             0             0          N              N               1   \n",
       "\n",
       "        SqFtTotLiving  SqFtOpenPorch  SqFtEnclosedPorch  Has_Porch  \n",
       "705940            910              0                  0          0  \n",
       "443490           1380             40                  0          1  \n",
       "653999            820              0                  0          0  \n",
       "962419           2090              0                  0          0  \n",
       "235295           1140             40                  0          1  \n",
       "...               ...            ...                ...        ...  \n",
       "900477           1510              0                  0          0  \n",
       "366504           1250            110                  0          1  \n",
       "925600           1660             40                  0          1  \n",
       "960304            700              0                  0          0  \n",
       "387831           1290            290                  0          1  \n",
       "\n",
       "[447071 rows x 15 columns]"
      ]
     },
     "execution_count": 39,
     "metadata": {},
     "output_type": "execute_result"
    }
   ],
   "source": [
    "df_test = buildings_df.sort_values('DocumentDate')\n",
    "df_test"
   ]
  },
  {
   "cell_type": "code",
   "execution_count": 77,
   "metadata": {},
   "outputs": [],
   "source": [
    "# Check x if have the relevant data to answer question\n",
    "# [x]Higher square footage increases home sale price1, 2\n",
    "# [x]Having a porch increases home sale price3, 4\n",
    "# [x]Having a beachfront or lakefront increases home sale price5\n",
    "# [x]The house filling a higher proportion of the overall lot decreases home sale price6\n",
    "# [x]The cost per square foot is lower in duplexes than in single-family homes7\n",
    "# [x]The presence of a nuisance (power lines, traffic noise, airport noise) decreases home sale price1, 5"
   ]
  },
  {
   "cell_type": "markdown",
   "metadata": {},
   "source": [
    "## Graphical EDA"
   ]
  },
  {
   "cell_type": "code",
   "execution_count": 13,
   "metadata": {},
   "outputs": [],
   "source": [
    "import matplotlib.pyplot as plt\n",
    "import seaborn as sns"
   ]
  },
  {
   "cell_type": "code",
   "execution_count": 14,
   "metadata": {},
   "outputs": [
    {
     "data": {
      "image/png": "[encoded data removed]",
      "text/plain": [
       "<Figure size 432x288 with 1 Axes>"
      ]
     },
     "metadata": {
      "needs_background": "light"
     },
     "output_type": "display_data"
    }
   ],
   "source": [
    "sns.barplot(df['Has_Porch'], df['SalePrice']);\n",
    "\n",
    "\n"
   ]
  },
  {
   "cell_type": "code",
   "execution_count": 15,
   "metadata": {},
   "outputs": [
    {
     "data": {
      "image/png": "[encoded data removed]",
      "text/plain": [
       "<Figure size 432x288 with 1 Axes>"
      ]
     },
     "metadata": {
      "needs_background": "light"
     },
     "output_type": "display_data"
    }
   ],
   "source": [
    "sns.scatterplot(df['SqFtTotLiving'], df['SalePrice']);\n",
    "\n",
    "\n"
   ]
  },
  {
   "cell_type": "code",
   "execution_count": 64,
   "metadata": {},
   "outputs": [
    {
     "data": {
      "image/png": "[encoded data removed]",
      "text/plain": [
       "<Figure size 432x288 with 1 Axes>"
      ]
     },
     "metadata": {
      "needs_background": "light"
     },
     "output_type": "display_data"
    }
   ],
   "source": [
    "sns.barplot(df['Is_WaterFrontLocation'], df['SalePrice']);"
   ]
  },
  {
   "cell_type": "code",
   "execution_count": 343,
   "metadata": {},
   "outputs": [
    {
     "data": {
      "text/html": [
       "<div>\n",
       "<style scoped>\n",
       "    .dataframe tbody tr th:only-of-type {\n",
       "        vertical-align: middle;\n",
       "    }\n",
       "\n",
       "    .dataframe tbody tr th {\n",
       "        vertical-align: top;\n",
       "    }\n",
       "\n",
       "    .dataframe thead th {\n",
       "        text-align: right;\n",
       "    }\n",
       "</style>\n",
       "<table border=\"1\" class=\"dataframe\">\n",
       "  <thead>\n",
       "    <tr style=\"text-align: right;\">\n",
       "      <th></th>\n",
       "      <th>Unnamed: 0</th>\n",
       "      <th>Major</th>\n",
       "      <th>Minor</th>\n",
       "      <th>ZipCode</th>\n",
       "      <th>DocumentDate</th>\n",
       "      <th>SalePrice</th>\n",
       "      <th>SqFtLot</th>\n",
       "      <th>SqFtTotLiving</th>\n",
       "      <th>Nuisances</th>\n",
       "      <th>Has_Nuisance</th>\n",
       "      <th>...</th>\n",
       "      <th>Has_OpenPorch</th>\n",
       "      <th>Has_EnclosedPorch</th>\n",
       "      <th>NbrLivingUnits</th>\n",
       "      <th>View_MtRainier</th>\n",
       "      <th>View_Olympics</th>\n",
       "      <th>View_Cascades</th>\n",
       "      <th>View_PugetSound</th>\n",
       "      <th>View_LakeWashington</th>\n",
       "      <th>View_LakeSammamish</th>\n",
       "      <th>View_SmallLakeRiverCreek</th>\n",
       "    </tr>\n",
       "  </thead>\n",
       "  <tbody>\n",
       "    <tr>\n",
       "      <th>0</th>\n",
       "      <td>0</td>\n",
       "      <td>100</td>\n",
       "      <td>67</td>\n",
       "      <td>98002</td>\n",
       "      <td>2019-04-01</td>\n",
       "      <td>310800</td>\n",
       "      <td>17400</td>\n",
       "      <td>2240</td>\n",
       "      <td>No Nuisances</td>\n",
       "      <td>0</td>\n",
       "      <td>...</td>\n",
       "      <td>1</td>\n",
       "      <td>0</td>\n",
       "      <td>1</td>\n",
       "      <td>0</td>\n",
       "      <td>0</td>\n",
       "      <td>0</td>\n",
       "      <td>0</td>\n",
       "      <td>0</td>\n",
       "      <td>0</td>\n",
       "      <td>0</td>\n",
       "    </tr>\n",
       "    <tr>\n",
       "      <th>1</th>\n",
       "      <td>1</td>\n",
       "      <td>100</td>\n",
       "      <td>66</td>\n",
       "      <td>98002</td>\n",
       "      <td>2019-10-22</td>\n",
       "      <td>339000</td>\n",
       "      <td>14500</td>\n",
       "      <td>1200</td>\n",
       "      <td>No Nuisances</td>\n",
       "      <td>0</td>\n",
       "      <td>...</td>\n",
       "      <td>1</td>\n",
       "      <td>0</td>\n",
       "      <td>1</td>\n",
       "      <td>0</td>\n",
       "      <td>0</td>\n",
       "      <td>0</td>\n",
       "      <td>0</td>\n",
       "      <td>0</td>\n",
       "      <td>0</td>\n",
       "      <td>0</td>\n",
       "    </tr>\n",
       "    <tr>\n",
       "      <th>2</th>\n",
       "      <td>2</td>\n",
       "      <td>100</td>\n",
       "      <td>42</td>\n",
       "      <td>98002</td>\n",
       "      <td>2019-10-29</td>\n",
       "      <td>485500</td>\n",
       "      <td>6002</td>\n",
       "      <td>2134</td>\n",
       "      <td>No Nuisances</td>\n",
       "      <td>0</td>\n",
       "      <td>...</td>\n",
       "      <td>1</td>\n",
       "      <td>0</td>\n",
       "      <td>1</td>\n",
       "      <td>0</td>\n",
       "      <td>0</td>\n",
       "      <td>0</td>\n",
       "      <td>0</td>\n",
       "      <td>0</td>\n",
       "      <td>0</td>\n",
       "      <td>0</td>\n",
       "    </tr>\n",
       "    <tr>\n",
       "      <th>3</th>\n",
       "      <td>3</td>\n",
       "      <td>120</td>\n",
       "      <td>8</td>\n",
       "      <td>98166</td>\n",
       "      <td>2019-05-17</td>\n",
       "      <td>850000</td>\n",
       "      <td>24142</td>\n",
       "      <td>3500</td>\n",
       "      <td>No Nuisances</td>\n",
       "      <td>0</td>\n",
       "      <td>...</td>\n",
       "      <td>0</td>\n",
       "      <td>0</td>\n",
       "      <td>1</td>\n",
       "      <td>0</td>\n",
       "      <td>0</td>\n",
       "      <td>0</td>\n",
       "      <td>0</td>\n",
       "      <td>0</td>\n",
       "      <td>0</td>\n",
       "      <td>0</td>\n",
       "    </tr>\n",
       "    <tr>\n",
       "      <th>4</th>\n",
       "      <td>4</td>\n",
       "      <td>140</td>\n",
       "      <td>27</td>\n",
       "      <td>98178</td>\n",
       "      <td>2019-05-28</td>\n",
       "      <td>535000</td>\n",
       "      <td>14208</td>\n",
       "      <td>2170</td>\n",
       "      <td>Traffic Noise</td>\n",
       "      <td>1</td>\n",
       "      <td>...</td>\n",
       "      <td>0</td>\n",
       "      <td>0</td>\n",
       "      <td>1</td>\n",
       "      <td>0</td>\n",
       "      <td>0</td>\n",
       "      <td>0</td>\n",
       "      <td>0</td>\n",
       "      <td>0</td>\n",
       "      <td>0</td>\n",
       "      <td>0</td>\n",
       "    </tr>\n",
       "  </tbody>\n",
       "</table>\n",
       "<p>5 rows × 26 columns</p>\n",
       "</div>"
      ],
      "text/plain": [
       "   Unnamed: 0  Major  Minor  ZipCode DocumentDate  SalePrice  SqFtLot  \\\n",
       "0           0    100     67    98002   2019-04-01     310800    17400   \n",
       "1           1    100     66    98002   2019-10-22     339000    14500   \n",
       "2           2    100     42    98002   2019-10-29     485500     6002   \n",
       "3           3    120      8    98166   2019-05-17     850000    24142   \n",
       "4           4    140     27    98178   2019-05-28     535000    14208   \n",
       "\n",
       "   SqFtTotLiving      Nuisances  Has_Nuisance  ...  Has_OpenPorch  \\\n",
       "0           2240   No Nuisances             0  ...              1   \n",
       "1           1200   No Nuisances             0  ...              1   \n",
       "2           2134   No Nuisances             0  ...              1   \n",
       "3           3500   No Nuisances             0  ...              0   \n",
       "4           2170  Traffic Noise             1  ...              0   \n",
       "\n",
       "   Has_EnclosedPorch  NbrLivingUnits  View_MtRainier View_Olympics  \\\n",
       "0                  0               1               0             0   \n",
       "1                  0               1               0             0   \n",
       "2                  0               1               0             0   \n",
       "3                  0               1               0             0   \n",
       "4                  0               1               0             0   \n",
       "\n",
       "   View_Cascades  View_PugetSound  View_LakeWashington  View_LakeSammamish  \\\n",
       "0              0                0                    0                   0   \n",
       "1              0                0                    0                   0   \n",
       "2              0                0                    0                   0   \n",
       "3              0                0                    0                   0   \n",
       "4              0                0                    0                   0   \n",
       "\n",
       "   View_SmallLakeRiverCreek  \n",
       "0                         0  \n",
       "1                         0  \n",
       "2                         0  \n",
       "3                         0  \n",
       "4                         0  \n",
       "\n",
       "[5 rows x 26 columns]"
      ]
     },
     "execution_count": 343,
     "metadata": {},
     "output_type": "execute_result"
    }
   ],
   "source": [
    "df = pd.read_csv('../../data/clean/KingCountyHousingData.csv')\n",
    "df.head()\n"
   ]
  },
  {
   "cell_type": "code",
   "execution_count": 207,
   "metadata": {},
   "outputs": [],
   "source": [
    "#df.hist(figsize=(18,15), bins='auto');"
   ]
  },
  {
   "cell_type": "code",
   "execution_count": 344,
   "metadata": {},
   "outputs": [
    {
     "data": {
      "text/html": [
       "<div>\n",
       "<style scoped>\n",
       "    .dataframe tbody tr th:only-of-type {\n",
       "        vertical-align: middle;\n",
       "    }\n",
       "\n",
       "    .dataframe tbody tr th {\n",
       "        vertical-align: top;\n",
       "    }\n",
       "\n",
       "    .dataframe thead th {\n",
       "        text-align: right;\n",
       "    }\n",
       "</style>\n",
       "<table border=\"1\" class=\"dataframe\">\n",
       "  <thead>\n",
       "    <tr style=\"text-align: right;\">\n",
       "      <th></th>\n",
       "      <th>Duwamish</th>\n",
       "      <th>Lake Sammamish</th>\n",
       "      <th>Lake Union</th>\n",
       "      <th>Lake Washington</th>\n",
       "      <th>Other lake</th>\n",
       "      <th>Puget Sound</th>\n",
       "      <th>River or slough</th>\n",
       "      <th>Ship Canal</th>\n",
       "    </tr>\n",
       "  </thead>\n",
       "  <tbody>\n",
       "    <tr>\n",
       "      <th>0</th>\n",
       "      <td>0</td>\n",
       "      <td>0</td>\n",
       "      <td>0</td>\n",
       "      <td>0</td>\n",
       "      <td>0</td>\n",
       "      <td>0</td>\n",
       "      <td>0</td>\n",
       "      <td>0</td>\n",
       "    </tr>\n",
       "    <tr>\n",
       "      <th>1</th>\n",
       "      <td>0</td>\n",
       "      <td>0</td>\n",
       "      <td>0</td>\n",
       "      <td>0</td>\n",
       "      <td>0</td>\n",
       "      <td>0</td>\n",
       "      <td>0</td>\n",
       "      <td>0</td>\n",
       "    </tr>\n",
       "    <tr>\n",
       "      <th>2</th>\n",
       "      <td>0</td>\n",
       "      <td>0</td>\n",
       "      <td>0</td>\n",
       "      <td>0</td>\n",
       "      <td>0</td>\n",
       "      <td>0</td>\n",
       "      <td>0</td>\n",
       "      <td>0</td>\n",
       "    </tr>\n",
       "    <tr>\n",
       "      <th>3</th>\n",
       "      <td>0</td>\n",
       "      <td>0</td>\n",
       "      <td>0</td>\n",
       "      <td>0</td>\n",
       "      <td>0</td>\n",
       "      <td>0</td>\n",
       "      <td>0</td>\n",
       "      <td>0</td>\n",
       "    </tr>\n",
       "    <tr>\n",
       "      <th>4</th>\n",
       "      <td>0</td>\n",
       "      <td>0</td>\n",
       "      <td>0</td>\n",
       "      <td>0</td>\n",
       "      <td>0</td>\n",
       "      <td>0</td>\n",
       "      <td>0</td>\n",
       "      <td>0</td>\n",
       "    </tr>\n",
       "    <tr>\n",
       "      <th>...</th>\n",
       "      <td>...</td>\n",
       "      <td>...</td>\n",
       "      <td>...</td>\n",
       "      <td>...</td>\n",
       "      <td>...</td>\n",
       "      <td>...</td>\n",
       "      <td>...</td>\n",
       "      <td>...</td>\n",
       "    </tr>\n",
       "    <tr>\n",
       "      <th>27809</th>\n",
       "      <td>0</td>\n",
       "      <td>0</td>\n",
       "      <td>0</td>\n",
       "      <td>0</td>\n",
       "      <td>0</td>\n",
       "      <td>0</td>\n",
       "      <td>0</td>\n",
       "      <td>0</td>\n",
       "    </tr>\n",
       "    <tr>\n",
       "      <th>27810</th>\n",
       "      <td>0</td>\n",
       "      <td>0</td>\n",
       "      <td>0</td>\n",
       "      <td>0</td>\n",
       "      <td>0</td>\n",
       "      <td>0</td>\n",
       "      <td>0</td>\n",
       "      <td>0</td>\n",
       "    </tr>\n",
       "    <tr>\n",
       "      <th>27811</th>\n",
       "      <td>0</td>\n",
       "      <td>0</td>\n",
       "      <td>0</td>\n",
       "      <td>0</td>\n",
       "      <td>0</td>\n",
       "      <td>0</td>\n",
       "      <td>0</td>\n",
       "      <td>0</td>\n",
       "    </tr>\n",
       "    <tr>\n",
       "      <th>27812</th>\n",
       "      <td>0</td>\n",
       "      <td>0</td>\n",
       "      <td>0</td>\n",
       "      <td>0</td>\n",
       "      <td>0</td>\n",
       "      <td>0</td>\n",
       "      <td>0</td>\n",
       "      <td>0</td>\n",
       "    </tr>\n",
       "    <tr>\n",
       "      <th>27813</th>\n",
       "      <td>0</td>\n",
       "      <td>0</td>\n",
       "      <td>0</td>\n",
       "      <td>0</td>\n",
       "      <td>0</td>\n",
       "      <td>0</td>\n",
       "      <td>0</td>\n",
       "      <td>0</td>\n",
       "    </tr>\n",
       "  </tbody>\n",
       "</table>\n",
       "<p>27814 rows × 8 columns</p>\n",
       "</div>"
      ],
      "text/plain": [
       "       Duwamish  Lake Sammamish  Lake Union  Lake Washington  Other lake  \\\n",
       "0             0               0           0                0           0   \n",
       "1             0               0           0                0           0   \n",
       "2             0               0           0                0           0   \n",
       "3             0               0           0                0           0   \n",
       "4             0               0           0                0           0   \n",
       "...         ...             ...         ...              ...         ...   \n",
       "27809         0               0           0                0           0   \n",
       "27810         0               0           0                0           0   \n",
       "27811         0               0           0                0           0   \n",
       "27812         0               0           0                0           0   \n",
       "27813         0               0           0                0           0   \n",
       "\n",
       "       Puget Sound  River or slough  Ship Canal  \n",
       "0                0                0           0  \n",
       "1                0                0           0  \n",
       "2                0                0           0  \n",
       "3                0                0           0  \n",
       "4                0                0           0  \n",
       "...            ...              ...         ...  \n",
       "27809            0                0           0  \n",
       "27810            0                0           0  \n",
       "27811            0                0           0  \n",
       "27812            0                0           0  \n",
       "27813            0                0           0  \n",
       "\n",
       "[27814 rows x 8 columns]"
      ]
     },
     "execution_count": 344,
     "metadata": {},
     "output_type": "execute_result"
    }
   ],
   "source": [
    "df_water_dummie =pd.get_dummies(df['WaterFrontLocation'])\n",
    "df_water_dummie.drop('None', axis= 1, inplace=True)\n",
    "#df_water_dummie['SqFtTotLiving'] = df.SqFtTotLiving\n",
    "df_water_dummie\n"
   ]
  },
  {
   "cell_type": "code",
   "execution_count": 209,
   "metadata": {},
   "outputs": [],
   "source": [
    "from sklearn.linear_model import LinearRegression\n",
    "\n"
   ]
  },
  {
   "cell_type": "code",
   "execution_count": 210,
   "metadata": {},
   "outputs": [
    {
     "data": {
      "text/plain": [
       "LinearRegression()"
      ]
     },
     "execution_count": 210,
     "metadata": {},
     "output_type": "execute_result"
    }
   ],
   "source": [
    "lr = LinearRegression()\n",
    "lr.fit(df_water_dummie, df['SalePrice'])\n",
    "#lr.__dict__\n"
   ]
  },
  {
   "cell_type": "code",
   "execution_count": 211,
   "metadata": {},
   "outputs": [
    {
     "data": {
      "text/plain": [
       "0.39382491267103936"
      ]
     },
     "execution_count": 211,
     "metadata": {},
     "output_type": "execute_result"
    }
   ],
   "source": [
    "lr.score(df_water_dummie, df['SalePrice'])\n",
    "\n"
   ]
  },
  {
   "cell_type": "code",
   "execution_count": 212,
   "metadata": {},
   "outputs": [
    {
     "data": {
      "text/plain": [
       "array([-8.64230198e+03,  1.82451159e+06,  3.66917232e+05,  2.08094891e+06,\n",
       "        3.48825330e+04,  4.17368854e+05,  4.61416527e+04,  8.82451221e+05,\n",
       "        3.35148305e+02])"
      ]
     },
     "execution_count": 212,
     "metadata": {},
     "output_type": "execute_result"
    }
   ],
   "source": [
    "lr.coef_\n",
    "\n"
   ]
  },
  {
   "cell_type": "code",
   "execution_count": 213,
   "metadata": {},
   "outputs": [
    {
     "name": "stdout",
     "output_type": "stream",
     "text": [
      "Duwamish -8642.301984721033\n",
      "Lake Sammamish 1824511.5948370975\n",
      "Lake Union 366917.232058954\n",
      "Lake Washington 2080948.9118916402\n",
      "Other lake 34882.53301025234\n",
      "Puget Sound 417368.85403985356\n",
      "River or slough 46141.652652212695\n",
      "Ship Canal 882451.2212115147\n",
      "SqFtTotLiving 335.148304847272\n"
     ]
    }
   ],
   "source": [
    "for col, coef in zip(list(df_water_dummie), lr.coef_):\n",
    "    print(col,coef)\n"
   ]
  },
  {
   "cell_type": "markdown",
   "metadata": {},
   "source": [
    "## Concatinate the two data frames"
   ]
  },
  {
   "cell_type": "code",
   "execution_count": 347,
   "metadata": {},
   "outputs": [
    {
     "data": {
      "text/html": [
       "<div>\n",
       "<style scoped>\n",
       "    .dataframe tbody tr th:only-of-type {\n",
       "        vertical-align: middle;\n",
       "    }\n",
       "\n",
       "    .dataframe tbody tr th {\n",
       "        vertical-align: top;\n",
       "    }\n",
       "\n",
       "    .dataframe thead th {\n",
       "        text-align: right;\n",
       "    }\n",
       "</style>\n",
       "<table border=\"1\" class=\"dataframe\">\n",
       "  <thead>\n",
       "    <tr style=\"text-align: right;\">\n",
       "      <th></th>\n",
       "      <th>Unnamed: 0</th>\n",
       "      <th>Major</th>\n",
       "      <th>Minor</th>\n",
       "      <th>ZipCode</th>\n",
       "      <th>DocumentDate</th>\n",
       "      <th>SalePrice</th>\n",
       "      <th>SqFtLot</th>\n",
       "      <th>SqFtTotLiving</th>\n",
       "      <th>Nuisances</th>\n",
       "      <th>Has_Nuisance</th>\n",
       "      <th>...</th>\n",
       "      <th>View_LakeSammamish</th>\n",
       "      <th>View_SmallLakeRiverCreek</th>\n",
       "      <th>Duwamish</th>\n",
       "      <th>Lake Sammamish</th>\n",
       "      <th>Lake Union</th>\n",
       "      <th>Lake Washington</th>\n",
       "      <th>Other lake</th>\n",
       "      <th>Puget Sound</th>\n",
       "      <th>River or slough</th>\n",
       "      <th>Ship Canal</th>\n",
       "    </tr>\n",
       "  </thead>\n",
       "  <tbody>\n",
       "    <tr>\n",
       "      <th>0</th>\n",
       "      <td>0</td>\n",
       "      <td>100</td>\n",
       "      <td>67</td>\n",
       "      <td>98002</td>\n",
       "      <td>2019-04-01</td>\n",
       "      <td>310800</td>\n",
       "      <td>17400</td>\n",
       "      <td>2240</td>\n",
       "      <td>No Nuisances</td>\n",
       "      <td>0</td>\n",
       "      <td>...</td>\n",
       "      <td>0</td>\n",
       "      <td>0</td>\n",
       "      <td>0</td>\n",
       "      <td>0</td>\n",
       "      <td>0</td>\n",
       "      <td>0</td>\n",
       "      <td>0</td>\n",
       "      <td>0</td>\n",
       "      <td>0</td>\n",
       "      <td>0</td>\n",
       "    </tr>\n",
       "    <tr>\n",
       "      <th>1</th>\n",
       "      <td>1</td>\n",
       "      <td>100</td>\n",
       "      <td>66</td>\n",
       "      <td>98002</td>\n",
       "      <td>2019-10-22</td>\n",
       "      <td>339000</td>\n",
       "      <td>14500</td>\n",
       "      <td>1200</td>\n",
       "      <td>No Nuisances</td>\n",
       "      <td>0</td>\n",
       "      <td>...</td>\n",
       "      <td>0</td>\n",
       "      <td>0</td>\n",
       "      <td>0</td>\n",
       "      <td>0</td>\n",
       "      <td>0</td>\n",
       "      <td>0</td>\n",
       "      <td>0</td>\n",
       "      <td>0</td>\n",
       "      <td>0</td>\n",
       "      <td>0</td>\n",
       "    </tr>\n",
       "    <tr>\n",
       "      <th>2</th>\n",
       "      <td>2</td>\n",
       "      <td>100</td>\n",
       "      <td>42</td>\n",
       "      <td>98002</td>\n",
       "      <td>2019-10-29</td>\n",
       "      <td>485500</td>\n",
       "      <td>6002</td>\n",
       "      <td>2134</td>\n",
       "      <td>No Nuisances</td>\n",
       "      <td>0</td>\n",
       "      <td>...</td>\n",
       "      <td>0</td>\n",
       "      <td>0</td>\n",
       "      <td>0</td>\n",
       "      <td>0</td>\n",
       "      <td>0</td>\n",
       "      <td>0</td>\n",
       "      <td>0</td>\n",
       "      <td>0</td>\n",
       "      <td>0</td>\n",
       "      <td>0</td>\n",
       "    </tr>\n",
       "    <tr>\n",
       "      <th>3</th>\n",
       "      <td>3</td>\n",
       "      <td>120</td>\n",
       "      <td>8</td>\n",
       "      <td>98166</td>\n",
       "      <td>2019-05-17</td>\n",
       "      <td>850000</td>\n",
       "      <td>24142</td>\n",
       "      <td>3500</td>\n",
       "      <td>No Nuisances</td>\n",
       "      <td>0</td>\n",
       "      <td>...</td>\n",
       "      <td>0</td>\n",
       "      <td>0</td>\n",
       "      <td>0</td>\n",
       "      <td>0</td>\n",
       "      <td>0</td>\n",
       "      <td>0</td>\n",
       "      <td>0</td>\n",
       "      <td>0</td>\n",
       "      <td>0</td>\n",
       "      <td>0</td>\n",
       "    </tr>\n",
       "    <tr>\n",
       "      <th>4</th>\n",
       "      <td>4</td>\n",
       "      <td>140</td>\n",
       "      <td>27</td>\n",
       "      <td>98178</td>\n",
       "      <td>2019-05-28</td>\n",
       "      <td>535000</td>\n",
       "      <td>14208</td>\n",
       "      <td>2170</td>\n",
       "      <td>Traffic Noise</td>\n",
       "      <td>1</td>\n",
       "      <td>...</td>\n",
       "      <td>0</td>\n",
       "      <td>0</td>\n",
       "      <td>0</td>\n",
       "      <td>0</td>\n",
       "      <td>0</td>\n",
       "      <td>0</td>\n",
       "      <td>0</td>\n",
       "      <td>0</td>\n",
       "      <td>0</td>\n",
       "      <td>0</td>\n",
       "    </tr>\n",
       "  </tbody>\n",
       "</table>\n",
       "<p>5 rows × 34 columns</p>\n",
       "</div>"
      ],
      "text/plain": [
       "   Unnamed: 0  Major  Minor  ZipCode DocumentDate  SalePrice  SqFtLot  \\\n",
       "0           0    100     67    98002   2019-04-01     310800    17400   \n",
       "1           1    100     66    98002   2019-10-22     339000    14500   \n",
       "2           2    100     42    98002   2019-10-29     485500     6002   \n",
       "3           3    120      8    98166   2019-05-17     850000    24142   \n",
       "4           4    140     27    98178   2019-05-28     535000    14208   \n",
       "\n",
       "   SqFtTotLiving      Nuisances  Has_Nuisance  ...  View_LakeSammamish  \\\n",
       "0           2240   No Nuisances             0  ...                   0   \n",
       "1           1200   No Nuisances             0  ...                   0   \n",
       "2           2134   No Nuisances             0  ...                   0   \n",
       "3           3500   No Nuisances             0  ...                   0   \n",
       "4           2170  Traffic Noise             1  ...                   0   \n",
       "\n",
       "   View_SmallLakeRiverCreek  Duwamish  Lake Sammamish Lake Union  \\\n",
       "0                         0         0               0          0   \n",
       "1                         0         0               0          0   \n",
       "2                         0         0               0          0   \n",
       "3                         0         0               0          0   \n",
       "4                         0         0               0          0   \n",
       "\n",
       "   Lake Washington  Other lake  Puget Sound  River or slough  Ship Canal  \n",
       "0                0           0            0                0           0  \n",
       "1                0           0            0                0           0  \n",
       "2                0           0            0                0           0  \n",
       "3                0           0            0                0           0  \n",
       "4                0           0            0                0           0  \n",
       "\n",
       "[5 rows x 34 columns]"
      ]
     },
     "execution_count": 347,
     "metadata": {},
     "output_type": "execute_result"
    }
   ],
   "source": [
    "comb_df = pd.concat([df, df_water_dummie], axis=1)\n",
    "comb_df.head()"
   ]
  },
  {
   "cell_type": "code",
   "execution_count": 229,
   "metadata": {},
   "outputs": [
    {
     "data": {
      "image/png": "[encoded data removed]",
      "text/plain": [
       "<Figure size 432x288 with 1 Axes>"
      ]
     },
     "metadata": {
      "needs_background": "light"
     },
     "output_type": "display_data"
    }
   ],
   "source": [
    "sns.barplot(df['Is_WaterFrontLocation'], df['SalePrice']);\n",
    "\n"
   ]
  },
  {
   "cell_type": "code",
   "execution_count": 215,
   "metadata": {},
   "outputs": [
    {
     "data": {
      "image/png": "[encoded data removed]",
      "text/plain": [
       "<Figure size 792x648 with 2 Axes>"
      ]
     },
     "metadata": {
      "needs_background": "light"
     },
     "output_type": "display_data"
    }
   ],
   "source": [
    "corr = df.corr()\n",
    "mask = np.triu(np.ones_like(corr, dtype=np.bool))\n",
    "\n",
    "fig1, ax1 = plt.subplots(figsize=(11, 9))\n",
    "sns.heatmap(corr, mask=mask, ax=ax1, cmap=\"viridis\");\n",
    "\n"
   ]
  },
  {
   "cell_type": "code",
   "execution_count": 233,
   "metadata": {},
   "outputs": [
    {
     "data": {
      "image/png": "[encoded data removed]",
      "text/plain": [
       "<Figure size 792x648 with 2 Axes>"
      ]
     },
     "metadata": {
      "needs_background": "light"
     },
     "output_type": "display_data"
    }
   ],
   "source": [
    "corr = comb_df.corr()\n",
    "mask = np.triu(np.ones_like(corr, dtype=np.bool))\n",
    "\n",
    "fig1, ax1 = plt.subplots(figsize=(11, 9))\n",
    "sns.heatmap(corr, mask=mask, ax=ax1, cmap=\"viridis\");"
   ]
  },
  {
   "cell_type": "code",
   "execution_count": 348,
   "metadata": {},
   "outputs": [
    {
     "data": {
      "image/png": "[encoded data removed]",
      "text/plain": [
       "<Figure size 792x648 with 2 Axes>"
      ]
     },
     "metadata": {
      "needs_background": "light"
     },
     "output_type": "display_data"
    }
   ],
   "source": [
    "corr = comb_df.corr()\n",
    "mask = np.triu(np.ones_like(corr, dtype=np.bool))\n",
    "\n",
    "fig1, ax1 = plt.subplots(figsize=(11, 9))\n",
    "sns.heatmap(corr, mask=mask, ax=ax1, cmap=\"viridis\");"
   ]
  },
  {
   "cell_type": "markdown",
   "metadata": {},
   "source": [
    "## EDA simple models\n"
   ]
  },
  {
   "cell_type": "code",
   "execution_count": 48,
   "metadata": {},
   "outputs": [],
   "source": [
    "import pandas as pd\n",
    "import matplotlib.pyplot as plt\n",
    "import seaborn as sns\n",
    "from statsmodels.formula.api import ols\n",
    "%matplotlib inline"
   ]
  },
  {
   "cell_type": "markdown",
   "metadata": {},
   "source": [
    "### FSM_Model 1"
   ]
  },
  {
   "cell_type": "code",
   "execution_count": 113,
   "metadata": {},
   "outputs": [],
   "source": [
    "outcome = 'SalePrice'\n",
    "x_cols = ['SqFtTotLiving']"
   ]
  },
  {
   "cell_type": "code",
   "execution_count": 115,
   "metadata": {},
   "outputs": [
    {
     "data": {
      "text/html": [
       "<table class=\"simpletable\">\n",
       "<caption>OLS Regression Results</caption>\n",
       "<tr>\n",
       "  <th>Dep. Variable:</th>        <td>SalePrice</td>    <th>  R-squared:         </th>  <td>   0.357</td>  \n",
       "</tr>\n",
       "<tr>\n",
       "  <th>Model:</th>                   <td>OLS</td>       <th>  Adj. R-squared:    </th>  <td>   0.357</td>  \n",
       "</tr>\n",
       "<tr>\n",
       "  <th>Method:</th>             <td>Least Squares</td>  <th>  F-statistic:       </th>  <td>1.603e+04</td> \n",
       "</tr>\n",
       "<tr>\n",
       "  <th>Date:</th>             <td>Tue, 29 Sep 2020</td> <th>  Prob (F-statistic):</th>   <td>  0.00</td>   \n",
       "</tr>\n",
       "<tr>\n",
       "  <th>Time:</th>                 <td>13:04:10</td>     <th>  Log-Likelihood:    </th> <td>-4.1190e+05</td>\n",
       "</tr>\n",
       "<tr>\n",
       "  <th>No. Observations:</th>      <td> 28824</td>      <th>  AIC:               </th>  <td>8.238e+05</td> \n",
       "</tr>\n",
       "<tr>\n",
       "  <th>Df Residuals:</th>          <td> 28822</td>      <th>  BIC:               </th>  <td>8.238e+05</td> \n",
       "</tr>\n",
       "<tr>\n",
       "  <th>Df Model:</th>              <td>     1</td>      <th>                     </th>      <td> </td>     \n",
       "</tr>\n",
       "<tr>\n",
       "  <th>Covariance Type:</th>      <td>nonrobust</td>    <th>                     </th>      <td> </td>     \n",
       "</tr>\n",
       "</table>\n",
       "<table class=\"simpletable\">\n",
       "<tr>\n",
       "        <td></td>           <th>coef</th>     <th>std err</th>      <th>t</th>      <th>P>|t|</th>  <th>[0.025</th>    <th>0.975]</th>  \n",
       "</tr>\n",
       "<tr>\n",
       "  <th>Intercept</th>     <td> 1.106e+05</td> <td> 5757.098</td> <td>   19.217</td> <td> 0.000</td> <td> 9.93e+04</td> <td> 1.22e+05</td>\n",
       "</tr>\n",
       "<tr>\n",
       "  <th>SqFtTotLiving</th> <td>  306.1794</td> <td>    2.419</td> <td>  126.597</td> <td> 0.000</td> <td>  301.439</td> <td>  310.920</td>\n",
       "</tr>\n",
       "</table>\n",
       "<table class=\"simpletable\">\n",
       "<tr>\n",
       "  <th>Omnibus:</th>       <td>13104.282</td> <th>  Durbin-Watson:     </th>  <td>   1.918</td> \n",
       "</tr>\n",
       "<tr>\n",
       "  <th>Prob(Omnibus):</th>  <td> 0.000</td>   <th>  Jarque-Bera (JB):  </th> <td>110455.449</td>\n",
       "</tr>\n",
       "<tr>\n",
       "  <th>Skew:</th>           <td> 1.996</td>   <th>  Prob(JB):          </th>  <td>    0.00</td> \n",
       "</tr>\n",
       "<tr>\n",
       "  <th>Kurtosis:</th>       <td>11.720</td>   <th>  Cond. No.          </th>  <td>5.98e+03</td> \n",
       "</tr>\n",
       "</table><br/><br/>Warnings:<br/>[1] Standard Errors assume that the covariance matrix of the errors is correctly specified.<br/>[2] The condition number is large, 5.98e+03. This might indicate that there are<br/>strong multicollinearity or other numerical problems."
      ],
      "text/plain": [
       "<class 'statsmodels.iolib.summary.Summary'>\n",
       "\"\"\"\n",
       "                            OLS Regression Results                            \n",
       "==============================================================================\n",
       "Dep. Variable:              SalePrice   R-squared:                       0.357\n",
       "Model:                            OLS   Adj. R-squared:                  0.357\n",
       "Method:                 Least Squares   F-statistic:                 1.603e+04\n",
       "Date:                Tue, 29 Sep 2020   Prob (F-statistic):               0.00\n",
       "Time:                        13:04:10   Log-Likelihood:            -4.1190e+05\n",
       "No. Observations:               28824   AIC:                         8.238e+05\n",
       "Df Residuals:                   28822   BIC:                         8.238e+05\n",
       "Df Model:                           1                                         \n",
       "Covariance Type:            nonrobust                                         \n",
       "=================================================================================\n",
       "                    coef    std err          t      P>|t|      [0.025      0.975]\n",
       "---------------------------------------------------------------------------------\n",
       "Intercept      1.106e+05   5757.098     19.217      0.000    9.93e+04    1.22e+05\n",
       "SqFtTotLiving   306.1794      2.419    126.597      0.000     301.439     310.920\n",
       "==============================================================================\n",
       "Omnibus:                    13104.282   Durbin-Watson:                   1.918\n",
       "Prob(Omnibus):                  0.000   Jarque-Bera (JB):           110455.449\n",
       "Skew:                           1.996   Prob(JB):                         0.00\n",
       "Kurtosis:                      11.720   Cond. No.                     5.98e+03\n",
       "==============================================================================\n",
       "\n",
       "Warnings:\n",
       "[1] Standard Errors assume that the covariance matrix of the errors is correctly specified.\n",
       "[2] The condition number is large, 5.98e+03. This might indicate that there are\n",
       "strong multicollinearity or other numerical problems.\n",
       "\"\"\""
      ]
     },
     "execution_count": 115,
     "metadata": {},
     "output_type": "execute_result"
    }
   ],
   "source": [
    "predictors = '+'.join(x_cols)\n",
    "formula = outcome + '~' + predictors\n",
    "fsm_model = ols(formula=formula, data=df).fit()\n",
    "fsm_model.summary()\n"
   ]
  },
  {
   "cell_type": "markdown",
   "metadata": {},
   "source": [
    "### FSM_Model 2"
   ]
  },
  {
   "cell_type": "code",
   "execution_count": 111,
   "metadata": {},
   "outputs": [],
   "source": [
    "outcome = 'SalePrice'\n",
    "x_cols = ['Has_Porch']"
   ]
  },
  {
   "cell_type": "code",
   "execution_count": 112,
   "metadata": {},
   "outputs": [
    {
     "data": {
      "text/html": [
       "<table class=\"simpletable\">\n",
       "<caption>OLS Regression Results</caption>\n",
       "<tr>\n",
       "  <th>Dep. Variable:</th>        <td>SalePrice</td>    <th>  R-squared:         </th>  <td>   0.043</td>  \n",
       "</tr>\n",
       "<tr>\n",
       "  <th>Model:</th>                   <td>OLS</td>       <th>  Adj. R-squared:    </th>  <td>   0.043</td>  \n",
       "</tr>\n",
       "<tr>\n",
       "  <th>Method:</th>             <td>Least Squares</td>  <th>  F-statistic:       </th>  <td>   1287.</td>  \n",
       "</tr>\n",
       "<tr>\n",
       "  <th>Date:</th>             <td>Tue, 29 Sep 2020</td> <th>  Prob (F-statistic):</th>  <td>9.26e-276</td> \n",
       "</tr>\n",
       "<tr>\n",
       "  <th>Time:</th>                 <td>13:01:19</td>     <th>  Log-Likelihood:    </th> <td>-4.1765e+05</td>\n",
       "</tr>\n",
       "<tr>\n",
       "  <th>No. Observations:</th>      <td> 28824</td>      <th>  AIC:               </th>  <td>8.353e+05</td> \n",
       "</tr>\n",
       "<tr>\n",
       "  <th>Df Residuals:</th>          <td> 28822</td>      <th>  BIC:               </th>  <td>8.353e+05</td> \n",
       "</tr>\n",
       "<tr>\n",
       "  <th>Df Model:</th>              <td>     1</td>      <th>                     </th>      <td> </td>     \n",
       "</tr>\n",
       "<tr>\n",
       "  <th>Covariance Type:</th>      <td>nonrobust</td>    <th>                     </th>      <td> </td>     \n",
       "</tr>\n",
       "</table>\n",
       "<table class=\"simpletable\">\n",
       "<tr>\n",
       "      <td></td>         <th>coef</th>     <th>std err</th>      <th>t</th>      <th>P>|t|</th>  <th>[0.025</th>    <th>0.975]</th>  \n",
       "</tr>\n",
       "<tr>\n",
       "  <th>Intercept</th> <td> 6.667e+05</td> <td> 4202.924</td> <td>  158.627</td> <td> 0.000</td> <td> 6.58e+05</td> <td> 6.75e+05</td>\n",
       "</tr>\n",
       "<tr>\n",
       "  <th>Has_Porch</th> <td>  2.02e+05</td> <td> 5630.090</td> <td>   35.873</td> <td> 0.000</td> <td> 1.91e+05</td> <td> 2.13e+05</td>\n",
       "</tr>\n",
       "</table>\n",
       "<table class=\"simpletable\">\n",
       "<tr>\n",
       "  <th>Omnibus:</th>       <td>13917.537</td> <th>  Durbin-Watson:     </th> <td>   1.947</td> \n",
       "</tr>\n",
       "<tr>\n",
       "  <th>Prob(Omnibus):</th>  <td> 0.000</td>   <th>  Jarque-Bera (JB):  </th> <td>91641.326</td>\n",
       "</tr>\n",
       "<tr>\n",
       "  <th>Skew:</th>           <td> 2.256</td>   <th>  Prob(JB):          </th> <td>    0.00</td> \n",
       "</tr>\n",
       "<tr>\n",
       "  <th>Kurtosis:</th>       <td>10.480</td>   <th>  Cond. No.          </th> <td>    2.77</td> \n",
       "</tr>\n",
       "</table><br/><br/>Warnings:<br/>[1] Standard Errors assume that the covariance matrix of the errors is correctly specified."
      ],
      "text/plain": [
       "<class 'statsmodels.iolib.summary.Summary'>\n",
       "\"\"\"\n",
       "                            OLS Regression Results                            \n",
       "==============================================================================\n",
       "Dep. Variable:              SalePrice   R-squared:                       0.043\n",
       "Model:                            OLS   Adj. R-squared:                  0.043\n",
       "Method:                 Least Squares   F-statistic:                     1287.\n",
       "Date:                Tue, 29 Sep 2020   Prob (F-statistic):          9.26e-276\n",
       "Time:                        13:01:19   Log-Likelihood:            -4.1765e+05\n",
       "No. Observations:               28824   AIC:                         8.353e+05\n",
       "Df Residuals:                   28822   BIC:                         8.353e+05\n",
       "Df Model:                           1                                         \n",
       "Covariance Type:            nonrobust                                         \n",
       "==============================================================================\n",
       "                 coef    std err          t      P>|t|      [0.025      0.975]\n",
       "------------------------------------------------------------------------------\n",
       "Intercept   6.667e+05   4202.924    158.627      0.000    6.58e+05    6.75e+05\n",
       "Has_Porch    2.02e+05   5630.090     35.873      0.000    1.91e+05    2.13e+05\n",
       "==============================================================================\n",
       "Omnibus:                    13917.537   Durbin-Watson:                   1.947\n",
       "Prob(Omnibus):                  0.000   Jarque-Bera (JB):            91641.326\n",
       "Skew:                           2.256   Prob(JB):                         0.00\n",
       "Kurtosis:                      10.480   Cond. No.                         2.77\n",
       "==============================================================================\n",
       "\n",
       "Warnings:\n",
       "[1] Standard Errors assume that the covariance matrix of the errors is correctly specified.\n",
       "\"\"\""
      ]
     },
     "execution_count": 112,
     "metadata": {},
     "output_type": "execute_result"
    }
   ],
   "source": [
    "predictors = '+'.join(x_cols)\n",
    "formula = outcome + '~' + predictors\n",
    "fsm_model = ols(formula=formula, data=df).fit()\n",
    "fsm_model.summary()"
   ]
  },
  {
   "cell_type": "markdown",
   "metadata": {},
   "source": [
    "### FSM_Model 3"
   ]
  },
  {
   "cell_type": "code",
   "execution_count": 116,
   "metadata": {},
   "outputs": [],
   "source": [
    "outcome = 'SalePrice'\n",
    "x_cols = ['Is_WaterFrontLocation']\n"
   ]
  },
  {
   "cell_type": "code",
   "execution_count": 117,
   "metadata": {},
   "outputs": [
    {
     "data": {
      "text/html": [
       "<table class=\"simpletable\">\n",
       "<caption>OLS Regression Results</caption>\n",
       "<tr>\n",
       "  <th>Dep. Variable:</th>        <td>SalePrice</td>    <th>  R-squared:         </th>  <td>   0.019</td>  \n",
       "</tr>\n",
       "<tr>\n",
       "  <th>Model:</th>                   <td>OLS</td>       <th>  Adj. R-squared:    </th>  <td>   0.018</td>  \n",
       "</tr>\n",
       "<tr>\n",
       "  <th>Method:</th>             <td>Least Squares</td>  <th>  F-statistic:       </th>  <td>   543.6</td>  \n",
       "</tr>\n",
       "<tr>\n",
       "  <th>Date:</th>             <td>Tue, 29 Sep 2020</td> <th>  Prob (F-statistic):</th>  <td>3.96e-119</td> \n",
       "</tr>\n",
       "<tr>\n",
       "  <th>Time:</th>                 <td>13:06:08</td>     <th>  Log-Likelihood:    </th> <td>-4.1801e+05</td>\n",
       "</tr>\n",
       "<tr>\n",
       "  <th>No. Observations:</th>      <td> 28824</td>      <th>  AIC:               </th>  <td>8.360e+05</td> \n",
       "</tr>\n",
       "<tr>\n",
       "  <th>Df Residuals:</th>          <td> 28822</td>      <th>  BIC:               </th>  <td>8.360e+05</td> \n",
       "</tr>\n",
       "<tr>\n",
       "  <th>Df Model:</th>              <td>     1</td>      <th>                     </th>      <td> </td>     \n",
       "</tr>\n",
       "<tr>\n",
       "  <th>Covariance Type:</th>      <td>nonrobust</td>    <th>                     </th>      <td> </td>     \n",
       "</tr>\n",
       "</table>\n",
       "<table class=\"simpletable\">\n",
       "<tr>\n",
       "            <td></td>               <th>coef</th>     <th>std err</th>      <th>t</th>      <th>P>|t|</th>  <th>[0.025</th>    <th>0.975]</th>  \n",
       "</tr>\n",
       "<tr>\n",
       "  <th>Intercept</th>             <td> 7.713e+05</td> <td> 2852.292</td> <td>  270.404</td> <td> 0.000</td> <td> 7.66e+05</td> <td> 7.77e+05</td>\n",
       "</tr>\n",
       "<tr>\n",
       "  <th>Is_WaterFrontLocation</th> <td> 5.542e+05</td> <td> 2.38e+04</td> <td>   23.315</td> <td> 0.000</td> <td> 5.08e+05</td> <td> 6.01e+05</td>\n",
       "</tr>\n",
       "</table>\n",
       "<table class=\"simpletable\">\n",
       "<tr>\n",
       "  <th>Omnibus:</th>       <td>13630.220</td> <th>  Durbin-Watson:     </th> <td>   1.943</td> \n",
       "</tr>\n",
       "<tr>\n",
       "  <th>Prob(Omnibus):</th>  <td> 0.000</td>   <th>  Jarque-Bera (JB):  </th> <td>85827.233</td>\n",
       "</tr>\n",
       "<tr>\n",
       "  <th>Skew:</th>           <td> 2.217</td>   <th>  Prob(JB):          </th> <td>    0.00</td> \n",
       "</tr>\n",
       "<tr>\n",
       "  <th>Kurtosis:</th>       <td>10.198</td>   <th>  Cond. No.          </th> <td>    8.40</td> \n",
       "</tr>\n",
       "</table><br/><br/>Warnings:<br/>[1] Standard Errors assume that the covariance matrix of the errors is correctly specified."
      ],
      "text/plain": [
       "<class 'statsmodels.iolib.summary.Summary'>\n",
       "\"\"\"\n",
       "                            OLS Regression Results                            \n",
       "==============================================================================\n",
       "Dep. Variable:              SalePrice   R-squared:                       0.019\n",
       "Model:                            OLS   Adj. R-squared:                  0.018\n",
       "Method:                 Least Squares   F-statistic:                     543.6\n",
       "Date:                Tue, 29 Sep 2020   Prob (F-statistic):          3.96e-119\n",
       "Time:                        13:06:08   Log-Likelihood:            -4.1801e+05\n",
       "No. Observations:               28824   AIC:                         8.360e+05\n",
       "Df Residuals:                   28822   BIC:                         8.360e+05\n",
       "Df Model:                           1                                         \n",
       "Covariance Type:            nonrobust                                         \n",
       "=========================================================================================\n",
       "                            coef    std err          t      P>|t|      [0.025      0.975]\n",
       "-----------------------------------------------------------------------------------------\n",
       "Intercept              7.713e+05   2852.292    270.404      0.000    7.66e+05    7.77e+05\n",
       "Is_WaterFrontLocation  5.542e+05   2.38e+04     23.315      0.000    5.08e+05    6.01e+05\n",
       "==============================================================================\n",
       "Omnibus:                    13630.220   Durbin-Watson:                   1.943\n",
       "Prob(Omnibus):                  0.000   Jarque-Bera (JB):            85827.233\n",
       "Skew:                           2.217   Prob(JB):                         0.00\n",
       "Kurtosis:                      10.198   Cond. No.                         8.40\n",
       "==============================================================================\n",
       "\n",
       "Warnings:\n",
       "[1] Standard Errors assume that the covariance matrix of the errors is correctly specified.\n",
       "\"\"\""
      ]
     },
     "execution_count": 117,
     "metadata": {},
     "output_type": "execute_result"
    }
   ],
   "source": [
    "predictors = '+'.join(x_cols)\n",
    "formula = outcome + '~' + predictors\n",
    "fsm_model = ols(formula=formula, data=df).fit()\n",
    "fsm_model.summary()"
   ]
  },
  {
   "cell_type": "markdown",
   "metadata": {},
   "source": [
    "### FSM_Model 4"
   ]
  },
  {
   "cell_type": "code",
   "execution_count": 120,
   "metadata": {},
   "outputs": [],
   "source": [
    "outcome = 'SalePrice'\n",
    "x_cols = ['Has_Nuisance']"
   ]
  },
  {
   "cell_type": "code",
   "execution_count": 121,
   "metadata": {},
   "outputs": [
    {
     "data": {
      "text/html": [
       "<table class=\"simpletable\">\n",
       "<caption>OLS Regression Results</caption>\n",
       "<tr>\n",
       "  <th>Dep. Variable:</th>        <td>SalePrice</td>    <th>  R-squared:         </th>  <td>   0.000</td>  \n",
       "</tr>\n",
       "<tr>\n",
       "  <th>Model:</th>                   <td>OLS</td>       <th>  Adj. R-squared:    </th>  <td>   0.000</td>  \n",
       "</tr>\n",
       "<tr>\n",
       "  <th>Method:</th>             <td>Least Squares</td>  <th>  F-statistic:       </th>  <td>   1.043</td>  \n",
       "</tr>\n",
       "<tr>\n",
       "  <th>Date:</th>             <td>Tue, 29 Sep 2020</td> <th>  Prob (F-statistic):</th>   <td> 0.307</td>   \n",
       "</tr>\n",
       "<tr>\n",
       "  <th>Time:</th>                 <td>13:09:15</td>     <th>  Log-Likelihood:    </th> <td>-4.1827e+05</td>\n",
       "</tr>\n",
       "<tr>\n",
       "  <th>No. Observations:</th>      <td> 28824</td>      <th>  AIC:               </th>  <td>8.366e+05</td> \n",
       "</tr>\n",
       "<tr>\n",
       "  <th>Df Residuals:</th>          <td> 28822</td>      <th>  BIC:               </th>  <td>8.366e+05</td> \n",
       "</tr>\n",
       "<tr>\n",
       "  <th>Df Model:</th>              <td>     1</td>      <th>                     </th>      <td> </td>     \n",
       "</tr>\n",
       "<tr>\n",
       "  <th>Covariance Type:</th>      <td>nonrobust</td>    <th>                     </th>      <td> </td>     \n",
       "</tr>\n",
       "</table>\n",
       "<table class=\"simpletable\">\n",
       "<tr>\n",
       "        <td></td>          <th>coef</th>     <th>std err</th>      <th>t</th>      <th>P>|t|</th>  <th>[0.025</th>    <th>0.975]</th>  \n",
       "</tr>\n",
       "<tr>\n",
       "  <th>Intercept</th>    <td> 7.779e+05</td> <td> 3137.880</td> <td>  247.915</td> <td> 0.000</td> <td> 7.72e+05</td> <td> 7.84e+05</td>\n",
       "</tr>\n",
       "<tr>\n",
       "  <th>Has_Nuisance</th> <td> 7765.3750</td> <td> 7603.559</td> <td>    1.021</td> <td> 0.307</td> <td>-7137.952</td> <td> 2.27e+04</td>\n",
       "</tr>\n",
       "</table>\n",
       "<table class=\"simpletable\">\n",
       "<tr>\n",
       "  <th>Omnibus:</th>       <td>14136.291</td> <th>  Durbin-Watson:     </th> <td>   1.947</td> \n",
       "</tr>\n",
       "<tr>\n",
       "  <th>Prob(Omnibus):</th>  <td> 0.000</td>   <th>  Jarque-Bera (JB):  </th> <td>92644.887</td>\n",
       "</tr>\n",
       "<tr>\n",
       "  <th>Skew:</th>           <td> 2.303</td>   <th>  Prob(JB):          </th> <td>    0.00</td> \n",
       "</tr>\n",
       "<tr>\n",
       "  <th>Kurtosis:</th>       <td>10.478</td>   <th>  Cond. No.          </th> <td>    2.75</td> \n",
       "</tr>\n",
       "</table><br/><br/>Warnings:<br/>[1] Standard Errors assume that the covariance matrix of the errors is correctly specified."
      ],
      "text/plain": [
       "<class 'statsmodels.iolib.summary.Summary'>\n",
       "\"\"\"\n",
       "                            OLS Regression Results                            \n",
       "==============================================================================\n",
       "Dep. Variable:              SalePrice   R-squared:                       0.000\n",
       "Model:                            OLS   Adj. R-squared:                  0.000\n",
       "Method:                 Least Squares   F-statistic:                     1.043\n",
       "Date:                Tue, 29 Sep 2020   Prob (F-statistic):              0.307\n",
       "Time:                        13:09:15   Log-Likelihood:            -4.1827e+05\n",
       "No. Observations:               28824   AIC:                         8.366e+05\n",
       "Df Residuals:                   28822   BIC:                         8.366e+05\n",
       "Df Model:                           1                                         \n",
       "Covariance Type:            nonrobust                                         \n",
       "================================================================================\n",
       "                   coef    std err          t      P>|t|      [0.025      0.975]\n",
       "--------------------------------------------------------------------------------\n",
       "Intercept     7.779e+05   3137.880    247.915      0.000    7.72e+05    7.84e+05\n",
       "Has_Nuisance  7765.3750   7603.559      1.021      0.307   -7137.952    2.27e+04\n",
       "==============================================================================\n",
       "Omnibus:                    14136.291   Durbin-Watson:                   1.947\n",
       "Prob(Omnibus):                  0.000   Jarque-Bera (JB):            92644.887\n",
       "Skew:                           2.303   Prob(JB):                         0.00\n",
       "Kurtosis:                      10.478   Cond. No.                         2.75\n",
       "==============================================================================\n",
       "\n",
       "Warnings:\n",
       "[1] Standard Errors assume that the covariance matrix of the errors is correctly specified.\n",
       "\"\"\""
      ]
     },
     "execution_count": 121,
     "metadata": {},
     "output_type": "execute_result"
    }
   ],
   "source": [
    "predictors = '+'.join(x_cols)\n",
    "formula = outcome + '~' + predictors\n",
    "fsm_model = ols(formula=formula, data=df).fit()\n",
    "fsm_model.summary()"
   ]
  },
  {
   "cell_type": "markdown",
   "metadata": {},
   "source": [
    "### FSM_Model 5"
   ]
  },
  {
   "cell_type": "code",
   "execution_count": 124,
   "metadata": {},
   "outputs": [],
   "source": [
    "outcome = 'SalePrice'\n",
    "x_cols = ['SqFtLot']"
   ]
  },
  {
   "cell_type": "code",
   "execution_count": 125,
   "metadata": {},
   "outputs": [
    {
     "data": {
      "text/html": [
       "<table class=\"simpletable\">\n",
       "<caption>OLS Regression Results</caption>\n",
       "<tr>\n",
       "  <th>Dep. Variable:</th>        <td>SalePrice</td>    <th>  R-squared:         </th>  <td>   0.005</td>  \n",
       "</tr>\n",
       "<tr>\n",
       "  <th>Model:</th>                   <td>OLS</td>       <th>  Adj. R-squared:    </th>  <td>   0.005</td>  \n",
       "</tr>\n",
       "<tr>\n",
       "  <th>Method:</th>             <td>Least Squares</td>  <th>  F-statistic:       </th>  <td>   147.2</td>  \n",
       "</tr>\n",
       "<tr>\n",
       "  <th>Date:</th>             <td>Tue, 29 Sep 2020</td> <th>  Prob (F-statistic):</th>  <td>8.65e-34</td>  \n",
       "</tr>\n",
       "<tr>\n",
       "  <th>Time:</th>                 <td>13:12:40</td>     <th>  Log-Likelihood:    </th> <td>-4.1820e+05</td>\n",
       "</tr>\n",
       "<tr>\n",
       "  <th>No. Observations:</th>      <td> 28824</td>      <th>  AIC:               </th>  <td>8.364e+05</td> \n",
       "</tr>\n",
       "<tr>\n",
       "  <th>Df Residuals:</th>          <td> 28822</td>      <th>  BIC:               </th>  <td>8.364e+05</td> \n",
       "</tr>\n",
       "<tr>\n",
       "  <th>Df Model:</th>              <td>     1</td>      <th>                     </th>      <td> </td>     \n",
       "</tr>\n",
       "<tr>\n",
       "  <th>Covariance Type:</th>      <td>nonrobust</td>    <th>                     </th>      <td> </td>     \n",
       "</tr>\n",
       "</table>\n",
       "<table class=\"simpletable\">\n",
       "<tr>\n",
       "      <td></td>         <th>coef</th>     <th>std err</th>      <th>t</th>      <th>P>|t|</th>  <th>[0.025</th>    <th>0.975]</th>  \n",
       "</tr>\n",
       "<tr>\n",
       "  <th>Intercept</th> <td> 7.606e+05</td> <td> 3239.580</td> <td>  234.779</td> <td> 0.000</td> <td> 7.54e+05</td> <td> 7.67e+05</td>\n",
       "</tr>\n",
       "<tr>\n",
       "  <th>SqFtLot</th>   <td>    1.4735</td> <td>    0.121</td> <td>   12.132</td> <td> 0.000</td> <td>    1.235</td> <td>    1.712</td>\n",
       "</tr>\n",
       "</table>\n",
       "<table class=\"simpletable\">\n",
       "<tr>\n",
       "  <th>Omnibus:</th>       <td>14076.440</td> <th>  Durbin-Watson:     </th> <td>   1.947</td> \n",
       "</tr>\n",
       "<tr>\n",
       "  <th>Prob(Omnibus):</th>  <td> 0.000</td>   <th>  Jarque-Bera (JB):  </th> <td>92185.738</td>\n",
       "</tr>\n",
       "<tr>\n",
       "  <th>Skew:</th>           <td> 2.291</td>   <th>  Prob(JB):          </th> <td>    0.00</td> \n",
       "</tr>\n",
       "<tr>\n",
       "  <th>Kurtosis:</th>       <td>10.467</td>   <th>  Cond. No.          </th> <td>3.03e+04</td> \n",
       "</tr>\n",
       "</table><br/><br/>Warnings:<br/>[1] Standard Errors assume that the covariance matrix of the errors is correctly specified.<br/>[2] The condition number is large, 3.03e+04. This might indicate that there are<br/>strong multicollinearity or other numerical problems."
      ],
      "text/plain": [
       "<class 'statsmodels.iolib.summary.Summary'>\n",
       "\"\"\"\n",
       "                            OLS Regression Results                            \n",
       "==============================================================================\n",
       "Dep. Variable:              SalePrice   R-squared:                       0.005\n",
       "Model:                            OLS   Adj. R-squared:                  0.005\n",
       "Method:                 Least Squares   F-statistic:                     147.2\n",
       "Date:                Tue, 29 Sep 2020   Prob (F-statistic):           8.65e-34\n",
       "Time:                        13:12:40   Log-Likelihood:            -4.1820e+05\n",
       "No. Observations:               28824   AIC:                         8.364e+05\n",
       "Df Residuals:                   28822   BIC:                         8.364e+05\n",
       "Df Model:                           1                                         \n",
       "Covariance Type:            nonrobust                                         \n",
       "==============================================================================\n",
       "                 coef    std err          t      P>|t|      [0.025      0.975]\n",
       "------------------------------------------------------------------------------\n",
       "Intercept   7.606e+05   3239.580    234.779      0.000    7.54e+05    7.67e+05\n",
       "SqFtLot        1.4735      0.121     12.132      0.000       1.235       1.712\n",
       "==============================================================================\n",
       "Omnibus:                    14076.440   Durbin-Watson:                   1.947\n",
       "Prob(Omnibus):                  0.000   Jarque-Bera (JB):            92185.738\n",
       "Skew:                           2.291   Prob(JB):                         0.00\n",
       "Kurtosis:                      10.467   Cond. No.                     3.03e+04\n",
       "==============================================================================\n",
       "\n",
       "Warnings:\n",
       "[1] Standard Errors assume that the covariance matrix of the errors is correctly specified.\n",
       "[2] The condition number is large, 3.03e+04. This might indicate that there are\n",
       "strong multicollinearity or other numerical problems.\n",
       "\"\"\""
      ]
     },
     "execution_count": 125,
     "metadata": {},
     "output_type": "execute_result"
    }
   ],
   "source": [
    "predictors = '+'.join(x_cols)\n",
    "formula = outcome + '~' + predictors\n",
    "fsm_model = ols(formula=formula, data=df).fit()\n",
    "fsm_model.summary()"
   ]
  },
  {
   "cell_type": "markdown",
   "metadata": {},
   "source": [
    "## Multilinear Models\n"
   ]
  },
  {
   "cell_type": "markdown",
   "metadata": {},
   "source": [
    "### ML_Model 1"
   ]
  },
  {
   "cell_type": "code",
   "execution_count": 234,
   "metadata": {},
   "outputs": [],
   "source": [
    "outcome = 'SalePrice'\n",
    "x_cols = ['SqFtTotLiving','Has_Porch' ]\n"
   ]
  },
  {
   "cell_type": "code",
   "execution_count": 236,
   "metadata": {},
   "outputs": [
    {
     "data": {
      "text/html": [
       "<table class=\"simpletable\">\n",
       "<caption>OLS Regression Results</caption>\n",
       "<tr>\n",
       "  <th>Dep. Variable:</th>        <td>SalePrice</td>    <th>  R-squared:         </th>  <td>   0.330</td>  \n",
       "</tr>\n",
       "<tr>\n",
       "  <th>Model:</th>                   <td>OLS</td>       <th>  Adj. R-squared:    </th>  <td>   0.330</td>  \n",
       "</tr>\n",
       "<tr>\n",
       "  <th>Method:</th>             <td>Least Squares</td>  <th>  F-statistic:       </th>  <td>   6822.</td>  \n",
       "</tr>\n",
       "<tr>\n",
       "  <th>Date:</th>             <td>Tue, 29 Sep 2020</td> <th>  Prob (F-statistic):</th>   <td>  0.00</td>   \n",
       "</tr>\n",
       "<tr>\n",
       "  <th>Time:</th>                 <td>19:42:35</td>     <th>  Log-Likelihood:    </th> <td>-4.0289e+05</td>\n",
       "</tr>\n",
       "<tr>\n",
       "  <th>No. Observations:</th>      <td> 27728</td>      <th>  AIC:               </th>  <td>8.058e+05</td> \n",
       "</tr>\n",
       "<tr>\n",
       "  <th>Df Residuals:</th>          <td> 27725</td>      <th>  BIC:               </th>  <td>8.058e+05</td> \n",
       "</tr>\n",
       "<tr>\n",
       "  <th>Df Model:</th>              <td>     2</td>      <th>                     </th>      <td> </td>     \n",
       "</tr>\n",
       "<tr>\n",
       "  <th>Covariance Type:</th>      <td>nonrobust</td>    <th>                     </th>      <td> </td>     \n",
       "</tr>\n",
       "</table>\n",
       "<table class=\"simpletable\">\n",
       "<tr>\n",
       "        <td></td>           <th>coef</th>     <th>std err</th>      <th>t</th>      <th>P>|t|</th>  <th>[0.025</th>    <th>0.975]</th>  \n",
       "</tr>\n",
       "<tr>\n",
       "  <th>Intercept</th>     <td> 3.764e+04</td> <td> 7373.289</td> <td>    5.105</td> <td> 0.000</td> <td> 2.32e+04</td> <td> 5.21e+04</td>\n",
       "</tr>\n",
       "<tr>\n",
       "  <th>SqFtTotLiving</th> <td>  353.4087</td> <td>    3.181</td> <td>  111.086</td> <td> 0.000</td> <td>  347.173</td> <td>  359.644</td>\n",
       "</tr>\n",
       "<tr>\n",
       "  <th>Has_Porch</th>     <td>-1.431e+04</td> <td> 6330.603</td> <td>   -2.261</td> <td> 0.024</td> <td>-2.67e+04</td> <td>-1904.546</td>\n",
       "</tr>\n",
       "</table>\n",
       "<table class=\"simpletable\">\n",
       "<tr>\n",
       "  <th>Omnibus:</th>       <td>28674.977</td> <th>  Durbin-Watson:     </th>  <td>   1.027</td>  \n",
       "</tr>\n",
       "<tr>\n",
       "  <th>Prob(Omnibus):</th>  <td> 0.000</td>   <th>  Jarque-Bera (JB):  </th> <td>3431705.698</td>\n",
       "</tr>\n",
       "<tr>\n",
       "  <th>Skew:</th>           <td> 4.954</td>   <th>  Prob(JB):          </th>  <td>    0.00</td>  \n",
       "</tr>\n",
       "<tr>\n",
       "  <th>Kurtosis:</th>       <td>56.592</td>   <th>  Cond. No.          </th>  <td>6.19e+03</td>  \n",
       "</tr>\n",
       "</table><br/><br/>Warnings:<br/>[1] Standard Errors assume that the covariance matrix of the errors is correctly specified.<br/>[2] The condition number is large, 6.19e+03. This might indicate that there are<br/>strong multicollinearity or other numerical problems."
      ],
      "text/plain": [
       "<class 'statsmodels.iolib.summary.Summary'>\n",
       "\"\"\"\n",
       "                            OLS Regression Results                            \n",
       "==============================================================================\n",
       "Dep. Variable:              SalePrice   R-squared:                       0.330\n",
       "Model:                            OLS   Adj. R-squared:                  0.330\n",
       "Method:                 Least Squares   F-statistic:                     6822.\n",
       "Date:                Tue, 29 Sep 2020   Prob (F-statistic):               0.00\n",
       "Time:                        19:42:35   Log-Likelihood:            -4.0289e+05\n",
       "No. Observations:               27728   AIC:                         8.058e+05\n",
       "Df Residuals:                   27725   BIC:                         8.058e+05\n",
       "Df Model:                           2                                         \n",
       "Covariance Type:            nonrobust                                         \n",
       "=================================================================================\n",
       "                    coef    std err          t      P>|t|      [0.025      0.975]\n",
       "---------------------------------------------------------------------------------\n",
       "Intercept      3.764e+04   7373.289      5.105      0.000    2.32e+04    5.21e+04\n",
       "SqFtTotLiving   353.4087      3.181    111.086      0.000     347.173     359.644\n",
       "Has_Porch     -1.431e+04   6330.603     -2.261      0.024   -2.67e+04   -1904.546\n",
       "==============================================================================\n",
       "Omnibus:                    28674.977   Durbin-Watson:                   1.027\n",
       "Prob(Omnibus):                  0.000   Jarque-Bera (JB):          3431705.698\n",
       "Skew:                           4.954   Prob(JB):                         0.00\n",
       "Kurtosis:                      56.592   Cond. No.                     6.19e+03\n",
       "==============================================================================\n",
       "\n",
       "Warnings:\n",
       "[1] Standard Errors assume that the covariance matrix of the errors is correctly specified.\n",
       "[2] The condition number is large, 6.19e+03. This might indicate that there are\n",
       "strong multicollinearity or other numerical problems.\n",
       "\"\"\""
      ]
     },
     "execution_count": 236,
     "metadata": {},
     "output_type": "execute_result"
    }
   ],
   "source": [
    "predictors = '+'.join(x_cols)\n",
    "formula = outcome + '~' + predictors\n",
    "ml_model1 = ols(formula=formula, data=df).fit()\n",
    "ml_model1.summary()\n"
   ]
  },
  {
   "cell_type": "markdown",
   "metadata": {},
   "source": [
    "### ML_Model 2"
   ]
  },
  {
   "cell_type": "code",
   "execution_count": 141,
   "metadata": {},
   "outputs": [],
   "source": [
    "outcome = 'SalePrice'\n",
    "x_cols = ['SqFtTotLiving','Has_Porch', 'Is_WaterFrontLocation']\n"
   ]
  },
  {
   "cell_type": "code",
   "execution_count": 155,
   "metadata": {},
   "outputs": [
    {
     "data": {
      "text/html": [
       "<table class=\"simpletable\">\n",
       "<caption>OLS Regression Results</caption>\n",
       "<tr>\n",
       "  <th>Dep. Variable:</th>        <td>SalePrice</td>    <th>  R-squared:         </th>  <td>   0.370</td>  \n",
       "</tr>\n",
       "<tr>\n",
       "  <th>Model:</th>                   <td>OLS</td>       <th>  Adj. R-squared:    </th>  <td>   0.370</td>  \n",
       "</tr>\n",
       "<tr>\n",
       "  <th>Method:</th>             <td>Least Squares</td>  <th>  F-statistic:       </th>  <td>   5639.</td>  \n",
       "</tr>\n",
       "<tr>\n",
       "  <th>Date:</th>             <td>Tue, 29 Sep 2020</td> <th>  Prob (F-statistic):</th>   <td>  0.00</td>   \n",
       "</tr>\n",
       "<tr>\n",
       "  <th>Time:</th>                 <td>13:38:21</td>     <th>  Log-Likelihood:    </th> <td>-4.1162e+05</td>\n",
       "</tr>\n",
       "<tr>\n",
       "  <th>No. Observations:</th>      <td> 28824</td>      <th>  AIC:               </th>  <td>8.232e+05</td> \n",
       "</tr>\n",
       "<tr>\n",
       "  <th>Df Residuals:</th>          <td> 28820</td>      <th>  BIC:               </th>  <td>8.233e+05</td> \n",
       "</tr>\n",
       "<tr>\n",
       "  <th>Df Model:</th>              <td>     3</td>      <th>                     </th>      <td> </td>     \n",
       "</tr>\n",
       "<tr>\n",
       "  <th>Covariance Type:</th>      <td>nonrobust</td>    <th>                     </th>      <td> </td>     \n",
       "</tr>\n",
       "</table>\n",
       "<table class=\"simpletable\">\n",
       "<tr>\n",
       "            <td></td>               <th>coef</th>     <th>std err</th>      <th>t</th>      <th>P>|t|</th>  <th>[0.025</th>    <th>0.975]</th>  \n",
       "</tr>\n",
       "<tr>\n",
       "  <th>Intercept</th>             <td> 1.079e+05</td> <td> 5763.462</td> <td>   18.716</td> <td> 0.000</td> <td> 9.66e+04</td> <td> 1.19e+05</td>\n",
       "</tr>\n",
       "<tr>\n",
       "  <th>SqFtTotLiving</th>         <td>  302.5124</td> <td>    2.543</td> <td>  118.947</td> <td> 0.000</td> <td>  297.528</td> <td>  307.497</td>\n",
       "</tr>\n",
       "<tr>\n",
       "  <th>Has_Porch</th>             <td> 7563.4853</td> <td> 4847.244</td> <td>    1.560</td> <td> 0.119</td> <td>-1937.338</td> <td> 1.71e+04</td>\n",
       "</tr>\n",
       "<tr>\n",
       "  <th>Is_WaterFrontLocation</th> <td> 4.555e+05</td> <td> 1.91e+04</td> <td>   23.894</td> <td> 0.000</td> <td> 4.18e+05</td> <td> 4.93e+05</td>\n",
       "</tr>\n",
       "</table>\n",
       "<table class=\"simpletable\">\n",
       "<tr>\n",
       "  <th>Omnibus:</th>       <td>12545.159</td> <th>  Durbin-Watson:     </th>  <td>   1.915</td> \n",
       "</tr>\n",
       "<tr>\n",
       "  <th>Prob(Omnibus):</th>  <td> 0.000</td>   <th>  Jarque-Bera (JB):  </th> <td>102534.109</td>\n",
       "</tr>\n",
       "<tr>\n",
       "  <th>Skew:</th>           <td> 1.901</td>   <th>  Prob(JB):          </th>  <td>    0.00</td> \n",
       "</tr>\n",
       "<tr>\n",
       "  <th>Kurtosis:</th>       <td>11.422</td>   <th>  Cond. No.          </th>  <td>2.00e+04</td> \n",
       "</tr>\n",
       "</table><br/><br/>Warnings:<br/>[1] Standard Errors assume that the covariance matrix of the errors is correctly specified.<br/>[2] The condition number is large,  2e+04. This might indicate that there are<br/>strong multicollinearity or other numerical problems."
      ],
      "text/plain": [
       "<class 'statsmodels.iolib.summary.Summary'>\n",
       "\"\"\"\n",
       "                            OLS Regression Results                            \n",
       "==============================================================================\n",
       "Dep. Variable:              SalePrice   R-squared:                       0.370\n",
       "Model:                            OLS   Adj. R-squared:                  0.370\n",
       "Method:                 Least Squares   F-statistic:                     5639.\n",
       "Date:                Tue, 29 Sep 2020   Prob (F-statistic):               0.00\n",
       "Time:                        13:38:21   Log-Likelihood:            -4.1162e+05\n",
       "No. Observations:               28824   AIC:                         8.232e+05\n",
       "Df Residuals:                   28820   BIC:                         8.233e+05\n",
       "Df Model:                           3                                         \n",
       "Covariance Type:            nonrobust                                         \n",
       "=========================================================================================\n",
       "                            coef    std err          t      P>|t|      [0.025      0.975]\n",
       "-----------------------------------------------------------------------------------------\n",
       "Intercept              1.079e+05   5763.462     18.716      0.000    9.66e+04    1.19e+05\n",
       "SqFtTotLiving           302.5124      2.543    118.947      0.000     297.528     307.497\n",
       "Has_Porch              7563.4853   4847.244      1.560      0.119   -1937.338    1.71e+04\n",
       "Is_WaterFrontLocation  4.555e+05   1.91e+04     23.894      0.000    4.18e+05    4.93e+05\n",
       "==============================================================================\n",
       "Omnibus:                    12545.159   Durbin-Watson:                   1.915\n",
       "Prob(Omnibus):                  0.000   Jarque-Bera (JB):           102534.109\n",
       "Skew:                           1.901   Prob(JB):                         0.00\n",
       "Kurtosis:                      11.422   Cond. No.                     2.00e+04\n",
       "==============================================================================\n",
       "\n",
       "Warnings:\n",
       "[1] Standard Errors assume that the covariance matrix of the errors is correctly specified.\n",
       "[2] The condition number is large,  2e+04. This might indicate that there are\n",
       "strong multicollinearity or other numerical problems.\n",
       "\"\"\""
      ]
     },
     "execution_count": 155,
     "metadata": {},
     "output_type": "execute_result"
    }
   ],
   "source": [
    "predictors = '+'.join(x_cols)\n",
    "formula = outcome + '~' + predictors\n",
    "ml_model2 = ols(formula=formula, data=df).fit()\n",
    "ml_model2.summary()\n"
   ]
  },
  {
   "cell_type": "code",
   "execution_count": 242,
   "metadata": {},
   "outputs": [
    {
     "name": "stdout",
     "output_type": "stream",
     "text": [
      "<class 'pandas.core.frame.DataFrame'>\n",
      "RangeIndex: 27728 entries, 0 to 27727\n",
      "Data columns (total 27 columns):\n",
      " #   Column                 Non-Null Count  Dtype \n",
      "---  ------                 --------------  ----- \n",
      " 0   Unnamed: 0             27728 non-null  int64 \n",
      " 1   Major                  27728 non-null  int64 \n",
      " 2   Minor                  27728 non-null  int64 \n",
      " 3   ZipCode                27728 non-null  int64 \n",
      " 4   DocumentDate           27728 non-null  object\n",
      " 5   SalePrice              27728 non-null  int64 \n",
      " 6   SqFtLot                27728 non-null  int64 \n",
      " 7   SqFtTotLiving          27728 non-null  int64 \n",
      " 8   Nuisances              27728 non-null  object\n",
      " 9   Has_Nuisance           27728 non-null  int64 \n",
      " 10  TrafficNoise           27728 non-null  int64 \n",
      " 11  PowerLines             27728 non-null  int64 \n",
      " 12  OtherNuisances         27728 non-null  int64 \n",
      " 13  Is_WaterFrontLocation  27728 non-null  int64 \n",
      " 14  WaterFrontLocation     27728 non-null  object\n",
      " 15  Has_Porch              27728 non-null  int64 \n",
      " 16  Has_OpenPorch          27728 non-null  int64 \n",
      " 17  Has_EnclosedPorch      27728 non-null  int64 \n",
      " 18  NbrLivingUnits         27728 non-null  int64 \n",
      " 19  Duwamish               27728 non-null  uint8 \n",
      " 20  Lake Sammamish         27728 non-null  uint8 \n",
      " 21  Lake Union             27728 non-null  uint8 \n",
      " 22  Lake Washington        27728 non-null  uint8 \n",
      " 23  Other lake             27728 non-null  uint8 \n",
      " 24  Puget Sound            27728 non-null  uint8 \n",
      " 25  River or slough        27728 non-null  uint8 \n",
      " 26  Ship Canal             27728 non-null  uint8 \n",
      "dtypes: int64(16), object(3), uint8(8)\n",
      "memory usage: 4.2+ MB\n"
     ]
    }
   ],
   "source": [
    "comb_df.info()"
   ]
  },
  {
   "cell_type": "code",
   "execution_count": 349,
   "metadata": {},
   "outputs": [],
   "source": [
    "comb_df = comb_df.rename(columns={\"Other lake\": \"Other_lake\",\"Lake Sammamish\":\"Lake_Sammamish\", \"Lake Union\": \"Lake_Union\", \"Lake Washington\": \"Lake_Washington\", \"Puget Sound\": \"Puget_Sound\", \"River or slough\":\"River_or_slough\", \"Ship Canal\": \"Ship_Canal\" })"
   ]
  },
  {
   "cell_type": "code",
   "execution_count": 350,
   "metadata": {},
   "outputs": [
    {
     "name": "stdout",
     "output_type": "stream",
     "text": [
      "<class 'pandas.core.frame.DataFrame'>\n",
      "RangeIndex: 27814 entries, 0 to 27813\n",
      "Data columns (total 34 columns):\n",
      " #   Column                    Non-Null Count  Dtype \n",
      "---  ------                    --------------  ----- \n",
      " 0   Unnamed: 0                27814 non-null  int64 \n",
      " 1   Major                     27814 non-null  int64 \n",
      " 2   Minor                     27814 non-null  int64 \n",
      " 3   ZipCode                   27814 non-null  int64 \n",
      " 4   DocumentDate              27814 non-null  object\n",
      " 5   SalePrice                 27814 non-null  int64 \n",
      " 6   SqFtLot                   27814 non-null  int64 \n",
      " 7   SqFtTotLiving             27814 non-null  int64 \n",
      " 8   Nuisances                 27814 non-null  object\n",
      " 9   Has_Nuisance              27814 non-null  int64 \n",
      " 10  TrafficNoise              27814 non-null  int64 \n",
      " 11  PowerLines                27814 non-null  int64 \n",
      " 12  OtherNuisances            27814 non-null  int64 \n",
      " 13  Is_WaterFrontLocation     27814 non-null  int64 \n",
      " 14  WaterFrontLocation        27814 non-null  object\n",
      " 15  Has_Porch                 27814 non-null  int64 \n",
      " 16  Has_OpenPorch             27814 non-null  int64 \n",
      " 17  Has_EnclosedPorch         27814 non-null  int64 \n",
      " 18  NbrLivingUnits            27814 non-null  int64 \n",
      " 19  View_MtRainier            27814 non-null  int64 \n",
      " 20  View_Olympics             27814 non-null  int64 \n",
      " 21  View_Cascades             27814 non-null  int64 \n",
      " 22  View_PugetSound           27814 non-null  int64 \n",
      " 23  View_LakeWashington       27814 non-null  int64 \n",
      " 24  View_LakeSammamish        27814 non-null  int64 \n",
      " 25  View_SmallLakeRiverCreek  27814 non-null  int64 \n",
      " 26  Duwamish                  27814 non-null  uint8 \n",
      " 27  Lake_Sammamish            27814 non-null  uint8 \n",
      " 28  Lake_Union                27814 non-null  uint8 \n",
      " 29  Lake_Washington           27814 non-null  uint8 \n",
      " 30  Other_lake                27814 non-null  uint8 \n",
      " 31  Puget_Sound               27814 non-null  uint8 \n",
      " 32  River_or_slough           27814 non-null  uint8 \n",
      " 33  Ship_Canal                27814 non-null  uint8 \n",
      "dtypes: int64(23), object(3), uint8(8)\n",
      "memory usage: 5.7+ MB\n"
     ]
    }
   ],
   "source": [
    "comb_df.info()\n",
    "\n"
   ]
  },
  {
   "cell_type": "markdown",
   "metadata": {},
   "source": [
    "### ML_Model 3 --water"
   ]
  },
  {
   "cell_type": "code",
   "execution_count": 326,
   "metadata": {},
   "outputs": [],
   "source": [
    "outcome = 'SalePrice'\n",
    "x_cols = ['SqFtTotLiving','Duwamish', 'Lake_Sammamish', 'Lake_Union', 'Lake_Union', 'Lake_Washington', 'Other_lake','Puget_Sound', 'River_or_slough', 'Ship_Canal']\n"
   ]
  },
  {
   "cell_type": "code",
   "execution_count": 327,
   "metadata": {},
   "outputs": [
    {
     "data": {
      "text/html": [
       "<table class=\"simpletable\">\n",
       "<caption>OLS Regression Results</caption>\n",
       "<tr>\n",
       "  <th>Dep. Variable:</th>        <td>SalePrice</td>    <th>  R-squared:         </th>  <td>   0.394</td>  \n",
       "</tr>\n",
       "<tr>\n",
       "  <th>Model:</th>                   <td>OLS</td>       <th>  Adj. R-squared:    </th>  <td>   0.394</td>  \n",
       "</tr>\n",
       "<tr>\n",
       "  <th>Method:</th>             <td>Least Squares</td>  <th>  F-statistic:       </th>  <td>   2001.</td>  \n",
       "</tr>\n",
       "<tr>\n",
       "  <th>Date:</th>             <td>Tue, 29 Sep 2020</td> <th>  Prob (F-statistic):</th>   <td>  0.00</td>   \n",
       "</tr>\n",
       "<tr>\n",
       "  <th>Time:</th>                 <td>20:36:02</td>     <th>  Log-Likelihood:    </th> <td>-4.0150e+05</td>\n",
       "</tr>\n",
       "<tr>\n",
       "  <th>No. Observations:</th>      <td> 27728</td>      <th>  AIC:               </th>  <td>8.030e+05</td> \n",
       "</tr>\n",
       "<tr>\n",
       "  <th>Df Residuals:</th>          <td> 27718</td>      <th>  BIC:               </th>  <td>8.031e+05</td> \n",
       "</tr>\n",
       "<tr>\n",
       "  <th>Df Model:</th>              <td>     9</td>      <th>                     </th>      <td> </td>     \n",
       "</tr>\n",
       "<tr>\n",
       "  <th>Covariance Type:</th>      <td>nonrobust</td>    <th>                     </th>      <td> </td>     \n",
       "</tr>\n",
       "</table>\n",
       "<table class=\"simpletable\">\n",
       "<tr>\n",
       "         <td></td>            <th>coef</th>     <th>std err</th>      <th>t</th>      <th>P>|t|</th>  <th>[0.025</th>    <th>0.975]</th>  \n",
       "</tr>\n",
       "<tr>\n",
       "  <th>Intercept</th>       <td> 5.663e+04</td> <td> 6932.048</td> <td>    8.169</td> <td> 0.000</td> <td>  4.3e+04</td> <td> 7.02e+04</td>\n",
       "</tr>\n",
       "<tr>\n",
       "  <th>SqFtTotLiving</th>   <td>  335.1483</td> <td>    2.877</td> <td>  116.486</td> <td> 0.000</td> <td>  329.509</td> <td>  340.788</td>\n",
       "</tr>\n",
       "<tr>\n",
       "  <th>Duwamish</th>        <td>-8642.3020</td> <td> 2.72e+05</td> <td>   -0.032</td> <td> 0.975</td> <td>-5.41e+05</td> <td> 5.24e+05</td>\n",
       "</tr>\n",
       "<tr>\n",
       "  <th>Lake_Sammamish</th>  <td> 1.825e+06</td> <td> 7.36e+04</td> <td>   24.787</td> <td> 0.000</td> <td> 1.68e+06</td> <td> 1.97e+06</td>\n",
       "</tr>\n",
       "<tr>\n",
       "  <th>Lake_Union</th>      <td> 3.669e+05</td> <td>  4.7e+05</td> <td>    0.780</td> <td> 0.435</td> <td>-5.55e+05</td> <td> 1.29e+06</td>\n",
       "</tr>\n",
       "<tr>\n",
       "  <th>Lake_Washington</th> <td> 2.081e+06</td> <td> 4.39e+04</td> <td>   47.360</td> <td> 0.000</td> <td> 1.99e+06</td> <td> 2.17e+06</td>\n",
       "</tr>\n",
       "<tr>\n",
       "  <th>Other_lake</th>      <td> 3.488e+04</td> <td> 4.09e+04</td> <td>    0.853</td> <td> 0.394</td> <td>-4.53e+04</td> <td> 1.15e+05</td>\n",
       "</tr>\n",
       "<tr>\n",
       "  <th>Puget_Sound</th>     <td> 4.174e+05</td> <td> 4.97e+04</td> <td>    8.405</td> <td> 0.000</td> <td>  3.2e+05</td> <td> 5.15e+05</td>\n",
       "</tr>\n",
       "<tr>\n",
       "  <th>River_or_slough</th> <td> 4.614e+04</td> <td> 5.27e+04</td> <td>    0.876</td> <td> 0.381</td> <td>-5.71e+04</td> <td> 1.49e+05</td>\n",
       "</tr>\n",
       "<tr>\n",
       "  <th>Ship_Canal</th>      <td> 8.825e+05</td> <td> 1.78e+05</td> <td>    4.964</td> <td> 0.000</td> <td> 5.34e+05</td> <td> 1.23e+06</td>\n",
       "</tr>\n",
       "</table>\n",
       "<table class=\"simpletable\">\n",
       "<tr>\n",
       "  <th>Omnibus:</th>       <td>26453.788</td> <th>  Durbin-Watson:     </th>  <td>   0.996</td>  \n",
       "</tr>\n",
       "<tr>\n",
       "  <th>Prob(Omnibus):</th>  <td> 0.000</td>   <th>  Jarque-Bera (JB):  </th> <td>3114673.024</td>\n",
       "</tr>\n",
       "<tr>\n",
       "  <th>Skew:</th>           <td> 4.295</td>   <th>  Prob(JB):          </th>  <td>    0.00</td>  \n",
       "</tr>\n",
       "<tr>\n",
       "  <th>Kurtosis:</th>       <td>54.206</td>   <th>  Cond. No.          </th>  <td>4.03e+05</td>  \n",
       "</tr>\n",
       "</table><br/><br/>Warnings:<br/>[1] Standard Errors assume that the covariance matrix of the errors is correctly specified.<br/>[2] The condition number is large, 4.03e+05. This might indicate that there are<br/>strong multicollinearity or other numerical problems."
      ],
      "text/plain": [
       "<class 'statsmodels.iolib.summary.Summary'>\n",
       "\"\"\"\n",
       "                            OLS Regression Results                            \n",
       "==============================================================================\n",
       "Dep. Variable:              SalePrice   R-squared:                       0.394\n",
       "Model:                            OLS   Adj. R-squared:                  0.394\n",
       "Method:                 Least Squares   F-statistic:                     2001.\n",
       "Date:                Tue, 29 Sep 2020   Prob (F-statistic):               0.00\n",
       "Time:                        20:36:02   Log-Likelihood:            -4.0150e+05\n",
       "No. Observations:               27728   AIC:                         8.030e+05\n",
       "Df Residuals:                   27718   BIC:                         8.031e+05\n",
       "Df Model:                           9                                         \n",
       "Covariance Type:            nonrobust                                         \n",
       "===================================================================================\n",
       "                      coef    std err          t      P>|t|      [0.025      0.975]\n",
       "-----------------------------------------------------------------------------------\n",
       "Intercept        5.663e+04   6932.048      8.169      0.000     4.3e+04    7.02e+04\n",
       "SqFtTotLiving     335.1483      2.877    116.486      0.000     329.509     340.788\n",
       "Duwamish        -8642.3020   2.72e+05     -0.032      0.975   -5.41e+05    5.24e+05\n",
       "Lake_Sammamish   1.825e+06   7.36e+04     24.787      0.000    1.68e+06    1.97e+06\n",
       "Lake_Union       3.669e+05    4.7e+05      0.780      0.435   -5.55e+05    1.29e+06\n",
       "Lake_Washington  2.081e+06   4.39e+04     47.360      0.000    1.99e+06    2.17e+06\n",
       "Other_lake       3.488e+04   4.09e+04      0.853      0.394   -4.53e+04    1.15e+05\n",
       "Puget_Sound      4.174e+05   4.97e+04      8.405      0.000     3.2e+05    5.15e+05\n",
       "River_or_slough  4.614e+04   5.27e+04      0.876      0.381   -5.71e+04    1.49e+05\n",
       "Ship_Canal       8.825e+05   1.78e+05      4.964      0.000    5.34e+05    1.23e+06\n",
       "==============================================================================\n",
       "Omnibus:                    26453.788   Durbin-Watson:                   0.996\n",
       "Prob(Omnibus):                  0.000   Jarque-Bera (JB):          3114673.024\n",
       "Skew:                           4.295   Prob(JB):                         0.00\n",
       "Kurtosis:                      54.206   Cond. No.                     4.03e+05\n",
       "==============================================================================\n",
       "\n",
       "Warnings:\n",
       "[1] Standard Errors assume that the covariance matrix of the errors is correctly specified.\n",
       "[2] The condition number is large, 4.03e+05. This might indicate that there are\n",
       "strong multicollinearity or other numerical problems.\n",
       "\"\"\""
      ]
     },
     "execution_count": 327,
     "metadata": {},
     "output_type": "execute_result"
    }
   ],
   "source": [
    "predictors = '+'.join(x_cols)\n",
    "formula = outcome + '~' + predictors\n",
    "ml_model3 = ols(formula=formula, data=comb_df).fit()\n",
    "ml_model3.summary()"
   ]
  },
  {
   "cell_type": "markdown",
   "metadata": {},
   "source": [
    "### ML_Model 4.2- Water and Mountain View"
   ]
  },
  {
   "cell_type": "code",
   "execution_count": 353,
   "metadata": {},
   "outputs": [],
   "source": [
    "outcome = 'SalePrice'\n",
    "x_cols = ['SqFtTotLiving','View_MtRainier', 'View_Olympics','View_Cascades', 'View_PugetSound', 'View_LakeWashington', 'View_LakeSammamish','View_SmallLakeRiverCreek']\n",
    "\n"
   ]
  },
  {
   "cell_type": "code",
   "execution_count": 354,
   "metadata": {},
   "outputs": [
    {
     "data": {
      "text/html": [
       "<table class=\"simpletable\">\n",
       "<caption>OLS Regression Results</caption>\n",
       "<tr>\n",
       "  <th>Dep. Variable:</th>        <td>SalePrice</td>    <th>  R-squared:         </th>  <td>   0.397</td>  \n",
       "</tr>\n",
       "<tr>\n",
       "  <th>Model:</th>                   <td>OLS</td>       <th>  Adj. R-squared:    </th>  <td>   0.397</td>  \n",
       "</tr>\n",
       "<tr>\n",
       "  <th>Method:</th>             <td>Least Squares</td>  <th>  F-statistic:       </th>  <td>   2292.</td>  \n",
       "</tr>\n",
       "<tr>\n",
       "  <th>Date:</th>             <td>Wed, 30 Sep 2020</td> <th>  Prob (F-statistic):</th>   <td>  0.00</td>   \n",
       "</tr>\n",
       "<tr>\n",
       "  <th>Time:</th>                 <td>09:33:20</td>     <th>  Log-Likelihood:    </th> <td>-4.0269e+05</td>\n",
       "</tr>\n",
       "<tr>\n",
       "  <th>No. Observations:</th>      <td> 27814</td>      <th>  AIC:               </th>  <td>8.054e+05</td> \n",
       "</tr>\n",
       "<tr>\n",
       "  <th>Df Residuals:</th>          <td> 27805</td>      <th>  BIC:               </th>  <td>8.055e+05</td> \n",
       "</tr>\n",
       "<tr>\n",
       "  <th>Df Model:</th>              <td>     8</td>      <th>                     </th>      <td> </td>     \n",
       "</tr>\n",
       "<tr>\n",
       "  <th>Covariance Type:</th>      <td>nonrobust</td>    <th>                     </th>      <td> </td>     \n",
       "</tr>\n",
       "</table>\n",
       "<table class=\"simpletable\">\n",
       "<tr>\n",
       "              <td></td>                <th>coef</th>     <th>std err</th>      <th>t</th>      <th>P>|t|</th>  <th>[0.025</th>    <th>0.975]</th>  \n",
       "</tr>\n",
       "<tr>\n",
       "  <th>Intercept</th>                <td> 7.258e+04</td> <td> 6933.643</td> <td>   10.468</td> <td> 0.000</td> <td>  5.9e+04</td> <td> 8.62e+04</td>\n",
       "</tr>\n",
       "<tr>\n",
       "  <th>SqFtTotLiving</th>            <td>  318.5155</td> <td>    2.919</td> <td>  109.103</td> <td> 0.000</td> <td>  312.793</td> <td>  324.238</td>\n",
       "</tr>\n",
       "<tr>\n",
       "  <th>View_MtRainier</th>           <td> 2.373e+04</td> <td> 1.16e+04</td> <td>    2.049</td> <td> 0.040</td> <td> 1032.015</td> <td> 4.64e+04</td>\n",
       "</tr>\n",
       "<tr>\n",
       "  <th>View_Olympics</th>            <td> 5.577e+04</td> <td> 9524.956</td> <td>    5.855</td> <td> 0.000</td> <td> 3.71e+04</td> <td> 7.44e+04</td>\n",
       "</tr>\n",
       "<tr>\n",
       "  <th>View_Cascades</th>            <td>-5.706e+04</td> <td> 7570.536</td> <td>   -7.537</td> <td> 0.000</td> <td>-7.19e+04</td> <td>-4.22e+04</td>\n",
       "</tr>\n",
       "<tr>\n",
       "  <th>View_PugetSound</th>          <td> 7.364e+04</td> <td> 9351.981</td> <td>    7.874</td> <td> 0.000</td> <td> 5.53e+04</td> <td>  9.2e+04</td>\n",
       "</tr>\n",
       "<tr>\n",
       "  <th>View_LakeWashington</th>      <td>  3.69e+05</td> <td> 7669.740</td> <td>   48.116</td> <td> 0.000</td> <td> 3.54e+05</td> <td> 3.84e+05</td>\n",
       "</tr>\n",
       "<tr>\n",
       "  <th>View_LakeSammamish</th>       <td> 3.232e+05</td> <td> 1.39e+04</td> <td>   23.176</td> <td> 0.000</td> <td> 2.96e+05</td> <td> 3.51e+05</td>\n",
       "</tr>\n",
       "<tr>\n",
       "  <th>View_SmallLakeRiverCreek</th> <td> 5.924e+04</td> <td> 1.05e+04</td> <td>    5.624</td> <td> 0.000</td> <td> 3.86e+04</td> <td> 7.99e+04</td>\n",
       "</tr>\n",
       "</table>\n",
       "<table class=\"simpletable\">\n",
       "<tr>\n",
       "  <th>Omnibus:</th>       <td>27329.781</td> <th>  Durbin-Watson:     </th>  <td>   1.033</td>  \n",
       "</tr>\n",
       "<tr>\n",
       "  <th>Prob(Omnibus):</th>  <td> 0.000</td>   <th>  Jarque-Bera (JB):  </th> <td>3312282.035</td>\n",
       "</tr>\n",
       "<tr>\n",
       "  <th>Skew:</th>           <td> 4.515</td>   <th>  Prob(JB):          </th>  <td>    0.00</td>  \n",
       "</tr>\n",
       "<tr>\n",
       "  <th>Kurtosis:</th>       <td>55.693</td>   <th>  Cond. No.          </th>  <td>1.21e+04</td>  \n",
       "</tr>\n",
       "</table><br/><br/>Warnings:<br/>[1] Standard Errors assume that the covariance matrix of the errors is correctly specified.<br/>[2] The condition number is large, 1.21e+04. This might indicate that there are<br/>strong multicollinearity or other numerical problems."
      ],
      "text/plain": [
       "<class 'statsmodels.iolib.summary.Summary'>\n",
       "\"\"\"\n",
       "                            OLS Regression Results                            \n",
       "==============================================================================\n",
       "Dep. Variable:              SalePrice   R-squared:                       0.397\n",
       "Model:                            OLS   Adj. R-squared:                  0.397\n",
       "Method:                 Least Squares   F-statistic:                     2292.\n",
       "Date:                Wed, 30 Sep 2020   Prob (F-statistic):               0.00\n",
       "Time:                        09:33:20   Log-Likelihood:            -4.0269e+05\n",
       "No. Observations:               27814   AIC:                         8.054e+05\n",
       "Df Residuals:                   27805   BIC:                         8.055e+05\n",
       "Df Model:                           8                                         \n",
       "Covariance Type:            nonrobust                                         \n",
       "============================================================================================\n",
       "                               coef    std err          t      P>|t|      [0.025      0.975]\n",
       "--------------------------------------------------------------------------------------------\n",
       "Intercept                 7.258e+04   6933.643     10.468      0.000     5.9e+04    8.62e+04\n",
       "SqFtTotLiving              318.5155      2.919    109.103      0.000     312.793     324.238\n",
       "View_MtRainier            2.373e+04   1.16e+04      2.049      0.040    1032.015    4.64e+04\n",
       "View_Olympics             5.577e+04   9524.956      5.855      0.000    3.71e+04    7.44e+04\n",
       "View_Cascades            -5.706e+04   7570.536     -7.537      0.000   -7.19e+04   -4.22e+04\n",
       "View_PugetSound           7.364e+04   9351.981      7.874      0.000    5.53e+04     9.2e+04\n",
       "View_LakeWashington        3.69e+05   7669.740     48.116      0.000    3.54e+05    3.84e+05\n",
       "View_LakeSammamish        3.232e+05   1.39e+04     23.176      0.000    2.96e+05    3.51e+05\n",
       "View_SmallLakeRiverCreek  5.924e+04   1.05e+04      5.624      0.000    3.86e+04    7.99e+04\n",
       "==============================================================================\n",
       "Omnibus:                    27329.781   Durbin-Watson:                   1.033\n",
       "Prob(Omnibus):                  0.000   Jarque-Bera (JB):          3312282.035\n",
       "Skew:                           4.515   Prob(JB):                         0.00\n",
       "Kurtosis:                      55.693   Cond. No.                     1.21e+04\n",
       "==============================================================================\n",
       "\n",
       "Warnings:\n",
       "[1] Standard Errors assume that the covariance matrix of the errors is correctly specified.\n",
       "[2] The condition number is large, 1.21e+04. This might indicate that there are\n",
       "strong multicollinearity or other numerical problems.\n",
       "\"\"\""
      ]
     },
     "execution_count": 354,
     "metadata": {},
     "output_type": "execute_result"
    }
   ],
   "source": [
    "predictors = '+'.join(x_cols)\n",
    "formula = outcome + '~' + predictors\n",
    "ml_model3 = ols(formula=formula, data=comb_df).fit()\n",
    "ml_model3.summary()"
   ]
  },
  {
   "cell_type": "markdown",
   "metadata": {},
   "source": [
    "## ML_Model4 -- Nuisance"
   ]
  },
  {
   "cell_type": "code",
   "execution_count": 328,
   "metadata": {},
   "outputs": [],
   "source": [
    "outcome = 'SalePrice'\n",
    "x_cols = ['SqFtTotLiving','TrafficNoise', 'PowerLines']\n"
   ]
  },
  {
   "cell_type": "code",
   "execution_count": 329,
   "metadata": {},
   "outputs": [
    {
     "data": {
      "text/html": [
       "<table class=\"simpletable\">\n",
       "<caption>OLS Regression Results</caption>\n",
       "<tr>\n",
       "  <th>Dep. Variable:</th>        <td>SalePrice</td>    <th>  R-squared:         </th>  <td>   0.332</td>  \n",
       "</tr>\n",
       "<tr>\n",
       "  <th>Model:</th>                   <td>OLS</td>       <th>  Adj. R-squared:    </th>  <td>   0.332</td>  \n",
       "</tr>\n",
       "<tr>\n",
       "  <th>Method:</th>             <td>Least Squares</td>  <th>  F-statistic:       </th>  <td>   4591.</td>  \n",
       "</tr>\n",
       "<tr>\n",
       "  <th>Date:</th>             <td>Tue, 29 Sep 2020</td> <th>  Prob (F-statistic):</th>   <td>  0.00</td>   \n",
       "</tr>\n",
       "<tr>\n",
       "  <th>Time:</th>                 <td>20:36:51</td>     <th>  Log-Likelihood:    </th> <td>-4.0285e+05</td>\n",
       "</tr>\n",
       "<tr>\n",
       "  <th>No. Observations:</th>      <td> 27728</td>      <th>  AIC:               </th>  <td>8.057e+05</td> \n",
       "</tr>\n",
       "<tr>\n",
       "  <th>Df Residuals:</th>          <td> 27724</td>      <th>  BIC:               </th>  <td>8.057e+05</td> \n",
       "</tr>\n",
       "<tr>\n",
       "  <th>Df Model:</th>              <td>     3</td>      <th>                     </th>      <td> </td>     \n",
       "</tr>\n",
       "<tr>\n",
       "  <th>Covariance Type:</th>      <td>nonrobust</td>    <th>                     </th>      <td> </td>     \n",
       "</tr>\n",
       "</table>\n",
       "<table class=\"simpletable\">\n",
       "<tr>\n",
       "        <td></td>           <th>coef</th>     <th>std err</th>      <th>t</th>      <th>P>|t|</th>  <th>[0.025</th>    <th>0.975]</th>  \n",
       "</tr>\n",
       "<tr>\n",
       "  <th>Intercept</th>     <td> 2.348e+04</td> <td> 7416.255</td> <td>    3.167</td> <td> 0.002</td> <td> 8948.641</td> <td>  3.8e+04</td>\n",
       "</tr>\n",
       "<tr>\n",
       "  <th>SqFtTotLiving</th> <td>  352.9423</td> <td>    3.008</td> <td>  117.320</td> <td> 0.000</td> <td>  347.046</td> <td>  358.839</td>\n",
       "</tr>\n",
       "<tr>\n",
       "  <th>TrafficNoise</th>  <td> 4.314e+04</td> <td> 5353.512</td> <td>    8.059</td> <td> 0.000</td> <td> 3.27e+04</td> <td> 5.36e+04</td>\n",
       "</tr>\n",
       "<tr>\n",
       "  <th>PowerLines</th>    <td>-1.475e+05</td> <td>  2.9e+04</td> <td>   -5.094</td> <td> 0.000</td> <td>-2.04e+05</td> <td>-9.07e+04</td>\n",
       "</tr>\n",
       "</table>\n",
       "<table class=\"simpletable\">\n",
       "<tr>\n",
       "  <th>Omnibus:</th>       <td>28736.048</td> <th>  Durbin-Watson:     </th>  <td>   1.036</td>  \n",
       "</tr>\n",
       "<tr>\n",
       "  <th>Prob(Omnibus):</th>  <td> 0.000</td>   <th>  Jarque-Bera (JB):  </th> <td>3490612.831</td>\n",
       "</tr>\n",
       "<tr>\n",
       "  <th>Skew:</th>           <td> 4.967</td>   <th>  Prob(JB):          </th>  <td>    0.00</td>  \n",
       "</tr>\n",
       "<tr>\n",
       "  <th>Kurtosis:</th>       <td>57.061</td>   <th>  Cond. No.          </th>  <td>2.36e+04</td>  \n",
       "</tr>\n",
       "</table><br/><br/>Warnings:<br/>[1] Standard Errors assume that the covariance matrix of the errors is correctly specified.<br/>[2] The condition number is large, 2.36e+04. This might indicate that there are<br/>strong multicollinearity or other numerical problems."
      ],
      "text/plain": [
       "<class 'statsmodels.iolib.summary.Summary'>\n",
       "\"\"\"\n",
       "                            OLS Regression Results                            \n",
       "==============================================================================\n",
       "Dep. Variable:              SalePrice   R-squared:                       0.332\n",
       "Model:                            OLS   Adj. R-squared:                  0.332\n",
       "Method:                 Least Squares   F-statistic:                     4591.\n",
       "Date:                Tue, 29 Sep 2020   Prob (F-statistic):               0.00\n",
       "Time:                        20:36:51   Log-Likelihood:            -4.0285e+05\n",
       "No. Observations:               27728   AIC:                         8.057e+05\n",
       "Df Residuals:                   27724   BIC:                         8.057e+05\n",
       "Df Model:                           3                                         \n",
       "Covariance Type:            nonrobust                                         \n",
       "=================================================================================\n",
       "                    coef    std err          t      P>|t|      [0.025      0.975]\n",
       "---------------------------------------------------------------------------------\n",
       "Intercept      2.348e+04   7416.255      3.167      0.002    8948.641     3.8e+04\n",
       "SqFtTotLiving   352.9423      3.008    117.320      0.000     347.046     358.839\n",
       "TrafficNoise   4.314e+04   5353.512      8.059      0.000    3.27e+04    5.36e+04\n",
       "PowerLines    -1.475e+05    2.9e+04     -5.094      0.000   -2.04e+05   -9.07e+04\n",
       "==============================================================================\n",
       "Omnibus:                    28736.048   Durbin-Watson:                   1.036\n",
       "Prob(Omnibus):                  0.000   Jarque-Bera (JB):          3490612.831\n",
       "Skew:                           4.967   Prob(JB):                         0.00\n",
       "Kurtosis:                      57.061   Cond. No.                     2.36e+04\n",
       "==============================================================================\n",
       "\n",
       "Warnings:\n",
       "[1] Standard Errors assume that the covariance matrix of the errors is correctly specified.\n",
       "[2] The condition number is large, 2.36e+04. This might indicate that there are\n",
       "strong multicollinearity or other numerical problems.\n",
       "\"\"\""
      ]
     },
     "execution_count": 329,
     "metadata": {},
     "output_type": "execute_result"
    }
   ],
   "source": [
    "predictors = '+'.join(x_cols)\n",
    "formula = outcome + '~' + predictors\n",
    "ml_model4 = ols(formula=formula, data=comb_df).fit()\n",
    "ml_model4.summary()"
   ]
  },
  {
   "cell_type": "markdown",
   "metadata": {},
   "source": [
    "### ML_Model 5 --Porch "
   ]
  },
  {
   "cell_type": "code",
   "execution_count": 330,
   "metadata": {},
   "outputs": [],
   "source": [
    "outcome = 'SalePrice'\n",
    "x_cols = ['SqFtTotLiving', 'Has_OpenPorch','Has_EnclosedPorch']\n"
   ]
  },
  {
   "cell_type": "code",
   "execution_count": 331,
   "metadata": {},
   "outputs": [
    {
     "data": {
      "text/html": [
       "<table class=\"simpletable\">\n",
       "<caption>OLS Regression Results</caption>\n",
       "<tr>\n",
       "  <th>Dep. Variable:</th>        <td>SalePrice</td>    <th>  R-squared:         </th>  <td>   0.332</td>  \n",
       "</tr>\n",
       "<tr>\n",
       "  <th>Model:</th>                   <td>OLS</td>       <th>  Adj. R-squared:    </th>  <td>   0.332</td>  \n",
       "</tr>\n",
       "<tr>\n",
       "  <th>Method:</th>             <td>Least Squares</td>  <th>  F-statistic:       </th>  <td>   4591.</td>  \n",
       "</tr>\n",
       "<tr>\n",
       "  <th>Date:</th>             <td>Tue, 29 Sep 2020</td> <th>  Prob (F-statistic):</th>   <td>  0.00</td>   \n",
       "</tr>\n",
       "<tr>\n",
       "  <th>Time:</th>                 <td>20:37:05</td>     <th>  Log-Likelihood:    </th> <td>-4.0285e+05</td>\n",
       "</tr>\n",
       "<tr>\n",
       "  <th>No. Observations:</th>      <td> 27728</td>      <th>  AIC:               </th>  <td>8.057e+05</td> \n",
       "</tr>\n",
       "<tr>\n",
       "  <th>Df Residuals:</th>          <td> 27724</td>      <th>  BIC:               </th>  <td>8.057e+05</td> \n",
       "</tr>\n",
       "<tr>\n",
       "  <th>Df Model:</th>              <td>     3</td>      <th>                     </th>      <td> </td>     \n",
       "</tr>\n",
       "<tr>\n",
       "  <th>Covariance Type:</th>      <td>nonrobust</td>    <th>                     </th>      <td> </td>     \n",
       "</tr>\n",
       "</table>\n",
       "<table class=\"simpletable\">\n",
       "<tr>\n",
       "          <td></td>             <th>coef</th>     <th>std err</th>      <th>t</th>      <th>P>|t|</th>  <th>[0.025</th>    <th>0.975]</th>  \n",
       "</tr>\n",
       "<tr>\n",
       "  <th>Intercept</th>         <td> 2.793e+04</td> <td> 7419.216</td> <td>    3.765</td> <td> 0.000</td> <td> 1.34e+04</td> <td> 4.25e+04</td>\n",
       "</tr>\n",
       "<tr>\n",
       "  <th>SqFtTotLiving</th>     <td>  358.2657</td> <td>    3.220</td> <td>  111.246</td> <td> 0.000</td> <td>  351.953</td> <td>  364.578</td>\n",
       "</tr>\n",
       "<tr>\n",
       "  <th>Has_OpenPorch</th>     <td>-2.734e+04</td> <td> 6359.046</td> <td>   -4.300</td> <td> 0.000</td> <td>-3.98e+04</td> <td>-1.49e+04</td>\n",
       "</tr>\n",
       "<tr>\n",
       "  <th>Has_EnclosedPorch</th> <td> 1.192e+05</td> <td> 1.41e+04</td> <td>    8.421</td> <td> 0.000</td> <td> 9.14e+04</td> <td> 1.47e+05</td>\n",
       "</tr>\n",
       "</table>\n",
       "<table class=\"simpletable\">\n",
       "<tr>\n",
       "  <th>Omnibus:</th>       <td>28710.064</td> <th>  Durbin-Watson:     </th>  <td>   1.033</td>  \n",
       "</tr>\n",
       "<tr>\n",
       "  <th>Prob(Omnibus):</th>  <td> 0.000</td>   <th>  Jarque-Bera (JB):  </th> <td>3466978.989</td>\n",
       "</tr>\n",
       "<tr>\n",
       "  <th>Skew:</th>           <td> 4.961</td>   <th>  Prob(JB):          </th>  <td>    0.00</td>  \n",
       "</tr>\n",
       "<tr>\n",
       "  <th>Kurtosis:</th>       <td>56.874</td>   <th>  Cond. No.          </th>  <td>1.16e+04</td>  \n",
       "</tr>\n",
       "</table><br/><br/>Warnings:<br/>[1] Standard Errors assume that the covariance matrix of the errors is correctly specified.<br/>[2] The condition number is large, 1.16e+04. This might indicate that there are<br/>strong multicollinearity or other numerical problems."
      ],
      "text/plain": [
       "<class 'statsmodels.iolib.summary.Summary'>\n",
       "\"\"\"\n",
       "                            OLS Regression Results                            \n",
       "==============================================================================\n",
       "Dep. Variable:              SalePrice   R-squared:                       0.332\n",
       "Model:                            OLS   Adj. R-squared:                  0.332\n",
       "Method:                 Least Squares   F-statistic:                     4591.\n",
       "Date:                Tue, 29 Sep 2020   Prob (F-statistic):               0.00\n",
       "Time:                        20:37:05   Log-Likelihood:            -4.0285e+05\n",
       "No. Observations:               27728   AIC:                         8.057e+05\n",
       "Df Residuals:                   27724   BIC:                         8.057e+05\n",
       "Df Model:                           3                                         \n",
       "Covariance Type:            nonrobust                                         \n",
       "=====================================================================================\n",
       "                        coef    std err          t      P>|t|      [0.025      0.975]\n",
       "-------------------------------------------------------------------------------------\n",
       "Intercept          2.793e+04   7419.216      3.765      0.000    1.34e+04    4.25e+04\n",
       "SqFtTotLiving       358.2657      3.220    111.246      0.000     351.953     364.578\n",
       "Has_OpenPorch     -2.734e+04   6359.046     -4.300      0.000   -3.98e+04   -1.49e+04\n",
       "Has_EnclosedPorch  1.192e+05   1.41e+04      8.421      0.000    9.14e+04    1.47e+05\n",
       "==============================================================================\n",
       "Omnibus:                    28710.064   Durbin-Watson:                   1.033\n",
       "Prob(Omnibus):                  0.000   Jarque-Bera (JB):          3466978.989\n",
       "Skew:                           4.961   Prob(JB):                         0.00\n",
       "Kurtosis:                      56.874   Cond. No.                     1.16e+04\n",
       "==============================================================================\n",
       "\n",
       "Warnings:\n",
       "[1] Standard Errors assume that the covariance matrix of the errors is correctly specified.\n",
       "[2] The condition number is large, 1.16e+04. This might indicate that there are\n",
       "strong multicollinearity or other numerical problems.\n",
       "\"\"\""
      ]
     },
     "execution_count": 331,
     "metadata": {},
     "output_type": "execute_result"
    }
   ],
   "source": [
    "predictors = '+'.join(x_cols)\n",
    "formula = outcome + '~' + predictors\n",
    "ml_model5 = ols(formula=formula, data=comb_df).fit()\n",
    "ml_model5.summary()"
   ]
  },
  {
   "cell_type": "markdown",
   "metadata": {},
   "source": [
    "### ML_Model 6 --Zip Code"
   ]
  },
  {
   "cell_type": "code",
   "execution_count": 332,
   "metadata": {},
   "outputs": [],
   "source": [
    "outcome = 'SalePrice'\n",
    "x_cols = ['SqFtTotLiving','ZipCode']"
   ]
  },
  {
   "cell_type": "code",
   "execution_count": 333,
   "metadata": {},
   "outputs": [
    {
     "data": {
      "text/html": [
       "<table class=\"simpletable\">\n",
       "<caption>OLS Regression Results</caption>\n",
       "<tr>\n",
       "  <th>Dep. Variable:</th>        <td>SalePrice</td>    <th>  R-squared:         </th>  <td>   0.332</td>  \n",
       "</tr>\n",
       "<tr>\n",
       "  <th>Model:</th>                   <td>OLS</td>       <th>  Adj. R-squared:    </th>  <td>   0.332</td>  \n",
       "</tr>\n",
       "<tr>\n",
       "  <th>Method:</th>             <td>Least Squares</td>  <th>  F-statistic:       </th>  <td>   6877.</td>  \n",
       "</tr>\n",
       "<tr>\n",
       "  <th>Date:</th>             <td>Tue, 29 Sep 2020</td> <th>  Prob (F-statistic):</th>   <td>  0.00</td>   \n",
       "</tr>\n",
       "<tr>\n",
       "  <th>Time:</th>                 <td>20:37:15</td>     <th>  Log-Likelihood:    </th> <td>-4.0285e+05</td>\n",
       "</tr>\n",
       "<tr>\n",
       "  <th>No. Observations:</th>      <td> 27728</td>      <th>  AIC:               </th>  <td>8.057e+05</td> \n",
       "</tr>\n",
       "<tr>\n",
       "  <th>Df Residuals:</th>          <td> 27725</td>      <th>  BIC:               </th>  <td>8.057e+05</td> \n",
       "</tr>\n",
       "<tr>\n",
       "  <th>Df Model:</th>              <td>     2</td>      <th>                     </th>      <td> </td>     \n",
       "</tr>\n",
       "<tr>\n",
       "  <th>Covariance Type:</th>      <td>nonrobust</td>    <th>                     </th>      <td> </td>     \n",
       "</tr>\n",
       "</table>\n",
       "<table class=\"simpletable\">\n",
       "<tr>\n",
       "        <td></td>           <th>coef</th>     <th>std err</th>      <th>t</th>      <th>P>|t|</th>  <th>[0.025</th>    <th>0.975]</th>  \n",
       "</tr>\n",
       "<tr>\n",
       "  <th>Intercept</th>     <td>-2.651e+07</td> <td> 2.98e+06</td> <td>   -8.912</td> <td> 0.000</td> <td>-3.23e+07</td> <td>-2.07e+07</td>\n",
       "</tr>\n",
       "<tr>\n",
       "  <th>SqFtTotLiving</th> <td>  354.1703</td> <td>    3.022</td> <td>  117.189</td> <td> 0.000</td> <td>  348.247</td> <td>  360.094</td>\n",
       "</tr>\n",
       "<tr>\n",
       "  <th>ZipCode</th>       <td>  270.6155</td> <td>   30.326</td> <td>    8.923</td> <td> 0.000</td> <td>  211.174</td> <td>  330.057</td>\n",
       "</tr>\n",
       "</table>\n",
       "<table class=\"simpletable\">\n",
       "<tr>\n",
       "  <th>Omnibus:</th>       <td>28802.752</td> <th>  Durbin-Watson:     </th>  <td>   1.033</td>  \n",
       "</tr>\n",
       "<tr>\n",
       "  <th>Prob(Omnibus):</th>  <td> 0.000</td>   <th>  Jarque-Bera (JB):  </th> <td>3492031.902</td>\n",
       "</tr>\n",
       "<tr>\n",
       "  <th>Skew:</th>           <td> 4.989</td>   <th>  Prob(JB):          </th>  <td>    0.00</td>  \n",
       "</tr>\n",
       "<tr>\n",
       "  <th>Kurtosis:</th>       <td>57.065</td>   <th>  Cond. No.          </th>  <td>9.84e+07</td>  \n",
       "</tr>\n",
       "</table><br/><br/>Warnings:<br/>[1] Standard Errors assume that the covariance matrix of the errors is correctly specified.<br/>[2] The condition number is large, 9.84e+07. This might indicate that there are<br/>strong multicollinearity or other numerical problems."
      ],
      "text/plain": [
       "<class 'statsmodels.iolib.summary.Summary'>\n",
       "\"\"\"\n",
       "                            OLS Regression Results                            \n",
       "==============================================================================\n",
       "Dep. Variable:              SalePrice   R-squared:                       0.332\n",
       "Model:                            OLS   Adj. R-squared:                  0.332\n",
       "Method:                 Least Squares   F-statistic:                     6877.\n",
       "Date:                Tue, 29 Sep 2020   Prob (F-statistic):               0.00\n",
       "Time:                        20:37:15   Log-Likelihood:            -4.0285e+05\n",
       "No. Observations:               27728   AIC:                         8.057e+05\n",
       "Df Residuals:                   27725   BIC:                         8.057e+05\n",
       "Df Model:                           2                                         \n",
       "Covariance Type:            nonrobust                                         \n",
       "=================================================================================\n",
       "                    coef    std err          t      P>|t|      [0.025      0.975]\n",
       "---------------------------------------------------------------------------------\n",
       "Intercept     -2.651e+07   2.98e+06     -8.912      0.000   -3.23e+07   -2.07e+07\n",
       "SqFtTotLiving   354.1703      3.022    117.189      0.000     348.247     360.094\n",
       "ZipCode         270.6155     30.326      8.923      0.000     211.174     330.057\n",
       "==============================================================================\n",
       "Omnibus:                    28802.752   Durbin-Watson:                   1.033\n",
       "Prob(Omnibus):                  0.000   Jarque-Bera (JB):          3492031.902\n",
       "Skew:                           4.989   Prob(JB):                         0.00\n",
       "Kurtosis:                      57.065   Cond. No.                     9.84e+07\n",
       "==============================================================================\n",
       "\n",
       "Warnings:\n",
       "[1] Standard Errors assume that the covariance matrix of the errors is correctly specified.\n",
       "[2] The condition number is large, 9.84e+07. This might indicate that there are\n",
       "strong multicollinearity or other numerical problems.\n",
       "\"\"\""
      ]
     },
     "execution_count": 333,
     "metadata": {},
     "output_type": "execute_result"
    }
   ],
   "source": [
    "predictors = '+'.join(x_cols)\n",
    "formula = outcome + '~' + predictors\n",
    "ml_model6 = ols(formula=formula, data=comb_df).fit()\n",
    "ml_model6.summary()"
   ]
  },
  {
   "cell_type": "markdown",
   "metadata": {},
   "source": [
    "### ML_Model 7 --All together"
   ]
  },
  {
   "cell_type": "code",
   "execution_count": 357,
   "metadata": {},
   "outputs": [],
   "source": [
    "outcome = 'SalePrice'\n",
    "x_cols = ['SqFtTotLiving','Duwamish', 'Lake_Sammamish', 'Lake_Union', \n",
    "          'Lake_Washington', 'Other_lake','Puget_Sound', 'River_or_slough', 'Ship_Canal',\n",
    "         'TrafficNoise', 'PowerLines','Has_OpenPorch', 'Has_EnclosedPorch', 'ZipCode', \n",
    "          'View_MtRainier', 'View_Olympics','View_Cascades', 'View_PugetSound', 'View_LakeWashington',\n",
    "          'View_LakeSammamish','View_SmallLakeRiverCreek', 'SqFtLot', 'NbrLivingUnits']\n",
    "\n"
   ]
  },
  {
   "cell_type": "code",
   "execution_count": 358,
   "metadata": {},
   "outputs": [
    {
     "data": {
      "text/html": [
       "<table class=\"simpletable\">\n",
       "<caption>OLS Regression Results</caption>\n",
       "<tr>\n",
       "  <th>Dep. Variable:</th>        <td>SalePrice</td>    <th>  R-squared:         </th>  <td>   0.417</td>  \n",
       "</tr>\n",
       "<tr>\n",
       "  <th>Model:</th>                   <td>OLS</td>       <th>  Adj. R-squared:    </th>  <td>   0.417</td>  \n",
       "</tr>\n",
       "<tr>\n",
       "  <th>Method:</th>             <td>Least Squares</td>  <th>  F-statistic:       </th>  <td>   865.0</td>  \n",
       "</tr>\n",
       "<tr>\n",
       "  <th>Date:</th>             <td>Wed, 30 Sep 2020</td> <th>  Prob (F-statistic):</th>   <td>  0.00</td>   \n",
       "</tr>\n",
       "<tr>\n",
       "  <th>Time:</th>                 <td>09:35:16</td>     <th>  Log-Likelihood:    </th> <td>-4.0223e+05</td>\n",
       "</tr>\n",
       "<tr>\n",
       "  <th>No. Observations:</th>      <td> 27814</td>      <th>  AIC:               </th>  <td>8.045e+05</td> \n",
       "</tr>\n",
       "<tr>\n",
       "  <th>Df Residuals:</th>          <td> 27790</td>      <th>  BIC:               </th>  <td>8.047e+05</td> \n",
       "</tr>\n",
       "<tr>\n",
       "  <th>Df Model:</th>              <td>    23</td>      <th>                     </th>      <td> </td>     \n",
       "</tr>\n",
       "<tr>\n",
       "  <th>Covariance Type:</th>      <td>nonrobust</td>    <th>                     </th>      <td> </td>     \n",
       "</tr>\n",
       "</table>\n",
       "<table class=\"simpletable\">\n",
       "<tr>\n",
       "              <td></td>                <th>coef</th>     <th>std err</th>      <th>t</th>      <th>P>|t|</th>  <th>[0.025</th>    <th>0.975]</th>  \n",
       "</tr>\n",
       "<tr>\n",
       "  <th>Intercept</th>                <td>-1.923e+07</td> <td> 2.81e+06</td> <td>   -6.853</td> <td> 0.000</td> <td>-2.47e+07</td> <td>-1.37e+07</td>\n",
       "</tr>\n",
       "<tr>\n",
       "  <th>SqFtTotLiving</th>            <td>  328.4632</td> <td>    3.148</td> <td>  104.330</td> <td> 0.000</td> <td>  322.292</td> <td>  334.634</td>\n",
       "</tr>\n",
       "<tr>\n",
       "  <th>Duwamish</th>                 <td>-1.651e+05</td> <td> 2.69e+05</td> <td>   -0.615</td> <td> 0.539</td> <td>-6.92e+05</td> <td> 3.61e+05</td>\n",
       "</tr>\n",
       "<tr>\n",
       "  <th>Lake_Sammamish</th>           <td> 1.402e+06</td> <td> 1.06e+05</td> <td>   13.220</td> <td> 0.000</td> <td> 1.19e+06</td> <td> 1.61e+06</td>\n",
       "</tr>\n",
       "<tr>\n",
       "  <th>Lake_Union</th>               <td> 3.431e+05</td> <td> 4.62e+05</td> <td>    0.743</td> <td> 0.458</td> <td>-5.62e+05</td> <td> 1.25e+06</td>\n",
       "</tr>\n",
       "<tr>\n",
       "  <th>Lake_Washington</th>          <td> 1.314e+06</td> <td> 5.42e+04</td> <td>   24.251</td> <td> 0.000</td> <td> 1.21e+06</td> <td> 1.42e+06</td>\n",
       "</tr>\n",
       "<tr>\n",
       "  <th>Other_lake</th>               <td>-1.338e+05</td> <td> 5.85e+04</td> <td>   -2.289</td> <td> 0.022</td> <td>-2.48e+05</td> <td>-1.92e+04</td>\n",
       "</tr>\n",
       "<tr>\n",
       "  <th>Puget_Sound</th>              <td> 1.805e+05</td> <td> 5.76e+04</td> <td>    3.135</td> <td> 0.002</td> <td> 6.76e+04</td> <td> 2.93e+05</td>\n",
       "</tr>\n",
       "<tr>\n",
       "  <th>River_or_slough</th>          <td>-3.016e+04</td> <td> 5.81e+04</td> <td>   -0.519</td> <td> 0.603</td> <td>-1.44e+05</td> <td> 8.36e+04</td>\n",
       "</tr>\n",
       "<tr>\n",
       "  <th>Ship_Canal</th>               <td> 5.418e+05</td> <td> 1.83e+05</td> <td>    2.954</td> <td> 0.003</td> <td> 1.82e+05</td> <td> 9.01e+05</td>\n",
       "</tr>\n",
       "<tr>\n",
       "  <th>TrafficNoise</th>             <td> 1.638e+04</td> <td> 4997.479</td> <td>    3.277</td> <td> 0.001</td> <td> 6582.614</td> <td> 2.62e+04</td>\n",
       "</tr>\n",
       "<tr>\n",
       "  <th>PowerLines</th>               <td>-1.024e+05</td> <td> 2.72e+04</td> <td>   -3.768</td> <td> 0.000</td> <td>-1.56e+05</td> <td>-4.91e+04</td>\n",
       "</tr>\n",
       "<tr>\n",
       "  <th>Has_OpenPorch</th>            <td>-8782.6403</td> <td> 5957.888</td> <td>   -1.474</td> <td> 0.140</td> <td>-2.05e+04</td> <td> 2895.114</td>\n",
       "</tr>\n",
       "<tr>\n",
       "  <th>Has_EnclosedPorch</th>        <td> 9.534e+04</td> <td> 1.32e+04</td> <td>    7.213</td> <td> 0.000</td> <td> 6.94e+04</td> <td> 1.21e+05</td>\n",
       "</tr>\n",
       "<tr>\n",
       "  <th>ZipCode</th>                  <td>  196.9337</td> <td>   28.607</td> <td>    6.884</td> <td> 0.000</td> <td>  140.862</td> <td>  253.005</td>\n",
       "</tr>\n",
       "<tr>\n",
       "  <th>View_MtRainier</th>           <td> 2799.4572</td> <td> 1.15e+04</td> <td>    0.243</td> <td> 0.808</td> <td>-1.98e+04</td> <td> 2.54e+04</td>\n",
       "</tr>\n",
       "<tr>\n",
       "  <th>View_Olympics</th>            <td> 8.944e+04</td> <td> 9585.762</td> <td>    9.330</td> <td> 0.000</td> <td> 7.07e+04</td> <td> 1.08e+05</td>\n",
       "</tr>\n",
       "<tr>\n",
       "  <th>View_Cascades</th>            <td>-4901.5798</td> <td> 7720.235</td> <td>   -0.635</td> <td> 0.525</td> <td>   -2e+04</td> <td> 1.02e+04</td>\n",
       "</tr>\n",
       "<tr>\n",
       "  <th>View_PugetSound</th>          <td> 3.245e+04</td> <td> 1.06e+04</td> <td>    3.050</td> <td> 0.002</td> <td> 1.16e+04</td> <td> 5.33e+04</td>\n",
       "</tr>\n",
       "<tr>\n",
       "  <th>View_LakeWashington</th>      <td> 2.204e+05</td> <td> 9465.686</td> <td>   23.289</td> <td> 0.000</td> <td> 2.02e+05</td> <td> 2.39e+05</td>\n",
       "</tr>\n",
       "<tr>\n",
       "  <th>View_LakeSammamish</th>       <td> 1.183e+05</td> <td> 2.01e+04</td> <td>    5.874</td> <td> 0.000</td> <td> 7.88e+04</td> <td> 1.58e+05</td>\n",
       "</tr>\n",
       "<tr>\n",
       "  <th>View_SmallLakeRiverCreek</th> <td> 7.673e+04</td> <td> 1.64e+04</td> <td>    4.692</td> <td> 0.000</td> <td> 4.47e+04</td> <td> 1.09e+05</td>\n",
       "</tr>\n",
       "<tr>\n",
       "  <th>SqFtLot</th>                  <td>   -0.4267</td> <td>    0.074</td> <td>   -5.749</td> <td> 0.000</td> <td>   -0.572</td> <td>   -0.281</td>\n",
       "</tr>\n",
       "<tr>\n",
       "  <th>NbrLivingUnits</th>           <td>-2.826e+04</td> <td> 1.66e+04</td> <td>   -1.703</td> <td> 0.089</td> <td>-6.08e+04</td> <td> 4268.912</td>\n",
       "</tr>\n",
       "</table>\n",
       "<table class=\"simpletable\">\n",
       "<tr>\n",
       "  <th>Omnibus:</th>       <td>26859.766</td> <th>  Durbin-Watson:     </th>  <td>   1.028</td>  \n",
       "</tr>\n",
       "<tr>\n",
       "  <th>Prob(Omnibus):</th>  <td> 0.000</td>   <th>  Jarque-Bera (JB):  </th> <td>3446671.594</td>\n",
       "</tr>\n",
       "<tr>\n",
       "  <th>Skew:</th>           <td> 4.355</td>   <th>  Prob(JB):          </th>  <td>    0.00</td>  \n",
       "</tr>\n",
       "<tr>\n",
       "  <th>Kurtosis:</th>       <td>56.835</td>   <th>  Cond. No.          </th>  <td>1.01e+08</td>  \n",
       "</tr>\n",
       "</table><br/><br/>Warnings:<br/>[1] Standard Errors assume that the covariance matrix of the errors is correctly specified.<br/>[2] The condition number is large, 1.01e+08. This might indicate that there are<br/>strong multicollinearity or other numerical problems."
      ],
      "text/plain": [
       "<class 'statsmodels.iolib.summary.Summary'>\n",
       "\"\"\"\n",
       "                            OLS Regression Results                            \n",
       "==============================================================================\n",
       "Dep. Variable:              SalePrice   R-squared:                       0.417\n",
       "Model:                            OLS   Adj. R-squared:                  0.417\n",
       "Method:                 Least Squares   F-statistic:                     865.0\n",
       "Date:                Wed, 30 Sep 2020   Prob (F-statistic):               0.00\n",
       "Time:                        09:35:16   Log-Likelihood:            -4.0223e+05\n",
       "No. Observations:               27814   AIC:                         8.045e+05\n",
       "Df Residuals:                   27790   BIC:                         8.047e+05\n",
       "Df Model:                          23                                         \n",
       "Covariance Type:            nonrobust                                         \n",
       "============================================================================================\n",
       "                               coef    std err          t      P>|t|      [0.025      0.975]\n",
       "--------------------------------------------------------------------------------------------\n",
       "Intercept                -1.923e+07   2.81e+06     -6.853      0.000   -2.47e+07   -1.37e+07\n",
       "SqFtTotLiving              328.4632      3.148    104.330      0.000     322.292     334.634\n",
       "Duwamish                 -1.651e+05   2.69e+05     -0.615      0.539   -6.92e+05    3.61e+05\n",
       "Lake_Sammamish            1.402e+06   1.06e+05     13.220      0.000    1.19e+06    1.61e+06\n",
       "Lake_Union                3.431e+05   4.62e+05      0.743      0.458   -5.62e+05    1.25e+06\n",
       "Lake_Washington           1.314e+06   5.42e+04     24.251      0.000    1.21e+06    1.42e+06\n",
       "Other_lake               -1.338e+05   5.85e+04     -2.289      0.022   -2.48e+05   -1.92e+04\n",
       "Puget_Sound               1.805e+05   5.76e+04      3.135      0.002    6.76e+04    2.93e+05\n",
       "River_or_slough          -3.016e+04   5.81e+04     -0.519      0.603   -1.44e+05    8.36e+04\n",
       "Ship_Canal                5.418e+05   1.83e+05      2.954      0.003    1.82e+05    9.01e+05\n",
       "TrafficNoise              1.638e+04   4997.479      3.277      0.001    6582.614    2.62e+04\n",
       "PowerLines               -1.024e+05   2.72e+04     -3.768      0.000   -1.56e+05   -4.91e+04\n",
       "Has_OpenPorch            -8782.6403   5957.888     -1.474      0.140   -2.05e+04    2895.114\n",
       "Has_EnclosedPorch         9.534e+04   1.32e+04      7.213      0.000    6.94e+04    1.21e+05\n",
       "ZipCode                    196.9337     28.607      6.884      0.000     140.862     253.005\n",
       "View_MtRainier            2799.4572   1.15e+04      0.243      0.808   -1.98e+04    2.54e+04\n",
       "View_Olympics             8.944e+04   9585.762      9.330      0.000    7.07e+04    1.08e+05\n",
       "View_Cascades            -4901.5798   7720.235     -0.635      0.525      -2e+04    1.02e+04\n",
       "View_PugetSound           3.245e+04   1.06e+04      3.050      0.002    1.16e+04    5.33e+04\n",
       "View_LakeWashington       2.204e+05   9465.686     23.289      0.000    2.02e+05    2.39e+05\n",
       "View_LakeSammamish        1.183e+05   2.01e+04      5.874      0.000    7.88e+04    1.58e+05\n",
       "View_SmallLakeRiverCreek  7.673e+04   1.64e+04      4.692      0.000    4.47e+04    1.09e+05\n",
       "SqFtLot                     -0.4267      0.074     -5.749      0.000      -0.572      -0.281\n",
       "NbrLivingUnits           -2.826e+04   1.66e+04     -1.703      0.089   -6.08e+04    4268.912\n",
       "==============================================================================\n",
       "Omnibus:                    26859.766   Durbin-Watson:                   1.028\n",
       "Prob(Omnibus):                  0.000   Jarque-Bera (JB):          3446671.594\n",
       "Skew:                           4.355   Prob(JB):                         0.00\n",
       "Kurtosis:                      56.835   Cond. No.                     1.01e+08\n",
       "==============================================================================\n",
       "\n",
       "Warnings:\n",
       "[1] Standard Errors assume that the covariance matrix of the errors is correctly specified.\n",
       "[2] The condition number is large, 1.01e+08. This might indicate that there are\n",
       "strong multicollinearity or other numerical problems.\n",
       "\"\"\""
      ]
     },
     "execution_count": 358,
     "metadata": {},
     "output_type": "execute_result"
    }
   ],
   "source": [
    "predictors = '+'.join(x_cols)\n",
    "formula = outcome + '~' + predictors\n",
    "ml_model7 = ols(formula=formula, data=comb_df).fit()\n",
    "ml_model7.summary()"
   ]
  },
  {
   "cell_type": "markdown",
   "metadata": {},
   "source": [
    "# Multicollinearity check"
   ]
  },
  {
   "cell_type": "code",
   "execution_count": null,
   "metadata": {},
   "outputs": [],
   "source": []
  },
  {
   "cell_type": "code",
   "execution_count": 293,
   "metadata": {},
   "outputs": [],
   "source": [
    "from statsmodels.stats.outliers_influence import variance_inflation_factor"
   ]
  },
  {
   "cell_type": "code",
   "execution_count": 359,
   "metadata": {},
   "outputs": [
    {
     "data": {
      "text/plain": [
       "[('SqFtTotLiving', 7.494475853140088),\n",
       " ('Duwamish', 1.0152593212996308),\n",
       " ('Lake_Sammamish', 2.1613523052493324),\n",
       " ('Lake_Union', 1.0004528793082261),\n",
       " ('Lake_Washington', 1.5966474879217631),\n",
       " ('Other_lake', 2.131256512398638),\n",
       " ('Puget_Sound', 1.3984994233740196),\n",
       " ('River_or_slough', 1.2803015465126832),\n",
       " ('Ship_Canal', 1.1038205379200363),\n",
       " ('TrafficNoise', 1.1507303039629746),\n",
       " ('PowerLines', 1.0210498127232637),\n",
       " ('Has_OpenPorch', 2.461204238039413),\n",
       " ('Has_EnclosedPorch', 1.0625621163269325),\n",
       " ('ZipCode', 42.551799283555624),\n",
       " ('View_MtRainier', 1.1118429972799286),\n",
       " ('View_Olympics', 1.883481591169244),\n",
       " ('View_Cascades', 1.3024433914448583),\n",
       " ('View_PugetSound', 2.381978512077907),\n",
       " ('View_LakeWashington', 1.8563198438499624),\n",
       " ('View_LakeSammamish', 2.2275266603287553),\n",
       " ('View_SmallLakeRiverCreek', 2.5191322692725984),\n",
       " ('SqFtLot', 1.2548614205506088),\n",
       " ('NbrLivingUnits', 38.149636772792725)]"
      ]
     },
     "execution_count": 359,
     "metadata": {},
     "output_type": "execute_result"
    }
   ],
   "source": [
    "X = comb_df[x_cols]\n",
    "vif = [variance_inflation_factor(X.values, i) for i in range(X.shape[1])]\n",
    "list(zip(x_cols, vif))\n"
   ]
  },
  {
   "cell_type": "code",
   "execution_count": 296,
   "metadata": {},
   "outputs": [],
   "source": [
    "#looking for under 5 vif?"
   ]
  },
  {
   "cell_type": "code",
   "execution_count": 360,
   "metadata": {},
   "outputs": [
    {
     "name": "stdout",
     "output_type": "stream",
     "text": [
      "Rainbow statistic: 1.021799510228981\n",
      "Rainbow p-value: 0.10186330515837684\n"
     ]
    }
   ],
   "source": [
    "#testing with Rainbow test\n",
    "\n",
    "rainbow_statistic, rainbow_p_value = linear_rainbow(ml_model7)\n",
    "print(\"Rainbow statistic:\", rainbow_statistic)\n",
    "print(\"Rainbow p-value:\", rainbow_p_value)"
   ]
  },
  {
   "cell_type": "markdown",
   "metadata": {},
   "source": [
    "# Normality Check/Q-Q plot\n"
   ]
  },
  {
   "cell_type": "code",
   "execution_count": 361,
   "metadata": {},
   "outputs": [],
   "source": [
    "import statsmodels.api as sm\n",
    "import scipy.stats as stats\n",
    "\n",
    "dist=stats.norm\n",
    "fit=True"
   ]
  },
  {
   "cell_type": "code",
   "execution_count": 363,
   "metadata": {},
   "outputs": [
    {
     "data": {
      "image/png": "[encoded data removed]",
      "text/plain": [
       "<Figure size 432x288 with 1 Axes>"
      ]
     },
     "metadata": {
      "needs_background": "light"
     },
     "output_type": "display_data"
    }
   ],
   "source": [
    "fig = sm.graphics.qqplot(ml_model7.resid, line='s',dist=stats.norm, fit=True)\n"
   ]
  },
  {
   "cell_type": "code",
   "execution_count": null,
   "metadata": {},
   "outputs": [],
   "source": []
  },
  {
   "cell_type": "markdown",
   "metadata": {},
   "source": [
    "# Homoscedasticity Check"
   ]
  },
  {
   "cell_type": "code",
   "execution_count": 318,
   "metadata": {},
   "outputs": [
    {
     "data": {
      "image/png": "[encoded data removed]",
      "text/plain": [
       "<Figure size 432x288 with 1 Axes>"
      ]
     },
     "metadata": {
      "needs_background": "light"
     },
     "output_type": "display_data"
    }
   ],
   "source": [
    "plt.scatter(ml_model7.predict(comb_df[x_cols]), ml_model7.resid)\n",
    "plt.plot(ml_model7.predict(comb_df[x_cols]), [0 for i in range(len(comb_df))]);"
   ]
  },
  {
   "cell_type": "code",
   "execution_count": 364,
   "metadata": {},
   "outputs": [
    {
     "data": {
      "image/png": "[encoded data removed]",
      "text/plain": [
       "<Figure size 432x288 with 1 Axes>"
      ]
     },
     "metadata": {
      "needs_background": "light"
     },
     "output_type": "display_data"
    }
   ],
   "source": [
    "plt.scatter(ml_model7.predict(comb_df[x_cols]), ml_model7.resid)\n",
    "plt.plot(ml_model7.predict(comb_df[x_cols]), [0 for i in range(len(comb_df))]);\n"
   ]
  },
  {
   "cell_type": "markdown",
   "metadata": {},
   "source": [
    "# Model Improvements"
   ]
  },
  {
   "cell_type": "markdown",
   "metadata": {},
   "source": [
    "### MI_Model1"
   ]
  },
  {
   "cell_type": "code",
   "execution_count": 366,
   "metadata": {},
   "outputs": [
    {
     "data": {
      "text/html": [
       "<table class=\"simpletable\">\n",
       "<caption>OLS Regression Results</caption>\n",
       "<tr>\n",
       "  <th>Dep. Variable:</th>        <td>SalePrice</td>    <th>  R-squared:         </th>  <td>   0.417</td>  \n",
       "</tr>\n",
       "<tr>\n",
       "  <th>Model:</th>                   <td>OLS</td>       <th>  Adj. R-squared:    </th>  <td>   0.417</td>  \n",
       "</tr>\n",
       "<tr>\n",
       "  <th>Method:</th>             <td>Least Squares</td>  <th>  F-statistic:       </th>  <td>   1243.</td>  \n",
       "</tr>\n",
       "<tr>\n",
       "  <th>Date:</th>             <td>Wed, 30 Sep 2020</td> <th>  Prob (F-statistic):</th>   <td>  0.00</td>   \n",
       "</tr>\n",
       "<tr>\n",
       "  <th>Time:</th>                 <td>10:10:55</td>     <th>  Log-Likelihood:    </th> <td>-4.0223e+05</td>\n",
       "</tr>\n",
       "<tr>\n",
       "  <th>No. Observations:</th>      <td> 27814</td>      <th>  AIC:               </th>  <td>8.045e+05</td> \n",
       "</tr>\n",
       "<tr>\n",
       "  <th>Df Residuals:</th>          <td> 27797</td>      <th>  BIC:               </th>  <td>8.046e+05</td> \n",
       "</tr>\n",
       "<tr>\n",
       "  <th>Df Model:</th>              <td>    16</td>      <th>                     </th>      <td> </td>     \n",
       "</tr>\n",
       "<tr>\n",
       "  <th>Covariance Type:</th>      <td>nonrobust</td>    <th>                     </th>      <td> </td>     \n",
       "</tr>\n",
       "</table>\n",
       "<table class=\"simpletable\">\n",
       "<tr>\n",
       "              <td></td>                <th>coef</th>     <th>std err</th>      <th>t</th>      <th>P>|t|</th>  <th>[0.025</th>    <th>0.975]</th>  \n",
       "</tr>\n",
       "<tr>\n",
       "  <th>Intercept</th>                <td>-1.926e+07</td> <td>  2.8e+06</td> <td>   -6.872</td> <td> 0.000</td> <td>-2.48e+07</td> <td>-1.38e+07</td>\n",
       "</tr>\n",
       "<tr>\n",
       "  <th>SqFtTotLiving</th>            <td>  326.6113</td> <td>    2.948</td> <td>  110.775</td> <td> 0.000</td> <td>  320.832</td> <td>  332.390</td>\n",
       "</tr>\n",
       "<tr>\n",
       "  <th>Lake_Sammamish</th>           <td> 1.412e+06</td> <td> 1.05e+05</td> <td>   13.469</td> <td> 0.000</td> <td> 1.21e+06</td> <td> 1.62e+06</td>\n",
       "</tr>\n",
       "<tr>\n",
       "  <th>Lake_Washington</th>          <td>  1.32e+06</td> <td> 5.31e+04</td> <td>   24.861</td> <td> 0.000</td> <td> 1.22e+06</td> <td> 1.42e+06</td>\n",
       "</tr>\n",
       "<tr>\n",
       "  <th>Other_lake</th>               <td>-1.203e+05</td> <td> 5.49e+04</td> <td>   -2.191</td> <td> 0.028</td> <td>-2.28e+05</td> <td>-1.27e+04</td>\n",
       "</tr>\n",
       "<tr>\n",
       "  <th>Puget_Sound</th>              <td> 1.801e+05</td> <td> 5.76e+04</td> <td>    3.130</td> <td> 0.002</td> <td> 6.73e+04</td> <td> 2.93e+05</td>\n",
       "</tr>\n",
       "<tr>\n",
       "  <th>Ship_Canal</th>               <td> 5.594e+05</td> <td> 1.81e+05</td> <td>    3.082</td> <td> 0.002</td> <td> 2.04e+05</td> <td> 9.15e+05</td>\n",
       "</tr>\n",
       "<tr>\n",
       "  <th>TrafficNoise</th>             <td> 1.633e+04</td> <td> 4990.691</td> <td>    3.272</td> <td> 0.001</td> <td> 6549.801</td> <td> 2.61e+04</td>\n",
       "</tr>\n",
       "<tr>\n",
       "  <th>PowerLines</th>               <td>-1.019e+05</td> <td> 2.72e+04</td> <td>   -3.750</td> <td> 0.000</td> <td>-1.55e+05</td> <td>-4.86e+04</td>\n",
       "</tr>\n",
       "<tr>\n",
       "  <th>Has_EnclosedPorch</th>        <td> 9.568e+04</td> <td> 1.32e+04</td> <td>    7.241</td> <td> 0.000</td> <td> 6.98e+04</td> <td> 1.22e+05</td>\n",
       "</tr>\n",
       "<tr>\n",
       "  <th>ZipCode</th>                  <td>  196.9265</td> <td>   28.567</td> <td>    6.894</td> <td> 0.000</td> <td>  140.934</td> <td>  252.919</td>\n",
       "</tr>\n",
       "<tr>\n",
       "  <th>View_Olympics</th>            <td> 9.003e+04</td> <td> 9467.666</td> <td>    9.509</td> <td> 0.000</td> <td> 7.15e+04</td> <td> 1.09e+05</td>\n",
       "</tr>\n",
       "<tr>\n",
       "  <th>View_PugetSound</th>          <td> 3.235e+04</td> <td> 1.05e+04</td> <td>    3.080</td> <td> 0.002</td> <td> 1.18e+04</td> <td> 5.29e+04</td>\n",
       "</tr>\n",
       "<tr>\n",
       "  <th>View_LakeWashington</th>      <td> 2.191e+05</td> <td> 8843.552</td> <td>   24.780</td> <td> 0.000</td> <td> 2.02e+05</td> <td> 2.36e+05</td>\n",
       "</tr>\n",
       "<tr>\n",
       "  <th>View_LakeSammamish</th>       <td> 1.159e+05</td> <td> 1.97e+04</td> <td>    5.886</td> <td> 0.000</td> <td> 7.73e+04</td> <td> 1.55e+05</td>\n",
       "</tr>\n",
       "<tr>\n",
       "  <th>View_SmallLakeRiverCreek</th> <td> 7.182e+04</td> <td> 1.44e+04</td> <td>    4.971</td> <td> 0.000</td> <td> 4.35e+04</td> <td>    1e+05</td>\n",
       "</tr>\n",
       "<tr>\n",
       "  <th>SqFtLot</th>                  <td>   -0.4293</td> <td>    0.073</td> <td>   -5.909</td> <td> 0.000</td> <td>   -0.572</td> <td>   -0.287</td>\n",
       "</tr>\n",
       "</table>\n",
       "<table class=\"simpletable\">\n",
       "<tr>\n",
       "  <th>Omnibus:</th>       <td>26873.048</td> <th>  Durbin-Watson:     </th>  <td>   1.029</td>  \n",
       "</tr>\n",
       "<tr>\n",
       "  <th>Prob(Omnibus):</th>  <td> 0.000</td>   <th>  Jarque-Bera (JB):  </th> <td>3450828.163</td>\n",
       "</tr>\n",
       "<tr>\n",
       "  <th>Skew:</th>           <td> 4.359</td>   <th>  Prob(JB):          </th>  <td>    0.00</td>  \n",
       "</tr>\n",
       "<tr>\n",
       "  <th>Kurtosis:</th>       <td>56.867</td>   <th>  Cond. No.          </th>  <td>1.01e+08</td>  \n",
       "</tr>\n",
       "</table><br/><br/>Warnings:<br/>[1] Standard Errors assume that the covariance matrix of the errors is correctly specified.<br/>[2] The condition number is large, 1.01e+08. This might indicate that there are<br/>strong multicollinearity or other numerical problems."
      ],
      "text/plain": [
       "<class 'statsmodels.iolib.summary.Summary'>\n",
       "\"\"\"\n",
       "                            OLS Regression Results                            \n",
       "==============================================================================\n",
       "Dep. Variable:              SalePrice   R-squared:                       0.417\n",
       "Model:                            OLS   Adj. R-squared:                  0.417\n",
       "Method:                 Least Squares   F-statistic:                     1243.\n",
       "Date:                Wed, 30 Sep 2020   Prob (F-statistic):               0.00\n",
       "Time:                        10:10:55   Log-Likelihood:            -4.0223e+05\n",
       "No. Observations:               27814   AIC:                         8.045e+05\n",
       "Df Residuals:                   27797   BIC:                         8.046e+05\n",
       "Df Model:                          16                                         \n",
       "Covariance Type:            nonrobust                                         \n",
       "============================================================================================\n",
       "                               coef    std err          t      P>|t|      [0.025      0.975]\n",
       "--------------------------------------------------------------------------------------------\n",
       "Intercept                -1.926e+07    2.8e+06     -6.872      0.000   -2.48e+07   -1.38e+07\n",
       "SqFtTotLiving              326.6113      2.948    110.775      0.000     320.832     332.390\n",
       "Lake_Sammamish            1.412e+06   1.05e+05     13.469      0.000    1.21e+06    1.62e+06\n",
       "Lake_Washington            1.32e+06   5.31e+04     24.861      0.000    1.22e+06    1.42e+06\n",
       "Other_lake               -1.203e+05   5.49e+04     -2.191      0.028   -2.28e+05   -1.27e+04\n",
       "Puget_Sound               1.801e+05   5.76e+04      3.130      0.002    6.73e+04    2.93e+05\n",
       "Ship_Canal                5.594e+05   1.81e+05      3.082      0.002    2.04e+05    9.15e+05\n",
       "TrafficNoise              1.633e+04   4990.691      3.272      0.001    6549.801    2.61e+04\n",
       "PowerLines               -1.019e+05   2.72e+04     -3.750      0.000   -1.55e+05   -4.86e+04\n",
       "Has_EnclosedPorch         9.568e+04   1.32e+04      7.241      0.000    6.98e+04    1.22e+05\n",
       "ZipCode                    196.9265     28.567      6.894      0.000     140.934     252.919\n",
       "View_Olympics             9.003e+04   9467.666      9.509      0.000    7.15e+04    1.09e+05\n",
       "View_PugetSound           3.235e+04   1.05e+04      3.080      0.002    1.18e+04    5.29e+04\n",
       "View_LakeWashington       2.191e+05   8843.552     24.780      0.000    2.02e+05    2.36e+05\n",
       "View_LakeSammamish        1.159e+05   1.97e+04      5.886      0.000    7.73e+04    1.55e+05\n",
       "View_SmallLakeRiverCreek  7.182e+04   1.44e+04      4.971      0.000    4.35e+04       1e+05\n",
       "SqFtLot                     -0.4293      0.073     -5.909      0.000      -0.572      -0.287\n",
       "==============================================================================\n",
       "Omnibus:                    26873.048   Durbin-Watson:                   1.029\n",
       "Prob(Omnibus):                  0.000   Jarque-Bera (JB):          3450828.163\n",
       "Skew:                           4.359   Prob(JB):                         0.00\n",
       "Kurtosis:                      56.867   Cond. No.                     1.01e+08\n",
       "==============================================================================\n",
       "\n",
       "Warnings:\n",
       "[1] Standard Errors assume that the covariance matrix of the errors is correctly specified.\n",
       "[2] The condition number is large, 1.01e+08. This might indicate that there are\n",
       "strong multicollinearity or other numerical problems.\n",
       "\"\"\""
      ]
     },
     "execution_count": 366,
     "metadata": {},
     "output_type": "execute_result"
    }
   ],
   "source": [
    "#MI_Model1: remove not statistically significant inputs based on P-value> .05\n",
    "#Removing: 'Duwamish', 'Lake_Union', 'River_or_slough', 'Has_OpenPorch', 'View_MtRainier', 'View_Cascades', 'NbrLivingUnits'\n",
    "outcome = 'SalePrice'\n",
    "x_cols = ['SqFtTotLiving', 'Lake_Sammamish', \n",
    "          'Lake_Washington', 'Other_lake','Puget_Sound', 'Ship_Canal',\n",
    "         'TrafficNoise', 'PowerLines', 'Has_EnclosedPorch', 'ZipCode', 'View_Olympics', \n",
    "          'View_PugetSound', 'View_LakeWashington',\n",
    "          'View_LakeSammamish','View_SmallLakeRiverCreek', 'SqFtLot']\n",
    "\n",
    "\n",
    "predictors = '+'.join(x_cols)\n",
    "formula = outcome + '~' + predictors\n",
    "mi_model1 = ols(formula=formula, data=comb_df).fit()\n",
    "mi_model1.summary()"
   ]
  },
  {
   "cell_type": "code",
   "execution_count": 370,
   "metadata": {},
   "outputs": [
    {
     "data": {
      "image/png": "[encoded data removed]",
      "text/plain": [
       "<Figure size 432x288 with 1 Axes>"
      ]
     },
     "metadata": {
      "needs_background": "light"
     },
     "output_type": "display_data"
    }
   ],
   "source": [
    "#QQ Plot\n",
    "fig = sm.graphics.qqplot(mi_model1.resid, line='s',dist=stats.norm, fit=True)\n"
   ]
  },
  {
   "cell_type": "code",
   "execution_count": 368,
   "metadata": {},
   "outputs": [
    {
     "data": {
      "image/png": "[encoded data removed]",
      "text/plain": [
       "<Figure size 432x288 with 1 Axes>"
      ]
     },
     "metadata": {
      "needs_background": "light"
     },
     "output_type": "display_data"
    }
   ],
   "source": [
    "# Homoscedasticity Check\n",
    "plt.scatter(mi_model1.predict(comb_df[x_cols]), mi_model1.resid)\n",
    "plt.plot(mi_model1.predict(comb_df[x_cols]), [0 for i in range(len(comb_df))]);"
   ]
  },
  {
   "cell_type": "code",
   "execution_count": 371,
   "metadata": {},
   "outputs": [
    {
     "data": {
      "text/plain": [
       "[('SqFtTotLiving', 6.549849960328992),\n",
       " ('Lake_Sammamish', 2.111976483060293),\n",
       " ('Lake_Washington', 1.5323984770340402),\n",
       " ('Other_lake', 1.8798502399705708),\n",
       " ('Puget_Sound', 1.3972658531796105),\n",
       " ('Ship_Canal', 1.0811008326951386),\n",
       " ('TrafficNoise', 1.1475127017800828),\n",
       " ('PowerLines', 1.02067668643529),\n",
       " ('Has_EnclosedPorch', 1.0616994240495972),\n",
       " ('ZipCode', 6.527112029963885),\n",
       " ('View_Olympics', 1.8373917018958403),\n",
       " ('View_PugetSound', 2.3196032814518883),\n",
       " ('View_LakeWashington', 1.6193413999926847),\n",
       " ('View_LakeSammamish', 2.131913925363369),\n",
       " ('View_SmallLakeRiverCreek', 1.9669175857040124),\n",
       " ('SqFtLot', 1.202692670883771)]"
      ]
     },
     "execution_count": 371,
     "metadata": {},
     "output_type": "execute_result"
    }
   ],
   "source": [
    "# Multicolinearity Check\n",
    "X = comb_df[x_cols]\n",
    "vif = [variance_inflation_factor(X.values, i) for i in range(X.shape[1])]\n",
    "list(zip(x_cols, vif))\n"
   ]
  },
  {
   "cell_type": "code",
   "execution_count": 372,
   "metadata": {},
   "outputs": [
    {
     "name": "stdout",
     "output_type": "stream",
     "text": [
      "Rainbow statistic: 1.0191877045662527\n",
      "Rainbow p-value: 0.1312909715553751\n"
     ]
    }
   ],
   "source": [
    "#Rainbw VIF test\n",
    "rainbow_statistic, rainbow_p_value = linear_rainbow(mi_model1)\n",
    "print(\"Rainbow statistic:\", rainbow_statistic)\n",
    "print(\"Rainbow p-value:\", rainbow_p_value)"
   ]
  },
  {
   "cell_type": "code",
   "execution_count": null,
   "metadata": {},
   "outputs": [],
   "source": []
  },
  {
   "cell_type": "code",
   "execution_count": null,
   "metadata": {},
   "outputs": [],
   "source": [
    "### MI_Model2"
   ]
  },
  {
   "cell_type": "code",
   "execution_count": 373,
   "metadata": {},
   "outputs": [
    {
     "data": {
      "text/html": [
       "<table class=\"simpletable\">\n",
       "<caption>OLS Regression Results</caption>\n",
       "<tr>\n",
       "  <th>Dep. Variable:</th>        <td>SalePrice</td>    <th>  R-squared:         </th>  <td>   0.416</td>  \n",
       "</tr>\n",
       "<tr>\n",
       "  <th>Model:</th>                   <td>OLS</td>       <th>  Adj. R-squared:    </th>  <td>   0.416</td>  \n",
       "</tr>\n",
       "<tr>\n",
       "  <th>Method:</th>             <td>Least Squares</td>  <th>  F-statistic:       </th>  <td>   1320.</td>  \n",
       "</tr>\n",
       "<tr>\n",
       "  <th>Date:</th>             <td>Wed, 30 Sep 2020</td> <th>  Prob (F-statistic):</th>   <td>  0.00</td>   \n",
       "</tr>\n",
       "<tr>\n",
       "  <th>Time:</th>                 <td>10:32:15</td>     <th>  Log-Likelihood:    </th> <td>-4.0226e+05</td>\n",
       "</tr>\n",
       "<tr>\n",
       "  <th>No. Observations:</th>      <td> 27814</td>      <th>  AIC:               </th>  <td>8.045e+05</td> \n",
       "</tr>\n",
       "<tr>\n",
       "  <th>Df Residuals:</th>          <td> 27798</td>      <th>  BIC:               </th>  <td>8.047e+05</td> \n",
       "</tr>\n",
       "<tr>\n",
       "  <th>Df Model:</th>              <td>    15</td>      <th>                     </th>      <td> </td>     \n",
       "</tr>\n",
       "<tr>\n",
       "  <th>Covariance Type:</th>      <td>nonrobust</td>    <th>                     </th>      <td> </td>     \n",
       "</tr>\n",
       "</table>\n",
       "<table class=\"simpletable\">\n",
       "<tr>\n",
       "              <td></td>                <th>coef</th>     <th>std err</th>      <th>t</th>      <th>P>|t|</th>  <th>[0.025</th>    <th>0.975]</th>  \n",
       "</tr>\n",
       "<tr>\n",
       "  <th>Intercept</th>                <td> 5.978e+04</td> <td> 7081.471</td> <td>    8.442</td> <td> 0.000</td> <td> 4.59e+04</td> <td> 7.37e+04</td>\n",
       "</tr>\n",
       "<tr>\n",
       "  <th>SqFtTotLiving</th>            <td>  324.4778</td> <td>    2.935</td> <td>  110.570</td> <td> 0.000</td> <td>  318.726</td> <td>  330.230</td>\n",
       "</tr>\n",
       "<tr>\n",
       "  <th>Lake_Sammamish</th>           <td> 1.417e+06</td> <td> 1.05e+05</td> <td>   13.510</td> <td> 0.000</td> <td> 1.21e+06</td> <td> 1.62e+06</td>\n",
       "</tr>\n",
       "<tr>\n",
       "  <th>Lake_Washington</th>          <td> 1.314e+06</td> <td> 5.31e+04</td> <td>   24.737</td> <td> 0.000</td> <td> 1.21e+06</td> <td> 1.42e+06</td>\n",
       "</tr>\n",
       "<tr>\n",
       "  <th>Other_lake</th>               <td>-1.264e+05</td> <td> 5.49e+04</td> <td>   -2.301</td> <td> 0.021</td> <td>-2.34e+05</td> <td>-1.87e+04</td>\n",
       "</tr>\n",
       "<tr>\n",
       "  <th>Puget_Sound</th>              <td> 1.707e+05</td> <td> 5.76e+04</td> <td>    2.964</td> <td> 0.003</td> <td> 5.78e+04</td> <td> 2.84e+05</td>\n",
       "</tr>\n",
       "<tr>\n",
       "  <th>Ship_Canal</th>               <td> 5.677e+05</td> <td> 1.82e+05</td> <td>    3.126</td> <td> 0.002</td> <td> 2.12e+05</td> <td> 9.24e+05</td>\n",
       "</tr>\n",
       "<tr>\n",
       "  <th>TrafficNoise</th>             <td> 1.763e+04</td> <td> 4991.284</td> <td>    3.533</td> <td> 0.000</td> <td> 7851.183</td> <td> 2.74e+04</td>\n",
       "</tr>\n",
       "<tr>\n",
       "  <th>PowerLines</th>               <td>-1.047e+05</td> <td> 2.72e+04</td> <td>   -3.850</td> <td> 0.000</td> <td>-1.58e+05</td> <td>-5.14e+04</td>\n",
       "</tr>\n",
       "<tr>\n",
       "  <th>Has_EnclosedPorch</th>        <td> 9.959e+04</td> <td> 1.32e+04</td> <td>    7.538</td> <td> 0.000</td> <td> 7.37e+04</td> <td> 1.25e+05</td>\n",
       "</tr>\n",
       "<tr>\n",
       "  <th>View_Olympics</th>            <td> 8.995e+04</td> <td> 9475.578</td> <td>    9.493</td> <td> 0.000</td> <td> 7.14e+04</td> <td> 1.09e+05</td>\n",
       "</tr>\n",
       "<tr>\n",
       "  <th>View_PugetSound</th>          <td> 3.705e+04</td> <td> 1.05e+04</td> <td>    3.532</td> <td> 0.000</td> <td> 1.65e+04</td> <td> 5.76e+04</td>\n",
       "</tr>\n",
       "<tr>\n",
       "  <th>View_LakeWashington</th>      <td> 2.209e+05</td> <td> 8847.173</td> <td>   24.971</td> <td> 0.000</td> <td> 2.04e+05</td> <td> 2.38e+05</td>\n",
       "</tr>\n",
       "<tr>\n",
       "  <th>View_LakeSammamish</th>       <td> 1.133e+05</td> <td> 1.97e+04</td> <td>    5.749</td> <td> 0.000</td> <td> 7.47e+04</td> <td> 1.52e+05</td>\n",
       "</tr>\n",
       "<tr>\n",
       "  <th>View_SmallLakeRiverCreek</th> <td>  7.24e+04</td> <td> 1.45e+04</td> <td>    5.007</td> <td> 0.000</td> <td> 4.41e+04</td> <td> 1.01e+05</td>\n",
       "</tr>\n",
       "<tr>\n",
       "  <th>SqFtLot</th>                  <td>   -0.4532</td> <td>    0.073</td> <td>   -6.239</td> <td> 0.000</td> <td>   -0.596</td> <td>   -0.311</td>\n",
       "</tr>\n",
       "</table>\n",
       "<table class=\"simpletable\">\n",
       "<tr>\n",
       "  <th>Omnibus:</th>       <td>26803.060</td> <th>  Durbin-Watson:     </th>  <td>   1.024</td>  \n",
       "</tr>\n",
       "<tr>\n",
       "  <th>Prob(Omnibus):</th>  <td> 0.000</td>   <th>  Jarque-Bera (JB):  </th> <td>3421436.468</td>\n",
       "</tr>\n",
       "<tr>\n",
       "  <th>Skew:</th>           <td> 4.341</td>   <th>  Prob(JB):          </th>  <td>    0.00</td>  \n",
       "</tr>\n",
       "<tr>\n",
       "  <th>Kurtosis:</th>       <td>56.637</td>   <th>  Cond. No.          </th>  <td>2.75e+06</td>  \n",
       "</tr>\n",
       "</table><br/><br/>Warnings:<br/>[1] Standard Errors assume that the covariance matrix of the errors is correctly specified.<br/>[2] The condition number is large, 2.75e+06. This might indicate that there are<br/>strong multicollinearity or other numerical problems."
      ],
      "text/plain": [
       "<class 'statsmodels.iolib.summary.Summary'>\n",
       "\"\"\"\n",
       "                            OLS Regression Results                            \n",
       "==============================================================================\n",
       "Dep. Variable:              SalePrice   R-squared:                       0.416\n",
       "Model:                            OLS   Adj. R-squared:                  0.416\n",
       "Method:                 Least Squares   F-statistic:                     1320.\n",
       "Date:                Wed, 30 Sep 2020   Prob (F-statistic):               0.00\n",
       "Time:                        10:32:15   Log-Likelihood:            -4.0226e+05\n",
       "No. Observations:               27814   AIC:                         8.045e+05\n",
       "Df Residuals:                   27798   BIC:                         8.047e+05\n",
       "Df Model:                          15                                         \n",
       "Covariance Type:            nonrobust                                         \n",
       "============================================================================================\n",
       "                               coef    std err          t      P>|t|      [0.025      0.975]\n",
       "--------------------------------------------------------------------------------------------\n",
       "Intercept                 5.978e+04   7081.471      8.442      0.000    4.59e+04    7.37e+04\n",
       "SqFtTotLiving              324.4778      2.935    110.570      0.000     318.726     330.230\n",
       "Lake_Sammamish            1.417e+06   1.05e+05     13.510      0.000    1.21e+06    1.62e+06\n",
       "Lake_Washington           1.314e+06   5.31e+04     24.737      0.000    1.21e+06    1.42e+06\n",
       "Other_lake               -1.264e+05   5.49e+04     -2.301      0.021   -2.34e+05   -1.87e+04\n",
       "Puget_Sound               1.707e+05   5.76e+04      2.964      0.003    5.78e+04    2.84e+05\n",
       "Ship_Canal                5.677e+05   1.82e+05      3.126      0.002    2.12e+05    9.24e+05\n",
       "TrafficNoise              1.763e+04   4991.284      3.533      0.000    7851.183    2.74e+04\n",
       "PowerLines               -1.047e+05   2.72e+04     -3.850      0.000   -1.58e+05   -5.14e+04\n",
       "Has_EnclosedPorch         9.959e+04   1.32e+04      7.538      0.000    7.37e+04    1.25e+05\n",
       "View_Olympics             8.995e+04   9475.578      9.493      0.000    7.14e+04    1.09e+05\n",
       "View_PugetSound           3.705e+04   1.05e+04      3.532      0.000    1.65e+04    5.76e+04\n",
       "View_LakeWashington       2.209e+05   8847.173     24.971      0.000    2.04e+05    2.38e+05\n",
       "View_LakeSammamish        1.133e+05   1.97e+04      5.749      0.000    7.47e+04    1.52e+05\n",
       "View_SmallLakeRiverCreek   7.24e+04   1.45e+04      5.007      0.000    4.41e+04    1.01e+05\n",
       "SqFtLot                     -0.4532      0.073     -6.239      0.000      -0.596      -0.311\n",
       "==============================================================================\n",
       "Omnibus:                    26803.060   Durbin-Watson:                   1.024\n",
       "Prob(Omnibus):                  0.000   Jarque-Bera (JB):          3421436.468\n",
       "Skew:                           4.341   Prob(JB):                         0.00\n",
       "Kurtosis:                      56.637   Cond. No.                     2.75e+06\n",
       "==============================================================================\n",
       "\n",
       "Warnings:\n",
       "[1] Standard Errors assume that the covariance matrix of the errors is correctly specified.\n",
       "[2] The condition number is large, 2.75e+06. This might indicate that there are\n",
       "strong multicollinearity or other numerical problems.\n",
       "\"\"\""
      ]
     },
     "execution_count": 373,
     "metadata": {},
     "output_type": "execute_result"
    }
   ],
   "source": [
    "#MI_Model2: remove not statistically significant inputs based on P-value> .05\n",
    "# taking Zip Code out because mutlicolinearity high, 'ZipCode'\n",
    "outcome = 'SalePrice'\n",
    "x_cols = ['SqFtTotLiving', 'Lake_Sammamish', \n",
    "          'Lake_Washington', 'Other_lake','Puget_Sound', 'Ship_Canal',\n",
    "         'TrafficNoise', 'PowerLines', 'Has_EnclosedPorch', 'View_Olympics', \n",
    "          'View_PugetSound', 'View_LakeWashington',\n",
    "          'View_LakeSammamish','View_SmallLakeRiverCreek', 'SqFtLot']\n",
    "\n",
    "\n",
    "predictors = '+'.join(x_cols)\n",
    "formula = outcome + '~' + predictors\n",
    "mi_model2 = ols(formula=formula, data=comb_df).fit()\n",
    "mi_model2.summary()"
   ]
  },
  {
   "cell_type": "code",
   "execution_count": null,
   "metadata": {},
   "outputs": [],
   "source": []
  },
  {
   "cell_type": "code",
   "execution_count": 374,
   "metadata": {},
   "outputs": [
    {
     "data": {
      "image/png": "[encoded data removed]",
      "text/plain": [
       "<Figure size 432x288 with 1 Axes>"
      ]
     },
     "metadata": {
      "needs_background": "light"
     },
     "output_type": "display_data"
    }
   ],
   "source": [
    "#QQ Plot\n",
    "fig = sm.graphics.qqplot(mi_model2.resid, line='s',dist=stats.norm, fit=True)\n"
   ]
  },
  {
   "cell_type": "code",
   "execution_count": null,
   "metadata": {},
   "outputs": [],
   "source": []
  },
  {
   "cell_type": "code",
   "execution_count": 375,
   "metadata": {},
   "outputs": [
    {
     "data": {
      "image/png": "[encoded data removed]",
      "text/plain": [
       "<Figure size 432x288 with 1 Axes>"
      ]
     },
     "metadata": {
      "needs_background": "light"
     },
     "output_type": "display_data"
    }
   ],
   "source": [
    "# Homoscedasticity Check\n",
    "plt.scatter(mi_model2.predict(comb_df[x_cols]), mi_model2.resid)\n",
    "plt.plot(mi_model2.predict(comb_df[x_cols]), [0 for i in range(len(comb_df))]);"
   ]
  },
  {
   "cell_type": "code",
   "execution_count": null,
   "metadata": {},
   "outputs": [],
   "source": []
  },
  {
   "cell_type": "code",
   "execution_count": 376,
   "metadata": {},
   "outputs": [
    {
     "data": {
      "text/plain": [
       "[('SqFtTotLiving', 1.3930430136064247),\n",
       " ('Lake_Sammamish', 2.1117892094703934),\n",
       " ('Lake_Washington', 1.531946260381201),\n",
       " ('Other_lake', 1.8790928157229696),\n",
       " ('Puget_Sound', 1.3963222588016997),\n",
       " ('Ship_Canal', 1.0810798981172165),\n",
       " ('TrafficNoise', 1.1007580998373536),\n",
       " ('PowerLines', 1.019884260551825),\n",
       " ('Has_EnclosedPorch', 1.0345904022227912),\n",
       " ('View_Olympics', 1.8338339623082223),\n",
       " ('View_PugetSound', 2.3191316098546366),\n",
       " ('View_LakeWashington', 1.612991696266967),\n",
       " ('View_LakeSammamish', 2.127089177349419),\n",
       " ('View_SmallLakeRiverCreek', 1.96589595275056),\n",
       " ('SqFtLot', 1.2026538523938215)]"
      ]
     },
     "execution_count": 376,
     "metadata": {},
     "output_type": "execute_result"
    }
   ],
   "source": [
    "# Multicolinearity Check\n",
    "X = comb_df[x_cols]\n",
    "vif = [variance_inflation_factor(X.values, i) for i in range(X.shape[1])]\n",
    "list(zip(x_cols, vif))\n"
   ]
  },
  {
   "cell_type": "code",
   "execution_count": null,
   "metadata": {},
   "outputs": [],
   "source": [
    "#looks like taking out the zip code helped the multicollinearity withSqFtTotLiving"
   ]
  },
  {
   "cell_type": "code",
   "execution_count": 377,
   "metadata": {},
   "outputs": [
    {
     "name": "stdout",
     "output_type": "stream",
     "text": [
      "Rainbow statistic: 1.0191877045662527\n",
      "Rainbow p-value: 0.1312909715553751\n"
     ]
    }
   ],
   "source": [
    "#Rainbw VIF test\n",
    "rainbow_statistic, rainbow_p_value = linear_rainbow(mi_model1)\n",
    "print(\"Rainbow statistic:\", rainbow_statistic)\n",
    "print(\"Rainbow p-value:\", rainbow_p_value)"
   ]
  },
  {
   "cell_type": "code",
   "execution_count": null,
   "metadata": {},
   "outputs": [],
   "source": []
  }
 ],
 "metadata": {
  "kernelspec": {
   "display_name": "learn-env",
   "language": "python",
   "name": "learn-env"
  },
  "language_info": {
   "codemirror_mode": {
    "name": "ipython",
    "version": 3
   },
   "file_extension": ".py",
   "mimetype": "text/x-python",
   "name": "python",
   "nbconvert_exporter": "python",
   "pygments_lexer": "ipython3",
   "version": "3.8.3"
  }
 },
 "nbformat": 4,
 "nbformat_minor": 4
}
