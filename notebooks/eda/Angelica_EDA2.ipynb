{
 "cells": [
  {
   "cell_type": "code",
   "execution_count": 2,
   "metadata": {},
   "outputs": [],
   "source": [
    "\n",
    "import zipfile\n"
   ]
  },
  {
   "cell_type": "code",
   "execution_count": 22,
   "metadata": {},
   "outputs": [],
   "source": [
    "import os\n",
    "\n",
    "import pandas as pd\n",
    "import numpy as np\n",
    "\n",
    "import matplotlib.pyplot as plt\n",
    "import seaborn as sns\n",
    "\n",
    "import statsmodels.api as sm\n",
    "from statsmodels.formula.api import ols\n",
    "from statsmodels.stats.diagnostic import linear_rainbow, het_breuschpagan\n",
    "from statsmodels.stats.outliers_influence import variance_inflation_factor\n",
    "\n",
    "from sklearn.preprocessing import LabelEncoder"
   ]
  },
  {
   "cell_type": "markdown",
   "metadata": {},
   "source": [
    "## Import Data"
   ]
  },
  {
   "cell_type": "code",
   "execution_count": 1,
   "metadata": {
    "scrolled": true
   },
   "outputs": [
    {
     "name": "stdout",
     "output_type": "stream",
     "text": [
      "/bin/sh: wget: command not found\n",
      "/bin/sh: wget: command not found\n"
     ]
    }
   ],
   "source": [
    "! wget -P ../../data/raw https://aqua.kingcounty.gov/extranet/assessor/Real%20Property%20Sales.zip\n",
    "! wget -P ../../data/raw https://aqua.kingcounty.gov/extranet/assessor/Residential%20Building.zip"
   ]
  },
  {
   "cell_type": "code",
   "execution_count": 1,
   "metadata": {},
   "outputs": [
    {
     "name": "stdout",
     "output_type": "stream",
     "text": [
      "wget not found\n"
     ]
    }
   ],
   "source": [
    "! which wget\n"
   ]
  },
  {
   "cell_type": "code",
   "execution_count": 3,
   "metadata": {},
   "outputs": [
    {
     "ename": "NameError",
     "evalue": "name 'zipfile' is not defined",
     "output_type": "error",
     "traceback": [
      "\u001b[0;31m---------------------------------------------------------------------------\u001b[0m",
      "\u001b[0;31mNameError\u001b[0m                                 Traceback (most recent call last)",
      "\u001b[0;32m<ipython-input-3-6e4b7742d735>\u001b[0m in \u001b[0;36m<module>\u001b[0;34m\u001b[0m\n\u001b[0;32m----> 1\u001b[0;31m \u001b[0;32mwith\u001b[0m \u001b[0mzipfile\u001b[0m\u001b[0;34m.\u001b[0m\u001b[0mZipFile\u001b[0m\u001b[0;34m(\u001b[0m\u001b[0;34m'../../data/raw/Parcel.zip'\u001b[0m\u001b[0;34m,\u001b[0m \u001b[0;34m'r'\u001b[0m\u001b[0;34m)\u001b[0m \u001b[0;32mas\u001b[0m \u001b[0mzip_ref\u001b[0m\u001b[0;34m:\u001b[0m\u001b[0;34m\u001b[0m\u001b[0;34m\u001b[0m\u001b[0m\n\u001b[0m\u001b[1;32m      2\u001b[0m     \u001b[0mzip_ref\u001b[0m\u001b[0;34m.\u001b[0m\u001b[0mextractall\u001b[0m\u001b[0;34m(\u001b[0m\u001b[0;34m'../../data/raw'\u001b[0m\u001b[0;34m)\u001b[0m\u001b[0;34m\u001b[0m\u001b[0;34m\u001b[0m\u001b[0m\n\u001b[1;32m      3\u001b[0m \u001b[0;32mwith\u001b[0m \u001b[0mzipfile\u001b[0m\u001b[0;34m.\u001b[0m\u001b[0mZipFile\u001b[0m\u001b[0;34m(\u001b[0m\u001b[0;34m'../../data/raw/Real Property Sales.zip'\u001b[0m\u001b[0;34m,\u001b[0m \u001b[0;34m'r'\u001b[0m\u001b[0;34m)\u001b[0m \u001b[0;32mas\u001b[0m \u001b[0mzip_ref\u001b[0m\u001b[0;34m:\u001b[0m\u001b[0;34m\u001b[0m\u001b[0;34m\u001b[0m\u001b[0m\n\u001b[1;32m      4\u001b[0m     \u001b[0mzip_ref\u001b[0m\u001b[0;34m.\u001b[0m\u001b[0mextractall\u001b[0m\u001b[0;34m(\u001b[0m\u001b[0;34m'../../data/raw'\u001b[0m\u001b[0;34m)\u001b[0m\u001b[0;34m\u001b[0m\u001b[0;34m\u001b[0m\u001b[0m\n\u001b[1;32m      5\u001b[0m \u001b[0;32mwith\u001b[0m \u001b[0mzipfile\u001b[0m\u001b[0;34m.\u001b[0m\u001b[0mZipFile\u001b[0m\u001b[0;34m(\u001b[0m\u001b[0;34m'../../data/raw/Residential Building.zip'\u001b[0m\u001b[0;34m,\u001b[0m \u001b[0;34m'r'\u001b[0m\u001b[0;34m)\u001b[0m \u001b[0;32mas\u001b[0m \u001b[0mzip_ref\u001b[0m\u001b[0;34m:\u001b[0m\u001b[0;34m\u001b[0m\u001b[0;34m\u001b[0m\u001b[0m\n",
      "\u001b[0;31mNameError\u001b[0m: name 'zipfile' is not defined"
     ]
    }
   ],
   "source": [
    "with zipfile.ZipFile('../../data/raw/Parcel.zip', 'r') as zip_ref:\n",
    "    zip_ref.extractall('../../data/raw')\n",
    "with zipfile.ZipFile('../../data/raw/Real Property Sales.zip', 'r') as zip_ref:\n",
    "    zip_ref.extractall('../../data/raw')\n",
    "with zipfile.ZipFile('../../data/raw/Residential Building.zip', 'r') as zip_ref:\n",
    "    zip_ref.extractall('../../data/raw')"
   ]
  },
  {
   "cell_type": "code",
   "execution_count": null,
   "metadata": {},
   "outputs": [],
   "source": [
    "\n"
   ]
  },
  {
   "cell_type": "code",
   "execution_count": 30,
   "metadata": {},
   "outputs": [],
   "source": [
    "parcel = pd.read_csv(\"../../data/raw/EXTR_Parcel.csv\", encoding='latin-1')\n",
    "real_property_sales = pd.read_csv(\"../../data/raw/EXTR_RPSale.csv\", encoding='latin-1', low_memory=False)\n",
    "residential_building = pd.read_csv(\"../../data/raw/EXTR_ResBldg.csv\", encoding='latin-1', low_memory=False)"
   ]
  },
  {
   "cell_type": "code",
   "execution_count": 191,
   "metadata": {},
   "outputs": [
    {
     "name": "stdout",
     "output_type": "stream",
     "text": [
      "<class 'pandas.core.frame.DataFrame'>\n",
      "RangeIndex: 517783 entries, 0 to 517782\n",
      "Data columns (total 7 columns):\n",
      " #   Column             Non-Null Count   Dtype\n",
      "---  ------             --------------   -----\n",
      " 0   Major              517783 non-null  int64\n",
      " 1   Minor              517783 non-null  int64\n",
      " 2   NbrLivingUnits     517783 non-null  int64\n",
      " 3   SqFtTotLiving      517783 non-null  int64\n",
      " 4   SqFtOpenPorch      517783 non-null  int64\n",
      " 5   SqFtEnclosedPorch  517783 non-null  int64\n",
      " 6   Has_Porch          517783 non-null  int64\n",
      "dtypes: int64(7)\n",
      "memory usage: 27.7 MB\n"
     ]
    }
   ],
   "source": [
    "residential_building.info()"
   ]
  },
  {
   "cell_type": "markdown",
   "metadata": {},
   "source": [
    "## Clean Data and Filter For Needed Info"
   ]
  },
  {
   "cell_type": "code",
   "execution_count": 31,
   "metadata": {},
   "outputs": [],
   "source": [
    "# Real Property Sales\n",
    "# Identifyers are Major and Minor. Relevant data is SalePrice\n",
    "# Clean real_property_sales to have proper values in Minor and Major and change type to int to match other data sets\n",
    "real_property_sales = real_property_sales[['Major', 'Minor', 'SalePrice', 'DocumentDate']]\n",
    "real_property_sales = real_property_sales[(real_property_sales['Major'].str.isdecimal()==True) &\n",
    "                                          (real_property_sales['Minor'].str.isdecimal()==True)]\n",
    "real_property_sales['Major'] = real_property_sales['Major'].astype('int64')\n",
    "real_property_sales['Minor'] = real_property_sales['Minor'].astype('int64')\n",
    "real_property_sales = real_property_sales[real_property_sales['SalePrice']>0]"
   ]
  },
  {
   "cell_type": "code",
   "execution_count": 32,
   "metadata": {},
   "outputs": [
    {
     "data": {
      "text/html": [
       "<div>\n",
       "<style scoped>\n",
       "    .dataframe tbody tr th:only-of-type {\n",
       "        vertical-align: middle;\n",
       "    }\n",
       "\n",
       "    .dataframe tbody tr th {\n",
       "        vertical-align: top;\n",
       "    }\n",
       "\n",
       "    .dataframe thead th {\n",
       "        text-align: right;\n",
       "    }\n",
       "</style>\n",
       "<table border=\"1\" class=\"dataframe\">\n",
       "  <thead>\n",
       "    <tr style=\"text-align: right;\">\n",
       "      <th></th>\n",
       "      <th>Major</th>\n",
       "      <th>Minor</th>\n",
       "      <th>SalePrice</th>\n",
       "      <th>DocumentDate</th>\n",
       "    </tr>\n",
       "  </thead>\n",
       "  <tbody>\n",
       "    <tr>\n",
       "      <th>0</th>\n",
       "      <td>138860</td>\n",
       "      <td>110</td>\n",
       "      <td>245000</td>\n",
       "      <td>08/21/2014</td>\n",
       "    </tr>\n",
       "    <tr>\n",
       "      <th>4</th>\n",
       "      <td>213043</td>\n",
       "      <td>120</td>\n",
       "      <td>560000</td>\n",
       "      <td>12/20/2019</td>\n",
       "    </tr>\n",
       "    <tr>\n",
       "      <th>5</th>\n",
       "      <td>951120</td>\n",
       "      <td>900</td>\n",
       "      <td>85000</td>\n",
       "      <td>04/20/1989</td>\n",
       "    </tr>\n",
       "    <tr>\n",
       "      <th>7</th>\n",
       "      <td>122209</td>\n",
       "      <td>9002</td>\n",
       "      <td>5755000</td>\n",
       "      <td>04/25/2001</td>\n",
       "    </tr>\n",
       "    <tr>\n",
       "      <th>8</th>\n",
       "      <td>122209</td>\n",
       "      <td>9001</td>\n",
       "      <td>5755000</td>\n",
       "      <td>04/25/2001</td>\n",
       "    </tr>\n",
       "  </tbody>\n",
       "</table>\n",
       "</div>"
      ],
      "text/plain": [
       "    Major  Minor  SalePrice DocumentDate\n",
       "0  138860    110     245000   08/21/2014\n",
       "4  213043    120     560000   12/20/2019\n",
       "5  951120    900      85000   04/20/1989\n",
       "7  122209   9002    5755000   04/25/2001\n",
       "8  122209   9001    5755000   04/25/2001"
      ]
     },
     "execution_count": 32,
     "metadata": {},
     "output_type": "execute_result"
    }
   ],
   "source": [
    "real_property_sales.head()"
   ]
  },
  {
   "cell_type": "code",
   "execution_count": 33,
   "metadata": {},
   "outputs": [
    {
     "name": "stdout",
     "output_type": "stream",
     "text": [
      "<class 'pandas.core.frame.DataFrame'>\n",
      "RangeIndex: 616089 entries, 0 to 616088\n",
      "Data columns (total 8 columns):\n",
      " #   Column          Non-Null Count   Dtype \n",
      "---  ------          --------------   ----- \n",
      " 0   Major           616089 non-null  int64 \n",
      " 1   Minor           616089 non-null  int64 \n",
      " 2   SqFtLot         616089 non-null  int64 \n",
      " 3   WfntLocation    616089 non-null  int64 \n",
      " 4   TrafficNoise    616089 non-null  int64 \n",
      " 5   AirportNoise    616089 non-null  int64 \n",
      " 6   PowerLines      616089 non-null  object\n",
      " 7   OtherNuisances  616089 non-null  object\n",
      "dtypes: int64(6), object(2)\n",
      "memory usage: 37.6+ MB\n"
     ]
    }
   ],
   "source": [
    "# Parcel Filter for Necessary Columns\n",
    "parcel = parcel[['Major', 'Minor', 'SqFtLot', 'WfntLocation', 'TrafficNoise', 'AirportNoise', 'PowerLines', 'OtherNuisances']]\n",
    "parcel.info()"
   ]
  },
  {
   "cell_type": "code",
   "execution_count": 34,
   "metadata": {},
   "outputs": [],
   "source": [
    "# Residential Buiding Filter For Necessary Columns\n",
    "residential_building = residential_building[['Major', 'Minor', 'NbrLivingUnits', 'SqFtTotLiving', 'SqFtOpenPorch', 'SqFtEnclosedPorch']]"
   ]
  },
  {
   "cell_type": "code",
   "execution_count": 35,
   "metadata": {
    "scrolled": true
   },
   "outputs": [],
   "source": [
    "# Create a column Has_Porch\n",
    "residential_building['Has_Porch']= residential_building['SqFtOpenPorch'] + residential_building['SqFtEnclosedPorch']\n",
    "residential_building['Has_Porch'] = [1  if p>0 else 0 for p in residential_building['Has_Porch']]"
   ]
  },
  {
   "cell_type": "code",
   "execution_count": 36,
   "metadata": {},
   "outputs": [
    {
     "name": "stdout",
     "output_type": "stream",
     "text": [
      "<class 'pandas.core.frame.DataFrame'>\n",
      "RangeIndex: 517783 entries, 0 to 517782\n",
      "Data columns (total 7 columns):\n",
      " #   Column             Non-Null Count   Dtype\n",
      "---  ------             --------------   -----\n",
      " 0   Major              517783 non-null  int64\n",
      " 1   Minor              517783 non-null  int64\n",
      " 2   NbrLivingUnits     517783 non-null  int64\n",
      " 3   SqFtTotLiving      517783 non-null  int64\n",
      " 4   SqFtOpenPorch      517783 non-null  int64\n",
      " 5   SqFtEnclosedPorch  517783 non-null  int64\n",
      " 6   Has_Porch          517783 non-null  int64\n",
      "dtypes: int64(7)\n",
      "memory usage: 27.7 MB\n"
     ]
    }
   ],
   "source": [
    "residential_building.info()"
   ]
  },
  {
   "cell_type": "code",
   "execution_count": 37,
   "metadata": {},
   "outputs": [],
   "source": [
    "# Join all the tables on Major, Minor\n",
    "# Have duplicate buildings sold at different dates. Need to only keep latest dates\n",
    "merged_tables = real_property_sales.merge(parcel).merge(residential_building).drop_duplicates()\n",
    "# Change dates to date time format\n",
    "merged_tables['DocumentDate'] = pd.to_datetime(merged_tables['DocumentDate'])"
   ]
  },
  {
   "cell_type": "code",
   "execution_count": 38,
   "metadata": {
    "scrolled": true
   },
   "outputs": [],
   "source": [
    "#Keeping only the most recent Sale_Price\n",
    "buildings_df = merged_tables.sort_values('DocumentDate').drop_duplicates(['Major', 'Minor'],keep='first')"
   ]
  },
  {
   "cell_type": "code",
   "execution_count": 39,
   "metadata": {},
   "outputs": [
    {
     "data": {
      "text/html": [
       "<div>\n",
       "<style scoped>\n",
       "    .dataframe tbody tr th:only-of-type {\n",
       "        vertical-align: middle;\n",
       "    }\n",
       "\n",
       "    .dataframe tbody tr th {\n",
       "        vertical-align: top;\n",
       "    }\n",
       "\n",
       "    .dataframe thead th {\n",
       "        text-align: right;\n",
       "    }\n",
       "</style>\n",
       "<table border=\"1\" class=\"dataframe\">\n",
       "  <thead>\n",
       "    <tr style=\"text-align: right;\">\n",
       "      <th></th>\n",
       "      <th>Major</th>\n",
       "      <th>Minor</th>\n",
       "      <th>SalePrice</th>\n",
       "      <th>DocumentDate</th>\n",
       "      <th>SqFtLot</th>\n",
       "      <th>WfntLocation</th>\n",
       "      <th>TrafficNoise</th>\n",
       "      <th>AirportNoise</th>\n",
       "      <th>PowerLines</th>\n",
       "      <th>OtherNuisances</th>\n",
       "      <th>NbrLivingUnits</th>\n",
       "      <th>SqFtTotLiving</th>\n",
       "      <th>SqFtOpenPorch</th>\n",
       "      <th>SqFtEnclosedPorch</th>\n",
       "      <th>Has_Porch</th>\n",
       "    </tr>\n",
       "  </thead>\n",
       "  <tbody>\n",
       "    <tr>\n",
       "      <th>705940</th>\n",
       "      <td>514510</td>\n",
       "      <td>250</td>\n",
       "      <td>125000</td>\n",
       "      <td>1934-11-11</td>\n",
       "      <td>7041</td>\n",
       "      <td>0</td>\n",
       "      <td>0</td>\n",
       "      <td>0</td>\n",
       "      <td>N</td>\n",
       "      <td>N</td>\n",
       "      <td>1</td>\n",
       "      <td>910</td>\n",
       "      <td>0</td>\n",
       "      <td>0</td>\n",
       "      <td>0</td>\n",
       "    </tr>\n",
       "    <tr>\n",
       "      <th>443490</th>\n",
       "      <td>718680</td>\n",
       "      <td>30</td>\n",
       "      <td>600</td>\n",
       "      <td>1954-03-11</td>\n",
       "      <td>9345</td>\n",
       "      <td>0</td>\n",
       "      <td>0</td>\n",
       "      <td>0</td>\n",
       "      <td>N</td>\n",
       "      <td>N</td>\n",
       "      <td>1</td>\n",
       "      <td>1380</td>\n",
       "      <td>40</td>\n",
       "      <td>0</td>\n",
       "      <td>1</td>\n",
       "    </tr>\n",
       "    <tr>\n",
       "      <th>653999</th>\n",
       "      <td>245840</td>\n",
       "      <td>30</td>\n",
       "      <td>9500</td>\n",
       "      <td>1955-04-15</td>\n",
       "      <td>6300</td>\n",
       "      <td>0</td>\n",
       "      <td>1</td>\n",
       "      <td>0</td>\n",
       "      <td>N</td>\n",
       "      <td>N</td>\n",
       "      <td>1</td>\n",
       "      <td>820</td>\n",
       "      <td>0</td>\n",
       "      <td>0</td>\n",
       "      <td>0</td>\n",
       "    </tr>\n",
       "    <tr>\n",
       "      <th>962419</th>\n",
       "      <td>222470</td>\n",
       "      <td>151</td>\n",
       "      <td>12250</td>\n",
       "      <td>1959-10-10</td>\n",
       "      <td>11115</td>\n",
       "      <td>0</td>\n",
       "      <td>1</td>\n",
       "      <td>0</td>\n",
       "      <td>N</td>\n",
       "      <td>N</td>\n",
       "      <td>1</td>\n",
       "      <td>2090</td>\n",
       "      <td>0</td>\n",
       "      <td>0</td>\n",
       "      <td>0</td>\n",
       "    </tr>\n",
       "    <tr>\n",
       "      <th>235295</th>\n",
       "      <td>503180</td>\n",
       "      <td>251</td>\n",
       "      <td>2300</td>\n",
       "      <td>1960-09-27</td>\n",
       "      <td>19064</td>\n",
       "      <td>3</td>\n",
       "      <td>0</td>\n",
       "      <td>0</td>\n",
       "      <td>N</td>\n",
       "      <td>N</td>\n",
       "      <td>1</td>\n",
       "      <td>1140</td>\n",
       "      <td>40</td>\n",
       "      <td>0</td>\n",
       "      <td>1</td>\n",
       "    </tr>\n",
       "    <tr>\n",
       "      <th>...</th>\n",
       "      <td>...</td>\n",
       "      <td>...</td>\n",
       "      <td>...</td>\n",
       "      <td>...</td>\n",
       "      <td>...</td>\n",
       "      <td>...</td>\n",
       "      <td>...</td>\n",
       "      <td>...</td>\n",
       "      <td>...</td>\n",
       "      <td>...</td>\n",
       "      <td>...</td>\n",
       "      <td>...</td>\n",
       "      <td>...</td>\n",
       "      <td>...</td>\n",
       "      <td>...</td>\n",
       "    </tr>\n",
       "    <tr>\n",
       "      <th>900477</th>\n",
       "      <td>241990</td>\n",
       "      <td>45</td>\n",
       "      <td>642000</td>\n",
       "      <td>2020-09-08</td>\n",
       "      <td>11054</td>\n",
       "      <td>0</td>\n",
       "      <td>0</td>\n",
       "      <td>0</td>\n",
       "      <td>N</td>\n",
       "      <td>N</td>\n",
       "      <td>1</td>\n",
       "      <td>1510</td>\n",
       "      <td>0</td>\n",
       "      <td>0</td>\n",
       "      <td>0</td>\n",
       "    </tr>\n",
       "    <tr>\n",
       "      <th>366504</th>\n",
       "      <td>327530</td>\n",
       "      <td>150</td>\n",
       "      <td>393000</td>\n",
       "      <td>2020-09-09</td>\n",
       "      <td>9500</td>\n",
       "      <td>0</td>\n",
       "      <td>0</td>\n",
       "      <td>0</td>\n",
       "      <td>N</td>\n",
       "      <td>N</td>\n",
       "      <td>1</td>\n",
       "      <td>1250</td>\n",
       "      <td>110</td>\n",
       "      <td>0</td>\n",
       "      <td>1</td>\n",
       "    </tr>\n",
       "    <tr>\n",
       "      <th>925600</th>\n",
       "      <td>797260</td>\n",
       "      <td>2865</td>\n",
       "      <td>590000</td>\n",
       "      <td>2020-09-09</td>\n",
       "      <td>10275</td>\n",
       "      <td>0</td>\n",
       "      <td>0</td>\n",
       "      <td>0</td>\n",
       "      <td>N</td>\n",
       "      <td>N</td>\n",
       "      <td>1</td>\n",
       "      <td>1660</td>\n",
       "      <td>40</td>\n",
       "      <td>0</td>\n",
       "      <td>1</td>\n",
       "    </tr>\n",
       "    <tr>\n",
       "      <th>960304</th>\n",
       "      <td>330070</td>\n",
       "      <td>280</td>\n",
       "      <td>535000</td>\n",
       "      <td>2020-09-09</td>\n",
       "      <td>4000</td>\n",
       "      <td>0</td>\n",
       "      <td>0</td>\n",
       "      <td>0</td>\n",
       "      <td>N</td>\n",
       "      <td>N</td>\n",
       "      <td>1</td>\n",
       "      <td>700</td>\n",
       "      <td>0</td>\n",
       "      <td>0</td>\n",
       "      <td>0</td>\n",
       "    </tr>\n",
       "    <tr>\n",
       "      <th>387831</th>\n",
       "      <td>524480</td>\n",
       "      <td>1190</td>\n",
       "      <td>750000</td>\n",
       "      <td>2020-09-09</td>\n",
       "      <td>4200</td>\n",
       "      <td>0</td>\n",
       "      <td>0</td>\n",
       "      <td>0</td>\n",
       "      <td>N</td>\n",
       "      <td>N</td>\n",
       "      <td>1</td>\n",
       "      <td>1290</td>\n",
       "      <td>290</td>\n",
       "      <td>0</td>\n",
       "      <td>1</td>\n",
       "    </tr>\n",
       "  </tbody>\n",
       "</table>\n",
       "<p>447071 rows × 15 columns</p>\n",
       "</div>"
      ],
      "text/plain": [
       "         Major  Minor  SalePrice DocumentDate  SqFtLot  WfntLocation  \\\n",
       "705940  514510    250     125000   1934-11-11     7041             0   \n",
       "443490  718680     30        600   1954-03-11     9345             0   \n",
       "653999  245840     30       9500   1955-04-15     6300             0   \n",
       "962419  222470    151      12250   1959-10-10    11115             0   \n",
       "235295  503180    251       2300   1960-09-27    19064             3   \n",
       "...        ...    ...        ...          ...      ...           ...   \n",
       "900477  241990     45     642000   2020-09-08    11054             0   \n",
       "366504  327530    150     393000   2020-09-09     9500             0   \n",
       "925600  797260   2865     590000   2020-09-09    10275             0   \n",
       "960304  330070    280     535000   2020-09-09     4000             0   \n",
       "387831  524480   1190     750000   2020-09-09     4200             0   \n",
       "\n",
       "        TrafficNoise  AirportNoise PowerLines OtherNuisances  NbrLivingUnits  \\\n",
       "705940             0             0          N              N               1   \n",
       "443490             0             0          N              N               1   \n",
       "653999             1             0          N              N               1   \n",
       "962419             1             0          N              N               1   \n",
       "235295             0             0          N              N               1   \n",
       "...              ...           ...        ...            ...             ...   \n",
       "900477             0             0          N              N               1   \n",
       "366504             0             0          N              N               1   \n",
       "925600             0             0          N              N               1   \n",
       "960304             0             0          N              N               1   \n",
       "387831             0             0          N              N               1   \n",
       "\n",
       "        SqFtTotLiving  SqFtOpenPorch  SqFtEnclosedPorch  Has_Porch  \n",
       "705940            910              0                  0          0  \n",
       "443490           1380             40                  0          1  \n",
       "653999            820              0                  0          0  \n",
       "962419           2090              0                  0          0  \n",
       "235295           1140             40                  0          1  \n",
       "...               ...            ...                ...        ...  \n",
       "900477           1510              0                  0          0  \n",
       "366504           1250            110                  0          1  \n",
       "925600           1660             40                  0          1  \n",
       "960304            700              0                  0          0  \n",
       "387831           1290            290                  0          1  \n",
       "\n",
       "[447071 rows x 15 columns]"
      ]
     },
     "execution_count": 39,
     "metadata": {},
     "output_type": "execute_result"
    }
   ],
   "source": [
    "df_test = buildings_df.sort_values('DocumentDate')\n",
    "df_test"
   ]
  },
  {
   "cell_type": "code",
   "execution_count": 77,
   "metadata": {},
   "outputs": [],
   "source": [
    "# Check x if have the relevant data to answer question\n",
    "# [x]Higher square footage increases home sale price1, 2\n",
    "# [x]Having a porch increases home sale price3, 4\n",
    "# [x]Having a beachfront or lakefront increases home sale price5\n",
    "# [x]The house filling a higher proportion of the overall lot decreases home sale price6\n",
    "# [x]The cost per square foot is lower in duplexes than in single-family homes7\n",
    "# [x]The presence of a nuisance (power lines, traffic noise, airport noise) decreases home sale price1, 5"
   ]
  },
  {
   "cell_type": "markdown",
   "metadata": {},
   "source": [
    "## Graphical EDA"
   ]
  },
  {
   "cell_type": "code",
   "execution_count": 13,
   "metadata": {},
   "outputs": [],
   "source": [
    "import matplotlib.pyplot as plt\n",
    "import seaborn as sns"
   ]
  },
  {
   "cell_type": "code",
   "execution_count": 14,
   "metadata": {},
   "outputs": [
    {
     "data": {
      "image/png": "[encoded data removed]",
      "text/plain": [
       "<Figure size 432x288 with 1 Axes>"
      ]
     },
     "metadata": {
      "needs_background": "light"
     },
     "output_type": "display_data"
    }
   ],
   "source": [
    "sns.barplot(df['Has_Porch'], df['SalePrice']);\n",
    "\n",
    "\n"
   ]
  },
  {
   "cell_type": "code",
   "execution_count": 15,
   "metadata": {},
   "outputs": [
    {
     "data": {
      "image/png": "[encoded data removed]",
      "text/plain": [
       "<Figure size 432x288 with 1 Axes>"
      ]
     },
     "metadata": {
      "needs_background": "light"
     },
     "output_type": "display_data"
    }
   ],
   "source": [
    "sns.scatterplot(df['SqFtTotLiving'], df['SalePrice']);\n",
    "\n",
    "\n"
   ]
  },
  {
   "cell_type": "code",
   "execution_count": 64,
   "metadata": {},
   "outputs": [
    {
     "data": {
      "image/png": "[encoded data removed]",
      "text/plain": [
       "<Figure size 432x288 with 1 Axes>"
      ]
     },
     "metadata": {
      "needs_background": "light"
     },
     "output_type": "display_data"
    }
   ],
   "source": [
    "sns.barplot(df['Is_WaterFrontLocation'], df['SalePrice']);"
   ]
  },
  {
   "cell_type": "code",
   "execution_count": 378,
   "metadata": {},
   "outputs": [
    {
     "data": {
      "text/html": [
       "<div>\n",
       "<style scoped>\n",
       "    .dataframe tbody tr th:only-of-type {\n",
       "        vertical-align: middle;\n",
       "    }\n",
       "\n",
       "    .dataframe tbody tr th {\n",
       "        vertical-align: top;\n",
       "    }\n",
       "\n",
       "    .dataframe thead th {\n",
       "        text-align: right;\n",
       "    }\n",
       "</style>\n",
       "<table border=\"1\" class=\"dataframe\">\n",
       "  <thead>\n",
       "    <tr style=\"text-align: right;\">\n",
       "      <th></th>\n",
       "      <th>Unnamed: 0</th>\n",
       "      <th>Major</th>\n",
       "      <th>Minor</th>\n",
       "      <th>ZipCode</th>\n",
       "      <th>DocumentDate</th>\n",
       "      <th>SalePrice</th>\n",
       "      <th>SqFtLot</th>\n",
       "      <th>SqFtTotLiving</th>\n",
       "      <th>Nuisances</th>\n",
       "      <th>Has_Nuisance</th>\n",
       "      <th>...</th>\n",
       "      <th>Has_EnclosedPorch</th>\n",
       "      <th>NbrLivingUnits</th>\n",
       "      <th>View_MtRainier</th>\n",
       "      <th>View_Olympics</th>\n",
       "      <th>View_Cascades</th>\n",
       "      <th>View_PugetSound</th>\n",
       "      <th>View_LakeWashington</th>\n",
       "      <th>View_LakeSammamish</th>\n",
       "      <th>View_SmallLakeRiverCreek</th>\n",
       "      <th>BldgGrade</th>\n",
       "    </tr>\n",
       "  </thead>\n",
       "  <tbody>\n",
       "    <tr>\n",
       "      <th>0</th>\n",
       "      <td>0</td>\n",
       "      <td>100</td>\n",
       "      <td>67</td>\n",
       "      <td>98002</td>\n",
       "      <td>2019-04-01</td>\n",
       "      <td>310800</td>\n",
       "      <td>17400</td>\n",
       "      <td>2240</td>\n",
       "      <td>No Nuisances</td>\n",
       "      <td>0</td>\n",
       "      <td>...</td>\n",
       "      <td>0</td>\n",
       "      <td>1</td>\n",
       "      <td>0</td>\n",
       "      <td>0</td>\n",
       "      <td>0</td>\n",
       "      <td>0</td>\n",
       "      <td>0</td>\n",
       "      <td>0</td>\n",
       "      <td>0</td>\n",
       "      <td>6</td>\n",
       "    </tr>\n",
       "    <tr>\n",
       "      <th>1</th>\n",
       "      <td>1</td>\n",
       "      <td>100</td>\n",
       "      <td>66</td>\n",
       "      <td>98002</td>\n",
       "      <td>2019-10-22</td>\n",
       "      <td>339000</td>\n",
       "      <td>14500</td>\n",
       "      <td>1200</td>\n",
       "      <td>No Nuisances</td>\n",
       "      <td>0</td>\n",
       "      <td>...</td>\n",
       "      <td>0</td>\n",
       "      <td>1</td>\n",
       "      <td>0</td>\n",
       "      <td>0</td>\n",
       "      <td>0</td>\n",
       "      <td>0</td>\n",
       "      <td>0</td>\n",
       "      <td>0</td>\n",
       "      <td>0</td>\n",
       "      <td>5</td>\n",
       "    </tr>\n",
       "    <tr>\n",
       "      <th>2</th>\n",
       "      <td>2</td>\n",
       "      <td>100</td>\n",
       "      <td>42</td>\n",
       "      <td>98002</td>\n",
       "      <td>2019-10-29</td>\n",
       "      <td>485500</td>\n",
       "      <td>6002</td>\n",
       "      <td>2134</td>\n",
       "      <td>No Nuisances</td>\n",
       "      <td>0</td>\n",
       "      <td>...</td>\n",
       "      <td>0</td>\n",
       "      <td>1</td>\n",
       "      <td>0</td>\n",
       "      <td>0</td>\n",
       "      <td>0</td>\n",
       "      <td>0</td>\n",
       "      <td>0</td>\n",
       "      <td>0</td>\n",
       "      <td>0</td>\n",
       "      <td>5</td>\n",
       "    </tr>\n",
       "    <tr>\n",
       "      <th>3</th>\n",
       "      <td>3</td>\n",
       "      <td>120</td>\n",
       "      <td>8</td>\n",
       "      <td>98166</td>\n",
       "      <td>2019-05-17</td>\n",
       "      <td>850000</td>\n",
       "      <td>24142</td>\n",
       "      <td>3500</td>\n",
       "      <td>No Nuisances</td>\n",
       "      <td>0</td>\n",
       "      <td>...</td>\n",
       "      <td>0</td>\n",
       "      <td>1</td>\n",
       "      <td>0</td>\n",
       "      <td>0</td>\n",
       "      <td>0</td>\n",
       "      <td>0</td>\n",
       "      <td>0</td>\n",
       "      <td>0</td>\n",
       "      <td>0</td>\n",
       "      <td>6</td>\n",
       "    </tr>\n",
       "    <tr>\n",
       "      <th>4</th>\n",
       "      <td>4</td>\n",
       "      <td>140</td>\n",
       "      <td>27</td>\n",
       "      <td>98178</td>\n",
       "      <td>2019-05-28</td>\n",
       "      <td>535000</td>\n",
       "      <td>14208</td>\n",
       "      <td>2170</td>\n",
       "      <td>Traffic Noise</td>\n",
       "      <td>1</td>\n",
       "      <td>...</td>\n",
       "      <td>0</td>\n",
       "      <td>1</td>\n",
       "      <td>0</td>\n",
       "      <td>0</td>\n",
       "      <td>0</td>\n",
       "      <td>0</td>\n",
       "      <td>0</td>\n",
       "      <td>0</td>\n",
       "      <td>0</td>\n",
       "      <td>5</td>\n",
       "    </tr>\n",
       "  </tbody>\n",
       "</table>\n",
       "<p>5 rows × 27 columns</p>\n",
       "</div>"
      ],
      "text/plain": [
       "   Unnamed: 0  Major  Minor  ZipCode DocumentDate  SalePrice  SqFtLot  \\\n",
       "0           0    100     67    98002   2019-04-01     310800    17400   \n",
       "1           1    100     66    98002   2019-10-22     339000    14500   \n",
       "2           2    100     42    98002   2019-10-29     485500     6002   \n",
       "3           3    120      8    98166   2019-05-17     850000    24142   \n",
       "4           4    140     27    98178   2019-05-28     535000    14208   \n",
       "\n",
       "   SqFtTotLiving      Nuisances  Has_Nuisance  ...  Has_EnclosedPorch  \\\n",
       "0           2240   No Nuisances             0  ...                  0   \n",
       "1           1200   No Nuisances             0  ...                  0   \n",
       "2           2134   No Nuisances             0  ...                  0   \n",
       "3           3500   No Nuisances             0  ...                  0   \n",
       "4           2170  Traffic Noise             1  ...                  0   \n",
       "\n",
       "   NbrLivingUnits  View_MtRainier  View_Olympics View_Cascades  \\\n",
       "0               1               0              0             0   \n",
       "1               1               0              0             0   \n",
       "2               1               0              0             0   \n",
       "3               1               0              0             0   \n",
       "4               1               0              0             0   \n",
       "\n",
       "   View_PugetSound  View_LakeWashington  View_LakeSammamish  \\\n",
       "0                0                    0                   0   \n",
       "1                0                    0                   0   \n",
       "2                0                    0                   0   \n",
       "3                0                    0                   0   \n",
       "4                0                    0                   0   \n",
       "\n",
       "   View_SmallLakeRiverCreek  BldgGrade  \n",
       "0                         0          6  \n",
       "1                         0          5  \n",
       "2                         0          5  \n",
       "3                         0          6  \n",
       "4                         0          5  \n",
       "\n",
       "[5 rows x 27 columns]"
      ]
     },
     "execution_count": 378,
     "metadata": {},
     "output_type": "execute_result"
    }
   ],
   "source": [
    "df = pd.read_csv('../../data/clean/KingCountyHousingData.csv')\n",
    "df.head()\n"
   ]
  },
  {
   "cell_type": "code",
   "execution_count": 207,
   "metadata": {},
   "outputs": [],
   "source": [
    "#df.hist(figsize=(18,15), bins='auto');"
   ]
  },
  {
   "cell_type": "code",
   "execution_count": 379,
   "metadata": {},
   "outputs": [
    {
     "data": {
      "text/html": [
       "<div>\n",
       "<style scoped>\n",
       "    .dataframe tbody tr th:only-of-type {\n",
       "        vertical-align: middle;\n",
       "    }\n",
       "\n",
       "    .dataframe tbody tr th {\n",
       "        vertical-align: top;\n",
       "    }\n",
       "\n",
       "    .dataframe thead th {\n",
       "        text-align: right;\n",
       "    }\n",
       "</style>\n",
       "<table border=\"1\" class=\"dataframe\">\n",
       "  <thead>\n",
       "    <tr style=\"text-align: right;\">\n",
       "      <th></th>\n",
       "      <th>Duwamish</th>\n",
       "      <th>Lake Sammamish</th>\n",
       "      <th>Lake Union</th>\n",
       "      <th>Lake Washington</th>\n",
       "      <th>Other lake</th>\n",
       "      <th>Puget Sound</th>\n",
       "      <th>River or slough</th>\n",
       "      <th>Ship Canal</th>\n",
       "    </tr>\n",
       "  </thead>\n",
       "  <tbody>\n",
       "    <tr>\n",
       "      <th>0</th>\n",
       "      <td>0</td>\n",
       "      <td>0</td>\n",
       "      <td>0</td>\n",
       "      <td>0</td>\n",
       "      <td>0</td>\n",
       "      <td>0</td>\n",
       "      <td>0</td>\n",
       "      <td>0</td>\n",
       "    </tr>\n",
       "    <tr>\n",
       "      <th>1</th>\n",
       "      <td>0</td>\n",
       "      <td>0</td>\n",
       "      <td>0</td>\n",
       "      <td>0</td>\n",
       "      <td>0</td>\n",
       "      <td>0</td>\n",
       "      <td>0</td>\n",
       "      <td>0</td>\n",
       "    </tr>\n",
       "    <tr>\n",
       "      <th>2</th>\n",
       "      <td>0</td>\n",
       "      <td>0</td>\n",
       "      <td>0</td>\n",
       "      <td>0</td>\n",
       "      <td>0</td>\n",
       "      <td>0</td>\n",
       "      <td>0</td>\n",
       "      <td>0</td>\n",
       "    </tr>\n",
       "    <tr>\n",
       "      <th>3</th>\n",
       "      <td>0</td>\n",
       "      <td>0</td>\n",
       "      <td>0</td>\n",
       "      <td>0</td>\n",
       "      <td>0</td>\n",
       "      <td>0</td>\n",
       "      <td>0</td>\n",
       "      <td>0</td>\n",
       "    </tr>\n",
       "    <tr>\n",
       "      <th>4</th>\n",
       "      <td>0</td>\n",
       "      <td>0</td>\n",
       "      <td>0</td>\n",
       "      <td>0</td>\n",
       "      <td>0</td>\n",
       "      <td>0</td>\n",
       "      <td>0</td>\n",
       "      <td>0</td>\n",
       "    </tr>\n",
       "    <tr>\n",
       "      <th>...</th>\n",
       "      <td>...</td>\n",
       "      <td>...</td>\n",
       "      <td>...</td>\n",
       "      <td>...</td>\n",
       "      <td>...</td>\n",
       "      <td>...</td>\n",
       "      <td>...</td>\n",
       "      <td>...</td>\n",
       "    </tr>\n",
       "    <tr>\n",
       "      <th>27809</th>\n",
       "      <td>0</td>\n",
       "      <td>0</td>\n",
       "      <td>0</td>\n",
       "      <td>0</td>\n",
       "      <td>0</td>\n",
       "      <td>0</td>\n",
       "      <td>0</td>\n",
       "      <td>0</td>\n",
       "    </tr>\n",
       "    <tr>\n",
       "      <th>27810</th>\n",
       "      <td>0</td>\n",
       "      <td>0</td>\n",
       "      <td>0</td>\n",
       "      <td>0</td>\n",
       "      <td>0</td>\n",
       "      <td>0</td>\n",
       "      <td>0</td>\n",
       "      <td>0</td>\n",
       "    </tr>\n",
       "    <tr>\n",
       "      <th>27811</th>\n",
       "      <td>0</td>\n",
       "      <td>0</td>\n",
       "      <td>0</td>\n",
       "      <td>0</td>\n",
       "      <td>0</td>\n",
       "      <td>0</td>\n",
       "      <td>0</td>\n",
       "      <td>0</td>\n",
       "    </tr>\n",
       "    <tr>\n",
       "      <th>27812</th>\n",
       "      <td>0</td>\n",
       "      <td>0</td>\n",
       "      <td>0</td>\n",
       "      <td>0</td>\n",
       "      <td>0</td>\n",
       "      <td>0</td>\n",
       "      <td>0</td>\n",
       "      <td>0</td>\n",
       "    </tr>\n",
       "    <tr>\n",
       "      <th>27813</th>\n",
       "      <td>0</td>\n",
       "      <td>0</td>\n",
       "      <td>0</td>\n",
       "      <td>0</td>\n",
       "      <td>0</td>\n",
       "      <td>0</td>\n",
       "      <td>0</td>\n",
       "      <td>0</td>\n",
       "    </tr>\n",
       "  </tbody>\n",
       "</table>\n",
       "<p>27814 rows × 8 columns</p>\n",
       "</div>"
      ],
      "text/plain": [
       "       Duwamish  Lake Sammamish  Lake Union  Lake Washington  Other lake  \\\n",
       "0             0               0           0                0           0   \n",
       "1             0               0           0                0           0   \n",
       "2             0               0           0                0           0   \n",
       "3             0               0           0                0           0   \n",
       "4             0               0           0                0           0   \n",
       "...         ...             ...         ...              ...         ...   \n",
       "27809         0               0           0                0           0   \n",
       "27810         0               0           0                0           0   \n",
       "27811         0               0           0                0           0   \n",
       "27812         0               0           0                0           0   \n",
       "27813         0               0           0                0           0   \n",
       "\n",
       "       Puget Sound  River or slough  Ship Canal  \n",
       "0                0                0           0  \n",
       "1                0                0           0  \n",
       "2                0                0           0  \n",
       "3                0                0           0  \n",
       "4                0                0           0  \n",
       "...            ...              ...         ...  \n",
       "27809            0                0           0  \n",
       "27810            0                0           0  \n",
       "27811            0                0           0  \n",
       "27812            0                0           0  \n",
       "27813            0                0           0  \n",
       "\n",
       "[27814 rows x 8 columns]"
      ]
     },
     "execution_count": 379,
     "metadata": {},
     "output_type": "execute_result"
    }
   ],
   "source": [
    "df_water_dummie =pd.get_dummies(df['WaterFrontLocation'])\n",
    "df_water_dummie.drop('None', axis= 1, inplace=True)\n",
    "#df_water_dummie['SqFtTotLiving'] = df.SqFtTotLiving\n",
    "df_water_dummie\n"
   ]
  },
  {
   "cell_type": "code",
   "execution_count": 209,
   "metadata": {},
   "outputs": [],
   "source": [
    "from sklearn.linear_model import LinearRegression\n",
    "\n"
   ]
  },
  {
   "cell_type": "code",
   "execution_count": 210,
   "metadata": {},
   "outputs": [
    {
     "data": {
      "text/plain": [
       "LinearRegression()"
      ]
     },
     "execution_count": 210,
     "metadata": {},
     "output_type": "execute_result"
    }
   ],
   "source": [
    "lr = LinearRegression()\n",
    "lr.fit(df_water_dummie, df['SalePrice'])\n",
    "#lr.__dict__\n"
   ]
  },
  {
   "cell_type": "code",
   "execution_count": 211,
   "metadata": {},
   "outputs": [
    {
     "data": {
      "text/plain": [
       "0.39382491267103936"
      ]
     },
     "execution_count": 211,
     "metadata": {},
     "output_type": "execute_result"
    }
   ],
   "source": [
    "lr.score(df_water_dummie, df['SalePrice'])\n",
    "\n"
   ]
  },
  {
   "cell_type": "code",
   "execution_count": 212,
   "metadata": {},
   "outputs": [
    {
     "data": {
      "text/plain": [
       "array([-8.64230198e+03,  1.82451159e+06,  3.66917232e+05,  2.08094891e+06,\n",
       "        3.48825330e+04,  4.17368854e+05,  4.61416527e+04,  8.82451221e+05,\n",
       "        3.35148305e+02])"
      ]
     },
     "execution_count": 212,
     "metadata": {},
     "output_type": "execute_result"
    }
   ],
   "source": [
    "lr.coef_\n",
    "\n"
   ]
  },
  {
   "cell_type": "code",
   "execution_count": 213,
   "metadata": {},
   "outputs": [
    {
     "name": "stdout",
     "output_type": "stream",
     "text": [
      "Duwamish -8642.301984721033\n",
      "Lake Sammamish 1824511.5948370975\n",
      "Lake Union 366917.232058954\n",
      "Lake Washington 2080948.9118916402\n",
      "Other lake 34882.53301025234\n",
      "Puget Sound 417368.85403985356\n",
      "River or slough 46141.652652212695\n",
      "Ship Canal 882451.2212115147\n",
      "SqFtTotLiving 335.148304847272\n"
     ]
    }
   ],
   "source": [
    "for col, coef in zip(list(df_water_dummie), lr.coef_):\n",
    "    print(col,coef)\n"
   ]
  },
  {
   "cell_type": "markdown",
   "metadata": {},
   "source": [
    "## Concatinate the two data frames"
   ]
  },
  {
   "cell_type": "code",
   "execution_count": 380,
   "metadata": {},
   "outputs": [
    {
     "data": {
      "text/html": [
       "<div>\n",
       "<style scoped>\n",
       "    .dataframe tbody tr th:only-of-type {\n",
       "        vertical-align: middle;\n",
       "    }\n",
       "\n",
       "    .dataframe tbody tr th {\n",
       "        vertical-align: top;\n",
       "    }\n",
       "\n",
       "    .dataframe thead th {\n",
       "        text-align: right;\n",
       "    }\n",
       "</style>\n",
       "<table border=\"1\" class=\"dataframe\">\n",
       "  <thead>\n",
       "    <tr style=\"text-align: right;\">\n",
       "      <th></th>\n",
       "      <th>Unnamed: 0</th>\n",
       "      <th>Major</th>\n",
       "      <th>Minor</th>\n",
       "      <th>ZipCode</th>\n",
       "      <th>DocumentDate</th>\n",
       "      <th>SalePrice</th>\n",
       "      <th>SqFtLot</th>\n",
       "      <th>SqFtTotLiving</th>\n",
       "      <th>Nuisances</th>\n",
       "      <th>Has_Nuisance</th>\n",
       "      <th>...</th>\n",
       "      <th>View_SmallLakeRiverCreek</th>\n",
       "      <th>BldgGrade</th>\n",
       "      <th>Duwamish</th>\n",
       "      <th>Lake Sammamish</th>\n",
       "      <th>Lake Union</th>\n",
       "      <th>Lake Washington</th>\n",
       "      <th>Other lake</th>\n",
       "      <th>Puget Sound</th>\n",
       "      <th>River or slough</th>\n",
       "      <th>Ship Canal</th>\n",
       "    </tr>\n",
       "  </thead>\n",
       "  <tbody>\n",
       "    <tr>\n",
       "      <th>0</th>\n",
       "      <td>0</td>\n",
       "      <td>100</td>\n",
       "      <td>67</td>\n",
       "      <td>98002</td>\n",
       "      <td>2019-04-01</td>\n",
       "      <td>310800</td>\n",
       "      <td>17400</td>\n",
       "      <td>2240</td>\n",
       "      <td>No Nuisances</td>\n",
       "      <td>0</td>\n",
       "      <td>...</td>\n",
       "      <td>0</td>\n",
       "      <td>6</td>\n",
       "      <td>0</td>\n",
       "      <td>0</td>\n",
       "      <td>0</td>\n",
       "      <td>0</td>\n",
       "      <td>0</td>\n",
       "      <td>0</td>\n",
       "      <td>0</td>\n",
       "      <td>0</td>\n",
       "    </tr>\n",
       "    <tr>\n",
       "      <th>1</th>\n",
       "      <td>1</td>\n",
       "      <td>100</td>\n",
       "      <td>66</td>\n",
       "      <td>98002</td>\n",
       "      <td>2019-10-22</td>\n",
       "      <td>339000</td>\n",
       "      <td>14500</td>\n",
       "      <td>1200</td>\n",
       "      <td>No Nuisances</td>\n",
       "      <td>0</td>\n",
       "      <td>...</td>\n",
       "      <td>0</td>\n",
       "      <td>5</td>\n",
       "      <td>0</td>\n",
       "      <td>0</td>\n",
       "      <td>0</td>\n",
       "      <td>0</td>\n",
       "      <td>0</td>\n",
       "      <td>0</td>\n",
       "      <td>0</td>\n",
       "      <td>0</td>\n",
       "    </tr>\n",
       "    <tr>\n",
       "      <th>2</th>\n",
       "      <td>2</td>\n",
       "      <td>100</td>\n",
       "      <td>42</td>\n",
       "      <td>98002</td>\n",
       "      <td>2019-10-29</td>\n",
       "      <td>485500</td>\n",
       "      <td>6002</td>\n",
       "      <td>2134</td>\n",
       "      <td>No Nuisances</td>\n",
       "      <td>0</td>\n",
       "      <td>...</td>\n",
       "      <td>0</td>\n",
       "      <td>5</td>\n",
       "      <td>0</td>\n",
       "      <td>0</td>\n",
       "      <td>0</td>\n",
       "      <td>0</td>\n",
       "      <td>0</td>\n",
       "      <td>0</td>\n",
       "      <td>0</td>\n",
       "      <td>0</td>\n",
       "    </tr>\n",
       "    <tr>\n",
       "      <th>3</th>\n",
       "      <td>3</td>\n",
       "      <td>120</td>\n",
       "      <td>8</td>\n",
       "      <td>98166</td>\n",
       "      <td>2019-05-17</td>\n",
       "      <td>850000</td>\n",
       "      <td>24142</td>\n",
       "      <td>3500</td>\n",
       "      <td>No Nuisances</td>\n",
       "      <td>0</td>\n",
       "      <td>...</td>\n",
       "      <td>0</td>\n",
       "      <td>6</td>\n",
       "      <td>0</td>\n",
       "      <td>0</td>\n",
       "      <td>0</td>\n",
       "      <td>0</td>\n",
       "      <td>0</td>\n",
       "      <td>0</td>\n",
       "      <td>0</td>\n",
       "      <td>0</td>\n",
       "    </tr>\n",
       "    <tr>\n",
       "      <th>4</th>\n",
       "      <td>4</td>\n",
       "      <td>140</td>\n",
       "      <td>27</td>\n",
       "      <td>98178</td>\n",
       "      <td>2019-05-28</td>\n",
       "      <td>535000</td>\n",
       "      <td>14208</td>\n",
       "      <td>2170</td>\n",
       "      <td>Traffic Noise</td>\n",
       "      <td>1</td>\n",
       "      <td>...</td>\n",
       "      <td>0</td>\n",
       "      <td>5</td>\n",
       "      <td>0</td>\n",
       "      <td>0</td>\n",
       "      <td>0</td>\n",
       "      <td>0</td>\n",
       "      <td>0</td>\n",
       "      <td>0</td>\n",
       "      <td>0</td>\n",
       "      <td>0</td>\n",
       "    </tr>\n",
       "  </tbody>\n",
       "</table>\n",
       "<p>5 rows × 35 columns</p>\n",
       "</div>"
      ],
      "text/plain": [
       "   Unnamed: 0  Major  Minor  ZipCode DocumentDate  SalePrice  SqFtLot  \\\n",
       "0           0    100     67    98002   2019-04-01     310800    17400   \n",
       "1           1    100     66    98002   2019-10-22     339000    14500   \n",
       "2           2    100     42    98002   2019-10-29     485500     6002   \n",
       "3           3    120      8    98166   2019-05-17     850000    24142   \n",
       "4           4    140     27    98178   2019-05-28     535000    14208   \n",
       "\n",
       "   SqFtTotLiving      Nuisances  Has_Nuisance  ...  View_SmallLakeRiverCreek  \\\n",
       "0           2240   No Nuisances             0  ...                         0   \n",
       "1           1200   No Nuisances             0  ...                         0   \n",
       "2           2134   No Nuisances             0  ...                         0   \n",
       "3           3500   No Nuisances             0  ...                         0   \n",
       "4           2170  Traffic Noise             1  ...                         0   \n",
       "\n",
       "   BldgGrade  Duwamish  Lake Sammamish Lake Union  Lake Washington  \\\n",
       "0          6         0               0          0                0   \n",
       "1          5         0               0          0                0   \n",
       "2          5         0               0          0                0   \n",
       "3          6         0               0          0                0   \n",
       "4          5         0               0          0                0   \n",
       "\n",
       "   Other lake  Puget Sound  River or slough  Ship Canal  \n",
       "0           0            0                0           0  \n",
       "1           0            0                0           0  \n",
       "2           0            0                0           0  \n",
       "3           0            0                0           0  \n",
       "4           0            0                0           0  \n",
       "\n",
       "[5 rows x 35 columns]"
      ]
     },
     "execution_count": 380,
     "metadata": {},
     "output_type": "execute_result"
    }
   ],
   "source": [
    "comb_df = pd.concat([df, df_water_dummie], axis=1)\n",
    "comb_df.head()"
   ]
  },
  {
   "cell_type": "code",
   "execution_count": 229,
   "metadata": {},
   "outputs": [
    {
     "data": {
      "image/png": "[encoded data removed]",
      "text/plain": [
       "<Figure size 432x288 with 1 Axes>"
      ]
     },
     "metadata": {
      "needs_background": "light"
     },
     "output_type": "display_data"
    }
   ],
   "source": [
    "sns.barplot(df['Is_WaterFrontLocation'], df['SalePrice']);\n",
    "\n"
   ]
  },
  {
   "cell_type": "code",
   "execution_count": 215,
   "metadata": {},
   "outputs": [
    {
     "data": {
      "image/png": "[encoded data removed]",
      "text/plain": [
       "<Figure size 792x648 with 2 Axes>"
      ]
     },
     "metadata": {
      "needs_background": "light"
     },
     "output_type": "display_data"
    }
   ],
   "source": [
    "corr = df.corr()\n",
    "mask = np.triu(np.ones_like(corr, dtype=np.bool))\n",
    "\n",
    "fig1, ax1 = plt.subplots(figsize=(11, 9))\n",
    "sns.heatmap(corr, mask=mask, ax=ax1, cmap=\"viridis\");\n",
    "\n"
   ]
  },
  {
   "cell_type": "code",
   "execution_count": 233,
   "metadata": {},
   "outputs": [
    {
     "data": {
      "image/png": "[encoded data removed]",
      "text/plain": [
       "<Figure size 792x648 with 2 Axes>"
      ]
     },
     "metadata": {
      "needs_background": "light"
     },
     "output_type": "display_data"
    }
   ],
   "source": [
    "corr = comb_df.corr()\n",
    "mask = np.triu(np.ones_like(corr, dtype=np.bool))\n",
    "\n",
    "fig1, ax1 = plt.subplots(figsize=(11, 9))\n",
    "sns.heatmap(corr, mask=mask, ax=ax1, cmap=\"viridis\");"
   ]
  },
  {
   "cell_type": "code",
   "execution_count": 348,
   "metadata": {},
   "outputs": [
    {
     "data": {
      "image/png": "[encoded data removed]",
      "text/plain": [
       "<Figure size 792x648 with 2 Axes>"
      ]
     },
     "metadata": {
      "needs_background": "light"
     },
     "output_type": "display_data"
    }
   ],
   "source": [
    "corr = comb_df.corr()\n",
    "mask = np.triu(np.ones_like(corr, dtype=np.bool))\n",
    "\n",
    "fig1, ax1 = plt.subplots(figsize=(11, 9))\n",
    "sns.heatmap(corr, mask=mask, ax=ax1, cmap=\"viridis\");"
   ]
  },
  {
   "cell_type": "code",
   "execution_count": 381,
   "metadata": {},
   "outputs": [
    {
     "data": {
      "image/png": "[encoded data removed]",
      "text/plain": [
       "<Figure size 792x648 with 2 Axes>"
      ]
     },
     "metadata": {
      "needs_background": "light"
     },
     "output_type": "display_data"
    }
   ],
   "source": [
    "corr = comb_df.corr()\n",
    "mask = np.triu(np.ones_like(corr, dtype=np.bool))\n",
    "\n",
    "fig1, ax1 = plt.subplots(figsize=(11, 9))\n",
    "sns.heatmap(corr, mask=mask, ax=ax1, cmap=\"viridis\");"
   ]
  },
  {
   "cell_type": "markdown",
   "metadata": {},
   "source": [
    "## EDA simple models\n"
   ]
  },
  {
   "cell_type": "code",
   "execution_count": 48,
   "metadata": {},
   "outputs": [],
   "source": [
    "import pandas as pd\n",
    "import matplotlib.pyplot as plt\n",
    "import seaborn as sns\n",
    "from statsmodels.formula.api import ols\n",
    "%matplotlib inline"
   ]
  },
  {
   "cell_type": "markdown",
   "metadata": {},
   "source": [
    "### FSM_Model 1"
   ]
  },
  {
   "cell_type": "code",
   "execution_count": 113,
   "metadata": {},
   "outputs": [],
   "source": [
    "outcome = 'SalePrice'\n",
    "x_cols = ['SqFtTotLiving']"
   ]
  },
  {
   "cell_type": "code",
   "execution_count": 115,
   "metadata": {},
   "outputs": [
    {
     "data": {
      "text/html": [
       "<table class=\"simpletable\">\n",
       "<caption>OLS Regression Results</caption>\n",
       "<tr>\n",
       "  <th>Dep. Variable:</th>        <td>SalePrice</td>    <th>  R-squared:         </th>  <td>   0.357</td>  \n",
       "</tr>\n",
       "<tr>\n",
       "  <th>Model:</th>                   <td>OLS</td>       <th>  Adj. R-squared:    </th>  <td>   0.357</td>  \n",
       "</tr>\n",
       "<tr>\n",
       "  <th>Method:</th>             <td>Least Squares</td>  <th>  F-statistic:       </th>  <td>1.603e+04</td> \n",
       "</tr>\n",
       "<tr>\n",
       "  <th>Date:</th>             <td>Tue, 29 Sep 2020</td> <th>  Prob (F-statistic):</th>   <td>  0.00</td>   \n",
       "</tr>\n",
       "<tr>\n",
       "  <th>Time:</th>                 <td>13:04:10</td>     <th>  Log-Likelihood:    </th> <td>-4.1190e+05</td>\n",
       "</tr>\n",
       "<tr>\n",
       "  <th>No. Observations:</th>      <td> 28824</td>      <th>  AIC:               </th>  <td>8.238e+05</td> \n",
       "</tr>\n",
       "<tr>\n",
       "  <th>Df Residuals:</th>          <td> 28822</td>      <th>  BIC:               </th>  <td>8.238e+05</td> \n",
       "</tr>\n",
       "<tr>\n",
       "  <th>Df Model:</th>              <td>     1</td>      <th>                     </th>      <td> </td>     \n",
       "</tr>\n",
       "<tr>\n",
       "  <th>Covariance Type:</th>      <td>nonrobust</td>    <th>                     </th>      <td> </td>     \n",
       "</tr>\n",
       "</table>\n",
       "<table class=\"simpletable\">\n",
       "<tr>\n",
       "        <td></td>           <th>coef</th>     <th>std err</th>      <th>t</th>      <th>P>|t|</th>  <th>[0.025</th>    <th>0.975]</th>  \n",
       "</tr>\n",
       "<tr>\n",
       "  <th>Intercept</th>     <td> 1.106e+05</td> <td> 5757.098</td> <td>   19.217</td> <td> 0.000</td> <td> 9.93e+04</td> <td> 1.22e+05</td>\n",
       "</tr>\n",
       "<tr>\n",
       "  <th>SqFtTotLiving</th> <td>  306.1794</td> <td>    2.419</td> <td>  126.597</td> <td> 0.000</td> <td>  301.439</td> <td>  310.920</td>\n",
       "</tr>\n",
       "</table>\n",
       "<table class=\"simpletable\">\n",
       "<tr>\n",
       "  <th>Omnibus:</th>       <td>13104.282</td> <th>  Durbin-Watson:     </th>  <td>   1.918</td> \n",
       "</tr>\n",
       "<tr>\n",
       "  <th>Prob(Omnibus):</th>  <td> 0.000</td>   <th>  Jarque-Bera (JB):  </th> <td>110455.449</td>\n",
       "</tr>\n",
       "<tr>\n",
       "  <th>Skew:</th>           <td> 1.996</td>   <th>  Prob(JB):          </th>  <td>    0.00</td> \n",
       "</tr>\n",
       "<tr>\n",
       "  <th>Kurtosis:</th>       <td>11.720</td>   <th>  Cond. No.          </th>  <td>5.98e+03</td> \n",
       "</tr>\n",
       "</table><br/><br/>Warnings:<br/>[1] Standard Errors assume that the covariance matrix of the errors is correctly specified.<br/>[2] The condition number is large, 5.98e+03. This might indicate that there are<br/>strong multicollinearity or other numerical problems."
      ],
      "text/plain": [
       "<class 'statsmodels.iolib.summary.Summary'>\n",
       "\"\"\"\n",
       "                            OLS Regression Results                            \n",
       "==============================================================================\n",
       "Dep. Variable:              SalePrice   R-squared:                       0.357\n",
       "Model:                            OLS   Adj. R-squared:                  0.357\n",
       "Method:                 Least Squares   F-statistic:                 1.603e+04\n",
       "Date:                Tue, 29 Sep 2020   Prob (F-statistic):               0.00\n",
       "Time:                        13:04:10   Log-Likelihood:            -4.1190e+05\n",
       "No. Observations:               28824   AIC:                         8.238e+05\n",
       "Df Residuals:                   28822   BIC:                         8.238e+05\n",
       "Df Model:                           1                                         \n",
       "Covariance Type:            nonrobust                                         \n",
       "=================================================================================\n",
       "                    coef    std err          t      P>|t|      [0.025      0.975]\n",
       "---------------------------------------------------------------------------------\n",
       "Intercept      1.106e+05   5757.098     19.217      0.000    9.93e+04    1.22e+05\n",
       "SqFtTotLiving   306.1794      2.419    126.597      0.000     301.439     310.920\n",
       "==============================================================================\n",
       "Omnibus:                    13104.282   Durbin-Watson:                   1.918\n",
       "Prob(Omnibus):                  0.000   Jarque-Bera (JB):           110455.449\n",
       "Skew:                           1.996   Prob(JB):                         0.00\n",
       "Kurtosis:                      11.720   Cond. No.                     5.98e+03\n",
       "==============================================================================\n",
       "\n",
       "Warnings:\n",
       "[1] Standard Errors assume that the covariance matrix of the errors is correctly specified.\n",
       "[2] The condition number is large, 5.98e+03. This might indicate that there are\n",
       "strong multicollinearity or other numerical problems.\n",
       "\"\"\""
      ]
     },
     "execution_count": 115,
     "metadata": {},
     "output_type": "execute_result"
    }
   ],
   "source": [
    "predictors = '+'.join(x_cols)\n",
    "formula = outcome + '~' + predictors\n",
    "fsm_model = ols(formula=formula, data=df).fit()\n",
    "fsm_model.summary()\n"
   ]
  },
  {
   "cell_type": "markdown",
   "metadata": {},
   "source": [
    "### FSM_Model 2"
   ]
  },
  {
   "cell_type": "code",
   "execution_count": 111,
   "metadata": {},
   "outputs": [],
   "source": [
    "outcome = 'SalePrice'\n",
    "x_cols = ['Has_Porch']"
   ]
  },
  {
   "cell_type": "code",
   "execution_count": 112,
   "metadata": {},
   "outputs": [
    {
     "data": {
      "text/html": [
       "<table class=\"simpletable\">\n",
       "<caption>OLS Regression Results</caption>\n",
       "<tr>\n",
       "  <th>Dep. Variable:</th>        <td>SalePrice</td>    <th>  R-squared:         </th>  <td>   0.043</td>  \n",
       "</tr>\n",
       "<tr>\n",
       "  <th>Model:</th>                   <td>OLS</td>       <th>  Adj. R-squared:    </th>  <td>   0.043</td>  \n",
       "</tr>\n",
       "<tr>\n",
       "  <th>Method:</th>             <td>Least Squares</td>  <th>  F-statistic:       </th>  <td>   1287.</td>  \n",
       "</tr>\n",
       "<tr>\n",
       "  <th>Date:</th>             <td>Tue, 29 Sep 2020</td> <th>  Prob (F-statistic):</th>  <td>9.26e-276</td> \n",
       "</tr>\n",
       "<tr>\n",
       "  <th>Time:</th>                 <td>13:01:19</td>     <th>  Log-Likelihood:    </th> <td>-4.1765e+05</td>\n",
       "</tr>\n",
       "<tr>\n",
       "  <th>No. Observations:</th>      <td> 28824</td>      <th>  AIC:               </th>  <td>8.353e+05</td> \n",
       "</tr>\n",
       "<tr>\n",
       "  <th>Df Residuals:</th>          <td> 28822</td>      <th>  BIC:               </th>  <td>8.353e+05</td> \n",
       "</tr>\n",
       "<tr>\n",
       "  <th>Df Model:</th>              <td>     1</td>      <th>                     </th>      <td> </td>     \n",
       "</tr>\n",
       "<tr>\n",
       "  <th>Covariance Type:</th>      <td>nonrobust</td>    <th>                     </th>      <td> </td>     \n",
       "</tr>\n",
       "</table>\n",
       "<table class=\"simpletable\">\n",
       "<tr>\n",
       "      <td></td>         <th>coef</th>     <th>std err</th>      <th>t</th>      <th>P>|t|</th>  <th>[0.025</th>    <th>0.975]</th>  \n",
       "</tr>\n",
       "<tr>\n",
       "  <th>Intercept</th> <td> 6.667e+05</td> <td> 4202.924</td> <td>  158.627</td> <td> 0.000</td> <td> 6.58e+05</td> <td> 6.75e+05</td>\n",
       "</tr>\n",
       "<tr>\n",
       "  <th>Has_Porch</th> <td>  2.02e+05</td> <td> 5630.090</td> <td>   35.873</td> <td> 0.000</td> <td> 1.91e+05</td> <td> 2.13e+05</td>\n",
       "</tr>\n",
       "</table>\n",
       "<table class=\"simpletable\">\n",
       "<tr>\n",
       "  <th>Omnibus:</th>       <td>13917.537</td> <th>  Durbin-Watson:     </th> <td>   1.947</td> \n",
       "</tr>\n",
       "<tr>\n",
       "  <th>Prob(Omnibus):</th>  <td> 0.000</td>   <th>  Jarque-Bera (JB):  </th> <td>91641.326</td>\n",
       "</tr>\n",
       "<tr>\n",
       "  <th>Skew:</th>           <td> 2.256</td>   <th>  Prob(JB):          </th> <td>    0.00</td> \n",
       "</tr>\n",
       "<tr>\n",
       "  <th>Kurtosis:</th>       <td>10.480</td>   <th>  Cond. No.          </th> <td>    2.77</td> \n",
       "</tr>\n",
       "</table><br/><br/>Warnings:<br/>[1] Standard Errors assume that the covariance matrix of the errors is correctly specified."
      ],
      "text/plain": [
       "<class 'statsmodels.iolib.summary.Summary'>\n",
       "\"\"\"\n",
       "                            OLS Regression Results                            \n",
       "==============================================================================\n",
       "Dep. Variable:              SalePrice   R-squared:                       0.043\n",
       "Model:                            OLS   Adj. R-squared:                  0.043\n",
       "Method:                 Least Squares   F-statistic:                     1287.\n",
       "Date:                Tue, 29 Sep 2020   Prob (F-statistic):          9.26e-276\n",
       "Time:                        13:01:19   Log-Likelihood:            -4.1765e+05\n",
       "No. Observations:               28824   AIC:                         8.353e+05\n",
       "Df Residuals:                   28822   BIC:                         8.353e+05\n",
       "Df Model:                           1                                         \n",
       "Covariance Type:            nonrobust                                         \n",
       "==============================================================================\n",
       "                 coef    std err          t      P>|t|      [0.025      0.975]\n",
       "------------------------------------------------------------------------------\n",
       "Intercept   6.667e+05   4202.924    158.627      0.000    6.58e+05    6.75e+05\n",
       "Has_Porch    2.02e+05   5630.090     35.873      0.000    1.91e+05    2.13e+05\n",
       "==============================================================================\n",
       "Omnibus:                    13917.537   Durbin-Watson:                   1.947\n",
       "Prob(Omnibus):                  0.000   Jarque-Bera (JB):            91641.326\n",
       "Skew:                           2.256   Prob(JB):                         0.00\n",
       "Kurtosis:                      10.480   Cond. No.                         2.77\n",
       "==============================================================================\n",
       "\n",
       "Warnings:\n",
       "[1] Standard Errors assume that the covariance matrix of the errors is correctly specified.\n",
       "\"\"\""
      ]
     },
     "execution_count": 112,
     "metadata": {},
     "output_type": "execute_result"
    }
   ],
   "source": [
    "predictors = '+'.join(x_cols)\n",
    "formula = outcome + '~' + predictors\n",
    "fsm_model = ols(formula=formula, data=df).fit()\n",
    "fsm_model.summary()"
   ]
  },
  {
   "cell_type": "markdown",
   "metadata": {},
   "source": [
    "### FSM_Model 3"
   ]
  },
  {
   "cell_type": "code",
   "execution_count": 116,
   "metadata": {},
   "outputs": [],
   "source": [
    "outcome = 'SalePrice'\n",
    "x_cols = ['Is_WaterFrontLocation']\n"
   ]
  },
  {
   "cell_type": "code",
   "execution_count": 117,
   "metadata": {},
   "outputs": [
    {
     "data": {
      "text/html": [
       "<table class=\"simpletable\">\n",
       "<caption>OLS Regression Results</caption>\n",
       "<tr>\n",
       "  <th>Dep. Variable:</th>        <td>SalePrice</td>    <th>  R-squared:         </th>  <td>   0.019</td>  \n",
       "</tr>\n",
       "<tr>\n",
       "  <th>Model:</th>                   <td>OLS</td>       <th>  Adj. R-squared:    </th>  <td>   0.018</td>  \n",
       "</tr>\n",
       "<tr>\n",
       "  <th>Method:</th>             <td>Least Squares</td>  <th>  F-statistic:       </th>  <td>   543.6</td>  \n",
       "</tr>\n",
       "<tr>\n",
       "  <th>Date:</th>             <td>Tue, 29 Sep 2020</td> <th>  Prob (F-statistic):</th>  <td>3.96e-119</td> \n",
       "</tr>\n",
       "<tr>\n",
       "  <th>Time:</th>                 <td>13:06:08</td>     <th>  Log-Likelihood:    </th> <td>-4.1801e+05</td>\n",
       "</tr>\n",
       "<tr>\n",
       "  <th>No. Observations:</th>      <td> 28824</td>      <th>  AIC:               </th>  <td>8.360e+05</td> \n",
       "</tr>\n",
       "<tr>\n",
       "  <th>Df Residuals:</th>          <td> 28822</td>      <th>  BIC:               </th>  <td>8.360e+05</td> \n",
       "</tr>\n",
       "<tr>\n",
       "  <th>Df Model:</th>              <td>     1</td>      <th>                     </th>      <td> </td>     \n",
       "</tr>\n",
       "<tr>\n",
       "  <th>Covariance Type:</th>      <td>nonrobust</td>    <th>                     </th>      <td> </td>     \n",
       "</tr>\n",
       "</table>\n",
       "<table class=\"simpletable\">\n",
       "<tr>\n",
       "            <td></td>               <th>coef</th>     <th>std err</th>      <th>t</th>      <th>P>|t|</th>  <th>[0.025</th>    <th>0.975]</th>  \n",
       "</tr>\n",
       "<tr>\n",
       "  <th>Intercept</th>             <td> 7.713e+05</td> <td> 2852.292</td> <td>  270.404</td> <td> 0.000</td> <td> 7.66e+05</td> <td> 7.77e+05</td>\n",
       "</tr>\n",
       "<tr>\n",
       "  <th>Is_WaterFrontLocation</th> <td> 5.542e+05</td> <td> 2.38e+04</td> <td>   23.315</td> <td> 0.000</td> <td> 5.08e+05</td> <td> 6.01e+05</td>\n",
       "</tr>\n",
       "</table>\n",
       "<table class=\"simpletable\">\n",
       "<tr>\n",
       "  <th>Omnibus:</th>       <td>13630.220</td> <th>  Durbin-Watson:     </th> <td>   1.943</td> \n",
       "</tr>\n",
       "<tr>\n",
       "  <th>Prob(Omnibus):</th>  <td> 0.000</td>   <th>  Jarque-Bera (JB):  </th> <td>85827.233</td>\n",
       "</tr>\n",
       "<tr>\n",
       "  <th>Skew:</th>           <td> 2.217</td>   <th>  Prob(JB):          </th> <td>    0.00</td> \n",
       "</tr>\n",
       "<tr>\n",
       "  <th>Kurtosis:</th>       <td>10.198</td>   <th>  Cond. No.          </th> <td>    8.40</td> \n",
       "</tr>\n",
       "</table><br/><br/>Warnings:<br/>[1] Standard Errors assume that the covariance matrix of the errors is correctly specified."
      ],
      "text/plain": [
       "<class 'statsmodels.iolib.summary.Summary'>\n",
       "\"\"\"\n",
       "                            OLS Regression Results                            \n",
       "==============================================================================\n",
       "Dep. Variable:              SalePrice   R-squared:                       0.019\n",
       "Model:                            OLS   Adj. R-squared:                  0.018\n",
       "Method:                 Least Squares   F-statistic:                     543.6\n",
       "Date:                Tue, 29 Sep 2020   Prob (F-statistic):          3.96e-119\n",
       "Time:                        13:06:08   Log-Likelihood:            -4.1801e+05\n",
       "No. Observations:               28824   AIC:                         8.360e+05\n",
       "Df Residuals:                   28822   BIC:                         8.360e+05\n",
       "Df Model:                           1                                         \n",
       "Covariance Type:            nonrobust                                         \n",
       "=========================================================================================\n",
       "                            coef    std err          t      P>|t|      [0.025      0.975]\n",
       "-----------------------------------------------------------------------------------------\n",
       "Intercept              7.713e+05   2852.292    270.404      0.000    7.66e+05    7.77e+05\n",
       "Is_WaterFrontLocation  5.542e+05   2.38e+04     23.315      0.000    5.08e+05    6.01e+05\n",
       "==============================================================================\n",
       "Omnibus:                    13630.220   Durbin-Watson:                   1.943\n",
       "Prob(Omnibus):                  0.000   Jarque-Bera (JB):            85827.233\n",
       "Skew:                           2.217   Prob(JB):                         0.00\n",
       "Kurtosis:                      10.198   Cond. No.                         8.40\n",
       "==============================================================================\n",
       "\n",
       "Warnings:\n",
       "[1] Standard Errors assume that the covariance matrix of the errors is correctly specified.\n",
       "\"\"\""
      ]
     },
     "execution_count": 117,
     "metadata": {},
     "output_type": "execute_result"
    }
   ],
   "source": [
    "predictors = '+'.join(x_cols)\n",
    "formula = outcome + '~' + predictors\n",
    "fsm_model = ols(formula=formula, data=df).fit()\n",
    "fsm_model.summary()"
   ]
  },
  {
   "cell_type": "markdown",
   "metadata": {},
   "source": [
    "### FSM_Model 4"
   ]
  },
  {
   "cell_type": "code",
   "execution_count": 120,
   "metadata": {},
   "outputs": [],
   "source": [
    "outcome = 'SalePrice'\n",
    "x_cols = ['Has_Nuisance']"
   ]
  },
  {
   "cell_type": "code",
   "execution_count": 121,
   "metadata": {},
   "outputs": [
    {
     "data": {
      "text/html": [
       "<table class=\"simpletable\">\n",
       "<caption>OLS Regression Results</caption>\n",
       "<tr>\n",
       "  <th>Dep. Variable:</th>        <td>SalePrice</td>    <th>  R-squared:         </th>  <td>   0.000</td>  \n",
       "</tr>\n",
       "<tr>\n",
       "  <th>Model:</th>                   <td>OLS</td>       <th>  Adj. R-squared:    </th>  <td>   0.000</td>  \n",
       "</tr>\n",
       "<tr>\n",
       "  <th>Method:</th>             <td>Least Squares</td>  <th>  F-statistic:       </th>  <td>   1.043</td>  \n",
       "</tr>\n",
       "<tr>\n",
       "  <th>Date:</th>             <td>Tue, 29 Sep 2020</td> <th>  Prob (F-statistic):</th>   <td> 0.307</td>   \n",
       "</tr>\n",
       "<tr>\n",
       "  <th>Time:</th>                 <td>13:09:15</td>     <th>  Log-Likelihood:    </th> <td>-4.1827e+05</td>\n",
       "</tr>\n",
       "<tr>\n",
       "  <th>No. Observations:</th>      <td> 28824</td>      <th>  AIC:               </th>  <td>8.366e+05</td> \n",
       "</tr>\n",
       "<tr>\n",
       "  <th>Df Residuals:</th>          <td> 28822</td>      <th>  BIC:               </th>  <td>8.366e+05</td> \n",
       "</tr>\n",
       "<tr>\n",
       "  <th>Df Model:</th>              <td>     1</td>      <th>                     </th>      <td> </td>     \n",
       "</tr>\n",
       "<tr>\n",
       "  <th>Covariance Type:</th>      <td>nonrobust</td>    <th>                     </th>      <td> </td>     \n",
       "</tr>\n",
       "</table>\n",
       "<table class=\"simpletable\">\n",
       "<tr>\n",
       "        <td></td>          <th>coef</th>     <th>std err</th>      <th>t</th>      <th>P>|t|</th>  <th>[0.025</th>    <th>0.975]</th>  \n",
       "</tr>\n",
       "<tr>\n",
       "  <th>Intercept</th>    <td> 7.779e+05</td> <td> 3137.880</td> <td>  247.915</td> <td> 0.000</td> <td> 7.72e+05</td> <td> 7.84e+05</td>\n",
       "</tr>\n",
       "<tr>\n",
       "  <th>Has_Nuisance</th> <td> 7765.3750</td> <td> 7603.559</td> <td>    1.021</td> <td> 0.307</td> <td>-7137.952</td> <td> 2.27e+04</td>\n",
       "</tr>\n",
       "</table>\n",
       "<table class=\"simpletable\">\n",
       "<tr>\n",
       "  <th>Omnibus:</th>       <td>14136.291</td> <th>  Durbin-Watson:     </th> <td>   1.947</td> \n",
       "</tr>\n",
       "<tr>\n",
       "  <th>Prob(Omnibus):</th>  <td> 0.000</td>   <th>  Jarque-Bera (JB):  </th> <td>92644.887</td>\n",
       "</tr>\n",
       "<tr>\n",
       "  <th>Skew:</th>           <td> 2.303</td>   <th>  Prob(JB):          </th> <td>    0.00</td> \n",
       "</tr>\n",
       "<tr>\n",
       "  <th>Kurtosis:</th>       <td>10.478</td>   <th>  Cond. No.          </th> <td>    2.75</td> \n",
       "</tr>\n",
       "</table><br/><br/>Warnings:<br/>[1] Standard Errors assume that the covariance matrix of the errors is correctly specified."
      ],
      "text/plain": [
       "<class 'statsmodels.iolib.summary.Summary'>\n",
       "\"\"\"\n",
       "                            OLS Regression Results                            \n",
       "==============================================================================\n",
       "Dep. Variable:              SalePrice   R-squared:                       0.000\n",
       "Model:                            OLS   Adj. R-squared:                  0.000\n",
       "Method:                 Least Squares   F-statistic:                     1.043\n",
       "Date:                Tue, 29 Sep 2020   Prob (F-statistic):              0.307\n",
       "Time:                        13:09:15   Log-Likelihood:            -4.1827e+05\n",
       "No. Observations:               28824   AIC:                         8.366e+05\n",
       "Df Residuals:                   28822   BIC:                         8.366e+05\n",
       "Df Model:                           1                                         \n",
       "Covariance Type:            nonrobust                                         \n",
       "================================================================================\n",
       "                   coef    std err          t      P>|t|      [0.025      0.975]\n",
       "--------------------------------------------------------------------------------\n",
       "Intercept     7.779e+05   3137.880    247.915      0.000    7.72e+05    7.84e+05\n",
       "Has_Nuisance  7765.3750   7603.559      1.021      0.307   -7137.952    2.27e+04\n",
       "==============================================================================\n",
       "Omnibus:                    14136.291   Durbin-Watson:                   1.947\n",
       "Prob(Omnibus):                  0.000   Jarque-Bera (JB):            92644.887\n",
       "Skew:                           2.303   Prob(JB):                         0.00\n",
       "Kurtosis:                      10.478   Cond. No.                         2.75\n",
       "==============================================================================\n",
       "\n",
       "Warnings:\n",
       "[1] Standard Errors assume that the covariance matrix of the errors is correctly specified.\n",
       "\"\"\""
      ]
     },
     "execution_count": 121,
     "metadata": {},
     "output_type": "execute_result"
    }
   ],
   "source": [
    "predictors = '+'.join(x_cols)\n",
    "formula = outcome + '~' + predictors\n",
    "fsm_model = ols(formula=formula, data=df).fit()\n",
    "fsm_model.summary()"
   ]
  },
  {
   "cell_type": "markdown",
   "metadata": {},
   "source": [
    "### FSM_Model 5"
   ]
  },
  {
   "cell_type": "code",
   "execution_count": 124,
   "metadata": {},
   "outputs": [],
   "source": [
    "outcome = 'SalePrice'\n",
    "x_cols = ['SqFtLot']"
   ]
  },
  {
   "cell_type": "code",
   "execution_count": 125,
   "metadata": {},
   "outputs": [
    {
     "data": {
      "text/html": [
       "<table class=\"simpletable\">\n",
       "<caption>OLS Regression Results</caption>\n",
       "<tr>\n",
       "  <th>Dep. Variable:</th>        <td>SalePrice</td>    <th>  R-squared:         </th>  <td>   0.005</td>  \n",
       "</tr>\n",
       "<tr>\n",
       "  <th>Model:</th>                   <td>OLS</td>       <th>  Adj. R-squared:    </th>  <td>   0.005</td>  \n",
       "</tr>\n",
       "<tr>\n",
       "  <th>Method:</th>             <td>Least Squares</td>  <th>  F-statistic:       </th>  <td>   147.2</td>  \n",
       "</tr>\n",
       "<tr>\n",
       "  <th>Date:</th>             <td>Tue, 29 Sep 2020</td> <th>  Prob (F-statistic):</th>  <td>8.65e-34</td>  \n",
       "</tr>\n",
       "<tr>\n",
       "  <th>Time:</th>                 <td>13:12:40</td>     <th>  Log-Likelihood:    </th> <td>-4.1820e+05</td>\n",
       "</tr>\n",
       "<tr>\n",
       "  <th>No. Observations:</th>      <td> 28824</td>      <th>  AIC:               </th>  <td>8.364e+05</td> \n",
       "</tr>\n",
       "<tr>\n",
       "  <th>Df Residuals:</th>          <td> 28822</td>      <th>  BIC:               </th>  <td>8.364e+05</td> \n",
       "</tr>\n",
       "<tr>\n",
       "  <th>Df Model:</th>              <td>     1</td>      <th>                     </th>      <td> </td>     \n",
       "</tr>\n",
       "<tr>\n",
       "  <th>Covariance Type:</th>      <td>nonrobust</td>    <th>                     </th>      <td> </td>     \n",
       "</tr>\n",
       "</table>\n",
       "<table class=\"simpletable\">\n",
       "<tr>\n",
       "      <td></td>         <th>coef</th>     <th>std err</th>      <th>t</th>      <th>P>|t|</th>  <th>[0.025</th>    <th>0.975]</th>  \n",
       "</tr>\n",
       "<tr>\n",
       "  <th>Intercept</th> <td> 7.606e+05</td> <td> 3239.580</td> <td>  234.779</td> <td> 0.000</td> <td> 7.54e+05</td> <td> 7.67e+05</td>\n",
       "</tr>\n",
       "<tr>\n",
       "  <th>SqFtLot</th>   <td>    1.4735</td> <td>    0.121</td> <td>   12.132</td> <td> 0.000</td> <td>    1.235</td> <td>    1.712</td>\n",
       "</tr>\n",
       "</table>\n",
       "<table class=\"simpletable\">\n",
       "<tr>\n",
       "  <th>Omnibus:</th>       <td>14076.440</td> <th>  Durbin-Watson:     </th> <td>   1.947</td> \n",
       "</tr>\n",
       "<tr>\n",
       "  <th>Prob(Omnibus):</th>  <td> 0.000</td>   <th>  Jarque-Bera (JB):  </th> <td>92185.738</td>\n",
       "</tr>\n",
       "<tr>\n",
       "  <th>Skew:</th>           <td> 2.291</td>   <th>  Prob(JB):          </th> <td>    0.00</td> \n",
       "</tr>\n",
       "<tr>\n",
       "  <th>Kurtosis:</th>       <td>10.467</td>   <th>  Cond. No.          </th> <td>3.03e+04</td> \n",
       "</tr>\n",
       "</table><br/><br/>Warnings:<br/>[1] Standard Errors assume that the covariance matrix of the errors is correctly specified.<br/>[2] The condition number is large, 3.03e+04. This might indicate that there are<br/>strong multicollinearity or other numerical problems."
      ],
      "text/plain": [
       "<class 'statsmodels.iolib.summary.Summary'>\n",
       "\"\"\"\n",
       "                            OLS Regression Results                            \n",
       "==============================================================================\n",
       "Dep. Variable:              SalePrice   R-squared:                       0.005\n",
       "Model:                            OLS   Adj. R-squared:                  0.005\n",
       "Method:                 Least Squares   F-statistic:                     147.2\n",
       "Date:                Tue, 29 Sep 2020   Prob (F-statistic):           8.65e-34\n",
       "Time:                        13:12:40   Log-Likelihood:            -4.1820e+05\n",
       "No. Observations:               28824   AIC:                         8.364e+05\n",
       "Df Residuals:                   28822   BIC:                         8.364e+05\n",
       "Df Model:                           1                                         \n",
       "Covariance Type:            nonrobust                                         \n",
       "==============================================================================\n",
       "                 coef    std err          t      P>|t|      [0.025      0.975]\n",
       "------------------------------------------------------------------------------\n",
       "Intercept   7.606e+05   3239.580    234.779      0.000    7.54e+05    7.67e+05\n",
       "SqFtLot        1.4735      0.121     12.132      0.000       1.235       1.712\n",
       "==============================================================================\n",
       "Omnibus:                    14076.440   Durbin-Watson:                   1.947\n",
       "Prob(Omnibus):                  0.000   Jarque-Bera (JB):            92185.738\n",
       "Skew:                           2.291   Prob(JB):                         0.00\n",
       "Kurtosis:                      10.467   Cond. No.                     3.03e+04\n",
       "==============================================================================\n",
       "\n",
       "Warnings:\n",
       "[1] Standard Errors assume that the covariance matrix of the errors is correctly specified.\n",
       "[2] The condition number is large, 3.03e+04. This might indicate that there are\n",
       "strong multicollinearity or other numerical problems.\n",
       "\"\"\""
      ]
     },
     "execution_count": 125,
     "metadata": {},
     "output_type": "execute_result"
    }
   ],
   "source": [
    "predictors = '+'.join(x_cols)\n",
    "formula = outcome + '~' + predictors\n",
    "fsm_model = ols(formula=formula, data=df).fit()\n",
    "fsm_model.summary()"
   ]
  },
  {
   "cell_type": "markdown",
   "metadata": {},
   "source": [
    "## Multilinear Models\n"
   ]
  },
  {
   "cell_type": "markdown",
   "metadata": {},
   "source": [
    "### ML_Model 1"
   ]
  },
  {
   "cell_type": "code",
   "execution_count": 234,
   "metadata": {},
   "outputs": [],
   "source": [
    "outcome = 'SalePrice'\n",
    "x_cols = ['SqFtTotLiving','Has_Porch' ]\n"
   ]
  },
  {
   "cell_type": "code",
   "execution_count": 236,
   "metadata": {},
   "outputs": [
    {
     "data": {
      "text/html": [
       "<table class=\"simpletable\">\n",
       "<caption>OLS Regression Results</caption>\n",
       "<tr>\n",
       "  <th>Dep. Variable:</th>        <td>SalePrice</td>    <th>  R-squared:         </th>  <td>   0.330</td>  \n",
       "</tr>\n",
       "<tr>\n",
       "  <th>Model:</th>                   <td>OLS</td>       <th>  Adj. R-squared:    </th>  <td>   0.330</td>  \n",
       "</tr>\n",
       "<tr>\n",
       "  <th>Method:</th>             <td>Least Squares</td>  <th>  F-statistic:       </th>  <td>   6822.</td>  \n",
       "</tr>\n",
       "<tr>\n",
       "  <th>Date:</th>             <td>Tue, 29 Sep 2020</td> <th>  Prob (F-statistic):</th>   <td>  0.00</td>   \n",
       "</tr>\n",
       "<tr>\n",
       "  <th>Time:</th>                 <td>19:42:35</td>     <th>  Log-Likelihood:    </th> <td>-4.0289e+05</td>\n",
       "</tr>\n",
       "<tr>\n",
       "  <th>No. Observations:</th>      <td> 27728</td>      <th>  AIC:               </th>  <td>8.058e+05</td> \n",
       "</tr>\n",
       "<tr>\n",
       "  <th>Df Residuals:</th>          <td> 27725</td>      <th>  BIC:               </th>  <td>8.058e+05</td> \n",
       "</tr>\n",
       "<tr>\n",
       "  <th>Df Model:</th>              <td>     2</td>      <th>                     </th>      <td> </td>     \n",
       "</tr>\n",
       "<tr>\n",
       "  <th>Covariance Type:</th>      <td>nonrobust</td>    <th>                     </th>      <td> </td>     \n",
       "</tr>\n",
       "</table>\n",
       "<table class=\"simpletable\">\n",
       "<tr>\n",
       "        <td></td>           <th>coef</th>     <th>std err</th>      <th>t</th>      <th>P>|t|</th>  <th>[0.025</th>    <th>0.975]</th>  \n",
       "</tr>\n",
       "<tr>\n",
       "  <th>Intercept</th>     <td> 3.764e+04</td> <td> 7373.289</td> <td>    5.105</td> <td> 0.000</td> <td> 2.32e+04</td> <td> 5.21e+04</td>\n",
       "</tr>\n",
       "<tr>\n",
       "  <th>SqFtTotLiving</th> <td>  353.4087</td> <td>    3.181</td> <td>  111.086</td> <td> 0.000</td> <td>  347.173</td> <td>  359.644</td>\n",
       "</tr>\n",
       "<tr>\n",
       "  <th>Has_Porch</th>     <td>-1.431e+04</td> <td> 6330.603</td> <td>   -2.261</td> <td> 0.024</td> <td>-2.67e+04</td> <td>-1904.546</td>\n",
       "</tr>\n",
       "</table>\n",
       "<table class=\"simpletable\">\n",
       "<tr>\n",
       "  <th>Omnibus:</th>       <td>28674.977</td> <th>  Durbin-Watson:     </th>  <td>   1.027</td>  \n",
       "</tr>\n",
       "<tr>\n",
       "  <th>Prob(Omnibus):</th>  <td> 0.000</td>   <th>  Jarque-Bera (JB):  </th> <td>3431705.698</td>\n",
       "</tr>\n",
       "<tr>\n",
       "  <th>Skew:</th>           <td> 4.954</td>   <th>  Prob(JB):          </th>  <td>    0.00</td>  \n",
       "</tr>\n",
       "<tr>\n",
       "  <th>Kurtosis:</th>       <td>56.592</td>   <th>  Cond. No.          </th>  <td>6.19e+03</td>  \n",
       "</tr>\n",
       "</table><br/><br/>Warnings:<br/>[1] Standard Errors assume that the covariance matrix of the errors is correctly specified.<br/>[2] The condition number is large, 6.19e+03. This might indicate that there are<br/>strong multicollinearity or other numerical problems."
      ],
      "text/plain": [
       "<class 'statsmodels.iolib.summary.Summary'>\n",
       "\"\"\"\n",
       "                            OLS Regression Results                            \n",
       "==============================================================================\n",
       "Dep. Variable:              SalePrice   R-squared:                       0.330\n",
       "Model:                            OLS   Adj. R-squared:                  0.330\n",
       "Method:                 Least Squares   F-statistic:                     6822.\n",
       "Date:                Tue, 29 Sep 2020   Prob (F-statistic):               0.00\n",
       "Time:                        19:42:35   Log-Likelihood:            -4.0289e+05\n",
       "No. Observations:               27728   AIC:                         8.058e+05\n",
       "Df Residuals:                   27725   BIC:                         8.058e+05\n",
       "Df Model:                           2                                         \n",
       "Covariance Type:            nonrobust                                         \n",
       "=================================================================================\n",
       "                    coef    std err          t      P>|t|      [0.025      0.975]\n",
       "---------------------------------------------------------------------------------\n",
       "Intercept      3.764e+04   7373.289      5.105      0.000    2.32e+04    5.21e+04\n",
       "SqFtTotLiving   353.4087      3.181    111.086      0.000     347.173     359.644\n",
       "Has_Porch     -1.431e+04   6330.603     -2.261      0.024   -2.67e+04   -1904.546\n",
       "==============================================================================\n",
       "Omnibus:                    28674.977   Durbin-Watson:                   1.027\n",
       "Prob(Omnibus):                  0.000   Jarque-Bera (JB):          3431705.698\n",
       "Skew:                           4.954   Prob(JB):                         0.00\n",
       "Kurtosis:                      56.592   Cond. No.                     6.19e+03\n",
       "==============================================================================\n",
       "\n",
       "Warnings:\n",
       "[1] Standard Errors assume that the covariance matrix of the errors is correctly specified.\n",
       "[2] The condition number is large, 6.19e+03. This might indicate that there are\n",
       "strong multicollinearity or other numerical problems.\n",
       "\"\"\""
      ]
     },
     "execution_count": 236,
     "metadata": {},
     "output_type": "execute_result"
    }
   ],
   "source": [
    "predictors = '+'.join(x_cols)\n",
    "formula = outcome + '~' + predictors\n",
    "ml_model1 = ols(formula=formula, data=df).fit()\n",
    "ml_model1.summary()\n"
   ]
  },
  {
   "cell_type": "markdown",
   "metadata": {},
   "source": [
    "### ML_Model 2"
   ]
  },
  {
   "cell_type": "code",
   "execution_count": 141,
   "metadata": {},
   "outputs": [],
   "source": [
    "outcome = 'SalePrice'\n",
    "x_cols = ['SqFtTotLiving','Has_Porch', 'Is_WaterFrontLocation']\n"
   ]
  },
  {
   "cell_type": "code",
   "execution_count": 155,
   "metadata": {},
   "outputs": [
    {
     "data": {
      "text/html": [
       "<table class=\"simpletable\">\n",
       "<caption>OLS Regression Results</caption>\n",
       "<tr>\n",
       "  <th>Dep. Variable:</th>        <td>SalePrice</td>    <th>  R-squared:         </th>  <td>   0.370</td>  \n",
       "</tr>\n",
       "<tr>\n",
       "  <th>Model:</th>                   <td>OLS</td>       <th>  Adj. R-squared:    </th>  <td>   0.370</td>  \n",
       "</tr>\n",
       "<tr>\n",
       "  <th>Method:</th>             <td>Least Squares</td>  <th>  F-statistic:       </th>  <td>   5639.</td>  \n",
       "</tr>\n",
       "<tr>\n",
       "  <th>Date:</th>             <td>Tue, 29 Sep 2020</td> <th>  Prob (F-statistic):</th>   <td>  0.00</td>   \n",
       "</tr>\n",
       "<tr>\n",
       "  <th>Time:</th>                 <td>13:38:21</td>     <th>  Log-Likelihood:    </th> <td>-4.1162e+05</td>\n",
       "</tr>\n",
       "<tr>\n",
       "  <th>No. Observations:</th>      <td> 28824</td>      <th>  AIC:               </th>  <td>8.232e+05</td> \n",
       "</tr>\n",
       "<tr>\n",
       "  <th>Df Residuals:</th>          <td> 28820</td>      <th>  BIC:               </th>  <td>8.233e+05</td> \n",
       "</tr>\n",
       "<tr>\n",
       "  <th>Df Model:</th>              <td>     3</td>      <th>                     </th>      <td> </td>     \n",
       "</tr>\n",
       "<tr>\n",
       "  <th>Covariance Type:</th>      <td>nonrobust</td>    <th>                     </th>      <td> </td>     \n",
       "</tr>\n",
       "</table>\n",
       "<table class=\"simpletable\">\n",
       "<tr>\n",
       "            <td></td>               <th>coef</th>     <th>std err</th>      <th>t</th>      <th>P>|t|</th>  <th>[0.025</th>    <th>0.975]</th>  \n",
       "</tr>\n",
       "<tr>\n",
       "  <th>Intercept</th>             <td> 1.079e+05</td> <td> 5763.462</td> <td>   18.716</td> <td> 0.000</td> <td> 9.66e+04</td> <td> 1.19e+05</td>\n",
       "</tr>\n",
       "<tr>\n",
       "  <th>SqFtTotLiving</th>         <td>  302.5124</td> <td>    2.543</td> <td>  118.947</td> <td> 0.000</td> <td>  297.528</td> <td>  307.497</td>\n",
       "</tr>\n",
       "<tr>\n",
       "  <th>Has_Porch</th>             <td> 7563.4853</td> <td> 4847.244</td> <td>    1.560</td> <td> 0.119</td> <td>-1937.338</td> <td> 1.71e+04</td>\n",
       "</tr>\n",
       "<tr>\n",
       "  <th>Is_WaterFrontLocation</th> <td> 4.555e+05</td> <td> 1.91e+04</td> <td>   23.894</td> <td> 0.000</td> <td> 4.18e+05</td> <td> 4.93e+05</td>\n",
       "</tr>\n",
       "</table>\n",
       "<table class=\"simpletable\">\n",
       "<tr>\n",
       "  <th>Omnibus:</th>       <td>12545.159</td> <th>  Durbin-Watson:     </th>  <td>   1.915</td> \n",
       "</tr>\n",
       "<tr>\n",
       "  <th>Prob(Omnibus):</th>  <td> 0.000</td>   <th>  Jarque-Bera (JB):  </th> <td>102534.109</td>\n",
       "</tr>\n",
       "<tr>\n",
       "  <th>Skew:</th>           <td> 1.901</td>   <th>  Prob(JB):          </th>  <td>    0.00</td> \n",
       "</tr>\n",
       "<tr>\n",
       "  <th>Kurtosis:</th>       <td>11.422</td>   <th>  Cond. No.          </th>  <td>2.00e+04</td> \n",
       "</tr>\n",
       "</table><br/><br/>Warnings:<br/>[1] Standard Errors assume that the covariance matrix of the errors is correctly specified.<br/>[2] The condition number is large,  2e+04. This might indicate that there are<br/>strong multicollinearity or other numerical problems."
      ],
      "text/plain": [
       "<class 'statsmodels.iolib.summary.Summary'>\n",
       "\"\"\"\n",
       "                            OLS Regression Results                            \n",
       "==============================================================================\n",
       "Dep. Variable:              SalePrice   R-squared:                       0.370\n",
       "Model:                            OLS   Adj. R-squared:                  0.370\n",
       "Method:                 Least Squares   F-statistic:                     5639.\n",
       "Date:                Tue, 29 Sep 2020   Prob (F-statistic):               0.00\n",
       "Time:                        13:38:21   Log-Likelihood:            -4.1162e+05\n",
       "No. Observations:               28824   AIC:                         8.232e+05\n",
       "Df Residuals:                   28820   BIC:                         8.233e+05\n",
       "Df Model:                           3                                         \n",
       "Covariance Type:            nonrobust                                         \n",
       "=========================================================================================\n",
       "                            coef    std err          t      P>|t|      [0.025      0.975]\n",
       "-----------------------------------------------------------------------------------------\n",
       "Intercept              1.079e+05   5763.462     18.716      0.000    9.66e+04    1.19e+05\n",
       "SqFtTotLiving           302.5124      2.543    118.947      0.000     297.528     307.497\n",
       "Has_Porch              7563.4853   4847.244      1.560      0.119   -1937.338    1.71e+04\n",
       "Is_WaterFrontLocation  4.555e+05   1.91e+04     23.894      0.000    4.18e+05    4.93e+05\n",
       "==============================================================================\n",
       "Omnibus:                    12545.159   Durbin-Watson:                   1.915\n",
       "Prob(Omnibus):                  0.000   Jarque-Bera (JB):           102534.109\n",
       "Skew:                           1.901   Prob(JB):                         0.00\n",
       "Kurtosis:                      11.422   Cond. No.                     2.00e+04\n",
       "==============================================================================\n",
       "\n",
       "Warnings:\n",
       "[1] Standard Errors assume that the covariance matrix of the errors is correctly specified.\n",
       "[2] The condition number is large,  2e+04. This might indicate that there are\n",
       "strong multicollinearity or other numerical problems.\n",
       "\"\"\""
      ]
     },
     "execution_count": 155,
     "metadata": {},
     "output_type": "execute_result"
    }
   ],
   "source": [
    "predictors = '+'.join(x_cols)\n",
    "formula = outcome + '~' + predictors\n",
    "ml_model2 = ols(formula=formula, data=df).fit()\n",
    "ml_model2.summary()\n"
   ]
  },
  {
   "cell_type": "code",
   "execution_count": 382,
   "metadata": {},
   "outputs": [
    {
     "name": "stdout",
     "output_type": "stream",
     "text": [
      "<class 'pandas.core.frame.DataFrame'>\n",
      "RangeIndex: 27814 entries, 0 to 27813\n",
      "Data columns (total 35 columns):\n",
      " #   Column                    Non-Null Count  Dtype \n",
      "---  ------                    --------------  ----- \n",
      " 0   Unnamed: 0                27814 non-null  int64 \n",
      " 1   Major                     27814 non-null  int64 \n",
      " 2   Minor                     27814 non-null  int64 \n",
      " 3   ZipCode                   27814 non-null  int64 \n",
      " 4   DocumentDate              27814 non-null  object\n",
      " 5   SalePrice                 27814 non-null  int64 \n",
      " 6   SqFtLot                   27814 non-null  int64 \n",
      " 7   SqFtTotLiving             27814 non-null  int64 \n",
      " 8   Nuisances                 27814 non-null  object\n",
      " 9   Has_Nuisance              27814 non-null  int64 \n",
      " 10  TrafficNoise              27814 non-null  int64 \n",
      " 11  PowerLines                27814 non-null  int64 \n",
      " 12  OtherNuisances            27814 non-null  int64 \n",
      " 13  Is_WaterFrontLocation     27814 non-null  int64 \n",
      " 14  WaterFrontLocation        27814 non-null  object\n",
      " 15  Has_Porch                 27814 non-null  int64 \n",
      " 16  Has_OpenPorch             27814 non-null  int64 \n",
      " 17  Has_EnclosedPorch         27814 non-null  int64 \n",
      " 18  NbrLivingUnits            27814 non-null  int64 \n",
      " 19  View_MtRainier            27814 non-null  int64 \n",
      " 20  View_Olympics             27814 non-null  int64 \n",
      " 21  View_Cascades             27814 non-null  int64 \n",
      " 22  View_PugetSound           27814 non-null  int64 \n",
      " 23  View_LakeWashington       27814 non-null  int64 \n",
      " 24  View_LakeSammamish        27814 non-null  int64 \n",
      " 25  View_SmallLakeRiverCreek  27814 non-null  int64 \n",
      " 26  BldgGrade                 27814 non-null  int64 \n",
      " 27  Duwamish                  27814 non-null  uint8 \n",
      " 28  Lake Sammamish            27814 non-null  uint8 \n",
      " 29  Lake Union                27814 non-null  uint8 \n",
      " 30  Lake Washington           27814 non-null  uint8 \n",
      " 31  Other lake                27814 non-null  uint8 \n",
      " 32  Puget Sound               27814 non-null  uint8 \n",
      " 33  River or slough           27814 non-null  uint8 \n",
      " 34  Ship Canal                27814 non-null  uint8 \n",
      "dtypes: int64(24), object(3), uint8(8)\n",
      "memory usage: 5.9+ MB\n"
     ]
    }
   ],
   "source": [
    "comb_df.info()"
   ]
  },
  {
   "cell_type": "code",
   "execution_count": 383,
   "metadata": {},
   "outputs": [],
   "source": [
    "comb_df = comb_df.rename(columns={\"Other lake\": \"Other_lake\",\"Lake Sammamish\":\"Lake_Sammamish\", \"Lake Union\": \"Lake_Union\", \"Lake Washington\": \"Lake_Washington\", \"Puget Sound\": \"Puget_Sound\", \"River or slough\":\"River_or_slough\", \"Ship Canal\": \"Ship_Canal\" })"
   ]
  },
  {
   "cell_type": "code",
   "execution_count": 384,
   "metadata": {},
   "outputs": [
    {
     "name": "stdout",
     "output_type": "stream",
     "text": [
      "<class 'pandas.core.frame.DataFrame'>\n",
      "RangeIndex: 27814 entries, 0 to 27813\n",
      "Data columns (total 35 columns):\n",
      " #   Column                    Non-Null Count  Dtype \n",
      "---  ------                    --------------  ----- \n",
      " 0   Unnamed: 0                27814 non-null  int64 \n",
      " 1   Major                     27814 non-null  int64 \n",
      " 2   Minor                     27814 non-null  int64 \n",
      " 3   ZipCode                   27814 non-null  int64 \n",
      " 4   DocumentDate              27814 non-null  object\n",
      " 5   SalePrice                 27814 non-null  int64 \n",
      " 6   SqFtLot                   27814 non-null  int64 \n",
      " 7   SqFtTotLiving             27814 non-null  int64 \n",
      " 8   Nuisances                 27814 non-null  object\n",
      " 9   Has_Nuisance              27814 non-null  int64 \n",
      " 10  TrafficNoise              27814 non-null  int64 \n",
      " 11  PowerLines                27814 non-null  int64 \n",
      " 12  OtherNuisances            27814 non-null  int64 \n",
      " 13  Is_WaterFrontLocation     27814 non-null  int64 \n",
      " 14  WaterFrontLocation        27814 non-null  object\n",
      " 15  Has_Porch                 27814 non-null  int64 \n",
      " 16  Has_OpenPorch             27814 non-null  int64 \n",
      " 17  Has_EnclosedPorch         27814 non-null  int64 \n",
      " 18  NbrLivingUnits            27814 non-null  int64 \n",
      " 19  View_MtRainier            27814 non-null  int64 \n",
      " 20  View_Olympics             27814 non-null  int64 \n",
      " 21  View_Cascades             27814 non-null  int64 \n",
      " 22  View_PugetSound           27814 non-null  int64 \n",
      " 23  View_LakeWashington       27814 non-null  int64 \n",
      " 24  View_LakeSammamish        27814 non-null  int64 \n",
      " 25  View_SmallLakeRiverCreek  27814 non-null  int64 \n",
      " 26  BldgGrade                 27814 non-null  int64 \n",
      " 27  Duwamish                  27814 non-null  uint8 \n",
      " 28  Lake_Sammamish            27814 non-null  uint8 \n",
      " 29  Lake_Union                27814 non-null  uint8 \n",
      " 30  Lake_Washington           27814 non-null  uint8 \n",
      " 31  Other_lake                27814 non-null  uint8 \n",
      " 32  Puget_Sound               27814 non-null  uint8 \n",
      " 33  River_or_slough           27814 non-null  uint8 \n",
      " 34  Ship_Canal                27814 non-null  uint8 \n",
      "dtypes: int64(24), object(3), uint8(8)\n",
      "memory usage: 5.9+ MB\n"
     ]
    }
   ],
   "source": [
    "comb_df.info()\n",
    "\n"
   ]
  },
  {
   "cell_type": "markdown",
   "metadata": {},
   "source": [
    "### ML_Model 3 --water"
   ]
  },
  {
   "cell_type": "code",
   "execution_count": 326,
   "metadata": {},
   "outputs": [],
   "source": [
    "outcome = 'SalePrice'\n",
    "x_cols = ['SqFtTotLiving','Duwamish', 'Lake_Sammamish', 'Lake_Union', 'Lake_Union', 'Lake_Washington', 'Other_lake','Puget_Sound', 'River_or_slough', 'Ship_Canal']\n"
   ]
  },
  {
   "cell_type": "code",
   "execution_count": 327,
   "metadata": {},
   "outputs": [
    {
     "data": {
      "text/html": [
       "<table class=\"simpletable\">\n",
       "<caption>OLS Regression Results</caption>\n",
       "<tr>\n",
       "  <th>Dep. Variable:</th>        <td>SalePrice</td>    <th>  R-squared:         </th>  <td>   0.394</td>  \n",
       "</tr>\n",
       "<tr>\n",
       "  <th>Model:</th>                   <td>OLS</td>       <th>  Adj. R-squared:    </th>  <td>   0.394</td>  \n",
       "</tr>\n",
       "<tr>\n",
       "  <th>Method:</th>             <td>Least Squares</td>  <th>  F-statistic:       </th>  <td>   2001.</td>  \n",
       "</tr>\n",
       "<tr>\n",
       "  <th>Date:</th>             <td>Tue, 29 Sep 2020</td> <th>  Prob (F-statistic):</th>   <td>  0.00</td>   \n",
       "</tr>\n",
       "<tr>\n",
       "  <th>Time:</th>                 <td>20:36:02</td>     <th>  Log-Likelihood:    </th> <td>-4.0150e+05</td>\n",
       "</tr>\n",
       "<tr>\n",
       "  <th>No. Observations:</th>      <td> 27728</td>      <th>  AIC:               </th>  <td>8.030e+05</td> \n",
       "</tr>\n",
       "<tr>\n",
       "  <th>Df Residuals:</th>          <td> 27718</td>      <th>  BIC:               </th>  <td>8.031e+05</td> \n",
       "</tr>\n",
       "<tr>\n",
       "  <th>Df Model:</th>              <td>     9</td>      <th>                     </th>      <td> </td>     \n",
       "</tr>\n",
       "<tr>\n",
       "  <th>Covariance Type:</th>      <td>nonrobust</td>    <th>                     </th>      <td> </td>     \n",
       "</tr>\n",
       "</table>\n",
       "<table class=\"simpletable\">\n",
       "<tr>\n",
       "         <td></td>            <th>coef</th>     <th>std err</th>      <th>t</th>      <th>P>|t|</th>  <th>[0.025</th>    <th>0.975]</th>  \n",
       "</tr>\n",
       "<tr>\n",
       "  <th>Intercept</th>       <td> 5.663e+04</td> <td> 6932.048</td> <td>    8.169</td> <td> 0.000</td> <td>  4.3e+04</td> <td> 7.02e+04</td>\n",
       "</tr>\n",
       "<tr>\n",
       "  <th>SqFtTotLiving</th>   <td>  335.1483</td> <td>    2.877</td> <td>  116.486</td> <td> 0.000</td> <td>  329.509</td> <td>  340.788</td>\n",
       "</tr>\n",
       "<tr>\n",
       "  <th>Duwamish</th>        <td>-8642.3020</td> <td> 2.72e+05</td> <td>   -0.032</td> <td> 0.975</td> <td>-5.41e+05</td> <td> 5.24e+05</td>\n",
       "</tr>\n",
       "<tr>\n",
       "  <th>Lake_Sammamish</th>  <td> 1.825e+06</td> <td> 7.36e+04</td> <td>   24.787</td> <td> 0.000</td> <td> 1.68e+06</td> <td> 1.97e+06</td>\n",
       "</tr>\n",
       "<tr>\n",
       "  <th>Lake_Union</th>      <td> 3.669e+05</td> <td>  4.7e+05</td> <td>    0.780</td> <td> 0.435</td> <td>-5.55e+05</td> <td> 1.29e+06</td>\n",
       "</tr>\n",
       "<tr>\n",
       "  <th>Lake_Washington</th> <td> 2.081e+06</td> <td> 4.39e+04</td> <td>   47.360</td> <td> 0.000</td> <td> 1.99e+06</td> <td> 2.17e+06</td>\n",
       "</tr>\n",
       "<tr>\n",
       "  <th>Other_lake</th>      <td> 3.488e+04</td> <td> 4.09e+04</td> <td>    0.853</td> <td> 0.394</td> <td>-4.53e+04</td> <td> 1.15e+05</td>\n",
       "</tr>\n",
       "<tr>\n",
       "  <th>Puget_Sound</th>     <td> 4.174e+05</td> <td> 4.97e+04</td> <td>    8.405</td> <td> 0.000</td> <td>  3.2e+05</td> <td> 5.15e+05</td>\n",
       "</tr>\n",
       "<tr>\n",
       "  <th>River_or_slough</th> <td> 4.614e+04</td> <td> 5.27e+04</td> <td>    0.876</td> <td> 0.381</td> <td>-5.71e+04</td> <td> 1.49e+05</td>\n",
       "</tr>\n",
       "<tr>\n",
       "  <th>Ship_Canal</th>      <td> 8.825e+05</td> <td> 1.78e+05</td> <td>    4.964</td> <td> 0.000</td> <td> 5.34e+05</td> <td> 1.23e+06</td>\n",
       "</tr>\n",
       "</table>\n",
       "<table class=\"simpletable\">\n",
       "<tr>\n",
       "  <th>Omnibus:</th>       <td>26453.788</td> <th>  Durbin-Watson:     </th>  <td>   0.996</td>  \n",
       "</tr>\n",
       "<tr>\n",
       "  <th>Prob(Omnibus):</th>  <td> 0.000</td>   <th>  Jarque-Bera (JB):  </th> <td>3114673.024</td>\n",
       "</tr>\n",
       "<tr>\n",
       "  <th>Skew:</th>           <td> 4.295</td>   <th>  Prob(JB):          </th>  <td>    0.00</td>  \n",
       "</tr>\n",
       "<tr>\n",
       "  <th>Kurtosis:</th>       <td>54.206</td>   <th>  Cond. No.          </th>  <td>4.03e+05</td>  \n",
       "</tr>\n",
       "</table><br/><br/>Warnings:<br/>[1] Standard Errors assume that the covariance matrix of the errors is correctly specified.<br/>[2] The condition number is large, 4.03e+05. This might indicate that there are<br/>strong multicollinearity or other numerical problems."
      ],
      "text/plain": [
       "<class 'statsmodels.iolib.summary.Summary'>\n",
       "\"\"\"\n",
       "                            OLS Regression Results                            \n",
       "==============================================================================\n",
       "Dep. Variable:              SalePrice   R-squared:                       0.394\n",
       "Model:                            OLS   Adj. R-squared:                  0.394\n",
       "Method:                 Least Squares   F-statistic:                     2001.\n",
       "Date:                Tue, 29 Sep 2020   Prob (F-statistic):               0.00\n",
       "Time:                        20:36:02   Log-Likelihood:            -4.0150e+05\n",
       "No. Observations:               27728   AIC:                         8.030e+05\n",
       "Df Residuals:                   27718   BIC:                         8.031e+05\n",
       "Df Model:                           9                                         \n",
       "Covariance Type:            nonrobust                                         \n",
       "===================================================================================\n",
       "                      coef    std err          t      P>|t|      [0.025      0.975]\n",
       "-----------------------------------------------------------------------------------\n",
       "Intercept        5.663e+04   6932.048      8.169      0.000     4.3e+04    7.02e+04\n",
       "SqFtTotLiving     335.1483      2.877    116.486      0.000     329.509     340.788\n",
       "Duwamish        -8642.3020   2.72e+05     -0.032      0.975   -5.41e+05    5.24e+05\n",
       "Lake_Sammamish   1.825e+06   7.36e+04     24.787      0.000    1.68e+06    1.97e+06\n",
       "Lake_Union       3.669e+05    4.7e+05      0.780      0.435   -5.55e+05    1.29e+06\n",
       "Lake_Washington  2.081e+06   4.39e+04     47.360      0.000    1.99e+06    2.17e+06\n",
       "Other_lake       3.488e+04   4.09e+04      0.853      0.394   -4.53e+04    1.15e+05\n",
       "Puget_Sound      4.174e+05   4.97e+04      8.405      0.000     3.2e+05    5.15e+05\n",
       "River_or_slough  4.614e+04   5.27e+04      0.876      0.381   -5.71e+04    1.49e+05\n",
       "Ship_Canal       8.825e+05   1.78e+05      4.964      0.000    5.34e+05    1.23e+06\n",
       "==============================================================================\n",
       "Omnibus:                    26453.788   Durbin-Watson:                   0.996\n",
       "Prob(Omnibus):                  0.000   Jarque-Bera (JB):          3114673.024\n",
       "Skew:                           4.295   Prob(JB):                         0.00\n",
       "Kurtosis:                      54.206   Cond. No.                     4.03e+05\n",
       "==============================================================================\n",
       "\n",
       "Warnings:\n",
       "[1] Standard Errors assume that the covariance matrix of the errors is correctly specified.\n",
       "[2] The condition number is large, 4.03e+05. This might indicate that there are\n",
       "strong multicollinearity or other numerical problems.\n",
       "\"\"\""
      ]
     },
     "execution_count": 327,
     "metadata": {},
     "output_type": "execute_result"
    }
   ],
   "source": [
    "predictors = '+'.join(x_cols)\n",
    "formula = outcome + '~' + predictors\n",
    "ml_model3 = ols(formula=formula, data=comb_df).fit()\n",
    "ml_model3.summary()"
   ]
  },
  {
   "cell_type": "markdown",
   "metadata": {},
   "source": [
    "### ML_Model 4.2- Water and Mountain View"
   ]
  },
  {
   "cell_type": "code",
   "execution_count": 353,
   "metadata": {},
   "outputs": [],
   "source": [
    "outcome = 'SalePrice'\n",
    "x_cols = ['SqFtTotLiving','View_MtRainier', 'View_Olympics','View_Cascades', 'View_PugetSound', 'View_LakeWashington', 'View_LakeSammamish','View_SmallLakeRiverCreek']\n",
    "\n"
   ]
  },
  {
   "cell_type": "code",
   "execution_count": 354,
   "metadata": {},
   "outputs": [
    {
     "data": {
      "text/html": [
       "<table class=\"simpletable\">\n",
       "<caption>OLS Regression Results</caption>\n",
       "<tr>\n",
       "  <th>Dep. Variable:</th>        <td>SalePrice</td>    <th>  R-squared:         </th>  <td>   0.397</td>  \n",
       "</tr>\n",
       "<tr>\n",
       "  <th>Model:</th>                   <td>OLS</td>       <th>  Adj. R-squared:    </th>  <td>   0.397</td>  \n",
       "</tr>\n",
       "<tr>\n",
       "  <th>Method:</th>             <td>Least Squares</td>  <th>  F-statistic:       </th>  <td>   2292.</td>  \n",
       "</tr>\n",
       "<tr>\n",
       "  <th>Date:</th>             <td>Wed, 30 Sep 2020</td> <th>  Prob (F-statistic):</th>   <td>  0.00</td>   \n",
       "</tr>\n",
       "<tr>\n",
       "  <th>Time:</th>                 <td>09:33:20</td>     <th>  Log-Likelihood:    </th> <td>-4.0269e+05</td>\n",
       "</tr>\n",
       "<tr>\n",
       "  <th>No. Observations:</th>      <td> 27814</td>      <th>  AIC:               </th>  <td>8.054e+05</td> \n",
       "</tr>\n",
       "<tr>\n",
       "  <th>Df Residuals:</th>          <td> 27805</td>      <th>  BIC:               </th>  <td>8.055e+05</td> \n",
       "</tr>\n",
       "<tr>\n",
       "  <th>Df Model:</th>              <td>     8</td>      <th>                     </th>      <td> </td>     \n",
       "</tr>\n",
       "<tr>\n",
       "  <th>Covariance Type:</th>      <td>nonrobust</td>    <th>                     </th>      <td> </td>     \n",
       "</tr>\n",
       "</table>\n",
       "<table class=\"simpletable\">\n",
       "<tr>\n",
       "              <td></td>                <th>coef</th>     <th>std err</th>      <th>t</th>      <th>P>|t|</th>  <th>[0.025</th>    <th>0.975]</th>  \n",
       "</tr>\n",
       "<tr>\n",
       "  <th>Intercept</th>                <td> 7.258e+04</td> <td> 6933.643</td> <td>   10.468</td> <td> 0.000</td> <td>  5.9e+04</td> <td> 8.62e+04</td>\n",
       "</tr>\n",
       "<tr>\n",
       "  <th>SqFtTotLiving</th>            <td>  318.5155</td> <td>    2.919</td> <td>  109.103</td> <td> 0.000</td> <td>  312.793</td> <td>  324.238</td>\n",
       "</tr>\n",
       "<tr>\n",
       "  <th>View_MtRainier</th>           <td> 2.373e+04</td> <td> 1.16e+04</td> <td>    2.049</td> <td> 0.040</td> <td> 1032.015</td> <td> 4.64e+04</td>\n",
       "</tr>\n",
       "<tr>\n",
       "  <th>View_Olympics</th>            <td> 5.577e+04</td> <td> 9524.956</td> <td>    5.855</td> <td> 0.000</td> <td> 3.71e+04</td> <td> 7.44e+04</td>\n",
       "</tr>\n",
       "<tr>\n",
       "  <th>View_Cascades</th>            <td>-5.706e+04</td> <td> 7570.536</td> <td>   -7.537</td> <td> 0.000</td> <td>-7.19e+04</td> <td>-4.22e+04</td>\n",
       "</tr>\n",
       "<tr>\n",
       "  <th>View_PugetSound</th>          <td> 7.364e+04</td> <td> 9351.981</td> <td>    7.874</td> <td> 0.000</td> <td> 5.53e+04</td> <td>  9.2e+04</td>\n",
       "</tr>\n",
       "<tr>\n",
       "  <th>View_LakeWashington</th>      <td>  3.69e+05</td> <td> 7669.740</td> <td>   48.116</td> <td> 0.000</td> <td> 3.54e+05</td> <td> 3.84e+05</td>\n",
       "</tr>\n",
       "<tr>\n",
       "  <th>View_LakeSammamish</th>       <td> 3.232e+05</td> <td> 1.39e+04</td> <td>   23.176</td> <td> 0.000</td> <td> 2.96e+05</td> <td> 3.51e+05</td>\n",
       "</tr>\n",
       "<tr>\n",
       "  <th>View_SmallLakeRiverCreek</th> <td> 5.924e+04</td> <td> 1.05e+04</td> <td>    5.624</td> <td> 0.000</td> <td> 3.86e+04</td> <td> 7.99e+04</td>\n",
       "</tr>\n",
       "</table>\n",
       "<table class=\"simpletable\">\n",
       "<tr>\n",
       "  <th>Omnibus:</th>       <td>27329.781</td> <th>  Durbin-Watson:     </th>  <td>   1.033</td>  \n",
       "</tr>\n",
       "<tr>\n",
       "  <th>Prob(Omnibus):</th>  <td> 0.000</td>   <th>  Jarque-Bera (JB):  </th> <td>3312282.035</td>\n",
       "</tr>\n",
       "<tr>\n",
       "  <th>Skew:</th>           <td> 4.515</td>   <th>  Prob(JB):          </th>  <td>    0.00</td>  \n",
       "</tr>\n",
       "<tr>\n",
       "  <th>Kurtosis:</th>       <td>55.693</td>   <th>  Cond. No.          </th>  <td>1.21e+04</td>  \n",
       "</tr>\n",
       "</table><br/><br/>Warnings:<br/>[1] Standard Errors assume that the covariance matrix of the errors is correctly specified.<br/>[2] The condition number is large, 1.21e+04. This might indicate that there are<br/>strong multicollinearity or other numerical problems."
      ],
      "text/plain": [
       "<class 'statsmodels.iolib.summary.Summary'>\n",
       "\"\"\"\n",
       "                            OLS Regression Results                            \n",
       "==============================================================================\n",
       "Dep. Variable:              SalePrice   R-squared:                       0.397\n",
       "Model:                            OLS   Adj. R-squared:                  0.397\n",
       "Method:                 Least Squares   F-statistic:                     2292.\n",
       "Date:                Wed, 30 Sep 2020   Prob (F-statistic):               0.00\n",
       "Time:                        09:33:20   Log-Likelihood:            -4.0269e+05\n",
       "No. Observations:               27814   AIC:                         8.054e+05\n",
       "Df Residuals:                   27805   BIC:                         8.055e+05\n",
       "Df Model:                           8                                         \n",
       "Covariance Type:            nonrobust                                         \n",
       "============================================================================================\n",
       "                               coef    std err          t      P>|t|      [0.025      0.975]\n",
       "--------------------------------------------------------------------------------------------\n",
       "Intercept                 7.258e+04   6933.643     10.468      0.000     5.9e+04    8.62e+04\n",
       "SqFtTotLiving              318.5155      2.919    109.103      0.000     312.793     324.238\n",
       "View_MtRainier            2.373e+04   1.16e+04      2.049      0.040    1032.015    4.64e+04\n",
       "View_Olympics             5.577e+04   9524.956      5.855      0.000    3.71e+04    7.44e+04\n",
       "View_Cascades            -5.706e+04   7570.536     -7.537      0.000   -7.19e+04   -4.22e+04\n",
       "View_PugetSound           7.364e+04   9351.981      7.874      0.000    5.53e+04     9.2e+04\n",
       "View_LakeWashington        3.69e+05   7669.740     48.116      0.000    3.54e+05    3.84e+05\n",
       "View_LakeSammamish        3.232e+05   1.39e+04     23.176      0.000    2.96e+05    3.51e+05\n",
       "View_SmallLakeRiverCreek  5.924e+04   1.05e+04      5.624      0.000    3.86e+04    7.99e+04\n",
       "==============================================================================\n",
       "Omnibus:                    27329.781   Durbin-Watson:                   1.033\n",
       "Prob(Omnibus):                  0.000   Jarque-Bera (JB):          3312282.035\n",
       "Skew:                           4.515   Prob(JB):                         0.00\n",
       "Kurtosis:                      55.693   Cond. No.                     1.21e+04\n",
       "==============================================================================\n",
       "\n",
       "Warnings:\n",
       "[1] Standard Errors assume that the covariance matrix of the errors is correctly specified.\n",
       "[2] The condition number is large, 1.21e+04. This might indicate that there are\n",
       "strong multicollinearity or other numerical problems.\n",
       "\"\"\""
      ]
     },
     "execution_count": 354,
     "metadata": {},
     "output_type": "execute_result"
    }
   ],
   "source": [
    "predictors = '+'.join(x_cols)\n",
    "formula = outcome + '~' + predictors\n",
    "ml_model3 = ols(formula=formula, data=comb_df).fit()\n",
    "ml_model3.summary()"
   ]
  },
  {
   "cell_type": "markdown",
   "metadata": {},
   "source": [
    "## ML_Model4 -- Nuisance"
   ]
  },
  {
   "cell_type": "code",
   "execution_count": 328,
   "metadata": {},
   "outputs": [],
   "source": [
    "outcome = 'SalePrice'\n",
    "x_cols = ['SqFtTotLiving','TrafficNoise', 'PowerLines']\n"
   ]
  },
  {
   "cell_type": "code",
   "execution_count": 329,
   "metadata": {},
   "outputs": [
    {
     "data": {
      "text/html": [
       "<table class=\"simpletable\">\n",
       "<caption>OLS Regression Results</caption>\n",
       "<tr>\n",
       "  <th>Dep. Variable:</th>        <td>SalePrice</td>    <th>  R-squared:         </th>  <td>   0.332</td>  \n",
       "</tr>\n",
       "<tr>\n",
       "  <th>Model:</th>                   <td>OLS</td>       <th>  Adj. R-squared:    </th>  <td>   0.332</td>  \n",
       "</tr>\n",
       "<tr>\n",
       "  <th>Method:</th>             <td>Least Squares</td>  <th>  F-statistic:       </th>  <td>   4591.</td>  \n",
       "</tr>\n",
       "<tr>\n",
       "  <th>Date:</th>             <td>Tue, 29 Sep 2020</td> <th>  Prob (F-statistic):</th>   <td>  0.00</td>   \n",
       "</tr>\n",
       "<tr>\n",
       "  <th>Time:</th>                 <td>20:36:51</td>     <th>  Log-Likelihood:    </th> <td>-4.0285e+05</td>\n",
       "</tr>\n",
       "<tr>\n",
       "  <th>No. Observations:</th>      <td> 27728</td>      <th>  AIC:               </th>  <td>8.057e+05</td> \n",
       "</tr>\n",
       "<tr>\n",
       "  <th>Df Residuals:</th>          <td> 27724</td>      <th>  BIC:               </th>  <td>8.057e+05</td> \n",
       "</tr>\n",
       "<tr>\n",
       "  <th>Df Model:</th>              <td>     3</td>      <th>                     </th>      <td> </td>     \n",
       "</tr>\n",
       "<tr>\n",
       "  <th>Covariance Type:</th>      <td>nonrobust</td>    <th>                     </th>      <td> </td>     \n",
       "</tr>\n",
       "</table>\n",
       "<table class=\"simpletable\">\n",
       "<tr>\n",
       "        <td></td>           <th>coef</th>     <th>std err</th>      <th>t</th>      <th>P>|t|</th>  <th>[0.025</th>    <th>0.975]</th>  \n",
       "</tr>\n",
       "<tr>\n",
       "  <th>Intercept</th>     <td> 2.348e+04</td> <td> 7416.255</td> <td>    3.167</td> <td> 0.002</td> <td> 8948.641</td> <td>  3.8e+04</td>\n",
       "</tr>\n",
       "<tr>\n",
       "  <th>SqFtTotLiving</th> <td>  352.9423</td> <td>    3.008</td> <td>  117.320</td> <td> 0.000</td> <td>  347.046</td> <td>  358.839</td>\n",
       "</tr>\n",
       "<tr>\n",
       "  <th>TrafficNoise</th>  <td> 4.314e+04</td> <td> 5353.512</td> <td>    8.059</td> <td> 0.000</td> <td> 3.27e+04</td> <td> 5.36e+04</td>\n",
       "</tr>\n",
       "<tr>\n",
       "  <th>PowerLines</th>    <td>-1.475e+05</td> <td>  2.9e+04</td> <td>   -5.094</td> <td> 0.000</td> <td>-2.04e+05</td> <td>-9.07e+04</td>\n",
       "</tr>\n",
       "</table>\n",
       "<table class=\"simpletable\">\n",
       "<tr>\n",
       "  <th>Omnibus:</th>       <td>28736.048</td> <th>  Durbin-Watson:     </th>  <td>   1.036</td>  \n",
       "</tr>\n",
       "<tr>\n",
       "  <th>Prob(Omnibus):</th>  <td> 0.000</td>   <th>  Jarque-Bera (JB):  </th> <td>3490612.831</td>\n",
       "</tr>\n",
       "<tr>\n",
       "  <th>Skew:</th>           <td> 4.967</td>   <th>  Prob(JB):          </th>  <td>    0.00</td>  \n",
       "</tr>\n",
       "<tr>\n",
       "  <th>Kurtosis:</th>       <td>57.061</td>   <th>  Cond. No.          </th>  <td>2.36e+04</td>  \n",
       "</tr>\n",
       "</table><br/><br/>Warnings:<br/>[1] Standard Errors assume that the covariance matrix of the errors is correctly specified.<br/>[2] The condition number is large, 2.36e+04. This might indicate that there are<br/>strong multicollinearity or other numerical problems."
      ],
      "text/plain": [
       "<class 'statsmodels.iolib.summary.Summary'>\n",
       "\"\"\"\n",
       "                            OLS Regression Results                            \n",
       "==============================================================================\n",
       "Dep. Variable:              SalePrice   R-squared:                       0.332\n",
       "Model:                            OLS   Adj. R-squared:                  0.332\n",
       "Method:                 Least Squares   F-statistic:                     4591.\n",
       "Date:                Tue, 29 Sep 2020   Prob (F-statistic):               0.00\n",
       "Time:                        20:36:51   Log-Likelihood:            -4.0285e+05\n",
       "No. Observations:               27728   AIC:                         8.057e+05\n",
       "Df Residuals:                   27724   BIC:                         8.057e+05\n",
       "Df Model:                           3                                         \n",
       "Covariance Type:            nonrobust                                         \n",
       "=================================================================================\n",
       "                    coef    std err          t      P>|t|      [0.025      0.975]\n",
       "---------------------------------------------------------------------------------\n",
       "Intercept      2.348e+04   7416.255      3.167      0.002    8948.641     3.8e+04\n",
       "SqFtTotLiving   352.9423      3.008    117.320      0.000     347.046     358.839\n",
       "TrafficNoise   4.314e+04   5353.512      8.059      0.000    3.27e+04    5.36e+04\n",
       "PowerLines    -1.475e+05    2.9e+04     -5.094      0.000   -2.04e+05   -9.07e+04\n",
       "==============================================================================\n",
       "Omnibus:                    28736.048   Durbin-Watson:                   1.036\n",
       "Prob(Omnibus):                  0.000   Jarque-Bera (JB):          3490612.831\n",
       "Skew:                           4.967   Prob(JB):                         0.00\n",
       "Kurtosis:                      57.061   Cond. No.                     2.36e+04\n",
       "==============================================================================\n",
       "\n",
       "Warnings:\n",
       "[1] Standard Errors assume that the covariance matrix of the errors is correctly specified.\n",
       "[2] The condition number is large, 2.36e+04. This might indicate that there are\n",
       "strong multicollinearity or other numerical problems.\n",
       "\"\"\""
      ]
     },
     "execution_count": 329,
     "metadata": {},
     "output_type": "execute_result"
    }
   ],
   "source": [
    "predictors = '+'.join(x_cols)\n",
    "formula = outcome + '~' + predictors\n",
    "ml_model4 = ols(formula=formula, data=comb_df).fit()\n",
    "ml_model4.summary()"
   ]
  },
  {
   "cell_type": "markdown",
   "metadata": {},
   "source": [
    "### ML_Model 5 --Porch "
   ]
  },
  {
   "cell_type": "code",
   "execution_count": 330,
   "metadata": {},
   "outputs": [],
   "source": [
    "outcome = 'SalePrice'\n",
    "x_cols = ['SqFtTotLiving', 'Has_OpenPorch','Has_EnclosedPorch']\n"
   ]
  },
  {
   "cell_type": "code",
   "execution_count": 331,
   "metadata": {},
   "outputs": [
    {
     "data": {
      "text/html": [
       "<table class=\"simpletable\">\n",
       "<caption>OLS Regression Results</caption>\n",
       "<tr>\n",
       "  <th>Dep. Variable:</th>        <td>SalePrice</td>    <th>  R-squared:         </th>  <td>   0.332</td>  \n",
       "</tr>\n",
       "<tr>\n",
       "  <th>Model:</th>                   <td>OLS</td>       <th>  Adj. R-squared:    </th>  <td>   0.332</td>  \n",
       "</tr>\n",
       "<tr>\n",
       "  <th>Method:</th>             <td>Least Squares</td>  <th>  F-statistic:       </th>  <td>   4591.</td>  \n",
       "</tr>\n",
       "<tr>\n",
       "  <th>Date:</th>             <td>Tue, 29 Sep 2020</td> <th>  Prob (F-statistic):</th>   <td>  0.00</td>   \n",
       "</tr>\n",
       "<tr>\n",
       "  <th>Time:</th>                 <td>20:37:05</td>     <th>  Log-Likelihood:    </th> <td>-4.0285e+05</td>\n",
       "</tr>\n",
       "<tr>\n",
       "  <th>No. Observations:</th>      <td> 27728</td>      <th>  AIC:               </th>  <td>8.057e+05</td> \n",
       "</tr>\n",
       "<tr>\n",
       "  <th>Df Residuals:</th>          <td> 27724</td>      <th>  BIC:               </th>  <td>8.057e+05</td> \n",
       "</tr>\n",
       "<tr>\n",
       "  <th>Df Model:</th>              <td>     3</td>      <th>                     </th>      <td> </td>     \n",
       "</tr>\n",
       "<tr>\n",
       "  <th>Covariance Type:</th>      <td>nonrobust</td>    <th>                     </th>      <td> </td>     \n",
       "</tr>\n",
       "</table>\n",
       "<table class=\"simpletable\">\n",
       "<tr>\n",
       "          <td></td>             <th>coef</th>     <th>std err</th>      <th>t</th>      <th>P>|t|</th>  <th>[0.025</th>    <th>0.975]</th>  \n",
       "</tr>\n",
       "<tr>\n",
       "  <th>Intercept</th>         <td> 2.793e+04</td> <td> 7419.216</td> <td>    3.765</td> <td> 0.000</td> <td> 1.34e+04</td> <td> 4.25e+04</td>\n",
       "</tr>\n",
       "<tr>\n",
       "  <th>SqFtTotLiving</th>     <td>  358.2657</td> <td>    3.220</td> <td>  111.246</td> <td> 0.000</td> <td>  351.953</td> <td>  364.578</td>\n",
       "</tr>\n",
       "<tr>\n",
       "  <th>Has_OpenPorch</th>     <td>-2.734e+04</td> <td> 6359.046</td> <td>   -4.300</td> <td> 0.000</td> <td>-3.98e+04</td> <td>-1.49e+04</td>\n",
       "</tr>\n",
       "<tr>\n",
       "  <th>Has_EnclosedPorch</th> <td> 1.192e+05</td> <td> 1.41e+04</td> <td>    8.421</td> <td> 0.000</td> <td> 9.14e+04</td> <td> 1.47e+05</td>\n",
       "</tr>\n",
       "</table>\n",
       "<table class=\"simpletable\">\n",
       "<tr>\n",
       "  <th>Omnibus:</th>       <td>28710.064</td> <th>  Durbin-Watson:     </th>  <td>   1.033</td>  \n",
       "</tr>\n",
       "<tr>\n",
       "  <th>Prob(Omnibus):</th>  <td> 0.000</td>   <th>  Jarque-Bera (JB):  </th> <td>3466978.989</td>\n",
       "</tr>\n",
       "<tr>\n",
       "  <th>Skew:</th>           <td> 4.961</td>   <th>  Prob(JB):          </th>  <td>    0.00</td>  \n",
       "</tr>\n",
       "<tr>\n",
       "  <th>Kurtosis:</th>       <td>56.874</td>   <th>  Cond. No.          </th>  <td>1.16e+04</td>  \n",
       "</tr>\n",
       "</table><br/><br/>Warnings:<br/>[1] Standard Errors assume that the covariance matrix of the errors is correctly specified.<br/>[2] The condition number is large, 1.16e+04. This might indicate that there are<br/>strong multicollinearity or other numerical problems."
      ],
      "text/plain": [
       "<class 'statsmodels.iolib.summary.Summary'>\n",
       "\"\"\"\n",
       "                            OLS Regression Results                            \n",
       "==============================================================================\n",
       "Dep. Variable:              SalePrice   R-squared:                       0.332\n",
       "Model:                            OLS   Adj. R-squared:                  0.332\n",
       "Method:                 Least Squares   F-statistic:                     4591.\n",
       "Date:                Tue, 29 Sep 2020   Prob (F-statistic):               0.00\n",
       "Time:                        20:37:05   Log-Likelihood:            -4.0285e+05\n",
       "No. Observations:               27728   AIC:                         8.057e+05\n",
       "Df Residuals:                   27724   BIC:                         8.057e+05\n",
       "Df Model:                           3                                         \n",
       "Covariance Type:            nonrobust                                         \n",
       "=====================================================================================\n",
       "                        coef    std err          t      P>|t|      [0.025      0.975]\n",
       "-------------------------------------------------------------------------------------\n",
       "Intercept          2.793e+04   7419.216      3.765      0.000    1.34e+04    4.25e+04\n",
       "SqFtTotLiving       358.2657      3.220    111.246      0.000     351.953     364.578\n",
       "Has_OpenPorch     -2.734e+04   6359.046     -4.300      0.000   -3.98e+04   -1.49e+04\n",
       "Has_EnclosedPorch  1.192e+05   1.41e+04      8.421      0.000    9.14e+04    1.47e+05\n",
       "==============================================================================\n",
       "Omnibus:                    28710.064   Durbin-Watson:                   1.033\n",
       "Prob(Omnibus):                  0.000   Jarque-Bera (JB):          3466978.989\n",
       "Skew:                           4.961   Prob(JB):                         0.00\n",
       "Kurtosis:                      56.874   Cond. No.                     1.16e+04\n",
       "==============================================================================\n",
       "\n",
       "Warnings:\n",
       "[1] Standard Errors assume that the covariance matrix of the errors is correctly specified.\n",
       "[2] The condition number is large, 1.16e+04. This might indicate that there are\n",
       "strong multicollinearity or other numerical problems.\n",
       "\"\"\""
      ]
     },
     "execution_count": 331,
     "metadata": {},
     "output_type": "execute_result"
    }
   ],
   "source": [
    "predictors = '+'.join(x_cols)\n",
    "formula = outcome + '~' + predictors\n",
    "ml_model5 = ols(formula=formula, data=comb_df).fit()\n",
    "ml_model5.summary()"
   ]
  },
  {
   "cell_type": "markdown",
   "metadata": {},
   "source": [
    "### ML_Model 6 --Zip Code"
   ]
  },
  {
   "cell_type": "code",
   "execution_count": 405,
   "metadata": {},
   "outputs": [],
   "source": [
    "outcome = 'SalePrice'\n",
    "x_cols = ['SqFtTotLiving','ZipCode']"
   ]
  },
  {
   "cell_type": "code",
   "execution_count": 406,
   "metadata": {},
   "outputs": [
    {
     "data": {
      "text/html": [
       "<table class=\"simpletable\">\n",
       "<caption>OLS Regression Results</caption>\n",
       "<tr>\n",
       "  <th>Dep. Variable:</th>        <td>SalePrice</td>    <th>  R-squared:         </th>  <td>   0.329</td>  \n",
       "</tr>\n",
       "<tr>\n",
       "  <th>Model:</th>                   <td>OLS</td>       <th>  Adj. R-squared:    </th>  <td>   0.329</td>  \n",
       "</tr>\n",
       "<tr>\n",
       "  <th>Method:</th>             <td>Least Squares</td>  <th>  F-statistic:       </th>  <td>   6827.</td>  \n",
       "</tr>\n",
       "<tr>\n",
       "  <th>Date:</th>             <td>Wed, 30 Sep 2020</td> <th>  Prob (F-statistic):</th>   <td>  0.00</td>   \n",
       "</tr>\n",
       "<tr>\n",
       "  <th>Time:</th>                 <td>10:54:32</td>     <th>  Log-Likelihood:    </th> <td>-4.0418e+05</td>\n",
       "</tr>\n",
       "<tr>\n",
       "  <th>No. Observations:</th>      <td> 27814</td>      <th>  AIC:               </th>  <td>8.084e+05</td> \n",
       "</tr>\n",
       "<tr>\n",
       "  <th>Df Residuals:</th>          <td> 27811</td>      <th>  BIC:               </th>  <td>8.084e+05</td> \n",
       "</tr>\n",
       "<tr>\n",
       "  <th>Df Model:</th>              <td>     2</td>      <th>                     </th>      <td> </td>     \n",
       "</tr>\n",
       "<tr>\n",
       "  <th>Covariance Type:</th>      <td>nonrobust</td>    <th>                     </th>      <td> </td>     \n",
       "</tr>\n",
       "</table>\n",
       "<table class=\"simpletable\">\n",
       "<tr>\n",
       "        <td></td>           <th>coef</th>     <th>std err</th>      <th>t</th>      <th>P>|t|</th>  <th>[0.025</th>    <th>0.975]</th>  \n",
       "</tr>\n",
       "<tr>\n",
       "  <th>Intercept</th>     <td>-2.679e+07</td> <td> 2.98e+06</td> <td>   -8.982</td> <td> 0.000</td> <td>-3.26e+07</td> <td>-2.09e+07</td>\n",
       "</tr>\n",
       "<tr>\n",
       "  <th>SqFtTotLiving</th> <td>  353.3749</td> <td>    3.026</td> <td>  116.766</td> <td> 0.000</td> <td>  347.443</td> <td>  359.307</td>\n",
       "</tr>\n",
       "<tr>\n",
       "  <th>ZipCode</th>       <td>  273.3905</td> <td>   30.400</td> <td>    8.993</td> <td> 0.000</td> <td>  213.805</td> <td>  332.976</td>\n",
       "</tr>\n",
       "</table>\n",
       "<table class=\"simpletable\">\n",
       "<tr>\n",
       "  <th>Omnibus:</th>       <td>28683.585</td> <th>  Durbin-Watson:     </th>  <td>   1.039</td>  \n",
       "</tr>\n",
       "<tr>\n",
       "  <th>Prob(Omnibus):</th>  <td> 0.000</td>   <th>  Jarque-Bera (JB):  </th> <td>3418964.673</td>\n",
       "</tr>\n",
       "<tr>\n",
       "  <th>Skew:</th>           <td> 4.931</td>   <th>  Prob(JB):          </th>  <td>    0.00</td>  \n",
       "</tr>\n",
       "<tr>\n",
       "  <th>Kurtosis:</th>       <td>56.412</td>   <th>  Cond. No.          </th>  <td>9.85e+07</td>  \n",
       "</tr>\n",
       "</table><br/><br/>Warnings:<br/>[1] Standard Errors assume that the covariance matrix of the errors is correctly specified.<br/>[2] The condition number is large, 9.85e+07. This might indicate that there are<br/>strong multicollinearity or other numerical problems."
      ],
      "text/plain": [
       "<class 'statsmodels.iolib.summary.Summary'>\n",
       "\"\"\"\n",
       "                            OLS Regression Results                            \n",
       "==============================================================================\n",
       "Dep. Variable:              SalePrice   R-squared:                       0.329\n",
       "Model:                            OLS   Adj. R-squared:                  0.329\n",
       "Method:                 Least Squares   F-statistic:                     6827.\n",
       "Date:                Wed, 30 Sep 2020   Prob (F-statistic):               0.00\n",
       "Time:                        10:54:32   Log-Likelihood:            -4.0418e+05\n",
       "No. Observations:               27814   AIC:                         8.084e+05\n",
       "Df Residuals:                   27811   BIC:                         8.084e+05\n",
       "Df Model:                           2                                         \n",
       "Covariance Type:            nonrobust                                         \n",
       "=================================================================================\n",
       "                    coef    std err          t      P>|t|      [0.025      0.975]\n",
       "---------------------------------------------------------------------------------\n",
       "Intercept     -2.679e+07   2.98e+06     -8.982      0.000   -3.26e+07   -2.09e+07\n",
       "SqFtTotLiving   353.3749      3.026    116.766      0.000     347.443     359.307\n",
       "ZipCode         273.3905     30.400      8.993      0.000     213.805     332.976\n",
       "==============================================================================\n",
       "Omnibus:                    28683.585   Durbin-Watson:                   1.039\n",
       "Prob(Omnibus):                  0.000   Jarque-Bera (JB):          3418964.673\n",
       "Skew:                           4.931   Prob(JB):                         0.00\n",
       "Kurtosis:                      56.412   Cond. No.                     9.85e+07\n",
       "==============================================================================\n",
       "\n",
       "Warnings:\n",
       "[1] Standard Errors assume that the covariance matrix of the errors is correctly specified.\n",
       "[2] The condition number is large, 9.85e+07. This might indicate that there are\n",
       "strong multicollinearity or other numerical problems.\n",
       "\"\"\""
      ]
     },
     "execution_count": 406,
     "metadata": {},
     "output_type": "execute_result"
    }
   ],
   "source": [
    "predictors = '+'.join(x_cols)\n",
    "formula = outcome + '~' + predictors\n",
    "ml_model6 = ols(formula=formula, data=comb_df).fit()\n",
    "ml_model6.summary()"
   ]
  },
  {
   "cell_type": "markdown",
   "metadata": {},
   "source": [
    "### ML_Model 7 --All together"
   ]
  },
  {
   "cell_type": "code",
   "execution_count": 385,
   "metadata": {},
   "outputs": [],
   "source": [
    "outcome = 'SalePrice'\n",
    "x_cols = ['SqFtTotLiving','Duwamish', 'Lake_Sammamish', 'Lake_Union', \n",
    "          'Lake_Washington', 'Other_lake','Puget_Sound', 'River_or_slough', 'Ship_Canal',\n",
    "         'TrafficNoise', 'PowerLines','Has_OpenPorch', 'Has_EnclosedPorch', 'ZipCode', \n",
    "          'View_MtRainier', 'View_Olympics','View_Cascades', 'View_PugetSound', 'View_LakeWashington',\n",
    "          'View_LakeSammamish','View_SmallLakeRiverCreek', 'SqFtLot', 'NbrLivingUnits','BldgGrade']\n",
    "\n"
   ]
  },
  {
   "cell_type": "code",
   "execution_count": 386,
   "metadata": {},
   "outputs": [
    {
     "data": {
      "text/html": [
       "<table class=\"simpletable\">\n",
       "<caption>OLS Regression Results</caption>\n",
       "<tr>\n",
       "  <th>Dep. Variable:</th>        <td>SalePrice</td>    <th>  R-squared:         </th>  <td>   0.461</td>  \n",
       "</tr>\n",
       "<tr>\n",
       "  <th>Model:</th>                   <td>OLS</td>       <th>  Adj. R-squared:    </th>  <td>   0.460</td>  \n",
       "</tr>\n",
       "<tr>\n",
       "  <th>Method:</th>             <td>Least Squares</td>  <th>  F-statistic:       </th>  <td>   990.0</td>  \n",
       "</tr>\n",
       "<tr>\n",
       "  <th>Date:</th>             <td>Wed, 30 Sep 2020</td> <th>  Prob (F-statistic):</th>   <td>  0.00</td>   \n",
       "</tr>\n",
       "<tr>\n",
       "  <th>Time:</th>                 <td>10:49:02</td>     <th>  Log-Likelihood:    </th> <td>-4.0114e+05</td>\n",
       "</tr>\n",
       "<tr>\n",
       "  <th>No. Observations:</th>      <td> 27814</td>      <th>  AIC:               </th>  <td>8.023e+05</td> \n",
       "</tr>\n",
       "<tr>\n",
       "  <th>Df Residuals:</th>          <td> 27789</td>      <th>  BIC:               </th>  <td>8.025e+05</td> \n",
       "</tr>\n",
       "<tr>\n",
       "  <th>Df Model:</th>              <td>    24</td>      <th>                     </th>      <td> </td>     \n",
       "</tr>\n",
       "<tr>\n",
       "  <th>Covariance Type:</th>      <td>nonrobust</td>    <th>                     </th>      <td> </td>     \n",
       "</tr>\n",
       "</table>\n",
       "<table class=\"simpletable\">\n",
       "<tr>\n",
       "              <td></td>                <th>coef</th>     <th>std err</th>      <th>t</th>      <th>P>|t|</th>  <th>[0.025</th>    <th>0.975]</th>  \n",
       "</tr>\n",
       "<tr>\n",
       "  <th>Intercept</th>                <td>-2.044e+07</td> <td>  2.7e+06</td> <td>   -7.574</td> <td> 0.000</td> <td>-2.57e+07</td> <td>-1.52e+07</td>\n",
       "</tr>\n",
       "<tr>\n",
       "  <th>SqFtTotLiving</th>            <td>  187.4640</td> <td>    4.242</td> <td>   44.193</td> <td> 0.000</td> <td>  179.150</td> <td>  195.778</td>\n",
       "</tr>\n",
       "<tr>\n",
       "  <th>Duwamish</th>                 <td>-3.716e+04</td> <td> 2.58e+05</td> <td>   -0.144</td> <td> 0.886</td> <td>-5.44e+05</td> <td> 4.69e+05</td>\n",
       "</tr>\n",
       "<tr>\n",
       "  <th>Lake_Sammamish</th>           <td> 1.478e+06</td> <td> 1.02e+05</td> <td>   14.491</td> <td> 0.000</td> <td> 1.28e+06</td> <td> 1.68e+06</td>\n",
       "</tr>\n",
       "<tr>\n",
       "  <th>Lake_Union</th>               <td> 5.396e+05</td> <td> 4.44e+05</td> <td>    1.215</td> <td> 0.225</td> <td>-3.31e+05</td> <td> 1.41e+06</td>\n",
       "</tr>\n",
       "<tr>\n",
       "  <th>Lake_Washington</th>          <td> 1.227e+06</td> <td> 5.21e+04</td> <td>   23.541</td> <td> 0.000</td> <td> 1.13e+06</td> <td> 1.33e+06</td>\n",
       "</tr>\n",
       "<tr>\n",
       "  <th>Other_lake</th>               <td> -7.35e+04</td> <td> 5.62e+04</td> <td>   -1.307</td> <td> 0.191</td> <td>-1.84e+05</td> <td> 3.67e+04</td>\n",
       "</tr>\n",
       "<tr>\n",
       "  <th>Puget_Sound</th>              <td> 2.102e+05</td> <td> 5.54e+04</td> <td>    3.796</td> <td> 0.000</td> <td> 1.02e+05</td> <td> 3.19e+05</td>\n",
       "</tr>\n",
       "<tr>\n",
       "  <th>River_or_slough</th>          <td> 1.684e+04</td> <td> 5.58e+04</td> <td>    0.302</td> <td> 0.763</td> <td>-9.26e+04</td> <td> 1.26e+05</td>\n",
       "</tr>\n",
       "<tr>\n",
       "  <th>Ship_Canal</th>               <td> 5.691e+05</td> <td> 1.76e+05</td> <td>    3.227</td> <td> 0.001</td> <td> 2.23e+05</td> <td> 9.15e+05</td>\n",
       "</tr>\n",
       "<tr>\n",
       "  <th>TrafficNoise</th>             <td> 1.884e+04</td> <td> 4806.823</td> <td>    3.920</td> <td> 0.000</td> <td> 9418.985</td> <td> 2.83e+04</td>\n",
       "</tr>\n",
       "<tr>\n",
       "  <th>PowerLines</th>               <td>-9.034e+04</td> <td> 2.61e+04</td> <td>   -3.457</td> <td> 0.001</td> <td>-1.42e+05</td> <td>-3.91e+04</td>\n",
       "</tr>\n",
       "<tr>\n",
       "  <th>Has_OpenPorch</th>            <td>-1.539e+04</td> <td> 5731.950</td> <td>   -2.686</td> <td> 0.007</td> <td>-2.66e+04</td> <td>-4159.063</td>\n",
       "</tr>\n",
       "<tr>\n",
       "  <th>Has_EnclosedPorch</th>        <td>  7.58e+04</td> <td> 1.27e+04</td> <td>    5.959</td> <td> 0.000</td> <td> 5.09e+04</td> <td> 1.01e+05</td>\n",
       "</tr>\n",
       "<tr>\n",
       "  <th>ZipCode</th>                  <td>  202.5482</td> <td>   27.515</td> <td>    7.361</td> <td> 0.000</td> <td>  148.618</td> <td>  256.478</td>\n",
       "</tr>\n",
       "<tr>\n",
       "  <th>View_MtRainier</th>           <td>-5588.5681</td> <td> 1.11e+04</td> <td>   -0.504</td> <td> 0.615</td> <td>-2.73e+04</td> <td> 1.62e+04</td>\n",
       "</tr>\n",
       "<tr>\n",
       "  <th>View_Olympics</th>            <td> 7.754e+04</td> <td> 9222.933</td> <td>    8.407</td> <td> 0.000</td> <td> 5.95e+04</td> <td> 9.56e+04</td>\n",
       "</tr>\n",
       "<tr>\n",
       "  <th>View_Cascades</th>            <td>-8566.2583</td> <td> 7425.673</td> <td>   -1.154</td> <td> 0.249</td> <td>-2.31e+04</td> <td> 5988.427</td>\n",
       "</tr>\n",
       "<tr>\n",
       "  <th>View_PugetSound</th>          <td> 2.637e+04</td> <td> 1.02e+04</td> <td>    2.576</td> <td> 0.010</td> <td> 6307.780</td> <td> 4.64e+04</td>\n",
       "</tr>\n",
       "<tr>\n",
       "  <th>View_LakeWashington</th>      <td> 2.087e+05</td> <td> 9107.383</td> <td>   22.918</td> <td> 0.000</td> <td> 1.91e+05</td> <td> 2.27e+05</td>\n",
       "</tr>\n",
       "<tr>\n",
       "  <th>View_LakeSammamish</th>       <td> 7.215e+04</td> <td> 1.94e+04</td> <td>    3.721</td> <td> 0.000</td> <td> 3.41e+04</td> <td>  1.1e+05</td>\n",
       "</tr>\n",
       "<tr>\n",
       "  <th>View_SmallLakeRiverCreek</th> <td> 6.956e+04</td> <td> 1.57e+04</td> <td>    4.422</td> <td> 0.000</td> <td> 3.87e+04</td> <td>    1e+05</td>\n",
       "</tr>\n",
       "<tr>\n",
       "  <th>SqFtLot</th>                  <td>   -0.2900</td> <td>    0.071</td> <td>   -4.059</td> <td> 0.000</td> <td>   -0.430</td> <td>   -0.150</td>\n",
       "</tr>\n",
       "<tr>\n",
       "  <th>NbrLivingUnits</th>           <td> 5.464e+04</td> <td> 1.61e+04</td> <td>    3.403</td> <td> 0.001</td> <td> 2.32e+04</td> <td> 8.61e+04</td>\n",
       "</tr>\n",
       "<tr>\n",
       "  <th>BldgGrade</th>                <td> 1.547e+05</td> <td> 3260.182</td> <td>   47.463</td> <td> 0.000</td> <td> 1.48e+05</td> <td> 1.61e+05</td>\n",
       "</tr>\n",
       "</table>\n",
       "<table class=\"simpletable\">\n",
       "<tr>\n",
       "  <th>Omnibus:</th>       <td>28379.889</td> <th>  Durbin-Watson:     </th>  <td>   1.051</td>  \n",
       "</tr>\n",
       "<tr>\n",
       "  <th>Prob(Omnibus):</th>  <td> 0.000</td>   <th>  Jarque-Bera (JB):  </th> <td>4424089.013</td>\n",
       "</tr>\n",
       "<tr>\n",
       "  <th>Skew:</th>           <td> 4.729</td>   <th>  Prob(JB):          </th>  <td>    0.00</td>  \n",
       "</tr>\n",
       "<tr>\n",
       "  <th>Kurtosis:</th>       <td>64.057</td>   <th>  Cond. No.          </th>  <td>1.01e+08</td>  \n",
       "</tr>\n",
       "</table><br/><br/>Warnings:<br/>[1] Standard Errors assume that the covariance matrix of the errors is correctly specified.<br/>[2] The condition number is large, 1.01e+08. This might indicate that there are<br/>strong multicollinearity or other numerical problems."
      ],
      "text/plain": [
       "<class 'statsmodels.iolib.summary.Summary'>\n",
       "\"\"\"\n",
       "                            OLS Regression Results                            \n",
       "==============================================================================\n",
       "Dep. Variable:              SalePrice   R-squared:                       0.461\n",
       "Model:                            OLS   Adj. R-squared:                  0.460\n",
       "Method:                 Least Squares   F-statistic:                     990.0\n",
       "Date:                Wed, 30 Sep 2020   Prob (F-statistic):               0.00\n",
       "Time:                        10:49:02   Log-Likelihood:            -4.0114e+05\n",
       "No. Observations:               27814   AIC:                         8.023e+05\n",
       "Df Residuals:                   27789   BIC:                         8.025e+05\n",
       "Df Model:                          24                                         \n",
       "Covariance Type:            nonrobust                                         \n",
       "============================================================================================\n",
       "                               coef    std err          t      P>|t|      [0.025      0.975]\n",
       "--------------------------------------------------------------------------------------------\n",
       "Intercept                -2.044e+07    2.7e+06     -7.574      0.000   -2.57e+07   -1.52e+07\n",
       "SqFtTotLiving              187.4640      4.242     44.193      0.000     179.150     195.778\n",
       "Duwamish                 -3.716e+04   2.58e+05     -0.144      0.886   -5.44e+05    4.69e+05\n",
       "Lake_Sammamish            1.478e+06   1.02e+05     14.491      0.000    1.28e+06    1.68e+06\n",
       "Lake_Union                5.396e+05   4.44e+05      1.215      0.225   -3.31e+05    1.41e+06\n",
       "Lake_Washington           1.227e+06   5.21e+04     23.541      0.000    1.13e+06    1.33e+06\n",
       "Other_lake                -7.35e+04   5.62e+04     -1.307      0.191   -1.84e+05    3.67e+04\n",
       "Puget_Sound               2.102e+05   5.54e+04      3.796      0.000    1.02e+05    3.19e+05\n",
       "River_or_slough           1.684e+04   5.58e+04      0.302      0.763   -9.26e+04    1.26e+05\n",
       "Ship_Canal                5.691e+05   1.76e+05      3.227      0.001    2.23e+05    9.15e+05\n",
       "TrafficNoise              1.884e+04   4806.823      3.920      0.000    9418.985    2.83e+04\n",
       "PowerLines               -9.034e+04   2.61e+04     -3.457      0.001   -1.42e+05   -3.91e+04\n",
       "Has_OpenPorch            -1.539e+04   5731.950     -2.686      0.007   -2.66e+04   -4159.063\n",
       "Has_EnclosedPorch          7.58e+04   1.27e+04      5.959      0.000    5.09e+04    1.01e+05\n",
       "ZipCode                    202.5482     27.515      7.361      0.000     148.618     256.478\n",
       "View_MtRainier           -5588.5681   1.11e+04     -0.504      0.615   -2.73e+04    1.62e+04\n",
       "View_Olympics             7.754e+04   9222.933      8.407      0.000    5.95e+04    9.56e+04\n",
       "View_Cascades            -8566.2583   7425.673     -1.154      0.249   -2.31e+04    5988.427\n",
       "View_PugetSound           2.637e+04   1.02e+04      2.576      0.010    6307.780    4.64e+04\n",
       "View_LakeWashington       2.087e+05   9107.383     22.918      0.000    1.91e+05    2.27e+05\n",
       "View_LakeSammamish        7.215e+04   1.94e+04      3.721      0.000    3.41e+04     1.1e+05\n",
       "View_SmallLakeRiverCreek  6.956e+04   1.57e+04      4.422      0.000    3.87e+04       1e+05\n",
       "SqFtLot                     -0.2900      0.071     -4.059      0.000      -0.430      -0.150\n",
       "NbrLivingUnits            5.464e+04   1.61e+04      3.403      0.001    2.32e+04    8.61e+04\n",
       "BldgGrade                 1.547e+05   3260.182     47.463      0.000    1.48e+05    1.61e+05\n",
       "==============================================================================\n",
       "Omnibus:                    28379.889   Durbin-Watson:                   1.051\n",
       "Prob(Omnibus):                  0.000   Jarque-Bera (JB):          4424089.013\n",
       "Skew:                           4.729   Prob(JB):                         0.00\n",
       "Kurtosis:                      64.057   Cond. No.                     1.01e+08\n",
       "==============================================================================\n",
       "\n",
       "Warnings:\n",
       "[1] Standard Errors assume that the covariance matrix of the errors is correctly specified.\n",
       "[2] The condition number is large, 1.01e+08. This might indicate that there are\n",
       "strong multicollinearity or other numerical problems.\n",
       "\"\"\""
      ]
     },
     "execution_count": 386,
     "metadata": {},
     "output_type": "execute_result"
    }
   ],
   "source": [
    "predictors = '+'.join(x_cols)\n",
    "formula = outcome + '~' + predictors\n",
    "ml_model7 = ols(formula=formula, data=comb_df).fit()\n",
    "ml_model7.summary()"
   ]
  },
  {
   "cell_type": "markdown",
   "metadata": {},
   "source": [
    "# Multicollinearity check"
   ]
  },
  {
   "cell_type": "code",
   "execution_count": null,
   "metadata": {},
   "outputs": [],
   "source": []
  },
  {
   "cell_type": "code",
   "execution_count": 293,
   "metadata": {},
   "outputs": [],
   "source": [
    "from statsmodels.stats.outliers_influence import variance_inflation_factor"
   ]
  },
  {
   "cell_type": "code",
   "execution_count": 387,
   "metadata": {},
   "outputs": [
    {
     "data": {
      "text/plain": [
       "[('SqFtTotLiving', 14.777870068734918),\n",
       " ('Duwamish', 1.015371566446294),\n",
       " ('Lake_Sammamish', 2.161897108029167),\n",
       " ('Lake_Union', 1.0005398710737934),\n",
       " ('Lake_Washington', 1.598607214150754),\n",
       " ('Other_lake', 2.1323304367765448),\n",
       " ('Puget_Sound', 1.3986719335070623),\n",
       " ('River_or_slough', 1.280700420138891),\n",
       " ('Ship_Canal', 1.1038326949830577),\n",
       " ('TrafficNoise', 1.1508731842087097),\n",
       " ('PowerLines', 1.0211433903375693),\n",
       " ('Has_OpenPorch', 2.462701921844035),\n",
       " ('Has_EnclosedPorch', 1.0636509936163967),\n",
       " ('ZipCode', 69.94361777641258),\n",
       " ('View_MtRainier', 1.112125786309995),\n",
       " ('View_Olympics', 1.8848728445230813),\n",
       " ('View_Cascades', 1.3025767503961658),\n",
       " ('View_PugetSound', 2.3823202747197882),\n",
       " ('View_LakeWashington', 1.8576709537710978),\n",
       " ('View_LakeSammamish', 2.2331916681432338),\n",
       " ('View_SmallLakeRiverCreek', 2.5193616924224886),\n",
       " ('SqFtLot', 1.256863240836555),\n",
       " ('NbrLivingUnits', 38.60769235462625),\n",
       " ('BldgGrade', 52.183878469833)]"
      ]
     },
     "execution_count": 387,
     "metadata": {},
     "output_type": "execute_result"
    }
   ],
   "source": [
    "X = comb_df[x_cols]\n",
    "vif = [variance_inflation_factor(X.values, i) for i in range(X.shape[1])]\n",
    "list(zip(x_cols, vif))\n"
   ]
  },
  {
   "cell_type": "code",
   "execution_count": 296,
   "metadata": {},
   "outputs": [],
   "source": [
    "#looking for under 5 vif?"
   ]
  },
  {
   "cell_type": "code",
   "execution_count": 388,
   "metadata": {},
   "outputs": [
    {
     "name": "stdout",
     "output_type": "stream",
     "text": [
      "Rainbow statistic: 1.0268614674390448\n",
      "Rainbow p-value: 0.05911773357546547\n"
     ]
    }
   ],
   "source": [
    "#testing with Rainbow test\n",
    "\n",
    "rainbow_statistic, rainbow_p_value = linear_rainbow(ml_model7)\n",
    "print(\"Rainbow statistic:\", rainbow_statistic)\n",
    "print(\"Rainbow p-value:\", rainbow_p_value)"
   ]
  },
  {
   "cell_type": "markdown",
   "metadata": {},
   "source": [
    "# Normality Check/Q-Q plot\n"
   ]
  },
  {
   "cell_type": "code",
   "execution_count": 361,
   "metadata": {},
   "outputs": [],
   "source": [
    "import statsmodels.api as sm\n",
    "import scipy.stats as stats\n",
    "\n",
    "dist=stats.norm\n",
    "fit=True"
   ]
  },
  {
   "cell_type": "code",
   "execution_count": 389,
   "metadata": {},
   "outputs": [
    {
     "data": {
      "image/png": "[encoded data removed]",
      "text/plain": [
       "<Figure size 432x288 with 1 Axes>"
      ]
     },
     "metadata": {
      "needs_background": "light"
     },
     "output_type": "display_data"
    }
   ],
   "source": [
    "fig = sm.graphics.qqplot(ml_model7.resid, line='s',dist=stats.norm, fit=True)\n"
   ]
  },
  {
   "cell_type": "code",
   "execution_count": null,
   "metadata": {},
   "outputs": [],
   "source": []
  },
  {
   "cell_type": "markdown",
   "metadata": {},
   "source": [
    "# Homoscedasticity Check"
   ]
  },
  {
   "cell_type": "code",
   "execution_count": 318,
   "metadata": {},
   "outputs": [
    {
     "data": {
      "image/png": "[encoded data removed]",
      "text/plain": [
       "<Figure size 432x288 with 1 Axes>"
      ]
     },
     "metadata": {
      "needs_background": "light"
     },
     "output_type": "display_data"
    }
   ],
   "source": [
    "plt.scatter(ml_model7.predict(comb_df[x_cols]), ml_model7.resid)\n",
    "plt.plot(ml_model7.predict(comb_df[x_cols]), [0 for i in range(len(comb_df))]);"
   ]
  },
  {
   "cell_type": "code",
   "execution_count": 390,
   "metadata": {},
   "outputs": [
    {
     "data": {
      "image/png": "[encoded data removed]",
      "text/plain": [
       "<Figure size 432x288 with 1 Axes>"
      ]
     },
     "metadata": {
      "needs_background": "light"
     },
     "output_type": "display_data"
    }
   ],
   "source": [
    "plt.scatter(ml_model7.predict(comb_df[x_cols]), ml_model7.resid)\n",
    "plt.plot(ml_model7.predict(comb_df[x_cols]), [0 for i in range(len(comb_df))]);\n"
   ]
  },
  {
   "cell_type": "markdown",
   "metadata": {},
   "source": [
    "# Model Improvements"
   ]
  },
  {
   "cell_type": "markdown",
   "metadata": {},
   "source": [
    "### MI_Model1"
   ]
  },
  {
   "cell_type": "code",
   "execution_count": 392,
   "metadata": {},
   "outputs": [
    {
     "data": {
      "text/html": [
       "<table class=\"simpletable\">\n",
       "<caption>OLS Regression Results</caption>\n",
       "<tr>\n",
       "  <th>Dep. Variable:</th>        <td>SalePrice</td>    <th>  R-squared:         </th>  <td>   0.460</td>  \n",
       "</tr>\n",
       "<tr>\n",
       "  <th>Model:</th>                   <td>OLS</td>       <th>  Adj. R-squared:    </th>  <td>   0.460</td>  \n",
       "</tr>\n",
       "<tr>\n",
       "  <th>Method:</th>             <td>Least Squares</td>  <th>  F-statistic:       </th>  <td>   1483.</td>  \n",
       "</tr>\n",
       "<tr>\n",
       "  <th>Date:</th>             <td>Wed, 30 Sep 2020</td> <th>  Prob (F-statistic):</th>   <td>  0.00</td>   \n",
       "</tr>\n",
       "<tr>\n",
       "  <th>Time:</th>                 <td>10:51:37</td>     <th>  Log-Likelihood:    </th> <td>-4.0116e+05</td>\n",
       "</tr>\n",
       "<tr>\n",
       "  <th>No. Observations:</th>      <td> 27814</td>      <th>  AIC:               </th>  <td>8.023e+05</td> \n",
       "</tr>\n",
       "<tr>\n",
       "  <th>Df Residuals:</th>          <td> 27797</td>      <th>  BIC:               </th>  <td>8.025e+05</td> \n",
       "</tr>\n",
       "<tr>\n",
       "  <th>Df Model:</th>              <td>    16</td>      <th>                     </th>      <td> </td>     \n",
       "</tr>\n",
       "<tr>\n",
       "  <th>Covariance Type:</th>      <td>nonrobust</td>    <th>                     </th>      <td> </td>     \n",
       "</tr>\n",
       "</table>\n",
       "<table class=\"simpletable\">\n",
       "<tr>\n",
       "              <td></td>                <th>coef</th>     <th>std err</th>      <th>t</th>      <th>P>|t|</th>  <th>[0.025</th>    <th>0.975]</th>  \n",
       "</tr>\n",
       "<tr>\n",
       "  <th>Intercept</th>                <td>-2.078e+07</td> <td>  2.7e+06</td> <td>   -7.710</td> <td> 0.000</td> <td>-2.61e+07</td> <td>-1.55e+07</td>\n",
       "</tr>\n",
       "<tr>\n",
       "  <th>SqFtTotLiving</th>            <td>  186.1396</td> <td>    4.102</td> <td>   45.377</td> <td> 0.000</td> <td>  178.099</td> <td>  194.180</td>\n",
       "</tr>\n",
       "<tr>\n",
       "  <th>Lake_Sammamish</th>           <td> 1.497e+06</td> <td> 1.01e+05</td> <td>   14.843</td> <td> 0.000</td> <td>  1.3e+06</td> <td> 1.69e+06</td>\n",
       "</tr>\n",
       "<tr>\n",
       "  <th>Lake_Washington</th>          <td> 1.237e+06</td> <td> 5.11e+04</td> <td>   24.210</td> <td> 0.000</td> <td> 1.14e+06</td> <td> 1.34e+06</td>\n",
       "</tr>\n",
       "<tr>\n",
       "  <th>Puget_Sound</th>              <td> 2.088e+05</td> <td> 5.54e+04</td> <td>    3.770</td> <td> 0.000</td> <td>    1e+05</td> <td> 3.17e+05</td>\n",
       "</tr>\n",
       "<tr>\n",
       "  <th>Ship_Canal</th>               <td> 6.121e+05</td> <td> 1.72e+05</td> <td>    3.568</td> <td> 0.000</td> <td> 2.76e+05</td> <td> 9.48e+05</td>\n",
       "</tr>\n",
       "<tr>\n",
       "  <th>TrafficNoise</th>             <td> 1.999e+04</td> <td> 4801.882</td> <td>    4.162</td> <td> 0.000</td> <td> 1.06e+04</td> <td> 2.94e+04</td>\n",
       "</tr>\n",
       "<tr>\n",
       "  <th>PowerLines</th>               <td>-9.016e+04</td> <td> 2.61e+04</td> <td>   -3.450</td> <td> 0.001</td> <td>-1.41e+05</td> <td>-3.89e+04</td>\n",
       "</tr>\n",
       "<tr>\n",
       "  <th>Has_EnclosedPorch</th>        <td> 7.659e+04</td> <td> 1.27e+04</td> <td>    6.022</td> <td> 0.000</td> <td> 5.17e+04</td> <td> 1.02e+05</td>\n",
       "</tr>\n",
       "<tr>\n",
       "  <th>ZipCode</th>                  <td>  206.6323</td> <td>   27.481</td> <td>    7.519</td> <td> 0.000</td> <td>  152.769</td> <td>  260.496</td>\n",
       "</tr>\n",
       "<tr>\n",
       "  <th>View_Olympics</th>            <td> 8.025e+04</td> <td> 9110.219</td> <td>    8.809</td> <td> 0.000</td> <td> 6.24e+04</td> <td> 9.81e+04</td>\n",
       "</tr>\n",
       "<tr>\n",
       "  <th>View_PugetSound</th>          <td>  2.52e+04</td> <td> 1.01e+04</td> <td>    2.494</td> <td> 0.013</td> <td> 5394.536</td> <td>  4.5e+04</td>\n",
       "</tr>\n",
       "<tr>\n",
       "  <th>View_LakeWashington</th>      <td> 2.053e+05</td> <td> 8513.279</td> <td>   24.117</td> <td> 0.000</td> <td> 1.89e+05</td> <td> 2.22e+05</td>\n",
       "</tr>\n",
       "<tr>\n",
       "  <th>View_LakeSammamish</th>       <td> 6.796e+04</td> <td>  1.9e+04</td> <td>    3.581</td> <td> 0.000</td> <td> 3.08e+04</td> <td> 1.05e+05</td>\n",
       "</tr>\n",
       "<tr>\n",
       "  <th>View_SmallLakeRiverCreek</th> <td> 5.685e+04</td> <td> 1.02e+04</td> <td>    5.587</td> <td> 0.000</td> <td> 3.69e+04</td> <td> 7.68e+04</td>\n",
       "</tr>\n",
       "<tr>\n",
       "  <th>SqFtLot</th>                  <td>   -0.3057</td> <td>    0.070</td> <td>   -4.371</td> <td> 0.000</td> <td>   -0.443</td> <td>   -0.169</td>\n",
       "</tr>\n",
       "<tr>\n",
       "  <th>BldgGrade</th>                <td> 1.533e+05</td> <td> 3238.736</td> <td>   47.321</td> <td> 0.000</td> <td> 1.47e+05</td> <td>  1.6e+05</td>\n",
       "</tr>\n",
       "</table>\n",
       "<table class=\"simpletable\">\n",
       "<tr>\n",
       "  <th>Omnibus:</th>       <td>28386.611</td> <th>  Durbin-Watson:     </th>  <td>   1.047</td>  \n",
       "</tr>\n",
       "<tr>\n",
       "  <th>Prob(Omnibus):</th>  <td> 0.000</td>   <th>  Jarque-Bera (JB):  </th> <td>4422342.231</td>\n",
       "</tr>\n",
       "<tr>\n",
       "  <th>Skew:</th>           <td> 4.731</td>   <th>  Prob(JB):          </th>  <td>    0.00</td>  \n",
       "</tr>\n",
       "<tr>\n",
       "  <th>Kurtosis:</th>       <td>64.044</td>   <th>  Cond. No.          </th>  <td>1.01e+08</td>  \n",
       "</tr>\n",
       "</table><br/><br/>Warnings:<br/>[1] Standard Errors assume that the covariance matrix of the errors is correctly specified.<br/>[2] The condition number is large, 1.01e+08. This might indicate that there are<br/>strong multicollinearity or other numerical problems."
      ],
      "text/plain": [
       "<class 'statsmodels.iolib.summary.Summary'>\n",
       "\"\"\"\n",
       "                            OLS Regression Results                            \n",
       "==============================================================================\n",
       "Dep. Variable:              SalePrice   R-squared:                       0.460\n",
       "Model:                            OLS   Adj. R-squared:                  0.460\n",
       "Method:                 Least Squares   F-statistic:                     1483.\n",
       "Date:                Wed, 30 Sep 2020   Prob (F-statistic):               0.00\n",
       "Time:                        10:51:37   Log-Likelihood:            -4.0116e+05\n",
       "No. Observations:               27814   AIC:                         8.023e+05\n",
       "Df Residuals:                   27797   BIC:                         8.025e+05\n",
       "Df Model:                          16                                         \n",
       "Covariance Type:            nonrobust                                         \n",
       "============================================================================================\n",
       "                               coef    std err          t      P>|t|      [0.025      0.975]\n",
       "--------------------------------------------------------------------------------------------\n",
       "Intercept                -2.078e+07    2.7e+06     -7.710      0.000   -2.61e+07   -1.55e+07\n",
       "SqFtTotLiving              186.1396      4.102     45.377      0.000     178.099     194.180\n",
       "Lake_Sammamish            1.497e+06   1.01e+05     14.843      0.000     1.3e+06    1.69e+06\n",
       "Lake_Washington           1.237e+06   5.11e+04     24.210      0.000    1.14e+06    1.34e+06\n",
       "Puget_Sound               2.088e+05   5.54e+04      3.770      0.000       1e+05    3.17e+05\n",
       "Ship_Canal                6.121e+05   1.72e+05      3.568      0.000    2.76e+05    9.48e+05\n",
       "TrafficNoise              1.999e+04   4801.882      4.162      0.000    1.06e+04    2.94e+04\n",
       "PowerLines               -9.016e+04   2.61e+04     -3.450      0.001   -1.41e+05   -3.89e+04\n",
       "Has_EnclosedPorch         7.659e+04   1.27e+04      6.022      0.000    5.17e+04    1.02e+05\n",
       "ZipCode                    206.6323     27.481      7.519      0.000     152.769     260.496\n",
       "View_Olympics             8.025e+04   9110.219      8.809      0.000    6.24e+04    9.81e+04\n",
       "View_PugetSound            2.52e+04   1.01e+04      2.494      0.013    5394.536     4.5e+04\n",
       "View_LakeWashington       2.053e+05   8513.279     24.117      0.000    1.89e+05    2.22e+05\n",
       "View_LakeSammamish        6.796e+04    1.9e+04      3.581      0.000    3.08e+04    1.05e+05\n",
       "View_SmallLakeRiverCreek  5.685e+04   1.02e+04      5.587      0.000    3.69e+04    7.68e+04\n",
       "SqFtLot                     -0.3057      0.070     -4.371      0.000      -0.443      -0.169\n",
       "BldgGrade                 1.533e+05   3238.736     47.321      0.000    1.47e+05     1.6e+05\n",
       "==============================================================================\n",
       "Omnibus:                    28386.611   Durbin-Watson:                   1.047\n",
       "Prob(Omnibus):                  0.000   Jarque-Bera (JB):          4422342.231\n",
       "Skew:                           4.731   Prob(JB):                         0.00\n",
       "Kurtosis:                      64.044   Cond. No.                     1.01e+08\n",
       "==============================================================================\n",
       "\n",
       "Warnings:\n",
       "[1] Standard Errors assume that the covariance matrix of the errors is correctly specified.\n",
       "[2] The condition number is large, 1.01e+08. This might indicate that there are\n",
       "strong multicollinearity or other numerical problems.\n",
       "\"\"\""
      ]
     },
     "execution_count": 392,
     "metadata": {},
     "output_type": "execute_result"
    }
   ],
   "source": [
    "#MI_Model1: remove not statistically significant inputs based on P-value> .05\n",
    "#Removing: 'Duwamish', 'Lake_Union', 'River_or_slough', 'Has_OpenPorch', 'View_MtRainier', 'View_Cascades', 'NbrLivingUnits', 'Other_lake'\n",
    "outcome = 'SalePrice'\n",
    "x_cols = ['SqFtTotLiving', 'Lake_Sammamish', \n",
    "          'Lake_Washington','Puget_Sound', 'Ship_Canal',\n",
    "         'TrafficNoise', 'PowerLines', 'Has_EnclosedPorch', 'ZipCode', 'View_Olympics', \n",
    "          'View_PugetSound', 'View_LakeWashington',\n",
    "          'View_LakeSammamish','View_SmallLakeRiverCreek', 'SqFtLot', 'BldgGrade']\n",
    "\n",
    "\n",
    "predictors = '+'.join(x_cols)\n",
    "formula = outcome + '~' + predictors\n",
    "mi_model1 = ols(formula=formula, data=comb_df).fit()\n",
    "mi_model1.summary()"
   ]
  },
  {
   "cell_type": "code",
   "execution_count": 393,
   "metadata": {},
   "outputs": [
    {
     "data": {
      "image/png": "[encoded data removed]",
      "text/plain": [
       "<Figure size 432x288 with 1 Axes>"
      ]
     },
     "metadata": {
      "needs_background": "light"
     },
     "output_type": "display_data"
    }
   ],
   "source": [
    "#QQ Plot\n",
    "fig = sm.graphics.qqplot(mi_model1.resid, line='s',dist=stats.norm, fit=True)\n"
   ]
  },
  {
   "cell_type": "code",
   "execution_count": 394,
   "metadata": {},
   "outputs": [
    {
     "data": {
      "image/png": "[encoded data removed]",
      "text/plain": [
       "<Figure size 432x288 with 1 Axes>"
      ]
     },
     "metadata": {
      "needs_background": "light"
     },
     "output_type": "display_data"
    }
   ],
   "source": [
    "# Homoscedasticity Check\n",
    "plt.scatter(mi_model1.predict(comb_df[x_cols]), mi_model1.resid)\n",
    "plt.plot(mi_model1.predict(comb_df[x_cols]), [0 for i in range(len(comb_df))]);"
   ]
  },
  {
   "cell_type": "code",
   "execution_count": 395,
   "metadata": {},
   "outputs": [
    {
     "data": {
      "text/plain": [
       "[('SqFtTotLiving', 13.795423845950202),\n",
       " ('Lake_Sammamish', 2.112658937147369),\n",
       " ('Lake_Washington', 1.5342113253108702),\n",
       " ('Puget_Sound', 1.3974218100240465),\n",
       " ('Ship_Canal', 1.043757394137219),\n",
       " ('TrafficNoise', 1.1477121585544507),\n",
       " ('PowerLines', 1.0207064978432971),\n",
       " ('Has_EnclosedPorch', 1.0626670077235234),\n",
       " ('ZipCode', 27.25113423888123),\n",
       " ('View_Olympics', 1.838004880803848),\n",
       " ('View_PugetSound', 2.3200564066700573),\n",
       " ('View_LakeWashington', 1.6212189497003393),\n",
       " ('View_LakeSammamish', 2.1380848684420783),\n",
       " ('View_SmallLakeRiverCreek', 1.0539680152705615),\n",
       " ('SqFtLot', 1.2041210707203522),\n",
       " ('BldgGrade', 51.46721806116019)]"
      ]
     },
     "execution_count": 395,
     "metadata": {},
     "output_type": "execute_result"
    }
   ],
   "source": [
    "# Multicolinearity Check\n",
    "X = comb_df[x_cols]\n",
    "vif = [variance_inflation_factor(X.values, i) for i in range(X.shape[1])]\n",
    "list(zip(x_cols, vif))\n"
   ]
  },
  {
   "cell_type": "code",
   "execution_count": 396,
   "metadata": {},
   "outputs": [
    {
     "name": "stdout",
     "output_type": "stream",
     "text": [
      "Rainbow statistic: 1.020369336976724\n",
      "Rainbow p-value: 0.1172967762995222\n"
     ]
    }
   ],
   "source": [
    "#Rainbw VIF test\n",
    "rainbow_statistic, rainbow_p_value = linear_rainbow(mi_model1)\n",
    "print(\"Rainbow statistic:\", rainbow_statistic)\n",
    "print(\"Rainbow p-value:\", rainbow_p_value)"
   ]
  },
  {
   "cell_type": "code",
   "execution_count": null,
   "metadata": {},
   "outputs": [],
   "source": []
  },
  {
   "cell_type": "code",
   "execution_count": null,
   "metadata": {},
   "outputs": [],
   "source": [
    "### MI_Model2"
   ]
  },
  {
   "cell_type": "code",
   "execution_count": 420,
   "metadata": {},
   "outputs": [
    {
     "data": {
      "text/html": [
       "<table class=\"simpletable\">\n",
       "<caption>OLS Regression Results</caption>\n",
       "<tr>\n",
       "  <th>Dep. Variable:</th>        <td>SalePrice</td>    <th>  R-squared:         </th>  <td>   0.459</td>  \n",
       "</tr>\n",
       "<tr>\n",
       "  <th>Model:</th>                   <td>OLS</td>       <th>  Adj. R-squared:    </th>  <td>   0.459</td>  \n",
       "</tr>\n",
       "<tr>\n",
       "  <th>Method:</th>             <td>Least Squares</td>  <th>  F-statistic:       </th>  <td>   1574.</td>  \n",
       "</tr>\n",
       "<tr>\n",
       "  <th>Date:</th>             <td>Wed, 30 Sep 2020</td> <th>  Prob (F-statistic):</th>   <td>  0.00</td>   \n",
       "</tr>\n",
       "<tr>\n",
       "  <th>Time:</th>                 <td>11:02:21</td>     <th>  Log-Likelihood:    </th> <td>-4.0118e+05</td>\n",
       "</tr>\n",
       "<tr>\n",
       "  <th>No. Observations:</th>      <td> 27814</td>      <th>  AIC:               </th>  <td>8.024e+05</td> \n",
       "</tr>\n",
       "<tr>\n",
       "  <th>Df Residuals:</th>          <td> 27798</td>      <th>  BIC:               </th>  <td>8.025e+05</td> \n",
       "</tr>\n",
       "<tr>\n",
       "  <th>Df Model:</th>              <td>    15</td>      <th>                     </th>      <td> </td>     \n",
       "</tr>\n",
       "<tr>\n",
       "  <th>Covariance Type:</th>      <td>nonrobust</td>    <th>                     </th>      <td> </td>     \n",
       "</tr>\n",
       "</table>\n",
       "<table class=\"simpletable\">\n",
       "<tr>\n",
       "              <td></td>                <th>coef</th>     <th>std err</th>      <th>t</th>      <th>P>|t|</th>  <th>[0.025</th>    <th>0.975]</th>  \n",
       "</tr>\n",
       "<tr>\n",
       "  <th>Intercept</th>                <td>-5.134e+05</td> <td> 1.39e+04</td> <td>  -36.869</td> <td> 0.000</td> <td>-5.41e+05</td> <td>-4.86e+05</td>\n",
       "</tr>\n",
       "<tr>\n",
       "  <th>SqFtTotLiving</th>            <td>  184.0391</td> <td>    4.097</td> <td>   44.924</td> <td> 0.000</td> <td>  176.009</td> <td>  192.069</td>\n",
       "</tr>\n",
       "<tr>\n",
       "  <th>Lake_Sammamish</th>           <td> 1.503e+06</td> <td> 1.01e+05</td> <td>   14.884</td> <td> 0.000</td> <td>  1.3e+06</td> <td>  1.7e+06</td>\n",
       "</tr>\n",
       "<tr>\n",
       "  <th>Lake_Washington</th>          <td> 1.231e+06</td> <td> 5.11e+04</td> <td>   24.074</td> <td> 0.000</td> <td> 1.13e+06</td> <td> 1.33e+06</td>\n",
       "</tr>\n",
       "<tr>\n",
       "  <th>Puget_Sound</th>              <td> 1.988e+05</td> <td> 5.54e+04</td> <td>    3.588</td> <td> 0.000</td> <td> 9.02e+04</td> <td> 3.07e+05</td>\n",
       "</tr>\n",
       "<tr>\n",
       "  <th>Ship_Canal</th>               <td> 6.247e+05</td> <td> 1.72e+05</td> <td>    3.638</td> <td> 0.000</td> <td> 2.88e+05</td> <td> 9.61e+05</td>\n",
       "</tr>\n",
       "<tr>\n",
       "  <th>TrafficNoise</th>             <td> 2.136e+04</td> <td> 4803.224</td> <td>    4.446</td> <td> 0.000</td> <td> 1.19e+04</td> <td> 3.08e+04</td>\n",
       "</tr>\n",
       "<tr>\n",
       "  <th>PowerLines</th>               <td>-9.309e+04</td> <td> 2.62e+04</td> <td>   -3.559</td> <td> 0.000</td> <td>-1.44e+05</td> <td>-4.18e+04</td>\n",
       "</tr>\n",
       "<tr>\n",
       "  <th>Has_EnclosedPorch</th>        <td>  8.07e+04</td> <td> 1.27e+04</td> <td>    6.345</td> <td> 0.000</td> <td> 5.58e+04</td> <td> 1.06e+05</td>\n",
       "</tr>\n",
       "<tr>\n",
       "  <th>View_Olympics</th>            <td> 8.019e+04</td> <td> 9119.313</td> <td>    8.794</td> <td> 0.000</td> <td> 6.23e+04</td> <td> 9.81e+04</td>\n",
       "</tr>\n",
       "<tr>\n",
       "  <th>View_PugetSound</th>          <td> 3.015e+04</td> <td> 1.01e+04</td> <td>    2.986</td> <td> 0.003</td> <td> 1.04e+04</td> <td> 4.99e+04</td>\n",
       "</tr>\n",
       "<tr>\n",
       "  <th>View_LakeWashington</th>      <td> 2.072e+05</td> <td> 8518.087</td> <td>   24.324</td> <td> 0.000</td> <td>  1.9e+05</td> <td> 2.24e+05</td>\n",
       "</tr>\n",
       "<tr>\n",
       "  <th>View_LakeSammamish</th>       <td> 6.527e+04</td> <td>  1.9e+04</td> <td>    3.436</td> <td> 0.001</td> <td>  2.8e+04</td> <td> 1.02e+05</td>\n",
       "</tr>\n",
       "<tr>\n",
       "  <th>View_SmallLakeRiverCreek</th> <td>  5.63e+04</td> <td> 1.02e+04</td> <td>    5.527</td> <td> 0.000</td> <td> 3.63e+04</td> <td> 7.63e+04</td>\n",
       "</tr>\n",
       "<tr>\n",
       "  <th>SqFtLot</th>                  <td>   -0.3308</td> <td>    0.070</td> <td>   -4.730</td> <td> 0.000</td> <td>   -0.468</td> <td>   -0.194</td>\n",
       "</tr>\n",
       "<tr>\n",
       "  <th>BldgGrade</th>                <td> 1.531e+05</td> <td> 3241.897</td> <td>   47.224</td> <td> 0.000</td> <td> 1.47e+05</td> <td> 1.59e+05</td>\n",
       "</tr>\n",
       "</table>\n",
       "<table class=\"simpletable\">\n",
       "<tr>\n",
       "  <th>Omnibus:</th>       <td>28301.033</td> <th>  Durbin-Watson:     </th>  <td>   1.042</td>  \n",
       "</tr>\n",
       "<tr>\n",
       "  <th>Prob(Omnibus):</th>  <td> 0.000</td>   <th>  Jarque-Bera (JB):  </th> <td>4378853.552</td>\n",
       "</tr>\n",
       "<tr>\n",
       "  <th>Skew:</th>           <td> 4.708</td>   <th>  Prob(JB):          </th>  <td>    0.00</td>  \n",
       "</tr>\n",
       "<tr>\n",
       "  <th>Kurtosis:</th>       <td>63.743</td>   <th>  Cond. No.          </th>  <td>2.70e+06</td>  \n",
       "</tr>\n",
       "</table><br/><br/>Warnings:<br/>[1] Standard Errors assume that the covariance matrix of the errors is correctly specified.<br/>[2] The condition number is large, 2.7e+06. This might indicate that there are<br/>strong multicollinearity or other numerical problems."
      ],
      "text/plain": [
       "<class 'statsmodels.iolib.summary.Summary'>\n",
       "\"\"\"\n",
       "                            OLS Regression Results                            \n",
       "==============================================================================\n",
       "Dep. Variable:              SalePrice   R-squared:                       0.459\n",
       "Model:                            OLS   Adj. R-squared:                  0.459\n",
       "Method:                 Least Squares   F-statistic:                     1574.\n",
       "Date:                Wed, 30 Sep 2020   Prob (F-statistic):               0.00\n",
       "Time:                        11:02:21   Log-Likelihood:            -4.0118e+05\n",
       "No. Observations:               27814   AIC:                         8.024e+05\n",
       "Df Residuals:                   27798   BIC:                         8.025e+05\n",
       "Df Model:                          15                                         \n",
       "Covariance Type:            nonrobust                                         \n",
       "============================================================================================\n",
       "                               coef    std err          t      P>|t|      [0.025      0.975]\n",
       "--------------------------------------------------------------------------------------------\n",
       "Intercept                -5.134e+05   1.39e+04    -36.869      0.000   -5.41e+05   -4.86e+05\n",
       "SqFtTotLiving              184.0391      4.097     44.924      0.000     176.009     192.069\n",
       "Lake_Sammamish            1.503e+06   1.01e+05     14.884      0.000     1.3e+06     1.7e+06\n",
       "Lake_Washington           1.231e+06   5.11e+04     24.074      0.000    1.13e+06    1.33e+06\n",
       "Puget_Sound               1.988e+05   5.54e+04      3.588      0.000    9.02e+04    3.07e+05\n",
       "Ship_Canal                6.247e+05   1.72e+05      3.638      0.000    2.88e+05    9.61e+05\n",
       "TrafficNoise              2.136e+04   4803.224      4.446      0.000    1.19e+04    3.08e+04\n",
       "PowerLines               -9.309e+04   2.62e+04     -3.559      0.000   -1.44e+05   -4.18e+04\n",
       "Has_EnclosedPorch          8.07e+04   1.27e+04      6.345      0.000    5.58e+04    1.06e+05\n",
       "View_Olympics             8.019e+04   9119.313      8.794      0.000    6.23e+04    9.81e+04\n",
       "View_PugetSound           3.015e+04   1.01e+04      2.986      0.003    1.04e+04    4.99e+04\n",
       "View_LakeWashington       2.072e+05   8518.087     24.324      0.000     1.9e+05    2.24e+05\n",
       "View_LakeSammamish        6.527e+04    1.9e+04      3.436      0.001     2.8e+04    1.02e+05\n",
       "View_SmallLakeRiverCreek   5.63e+04   1.02e+04      5.527      0.000    3.63e+04    7.63e+04\n",
       "SqFtLot                     -0.3308      0.070     -4.730      0.000      -0.468      -0.194\n",
       "BldgGrade                 1.531e+05   3241.897     47.224      0.000    1.47e+05    1.59e+05\n",
       "==============================================================================\n",
       "Omnibus:                    28301.033   Durbin-Watson:                   1.042\n",
       "Prob(Omnibus):                  0.000   Jarque-Bera (JB):          4378853.552\n",
       "Skew:                           4.708   Prob(JB):                         0.00\n",
       "Kurtosis:                      63.743   Cond. No.                     2.70e+06\n",
       "==============================================================================\n",
       "\n",
       "Warnings:\n",
       "[1] Standard Errors assume that the covariance matrix of the errors is correctly specified.\n",
       "[2] The condition number is large, 2.7e+06. This might indicate that there are\n",
       "strong multicollinearity or other numerical problems.\n",
       "\"\"\""
      ]
     },
     "execution_count": 420,
     "metadata": {},
     "output_type": "execute_result"
    }
   ],
   "source": [
    "#MI_Model2: remove not statistically significant inputs based on P-value> .05\n",
    "# taking Zip Code out because mutlicolinearity high, 'ZipCode'\n",
    "outcome = 'SalePrice'\n",
    "x_cols = ['SqFtTotLiving', 'Lake_Sammamish', \n",
    "          'Lake_Washington','Puget_Sound', 'Ship_Canal',\n",
    "         'TrafficNoise', 'PowerLines', 'Has_EnclosedPorch', 'View_Olympics', \n",
    "          'View_PugetSound', 'View_LakeWashington',\n",
    "          'View_LakeSammamish','View_SmallLakeRiverCreek', 'SqFtLot','BldgGrade' ]\n",
    "\n",
    "\n",
    "predictors = '+'.join(x_cols)\n",
    "formula = outcome + '~' + predictors\n",
    "mi_model2 = ols(formula=formula, data=comb_df).fit()\n",
    "mi_model2.summary()"
   ]
  },
  {
   "cell_type": "code",
   "execution_count": null,
   "metadata": {},
   "outputs": [],
   "source": []
  },
  {
   "cell_type": "code",
   "execution_count": 421,
   "metadata": {},
   "outputs": [
    {
     "data": {
      "image/png": "[encoded data removed]",
      "text/plain": [
       "<Figure size 432x288 with 1 Axes>"
      ]
     },
     "metadata": {
      "needs_background": "light"
     },
     "output_type": "display_data"
    }
   ],
   "source": [
    "#QQ Plot\n",
    "fig = sm.graphics.qqplot(mi_model2.resid, line='s',dist=stats.norm, fit=True)\n"
   ]
  },
  {
   "cell_type": "code",
   "execution_count": null,
   "metadata": {},
   "outputs": [],
   "source": []
  },
  {
   "cell_type": "code",
   "execution_count": 422,
   "metadata": {},
   "outputs": [
    {
     "data": {
      "image/png": "[encoded data removed]",
      "text/plain": [
       "<Figure size 432x288 with 1 Axes>"
      ]
     },
     "metadata": {
      "needs_background": "light"
     },
     "output_type": "display_data"
    }
   ],
   "source": [
    "# Homoscedasticity Check\n",
    "plt.scatter(mi_model2.predict(comb_df[x_cols]), mi_model2.resid)\n",
    "plt.plot(mi_model2.predict(comb_df[x_cols]), [0 for i in range(len(comb_df))]);"
   ]
  },
  {
   "cell_type": "code",
   "execution_count": null,
   "metadata": {},
   "outputs": [],
   "source": []
  },
  {
   "cell_type": "code",
   "execution_count": 423,
   "metadata": {},
   "outputs": [
    {
     "data": {
      "text/plain": [
       "[('SqFtTotLiving', 12.262731140498255),\n",
       " ('Lake_Sammamish', 2.1117895831048417),\n",
       " ('Lake_Washington', 1.5319463846178147),\n",
       " ('Puget_Sound', 1.3967422488472332),\n",
       " ('Ship_Canal', 1.04375374431683),\n",
       " ('TrafficNoise', 1.1330798575300027),\n",
       " ('PowerLines', 1.020234684531163),\n",
       " ('Has_EnclosedPorch', 1.0598880316074137),\n",
       " ('View_Olympics', 1.8347945824023302),\n",
       " ('View_PugetSound', 2.319990307080393),\n",
       " ('View_LakeWashington', 1.6153218872348927),\n",
       " ('View_LakeSammamish', 2.1275649674749366),\n",
       " ('View_SmallLakeRiverCreek', 1.0536273017612536),\n",
       " ('SqFtLot', 1.2031109825375128),\n",
       " ('BldgGrade', 12.322310780392524)]"
      ]
     },
     "execution_count": 423,
     "metadata": {},
     "output_type": "execute_result"
    }
   ],
   "source": [
    "# Multicolinearity Check\n",
    "X = comb_df[x_cols]\n",
    "vif = [variance_inflation_factor(X.values, i) for i in range(X.shape[1])]\n",
    "list(zip(x_cols, vif))\n"
   ]
  },
  {
   "cell_type": "code",
   "execution_count": 407,
   "metadata": {},
   "outputs": [],
   "source": [
    "#looks like taking out the zip code helped the multicollinearity withSqFtTotLiving WITHOUT BuildingGrade"
   ]
  },
  {
   "cell_type": "code",
   "execution_count": 424,
   "metadata": {},
   "outputs": [
    {
     "name": "stdout",
     "output_type": "stream",
     "text": [
      "Rainbow statistic: 1.0156234581002508\n",
      "Rainbow p-value: 0.18040390072928963\n"
     ]
    }
   ],
   "source": [
    "#Rainbw VIF test\n",
    "rainbow_statistic, rainbow_p_value = linear_rainbow(mi_model2)\n",
    "print(\"Rainbow statistic:\", rainbow_statistic)\n",
    "print(\"Rainbow p-value:\", rainbow_p_value)"
   ]
  },
  {
   "cell_type": "code",
   "execution_count": null,
   "metadata": {},
   "outputs": [],
   "source": []
  },
  {
   "cell_type": "code",
   "execution_count": null,
   "metadata": {},
   "outputs": [],
   "source": []
  },
  {
   "cell_type": "code",
   "execution_count": 426,
   "metadata": {},
   "outputs": [
    {
     "data": {
      "text/html": [
       "<table class=\"simpletable\">\n",
       "<caption>OLS Regression Results</caption>\n",
       "<tr>\n",
       "  <th>Dep. Variable:</th>        <td>SalePrice</td>    <th>  R-squared:         </th>  <td>   0.420</td>  \n",
       "</tr>\n",
       "<tr>\n",
       "  <th>Model:</th>                   <td>OLS</td>       <th>  Adj. R-squared:    </th>  <td>   0.420</td>  \n",
       "</tr>\n",
       "<tr>\n",
       "  <th>Method:</th>             <td>Least Squares</td>  <th>  F-statistic:       </th>  <td>   1549.</td>  \n",
       "</tr>\n",
       "<tr>\n",
       "  <th>Date:</th>             <td>Wed, 30 Sep 2020</td> <th>  Prob (F-statistic):</th>   <td>  0.00</td>   \n",
       "</tr>\n",
       "<tr>\n",
       "  <th>Time:</th>                 <td>11:04:00</td>     <th>  Log-Likelihood:    </th> <td>-4.0216e+05</td>\n",
       "</tr>\n",
       "<tr>\n",
       "  <th>No. Observations:</th>      <td> 27814</td>      <th>  AIC:               </th>  <td>8.043e+05</td> \n",
       "</tr>\n",
       "<tr>\n",
       "  <th>Df Residuals:</th>          <td> 27800</td>      <th>  BIC:               </th>  <td>8.045e+05</td> \n",
       "</tr>\n",
       "<tr>\n",
       "  <th>Df Model:</th>              <td>    13</td>      <th>                     </th>      <td> </td>     \n",
       "</tr>\n",
       "<tr>\n",
       "  <th>Covariance Type:</th>      <td>nonrobust</td>    <th>                     </th>      <td> </td>     \n",
       "</tr>\n",
       "</table>\n",
       "<table class=\"simpletable\">\n",
       "<tr>\n",
       "              <td></td>                <th>coef</th>     <th>std err</th>      <th>t</th>      <th>P>|t|</th>  <th>[0.025</th>    <th>0.975]</th>  \n",
       "</tr>\n",
       "<tr>\n",
       "  <th>Intercept</th>                <td>-7.221e+05</td> <td> 1.36e+04</td> <td>  -53.116</td> <td> 0.000</td> <td>-7.49e+05</td> <td>-6.95e+05</td>\n",
       "</tr>\n",
       "<tr>\n",
       "  <th>Lake_Sammamish</th>           <td> 1.507e+06</td> <td> 1.05e+05</td> <td>   14.410</td> <td> 0.000</td> <td>  1.3e+06</td> <td> 1.71e+06</td>\n",
       "</tr>\n",
       "<tr>\n",
       "  <th>Lake_Washington</th>          <td> 1.184e+06</td> <td>  5.3e+04</td> <td>   22.353</td> <td> 0.000</td> <td> 1.08e+06</td> <td> 1.29e+06</td>\n",
       "</tr>\n",
       "<tr>\n",
       "  <th>Puget_Sound</th>              <td> 1.536e+05</td> <td> 5.74e+04</td> <td>    2.678</td> <td> 0.007</td> <td> 4.12e+04</td> <td> 2.66e+05</td>\n",
       "</tr>\n",
       "<tr>\n",
       "  <th>Ship_Canal</th>               <td> 5.575e+05</td> <td> 1.78e+05</td> <td>    3.135</td> <td> 0.002</td> <td> 2.09e+05</td> <td> 9.06e+05</td>\n",
       "</tr>\n",
       "<tr>\n",
       "  <th>TrafficNoise</th>             <td> 1.291e+04</td> <td> 4970.388</td> <td>    2.598</td> <td> 0.009</td> <td> 3172.054</td> <td> 2.27e+04</td>\n",
       "</tr>\n",
       "<tr>\n",
       "  <th>PowerLines</th>               <td> -7.84e+04</td> <td>  2.7e+04</td> <td>   -2.907</td> <td> 0.004</td> <td>-1.31e+05</td> <td>-2.55e+04</td>\n",
       "</tr>\n",
       "<tr>\n",
       "  <th>Has_EnclosedPorch</th>        <td> 3.207e+04</td> <td> 1.31e+04</td> <td>    2.443</td> <td> 0.015</td> <td> 6343.775</td> <td> 5.78e+04</td>\n",
       "</tr>\n",
       "<tr>\n",
       "  <th>View_Olympics</th>            <td> 9.149e+04</td> <td> 9440.082</td> <td>    9.692</td> <td> 0.000</td> <td>  7.3e+04</td> <td>  1.1e+05</td>\n",
       "</tr>\n",
       "<tr>\n",
       "  <th>View_PugetSound</th>          <td> 3.311e+04</td> <td> 1.05e+04</td> <td>    3.167</td> <td> 0.002</td> <td> 1.26e+04</td> <td> 5.36e+04</td>\n",
       "</tr>\n",
       "<tr>\n",
       "  <th>View_LakeWashington</th>      <td> 2.301e+05</td> <td> 8803.482</td> <td>   26.137</td> <td> 0.000</td> <td> 2.13e+05</td> <td> 2.47e+05</td>\n",
       "</tr>\n",
       "<tr>\n",
       "  <th>View_LakeSammamish</th>       <td> 7.794e+04</td> <td> 1.97e+04</td> <td>    3.963</td> <td> 0.000</td> <td> 3.94e+04</td> <td> 1.16e+05</td>\n",
       "</tr>\n",
       "<tr>\n",
       "  <th>View_SmallLakeRiverCreek</th> <td> 6.698e+04</td> <td> 1.05e+04</td> <td>    6.357</td> <td> 0.000</td> <td> 4.63e+04</td> <td> 8.76e+04</td>\n",
       "</tr>\n",
       "<tr>\n",
       "  <th>BldgGrade</th>                <td>  2.59e+05</td> <td> 2301.783</td> <td>  112.540</td> <td> 0.000</td> <td> 2.55e+05</td> <td> 2.64e+05</td>\n",
       "</tr>\n",
       "</table>\n",
       "<table class=\"simpletable\">\n",
       "<tr>\n",
       "  <th>Omnibus:</th>       <td>27634.955</td> <th>  Durbin-Watson:     </th>  <td>   1.073</td>  \n",
       "</tr>\n",
       "<tr>\n",
       "  <th>Prob(Omnibus):</th>  <td> 0.000</td>   <th>  Jarque-Bera (JB):  </th> <td>3528907.233</td>\n",
       "</tr>\n",
       "<tr>\n",
       "  <th>Skew:</th>           <td> 4.584</td>   <th>  Prob(JB):          </th>  <td>    0.00</td>  \n",
       "</tr>\n",
       "<tr>\n",
       "  <th>Kurtosis:</th>       <td>57.415</td>   <th>  Cond. No.          </th>  <td>    385.</td>  \n",
       "</tr>\n",
       "</table><br/><br/>Warnings:<br/>[1] Standard Errors assume that the covariance matrix of the errors is correctly specified."
      ],
      "text/plain": [
       "<class 'statsmodels.iolib.summary.Summary'>\n",
       "\"\"\"\n",
       "                            OLS Regression Results                            \n",
       "==============================================================================\n",
       "Dep. Variable:              SalePrice   R-squared:                       0.420\n",
       "Model:                            OLS   Adj. R-squared:                  0.420\n",
       "Method:                 Least Squares   F-statistic:                     1549.\n",
       "Date:                Wed, 30 Sep 2020   Prob (F-statistic):               0.00\n",
       "Time:                        11:04:00   Log-Likelihood:            -4.0216e+05\n",
       "No. Observations:               27814   AIC:                         8.043e+05\n",
       "Df Residuals:                   27800   BIC:                         8.045e+05\n",
       "Df Model:                          13                                         \n",
       "Covariance Type:            nonrobust                                         \n",
       "============================================================================================\n",
       "                               coef    std err          t      P>|t|      [0.025      0.975]\n",
       "--------------------------------------------------------------------------------------------\n",
       "Intercept                -7.221e+05   1.36e+04    -53.116      0.000   -7.49e+05   -6.95e+05\n",
       "Lake_Sammamish            1.507e+06   1.05e+05     14.410      0.000     1.3e+06    1.71e+06\n",
       "Lake_Washington           1.184e+06    5.3e+04     22.353      0.000    1.08e+06    1.29e+06\n",
       "Puget_Sound               1.536e+05   5.74e+04      2.678      0.007    4.12e+04    2.66e+05\n",
       "Ship_Canal                5.575e+05   1.78e+05      3.135      0.002    2.09e+05    9.06e+05\n",
       "TrafficNoise              1.291e+04   4970.388      2.598      0.009    3172.054    2.27e+04\n",
       "PowerLines                -7.84e+04    2.7e+04     -2.907      0.004   -1.31e+05   -2.55e+04\n",
       "Has_EnclosedPorch         3.207e+04   1.31e+04      2.443      0.015    6343.775    5.78e+04\n",
       "View_Olympics             9.149e+04   9440.082      9.692      0.000     7.3e+04     1.1e+05\n",
       "View_PugetSound           3.311e+04   1.05e+04      3.167      0.002    1.26e+04    5.36e+04\n",
       "View_LakeWashington       2.301e+05   8803.482     26.137      0.000    2.13e+05    2.47e+05\n",
       "View_LakeSammamish        7.794e+04   1.97e+04      3.963      0.000    3.94e+04    1.16e+05\n",
       "View_SmallLakeRiverCreek  6.698e+04   1.05e+04      6.357      0.000    4.63e+04    8.76e+04\n",
       "BldgGrade                  2.59e+05   2301.783    112.540      0.000    2.55e+05    2.64e+05\n",
       "==============================================================================\n",
       "Omnibus:                    27634.955   Durbin-Watson:                   1.073\n",
       "Prob(Omnibus):                  0.000   Jarque-Bera (JB):          3528907.233\n",
       "Skew:                           4.584   Prob(JB):                         0.00\n",
       "Kurtosis:                      57.415   Cond. No.                         385.\n",
       "==============================================================================\n",
       "\n",
       "Warnings:\n",
       "[1] Standard Errors assume that the covariance matrix of the errors is correctly specified.\n",
       "\"\"\""
      ]
     },
     "execution_count": 426,
     "metadata": {},
     "output_type": "execute_result"
    }
   ],
   "source": [
    "#MI_Model3: remove not statistically significant inputs based on P-value> .05\n",
    "# taking because mutlicolinearity high: ' 'SqFtTotLiving', \n",
    "#took out 'SqFtLot' because p value .09 in mi_model3\n",
    "outcome = 'SalePrice'\n",
    "x_cols = ['Lake_Sammamish', \n",
    "          'Lake_Washington','Puget_Sound', 'Ship_Canal',\n",
    "         'TrafficNoise', 'PowerLines', 'Has_EnclosedPorch', 'View_Olympics', \n",
    "          'View_PugetSound', 'View_LakeWashington',\n",
    "          'View_LakeSammamish','View_SmallLakeRiverCreek', 'BldgGrade' ]\n",
    "\n",
    "\n",
    "predictors = '+'.join(x_cols)\n",
    "formula = outcome + '~' + predictors\n",
    "mi_model3 = ols(formula=formula, data=comb_df).fit()\n",
    "mi_model3.summary()"
   ]
  },
  {
   "cell_type": "code",
   "execution_count": 427,
   "metadata": {},
   "outputs": [
    {
     "data": {
      "image/png": "[encoded data removed]",
      "text/plain": [
       "<Figure size 432x288 with 1 Axes>"
      ]
     },
     "metadata": {
      "needs_background": "light"
     },
     "output_type": "display_data"
    }
   ],
   "source": [
    "#QQ Plot\n",
    "fig = sm.graphics.qqplot(mi_model3.resid, line='s',dist=stats.norm, fit=True)\n"
   ]
  },
  {
   "cell_type": "code",
   "execution_count": 428,
   "metadata": {},
   "outputs": [
    {
     "data": {
      "image/png": "[encoded data removed]",
      "text/plain": [
       "<Figure size 432x288 with 1 Axes>"
      ]
     },
     "metadata": {
      "needs_background": "light"
     },
     "output_type": "display_data"
    }
   ],
   "source": [
    "# Homoscedasticity Check\n",
    "plt.scatter(mi_model3.predict(comb_df[x_cols]), mi_model3.resid)\n",
    "plt.plot(mi_model3.predict(comb_df[x_cols]), [0 for i in range(len(comb_df))]);"
   ]
  },
  {
   "cell_type": "code",
   "execution_count": 429,
   "metadata": {},
   "outputs": [
    {
     "data": {
      "text/plain": [
       "[('Lake_Sammamish', 2.1116982863701548),\n",
       " ('Lake_Washington', 1.5316550702816394),\n",
       " ('Puget_Sound', 1.3951970448578976),\n",
       " ('Ship_Canal', 1.0435096930483994),\n",
       " ('TrafficNoise', 1.1253206610966797),\n",
       " ('PowerLines', 1.0114157557053802),\n",
       " ('Has_EnclosedPorch', 1.0471128729272643),\n",
       " ('View_Olympics', 1.8308540271041862),\n",
       " ('View_PugetSound', 2.319804895242656),\n",
       " ('View_LakeWashington', 1.6026942856774433),\n",
       " ('View_LakeSammamish', 2.1240525862393533),\n",
       " ('View_SmallLakeRiverCreek', 1.0512392007449243),\n",
       " ('BldgGrade', 1.2430493665843552)]"
      ]
     },
     "execution_count": 429,
     "metadata": {},
     "output_type": "execute_result"
    }
   ],
   "source": [
    "# Multicolinearity Check\n",
    "X = comb_df[x_cols]\n",
    "vif = [variance_inflation_factor(X.values, i) for i in range(X.shape[1])]\n",
    "list(zip(x_cols, vif))\n"
   ]
  },
  {
   "cell_type": "code",
   "execution_count": null,
   "metadata": {},
   "outputs": [],
   "source": []
  },
  {
   "cell_type": "code",
   "execution_count": 430,
   "metadata": {},
   "outputs": [
    {
     "name": "stdout",
     "output_type": "stream",
     "text": [
      "Rainbow statistic: 1.0148341355541872\n",
      "Rainbow p-value: 0.19268915996403224\n"
     ]
    }
   ],
   "source": [
    "#Rainbw VIF test\n",
    "rainbow_statistic, rainbow_p_value = linear_rainbow(mi_model3)\n",
    "print(\"Rainbow statistic:\", rainbow_statistic)\n",
    "print(\"Rainbow p-value:\", rainbow_p_value)"
   ]
  },
  {
   "cell_type": "code",
   "execution_count": null,
   "metadata": {},
   "outputs": [],
   "source": []
  },
  {
   "cell_type": "code",
   "execution_count": null,
   "metadata": {},
   "outputs": [],
   "source": []
  },
  {
   "cell_type": "code",
   "execution_count": null,
   "metadata": {},
   "outputs": [],
   "source": []
  }
 ],
 "metadata": {
  "kernelspec": {
   "display_name": "learn-env",
   "language": "python",
   "name": "learn-env"
  },
  "language_info": {
   "codemirror_mode": {
    "name": "ipython",
    "version": 3
   },
   "file_extension": ".py",
   "mimetype": "text/x-python",
   "name": "python",
   "nbconvert_exporter": "python",
   "pygments_lexer": "ipython3",
   "version": "3.8.3"
  }
 },
 "nbformat": 4,
 "nbformat_minor": 4
}
